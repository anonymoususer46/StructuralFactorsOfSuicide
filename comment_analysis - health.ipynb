{
 "cells": [
  {
   "cell_type": "code",
   "execution_count": 59,
   "metadata": {},
   "outputs": [],
   "source": [
    "# # dependency installation\n",
    "# !pip install typing_extensions==4.6.1 pydantic pydantic-core cuml umap-learn pandas numpy matplotlib scikit-learn nltk langdetect bertopic[spacy] openai\n",
    "# !pip install bertopic flair"
   ]
  },
  {
   "cell_type": "code",
   "execution_count": 127,
   "metadata": {},
   "outputs": [],
   "source": [
    "# Load dependencies\n",
    "import pandas as pd\n",
    "import numpy as np\n",
    "import matplotlib.pyplot as plt\n",
    "import pandas as pd\n",
    "import re\n",
    "from sklearn.feature_extraction.text import TfidfVectorizer\n",
    "from nltk import download\n",
    "import nltk\n",
    "from nltk.corpus import stopwords\n",
    "from wordcloud import WordCloud\n",
    "import json\n",
    "from nltk.stem import WordNetLemmatizer\n",
    "import os\n",
    "\n",
    "from bertopic.representation import KeyBERTInspired\n",
    "from bertopic.representation import PartOfSpeech\n",
    "from bertopic.representation import MaximalMarginalRelevance\n",
    "from bertopic.representation import OpenAI\n",
    "from bertopic import BERTopic\n",
    "from bertopic.vectorizers import ClassTfidfTransformer\n",
    "from bertopic.representation import MaximalMarginalRelevance\n",
    "from bertopic.representation import OpenAI\n",
    "from sklearn.feature_extraction.text import CountVectorizer\n",
    "from sklearn.cluster import DBSCAN\n",
    "from sentence_transformers import SentenceTransformer\n",
    "from wordcloud import WordCloud\n",
    "import umap\n",
    "import matplotlib.pyplot as plt\n",
    "import openai\n",
    "import gensim.corpora as corpora\n",
    "from gensim.models.coherencemodel import CoherenceModel\n",
    "from bertopic import BERTopic  \n",
    "from sklearn.metrics import silhouette_score\n",
    "\n",
    "#find stop words, along with recipe realted stopwords\n",
    "stop = stopwords.words('english')\n",
    "\n",
    "FinancialLabel = \"Financial/Job Problem\"\n",
    "Legallabel = \"Legal Problem\"\n",
    "SchoolLabel = \"School or Academic Related Problem\"\n",
    "HealthLabel = \"Lack of Access to Health/Mental Health Care\"\n",
    "FinancialPredicted = \"Financial - Predicted\"\n",
    "LegalPredicted = \"Legal - Predicted\"\n",
    "SchoolPredicted = \"School - Predicted\"\n",
    "HealthPredicted = \"Health - Predicted\"\n"
   ]
  },
  {
   "cell_type": "markdown",
   "metadata": {},
   "source": [
    "## Topic Modeling"
   ]
  },
  {
   "cell_type": "code",
   "execution_count": 128,
   "metadata": {},
   "outputs": [
    {
     "name": "stdout",
     "output_type": "stream",
     "text": [
      "before:  3756\n",
      "after:  3756\n"
     ]
    }
   ],
   "source": [
    "# Pile all comments into single array\n",
    "\n",
    "fix = HealthLabel\n",
    "col = HealthPredicted\n",
    "\n",
    "data = pd.read_csv('final working dataset with only suicide articles.csv')\n",
    "data = data[data[fix] > 0]\n",
    "comments_all = data['Only Reason']\n",
    "print(\"before: \",len(comments_all))\n",
    "comments_all = comments_all.dropna()\n",
    "\n",
    "print(\"after: \",len(comments_all))"
   ]
  },
  {
   "cell_type": "code",
   "execution_count": 129,
   "metadata": {},
   "outputs": [
    {
     "data": {
      "text/plain": [
       "3756"
      ]
     },
     "execution_count": 129,
     "metadata": {},
     "output_type": "execute_result"
    }
   ],
   "source": [
    "len(comments_all)\n",
    "comments_all = comments_all.to_list()\n",
    "len(comments_all)"
   ]
  },
  {
   "cell_type": "code",
   "execution_count": 130,
   "metadata": {},
   "outputs": [],
   "source": [
    "# seed topics\n",
    "SEED_TOPICS_FLAG = False # seeds topics that model will attempt to converge to\n",
    "# hdbscan params\n",
    "MIN_CLUSTER_SIZE = 15\n",
    "\n",
    "PRETRAINED_SENTENCE_MODEL = 'all-mpnet-base-v2'"
   ]
  },
  {
   "cell_type": "code",
   "execution_count": 131,
   "metadata": {},
   "outputs": [],
   "source": [
    "import os\n",
    "os.environ[\"TOKENIZERS_PARALLELISM\"] = \"false\""
   ]
  },
  {
   "cell_type": "code",
   "execution_count": 132,
   "metadata": {},
   "outputs": [
    {
     "name": "stderr",
     "output_type": "stream",
     "text": [
      "Batches: 100%|██████████| 118/118 [02:01<00:00,  1.03s/it]\n"
     ]
    }
   ],
   "source": [
    "sentence_model = SentenceTransformer(PRETRAINED_SENTENCE_MODEL)\n",
    "embeddings = sentence_model.encode(comments_all, show_progress_bar=True)"
   ]
  },
  {
   "cell_type": "code",
   "execution_count": 106,
   "metadata": {},
   "outputs": [],
   "source": [
    "# init model\n",
    "stopwords = stopwords.words('english')\n",
    "umap_model = umap.UMAP(n_neighbors=10, n_components=5, \n",
    "                  min_dist=0.0, metric='cosine', random_state=42)\n",
    "vectorizer_model = CountVectorizer(stop_words=stopwords, ngram_range=(1,2))\n",
    "ctfidf_model = ClassTfidfTransformer(reduce_frequent_words=True)\n",
    "representation_model = KeyBERTInspired()"
   ]
  },
  {
   "cell_type": "code",
   "execution_count": 100,
   "metadata": {},
   "outputs": [
    {
     "ename": "KeyboardInterrupt",
     "evalue": "",
     "output_type": "error",
     "traceback": [
      "\u001b[0;31m---------------------------------------------------------------------------\u001b[0m",
      "\u001b[0;31mKeyboardInterrupt\u001b[0m                         Traceback (most recent call last)",
      "\u001b[1;32m/Users/minijain/Downloads/SocWebLab/Structural_Violence/comment_analysis - health.ipynb Cell 10\u001b[0m line \u001b[0;36m1\n\u001b[1;32m      <a href='vscode-notebook-cell:/Users/minijain/Downloads/SocWebLab/Structural_Violence/comment_analysis%20-%20health.ipynb#X12sZmlsZQ%3D%3D?line=0'>1</a>\u001b[0m \u001b[39m#for siz in range(6, 7):\u001b[39;00m\n\u001b[1;32m      <a href='vscode-notebook-cell:/Users/minijain/Downloads/SocWebLab/Structural_Violence/comment_analysis%20-%20health.ipynb#X12sZmlsZQ%3D%3D?line=2'>3</a>\u001b[0m model \u001b[39m=\u001b[39m BERTopic(top_n_words \u001b[39m=\u001b[39m \u001b[39m10\u001b[39m,\n\u001b[1;32m      <a href='vscode-notebook-cell:/Users/minijain/Downloads/SocWebLab/Structural_Violence/comment_analysis%20-%20health.ipynb#X12sZmlsZQ%3D%3D?line=3'>4</a>\u001b[0m                     n_gram_range \u001b[39m=\u001b[39m (\u001b[39m1\u001b[39m,\u001b[39m2\u001b[39m),\n\u001b[1;32m      <a href='vscode-notebook-cell:/Users/minijain/Downloads/SocWebLab/Structural_Violence/comment_analysis%20-%20health.ipynb#X12sZmlsZQ%3D%3D?line=4'>5</a>\u001b[0m                     language\u001b[39m=\u001b[39m\u001b[39m\"\u001b[39m\u001b[39menglish\u001b[39m\u001b[39m\"\u001b[39m,\n\u001b[0;32m   (...)\u001b[0m\n\u001b[1;32m     <a href='vscode-notebook-cell:/Users/minijain/Downloads/SocWebLab/Structural_Violence/comment_analysis%20-%20health.ipynb#X12sZmlsZQ%3D%3D?line=9'>10</a>\u001b[0m                     vectorizer_model\u001b[39m=\u001b[39mvectorizer_model,\n\u001b[1;32m     <a href='vscode-notebook-cell:/Users/minijain/Downloads/SocWebLab/Structural_Violence/comment_analysis%20-%20health.ipynb#X12sZmlsZQ%3D%3D?line=10'>11</a>\u001b[0m                     umap_model\u001b[39m=\u001b[39mumap_model)\n\u001b[0;32m---> <a href='vscode-notebook-cell:/Users/minijain/Downloads/SocWebLab/Structural_Violence/comment_analysis%20-%20health.ipynb#X12sZmlsZQ%3D%3D?line=12'>13</a>\u001b[0m topics, probs \u001b[39m=\u001b[39m model\u001b[39m.\u001b[39;49mfit_transform(comments_all, embeddings)\n\u001b[1;32m     <a href='vscode-notebook-cell:/Users/minijain/Downloads/SocWebLab/Structural_Violence/comment_analysis%20-%20health.ipynb#X12sZmlsZQ%3D%3D?line=14'>15</a>\u001b[0m cleaned_docs \u001b[39m=\u001b[39m model\u001b[39m.\u001b[39m_preprocess_text(comments_all)\n\u001b[1;32m     <a href='vscode-notebook-cell:/Users/minijain/Downloads/SocWebLab/Structural_Violence/comment_analysis%20-%20health.ipynb#X12sZmlsZQ%3D%3D?line=15'>16</a>\u001b[0m vectorizer \u001b[39m=\u001b[39m model\u001b[39m.\u001b[39mvectorizer_model\n",
      "File \u001b[0;32m~/Library/Python/3.9/lib/python/site-packages/bertopic/_bertopic.py:408\u001b[0m, in \u001b[0;36mBERTopic.fit_transform\u001b[0;34m(self, documents, embeddings, images, y)\u001b[0m\n\u001b[1;32m    405\u001b[0m         \u001b[39mreturn\u001b[39;00m \u001b[39mself\u001b[39m\u001b[39m.\u001b[39m_combine_zeroshot_topics(documents, assigned_documents, assigned_embeddings)\n\u001b[1;32m    407\u001b[0m \u001b[39m# Reduce dimensionality\u001b[39;00m\n\u001b[0;32m--> 408\u001b[0m umap_embeddings \u001b[39m=\u001b[39m \u001b[39mself\u001b[39;49m\u001b[39m.\u001b[39;49m_reduce_dimensionality(embeddings, y)\n\u001b[1;32m    410\u001b[0m \u001b[39m# Cluster reduced embeddings\u001b[39;00m\n\u001b[1;32m    411\u001b[0m documents, probabilities \u001b[39m=\u001b[39m \u001b[39mself\u001b[39m\u001b[39m.\u001b[39m_cluster_embeddings(umap_embeddings, documents, y\u001b[39m=\u001b[39my)\n",
      "File \u001b[0;32m~/Library/Python/3.9/lib/python/site-packages/bertopic/_bertopic.py:3355\u001b[0m, in \u001b[0;36mBERTopic._reduce_dimensionality\u001b[0;34m(self, embeddings, y, partial_fit)\u001b[0m\n\u001b[1;32m   3352\u001b[0m \u001b[39mtry\u001b[39;00m:\n\u001b[1;32m   3353\u001b[0m     \u001b[39m# cuml umap needs y to be an numpy array\u001b[39;00m\n\u001b[1;32m   3354\u001b[0m     y \u001b[39m=\u001b[39m np\u001b[39m.\u001b[39marray(y) \u001b[39mif\u001b[39;00m y \u001b[39mis\u001b[39;00m \u001b[39mnot\u001b[39;00m \u001b[39mNone\u001b[39;00m \u001b[39melse\u001b[39;00m \u001b[39mNone\u001b[39;00m\n\u001b[0;32m-> 3355\u001b[0m     \u001b[39mself\u001b[39;49m\u001b[39m.\u001b[39;49mumap_model\u001b[39m.\u001b[39;49mfit(embeddings, y\u001b[39m=\u001b[39;49my)\n\u001b[1;32m   3356\u001b[0m \u001b[39mexcept\u001b[39;00m \u001b[39mTypeError\u001b[39;00m:\n\u001b[1;32m   3358\u001b[0m     \u001b[39mself\u001b[39m\u001b[39m.\u001b[39mumap_model\u001b[39m.\u001b[39mfit(embeddings)\n",
      "File \u001b[0;32m~/Library/Python/3.9/lib/python/site-packages/umap/umap_.py:2528\u001b[0m, in \u001b[0;36mUMAP.fit\u001b[0;34m(self, X, y, force_all_finite)\u001b[0m\n\u001b[1;32m   2525\u001b[0m \u001b[39mtry\u001b[39;00m:\n\u001b[1;32m   2526\u001b[0m     \u001b[39m# sklearn pairwise_distances fails for callable metric on sparse data\u001b[39;00m\n\u001b[1;32m   2527\u001b[0m     _m \u001b[39m=\u001b[39m \u001b[39mself\u001b[39m\u001b[39m.\u001b[39mmetric \u001b[39mif\u001b[39;00m \u001b[39mself\u001b[39m\u001b[39m.\u001b[39m_sparse_data \u001b[39melse\u001b[39;00m \u001b[39mself\u001b[39m\u001b[39m.\u001b[39m_input_distance_func\n\u001b[0;32m-> 2528\u001b[0m     dmat \u001b[39m=\u001b[39m pairwise_distances(X[index], metric\u001b[39m=\u001b[39;49m_m, \u001b[39m*\u001b[39;49m\u001b[39m*\u001b[39;49m\u001b[39mself\u001b[39;49m\u001b[39m.\u001b[39;49m_metric_kwds)\n\u001b[1;32m   2529\u001b[0m \u001b[39mexcept\u001b[39;00m (\u001b[39mValueError\u001b[39;00m, \u001b[39mTypeError\u001b[39;00m) \u001b[39mas\u001b[39;00m e:\n\u001b[1;32m   2530\u001b[0m     \u001b[39m# metric is numba.jit'd or not supported by sklearn,\u001b[39;00m\n\u001b[1;32m   2531\u001b[0m     \u001b[39m# fallback to pairwise special\u001b[39;00m\n\u001b[1;32m   2533\u001b[0m     \u001b[39mif\u001b[39;00m \u001b[39mself\u001b[39m\u001b[39m.\u001b[39m_sparse_data:\n\u001b[1;32m   2534\u001b[0m         \u001b[39m# Get a fresh metric since we are casting to dense\u001b[39;00m\n",
      "File \u001b[0;32m~/Library/Python/3.9/lib/python/site-packages/sklearn/metrics/pairwise.py:1989\u001b[0m, in \u001b[0;36mpairwise_distances\u001b[0;34m(X, Y, metric, n_jobs, force_all_finite, **kwds)\u001b[0m\n\u001b[1;32m   1986\u001b[0m         \u001b[39mreturn\u001b[39;00m distance\u001b[39m.\u001b[39msquareform(distance\u001b[39m.\u001b[39mpdist(X, metric\u001b[39m=\u001b[39mmetric, \u001b[39m*\u001b[39m\u001b[39m*\u001b[39mkwds))\n\u001b[1;32m   1987\u001b[0m     func \u001b[39m=\u001b[39m partial(distance\u001b[39m.\u001b[39mcdist, metric\u001b[39m=\u001b[39mmetric, \u001b[39m*\u001b[39m\u001b[39m*\u001b[39mkwds)\n\u001b[0;32m-> 1989\u001b[0m \u001b[39mreturn\u001b[39;00m _parallel_pairwise(X, Y, func, n_jobs, \u001b[39m*\u001b[39;49m\u001b[39m*\u001b[39;49mkwds)\n",
      "File \u001b[0;32m~/Library/Python/3.9/lib/python/site-packages/sklearn/metrics/pairwise.py:1530\u001b[0m, in \u001b[0;36m_parallel_pairwise\u001b[0;34m(X, Y, func, n_jobs, **kwds)\u001b[0m\n\u001b[1;32m   1527\u001b[0m X, Y, dtype \u001b[39m=\u001b[39m _return_float_dtype(X, Y)\n\u001b[1;32m   1529\u001b[0m \u001b[39mif\u001b[39;00m effective_n_jobs(n_jobs) \u001b[39m==\u001b[39m \u001b[39m1\u001b[39m:\n\u001b[0;32m-> 1530\u001b[0m     \u001b[39mreturn\u001b[39;00m func(X, Y, \u001b[39m*\u001b[39;49m\u001b[39m*\u001b[39;49mkwds)\n\u001b[1;32m   1532\u001b[0m \u001b[39m# enforce a threading backend to prevent data communication overhead\u001b[39;00m\n\u001b[1;32m   1533\u001b[0m fd \u001b[39m=\u001b[39m delayed(_dist_wrapper)\n",
      "File \u001b[0;32m~/Library/Python/3.9/lib/python/site-packages/sklearn/metrics/pairwise.py:1557\u001b[0m, in \u001b[0;36m_pairwise_callable\u001b[0;34m(X, Y, metric, force_all_finite, **kwds)\u001b[0m\n\u001b[1;32m   1555\u001b[0m iterator \u001b[39m=\u001b[39m itertools\u001b[39m.\u001b[39mcombinations(\u001b[39mrange\u001b[39m(X\u001b[39m.\u001b[39mshape[\u001b[39m0\u001b[39m]), \u001b[39m2\u001b[39m)\n\u001b[1;32m   1556\u001b[0m \u001b[39mfor\u001b[39;00m i, j \u001b[39min\u001b[39;00m iterator:\n\u001b[0;32m-> 1557\u001b[0m     out[i, j] \u001b[39m=\u001b[39m metric(X[i], Y[j], \u001b[39m*\u001b[39;49m\u001b[39m*\u001b[39;49mkwds)\n\u001b[1;32m   1559\u001b[0m \u001b[39m# Make symmetric\u001b[39;00m\n\u001b[1;32m   1560\u001b[0m \u001b[39m# NB: out += out.T will produce incorrect results\u001b[39;00m\n\u001b[1;32m   1561\u001b[0m out \u001b[39m=\u001b[39m out \u001b[39m+\u001b[39m out\u001b[39m.\u001b[39mT\n",
      "\u001b[0;31mKeyboardInterrupt\u001b[0m: "
     ]
    }
   ],
   "source": [
    "#for siz in range(6, 7):\n",
    "\n",
    "model = BERTopic(top_n_words = 10,\n",
    "                    n_gram_range = (1,2),\n",
    "                    language=\"english\",\n",
    "                    calculate_probabilities = True,\n",
    "                    nr_topics=40,\n",
    "                    embedding_model = PRETRAINED_SENTENCE_MODEL,\n",
    "                    representation_model=representation_model,\n",
    "                    vectorizer_model=vectorizer_model,\n",
    "                    umap_model=umap_model)\n",
    "\n",
    "topics, probs = model.fit_transform(comments_all, embeddings)\n",
    "\n",
    "cleaned_docs = model._preprocess_text(comments_all)\n",
    "vectorizer = model.vectorizer_model\n",
    "analyzer = vectorizer.build_analyzer()\n",
    "tokens = [analyzer(doc) for doc in cleaned_docs]\n",
    "dictionary = corpora.Dictionary(tokens)\n",
    "corpus = [dictionary.doc2bow(token) for token in tokens]\n",
    "topicsForCS = model.get_topics()\n",
    "topicsForCS.pop(-1, None)\n",
    "topic_words = [[word for word, _ in model.get_topic(topic) if word != ''] for topic in topicsForCS]\n",
    "#topic_words = [[words for words, _ in model.get_topic(topic)] for topic in range(len(set(topicsForCS))-1)]\n",
    "final_topic_words = []\n",
    "for i in topic_words:\n",
    "    if len(i) > 0:\n",
    "        final_topic_words.append(i)\n",
    "\n",
    "# Evaluate\n",
    "coherence_model = CoherenceModel(topics=final_topic_words, \n",
    "                    texts=tokens, \n",
    "                    corpus=corpus,\n",
    "                    dictionary=dictionary, \n",
    "                    coherence='c_v')\n",
    "coherencev = coherence_model.get_coherence()\n",
    "\n",
    "coherence_model = CoherenceModel(topics=final_topic_words, \n",
    "                    texts=tokens, \n",
    "                    corpus=corpus,\n",
    "                    dictionary=dictionary, \n",
    "                    coherence='c_npmi')\n",
    "coherence = coherence_model.get_coherence()\n",
    "# Calculate embeddings for your documents  \n",
    "embedding1 = model._extract_embeddings(comments_all)  \n",
    "# Calculate Silhouette score  \n",
    "score = silhouette_score(embedding1, topics)  \n",
    "print(\" CV score: \",coherencev)\n",
    "print(\" C NPMI score: \",coherence)\n",
    "print(\" Silhouette score: \",score)\n",
    "print(\" Number of topics: \",len(set(topics))-1)\n",
    "\n",
    "\n",
    "# a1 = []\n",
    "# a2 =[]\n",
    "# a3 =[]\n",
    "# a4 = []\n",
    "\n",
    "# for a in range(len(topicsizes)):\n",
    "#     for b in range(len(topic_num)):\n",
    "#         coherencev, coherence, score, lentopics = func(topicsizes[a], topic_num[b])\n",
    "#         a1.append(coherencev)\n",
    "#         a2.append(coherence)\n",
    "#         a3.append(score)\n",
    "#         a4.append(lentopics)\n",
    "tit = \"All - \" + fix\n",
    "fig = model.visualize_barchart(top_n_topics=100, title = tit)\n",
    "fig\n"
   ]
  },
  {
   "cell_type": "code",
   "execution_count": 45,
   "metadata": {},
   "outputs": [],
   "source": [
    "model.merge_topics(comments_all, [-1, 14])"
   ]
  },
  {
   "cell_type": "code",
   "execution_count": null,
   "metadata": {},
   "outputs": [
    {
     "ename": "ValueError",
     "evalue": "Mime type rendering requires nbformat>=4.2.0 but it is not installed",
     "output_type": "error",
     "traceback": [
      "\u001b[0;31m---------------------------------------------------------------------------\u001b[0m",
      "\u001b[0;31mValueError\u001b[0m                                Traceback (most recent call last)",
      "File \u001b[0;32m~/Library/Python/3.9/lib/python/site-packages/IPython/core/formatters.py:922\u001b[0m, in \u001b[0;36mIPythonDisplayFormatter.__call__\u001b[0;34m(self, obj)\u001b[0m\n\u001b[1;32m    920\u001b[0m method \u001b[39m=\u001b[39m get_real_method(obj, \u001b[39mself\u001b[39m\u001b[39m.\u001b[39mprint_method)\n\u001b[1;32m    921\u001b[0m \u001b[39mif\u001b[39;00m method \u001b[39mis\u001b[39;00m \u001b[39mnot\u001b[39;00m \u001b[39mNone\u001b[39;00m:\n\u001b[0;32m--> 922\u001b[0m     method()\n\u001b[1;32m    923\u001b[0m     \u001b[39mreturn\u001b[39;00m \u001b[39mTrue\u001b[39;00m\n",
      "File \u001b[0;32m~/Library/Python/3.9/lib/python/site-packages/plotly/basedatatypes.py:832\u001b[0m, in \u001b[0;36mBaseFigure._ipython_display_\u001b[0;34m(self)\u001b[0m\n\u001b[1;32m    829\u001b[0m \u001b[39mimport\u001b[39;00m \u001b[39mplotly\u001b[39;00m\u001b[39m.\u001b[39;00m\u001b[39mio\u001b[39;00m \u001b[39mas\u001b[39;00m \u001b[39mpio\u001b[39;00m\n\u001b[1;32m    831\u001b[0m \u001b[39mif\u001b[39;00m pio\u001b[39m.\u001b[39mrenderers\u001b[39m.\u001b[39mrender_on_display \u001b[39mand\u001b[39;00m pio\u001b[39m.\u001b[39mrenderers\u001b[39m.\u001b[39mdefault:\n\u001b[0;32m--> 832\u001b[0m     pio\u001b[39m.\u001b[39;49mshow(\u001b[39mself\u001b[39;49m)\n\u001b[1;32m    833\u001b[0m \u001b[39melse\u001b[39;00m:\n\u001b[1;32m    834\u001b[0m     \u001b[39mprint\u001b[39m(\u001b[39mrepr\u001b[39m(\u001b[39mself\u001b[39m))\n",
      "File \u001b[0;32m~/Library/Python/3.9/lib/python/site-packages/plotly/io/_renderers.py:394\u001b[0m, in \u001b[0;36mshow\u001b[0;34m(fig, renderer, validate, **kwargs)\u001b[0m\n\u001b[1;32m    389\u001b[0m         \u001b[39mraise\u001b[39;00m \u001b[39mValueError\u001b[39;00m(\n\u001b[1;32m    390\u001b[0m             \u001b[39m\"\u001b[39m\u001b[39mMime type rendering requires ipython but it is not installed\u001b[39m\u001b[39m\"\u001b[39m\n\u001b[1;32m    391\u001b[0m         )\n\u001b[1;32m    393\u001b[0m     \u001b[39mif\u001b[39;00m \u001b[39mnot\u001b[39;00m nbformat \u001b[39mor\u001b[39;00m Version(nbformat\u001b[39m.\u001b[39m__version__) \u001b[39m<\u001b[39m Version(\u001b[39m\"\u001b[39m\u001b[39m4.2.0\u001b[39m\u001b[39m\"\u001b[39m):\n\u001b[0;32m--> 394\u001b[0m         \u001b[39mraise\u001b[39;00m \u001b[39mValueError\u001b[39;00m(\n\u001b[1;32m    395\u001b[0m             \u001b[39m\"\u001b[39m\u001b[39mMime type rendering requires nbformat>=4.2.0 but it is not installed\u001b[39m\u001b[39m\"\u001b[39m\n\u001b[1;32m    396\u001b[0m         )\n\u001b[1;32m    398\u001b[0m     ipython_display\u001b[39m.\u001b[39mdisplay(bundle, raw\u001b[39m=\u001b[39m\u001b[39mTrue\u001b[39;00m)\n\u001b[1;32m    400\u001b[0m \u001b[39m# external renderers\u001b[39;00m\n",
      "\u001b[0;31mValueError\u001b[0m: Mime type rendering requires nbformat>=4.2.0 but it is not installed"
     ]
    },
    {
     "data": {
      "application/vnd.plotly.v1+json": {
       "config": {
        "plotlyServerURL": "https://plot.ly"
       },
       "data": [
        {
         "marker": {
          "color": "#D55E00"
         },
         "orientation": "h",
         "type": "bar",
         "x": [
          0.46630358695983887,
          0.48212456703186035,
          0.49774977564811707,
          0.5567287802696228,
          0.5991394519805908
         ],
         "xaxis": "x",
         "y": [
          "suicidal  ",
          "committed suicide  ",
          "suicide  ",
          "attempted suicide  ",
          "suicide article  "
         ],
         "yaxis": "y"
        },
        {
         "marker": {
          "color": "#0072B2"
         },
         "orientation": "h",
         "type": "bar",
         "x": [
          0.49908876419067383,
          0.5180374979972839,
          0.526097297668457,
          0.570652425289154,
          0.7198272347450256
         ],
         "xaxis": "x2",
         "y": [
          "suicides related  ",
          "among veterans  ",
          "veterans article  ",
          "suicide among  ",
          "veteran suicide  "
         ],
         "yaxis": "y2"
        },
        {
         "marker": {
          "color": "#CC79A7"
         },
         "orientation": "h",
         "type": "bar",
         "x": [
          0.44919171929359436,
          0.4587870240211487,
          0.4623335301876068,
          0.47081586718559265,
          0.6091172695159912
         ],
         "xaxis": "x3",
         "y": [
          "prison article  ",
          "suicide  ",
          "mentions inmates  ",
          "suicides  ",
          "solitary confinement  "
         ],
         "yaxis": "y3"
        },
        {
         "marker": {
          "color": "#E69F00"
         },
         "orientation": "h",
         "type": "bar",
         "x": [
          0.476432204246521,
          0.5048592686653137,
          0.5243644118309021,
          0.5310384035110474,
          0.5342926979064941
         ],
         "xaxis": "x4",
         "y": [
          "suicides  ",
          "attempted suicide  ",
          "psychosis  ",
          "mental health  ",
          "postpartum psychosis  "
         ],
         "yaxis": "y4"
        },
        {
         "marker": {
          "color": "#56B4E9"
         },
         "orientation": "h",
         "type": "bar",
         "x": [
          0.5640214085578918,
          0.5714514255523682,
          0.5746006369590759,
          0.575525164604187,
          0.6558021306991577
         ],
         "xaxis": "x5",
         "y": [
          "among transgender  ",
          "transgender people  ",
          "transgender children  ",
          "transgender individuals  ",
          "transgender youth  "
         ],
         "yaxis": "y5"
        },
        {
         "marker": {
          "color": "#009E73"
         },
         "orientation": "h",
         "type": "bar",
         "x": [
          0.5218032002449036,
          0.5530200004577637,
          0.5582772493362427,
          0.5643173456192017,
          0.6162269115447998
         ],
         "xaxis": "x6",
         "y": [
          "suicidal thoughts  ",
          "suicide rates  ",
          "suicide article  ",
          "discusses suicide  ",
          "suicide prevention  "
         ],
         "yaxis": "y6"
        },
        {
         "marker": {
          "color": "#F0E442"
         },
         "orientation": "h",
         "type": "bar",
         "x": [
          0.5040199160575867,
          0.5327291488647461,
          0.5618453621864319,
          0.5623766183853149,
          0.5705956220626831
         ],
         "xaxis": "x7",
         "y": [
          "brain damage  ",
          "encephalopathy cte  ",
          "concussions  ",
          "traumatic encephalopathy  ",
          "encephalopathy  "
         ],
         "yaxis": "y7"
        },
        {
         "marker": {
          "color": "#D55E00"
         },
         "orientation": "h",
         "type": "bar",
         "x": [
          0.44640401005744934,
          0.49289774894714355,
          0.4998737573623657,
          0.5135403275489807,
          0.5295816659927368
         ],
         "xaxis": "x8",
         "y": [
          "suicide  ",
          "killed surgeon  ",
          "killed patient  ",
          "suicide related  ",
          "suicide article  "
         ],
         "yaxis": "y8"
        },
        {
         "marker": {
          "color": "#0072B2"
         },
         "orientation": "h",
         "type": "bar",
         "x": [
          0.3896036744117737,
          0.38993746042251587,
          0.4115588068962097,
          0.42027726769447327,
          0.43756479024887085
         ],
         "xaxis": "x9",
         "y": [
          "traumatic event  ",
          "suicide  ",
          "capitol attack  ",
          "capitol police  ",
          "took lives  "
         ],
         "yaxis": "y9"
        },
        {
         "marker": {
          "color": "#CC79A7"
         },
         "orientation": "h",
         "type": "bar",
         "x": [
          0.4641028642654419,
          0.4850652813911438,
          0.48953795433044434,
          0.5847359895706177,
          0.5893692374229431
         ],
         "xaxis": "x10",
         "y": [
          "committed suicide  ",
          "cause suicide  ",
          "suicide implied  ",
          "suicide article  ",
          "reason suicide  "
         ],
         "yaxis": "y10"
        },
        {
         "marker": {
          "color": "#E69F00"
         },
         "orientation": "h",
         "type": "bar",
         "x": [
          0.5624289512634277,
          0.680415689945221,
          0.7244488000869751,
          0.7253170013427734,
          0.7341865301132202
         ],
         "xaxis": "x11",
         "y": [
          "terminal illnesses  ",
          "euthanasia  ",
          "assisted death  ",
          "assisted suicide  ",
          "issue euthanasia  "
         ],
         "yaxis": "y11"
        },
        {
         "marker": {
          "color": "#56B4E9"
         },
         "orientation": "h",
         "type": "bar",
         "x": [
          0.4817120432853699,
          0.4834440350532532,
          0.5070072412490845,
          0.5265220999717712,
          0.554143488407135
         ],
         "xaxis": "x12",
         "y": [
          "naomi judd  ",
          "committed suicide  ",
          "suicide article  ",
          "judd killed  ",
          "judd died  "
         ],
         "yaxis": "y12"
        },
        {
         "marker": {
          "color": "#009E73"
         },
         "orientation": "h",
         "type": "bar",
         "x": [
          0.43280357122421265,
          0.4362478256225586,
          0.44091349840164185,
          0.5495847463607788,
          0.582173764705658
         ],
         "xaxis": "x13",
         "y": [
          "mentions adams  ",
          "phillip adams  ",
          "suicide case  ",
          "adams suffered  ",
          "adams killed  "
         ],
         "yaxis": "y13"
        },
        {
         "marker": {
          "color": "#F0E442"
         },
         "orientation": "h",
         "type": "bar",
         "x": [
          0.43703195452690125,
          0.47594112157821655,
          0.48990732431411743,
          0.5263728499412537,
          0.5996085405349731
         ],
         "xaxis": "x14",
         "y": [
          "tommy raskin  ",
          "cause suicide  ",
          "suicide  ",
          "suicide attempt  ",
          "reason suicide  "
         ],
         "yaxis": "y14"
        },
        {
         "marker": {
          "color": "#D55E00"
         },
         "orientation": "h",
         "type": "bar",
         "x": [
          0.5629286170005798,
          0.5831080675125122,
          0.5903476476669312,
          0.5914009809494019,
          0.599014163017273
         ],
         "xaxis": "x15",
         "y": [
          "opioid crisis  ",
          "overdose article  ",
          "overdoses suicides  ",
          "drug overdose  ",
          "discusses opioid  "
         ],
         "yaxis": "y15"
        },
        {
         "marker": {
          "color": "#0072B2"
         },
         "orientation": "h",
         "type": "bar",
         "x": [
          0.4600759446620941,
          0.48847299814224243,
          0.5320141315460205,
          0.5693306922912598,
          0.5954066514968872
         ],
         "xaxis": "x16",
         "y": [
          "illness article  ",
          "ending life  ",
          "terminal cancer  ",
          "terminal illness  ",
          "lethal medication  "
         ],
         "yaxis": "y16"
        },
        {
         "marker": {
          "color": "#CC79A7"
         },
         "orientation": "h",
         "type": "bar",
         "x": [
          0.4910997748374939,
          0.5116092562675476,
          0.5336328744888306,
          0.5450500845909119,
          0.6060397624969482
         ],
         "xaxis": "x17",
         "y": [
          "mental health  ",
          "suicides due  ",
          "pandemic lockdowns  ",
          "suicides  ",
          "increase suicides  "
         ],
         "yaxis": "y17"
        },
        {
         "marker": {
          "color": "#E69F00"
         },
         "orientation": "h",
         "type": "bar",
         "x": [
          0.5052452087402344,
          0.5190635323524475,
          0.533848762512207,
          0.5785466432571411,
          0.6453685760498047
         ],
         "xaxis": "x18",
         "y": [
          "suicide falling  ",
          "mental health  ",
          "discusses suicide  ",
          "homelessness  ",
          "becoming homeless  "
         ],
         "yaxis": "y18"
        },
        {
         "marker": {
          "color": "#56B4E9"
         },
         "orientation": "h",
         "type": "bar",
         "x": [
          0.47816941142082214,
          0.48930856585502625,
          0.5045588612556458,
          0.623033344745636,
          0.6521172523498535
         ],
         "xaxis": "x19",
         "y": [
          "suicide rate  ",
          "mental health  ",
          "chicago police  ",
          "suicide police  ",
          "officer suicide  "
         ],
         "yaxis": "y19"
        },
        {
         "marker": {
          "color": "#009E73"
         },
         "orientation": "h",
         "type": "bar",
         "x": [
          0.39934155344963074,
          0.4135948717594147,
          0.44766518473625183,
          0.5060275793075562,
          0.5080106258392334
         ],
         "xaxis": "x20",
         "y": [
          "guns  ",
          "guns used  ",
          "suicide article  ",
          "purchased guns  ",
          "purchase guns  "
         ],
         "yaxis": "y20"
        },
        {
         "marker": {
          "color": "#F0E442"
         },
         "orientation": "h",
         "type": "bar",
         "x": [
          0.36889442801475525,
          0.3744806945323944,
          0.39104345440864563,
          0.4026283621788025,
          0.4214405417442322
         ],
         "xaxis": "x21",
         "y": [
          "detained psychiatric  ",
          "edwards detained  ",
          "bernardino sheriff  ",
          "virginia sheriff  ",
          "edwards killed  "
         ],
         "yaxis": "y21"
        },
        {
         "marker": {
          "color": "#D55E00"
         },
         "orientation": "h",
         "type": "bar",
         "x": [
          0.5366411209106445,
          0.5397429466247559,
          0.5802260041236877,
          0.5862643122673035,
          0.6034163236618042
         ],
         "xaxis": "x22",
         "y": [
          "receiving covid  ",
          "coronavirus  ",
          "covid 19  ",
          "caused covid  ",
          "died covid  "
         ],
         "yaxis": "y22"
        },
        {
         "marker": {
          "color": "#0072B2"
         },
         "orientation": "h",
         "type": "bar",
         "x": [
          0.612801194190979,
          0.6277761459350586,
          0.6358693838119507,
          0.6569837927818298,
          0.816788911819458
         ],
         "xaxis": "x23",
         "y": [
          "prevent suicides  ",
          "preventing suicides  ",
          "suicides article  ",
          "gun deaths  ",
          "firearm suicides  "
         ],
         "yaxis": "y23"
        },
        {
         "marker": {
          "color": "#CC79A7"
         },
         "orientation": "h",
         "type": "bar",
         "x": [
          0.4249991476535797,
          0.4428020119667053,
          0.4567973017692566,
          0.479586660861969,
          0.4952858090400696
         ],
         "xaxis": "x24",
         "y": [
          "mass shooting  ",
          "mental health  ",
          "suicide unspecified  ",
          "committed suicide  ",
          "suicide huu  "
         ],
         "yaxis": "y24"
        },
        {
         "marker": {
          "color": "#E69F00"
         },
         "orientation": "h",
         "type": "bar",
         "x": [
          0.5925952196121216,
          0.5931558609008789,
          0.5982994437217712,
          0.6207544207572937,
          0.6953563690185547
         ],
         "xaxis": "x25",
         "y": [
          "abortion  ",
          "roe wade  ",
          "abortions  ",
          "legal abortions  ",
          "abortions article  "
         ],
         "yaxis": "y25"
        },
        {
         "marker": {
          "color": "#56B4E9"
         },
         "orientation": "h",
         "type": "bar",
         "x": [
          0.5473154783248901,
          0.5616416931152344,
          0.5632779598236084,
          0.5911448001861572,
          0.6390671133995056
         ],
         "xaxis": "x26",
         "y": [
          "following covid  ",
          "covid infection  ",
          "covid  ",
          "long covid  ",
          "covid patients  "
         ],
         "yaxis": "y26"
        },
        {
         "marker": {
          "color": "#009E73"
         },
         "orientation": "h",
         "type": "bar",
         "x": [
          0.426746129989624,
          0.4781830310821533,
          0.5369322299957275,
          0.6270879507064819,
          0.6514433026313782
         ],
         "xaxis": "x27",
         "y": [
          "father suicide  ",
          "leader died  ",
          "harry reid  ",
          "reid died  ",
          "reid death  "
         ],
         "yaxis": "y27"
        },
        {
         "marker": {
          "color": "#F0E442"
         },
         "orientation": "h",
         "type": "bar",
         "x": [
          0.5138645172119141,
          0.5221085548400879,
          0.5393439531326294,
          0.5423488020896912,
          0.5443165898323059
         ],
         "xaxis": "x28",
         "y": [
          "school shooting  ",
          "problem suicide  ",
          "suicide categorizing  ",
          "mental health  ",
          "mass shooting  "
         ],
         "yaxis": "y28"
        },
        {
         "marker": {
          "color": "#D55E00"
         },
         "orientation": "h",
         "type": "bar",
         "x": [
          0.45496582984924316,
          0.5051193237304688,
          0.5250498652458191,
          0.5279919505119324,
          0.5480231046676636
         ],
         "xaxis": "x29",
         "y": [
          "sherman  ",
          "sherman arrested  ",
          "sherman drinking  ",
          "mentions sherman  ",
          "richard sherman  "
         ],
         "yaxis": "y29"
        },
        {
         "marker": {
          "color": "#0072B2"
         },
         "orientation": "h",
         "type": "bar",
         "x": [
          0.4265974462032318,
          0.4308788776397705,
          0.444355309009552,
          0.46821218729019165,
          0.5218060612678528
         ],
         "xaxis": "x30",
         "y": [
          "health struggles  ",
          "wife meghan  ",
          "suicidal thoughts  ",
          "harry wife  ",
          "mental health  "
         ],
         "yaxis": "y30"
        },
        {
         "marker": {
          "color": "#CC79A7"
         },
         "orientation": "h",
         "type": "bar",
         "x": [
          0.42902281880378723,
          0.4471575915813446,
          0.44948670268058777,
          0.463396817445755,
          0.4740833640098572
         ],
         "xaxis": "x31",
         "y": [
          "suicide cop  ",
          "suicidal  ",
          "suicidal thoughts  ",
          "suicide one  ",
          "suicide  "
         ],
         "yaxis": "y31"
        },
        {
         "marker": {
          "color": "#E69F00"
         },
         "orientation": "h",
         "type": "bar",
         "x": [
          0.4602099657058716,
          0.4844244420528412,
          0.48633506894111633,
          0.4870040714740753,
          0.5064493417739868
         ],
         "xaxis": "x32",
         "y": [
          "deteriorating health  ",
          "suicide facing  ",
          "terminal cancer  ",
          "suicide  ",
          "committed suicide  "
         ],
         "yaxis": "y32"
        },
        {
         "marker": {
          "color": "#56B4E9"
         },
         "orientation": "h",
         "type": "bar",
         "x": [
          0.461401104927063,
          0.4905799627304077,
          0.5700502395629883,
          0.6271342635154724,
          0.6631258726119995
         ],
         "xaxis": "x33",
         "y": [
          "kill students  ",
          "mental health  ",
          "student shot  ",
          "school shooter  ",
          "school shootings  "
         ],
         "yaxis": "y33"
        },
        {
         "marker": {
          "color": "#009E73"
         },
         "orientation": "h",
         "type": "bar",
         "x": [
          0.5227019786834717,
          0.5536572337150574,
          0.5868035554885864,
          0.5895951390266418,
          0.6240600347518921
         ],
         "xaxis": "x34",
         "y": [
          "suicide canada  ",
          "assisted death  ",
          "assisted suicide  ",
          "assistance dying  ",
          "euthanasia  "
         ],
         "yaxis": "y34"
        },
        {
         "marker": {
          "color": "#F0E442"
         },
         "orientation": "h",
         "type": "bar",
         "x": [
          0.47638577222824097,
          0.47721368074417114,
          0.5109398365020752,
          0.5259870290756226,
          0.5587893724441528
         ],
         "xaxis": "x35",
         "y": [
          "mental health  ",
          "parents struggling  ",
          "teenager bipolar  ",
          "families article  ",
          "parents article  "
         ],
         "yaxis": "y35"
        },
        {
         "marker": {
          "color": "#D55E00"
         },
         "orientation": "h",
         "type": "bar",
         "x": [
          0.419988751411438,
          0.4271899461746216,
          0.4348183572292328,
          0.45450520515441895,
          0.498478502035141
         ],
         "xaxis": "x36",
         "y": [
          "suicide showing  ",
          "psychiatric  ",
          "admitted psychiatric  ",
          "suicide  ",
          "suicide article  "
         ],
         "yaxis": "y36"
        },
        {
         "marker": {
          "color": "#0072B2"
         },
         "orientation": "h",
         "type": "bar",
         "x": [
          0.4719892740249634,
          0.47738116979599,
          0.492580771446228,
          0.5024606585502625,
          0.568132758140564
         ],
         "xaxis": "x37",
         "y": [
          "opioid addiction  ",
          "cause suicide  ",
          "suicide article  ",
          "addiction opioids  ",
          "suicide health  "
         ],
         "yaxis": "y37"
        },
        {
         "marker": {
          "color": "#CC79A7"
         },
         "orientation": "h",
         "type": "bar",
         "x": [
          0.5009626150131226,
          0.5138344764709473,
          0.5548034906387329,
          0.5573989748954773,
          0.6463451981544495
         ],
         "xaxis": "x38",
         "y": [
          "britney  ",
          "britney spears  ",
          "jean suicide  ",
          "spears grandmother  ",
          "suicide britney  "
         ],
         "yaxis": "y38"
        },
        {
         "marker": {
          "color": "#E69F00"
         },
         "orientation": "h",
         "type": "bar",
         "x": [
          0.47061461210250854,
          0.48584604263305664,
          0.4954584836959839,
          0.5404131412506104,
          0.5492323637008667
         ],
         "xaxis": "x39",
         "y": [
          "high suicide  ",
          "indigenous communities  ",
          "suicide rates  ",
          "suicide prevention  ",
          "prevention indigenous  "
         ],
         "yaxis": "y39"
        },
        {
         "marker": {
          "color": "#56B4E9"
         },
         "orientation": "h",
         "type": "bar",
         "x": [
          0.3867880403995514,
          0.39438796043395996,
          0.4960835576057434,
          0.5269096493721008,
          0.5495343208312988
         ],
         "xaxis": "x40",
         "y": [
          "psychiatric  ",
          "mentions gunman  ",
          "suicide  ",
          "gunman killed  ",
          "suicide article  "
         ],
         "yaxis": "y40"
        },
        {
         "marker": {
          "color": "#009E73"
         },
         "orientation": "h",
         "type": "bar",
         "x": [
          0.4986233413219452,
          0.5195080041885376,
          0.5348988175392151,
          0.5473018288612366,
          0.5556615591049194
         ],
         "xaxis": "x41",
         "y": [
          "suicide  ",
          "mental health  ",
          "mental illness  ",
          "suicide mentioned  ",
          "suicide attempt  "
         ],
         "yaxis": "y41"
        },
        {
         "marker": {
          "color": "#F0E442"
         },
         "orientation": "h",
         "type": "bar",
         "x": [
          0.5440614223480225,
          0.5445945262908936,
          0.5772035121917725,
          0.6140618920326233,
          0.6145731210708618
         ],
         "xaxis": "x42",
         "y": [
          "dealing pandemic  ",
          "coronavirus pandemic  ",
          "pandemic health  ",
          "pandemic article  ",
          "health crisis  "
         ],
         "yaxis": "y42"
        },
        {
         "marker": {
          "color": "#D55E00"
         },
         "orientation": "h",
         "type": "bar",
         "x": [
          0.48647409677505493,
          0.5283265113830566,
          0.5331662893295288,
          0.5698241591453552,
          0.5990355014801025
         ],
         "xaxis": "x43",
         "y": [
          "suicide due  ",
          "committed suicide  ",
          "suicide  ",
          "suicide related  ",
          "suicide brandon  "
         ],
         "yaxis": "y43"
        },
        {
         "marker": {
          "color": "#0072B2"
         },
         "orientation": "h",
         "type": "bar",
         "x": [
          0.5289143323898315,
          0.5493515729904175,
          0.5919293761253357,
          0.6043741703033447,
          0.6248130202293396
         ],
         "xaxis": "x44",
         "y": [
          "committed suicide  ",
          "suicide struggling  ",
          "suicide article  ",
          "suicide attempt  ",
          "suicide sexually  "
         ],
         "yaxis": "y44"
        },
        {
         "marker": {
          "color": "#CC79A7"
         },
         "orientation": "h",
         "type": "bar",
         "x": [
          0.39766940474510193,
          0.4010879695415497,
          0.4105641543865204,
          0.4176783561706543,
          0.47598370909690857
         ],
         "xaxis": "x45",
         "y": [
          "monoxide poisoning  ",
          "suicide due  ",
          "suicide  ",
          "suicide suffering  ",
          "died suicide  "
         ],
         "yaxis": "y45"
        },
        {
         "marker": {
          "color": "#E69F00"
         },
         "orientation": "h",
         "type": "bar",
         "x": [
          0.44193997979164124,
          0.44854116439819336,
          0.4579145312309265,
          0.4693012833595276,
          0.48708632588386536
         ],
         "xaxis": "x46",
         "y": [
          "self harm  ",
          "mental health  ",
          "suicide  ",
          "eating disorders  ",
          "health teenagers  "
         ],
         "yaxis": "y46"
        },
        {
         "marker": {
          "color": "#56B4E9"
         },
         "orientation": "h",
         "type": "bar",
         "x": [
          0.4727087616920471,
          0.48134779930114746,
          0.490384966135025,
          0.49676305055618286,
          0.6258304715156555
         ],
         "xaxis": "x47",
         "y": [
          "fuller hospitalized  ",
          "suicidal behavior  ",
          "suicide related  ",
          "robert fuller  ",
          "fuller suicide  "
         ],
         "yaxis": "y47"
        },
        {
         "marker": {
          "color": "#009E73"
         },
         "orientation": "h",
         "type": "bar",
         "x": [
          0.4303935170173645,
          0.4514884948730469,
          0.4576057493686676,
          0.4977733790874481,
          0.5096613168716431
         ],
         "xaxis": "x48",
         "y": [
          "body dementia  ",
          "suicide  ",
          "dementia  ",
          "robin williams  ",
          "suicide actor  "
         ],
         "yaxis": "y48"
        },
        {
         "marker": {
          "color": "#F0E442"
         },
         "orientation": "h",
         "type": "bar",
         "x": [
          0.5096616744995117,
          0.515227198600769,
          0.5448916554450989,
          0.5686711072921753,
          0.5932629108428955
         ],
         "xaxis": "x49",
         "y": [
          "rates suicide  ",
          "factors suicide  ",
          "discusses suicide  ",
          "suicide rates  ",
          "suicide among  "
         ],
         "yaxis": "y49"
        },
        {
         "marker": {
          "color": "#D55E00"
         },
         "orientation": "h",
         "type": "bar",
         "x": [
          0.47564268112182617,
          0.49452900886535645,
          0.49890193343162537,
          0.5283175110816956,
          0.5899185538291931
         ],
         "xaxis": "x50",
         "y": [
          "mental health  ",
          "suicide rate  ",
          "high suicide  ",
          "suicides  ",
          "suicide prevention  "
         ],
         "yaxis": "y50"
        },
        {
         "marker": {
          "color": "#0072B2"
         },
         "orientation": "h",
         "type": "bar",
         "x": [
          0.42775070667266846,
          0.43881064653396606,
          0.45929351449012756,
          0.4713689684867859,
          0.4998619556427002
         ],
         "xaxis": "x51",
         "y": [
          "accessing firearms  ",
          "perceived threats  ",
          "suicide cop  ",
          "firearms individuals  ",
          "possessing firearms  "
         ],
         "yaxis": "y51"
        },
        {
         "marker": {
          "color": "#CC79A7"
         },
         "orientation": "h",
         "type": "bar",
         "x": [
          0.47373825311660767,
          0.4762495756149292,
          0.4942536950111389,
          0.5026764869689941,
          0.5592992305755615
         ],
         "xaxis": "x52",
         "y": [
          "depression three  ",
          "financial stress  ",
          "depression  ",
          "depression financial  ",
          "concerns suicides  "
         ],
         "yaxis": "y52"
        },
        {
         "marker": {
          "color": "#E69F00"
         },
         "orientation": "h",
         "type": "bar",
         "x": [
          0.4918684959411621,
          0.5420329570770264,
          0.5456644296646118,
          0.5801606178283691,
          0.6014845371246338
         ],
         "xaxis": "x53",
         "y": [
          "health crisis  ",
          "shootings  ",
          "violence schools  ",
          "mass shootings  ",
          "gun violence  "
         ],
         "yaxis": "y53"
        },
        {
         "marker": {
          "color": "#56B4E9"
         },
         "orientation": "h",
         "type": "bar",
         "x": [
          0.5438807606697083,
          0.567874550819397,
          0.5683100819587708,
          0.6041247248649597,
          0.607708752155304
         ],
         "xaxis": "x54",
         "y": [
          "firefighters facing  ",
          "among firefighters  ",
          "wildland firefighters  ",
          "firefighters california  ",
          "firefighters suffering  "
         ],
         "yaxis": "y54"
        },
        {
         "marker": {
          "color": "#009E73"
         },
         "orientation": "h",
         "type": "bar",
         "x": [
          0.5712272524833679,
          0.5810511112213135,
          0.5958994626998901,
          0.597204327583313,
          0.6114755868911743
         ],
         "xaxis": "x55",
         "y": [
          "addiction alcohol  ",
          "author suicidal  ",
          "suicidal thoughts  ",
          "struggle suicidal  ",
          "suicidal behavior  "
         ],
         "yaxis": "y55"
        },
        {
         "marker": {
          "color": "#F0E442"
         },
         "orientation": "h",
         "type": "bar",
         "x": [
          0.4440653622150421,
          0.45228517055511475,
          0.45853450894355774,
          0.4798324704170227,
          0.4901903569698334
         ],
         "xaxis": "x56",
         "y": [
          "firefighter killed  ",
          "health issue  ",
          "suicide could  ",
          "died inhaling  ",
          "smoke inhalation  "
         ],
         "yaxis": "y56"
        },
        {
         "marker": {
          "color": "#D55E00"
         },
         "orientation": "h",
         "type": "bar",
         "x": [
          0.517689049243927,
          0.5270959138870239,
          0.5497362613677979,
          0.5641963481903076,
          0.5673882365226746
         ],
         "xaxis": "x57",
         "y": [
          "mentions assange  ",
          "assange facing  ",
          "assange  ",
          "julian assange  ",
          "assange mental  "
         ],
         "yaxis": "y57"
        },
        {
         "marker": {
          "color": "#0072B2"
         },
         "orientation": "h",
         "type": "bar",
         "x": [
          0.48415714502334595,
          0.5021103620529175,
          0.5202402472496033,
          0.5412092804908752,
          0.5466463565826416
         ],
         "xaxis": "x58",
         "y": [
          "mental health  ",
          "illness article  ",
          "suicidal behavior  ",
          "mental illness  ",
          "illness suicidal  "
         ],
         "yaxis": "y58"
        },
        {
         "marker": {
          "color": "#CC79A7"
         },
         "orientation": "h",
         "type": "bar",
         "x": [
          0.5658901929855347,
          0.5849828124046326,
          0.5910305380821228,
          0.6185029745101929,
          0.6450340747833252
         ],
         "xaxis": "x59",
         "y": [
          "theodore kaczynski  ",
          "kaczynski  ",
          "mentions kaczynski  ",
          "ted kaczynski  ",
          "kaczynski health  "
         ],
         "yaxis": "y59"
        },
        {
         "marker": {
          "color": "#E69F00"
         },
         "orientation": "h",
         "type": "bar",
         "x": [
          0.4128956198692322,
          0.42263737320899963,
          0.45665615797042847,
          0.4569769501686096,
          0.4714473783969879
         ],
         "xaxis": "x60",
         "y": [
          "mentions conrad  ",
          "struggled depression  ",
          "depression mental  ",
          "depression  ",
          "suicide  "
         ],
         "yaxis": "y60"
        },
        {
         "marker": {
          "color": "#56B4E9"
         },
         "orientation": "h",
         "type": "bar",
         "x": [
          0.41277316212654114,
          0.4329105615615845,
          0.4397762417793274,
          0.4807370603084564,
          0.49042850732803345
         ],
         "xaxis": "x61",
         "y": [
          "murdaugh misappropriated  ",
          "murdaugh family  ",
          "mentions murdaugh  ",
          "alex murdaugh  ",
          "murdaugh lawyer  "
         ],
         "yaxis": "y61"
        },
        {
         "marker": {
          "color": "#009E73"
         },
         "orientation": "h",
         "type": "bar",
         "x": [
          0.5188918709754944,
          0.5697230696678162,
          0.5700554251670837,
          0.576579213142395,
          0.5885555744171143
         ],
         "xaxis": "x62",
         "y": [
          "suicide related  ",
          "cause suicide  ",
          "discusses suicide  ",
          "suicide article  ",
          "contributed suicides  "
         ],
         "yaxis": "y62"
        },
        {
         "marker": {
          "color": "#F0E442"
         },
         "orientation": "h",
         "type": "bar",
         "x": [
          0.5101033449172974,
          0.5345906615257263,
          0.5522753596305847,
          0.5566381812095642,
          0.6056132316589355
         ],
         "xaxis": "x63",
         "y": [
          "aids  ",
          "hiv aids  ",
          "lived hiv  ",
          "wisler hiv  ",
          "aids crisis  "
         ],
         "yaxis": "y63"
        },
        {
         "marker": {
          "color": "#D55E00"
         },
         "orientation": "h",
         "type": "bar",
         "x": [
          0.3554232716560364,
          0.3882986307144165,
          0.4366764724254608,
          0.5251141786575317,
          0.537527859210968
         ],
         "xaxis": "x64",
         "y": [
          "contributed death  ",
          "wife death  ",
          "meisner  ",
          "meisner diagnosed  ",
          "randy meisner  "
         ],
         "yaxis": "y64"
        },
        {
         "marker": {
          "color": "#0072B2"
         },
         "orientation": "h",
         "type": "bar",
         "x": [
          0.3954664170742035,
          0.39958229660987854,
          0.42155957221984863,
          0.4222508370876312,
          0.5348045825958252
         ],
         "xaxis": "x65",
         "y": [
          "room business  ",
          "mental health  ",
          "cause suicide  ",
          "suicide article  ",
          "rage room  "
         ],
         "yaxis": "y65"
        },
        {
         "marker": {
          "color": "#CC79A7"
         },
         "orientation": "h",
         "type": "bar",
         "x": [
          0.48014941811561584,
          0.48248082399368286,
          0.48548799753189087,
          0.4899805188179016,
          0.5302852988243103
         ],
         "xaxis": "x66",
         "y": [
          "suicidal therefore  ",
          "shot police  ",
          "nicolas chavez  ",
          "killed police  ",
          "reportedly suicidal  "
         ],
         "yaxis": "y66"
        },
        {
         "marker": {
          "color": "#E69F00"
         },
         "orientation": "h",
         "type": "bar",
         "x": [
          0.45344018936157227,
          0.45397692918777466,
          0.4655412435531616,
          0.48691123723983765,
          0.48921358585357666
         ],
         "xaxis": "x67",
         "y": [
          "ai  ",
          "suicide case  ",
          "ai providing  ",
          "potential ai  ",
          "suicide article  "
         ],
         "yaxis": "y67"
        },
        {
         "marker": {
          "color": "#56B4E9"
         },
         "orientation": "h",
         "type": "bar",
         "x": [
          0.39885327219963074,
          0.42499956488609314,
          0.43316739797592163,
          0.444131076335907,
          0.4876623749732971
         ],
         "xaxis": "x68",
         "y": [
          "article legal  ",
          "mora killed  ",
          "mentally unstable  ",
          "article health  ",
          "suicide restraining  "
         ],
         "yaxis": "y68"
        },
        {
         "marker": {
          "color": "#009E73"
         },
         "orientation": "h",
         "type": "bar",
         "x": [
          0.5696665048599243,
          0.5789923667907715,
          0.5876237750053406,
          0.6180617213249207,
          0.6739856004714966
         ],
         "xaxis": "x69",
         "y": [
          "suicide author  ",
          "carter died  ",
          "brother suicide  ",
          "reason suicide  ",
          "carter suicide  "
         ],
         "yaxis": "y69"
        },
        {
         "marker": {
          "color": "#F0E442"
         },
         "orientation": "h",
         "type": "bar",
         "x": [
          0.5155880451202393,
          0.5613969564437866,
          0.5657079219818115,
          0.5863549709320068,
          0.61344975233078
         ],
         "xaxis": "x70",
         "y": [
          "gogh artist  ",
          "gogh shot  ",
          "van gogh  ",
          "gogh struggled  ",
          "gogh suffered  "
         ],
         "yaxis": "y70"
        },
        {
         "marker": {
          "color": "#D55E00"
         },
         "orientation": "h",
         "type": "bar",
         "x": [
          0.2977660000324249,
          0.35853761434555054,
          0.36027586460113525,
          0.45214587450027466,
          0.4995265603065491
         ],
         "xaxis": "x71",
         "y": [
          "luther  ",
          "king jr  ",
          "mental health  ",
          "martin luther  ",
          "luther king  "
         ],
         "yaxis": "y71"
        }
       ],
       "layout": {
        "annotations": [
         {
          "font": {
           "size": 16
          },
          "showarrow": false,
          "text": "Topic 0",
          "x": 0.0875,
          "xanchor": "center",
          "xref": "paper",
          "y": 0.9999999999999998,
          "yanchor": "bottom",
          "yref": "paper"
         },
         {
          "font": {
           "size": 16
          },
          "showarrow": false,
          "text": "Topic 1",
          "x": 0.36250000000000004,
          "xanchor": "center",
          "xref": "paper",
          "y": 0.9999999999999998,
          "yanchor": "bottom",
          "yref": "paper"
         },
         {
          "font": {
           "size": 16
          },
          "showarrow": false,
          "text": "Topic 2",
          "x": 0.6375000000000001,
          "xanchor": "center",
          "xref": "paper",
          "y": 0.9999999999999998,
          "yanchor": "bottom",
          "yref": "paper"
         },
         {
          "font": {
           "size": 16
          },
          "showarrow": false,
          "text": "Topic 3",
          "x": 0.9125,
          "xanchor": "center",
          "xref": "paper",
          "y": 0.9999999999999998,
          "yanchor": "bottom",
          "yref": "paper"
         },
         {
          "font": {
           "size": 16
          },
          "showarrow": false,
          "text": "Topic 4",
          "x": 0.0875,
          "xanchor": "center",
          "xref": "paper",
          "y": 0.9432098765432098,
          "yanchor": "bottom",
          "yref": "paper"
         },
         {
          "font": {
           "size": 16
          },
          "showarrow": false,
          "text": "Topic 5",
          "x": 0.36250000000000004,
          "xanchor": "center",
          "xref": "paper",
          "y": 0.9432098765432098,
          "yanchor": "bottom",
          "yref": "paper"
         },
         {
          "font": {
           "size": 16
          },
          "showarrow": false,
          "text": "Topic 6",
          "x": 0.6375000000000001,
          "xanchor": "center",
          "xref": "paper",
          "y": 0.9432098765432098,
          "yanchor": "bottom",
          "yref": "paper"
         },
         {
          "font": {
           "size": 16
          },
          "showarrow": false,
          "text": "Topic 7",
          "x": 0.9125,
          "xanchor": "center",
          "xref": "paper",
          "y": 0.9432098765432098,
          "yanchor": "bottom",
          "yref": "paper"
         },
         {
          "font": {
           "size": 16
          },
          "showarrow": false,
          "text": "Topic 8",
          "x": 0.0875,
          "xanchor": "center",
          "xref": "paper",
          "y": 0.8864197530864196,
          "yanchor": "bottom",
          "yref": "paper"
         },
         {
          "font": {
           "size": 16
          },
          "showarrow": false,
          "text": "Topic 9",
          "x": 0.36250000000000004,
          "xanchor": "center",
          "xref": "paper",
          "y": 0.8864197530864196,
          "yanchor": "bottom",
          "yref": "paper"
         },
         {
          "font": {
           "size": 16
          },
          "showarrow": false,
          "text": "Topic 10",
          "x": 0.6375000000000001,
          "xanchor": "center",
          "xref": "paper",
          "y": 0.8864197530864196,
          "yanchor": "bottom",
          "yref": "paper"
         },
         {
          "font": {
           "size": 16
          },
          "showarrow": false,
          "text": "Topic 11",
          "x": 0.9125,
          "xanchor": "center",
          "xref": "paper",
          "y": 0.8864197530864196,
          "yanchor": "bottom",
          "yref": "paper"
         },
         {
          "font": {
           "size": 16
          },
          "showarrow": false,
          "text": "Topic 12",
          "x": 0.0875,
          "xanchor": "center",
          "xref": "paper",
          "y": 0.8296296296296295,
          "yanchor": "bottom",
          "yref": "paper"
         },
         {
          "font": {
           "size": 16
          },
          "showarrow": false,
          "text": "Topic 13",
          "x": 0.36250000000000004,
          "xanchor": "center",
          "xref": "paper",
          "y": 0.8296296296296295,
          "yanchor": "bottom",
          "yref": "paper"
         },
         {
          "font": {
           "size": 16
          },
          "showarrow": false,
          "text": "Topic 14",
          "x": 0.6375000000000001,
          "xanchor": "center",
          "xref": "paper",
          "y": 0.8296296296296295,
          "yanchor": "bottom",
          "yref": "paper"
         },
         {
          "font": {
           "size": 16
          },
          "showarrow": false,
          "text": "Topic 15",
          "x": 0.9125,
          "xanchor": "center",
          "xref": "paper",
          "y": 0.8296296296296295,
          "yanchor": "bottom",
          "yref": "paper"
         },
         {
          "font": {
           "size": 16
          },
          "showarrow": false,
          "text": "Topic 16",
          "x": 0.0875,
          "xanchor": "center",
          "xref": "paper",
          "y": 0.7728395061728395,
          "yanchor": "bottom",
          "yref": "paper"
         },
         {
          "font": {
           "size": 16
          },
          "showarrow": false,
          "text": "Topic 17",
          "x": 0.36250000000000004,
          "xanchor": "center",
          "xref": "paper",
          "y": 0.7728395061728395,
          "yanchor": "bottom",
          "yref": "paper"
         },
         {
          "font": {
           "size": 16
          },
          "showarrow": false,
          "text": "Topic 18",
          "x": 0.6375000000000001,
          "xanchor": "center",
          "xref": "paper",
          "y": 0.7728395061728395,
          "yanchor": "bottom",
          "yref": "paper"
         },
         {
          "font": {
           "size": 16
          },
          "showarrow": false,
          "text": "Topic 19",
          "x": 0.9125,
          "xanchor": "center",
          "xref": "paper",
          "y": 0.7728395061728395,
          "yanchor": "bottom",
          "yref": "paper"
         },
         {
          "font": {
           "size": 16
          },
          "showarrow": false,
          "text": "Topic 20",
          "x": 0.0875,
          "xanchor": "center",
          "xref": "paper",
          "y": 0.7160493827160492,
          "yanchor": "bottom",
          "yref": "paper"
         },
         {
          "font": {
           "size": 16
          },
          "showarrow": false,
          "text": "Topic 21",
          "x": 0.36250000000000004,
          "xanchor": "center",
          "xref": "paper",
          "y": 0.7160493827160492,
          "yanchor": "bottom",
          "yref": "paper"
         },
         {
          "font": {
           "size": 16
          },
          "showarrow": false,
          "text": "Topic 22",
          "x": 0.6375000000000001,
          "xanchor": "center",
          "xref": "paper",
          "y": 0.7160493827160492,
          "yanchor": "bottom",
          "yref": "paper"
         },
         {
          "font": {
           "size": 16
          },
          "showarrow": false,
          "text": "Topic 23",
          "x": 0.9125,
          "xanchor": "center",
          "xref": "paper",
          "y": 0.7160493827160492,
          "yanchor": "bottom",
          "yref": "paper"
         },
         {
          "font": {
           "size": 16
          },
          "showarrow": false,
          "text": "Topic 24",
          "x": 0.0875,
          "xanchor": "center",
          "xref": "paper",
          "y": 0.6592592592592592,
          "yanchor": "bottom",
          "yref": "paper"
         },
         {
          "font": {
           "size": 16
          },
          "showarrow": false,
          "text": "Topic 25",
          "x": 0.36250000000000004,
          "xanchor": "center",
          "xref": "paper",
          "y": 0.6592592592592592,
          "yanchor": "bottom",
          "yref": "paper"
         },
         {
          "font": {
           "size": 16
          },
          "showarrow": false,
          "text": "Topic 26",
          "x": 0.6375000000000001,
          "xanchor": "center",
          "xref": "paper",
          "y": 0.6592592592592592,
          "yanchor": "bottom",
          "yref": "paper"
         },
         {
          "font": {
           "size": 16
          },
          "showarrow": false,
          "text": "Topic 27",
          "x": 0.9125,
          "xanchor": "center",
          "xref": "paper",
          "y": 0.6592592592592592,
          "yanchor": "bottom",
          "yref": "paper"
         },
         {
          "font": {
           "size": 16
          },
          "showarrow": false,
          "text": "Topic 28",
          "x": 0.0875,
          "xanchor": "center",
          "xref": "paper",
          "y": 0.6024691358024691,
          "yanchor": "bottom",
          "yref": "paper"
         },
         {
          "font": {
           "size": 16
          },
          "showarrow": false,
          "text": "Topic 29",
          "x": 0.36250000000000004,
          "xanchor": "center",
          "xref": "paper",
          "y": 0.6024691358024691,
          "yanchor": "bottom",
          "yref": "paper"
         },
         {
          "font": {
           "size": 16
          },
          "showarrow": false,
          "text": "Topic 30",
          "x": 0.6375000000000001,
          "xanchor": "center",
          "xref": "paper",
          "y": 0.6024691358024691,
          "yanchor": "bottom",
          "yref": "paper"
         },
         {
          "font": {
           "size": 16
          },
          "showarrow": false,
          "text": "Topic 31",
          "x": 0.9125,
          "xanchor": "center",
          "xref": "paper",
          "y": 0.6024691358024691,
          "yanchor": "bottom",
          "yref": "paper"
         },
         {
          "font": {
           "size": 16
          },
          "showarrow": false,
          "text": "Topic 32",
          "x": 0.0875,
          "xanchor": "center",
          "xref": "paper",
          "y": 0.545679012345679,
          "yanchor": "bottom",
          "yref": "paper"
         },
         {
          "font": {
           "size": 16
          },
          "showarrow": false,
          "text": "Topic 33",
          "x": 0.36250000000000004,
          "xanchor": "center",
          "xref": "paper",
          "y": 0.545679012345679,
          "yanchor": "bottom",
          "yref": "paper"
         },
         {
          "font": {
           "size": 16
          },
          "showarrow": false,
          "text": "Topic 34",
          "x": 0.6375000000000001,
          "xanchor": "center",
          "xref": "paper",
          "y": 0.545679012345679,
          "yanchor": "bottom",
          "yref": "paper"
         },
         {
          "font": {
           "size": 16
          },
          "showarrow": false,
          "text": "Topic 35",
          "x": 0.9125,
          "xanchor": "center",
          "xref": "paper",
          "y": 0.545679012345679,
          "yanchor": "bottom",
          "yref": "paper"
         },
         {
          "font": {
           "size": 16
          },
          "showarrow": false,
          "text": "Topic 36",
          "x": 0.0875,
          "xanchor": "center",
          "xref": "paper",
          "y": 0.48888888888888893,
          "yanchor": "bottom",
          "yref": "paper"
         },
         {
          "font": {
           "size": 16
          },
          "showarrow": false,
          "text": "Topic 37",
          "x": 0.36250000000000004,
          "xanchor": "center",
          "xref": "paper",
          "y": 0.48888888888888893,
          "yanchor": "bottom",
          "yref": "paper"
         },
         {
          "font": {
           "size": 16
          },
          "showarrow": false,
          "text": "Topic 38",
          "x": 0.6375000000000001,
          "xanchor": "center",
          "xref": "paper",
          "y": 0.48888888888888893,
          "yanchor": "bottom",
          "yref": "paper"
         },
         {
          "font": {
           "size": 16
          },
          "showarrow": false,
          "text": "Topic 39",
          "x": 0.9125,
          "xanchor": "center",
          "xref": "paper",
          "y": 0.48888888888888893,
          "yanchor": "bottom",
          "yref": "paper"
         },
         {
          "font": {
           "size": 16
          },
          "showarrow": false,
          "text": "Topic 40",
          "x": 0.0875,
          "xanchor": "center",
          "xref": "paper",
          "y": 0.4320987654320988,
          "yanchor": "bottom",
          "yref": "paper"
         },
         {
          "font": {
           "size": 16
          },
          "showarrow": false,
          "text": "Topic 41",
          "x": 0.36250000000000004,
          "xanchor": "center",
          "xref": "paper",
          "y": 0.4320987654320988,
          "yanchor": "bottom",
          "yref": "paper"
         },
         {
          "font": {
           "size": 16
          },
          "showarrow": false,
          "text": "Topic 42",
          "x": 0.6375000000000001,
          "xanchor": "center",
          "xref": "paper",
          "y": 0.4320987654320988,
          "yanchor": "bottom",
          "yref": "paper"
         },
         {
          "font": {
           "size": 16
          },
          "showarrow": false,
          "text": "Topic 43",
          "x": 0.9125,
          "xanchor": "center",
          "xref": "paper",
          "y": 0.4320987654320988,
          "yanchor": "bottom",
          "yref": "paper"
         },
         {
          "font": {
           "size": 16
          },
          "showarrow": false,
          "text": "Topic 44",
          "x": 0.0875,
          "xanchor": "center",
          "xref": "paper",
          "y": 0.37530864197530867,
          "yanchor": "bottom",
          "yref": "paper"
         },
         {
          "font": {
           "size": 16
          },
          "showarrow": false,
          "text": "Topic 45",
          "x": 0.36250000000000004,
          "xanchor": "center",
          "xref": "paper",
          "y": 0.37530864197530867,
          "yanchor": "bottom",
          "yref": "paper"
         },
         {
          "font": {
           "size": 16
          },
          "showarrow": false,
          "text": "Topic 46",
          "x": 0.6375000000000001,
          "xanchor": "center",
          "xref": "paper",
          "y": 0.37530864197530867,
          "yanchor": "bottom",
          "yref": "paper"
         },
         {
          "font": {
           "size": 16
          },
          "showarrow": false,
          "text": "Topic 47",
          "x": 0.9125,
          "xanchor": "center",
          "xref": "paper",
          "y": 0.37530864197530867,
          "yanchor": "bottom",
          "yref": "paper"
         },
         {
          "font": {
           "size": 16
          },
          "showarrow": false,
          "text": "Topic 48",
          "x": 0.0875,
          "xanchor": "center",
          "xref": "paper",
          "y": 0.31851851851851853,
          "yanchor": "bottom",
          "yref": "paper"
         },
         {
          "font": {
           "size": 16
          },
          "showarrow": false,
          "text": "Topic 49",
          "x": 0.36250000000000004,
          "xanchor": "center",
          "xref": "paper",
          "y": 0.31851851851851853,
          "yanchor": "bottom",
          "yref": "paper"
         },
         {
          "font": {
           "size": 16
          },
          "showarrow": false,
          "text": "Topic 50",
          "x": 0.6375000000000001,
          "xanchor": "center",
          "xref": "paper",
          "y": 0.31851851851851853,
          "yanchor": "bottom",
          "yref": "paper"
         },
         {
          "font": {
           "size": 16
          },
          "showarrow": false,
          "text": "Topic 51",
          "x": 0.9125,
          "xanchor": "center",
          "xref": "paper",
          "y": 0.31851851851851853,
          "yanchor": "bottom",
          "yref": "paper"
         },
         {
          "font": {
           "size": 16
          },
          "showarrow": false,
          "text": "Topic 52",
          "x": 0.0875,
          "xanchor": "center",
          "xref": "paper",
          "y": 0.2617283950617284,
          "yanchor": "bottom",
          "yref": "paper"
         },
         {
          "font": {
           "size": 16
          },
          "showarrow": false,
          "text": "Topic 53",
          "x": 0.36250000000000004,
          "xanchor": "center",
          "xref": "paper",
          "y": 0.2617283950617284,
          "yanchor": "bottom",
          "yref": "paper"
         },
         {
          "font": {
           "size": 16
          },
          "showarrow": false,
          "text": "Topic 54",
          "x": 0.6375000000000001,
          "xanchor": "center",
          "xref": "paper",
          "y": 0.2617283950617284,
          "yanchor": "bottom",
          "yref": "paper"
         },
         {
          "font": {
           "size": 16
          },
          "showarrow": false,
          "text": "Topic 55",
          "x": 0.9125,
          "xanchor": "center",
          "xref": "paper",
          "y": 0.2617283950617284,
          "yanchor": "bottom",
          "yref": "paper"
         },
         {
          "font": {
           "size": 16
          },
          "showarrow": false,
          "text": "Topic 56",
          "x": 0.0875,
          "xanchor": "center",
          "xref": "paper",
          "y": 0.2049382716049383,
          "yanchor": "bottom",
          "yref": "paper"
         },
         {
          "font": {
           "size": 16
          },
          "showarrow": false,
          "text": "Topic 57",
          "x": 0.36250000000000004,
          "xanchor": "center",
          "xref": "paper",
          "y": 0.2049382716049383,
          "yanchor": "bottom",
          "yref": "paper"
         },
         {
          "font": {
           "size": 16
          },
          "showarrow": false,
          "text": "Topic 58",
          "x": 0.6375000000000001,
          "xanchor": "center",
          "xref": "paper",
          "y": 0.2049382716049383,
          "yanchor": "bottom",
          "yref": "paper"
         },
         {
          "font": {
           "size": 16
          },
          "showarrow": false,
          "text": "Topic 59",
          "x": 0.9125,
          "xanchor": "center",
          "xref": "paper",
          "y": 0.2049382716049383,
          "yanchor": "bottom",
          "yref": "paper"
         },
         {
          "font": {
           "size": 16
          },
          "showarrow": false,
          "text": "Topic 60",
          "x": 0.0875,
          "xanchor": "center",
          "xref": "paper",
          "y": 0.14814814814814817,
          "yanchor": "bottom",
          "yref": "paper"
         },
         {
          "font": {
           "size": 16
          },
          "showarrow": false,
          "text": "Topic 61",
          "x": 0.36250000000000004,
          "xanchor": "center",
          "xref": "paper",
          "y": 0.14814814814814817,
          "yanchor": "bottom",
          "yref": "paper"
         },
         {
          "font": {
           "size": 16
          },
          "showarrow": false,
          "text": "Topic 62",
          "x": 0.6375000000000001,
          "xanchor": "center",
          "xref": "paper",
          "y": 0.14814814814814817,
          "yanchor": "bottom",
          "yref": "paper"
         },
         {
          "font": {
           "size": 16
          },
          "showarrow": false,
          "text": "Topic 63",
          "x": 0.9125,
          "xanchor": "center",
          "xref": "paper",
          "y": 0.14814814814814817,
          "yanchor": "bottom",
          "yref": "paper"
         },
         {
          "font": {
           "size": 16
          },
          "showarrow": false,
          "text": "Topic 64",
          "x": 0.0875,
          "xanchor": "center",
          "xref": "paper",
          "y": 0.09135802469135804,
          "yanchor": "bottom",
          "yref": "paper"
         },
         {
          "font": {
           "size": 16
          },
          "showarrow": false,
          "text": "Topic 65",
          "x": 0.36250000000000004,
          "xanchor": "center",
          "xref": "paper",
          "y": 0.09135802469135804,
          "yanchor": "bottom",
          "yref": "paper"
         },
         {
          "font": {
           "size": 16
          },
          "showarrow": false,
          "text": "Topic 66",
          "x": 0.6375000000000001,
          "xanchor": "center",
          "xref": "paper",
          "y": 0.09135802469135804,
          "yanchor": "bottom",
          "yref": "paper"
         },
         {
          "font": {
           "size": 16
          },
          "showarrow": false,
          "text": "Topic 67",
          "x": 0.9125,
          "xanchor": "center",
          "xref": "paper",
          "y": 0.09135802469135804,
          "yanchor": "bottom",
          "yref": "paper"
         },
         {
          "font": {
           "size": 16
          },
          "showarrow": false,
          "text": "Topic 68",
          "x": 0.0875,
          "xanchor": "center",
          "xref": "paper",
          "y": 0.034567901234567905,
          "yanchor": "bottom",
          "yref": "paper"
         },
         {
          "font": {
           "size": 16
          },
          "showarrow": false,
          "text": "Topic 69",
          "x": 0.36250000000000004,
          "xanchor": "center",
          "xref": "paper",
          "y": 0.034567901234567905,
          "yanchor": "bottom",
          "yref": "paper"
         },
         {
          "font": {
           "size": 16
          },
          "showarrow": false,
          "text": "Topic 70",
          "x": 0.6375000000000001,
          "xanchor": "center",
          "xref": "paper",
          "y": 0.034567901234567905,
          "yanchor": "bottom",
          "yref": "paper"
         }
        ],
        "height": 4500,
        "hoverlabel": {
         "bgcolor": "white",
         "font": {
          "family": "Rockwell",
          "size": 16
         }
        },
        "showlegend": false,
        "template": {
         "data": {
          "bar": [
           {
            "error_x": {
             "color": "#2a3f5f"
            },
            "error_y": {
             "color": "#2a3f5f"
            },
            "marker": {
             "line": {
              "color": "white",
              "width": 0.5
             },
             "pattern": {
              "fillmode": "overlay",
              "size": 10,
              "solidity": 0.2
             }
            },
            "type": "bar"
           }
          ],
          "barpolar": [
           {
            "marker": {
             "line": {
              "color": "white",
              "width": 0.5
             },
             "pattern": {
              "fillmode": "overlay",
              "size": 10,
              "solidity": 0.2
             }
            },
            "type": "barpolar"
           }
          ],
          "carpet": [
           {
            "aaxis": {
             "endlinecolor": "#2a3f5f",
             "gridcolor": "#C8D4E3",
             "linecolor": "#C8D4E3",
             "minorgridcolor": "#C8D4E3",
             "startlinecolor": "#2a3f5f"
            },
            "baxis": {
             "endlinecolor": "#2a3f5f",
             "gridcolor": "#C8D4E3",
             "linecolor": "#C8D4E3",
             "minorgridcolor": "#C8D4E3",
             "startlinecolor": "#2a3f5f"
            },
            "type": "carpet"
           }
          ],
          "choropleth": [
           {
            "colorbar": {
             "outlinewidth": 0,
             "ticks": ""
            },
            "type": "choropleth"
           }
          ],
          "contour": [
           {
            "colorbar": {
             "outlinewidth": 0,
             "ticks": ""
            },
            "colorscale": [
             [
              0,
              "#0d0887"
             ],
             [
              0.1111111111111111,
              "#46039f"
             ],
             [
              0.2222222222222222,
              "#7201a8"
             ],
             [
              0.3333333333333333,
              "#9c179e"
             ],
             [
              0.4444444444444444,
              "#bd3786"
             ],
             [
              0.5555555555555556,
              "#d8576b"
             ],
             [
              0.6666666666666666,
              "#ed7953"
             ],
             [
              0.7777777777777778,
              "#fb9f3a"
             ],
             [
              0.8888888888888888,
              "#fdca26"
             ],
             [
              1,
              "#f0f921"
             ]
            ],
            "type": "contour"
           }
          ],
          "contourcarpet": [
           {
            "colorbar": {
             "outlinewidth": 0,
             "ticks": ""
            },
            "type": "contourcarpet"
           }
          ],
          "heatmap": [
           {
            "colorbar": {
             "outlinewidth": 0,
             "ticks": ""
            },
            "colorscale": [
             [
              0,
              "#0d0887"
             ],
             [
              0.1111111111111111,
              "#46039f"
             ],
             [
              0.2222222222222222,
              "#7201a8"
             ],
             [
              0.3333333333333333,
              "#9c179e"
             ],
             [
              0.4444444444444444,
              "#bd3786"
             ],
             [
              0.5555555555555556,
              "#d8576b"
             ],
             [
              0.6666666666666666,
              "#ed7953"
             ],
             [
              0.7777777777777778,
              "#fb9f3a"
             ],
             [
              0.8888888888888888,
              "#fdca26"
             ],
             [
              1,
              "#f0f921"
             ]
            ],
            "type": "heatmap"
           }
          ],
          "heatmapgl": [
           {
            "colorbar": {
             "outlinewidth": 0,
             "ticks": ""
            },
            "colorscale": [
             [
              0,
              "#0d0887"
             ],
             [
              0.1111111111111111,
              "#46039f"
             ],
             [
              0.2222222222222222,
              "#7201a8"
             ],
             [
              0.3333333333333333,
              "#9c179e"
             ],
             [
              0.4444444444444444,
              "#bd3786"
             ],
             [
              0.5555555555555556,
              "#d8576b"
             ],
             [
              0.6666666666666666,
              "#ed7953"
             ],
             [
              0.7777777777777778,
              "#fb9f3a"
             ],
             [
              0.8888888888888888,
              "#fdca26"
             ],
             [
              1,
              "#f0f921"
             ]
            ],
            "type": "heatmapgl"
           }
          ],
          "histogram": [
           {
            "marker": {
             "pattern": {
              "fillmode": "overlay",
              "size": 10,
              "solidity": 0.2
             }
            },
            "type": "histogram"
           }
          ],
          "histogram2d": [
           {
            "colorbar": {
             "outlinewidth": 0,
             "ticks": ""
            },
            "colorscale": [
             [
              0,
              "#0d0887"
             ],
             [
              0.1111111111111111,
              "#46039f"
             ],
             [
              0.2222222222222222,
              "#7201a8"
             ],
             [
              0.3333333333333333,
              "#9c179e"
             ],
             [
              0.4444444444444444,
              "#bd3786"
             ],
             [
              0.5555555555555556,
              "#d8576b"
             ],
             [
              0.6666666666666666,
              "#ed7953"
             ],
             [
              0.7777777777777778,
              "#fb9f3a"
             ],
             [
              0.8888888888888888,
              "#fdca26"
             ],
             [
              1,
              "#f0f921"
             ]
            ],
            "type": "histogram2d"
           }
          ],
          "histogram2dcontour": [
           {
            "colorbar": {
             "outlinewidth": 0,
             "ticks": ""
            },
            "colorscale": [
             [
              0,
              "#0d0887"
             ],
             [
              0.1111111111111111,
              "#46039f"
             ],
             [
              0.2222222222222222,
              "#7201a8"
             ],
             [
              0.3333333333333333,
              "#9c179e"
             ],
             [
              0.4444444444444444,
              "#bd3786"
             ],
             [
              0.5555555555555556,
              "#d8576b"
             ],
             [
              0.6666666666666666,
              "#ed7953"
             ],
             [
              0.7777777777777778,
              "#fb9f3a"
             ],
             [
              0.8888888888888888,
              "#fdca26"
             ],
             [
              1,
              "#f0f921"
             ]
            ],
            "type": "histogram2dcontour"
           }
          ],
          "mesh3d": [
           {
            "colorbar": {
             "outlinewidth": 0,
             "ticks": ""
            },
            "type": "mesh3d"
           }
          ],
          "parcoords": [
           {
            "line": {
             "colorbar": {
              "outlinewidth": 0,
              "ticks": ""
             }
            },
            "type": "parcoords"
           }
          ],
          "pie": [
           {
            "automargin": true,
            "type": "pie"
           }
          ],
          "scatter": [
           {
            "fillpattern": {
             "fillmode": "overlay",
             "size": 10,
             "solidity": 0.2
            },
            "type": "scatter"
           }
          ],
          "scatter3d": [
           {
            "line": {
             "colorbar": {
              "outlinewidth": 0,
              "ticks": ""
             }
            },
            "marker": {
             "colorbar": {
              "outlinewidth": 0,
              "ticks": ""
             }
            },
            "type": "scatter3d"
           }
          ],
          "scattercarpet": [
           {
            "marker": {
             "colorbar": {
              "outlinewidth": 0,
              "ticks": ""
             }
            },
            "type": "scattercarpet"
           }
          ],
          "scattergeo": [
           {
            "marker": {
             "colorbar": {
              "outlinewidth": 0,
              "ticks": ""
             }
            },
            "type": "scattergeo"
           }
          ],
          "scattergl": [
           {
            "marker": {
             "colorbar": {
              "outlinewidth": 0,
              "ticks": ""
             }
            },
            "type": "scattergl"
           }
          ],
          "scattermapbox": [
           {
            "marker": {
             "colorbar": {
              "outlinewidth": 0,
              "ticks": ""
             }
            },
            "type": "scattermapbox"
           }
          ],
          "scatterpolar": [
           {
            "marker": {
             "colorbar": {
              "outlinewidth": 0,
              "ticks": ""
             }
            },
            "type": "scatterpolar"
           }
          ],
          "scatterpolargl": [
           {
            "marker": {
             "colorbar": {
              "outlinewidth": 0,
              "ticks": ""
             }
            },
            "type": "scatterpolargl"
           }
          ],
          "scatterternary": [
           {
            "marker": {
             "colorbar": {
              "outlinewidth": 0,
              "ticks": ""
             }
            },
            "type": "scatterternary"
           }
          ],
          "surface": [
           {
            "colorbar": {
             "outlinewidth": 0,
             "ticks": ""
            },
            "colorscale": [
             [
              0,
              "#0d0887"
             ],
             [
              0.1111111111111111,
              "#46039f"
             ],
             [
              0.2222222222222222,
              "#7201a8"
             ],
             [
              0.3333333333333333,
              "#9c179e"
             ],
             [
              0.4444444444444444,
              "#bd3786"
             ],
             [
              0.5555555555555556,
              "#d8576b"
             ],
             [
              0.6666666666666666,
              "#ed7953"
             ],
             [
              0.7777777777777778,
              "#fb9f3a"
             ],
             [
              0.8888888888888888,
              "#fdca26"
             ],
             [
              1,
              "#f0f921"
             ]
            ],
            "type": "surface"
           }
          ],
          "table": [
           {
            "cells": {
             "fill": {
              "color": "#EBF0F8"
             },
             "line": {
              "color": "white"
             }
            },
            "header": {
             "fill": {
              "color": "#C8D4E3"
             },
             "line": {
              "color": "white"
             }
            },
            "type": "table"
           }
          ]
         },
         "layout": {
          "annotationdefaults": {
           "arrowcolor": "#2a3f5f",
           "arrowhead": 0,
           "arrowwidth": 1
          },
          "autotypenumbers": "strict",
          "coloraxis": {
           "colorbar": {
            "outlinewidth": 0,
            "ticks": ""
           }
          },
          "colorscale": {
           "diverging": [
            [
             0,
             "#8e0152"
            ],
            [
             0.1,
             "#c51b7d"
            ],
            [
             0.2,
             "#de77ae"
            ],
            [
             0.3,
             "#f1b6da"
            ],
            [
             0.4,
             "#fde0ef"
            ],
            [
             0.5,
             "#f7f7f7"
            ],
            [
             0.6,
             "#e6f5d0"
            ],
            [
             0.7,
             "#b8e186"
            ],
            [
             0.8,
             "#7fbc41"
            ],
            [
             0.9,
             "#4d9221"
            ],
            [
             1,
             "#276419"
            ]
           ],
           "sequential": [
            [
             0,
             "#0d0887"
            ],
            [
             0.1111111111111111,
             "#46039f"
            ],
            [
             0.2222222222222222,
             "#7201a8"
            ],
            [
             0.3333333333333333,
             "#9c179e"
            ],
            [
             0.4444444444444444,
             "#bd3786"
            ],
            [
             0.5555555555555556,
             "#d8576b"
            ],
            [
             0.6666666666666666,
             "#ed7953"
            ],
            [
             0.7777777777777778,
             "#fb9f3a"
            ],
            [
             0.8888888888888888,
             "#fdca26"
            ],
            [
             1,
             "#f0f921"
            ]
           ],
           "sequentialminus": [
            [
             0,
             "#0d0887"
            ],
            [
             0.1111111111111111,
             "#46039f"
            ],
            [
             0.2222222222222222,
             "#7201a8"
            ],
            [
             0.3333333333333333,
             "#9c179e"
            ],
            [
             0.4444444444444444,
             "#bd3786"
            ],
            [
             0.5555555555555556,
             "#d8576b"
            ],
            [
             0.6666666666666666,
             "#ed7953"
            ],
            [
             0.7777777777777778,
             "#fb9f3a"
            ],
            [
             0.8888888888888888,
             "#fdca26"
            ],
            [
             1,
             "#f0f921"
            ]
           ]
          },
          "colorway": [
           "#636efa",
           "#EF553B",
           "#00cc96",
           "#ab63fa",
           "#FFA15A",
           "#19d3f3",
           "#FF6692",
           "#B6E880",
           "#FF97FF",
           "#FECB52"
          ],
          "font": {
           "color": "#2a3f5f"
          },
          "geo": {
           "bgcolor": "white",
           "lakecolor": "white",
           "landcolor": "white",
           "showlakes": true,
           "showland": true,
           "subunitcolor": "#C8D4E3"
          },
          "hoverlabel": {
           "align": "left"
          },
          "hovermode": "closest",
          "mapbox": {
           "style": "light"
          },
          "paper_bgcolor": "white",
          "plot_bgcolor": "white",
          "polar": {
           "angularaxis": {
            "gridcolor": "#EBF0F8",
            "linecolor": "#EBF0F8",
            "ticks": ""
           },
           "bgcolor": "white",
           "radialaxis": {
            "gridcolor": "#EBF0F8",
            "linecolor": "#EBF0F8",
            "ticks": ""
           }
          },
          "scene": {
           "xaxis": {
            "backgroundcolor": "white",
            "gridcolor": "#DFE8F3",
            "gridwidth": 2,
            "linecolor": "#EBF0F8",
            "showbackground": true,
            "ticks": "",
            "zerolinecolor": "#EBF0F8"
           },
           "yaxis": {
            "backgroundcolor": "white",
            "gridcolor": "#DFE8F3",
            "gridwidth": 2,
            "linecolor": "#EBF0F8",
            "showbackground": true,
            "ticks": "",
            "zerolinecolor": "#EBF0F8"
           },
           "zaxis": {
            "backgroundcolor": "white",
            "gridcolor": "#DFE8F3",
            "gridwidth": 2,
            "linecolor": "#EBF0F8",
            "showbackground": true,
            "ticks": "",
            "zerolinecolor": "#EBF0F8"
           }
          },
          "shapedefaults": {
           "line": {
            "color": "#2a3f5f"
           }
          },
          "ternary": {
           "aaxis": {
            "gridcolor": "#DFE8F3",
            "linecolor": "#A2B1C6",
            "ticks": ""
           },
           "baxis": {
            "gridcolor": "#DFE8F3",
            "linecolor": "#A2B1C6",
            "ticks": ""
           },
           "bgcolor": "white",
           "caxis": {
            "gridcolor": "#DFE8F3",
            "linecolor": "#A2B1C6",
            "ticks": ""
           }
          },
          "title": {
           "x": 0.05
          },
          "xaxis": {
           "automargin": true,
           "gridcolor": "#EBF0F8",
           "linecolor": "#EBF0F8",
           "ticks": "",
           "title": {
            "standoff": 15
           },
           "zerolinecolor": "#EBF0F8",
           "zerolinewidth": 2
          },
          "yaxis": {
           "automargin": true,
           "gridcolor": "#EBF0F8",
           "linecolor": "#EBF0F8",
           "ticks": "",
           "title": {
            "standoff": 15
           },
           "zerolinecolor": "#EBF0F8",
           "zerolinewidth": 2
          }
         }
        },
        "title": {
         "font": {
          "color": "Black",
          "size": 22
         },
         "text": "All - Lack of Access to Health/Mental Health Care",
         "x": 0.5,
         "xanchor": "center",
         "yanchor": "top"
        },
        "width": 1000,
        "xaxis": {
         "anchor": "y",
         "domain": [
          0,
          0.175
         ],
         "showgrid": true
        },
        "xaxis10": {
         "anchor": "y10",
         "domain": [
          0.275,
          0.45
         ],
         "showgrid": true
        },
        "xaxis11": {
         "anchor": "y11",
         "domain": [
          0.55,
          0.7250000000000001
         ],
         "showgrid": true
        },
        "xaxis12": {
         "anchor": "y12",
         "domain": [
          0.825,
          1
         ],
         "showgrid": true
        },
        "xaxis13": {
         "anchor": "y13",
         "domain": [
          0,
          0.175
         ],
         "showgrid": true
        },
        "xaxis14": {
         "anchor": "y14",
         "domain": [
          0.275,
          0.45
         ],
         "showgrid": true
        },
        "xaxis15": {
         "anchor": "y15",
         "domain": [
          0.55,
          0.7250000000000001
         ],
         "showgrid": true
        },
        "xaxis16": {
         "anchor": "y16",
         "domain": [
          0.825,
          1
         ],
         "showgrid": true
        },
        "xaxis17": {
         "anchor": "y17",
         "domain": [
          0,
          0.175
         ],
         "showgrid": true
        },
        "xaxis18": {
         "anchor": "y18",
         "domain": [
          0.275,
          0.45
         ],
         "showgrid": true
        },
        "xaxis19": {
         "anchor": "y19",
         "domain": [
          0.55,
          0.7250000000000001
         ],
         "showgrid": true
        },
        "xaxis2": {
         "anchor": "y2",
         "domain": [
          0.275,
          0.45
         ],
         "showgrid": true
        },
        "xaxis20": {
         "anchor": "y20",
         "domain": [
          0.825,
          1
         ],
         "showgrid": true
        },
        "xaxis21": {
         "anchor": "y21",
         "domain": [
          0,
          0.175
         ],
         "showgrid": true
        },
        "xaxis22": {
         "anchor": "y22",
         "domain": [
          0.275,
          0.45
         ],
         "showgrid": true
        },
        "xaxis23": {
         "anchor": "y23",
         "domain": [
          0.55,
          0.7250000000000001
         ],
         "showgrid": true
        },
        "xaxis24": {
         "anchor": "y24",
         "domain": [
          0.825,
          1
         ],
         "showgrid": true
        },
        "xaxis25": {
         "anchor": "y25",
         "domain": [
          0,
          0.175
         ],
         "showgrid": true
        },
        "xaxis26": {
         "anchor": "y26",
         "domain": [
          0.275,
          0.45
         ],
         "showgrid": true
        },
        "xaxis27": {
         "anchor": "y27",
         "domain": [
          0.55,
          0.7250000000000001
         ],
         "showgrid": true
        },
        "xaxis28": {
         "anchor": "y28",
         "domain": [
          0.825,
          1
         ],
         "showgrid": true
        },
        "xaxis29": {
         "anchor": "y29",
         "domain": [
          0,
          0.175
         ],
         "showgrid": true
        },
        "xaxis3": {
         "anchor": "y3",
         "domain": [
          0.55,
          0.7250000000000001
         ],
         "showgrid": true
        },
        "xaxis30": {
         "anchor": "y30",
         "domain": [
          0.275,
          0.45
         ],
         "showgrid": true
        },
        "xaxis31": {
         "anchor": "y31",
         "domain": [
          0.55,
          0.7250000000000001
         ],
         "showgrid": true
        },
        "xaxis32": {
         "anchor": "y32",
         "domain": [
          0.825,
          1
         ],
         "showgrid": true
        },
        "xaxis33": {
         "anchor": "y33",
         "domain": [
          0,
          0.175
         ],
         "showgrid": true
        },
        "xaxis34": {
         "anchor": "y34",
         "domain": [
          0.275,
          0.45
         ],
         "showgrid": true
        },
        "xaxis35": {
         "anchor": "y35",
         "domain": [
          0.55,
          0.7250000000000001
         ],
         "showgrid": true
        },
        "xaxis36": {
         "anchor": "y36",
         "domain": [
          0.825,
          1
         ],
         "showgrid": true
        },
        "xaxis37": {
         "anchor": "y37",
         "domain": [
          0,
          0.175
         ],
         "showgrid": true
        },
        "xaxis38": {
         "anchor": "y38",
         "domain": [
          0.275,
          0.45
         ],
         "showgrid": true
        },
        "xaxis39": {
         "anchor": "y39",
         "domain": [
          0.55,
          0.7250000000000001
         ],
         "showgrid": true
        },
        "xaxis4": {
         "anchor": "y4",
         "domain": [
          0.825,
          1
         ],
         "showgrid": true
        },
        "xaxis40": {
         "anchor": "y40",
         "domain": [
          0.825,
          1
         ],
         "showgrid": true
        },
        "xaxis41": {
         "anchor": "y41",
         "domain": [
          0,
          0.175
         ],
         "showgrid": true
        },
        "xaxis42": {
         "anchor": "y42",
         "domain": [
          0.275,
          0.45
         ],
         "showgrid": true
        },
        "xaxis43": {
         "anchor": "y43",
         "domain": [
          0.55,
          0.7250000000000001
         ],
         "showgrid": true
        },
        "xaxis44": {
         "anchor": "y44",
         "domain": [
          0.825,
          1
         ],
         "showgrid": true
        },
        "xaxis45": {
         "anchor": "y45",
         "domain": [
          0,
          0.175
         ],
         "showgrid": true
        },
        "xaxis46": {
         "anchor": "y46",
         "domain": [
          0.275,
          0.45
         ],
         "showgrid": true
        },
        "xaxis47": {
         "anchor": "y47",
         "domain": [
          0.55,
          0.7250000000000001
         ],
         "showgrid": true
        },
        "xaxis48": {
         "anchor": "y48",
         "domain": [
          0.825,
          1
         ],
         "showgrid": true
        },
        "xaxis49": {
         "anchor": "y49",
         "domain": [
          0,
          0.175
         ],
         "showgrid": true
        },
        "xaxis5": {
         "anchor": "y5",
         "domain": [
          0,
          0.175
         ],
         "showgrid": true
        },
        "xaxis50": {
         "anchor": "y50",
         "domain": [
          0.275,
          0.45
         ],
         "showgrid": true
        },
        "xaxis51": {
         "anchor": "y51",
         "domain": [
          0.55,
          0.7250000000000001
         ],
         "showgrid": true
        },
        "xaxis52": {
         "anchor": "y52",
         "domain": [
          0.825,
          1
         ],
         "showgrid": true
        },
        "xaxis53": {
         "anchor": "y53",
         "domain": [
          0,
          0.175
         ],
         "showgrid": true
        },
        "xaxis54": {
         "anchor": "y54",
         "domain": [
          0.275,
          0.45
         ],
         "showgrid": true
        },
        "xaxis55": {
         "anchor": "y55",
         "domain": [
          0.55,
          0.7250000000000001
         ],
         "showgrid": true
        },
        "xaxis56": {
         "anchor": "y56",
         "domain": [
          0.825,
          1
         ],
         "showgrid": true
        },
        "xaxis57": {
         "anchor": "y57",
         "domain": [
          0,
          0.175
         ],
         "showgrid": true
        },
        "xaxis58": {
         "anchor": "y58",
         "domain": [
          0.275,
          0.45
         ],
         "showgrid": true
        },
        "xaxis59": {
         "anchor": "y59",
         "domain": [
          0.55,
          0.7250000000000001
         ],
         "showgrid": true
        },
        "xaxis6": {
         "anchor": "y6",
         "domain": [
          0.275,
          0.45
         ],
         "showgrid": true
        },
        "xaxis60": {
         "anchor": "y60",
         "domain": [
          0.825,
          1
         ],
         "showgrid": true
        },
        "xaxis61": {
         "anchor": "y61",
         "domain": [
          0,
          0.175
         ],
         "showgrid": true
        },
        "xaxis62": {
         "anchor": "y62",
         "domain": [
          0.275,
          0.45
         ],
         "showgrid": true
        },
        "xaxis63": {
         "anchor": "y63",
         "domain": [
          0.55,
          0.7250000000000001
         ],
         "showgrid": true
        },
        "xaxis64": {
         "anchor": "y64",
         "domain": [
          0.825,
          1
         ],
         "showgrid": true
        },
        "xaxis65": {
         "anchor": "y65",
         "domain": [
          0,
          0.175
         ],
         "showgrid": true
        },
        "xaxis66": {
         "anchor": "y66",
         "domain": [
          0.275,
          0.45
         ],
         "showgrid": true
        },
        "xaxis67": {
         "anchor": "y67",
         "domain": [
          0.55,
          0.7250000000000001
         ],
         "showgrid": true
        },
        "xaxis68": {
         "anchor": "y68",
         "domain": [
          0.825,
          1
         ],
         "showgrid": true
        },
        "xaxis69": {
         "anchor": "y69",
         "domain": [
          0,
          0.175
         ],
         "showgrid": true
        },
        "xaxis7": {
         "anchor": "y7",
         "domain": [
          0.55,
          0.7250000000000001
         ],
         "showgrid": true
        },
        "xaxis70": {
         "anchor": "y70",
         "domain": [
          0.275,
          0.45
         ],
         "showgrid": true
        },
        "xaxis71": {
         "anchor": "y71",
         "domain": [
          0.55,
          0.7250000000000001
         ],
         "showgrid": true
        },
        "xaxis72": {
         "anchor": "y72",
         "domain": [
          0.825,
          1
         ],
         "showgrid": true
        },
        "xaxis8": {
         "anchor": "y8",
         "domain": [
          0.825,
          1
         ],
         "showgrid": true
        },
        "xaxis9": {
         "anchor": "y9",
         "domain": [
          0,
          0.175
         ],
         "showgrid": true
        },
        "yaxis": {
         "anchor": "x",
         "domain": [
          0.9654320987654319,
          0.9999999999999998
         ],
         "showgrid": true
        },
        "yaxis10": {
         "anchor": "x10",
         "domain": [
          0.8518518518518517,
          0.8864197530864196
         ],
         "showgrid": true
        },
        "yaxis11": {
         "anchor": "x11",
         "domain": [
          0.8518518518518517,
          0.8864197530864196
         ],
         "showgrid": true
        },
        "yaxis12": {
         "anchor": "x12",
         "domain": [
          0.8518518518518517,
          0.8864197530864196
         ],
         "showgrid": true
        },
        "yaxis13": {
         "anchor": "x13",
         "domain": [
          0.7950617283950616,
          0.8296296296296295
         ],
         "showgrid": true
        },
        "yaxis14": {
         "anchor": "x14",
         "domain": [
          0.7950617283950616,
          0.8296296296296295
         ],
         "showgrid": true
        },
        "yaxis15": {
         "anchor": "x15",
         "domain": [
          0.7950617283950616,
          0.8296296296296295
         ],
         "showgrid": true
        },
        "yaxis16": {
         "anchor": "x16",
         "domain": [
          0.7950617283950616,
          0.8296296296296295
         ],
         "showgrid": true
        },
        "yaxis17": {
         "anchor": "x17",
         "domain": [
          0.7382716049382716,
          0.7728395061728395
         ],
         "showgrid": true
        },
        "yaxis18": {
         "anchor": "x18",
         "domain": [
          0.7382716049382716,
          0.7728395061728395
         ],
         "showgrid": true
        },
        "yaxis19": {
         "anchor": "x19",
         "domain": [
          0.7382716049382716,
          0.7728395061728395
         ],
         "showgrid": true
        },
        "yaxis2": {
         "anchor": "x2",
         "domain": [
          0.9654320987654319,
          0.9999999999999998
         ],
         "showgrid": true
        },
        "yaxis20": {
         "anchor": "x20",
         "domain": [
          0.7382716049382716,
          0.7728395061728395
         ],
         "showgrid": true
        },
        "yaxis21": {
         "anchor": "x21",
         "domain": [
          0.6814814814814814,
          0.7160493827160492
         ],
         "showgrid": true
        },
        "yaxis22": {
         "anchor": "x22",
         "domain": [
          0.6814814814814814,
          0.7160493827160492
         ],
         "showgrid": true
        },
        "yaxis23": {
         "anchor": "x23",
         "domain": [
          0.6814814814814814,
          0.7160493827160492
         ],
         "showgrid": true
        },
        "yaxis24": {
         "anchor": "x24",
         "domain": [
          0.6814814814814814,
          0.7160493827160492
         ],
         "showgrid": true
        },
        "yaxis25": {
         "anchor": "x25",
         "domain": [
          0.6246913580246913,
          0.6592592592592592
         ],
         "showgrid": true
        },
        "yaxis26": {
         "anchor": "x26",
         "domain": [
          0.6246913580246913,
          0.6592592592592592
         ],
         "showgrid": true
        },
        "yaxis27": {
         "anchor": "x27",
         "domain": [
          0.6246913580246913,
          0.6592592592592592
         ],
         "showgrid": true
        },
        "yaxis28": {
         "anchor": "x28",
         "domain": [
          0.6246913580246913,
          0.6592592592592592
         ],
         "showgrid": true
        },
        "yaxis29": {
         "anchor": "x29",
         "domain": [
          0.5679012345679012,
          0.6024691358024691
         ],
         "showgrid": true
        },
        "yaxis3": {
         "anchor": "x3",
         "domain": [
          0.9654320987654319,
          0.9999999999999998
         ],
         "showgrid": true
        },
        "yaxis30": {
         "anchor": "x30",
         "domain": [
          0.5679012345679012,
          0.6024691358024691
         ],
         "showgrid": true
        },
        "yaxis31": {
         "anchor": "x31",
         "domain": [
          0.5679012345679012,
          0.6024691358024691
         ],
         "showgrid": true
        },
        "yaxis32": {
         "anchor": "x32",
         "domain": [
          0.5679012345679012,
          0.6024691358024691
         ],
         "showgrid": true
        },
        "yaxis33": {
         "anchor": "x33",
         "domain": [
          0.5111111111111111,
          0.545679012345679
         ],
         "showgrid": true
        },
        "yaxis34": {
         "anchor": "x34",
         "domain": [
          0.5111111111111111,
          0.545679012345679
         ],
         "showgrid": true
        },
        "yaxis35": {
         "anchor": "x35",
         "domain": [
          0.5111111111111111,
          0.545679012345679
         ],
         "showgrid": true
        },
        "yaxis36": {
         "anchor": "x36",
         "domain": [
          0.5111111111111111,
          0.545679012345679
         ],
         "showgrid": true
        },
        "yaxis37": {
         "anchor": "x37",
         "domain": [
          0.45432098765432105,
          0.48888888888888893
         ],
         "showgrid": true
        },
        "yaxis38": {
         "anchor": "x38",
         "domain": [
          0.45432098765432105,
          0.48888888888888893
         ],
         "showgrid": true
        },
        "yaxis39": {
         "anchor": "x39",
         "domain": [
          0.45432098765432105,
          0.48888888888888893
         ],
         "showgrid": true
        },
        "yaxis4": {
         "anchor": "x4",
         "domain": [
          0.9654320987654319,
          0.9999999999999998
         ],
         "showgrid": true
        },
        "yaxis40": {
         "anchor": "x40",
         "domain": [
          0.45432098765432105,
          0.48888888888888893
         ],
         "showgrid": true
        },
        "yaxis41": {
         "anchor": "x41",
         "domain": [
          0.3975308641975309,
          0.4320987654320988
         ],
         "showgrid": true
        },
        "yaxis42": {
         "anchor": "x42",
         "domain": [
          0.3975308641975309,
          0.4320987654320988
         ],
         "showgrid": true
        },
        "yaxis43": {
         "anchor": "x43",
         "domain": [
          0.3975308641975309,
          0.4320987654320988
         ],
         "showgrid": true
        },
        "yaxis44": {
         "anchor": "x44",
         "domain": [
          0.3975308641975309,
          0.4320987654320988
         ],
         "showgrid": true
        },
        "yaxis45": {
         "anchor": "x45",
         "domain": [
          0.3407407407407408,
          0.37530864197530867
         ],
         "showgrid": true
        },
        "yaxis46": {
         "anchor": "x46",
         "domain": [
          0.3407407407407408,
          0.37530864197530867
         ],
         "showgrid": true
        },
        "yaxis47": {
         "anchor": "x47",
         "domain": [
          0.3407407407407408,
          0.37530864197530867
         ],
         "showgrid": true
        },
        "yaxis48": {
         "anchor": "x48",
         "domain": [
          0.3407407407407408,
          0.37530864197530867
         ],
         "showgrid": true
        },
        "yaxis49": {
         "anchor": "x49",
         "domain": [
          0.28395061728395066,
          0.31851851851851853
         ],
         "showgrid": true
        },
        "yaxis5": {
         "anchor": "x5",
         "domain": [
          0.9086419753086419,
          0.9432098765432098
         ],
         "showgrid": true
        },
        "yaxis50": {
         "anchor": "x50",
         "domain": [
          0.28395061728395066,
          0.31851851851851853
         ],
         "showgrid": true
        },
        "yaxis51": {
         "anchor": "x51",
         "domain": [
          0.28395061728395066,
          0.31851851851851853
         ],
         "showgrid": true
        },
        "yaxis52": {
         "anchor": "x52",
         "domain": [
          0.28395061728395066,
          0.31851851851851853
         ],
         "showgrid": true
        },
        "yaxis53": {
         "anchor": "x53",
         "domain": [
          0.22716049382716053,
          0.2617283950617284
         ],
         "showgrid": true
        },
        "yaxis54": {
         "anchor": "x54",
         "domain": [
          0.22716049382716053,
          0.2617283950617284
         ],
         "showgrid": true
        },
        "yaxis55": {
         "anchor": "x55",
         "domain": [
          0.22716049382716053,
          0.2617283950617284
         ],
         "showgrid": true
        },
        "yaxis56": {
         "anchor": "x56",
         "domain": [
          0.22716049382716053,
          0.2617283950617284
         ],
         "showgrid": true
        },
        "yaxis57": {
         "anchor": "x57",
         "domain": [
          0.1703703703703704,
          0.2049382716049383
         ],
         "showgrid": true
        },
        "yaxis58": {
         "anchor": "x58",
         "domain": [
          0.1703703703703704,
          0.2049382716049383
         ],
         "showgrid": true
        },
        "yaxis59": {
         "anchor": "x59",
         "domain": [
          0.1703703703703704,
          0.2049382716049383
         ],
         "showgrid": true
        },
        "yaxis6": {
         "anchor": "x6",
         "domain": [
          0.9086419753086419,
          0.9432098765432098
         ],
         "showgrid": true
        },
        "yaxis60": {
         "anchor": "x60",
         "domain": [
          0.1703703703703704,
          0.2049382716049383
         ],
         "showgrid": true
        },
        "yaxis61": {
         "anchor": "x61",
         "domain": [
          0.11358024691358026,
          0.14814814814814817
         ],
         "showgrid": true
        },
        "yaxis62": {
         "anchor": "x62",
         "domain": [
          0.11358024691358026,
          0.14814814814814817
         ],
         "showgrid": true
        },
        "yaxis63": {
         "anchor": "x63",
         "domain": [
          0.11358024691358026,
          0.14814814814814817
         ],
         "showgrid": true
        },
        "yaxis64": {
         "anchor": "x64",
         "domain": [
          0.11358024691358026,
          0.14814814814814817
         ],
         "showgrid": true
        },
        "yaxis65": {
         "anchor": "x65",
         "domain": [
          0.05679012345679013,
          0.09135802469135804
         ],
         "showgrid": true
        },
        "yaxis66": {
         "anchor": "x66",
         "domain": [
          0.05679012345679013,
          0.09135802469135804
         ],
         "showgrid": true
        },
        "yaxis67": {
         "anchor": "x67",
         "domain": [
          0.05679012345679013,
          0.09135802469135804
         ],
         "showgrid": true
        },
        "yaxis68": {
         "anchor": "x68",
         "domain": [
          0.05679012345679013,
          0.09135802469135804
         ],
         "showgrid": true
        },
        "yaxis69": {
         "anchor": "x69",
         "domain": [
          0,
          0.034567901234567905
         ],
         "showgrid": true
        },
        "yaxis7": {
         "anchor": "x7",
         "domain": [
          0.9086419753086419,
          0.9432098765432098
         ],
         "showgrid": true
        },
        "yaxis70": {
         "anchor": "x70",
         "domain": [
          0,
          0.034567901234567905
         ],
         "showgrid": true
        },
        "yaxis71": {
         "anchor": "x71",
         "domain": [
          0,
          0.034567901234567905
         ],
         "showgrid": true
        },
        "yaxis72": {
         "anchor": "x72",
         "domain": [
          0,
          0.034567901234567905
         ],
         "showgrid": true
        },
        "yaxis8": {
         "anchor": "x8",
         "domain": [
          0.9086419753086419,
          0.9432098765432098
         ],
         "showgrid": true
        },
        "yaxis9": {
         "anchor": "x9",
         "domain": [
          0.8518518518518517,
          0.8864197530864196
         ],
         "showgrid": true
        }
       }
      },
      "text/html": [
       "<div>                        <script type=\"text/javascript\">window.PlotlyConfig = {MathJaxConfig: 'local'};</script>\n",
       "        <script charset=\"utf-8\" src=\"https://cdn.plot.ly/plotly-2.27.0.min.js\"></script>                <div id=\"b09acb36-70ac-4f8c-a8ea-2a96e80180fa\" class=\"plotly-graph-div\" style=\"height:4500px; width:1000px;\"></div>            <script type=\"text/javascript\">                                    window.PLOTLYENV=window.PLOTLYENV || {};                                    if (document.getElementById(\"b09acb36-70ac-4f8c-a8ea-2a96e80180fa\")) {                    Plotly.newPlot(                        \"b09acb36-70ac-4f8c-a8ea-2a96e80180fa\",                        [{\"marker\":{\"color\":\"#D55E00\"},\"orientation\":\"h\",\"x\":[0.46630358695983887,0.48212456703186035,0.49774977564811707,0.5567287802696228,0.5991394519805908],\"y\":[\"suicidal  \",\"committed suicide  \",\"suicide  \",\"attempted suicide  \",\"suicide article  \"],\"type\":\"bar\",\"xaxis\":\"x\",\"yaxis\":\"y\"},{\"marker\":{\"color\":\"#0072B2\"},\"orientation\":\"h\",\"x\":[0.49908876419067383,0.5180374979972839,0.526097297668457,0.570652425289154,0.7198272347450256],\"y\":[\"suicides related  \",\"among veterans  \",\"veterans article  \",\"suicide among  \",\"veteran suicide  \"],\"type\":\"bar\",\"xaxis\":\"x2\",\"yaxis\":\"y2\"},{\"marker\":{\"color\":\"#CC79A7\"},\"orientation\":\"h\",\"x\":[0.44919171929359436,0.4587870240211487,0.4623335301876068,0.47081586718559265,0.6091172695159912],\"y\":[\"prison article  \",\"suicide  \",\"mentions inmates  \",\"suicides  \",\"solitary confinement  \"],\"type\":\"bar\",\"xaxis\":\"x3\",\"yaxis\":\"y3\"},{\"marker\":{\"color\":\"#E69F00\"},\"orientation\":\"h\",\"x\":[0.476432204246521,0.5048592686653137,0.5243644118309021,0.5310384035110474,0.5342926979064941],\"y\":[\"suicides  \",\"attempted suicide  \",\"psychosis  \",\"mental health  \",\"postpartum psychosis  \"],\"type\":\"bar\",\"xaxis\":\"x4\",\"yaxis\":\"y4\"},{\"marker\":{\"color\":\"#56B4E9\"},\"orientation\":\"h\",\"x\":[0.5640214085578918,0.5714514255523682,0.5746006369590759,0.575525164604187,0.6558021306991577],\"y\":[\"among transgender  \",\"transgender people  \",\"transgender children  \",\"transgender individuals  \",\"transgender youth  \"],\"type\":\"bar\",\"xaxis\":\"x5\",\"yaxis\":\"y5\"},{\"marker\":{\"color\":\"#009E73\"},\"orientation\":\"h\",\"x\":[0.5218032002449036,0.5530200004577637,0.5582772493362427,0.5643173456192017,0.6162269115447998],\"y\":[\"suicidal thoughts  \",\"suicide rates  \",\"suicide article  \",\"discusses suicide  \",\"suicide prevention  \"],\"type\":\"bar\",\"xaxis\":\"x6\",\"yaxis\":\"y6\"},{\"marker\":{\"color\":\"#F0E442\"},\"orientation\":\"h\",\"x\":[0.5040199160575867,0.5327291488647461,0.5618453621864319,0.5623766183853149,0.5705956220626831],\"y\":[\"brain damage  \",\"encephalopathy cte  \",\"concussions  \",\"traumatic encephalopathy  \",\"encephalopathy  \"],\"type\":\"bar\",\"xaxis\":\"x7\",\"yaxis\":\"y7\"},{\"marker\":{\"color\":\"#D55E00\"},\"orientation\":\"h\",\"x\":[0.44640401005744934,0.49289774894714355,0.4998737573623657,0.5135403275489807,0.5295816659927368],\"y\":[\"suicide  \",\"killed surgeon  \",\"killed patient  \",\"suicide related  \",\"suicide article  \"],\"type\":\"bar\",\"xaxis\":\"x8\",\"yaxis\":\"y8\"},{\"marker\":{\"color\":\"#0072B2\"},\"orientation\":\"h\",\"x\":[0.3896036744117737,0.38993746042251587,0.4115588068962097,0.42027726769447327,0.43756479024887085],\"y\":[\"traumatic event  \",\"suicide  \",\"capitol attack  \",\"capitol police  \",\"took lives  \"],\"type\":\"bar\",\"xaxis\":\"x9\",\"yaxis\":\"y9\"},{\"marker\":{\"color\":\"#CC79A7\"},\"orientation\":\"h\",\"x\":[0.4641028642654419,0.4850652813911438,0.48953795433044434,0.5847359895706177,0.5893692374229431],\"y\":[\"committed suicide  \",\"cause suicide  \",\"suicide implied  \",\"suicide article  \",\"reason suicide  \"],\"type\":\"bar\",\"xaxis\":\"x10\",\"yaxis\":\"y10\"},{\"marker\":{\"color\":\"#E69F00\"},\"orientation\":\"h\",\"x\":[0.5624289512634277,0.680415689945221,0.7244488000869751,0.7253170013427734,0.7341865301132202],\"y\":[\"terminal illnesses  \",\"euthanasia  \",\"assisted death  \",\"assisted suicide  \",\"issue euthanasia  \"],\"type\":\"bar\",\"xaxis\":\"x11\",\"yaxis\":\"y11\"},{\"marker\":{\"color\":\"#56B4E9\"},\"orientation\":\"h\",\"x\":[0.4817120432853699,0.4834440350532532,0.5070072412490845,0.5265220999717712,0.554143488407135],\"y\":[\"naomi judd  \",\"committed suicide  \",\"suicide article  \",\"judd killed  \",\"judd died  \"],\"type\":\"bar\",\"xaxis\":\"x12\",\"yaxis\":\"y12\"},{\"marker\":{\"color\":\"#009E73\"},\"orientation\":\"h\",\"x\":[0.43280357122421265,0.4362478256225586,0.44091349840164185,0.5495847463607788,0.582173764705658],\"y\":[\"mentions adams  \",\"phillip adams  \",\"suicide case  \",\"adams suffered  \",\"adams killed  \"],\"type\":\"bar\",\"xaxis\":\"x13\",\"yaxis\":\"y13\"},{\"marker\":{\"color\":\"#F0E442\"},\"orientation\":\"h\",\"x\":[0.43703195452690125,0.47594112157821655,0.48990732431411743,0.5263728499412537,0.5996085405349731],\"y\":[\"tommy raskin  \",\"cause suicide  \",\"suicide  \",\"suicide attempt  \",\"reason suicide  \"],\"type\":\"bar\",\"xaxis\":\"x14\",\"yaxis\":\"y14\"},{\"marker\":{\"color\":\"#D55E00\"},\"orientation\":\"h\",\"x\":[0.5629286170005798,0.5831080675125122,0.5903476476669312,0.5914009809494019,0.599014163017273],\"y\":[\"opioid crisis  \",\"overdose article  \",\"overdoses suicides  \",\"drug overdose  \",\"discusses opioid  \"],\"type\":\"bar\",\"xaxis\":\"x15\",\"yaxis\":\"y15\"},{\"marker\":{\"color\":\"#0072B2\"},\"orientation\":\"h\",\"x\":[0.4600759446620941,0.48847299814224243,0.5320141315460205,0.5693306922912598,0.5954066514968872],\"y\":[\"illness article  \",\"ending life  \",\"terminal cancer  \",\"terminal illness  \",\"lethal medication  \"],\"type\":\"bar\",\"xaxis\":\"x16\",\"yaxis\":\"y16\"},{\"marker\":{\"color\":\"#CC79A7\"},\"orientation\":\"h\",\"x\":[0.4910997748374939,0.5116092562675476,0.5336328744888306,0.5450500845909119,0.6060397624969482],\"y\":[\"mental health  \",\"suicides due  \",\"pandemic lockdowns  \",\"suicides  \",\"increase suicides  \"],\"type\":\"bar\",\"xaxis\":\"x17\",\"yaxis\":\"y17\"},{\"marker\":{\"color\":\"#E69F00\"},\"orientation\":\"h\",\"x\":[0.5052452087402344,0.5190635323524475,0.533848762512207,0.5785466432571411,0.6453685760498047],\"y\":[\"suicide falling  \",\"mental health  \",\"discusses suicide  \",\"homelessness  \",\"becoming homeless  \"],\"type\":\"bar\",\"xaxis\":\"x18\",\"yaxis\":\"y18\"},{\"marker\":{\"color\":\"#56B4E9\"},\"orientation\":\"h\",\"x\":[0.47816941142082214,0.48930856585502625,0.5045588612556458,0.623033344745636,0.6521172523498535],\"y\":[\"suicide rate  \",\"mental health  \",\"chicago police  \",\"suicide police  \",\"officer suicide  \"],\"type\":\"bar\",\"xaxis\":\"x19\",\"yaxis\":\"y19\"},{\"marker\":{\"color\":\"#009E73\"},\"orientation\":\"h\",\"x\":[0.39934155344963074,0.4135948717594147,0.44766518473625183,0.5060275793075562,0.5080106258392334],\"y\":[\"guns  \",\"guns used  \",\"suicide article  \",\"purchased guns  \",\"purchase guns  \"],\"type\":\"bar\",\"xaxis\":\"x20\",\"yaxis\":\"y20\"},{\"marker\":{\"color\":\"#F0E442\"},\"orientation\":\"h\",\"x\":[0.36889442801475525,0.3744806945323944,0.39104345440864563,0.4026283621788025,0.4214405417442322],\"y\":[\"detained psychiatric  \",\"edwards detained  \",\"bernardino sheriff  \",\"virginia sheriff  \",\"edwards killed  \"],\"type\":\"bar\",\"xaxis\":\"x21\",\"yaxis\":\"y21\"},{\"marker\":{\"color\":\"#D55E00\"},\"orientation\":\"h\",\"x\":[0.5366411209106445,0.5397429466247559,0.5802260041236877,0.5862643122673035,0.6034163236618042],\"y\":[\"receiving covid  \",\"coronavirus  \",\"covid 19  \",\"caused covid  \",\"died covid  \"],\"type\":\"bar\",\"xaxis\":\"x22\",\"yaxis\":\"y22\"},{\"marker\":{\"color\":\"#0072B2\"},\"orientation\":\"h\",\"x\":[0.612801194190979,0.6277761459350586,0.6358693838119507,0.6569837927818298,0.816788911819458],\"y\":[\"prevent suicides  \",\"preventing suicides  \",\"suicides article  \",\"gun deaths  \",\"firearm suicides  \"],\"type\":\"bar\",\"xaxis\":\"x23\",\"yaxis\":\"y23\"},{\"marker\":{\"color\":\"#CC79A7\"},\"orientation\":\"h\",\"x\":[0.4249991476535797,0.4428020119667053,0.4567973017692566,0.479586660861969,0.4952858090400696],\"y\":[\"mass shooting  \",\"mental health  \",\"suicide unspecified  \",\"committed suicide  \",\"suicide huu  \"],\"type\":\"bar\",\"xaxis\":\"x24\",\"yaxis\":\"y24\"},{\"marker\":{\"color\":\"#E69F00\"},\"orientation\":\"h\",\"x\":[0.5925952196121216,0.5931558609008789,0.5982994437217712,0.6207544207572937,0.6953563690185547],\"y\":[\"abortion  \",\"roe wade  \",\"abortions  \",\"legal abortions  \",\"abortions article  \"],\"type\":\"bar\",\"xaxis\":\"x25\",\"yaxis\":\"y25\"},{\"marker\":{\"color\":\"#56B4E9\"},\"orientation\":\"h\",\"x\":[0.5473154783248901,0.5616416931152344,0.5632779598236084,0.5911448001861572,0.6390671133995056],\"y\":[\"following covid  \",\"covid infection  \",\"covid  \",\"long covid  \",\"covid patients  \"],\"type\":\"bar\",\"xaxis\":\"x26\",\"yaxis\":\"y26\"},{\"marker\":{\"color\":\"#009E73\"},\"orientation\":\"h\",\"x\":[0.426746129989624,0.4781830310821533,0.5369322299957275,0.6270879507064819,0.6514433026313782],\"y\":[\"father suicide  \",\"leader died  \",\"harry reid  \",\"reid died  \",\"reid death  \"],\"type\":\"bar\",\"xaxis\":\"x27\",\"yaxis\":\"y27\"},{\"marker\":{\"color\":\"#F0E442\"},\"orientation\":\"h\",\"x\":[0.5138645172119141,0.5221085548400879,0.5393439531326294,0.5423488020896912,0.5443165898323059],\"y\":[\"school shooting  \",\"problem suicide  \",\"suicide categorizing  \",\"mental health  \",\"mass shooting  \"],\"type\":\"bar\",\"xaxis\":\"x28\",\"yaxis\":\"y28\"},{\"marker\":{\"color\":\"#D55E00\"},\"orientation\":\"h\",\"x\":[0.45496582984924316,0.5051193237304688,0.5250498652458191,0.5279919505119324,0.5480231046676636],\"y\":[\"sherman  \",\"sherman arrested  \",\"sherman drinking  \",\"mentions sherman  \",\"richard sherman  \"],\"type\":\"bar\",\"xaxis\":\"x29\",\"yaxis\":\"y29\"},{\"marker\":{\"color\":\"#0072B2\"},\"orientation\":\"h\",\"x\":[0.4265974462032318,0.4308788776397705,0.444355309009552,0.46821218729019165,0.5218060612678528],\"y\":[\"health struggles  \",\"wife meghan  \",\"suicidal thoughts  \",\"harry wife  \",\"mental health  \"],\"type\":\"bar\",\"xaxis\":\"x30\",\"yaxis\":\"y30\"},{\"marker\":{\"color\":\"#CC79A7\"},\"orientation\":\"h\",\"x\":[0.42902281880378723,0.4471575915813446,0.44948670268058777,0.463396817445755,0.4740833640098572],\"y\":[\"suicide cop  \",\"suicidal  \",\"suicidal thoughts  \",\"suicide one  \",\"suicide  \"],\"type\":\"bar\",\"xaxis\":\"x31\",\"yaxis\":\"y31\"},{\"marker\":{\"color\":\"#E69F00\"},\"orientation\":\"h\",\"x\":[0.4602099657058716,0.4844244420528412,0.48633506894111633,0.4870040714740753,0.5064493417739868],\"y\":[\"deteriorating health  \",\"suicide facing  \",\"terminal cancer  \",\"suicide  \",\"committed suicide  \"],\"type\":\"bar\",\"xaxis\":\"x32\",\"yaxis\":\"y32\"},{\"marker\":{\"color\":\"#56B4E9\"},\"orientation\":\"h\",\"x\":[0.461401104927063,0.4905799627304077,0.5700502395629883,0.6271342635154724,0.6631258726119995],\"y\":[\"kill students  \",\"mental health  \",\"student shot  \",\"school shooter  \",\"school shootings  \"],\"type\":\"bar\",\"xaxis\":\"x33\",\"yaxis\":\"y33\"},{\"marker\":{\"color\":\"#009E73\"},\"orientation\":\"h\",\"x\":[0.5227019786834717,0.5536572337150574,0.5868035554885864,0.5895951390266418,0.6240600347518921],\"y\":[\"suicide canada  \",\"assisted death  \",\"assisted suicide  \",\"assistance dying  \",\"euthanasia  \"],\"type\":\"bar\",\"xaxis\":\"x34\",\"yaxis\":\"y34\"},{\"marker\":{\"color\":\"#F0E442\"},\"orientation\":\"h\",\"x\":[0.47638577222824097,0.47721368074417114,0.5109398365020752,0.5259870290756226,0.5587893724441528],\"y\":[\"mental health  \",\"parents struggling  \",\"teenager bipolar  \",\"families article  \",\"parents article  \"],\"type\":\"bar\",\"xaxis\":\"x35\",\"yaxis\":\"y35\"},{\"marker\":{\"color\":\"#D55E00\"},\"orientation\":\"h\",\"x\":[0.419988751411438,0.4271899461746216,0.4348183572292328,0.45450520515441895,0.498478502035141],\"y\":[\"suicide showing  \",\"psychiatric  \",\"admitted psychiatric  \",\"suicide  \",\"suicide article  \"],\"type\":\"bar\",\"xaxis\":\"x36\",\"yaxis\":\"y36\"},{\"marker\":{\"color\":\"#0072B2\"},\"orientation\":\"h\",\"x\":[0.4719892740249634,0.47738116979599,0.492580771446228,0.5024606585502625,0.568132758140564],\"y\":[\"opioid addiction  \",\"cause suicide  \",\"suicide article  \",\"addiction opioids  \",\"suicide health  \"],\"type\":\"bar\",\"xaxis\":\"x37\",\"yaxis\":\"y37\"},{\"marker\":{\"color\":\"#CC79A7\"},\"orientation\":\"h\",\"x\":[0.5009626150131226,0.5138344764709473,0.5548034906387329,0.5573989748954773,0.6463451981544495],\"y\":[\"britney  \",\"britney spears  \",\"jean suicide  \",\"spears grandmother  \",\"suicide britney  \"],\"type\":\"bar\",\"xaxis\":\"x38\",\"yaxis\":\"y38\"},{\"marker\":{\"color\":\"#E69F00\"},\"orientation\":\"h\",\"x\":[0.47061461210250854,0.48584604263305664,0.4954584836959839,0.5404131412506104,0.5492323637008667],\"y\":[\"high suicide  \",\"indigenous communities  \",\"suicide rates  \",\"suicide prevention  \",\"prevention indigenous  \"],\"type\":\"bar\",\"xaxis\":\"x39\",\"yaxis\":\"y39\"},{\"marker\":{\"color\":\"#56B4E9\"},\"orientation\":\"h\",\"x\":[0.3867880403995514,0.39438796043395996,0.4960835576057434,0.5269096493721008,0.5495343208312988],\"y\":[\"psychiatric  \",\"mentions gunman  \",\"suicide  \",\"gunman killed  \",\"suicide article  \"],\"type\":\"bar\",\"xaxis\":\"x40\",\"yaxis\":\"y40\"},{\"marker\":{\"color\":\"#009E73\"},\"orientation\":\"h\",\"x\":[0.4986233413219452,0.5195080041885376,0.5348988175392151,0.5473018288612366,0.5556615591049194],\"y\":[\"suicide  \",\"mental health  \",\"mental illness  \",\"suicide mentioned  \",\"suicide attempt  \"],\"type\":\"bar\",\"xaxis\":\"x41\",\"yaxis\":\"y41\"},{\"marker\":{\"color\":\"#F0E442\"},\"orientation\":\"h\",\"x\":[0.5440614223480225,0.5445945262908936,0.5772035121917725,0.6140618920326233,0.6145731210708618],\"y\":[\"dealing pandemic  \",\"coronavirus pandemic  \",\"pandemic health  \",\"pandemic article  \",\"health crisis  \"],\"type\":\"bar\",\"xaxis\":\"x42\",\"yaxis\":\"y42\"},{\"marker\":{\"color\":\"#D55E00\"},\"orientation\":\"h\",\"x\":[0.48647409677505493,0.5283265113830566,0.5331662893295288,0.5698241591453552,0.5990355014801025],\"y\":[\"suicide due  \",\"committed suicide  \",\"suicide  \",\"suicide related  \",\"suicide brandon  \"],\"type\":\"bar\",\"xaxis\":\"x43\",\"yaxis\":\"y43\"},{\"marker\":{\"color\":\"#0072B2\"},\"orientation\":\"h\",\"x\":[0.5289143323898315,0.5493515729904175,0.5919293761253357,0.6043741703033447,0.6248130202293396],\"y\":[\"committed suicide  \",\"suicide struggling  \",\"suicide article  \",\"suicide attempt  \",\"suicide sexually  \"],\"type\":\"bar\",\"xaxis\":\"x44\",\"yaxis\":\"y44\"},{\"marker\":{\"color\":\"#CC79A7\"},\"orientation\":\"h\",\"x\":[0.39766940474510193,0.4010879695415497,0.4105641543865204,0.4176783561706543,0.47598370909690857],\"y\":[\"monoxide poisoning  \",\"suicide due  \",\"suicide  \",\"suicide suffering  \",\"died suicide  \"],\"type\":\"bar\",\"xaxis\":\"x45\",\"yaxis\":\"y45\"},{\"marker\":{\"color\":\"#E69F00\"},\"orientation\":\"h\",\"x\":[0.44193997979164124,0.44854116439819336,0.4579145312309265,0.4693012833595276,0.48708632588386536],\"y\":[\"self harm  \",\"mental health  \",\"suicide  \",\"eating disorders  \",\"health teenagers  \"],\"type\":\"bar\",\"xaxis\":\"x46\",\"yaxis\":\"y46\"},{\"marker\":{\"color\":\"#56B4E9\"},\"orientation\":\"h\",\"x\":[0.4727087616920471,0.48134779930114746,0.490384966135025,0.49676305055618286,0.6258304715156555],\"y\":[\"fuller hospitalized  \",\"suicidal behavior  \",\"suicide related  \",\"robert fuller  \",\"fuller suicide  \"],\"type\":\"bar\",\"xaxis\":\"x47\",\"yaxis\":\"y47\"},{\"marker\":{\"color\":\"#009E73\"},\"orientation\":\"h\",\"x\":[0.4303935170173645,0.4514884948730469,0.4576057493686676,0.4977733790874481,0.5096613168716431],\"y\":[\"body dementia  \",\"suicide  \",\"dementia  \",\"robin williams  \",\"suicide actor  \"],\"type\":\"bar\",\"xaxis\":\"x48\",\"yaxis\":\"y48\"},{\"marker\":{\"color\":\"#F0E442\"},\"orientation\":\"h\",\"x\":[0.5096616744995117,0.515227198600769,0.5448916554450989,0.5686711072921753,0.5932629108428955],\"y\":[\"rates suicide  \",\"factors suicide  \",\"discusses suicide  \",\"suicide rates  \",\"suicide among  \"],\"type\":\"bar\",\"xaxis\":\"x49\",\"yaxis\":\"y49\"},{\"marker\":{\"color\":\"#D55E00\"},\"orientation\":\"h\",\"x\":[0.47564268112182617,0.49452900886535645,0.49890193343162537,0.5283175110816956,0.5899185538291931],\"y\":[\"mental health  \",\"suicide rate  \",\"high suicide  \",\"suicides  \",\"suicide prevention  \"],\"type\":\"bar\",\"xaxis\":\"x50\",\"yaxis\":\"y50\"},{\"marker\":{\"color\":\"#0072B2\"},\"orientation\":\"h\",\"x\":[0.42775070667266846,0.43881064653396606,0.45929351449012756,0.4713689684867859,0.4998619556427002],\"y\":[\"accessing firearms  \",\"perceived threats  \",\"suicide cop  \",\"firearms individuals  \",\"possessing firearms  \"],\"type\":\"bar\",\"xaxis\":\"x51\",\"yaxis\":\"y51\"},{\"marker\":{\"color\":\"#CC79A7\"},\"orientation\":\"h\",\"x\":[0.47373825311660767,0.4762495756149292,0.4942536950111389,0.5026764869689941,0.5592992305755615],\"y\":[\"depression three  \",\"financial stress  \",\"depression  \",\"depression financial  \",\"concerns suicides  \"],\"type\":\"bar\",\"xaxis\":\"x52\",\"yaxis\":\"y52\"},{\"marker\":{\"color\":\"#E69F00\"},\"orientation\":\"h\",\"x\":[0.4918684959411621,0.5420329570770264,0.5456644296646118,0.5801606178283691,0.6014845371246338],\"y\":[\"health crisis  \",\"shootings  \",\"violence schools  \",\"mass shootings  \",\"gun violence  \"],\"type\":\"bar\",\"xaxis\":\"x53\",\"yaxis\":\"y53\"},{\"marker\":{\"color\":\"#56B4E9\"},\"orientation\":\"h\",\"x\":[0.5438807606697083,0.567874550819397,0.5683100819587708,0.6041247248649597,0.607708752155304],\"y\":[\"firefighters facing  \",\"among firefighters  \",\"wildland firefighters  \",\"firefighters california  \",\"firefighters suffering  \"],\"type\":\"bar\",\"xaxis\":\"x54\",\"yaxis\":\"y54\"},{\"marker\":{\"color\":\"#009E73\"},\"orientation\":\"h\",\"x\":[0.5712272524833679,0.5810511112213135,0.5958994626998901,0.597204327583313,0.6114755868911743],\"y\":[\"addiction alcohol  \",\"author suicidal  \",\"suicidal thoughts  \",\"struggle suicidal  \",\"suicidal behavior  \"],\"type\":\"bar\",\"xaxis\":\"x55\",\"yaxis\":\"y55\"},{\"marker\":{\"color\":\"#F0E442\"},\"orientation\":\"h\",\"x\":[0.4440653622150421,0.45228517055511475,0.45853450894355774,0.4798324704170227,0.4901903569698334],\"y\":[\"firefighter killed  \",\"health issue  \",\"suicide could  \",\"died inhaling  \",\"smoke inhalation  \"],\"type\":\"bar\",\"xaxis\":\"x56\",\"yaxis\":\"y56\"},{\"marker\":{\"color\":\"#D55E00\"},\"orientation\":\"h\",\"x\":[0.517689049243927,0.5270959138870239,0.5497362613677979,0.5641963481903076,0.5673882365226746],\"y\":[\"mentions assange  \",\"assange facing  \",\"assange  \",\"julian assange  \",\"assange mental  \"],\"type\":\"bar\",\"xaxis\":\"x57\",\"yaxis\":\"y57\"},{\"marker\":{\"color\":\"#0072B2\"},\"orientation\":\"h\",\"x\":[0.48415714502334595,0.5021103620529175,0.5202402472496033,0.5412092804908752,0.5466463565826416],\"y\":[\"mental health  \",\"illness article  \",\"suicidal behavior  \",\"mental illness  \",\"illness suicidal  \"],\"type\":\"bar\",\"xaxis\":\"x58\",\"yaxis\":\"y58\"},{\"marker\":{\"color\":\"#CC79A7\"},\"orientation\":\"h\",\"x\":[0.5658901929855347,0.5849828124046326,0.5910305380821228,0.6185029745101929,0.6450340747833252],\"y\":[\"theodore kaczynski  \",\"kaczynski  \",\"mentions kaczynski  \",\"ted kaczynski  \",\"kaczynski health  \"],\"type\":\"bar\",\"xaxis\":\"x59\",\"yaxis\":\"y59\"},{\"marker\":{\"color\":\"#E69F00\"},\"orientation\":\"h\",\"x\":[0.4128956198692322,0.42263737320899963,0.45665615797042847,0.4569769501686096,0.4714473783969879],\"y\":[\"mentions conrad  \",\"struggled depression  \",\"depression mental  \",\"depression  \",\"suicide  \"],\"type\":\"bar\",\"xaxis\":\"x60\",\"yaxis\":\"y60\"},{\"marker\":{\"color\":\"#56B4E9\"},\"orientation\":\"h\",\"x\":[0.41277316212654114,0.4329105615615845,0.4397762417793274,0.4807370603084564,0.49042850732803345],\"y\":[\"murdaugh misappropriated  \",\"murdaugh family  \",\"mentions murdaugh  \",\"alex murdaugh  \",\"murdaugh lawyer  \"],\"type\":\"bar\",\"xaxis\":\"x61\",\"yaxis\":\"y61\"},{\"marker\":{\"color\":\"#009E73\"},\"orientation\":\"h\",\"x\":[0.5188918709754944,0.5697230696678162,0.5700554251670837,0.576579213142395,0.5885555744171143],\"y\":[\"suicide related  \",\"cause suicide  \",\"discusses suicide  \",\"suicide article  \",\"contributed suicides  \"],\"type\":\"bar\",\"xaxis\":\"x62\",\"yaxis\":\"y62\"},{\"marker\":{\"color\":\"#F0E442\"},\"orientation\":\"h\",\"x\":[0.5101033449172974,0.5345906615257263,0.5522753596305847,0.5566381812095642,0.6056132316589355],\"y\":[\"aids  \",\"hiv aids  \",\"lived hiv  \",\"wisler hiv  \",\"aids crisis  \"],\"type\":\"bar\",\"xaxis\":\"x63\",\"yaxis\":\"y63\"},{\"marker\":{\"color\":\"#D55E00\"},\"orientation\":\"h\",\"x\":[0.3554232716560364,0.3882986307144165,0.4366764724254608,0.5251141786575317,0.537527859210968],\"y\":[\"contributed death  \",\"wife death  \",\"meisner  \",\"meisner diagnosed  \",\"randy meisner  \"],\"type\":\"bar\",\"xaxis\":\"x64\",\"yaxis\":\"y64\"},{\"marker\":{\"color\":\"#0072B2\"},\"orientation\":\"h\",\"x\":[0.3954664170742035,0.39958229660987854,0.42155957221984863,0.4222508370876312,0.5348045825958252],\"y\":[\"room business  \",\"mental health  \",\"cause suicide  \",\"suicide article  \",\"rage room  \"],\"type\":\"bar\",\"xaxis\":\"x65\",\"yaxis\":\"y65\"},{\"marker\":{\"color\":\"#CC79A7\"},\"orientation\":\"h\",\"x\":[0.48014941811561584,0.48248082399368286,0.48548799753189087,0.4899805188179016,0.5302852988243103],\"y\":[\"suicidal therefore  \",\"shot police  \",\"nicolas chavez  \",\"killed police  \",\"reportedly suicidal  \"],\"type\":\"bar\",\"xaxis\":\"x66\",\"yaxis\":\"y66\"},{\"marker\":{\"color\":\"#E69F00\"},\"orientation\":\"h\",\"x\":[0.45344018936157227,0.45397692918777466,0.4655412435531616,0.48691123723983765,0.48921358585357666],\"y\":[\"ai  \",\"suicide case  \",\"ai providing  \",\"potential ai  \",\"suicide article  \"],\"type\":\"bar\",\"xaxis\":\"x67\",\"yaxis\":\"y67\"},{\"marker\":{\"color\":\"#56B4E9\"},\"orientation\":\"h\",\"x\":[0.39885327219963074,0.42499956488609314,0.43316739797592163,0.444131076335907,0.4876623749732971],\"y\":[\"article legal  \",\"mora killed  \",\"mentally unstable  \",\"article health  \",\"suicide restraining  \"],\"type\":\"bar\",\"xaxis\":\"x68\",\"yaxis\":\"y68\"},{\"marker\":{\"color\":\"#009E73\"},\"orientation\":\"h\",\"x\":[0.5696665048599243,0.5789923667907715,0.5876237750053406,0.6180617213249207,0.6739856004714966],\"y\":[\"suicide author  \",\"carter died  \",\"brother suicide  \",\"reason suicide  \",\"carter suicide  \"],\"type\":\"bar\",\"xaxis\":\"x69\",\"yaxis\":\"y69\"},{\"marker\":{\"color\":\"#F0E442\"},\"orientation\":\"h\",\"x\":[0.5155880451202393,0.5613969564437866,0.5657079219818115,0.5863549709320068,0.61344975233078],\"y\":[\"gogh artist  \",\"gogh shot  \",\"van gogh  \",\"gogh struggled  \",\"gogh suffered  \"],\"type\":\"bar\",\"xaxis\":\"x70\",\"yaxis\":\"y70\"},{\"marker\":{\"color\":\"#D55E00\"},\"orientation\":\"h\",\"x\":[0.2977660000324249,0.35853761434555054,0.36027586460113525,0.45214587450027466,0.4995265603065491],\"y\":[\"luther  \",\"king jr  \",\"mental health  \",\"martin luther  \",\"luther king  \"],\"type\":\"bar\",\"xaxis\":\"x71\",\"yaxis\":\"y71\"}],                        {\"template\":{\"data\":{\"barpolar\":[{\"marker\":{\"line\":{\"color\":\"white\",\"width\":0.5},\"pattern\":{\"fillmode\":\"overlay\",\"size\":10,\"solidity\":0.2}},\"type\":\"barpolar\"}],\"bar\":[{\"error_x\":{\"color\":\"#2a3f5f\"},\"error_y\":{\"color\":\"#2a3f5f\"},\"marker\":{\"line\":{\"color\":\"white\",\"width\":0.5},\"pattern\":{\"fillmode\":\"overlay\",\"size\":10,\"solidity\":0.2}},\"type\":\"bar\"}],\"carpet\":[{\"aaxis\":{\"endlinecolor\":\"#2a3f5f\",\"gridcolor\":\"#C8D4E3\",\"linecolor\":\"#C8D4E3\",\"minorgridcolor\":\"#C8D4E3\",\"startlinecolor\":\"#2a3f5f\"},\"baxis\":{\"endlinecolor\":\"#2a3f5f\",\"gridcolor\":\"#C8D4E3\",\"linecolor\":\"#C8D4E3\",\"minorgridcolor\":\"#C8D4E3\",\"startlinecolor\":\"#2a3f5f\"},\"type\":\"carpet\"}],\"choropleth\":[{\"colorbar\":{\"outlinewidth\":0,\"ticks\":\"\"},\"type\":\"choropleth\"}],\"contourcarpet\":[{\"colorbar\":{\"outlinewidth\":0,\"ticks\":\"\"},\"type\":\"contourcarpet\"}],\"contour\":[{\"colorbar\":{\"outlinewidth\":0,\"ticks\":\"\"},\"colorscale\":[[0.0,\"#0d0887\"],[0.1111111111111111,\"#46039f\"],[0.2222222222222222,\"#7201a8\"],[0.3333333333333333,\"#9c179e\"],[0.4444444444444444,\"#bd3786\"],[0.5555555555555556,\"#d8576b\"],[0.6666666666666666,\"#ed7953\"],[0.7777777777777778,\"#fb9f3a\"],[0.8888888888888888,\"#fdca26\"],[1.0,\"#f0f921\"]],\"type\":\"contour\"}],\"heatmapgl\":[{\"colorbar\":{\"outlinewidth\":0,\"ticks\":\"\"},\"colorscale\":[[0.0,\"#0d0887\"],[0.1111111111111111,\"#46039f\"],[0.2222222222222222,\"#7201a8\"],[0.3333333333333333,\"#9c179e\"],[0.4444444444444444,\"#bd3786\"],[0.5555555555555556,\"#d8576b\"],[0.6666666666666666,\"#ed7953\"],[0.7777777777777778,\"#fb9f3a\"],[0.8888888888888888,\"#fdca26\"],[1.0,\"#f0f921\"]],\"type\":\"heatmapgl\"}],\"heatmap\":[{\"colorbar\":{\"outlinewidth\":0,\"ticks\":\"\"},\"colorscale\":[[0.0,\"#0d0887\"],[0.1111111111111111,\"#46039f\"],[0.2222222222222222,\"#7201a8\"],[0.3333333333333333,\"#9c179e\"],[0.4444444444444444,\"#bd3786\"],[0.5555555555555556,\"#d8576b\"],[0.6666666666666666,\"#ed7953\"],[0.7777777777777778,\"#fb9f3a\"],[0.8888888888888888,\"#fdca26\"],[1.0,\"#f0f921\"]],\"type\":\"heatmap\"}],\"histogram2dcontour\":[{\"colorbar\":{\"outlinewidth\":0,\"ticks\":\"\"},\"colorscale\":[[0.0,\"#0d0887\"],[0.1111111111111111,\"#46039f\"],[0.2222222222222222,\"#7201a8\"],[0.3333333333333333,\"#9c179e\"],[0.4444444444444444,\"#bd3786\"],[0.5555555555555556,\"#d8576b\"],[0.6666666666666666,\"#ed7953\"],[0.7777777777777778,\"#fb9f3a\"],[0.8888888888888888,\"#fdca26\"],[1.0,\"#f0f921\"]],\"type\":\"histogram2dcontour\"}],\"histogram2d\":[{\"colorbar\":{\"outlinewidth\":0,\"ticks\":\"\"},\"colorscale\":[[0.0,\"#0d0887\"],[0.1111111111111111,\"#46039f\"],[0.2222222222222222,\"#7201a8\"],[0.3333333333333333,\"#9c179e\"],[0.4444444444444444,\"#bd3786\"],[0.5555555555555556,\"#d8576b\"],[0.6666666666666666,\"#ed7953\"],[0.7777777777777778,\"#fb9f3a\"],[0.8888888888888888,\"#fdca26\"],[1.0,\"#f0f921\"]],\"type\":\"histogram2d\"}],\"histogram\":[{\"marker\":{\"pattern\":{\"fillmode\":\"overlay\",\"size\":10,\"solidity\":0.2}},\"type\":\"histogram\"}],\"mesh3d\":[{\"colorbar\":{\"outlinewidth\":0,\"ticks\":\"\"},\"type\":\"mesh3d\"}],\"parcoords\":[{\"line\":{\"colorbar\":{\"outlinewidth\":0,\"ticks\":\"\"}},\"type\":\"parcoords\"}],\"pie\":[{\"automargin\":true,\"type\":\"pie\"}],\"scatter3d\":[{\"line\":{\"colorbar\":{\"outlinewidth\":0,\"ticks\":\"\"}},\"marker\":{\"colorbar\":{\"outlinewidth\":0,\"ticks\":\"\"}},\"type\":\"scatter3d\"}],\"scattercarpet\":[{\"marker\":{\"colorbar\":{\"outlinewidth\":0,\"ticks\":\"\"}},\"type\":\"scattercarpet\"}],\"scattergeo\":[{\"marker\":{\"colorbar\":{\"outlinewidth\":0,\"ticks\":\"\"}},\"type\":\"scattergeo\"}],\"scattergl\":[{\"marker\":{\"colorbar\":{\"outlinewidth\":0,\"ticks\":\"\"}},\"type\":\"scattergl\"}],\"scattermapbox\":[{\"marker\":{\"colorbar\":{\"outlinewidth\":0,\"ticks\":\"\"}},\"type\":\"scattermapbox\"}],\"scatterpolargl\":[{\"marker\":{\"colorbar\":{\"outlinewidth\":0,\"ticks\":\"\"}},\"type\":\"scatterpolargl\"}],\"scatterpolar\":[{\"marker\":{\"colorbar\":{\"outlinewidth\":0,\"ticks\":\"\"}},\"type\":\"scatterpolar\"}],\"scatter\":[{\"fillpattern\":{\"fillmode\":\"overlay\",\"size\":10,\"solidity\":0.2},\"type\":\"scatter\"}],\"scatterternary\":[{\"marker\":{\"colorbar\":{\"outlinewidth\":0,\"ticks\":\"\"}},\"type\":\"scatterternary\"}],\"surface\":[{\"colorbar\":{\"outlinewidth\":0,\"ticks\":\"\"},\"colorscale\":[[0.0,\"#0d0887\"],[0.1111111111111111,\"#46039f\"],[0.2222222222222222,\"#7201a8\"],[0.3333333333333333,\"#9c179e\"],[0.4444444444444444,\"#bd3786\"],[0.5555555555555556,\"#d8576b\"],[0.6666666666666666,\"#ed7953\"],[0.7777777777777778,\"#fb9f3a\"],[0.8888888888888888,\"#fdca26\"],[1.0,\"#f0f921\"]],\"type\":\"surface\"}],\"table\":[{\"cells\":{\"fill\":{\"color\":\"#EBF0F8\"},\"line\":{\"color\":\"white\"}},\"header\":{\"fill\":{\"color\":\"#C8D4E3\"},\"line\":{\"color\":\"white\"}},\"type\":\"table\"}]},\"layout\":{\"annotationdefaults\":{\"arrowcolor\":\"#2a3f5f\",\"arrowhead\":0,\"arrowwidth\":1},\"autotypenumbers\":\"strict\",\"coloraxis\":{\"colorbar\":{\"outlinewidth\":0,\"ticks\":\"\"}},\"colorscale\":{\"diverging\":[[0,\"#8e0152\"],[0.1,\"#c51b7d\"],[0.2,\"#de77ae\"],[0.3,\"#f1b6da\"],[0.4,\"#fde0ef\"],[0.5,\"#f7f7f7\"],[0.6,\"#e6f5d0\"],[0.7,\"#b8e186\"],[0.8,\"#7fbc41\"],[0.9,\"#4d9221\"],[1,\"#276419\"]],\"sequential\":[[0.0,\"#0d0887\"],[0.1111111111111111,\"#46039f\"],[0.2222222222222222,\"#7201a8\"],[0.3333333333333333,\"#9c179e\"],[0.4444444444444444,\"#bd3786\"],[0.5555555555555556,\"#d8576b\"],[0.6666666666666666,\"#ed7953\"],[0.7777777777777778,\"#fb9f3a\"],[0.8888888888888888,\"#fdca26\"],[1.0,\"#f0f921\"]],\"sequentialminus\":[[0.0,\"#0d0887\"],[0.1111111111111111,\"#46039f\"],[0.2222222222222222,\"#7201a8\"],[0.3333333333333333,\"#9c179e\"],[0.4444444444444444,\"#bd3786\"],[0.5555555555555556,\"#d8576b\"],[0.6666666666666666,\"#ed7953\"],[0.7777777777777778,\"#fb9f3a\"],[0.8888888888888888,\"#fdca26\"],[1.0,\"#f0f921\"]]},\"colorway\":[\"#636efa\",\"#EF553B\",\"#00cc96\",\"#ab63fa\",\"#FFA15A\",\"#19d3f3\",\"#FF6692\",\"#B6E880\",\"#FF97FF\",\"#FECB52\"],\"font\":{\"color\":\"#2a3f5f\"},\"geo\":{\"bgcolor\":\"white\",\"lakecolor\":\"white\",\"landcolor\":\"white\",\"showlakes\":true,\"showland\":true,\"subunitcolor\":\"#C8D4E3\"},\"hoverlabel\":{\"align\":\"left\"},\"hovermode\":\"closest\",\"mapbox\":{\"style\":\"light\"},\"paper_bgcolor\":\"white\",\"plot_bgcolor\":\"white\",\"polar\":{\"angularaxis\":{\"gridcolor\":\"#EBF0F8\",\"linecolor\":\"#EBF0F8\",\"ticks\":\"\"},\"bgcolor\":\"white\",\"radialaxis\":{\"gridcolor\":\"#EBF0F8\",\"linecolor\":\"#EBF0F8\",\"ticks\":\"\"}},\"scene\":{\"xaxis\":{\"backgroundcolor\":\"white\",\"gridcolor\":\"#DFE8F3\",\"gridwidth\":2,\"linecolor\":\"#EBF0F8\",\"showbackground\":true,\"ticks\":\"\",\"zerolinecolor\":\"#EBF0F8\"},\"yaxis\":{\"backgroundcolor\":\"white\",\"gridcolor\":\"#DFE8F3\",\"gridwidth\":2,\"linecolor\":\"#EBF0F8\",\"showbackground\":true,\"ticks\":\"\",\"zerolinecolor\":\"#EBF0F8\"},\"zaxis\":{\"backgroundcolor\":\"white\",\"gridcolor\":\"#DFE8F3\",\"gridwidth\":2,\"linecolor\":\"#EBF0F8\",\"showbackground\":true,\"ticks\":\"\",\"zerolinecolor\":\"#EBF0F8\"}},\"shapedefaults\":{\"line\":{\"color\":\"#2a3f5f\"}},\"ternary\":{\"aaxis\":{\"gridcolor\":\"#DFE8F3\",\"linecolor\":\"#A2B1C6\",\"ticks\":\"\"},\"baxis\":{\"gridcolor\":\"#DFE8F3\",\"linecolor\":\"#A2B1C6\",\"ticks\":\"\"},\"bgcolor\":\"white\",\"caxis\":{\"gridcolor\":\"#DFE8F3\",\"linecolor\":\"#A2B1C6\",\"ticks\":\"\"}},\"title\":{\"x\":0.05},\"xaxis\":{\"automargin\":true,\"gridcolor\":\"#EBF0F8\",\"linecolor\":\"#EBF0F8\",\"ticks\":\"\",\"title\":{\"standoff\":15},\"zerolinecolor\":\"#EBF0F8\",\"zerolinewidth\":2},\"yaxis\":{\"automargin\":true,\"gridcolor\":\"#EBF0F8\",\"linecolor\":\"#EBF0F8\",\"ticks\":\"\",\"title\":{\"standoff\":15},\"zerolinecolor\":\"#EBF0F8\",\"zerolinewidth\":2}}},\"xaxis\":{\"anchor\":\"y\",\"domain\":[0.0,0.175],\"showgrid\":true},\"yaxis\":{\"anchor\":\"x\",\"domain\":[0.9654320987654319,0.9999999999999998],\"showgrid\":true},\"xaxis2\":{\"anchor\":\"y2\",\"domain\":[0.275,0.45],\"showgrid\":true},\"yaxis2\":{\"anchor\":\"x2\",\"domain\":[0.9654320987654319,0.9999999999999998],\"showgrid\":true},\"xaxis3\":{\"anchor\":\"y3\",\"domain\":[0.55,0.7250000000000001],\"showgrid\":true},\"yaxis3\":{\"anchor\":\"x3\",\"domain\":[0.9654320987654319,0.9999999999999998],\"showgrid\":true},\"xaxis4\":{\"anchor\":\"y4\",\"domain\":[0.825,1.0],\"showgrid\":true},\"yaxis4\":{\"anchor\":\"x4\",\"domain\":[0.9654320987654319,0.9999999999999998],\"showgrid\":true},\"xaxis5\":{\"anchor\":\"y5\",\"domain\":[0.0,0.175],\"showgrid\":true},\"yaxis5\":{\"anchor\":\"x5\",\"domain\":[0.9086419753086419,0.9432098765432098],\"showgrid\":true},\"xaxis6\":{\"anchor\":\"y6\",\"domain\":[0.275,0.45],\"showgrid\":true},\"yaxis6\":{\"anchor\":\"x6\",\"domain\":[0.9086419753086419,0.9432098765432098],\"showgrid\":true},\"xaxis7\":{\"anchor\":\"y7\",\"domain\":[0.55,0.7250000000000001],\"showgrid\":true},\"yaxis7\":{\"anchor\":\"x7\",\"domain\":[0.9086419753086419,0.9432098765432098],\"showgrid\":true},\"xaxis8\":{\"anchor\":\"y8\",\"domain\":[0.825,1.0],\"showgrid\":true},\"yaxis8\":{\"anchor\":\"x8\",\"domain\":[0.9086419753086419,0.9432098765432098],\"showgrid\":true},\"xaxis9\":{\"anchor\":\"y9\",\"domain\":[0.0,0.175],\"showgrid\":true},\"yaxis9\":{\"anchor\":\"x9\",\"domain\":[0.8518518518518517,0.8864197530864196],\"showgrid\":true},\"xaxis10\":{\"anchor\":\"y10\",\"domain\":[0.275,0.45],\"showgrid\":true},\"yaxis10\":{\"anchor\":\"x10\",\"domain\":[0.8518518518518517,0.8864197530864196],\"showgrid\":true},\"xaxis11\":{\"anchor\":\"y11\",\"domain\":[0.55,0.7250000000000001],\"showgrid\":true},\"yaxis11\":{\"anchor\":\"x11\",\"domain\":[0.8518518518518517,0.8864197530864196],\"showgrid\":true},\"xaxis12\":{\"anchor\":\"y12\",\"domain\":[0.825,1.0],\"showgrid\":true},\"yaxis12\":{\"anchor\":\"x12\",\"domain\":[0.8518518518518517,0.8864197530864196],\"showgrid\":true},\"xaxis13\":{\"anchor\":\"y13\",\"domain\":[0.0,0.175],\"showgrid\":true},\"yaxis13\":{\"anchor\":\"x13\",\"domain\":[0.7950617283950616,0.8296296296296295],\"showgrid\":true},\"xaxis14\":{\"anchor\":\"y14\",\"domain\":[0.275,0.45],\"showgrid\":true},\"yaxis14\":{\"anchor\":\"x14\",\"domain\":[0.7950617283950616,0.8296296296296295],\"showgrid\":true},\"xaxis15\":{\"anchor\":\"y15\",\"domain\":[0.55,0.7250000000000001],\"showgrid\":true},\"yaxis15\":{\"anchor\":\"x15\",\"domain\":[0.7950617283950616,0.8296296296296295],\"showgrid\":true},\"xaxis16\":{\"anchor\":\"y16\",\"domain\":[0.825,1.0],\"showgrid\":true},\"yaxis16\":{\"anchor\":\"x16\",\"domain\":[0.7950617283950616,0.8296296296296295],\"showgrid\":true},\"xaxis17\":{\"anchor\":\"y17\",\"domain\":[0.0,0.175],\"showgrid\":true},\"yaxis17\":{\"anchor\":\"x17\",\"domain\":[0.7382716049382716,0.7728395061728395],\"showgrid\":true},\"xaxis18\":{\"anchor\":\"y18\",\"domain\":[0.275,0.45],\"showgrid\":true},\"yaxis18\":{\"anchor\":\"x18\",\"domain\":[0.7382716049382716,0.7728395061728395],\"showgrid\":true},\"xaxis19\":{\"anchor\":\"y19\",\"domain\":[0.55,0.7250000000000001],\"showgrid\":true},\"yaxis19\":{\"anchor\":\"x19\",\"domain\":[0.7382716049382716,0.7728395061728395],\"showgrid\":true},\"xaxis20\":{\"anchor\":\"y20\",\"domain\":[0.825,1.0],\"showgrid\":true},\"yaxis20\":{\"anchor\":\"x20\",\"domain\":[0.7382716049382716,0.7728395061728395],\"showgrid\":true},\"xaxis21\":{\"anchor\":\"y21\",\"domain\":[0.0,0.175],\"showgrid\":true},\"yaxis21\":{\"anchor\":\"x21\",\"domain\":[0.6814814814814814,0.7160493827160492],\"showgrid\":true},\"xaxis22\":{\"anchor\":\"y22\",\"domain\":[0.275,0.45],\"showgrid\":true},\"yaxis22\":{\"anchor\":\"x22\",\"domain\":[0.6814814814814814,0.7160493827160492],\"showgrid\":true},\"xaxis23\":{\"anchor\":\"y23\",\"domain\":[0.55,0.7250000000000001],\"showgrid\":true},\"yaxis23\":{\"anchor\":\"x23\",\"domain\":[0.6814814814814814,0.7160493827160492],\"showgrid\":true},\"xaxis24\":{\"anchor\":\"y24\",\"domain\":[0.825,1.0],\"showgrid\":true},\"yaxis24\":{\"anchor\":\"x24\",\"domain\":[0.6814814814814814,0.7160493827160492],\"showgrid\":true},\"xaxis25\":{\"anchor\":\"y25\",\"domain\":[0.0,0.175],\"showgrid\":true},\"yaxis25\":{\"anchor\":\"x25\",\"domain\":[0.6246913580246913,0.6592592592592592],\"showgrid\":true},\"xaxis26\":{\"anchor\":\"y26\",\"domain\":[0.275,0.45],\"showgrid\":true},\"yaxis26\":{\"anchor\":\"x26\",\"domain\":[0.6246913580246913,0.6592592592592592],\"showgrid\":true},\"xaxis27\":{\"anchor\":\"y27\",\"domain\":[0.55,0.7250000000000001],\"showgrid\":true},\"yaxis27\":{\"anchor\":\"x27\",\"domain\":[0.6246913580246913,0.6592592592592592],\"showgrid\":true},\"xaxis28\":{\"anchor\":\"y28\",\"domain\":[0.825,1.0],\"showgrid\":true},\"yaxis28\":{\"anchor\":\"x28\",\"domain\":[0.6246913580246913,0.6592592592592592],\"showgrid\":true},\"xaxis29\":{\"anchor\":\"y29\",\"domain\":[0.0,0.175],\"showgrid\":true},\"yaxis29\":{\"anchor\":\"x29\",\"domain\":[0.5679012345679012,0.6024691358024691],\"showgrid\":true},\"xaxis30\":{\"anchor\":\"y30\",\"domain\":[0.275,0.45],\"showgrid\":true},\"yaxis30\":{\"anchor\":\"x30\",\"domain\":[0.5679012345679012,0.6024691358024691],\"showgrid\":true},\"xaxis31\":{\"anchor\":\"y31\",\"domain\":[0.55,0.7250000000000001],\"showgrid\":true},\"yaxis31\":{\"anchor\":\"x31\",\"domain\":[0.5679012345679012,0.6024691358024691],\"showgrid\":true},\"xaxis32\":{\"anchor\":\"y32\",\"domain\":[0.825,1.0],\"showgrid\":true},\"yaxis32\":{\"anchor\":\"x32\",\"domain\":[0.5679012345679012,0.6024691358024691],\"showgrid\":true},\"xaxis33\":{\"anchor\":\"y33\",\"domain\":[0.0,0.175],\"showgrid\":true},\"yaxis33\":{\"anchor\":\"x33\",\"domain\":[0.5111111111111111,0.545679012345679],\"showgrid\":true},\"xaxis34\":{\"anchor\":\"y34\",\"domain\":[0.275,0.45],\"showgrid\":true},\"yaxis34\":{\"anchor\":\"x34\",\"domain\":[0.5111111111111111,0.545679012345679],\"showgrid\":true},\"xaxis35\":{\"anchor\":\"y35\",\"domain\":[0.55,0.7250000000000001],\"showgrid\":true},\"yaxis35\":{\"anchor\":\"x35\",\"domain\":[0.5111111111111111,0.545679012345679],\"showgrid\":true},\"xaxis36\":{\"anchor\":\"y36\",\"domain\":[0.825,1.0],\"showgrid\":true},\"yaxis36\":{\"anchor\":\"x36\",\"domain\":[0.5111111111111111,0.545679012345679],\"showgrid\":true},\"xaxis37\":{\"anchor\":\"y37\",\"domain\":[0.0,0.175],\"showgrid\":true},\"yaxis37\":{\"anchor\":\"x37\",\"domain\":[0.45432098765432105,0.48888888888888893],\"showgrid\":true},\"xaxis38\":{\"anchor\":\"y38\",\"domain\":[0.275,0.45],\"showgrid\":true},\"yaxis38\":{\"anchor\":\"x38\",\"domain\":[0.45432098765432105,0.48888888888888893],\"showgrid\":true},\"xaxis39\":{\"anchor\":\"y39\",\"domain\":[0.55,0.7250000000000001],\"showgrid\":true},\"yaxis39\":{\"anchor\":\"x39\",\"domain\":[0.45432098765432105,0.48888888888888893],\"showgrid\":true},\"xaxis40\":{\"anchor\":\"y40\",\"domain\":[0.825,1.0],\"showgrid\":true},\"yaxis40\":{\"anchor\":\"x40\",\"domain\":[0.45432098765432105,0.48888888888888893],\"showgrid\":true},\"xaxis41\":{\"anchor\":\"y41\",\"domain\":[0.0,0.175],\"showgrid\":true},\"yaxis41\":{\"anchor\":\"x41\",\"domain\":[0.3975308641975309,0.4320987654320988],\"showgrid\":true},\"xaxis42\":{\"anchor\":\"y42\",\"domain\":[0.275,0.45],\"showgrid\":true},\"yaxis42\":{\"anchor\":\"x42\",\"domain\":[0.3975308641975309,0.4320987654320988],\"showgrid\":true},\"xaxis43\":{\"anchor\":\"y43\",\"domain\":[0.55,0.7250000000000001],\"showgrid\":true},\"yaxis43\":{\"anchor\":\"x43\",\"domain\":[0.3975308641975309,0.4320987654320988],\"showgrid\":true},\"xaxis44\":{\"anchor\":\"y44\",\"domain\":[0.825,1.0],\"showgrid\":true},\"yaxis44\":{\"anchor\":\"x44\",\"domain\":[0.3975308641975309,0.4320987654320988],\"showgrid\":true},\"xaxis45\":{\"anchor\":\"y45\",\"domain\":[0.0,0.175],\"showgrid\":true},\"yaxis45\":{\"anchor\":\"x45\",\"domain\":[0.3407407407407408,0.37530864197530867],\"showgrid\":true},\"xaxis46\":{\"anchor\":\"y46\",\"domain\":[0.275,0.45],\"showgrid\":true},\"yaxis46\":{\"anchor\":\"x46\",\"domain\":[0.3407407407407408,0.37530864197530867],\"showgrid\":true},\"xaxis47\":{\"anchor\":\"y47\",\"domain\":[0.55,0.7250000000000001],\"showgrid\":true},\"yaxis47\":{\"anchor\":\"x47\",\"domain\":[0.3407407407407408,0.37530864197530867],\"showgrid\":true},\"xaxis48\":{\"anchor\":\"y48\",\"domain\":[0.825,1.0],\"showgrid\":true},\"yaxis48\":{\"anchor\":\"x48\",\"domain\":[0.3407407407407408,0.37530864197530867],\"showgrid\":true},\"xaxis49\":{\"anchor\":\"y49\",\"domain\":[0.0,0.175],\"showgrid\":true},\"yaxis49\":{\"anchor\":\"x49\",\"domain\":[0.28395061728395066,0.31851851851851853],\"showgrid\":true},\"xaxis50\":{\"anchor\":\"y50\",\"domain\":[0.275,0.45],\"showgrid\":true},\"yaxis50\":{\"anchor\":\"x50\",\"domain\":[0.28395061728395066,0.31851851851851853],\"showgrid\":true},\"xaxis51\":{\"anchor\":\"y51\",\"domain\":[0.55,0.7250000000000001],\"showgrid\":true},\"yaxis51\":{\"anchor\":\"x51\",\"domain\":[0.28395061728395066,0.31851851851851853],\"showgrid\":true},\"xaxis52\":{\"anchor\":\"y52\",\"domain\":[0.825,1.0],\"showgrid\":true},\"yaxis52\":{\"anchor\":\"x52\",\"domain\":[0.28395061728395066,0.31851851851851853],\"showgrid\":true},\"xaxis53\":{\"anchor\":\"y53\",\"domain\":[0.0,0.175],\"showgrid\":true},\"yaxis53\":{\"anchor\":\"x53\",\"domain\":[0.22716049382716053,0.2617283950617284],\"showgrid\":true},\"xaxis54\":{\"anchor\":\"y54\",\"domain\":[0.275,0.45],\"showgrid\":true},\"yaxis54\":{\"anchor\":\"x54\",\"domain\":[0.22716049382716053,0.2617283950617284],\"showgrid\":true},\"xaxis55\":{\"anchor\":\"y55\",\"domain\":[0.55,0.7250000000000001],\"showgrid\":true},\"yaxis55\":{\"anchor\":\"x55\",\"domain\":[0.22716049382716053,0.2617283950617284],\"showgrid\":true},\"xaxis56\":{\"anchor\":\"y56\",\"domain\":[0.825,1.0],\"showgrid\":true},\"yaxis56\":{\"anchor\":\"x56\",\"domain\":[0.22716049382716053,0.2617283950617284],\"showgrid\":true},\"xaxis57\":{\"anchor\":\"y57\",\"domain\":[0.0,0.175],\"showgrid\":true},\"yaxis57\":{\"anchor\":\"x57\",\"domain\":[0.1703703703703704,0.2049382716049383],\"showgrid\":true},\"xaxis58\":{\"anchor\":\"y58\",\"domain\":[0.275,0.45],\"showgrid\":true},\"yaxis58\":{\"anchor\":\"x58\",\"domain\":[0.1703703703703704,0.2049382716049383],\"showgrid\":true},\"xaxis59\":{\"anchor\":\"y59\",\"domain\":[0.55,0.7250000000000001],\"showgrid\":true},\"yaxis59\":{\"anchor\":\"x59\",\"domain\":[0.1703703703703704,0.2049382716049383],\"showgrid\":true},\"xaxis60\":{\"anchor\":\"y60\",\"domain\":[0.825,1.0],\"showgrid\":true},\"yaxis60\":{\"anchor\":\"x60\",\"domain\":[0.1703703703703704,0.2049382716049383],\"showgrid\":true},\"xaxis61\":{\"anchor\":\"y61\",\"domain\":[0.0,0.175],\"showgrid\":true},\"yaxis61\":{\"anchor\":\"x61\",\"domain\":[0.11358024691358026,0.14814814814814817],\"showgrid\":true},\"xaxis62\":{\"anchor\":\"y62\",\"domain\":[0.275,0.45],\"showgrid\":true},\"yaxis62\":{\"anchor\":\"x62\",\"domain\":[0.11358024691358026,0.14814814814814817],\"showgrid\":true},\"xaxis63\":{\"anchor\":\"y63\",\"domain\":[0.55,0.7250000000000001],\"showgrid\":true},\"yaxis63\":{\"anchor\":\"x63\",\"domain\":[0.11358024691358026,0.14814814814814817],\"showgrid\":true},\"xaxis64\":{\"anchor\":\"y64\",\"domain\":[0.825,1.0],\"showgrid\":true},\"yaxis64\":{\"anchor\":\"x64\",\"domain\":[0.11358024691358026,0.14814814814814817],\"showgrid\":true},\"xaxis65\":{\"anchor\":\"y65\",\"domain\":[0.0,0.175],\"showgrid\":true},\"yaxis65\":{\"anchor\":\"x65\",\"domain\":[0.05679012345679013,0.09135802469135804],\"showgrid\":true},\"xaxis66\":{\"anchor\":\"y66\",\"domain\":[0.275,0.45],\"showgrid\":true},\"yaxis66\":{\"anchor\":\"x66\",\"domain\":[0.05679012345679013,0.09135802469135804],\"showgrid\":true},\"xaxis67\":{\"anchor\":\"y67\",\"domain\":[0.55,0.7250000000000001],\"showgrid\":true},\"yaxis67\":{\"anchor\":\"x67\",\"domain\":[0.05679012345679013,0.09135802469135804],\"showgrid\":true},\"xaxis68\":{\"anchor\":\"y68\",\"domain\":[0.825,1.0],\"showgrid\":true},\"yaxis68\":{\"anchor\":\"x68\",\"domain\":[0.05679012345679013,0.09135802469135804],\"showgrid\":true},\"xaxis69\":{\"anchor\":\"y69\",\"domain\":[0.0,0.175],\"showgrid\":true},\"yaxis69\":{\"anchor\":\"x69\",\"domain\":[0.0,0.034567901234567905],\"showgrid\":true},\"xaxis70\":{\"anchor\":\"y70\",\"domain\":[0.275,0.45],\"showgrid\":true},\"yaxis70\":{\"anchor\":\"x70\",\"domain\":[0.0,0.034567901234567905],\"showgrid\":true},\"xaxis71\":{\"anchor\":\"y71\",\"domain\":[0.55,0.7250000000000001],\"showgrid\":true},\"yaxis71\":{\"anchor\":\"x71\",\"domain\":[0.0,0.034567901234567905],\"showgrid\":true},\"xaxis72\":{\"anchor\":\"y72\",\"domain\":[0.825,1.0],\"showgrid\":true},\"yaxis72\":{\"anchor\":\"x72\",\"domain\":[0.0,0.034567901234567905],\"showgrid\":true},\"annotations\":[{\"font\":{\"size\":16},\"showarrow\":false,\"text\":\"Topic 0\",\"x\":0.0875,\"xanchor\":\"center\",\"xref\":\"paper\",\"y\":0.9999999999999998,\"yanchor\":\"bottom\",\"yref\":\"paper\"},{\"font\":{\"size\":16},\"showarrow\":false,\"text\":\"Topic 1\",\"x\":0.36250000000000004,\"xanchor\":\"center\",\"xref\":\"paper\",\"y\":0.9999999999999998,\"yanchor\":\"bottom\",\"yref\":\"paper\"},{\"font\":{\"size\":16},\"showarrow\":false,\"text\":\"Topic 2\",\"x\":0.6375000000000001,\"xanchor\":\"center\",\"xref\":\"paper\",\"y\":0.9999999999999998,\"yanchor\":\"bottom\",\"yref\":\"paper\"},{\"font\":{\"size\":16},\"showarrow\":false,\"text\":\"Topic 3\",\"x\":0.9125,\"xanchor\":\"center\",\"xref\":\"paper\",\"y\":0.9999999999999998,\"yanchor\":\"bottom\",\"yref\":\"paper\"},{\"font\":{\"size\":16},\"showarrow\":false,\"text\":\"Topic 4\",\"x\":0.0875,\"xanchor\":\"center\",\"xref\":\"paper\",\"y\":0.9432098765432098,\"yanchor\":\"bottom\",\"yref\":\"paper\"},{\"font\":{\"size\":16},\"showarrow\":false,\"text\":\"Topic 5\",\"x\":0.36250000000000004,\"xanchor\":\"center\",\"xref\":\"paper\",\"y\":0.9432098765432098,\"yanchor\":\"bottom\",\"yref\":\"paper\"},{\"font\":{\"size\":16},\"showarrow\":false,\"text\":\"Topic 6\",\"x\":0.6375000000000001,\"xanchor\":\"center\",\"xref\":\"paper\",\"y\":0.9432098765432098,\"yanchor\":\"bottom\",\"yref\":\"paper\"},{\"font\":{\"size\":16},\"showarrow\":false,\"text\":\"Topic 7\",\"x\":0.9125,\"xanchor\":\"center\",\"xref\":\"paper\",\"y\":0.9432098765432098,\"yanchor\":\"bottom\",\"yref\":\"paper\"},{\"font\":{\"size\":16},\"showarrow\":false,\"text\":\"Topic 8\",\"x\":0.0875,\"xanchor\":\"center\",\"xref\":\"paper\",\"y\":0.8864197530864196,\"yanchor\":\"bottom\",\"yref\":\"paper\"},{\"font\":{\"size\":16},\"showarrow\":false,\"text\":\"Topic 9\",\"x\":0.36250000000000004,\"xanchor\":\"center\",\"xref\":\"paper\",\"y\":0.8864197530864196,\"yanchor\":\"bottom\",\"yref\":\"paper\"},{\"font\":{\"size\":16},\"showarrow\":false,\"text\":\"Topic 10\",\"x\":0.6375000000000001,\"xanchor\":\"center\",\"xref\":\"paper\",\"y\":0.8864197530864196,\"yanchor\":\"bottom\",\"yref\":\"paper\"},{\"font\":{\"size\":16},\"showarrow\":false,\"text\":\"Topic 11\",\"x\":0.9125,\"xanchor\":\"center\",\"xref\":\"paper\",\"y\":0.8864197530864196,\"yanchor\":\"bottom\",\"yref\":\"paper\"},{\"font\":{\"size\":16},\"showarrow\":false,\"text\":\"Topic 12\",\"x\":0.0875,\"xanchor\":\"center\",\"xref\":\"paper\",\"y\":0.8296296296296295,\"yanchor\":\"bottom\",\"yref\":\"paper\"},{\"font\":{\"size\":16},\"showarrow\":false,\"text\":\"Topic 13\",\"x\":0.36250000000000004,\"xanchor\":\"center\",\"xref\":\"paper\",\"y\":0.8296296296296295,\"yanchor\":\"bottom\",\"yref\":\"paper\"},{\"font\":{\"size\":16},\"showarrow\":false,\"text\":\"Topic 14\",\"x\":0.6375000000000001,\"xanchor\":\"center\",\"xref\":\"paper\",\"y\":0.8296296296296295,\"yanchor\":\"bottom\",\"yref\":\"paper\"},{\"font\":{\"size\":16},\"showarrow\":false,\"text\":\"Topic 15\",\"x\":0.9125,\"xanchor\":\"center\",\"xref\":\"paper\",\"y\":0.8296296296296295,\"yanchor\":\"bottom\",\"yref\":\"paper\"},{\"font\":{\"size\":16},\"showarrow\":false,\"text\":\"Topic 16\",\"x\":0.0875,\"xanchor\":\"center\",\"xref\":\"paper\",\"y\":0.7728395061728395,\"yanchor\":\"bottom\",\"yref\":\"paper\"},{\"font\":{\"size\":16},\"showarrow\":false,\"text\":\"Topic 17\",\"x\":0.36250000000000004,\"xanchor\":\"center\",\"xref\":\"paper\",\"y\":0.7728395061728395,\"yanchor\":\"bottom\",\"yref\":\"paper\"},{\"font\":{\"size\":16},\"showarrow\":false,\"text\":\"Topic 18\",\"x\":0.6375000000000001,\"xanchor\":\"center\",\"xref\":\"paper\",\"y\":0.7728395061728395,\"yanchor\":\"bottom\",\"yref\":\"paper\"},{\"font\":{\"size\":16},\"showarrow\":false,\"text\":\"Topic 19\",\"x\":0.9125,\"xanchor\":\"center\",\"xref\":\"paper\",\"y\":0.7728395061728395,\"yanchor\":\"bottom\",\"yref\":\"paper\"},{\"font\":{\"size\":16},\"showarrow\":false,\"text\":\"Topic 20\",\"x\":0.0875,\"xanchor\":\"center\",\"xref\":\"paper\",\"y\":0.7160493827160492,\"yanchor\":\"bottom\",\"yref\":\"paper\"},{\"font\":{\"size\":16},\"showarrow\":false,\"text\":\"Topic 21\",\"x\":0.36250000000000004,\"xanchor\":\"center\",\"xref\":\"paper\",\"y\":0.7160493827160492,\"yanchor\":\"bottom\",\"yref\":\"paper\"},{\"font\":{\"size\":16},\"showarrow\":false,\"text\":\"Topic 22\",\"x\":0.6375000000000001,\"xanchor\":\"center\",\"xref\":\"paper\",\"y\":0.7160493827160492,\"yanchor\":\"bottom\",\"yref\":\"paper\"},{\"font\":{\"size\":16},\"showarrow\":false,\"text\":\"Topic 23\",\"x\":0.9125,\"xanchor\":\"center\",\"xref\":\"paper\",\"y\":0.7160493827160492,\"yanchor\":\"bottom\",\"yref\":\"paper\"},{\"font\":{\"size\":16},\"showarrow\":false,\"text\":\"Topic 24\",\"x\":0.0875,\"xanchor\":\"center\",\"xref\":\"paper\",\"y\":0.6592592592592592,\"yanchor\":\"bottom\",\"yref\":\"paper\"},{\"font\":{\"size\":16},\"showarrow\":false,\"text\":\"Topic 25\",\"x\":0.36250000000000004,\"xanchor\":\"center\",\"xref\":\"paper\",\"y\":0.6592592592592592,\"yanchor\":\"bottom\",\"yref\":\"paper\"},{\"font\":{\"size\":16},\"showarrow\":false,\"text\":\"Topic 26\",\"x\":0.6375000000000001,\"xanchor\":\"center\",\"xref\":\"paper\",\"y\":0.6592592592592592,\"yanchor\":\"bottom\",\"yref\":\"paper\"},{\"font\":{\"size\":16},\"showarrow\":false,\"text\":\"Topic 27\",\"x\":0.9125,\"xanchor\":\"center\",\"xref\":\"paper\",\"y\":0.6592592592592592,\"yanchor\":\"bottom\",\"yref\":\"paper\"},{\"font\":{\"size\":16},\"showarrow\":false,\"text\":\"Topic 28\",\"x\":0.0875,\"xanchor\":\"center\",\"xref\":\"paper\",\"y\":0.6024691358024691,\"yanchor\":\"bottom\",\"yref\":\"paper\"},{\"font\":{\"size\":16},\"showarrow\":false,\"text\":\"Topic 29\",\"x\":0.36250000000000004,\"xanchor\":\"center\",\"xref\":\"paper\",\"y\":0.6024691358024691,\"yanchor\":\"bottom\",\"yref\":\"paper\"},{\"font\":{\"size\":16},\"showarrow\":false,\"text\":\"Topic 30\",\"x\":0.6375000000000001,\"xanchor\":\"center\",\"xref\":\"paper\",\"y\":0.6024691358024691,\"yanchor\":\"bottom\",\"yref\":\"paper\"},{\"font\":{\"size\":16},\"showarrow\":false,\"text\":\"Topic 31\",\"x\":0.9125,\"xanchor\":\"center\",\"xref\":\"paper\",\"y\":0.6024691358024691,\"yanchor\":\"bottom\",\"yref\":\"paper\"},{\"font\":{\"size\":16},\"showarrow\":false,\"text\":\"Topic 32\",\"x\":0.0875,\"xanchor\":\"center\",\"xref\":\"paper\",\"y\":0.545679012345679,\"yanchor\":\"bottom\",\"yref\":\"paper\"},{\"font\":{\"size\":16},\"showarrow\":false,\"text\":\"Topic 33\",\"x\":0.36250000000000004,\"xanchor\":\"center\",\"xref\":\"paper\",\"y\":0.545679012345679,\"yanchor\":\"bottom\",\"yref\":\"paper\"},{\"font\":{\"size\":16},\"showarrow\":false,\"text\":\"Topic 34\",\"x\":0.6375000000000001,\"xanchor\":\"center\",\"xref\":\"paper\",\"y\":0.545679012345679,\"yanchor\":\"bottom\",\"yref\":\"paper\"},{\"font\":{\"size\":16},\"showarrow\":false,\"text\":\"Topic 35\",\"x\":0.9125,\"xanchor\":\"center\",\"xref\":\"paper\",\"y\":0.545679012345679,\"yanchor\":\"bottom\",\"yref\":\"paper\"},{\"font\":{\"size\":16},\"showarrow\":false,\"text\":\"Topic 36\",\"x\":0.0875,\"xanchor\":\"center\",\"xref\":\"paper\",\"y\":0.48888888888888893,\"yanchor\":\"bottom\",\"yref\":\"paper\"},{\"font\":{\"size\":16},\"showarrow\":false,\"text\":\"Topic 37\",\"x\":0.36250000000000004,\"xanchor\":\"center\",\"xref\":\"paper\",\"y\":0.48888888888888893,\"yanchor\":\"bottom\",\"yref\":\"paper\"},{\"font\":{\"size\":16},\"showarrow\":false,\"text\":\"Topic 38\",\"x\":0.6375000000000001,\"xanchor\":\"center\",\"xref\":\"paper\",\"y\":0.48888888888888893,\"yanchor\":\"bottom\",\"yref\":\"paper\"},{\"font\":{\"size\":16},\"showarrow\":false,\"text\":\"Topic 39\",\"x\":0.9125,\"xanchor\":\"center\",\"xref\":\"paper\",\"y\":0.48888888888888893,\"yanchor\":\"bottom\",\"yref\":\"paper\"},{\"font\":{\"size\":16},\"showarrow\":false,\"text\":\"Topic 40\",\"x\":0.0875,\"xanchor\":\"center\",\"xref\":\"paper\",\"y\":0.4320987654320988,\"yanchor\":\"bottom\",\"yref\":\"paper\"},{\"font\":{\"size\":16},\"showarrow\":false,\"text\":\"Topic 41\",\"x\":0.36250000000000004,\"xanchor\":\"center\",\"xref\":\"paper\",\"y\":0.4320987654320988,\"yanchor\":\"bottom\",\"yref\":\"paper\"},{\"font\":{\"size\":16},\"showarrow\":false,\"text\":\"Topic 42\",\"x\":0.6375000000000001,\"xanchor\":\"center\",\"xref\":\"paper\",\"y\":0.4320987654320988,\"yanchor\":\"bottom\",\"yref\":\"paper\"},{\"font\":{\"size\":16},\"showarrow\":false,\"text\":\"Topic 43\",\"x\":0.9125,\"xanchor\":\"center\",\"xref\":\"paper\",\"y\":0.4320987654320988,\"yanchor\":\"bottom\",\"yref\":\"paper\"},{\"font\":{\"size\":16},\"showarrow\":false,\"text\":\"Topic 44\",\"x\":0.0875,\"xanchor\":\"center\",\"xref\":\"paper\",\"y\":0.37530864197530867,\"yanchor\":\"bottom\",\"yref\":\"paper\"},{\"font\":{\"size\":16},\"showarrow\":false,\"text\":\"Topic 45\",\"x\":0.36250000000000004,\"xanchor\":\"center\",\"xref\":\"paper\",\"y\":0.37530864197530867,\"yanchor\":\"bottom\",\"yref\":\"paper\"},{\"font\":{\"size\":16},\"showarrow\":false,\"text\":\"Topic 46\",\"x\":0.6375000000000001,\"xanchor\":\"center\",\"xref\":\"paper\",\"y\":0.37530864197530867,\"yanchor\":\"bottom\",\"yref\":\"paper\"},{\"font\":{\"size\":16},\"showarrow\":false,\"text\":\"Topic 47\",\"x\":0.9125,\"xanchor\":\"center\",\"xref\":\"paper\",\"y\":0.37530864197530867,\"yanchor\":\"bottom\",\"yref\":\"paper\"},{\"font\":{\"size\":16},\"showarrow\":false,\"text\":\"Topic 48\",\"x\":0.0875,\"xanchor\":\"center\",\"xref\":\"paper\",\"y\":0.31851851851851853,\"yanchor\":\"bottom\",\"yref\":\"paper\"},{\"font\":{\"size\":16},\"showarrow\":false,\"text\":\"Topic 49\",\"x\":0.36250000000000004,\"xanchor\":\"center\",\"xref\":\"paper\",\"y\":0.31851851851851853,\"yanchor\":\"bottom\",\"yref\":\"paper\"},{\"font\":{\"size\":16},\"showarrow\":false,\"text\":\"Topic 50\",\"x\":0.6375000000000001,\"xanchor\":\"center\",\"xref\":\"paper\",\"y\":0.31851851851851853,\"yanchor\":\"bottom\",\"yref\":\"paper\"},{\"font\":{\"size\":16},\"showarrow\":false,\"text\":\"Topic 51\",\"x\":0.9125,\"xanchor\":\"center\",\"xref\":\"paper\",\"y\":0.31851851851851853,\"yanchor\":\"bottom\",\"yref\":\"paper\"},{\"font\":{\"size\":16},\"showarrow\":false,\"text\":\"Topic 52\",\"x\":0.0875,\"xanchor\":\"center\",\"xref\":\"paper\",\"y\":0.2617283950617284,\"yanchor\":\"bottom\",\"yref\":\"paper\"},{\"font\":{\"size\":16},\"showarrow\":false,\"text\":\"Topic 53\",\"x\":0.36250000000000004,\"xanchor\":\"center\",\"xref\":\"paper\",\"y\":0.2617283950617284,\"yanchor\":\"bottom\",\"yref\":\"paper\"},{\"font\":{\"size\":16},\"showarrow\":false,\"text\":\"Topic 54\",\"x\":0.6375000000000001,\"xanchor\":\"center\",\"xref\":\"paper\",\"y\":0.2617283950617284,\"yanchor\":\"bottom\",\"yref\":\"paper\"},{\"font\":{\"size\":16},\"showarrow\":false,\"text\":\"Topic 55\",\"x\":0.9125,\"xanchor\":\"center\",\"xref\":\"paper\",\"y\":0.2617283950617284,\"yanchor\":\"bottom\",\"yref\":\"paper\"},{\"font\":{\"size\":16},\"showarrow\":false,\"text\":\"Topic 56\",\"x\":0.0875,\"xanchor\":\"center\",\"xref\":\"paper\",\"y\":0.2049382716049383,\"yanchor\":\"bottom\",\"yref\":\"paper\"},{\"font\":{\"size\":16},\"showarrow\":false,\"text\":\"Topic 57\",\"x\":0.36250000000000004,\"xanchor\":\"center\",\"xref\":\"paper\",\"y\":0.2049382716049383,\"yanchor\":\"bottom\",\"yref\":\"paper\"},{\"font\":{\"size\":16},\"showarrow\":false,\"text\":\"Topic 58\",\"x\":0.6375000000000001,\"xanchor\":\"center\",\"xref\":\"paper\",\"y\":0.2049382716049383,\"yanchor\":\"bottom\",\"yref\":\"paper\"},{\"font\":{\"size\":16},\"showarrow\":false,\"text\":\"Topic 59\",\"x\":0.9125,\"xanchor\":\"center\",\"xref\":\"paper\",\"y\":0.2049382716049383,\"yanchor\":\"bottom\",\"yref\":\"paper\"},{\"font\":{\"size\":16},\"showarrow\":false,\"text\":\"Topic 60\",\"x\":0.0875,\"xanchor\":\"center\",\"xref\":\"paper\",\"y\":0.14814814814814817,\"yanchor\":\"bottom\",\"yref\":\"paper\"},{\"font\":{\"size\":16},\"showarrow\":false,\"text\":\"Topic 61\",\"x\":0.36250000000000004,\"xanchor\":\"center\",\"xref\":\"paper\",\"y\":0.14814814814814817,\"yanchor\":\"bottom\",\"yref\":\"paper\"},{\"font\":{\"size\":16},\"showarrow\":false,\"text\":\"Topic 62\",\"x\":0.6375000000000001,\"xanchor\":\"center\",\"xref\":\"paper\",\"y\":0.14814814814814817,\"yanchor\":\"bottom\",\"yref\":\"paper\"},{\"font\":{\"size\":16},\"showarrow\":false,\"text\":\"Topic 63\",\"x\":0.9125,\"xanchor\":\"center\",\"xref\":\"paper\",\"y\":0.14814814814814817,\"yanchor\":\"bottom\",\"yref\":\"paper\"},{\"font\":{\"size\":16},\"showarrow\":false,\"text\":\"Topic 64\",\"x\":0.0875,\"xanchor\":\"center\",\"xref\":\"paper\",\"y\":0.09135802469135804,\"yanchor\":\"bottom\",\"yref\":\"paper\"},{\"font\":{\"size\":16},\"showarrow\":false,\"text\":\"Topic 65\",\"x\":0.36250000000000004,\"xanchor\":\"center\",\"xref\":\"paper\",\"y\":0.09135802469135804,\"yanchor\":\"bottom\",\"yref\":\"paper\"},{\"font\":{\"size\":16},\"showarrow\":false,\"text\":\"Topic 66\",\"x\":0.6375000000000001,\"xanchor\":\"center\",\"xref\":\"paper\",\"y\":0.09135802469135804,\"yanchor\":\"bottom\",\"yref\":\"paper\"},{\"font\":{\"size\":16},\"showarrow\":false,\"text\":\"Topic 67\",\"x\":0.9125,\"xanchor\":\"center\",\"xref\":\"paper\",\"y\":0.09135802469135804,\"yanchor\":\"bottom\",\"yref\":\"paper\"},{\"font\":{\"size\":16},\"showarrow\":false,\"text\":\"Topic 68\",\"x\":0.0875,\"xanchor\":\"center\",\"xref\":\"paper\",\"y\":0.034567901234567905,\"yanchor\":\"bottom\",\"yref\":\"paper\"},{\"font\":{\"size\":16},\"showarrow\":false,\"text\":\"Topic 69\",\"x\":0.36250000000000004,\"xanchor\":\"center\",\"xref\":\"paper\",\"y\":0.034567901234567905,\"yanchor\":\"bottom\",\"yref\":\"paper\"},{\"font\":{\"size\":16},\"showarrow\":false,\"text\":\"Topic 70\",\"x\":0.6375000000000001,\"xanchor\":\"center\",\"xref\":\"paper\",\"y\":0.034567901234567905,\"yanchor\":\"bottom\",\"yref\":\"paper\"}],\"title\":{\"font\":{\"size\":22,\"color\":\"Black\"},\"text\":\"All - Lack of Access to Health\\u002fMental Health Care\",\"x\":0.5,\"xanchor\":\"center\",\"yanchor\":\"top\"},\"hoverlabel\":{\"font\":{\"size\":16,\"family\":\"Rockwell\"},\"bgcolor\":\"white\"},\"showlegend\":false,\"width\":1000,\"height\":4500},                        {\"responsive\": true}                    )                };                            </script>        </div>"
      ],
      "text/plain": [
       "Figure({\n",
       "    'data': [{'marker': {'color': '#D55E00'},\n",
       "              'orientation': 'h',\n",
       "              'type': 'bar',\n",
       "              'x': [0.46630358695983887, 0.48212456703186035, 0.49774977564811707,\n",
       "                    0.5567287802696228, 0.5991394519805908],\n",
       "              'xaxis': 'x',\n",
       "              'y': [suicidal  , committed suicide  , suicide  , attempted suicide\n",
       "                    , suicide article  ],\n",
       "              'yaxis': 'y'},\n",
       "             {'marker': {'color': '#0072B2'},\n",
       "              'orientation': 'h',\n",
       "              'type': 'bar',\n",
       "              'x': [0.49908876419067383, 0.5180374979972839, 0.526097297668457,\n",
       "                    0.570652425289154, 0.7198272347450256],\n",
       "              'xaxis': 'x2',\n",
       "              'y': [suicides related  , among veterans  , veterans article  ,\n",
       "                    suicide among  , veteran suicide  ],\n",
       "              'yaxis': 'y2'},\n",
       "             {'marker': {'color': '#CC79A7'},\n",
       "              'orientation': 'h',\n",
       "              'type': 'bar',\n",
       "              'x': [0.44919171929359436, 0.4587870240211487, 0.4623335301876068,\n",
       "                    0.47081586718559265, 0.6091172695159912],\n",
       "              'xaxis': 'x3',\n",
       "              'y': [prison article  , suicide  , mentions inmates  , suicides  ,\n",
       "                    solitary confinement  ],\n",
       "              'yaxis': 'y3'},\n",
       "             {'marker': {'color': '#E69F00'},\n",
       "              'orientation': 'h',\n",
       "              'type': 'bar',\n",
       "              'x': [0.476432204246521, 0.5048592686653137, 0.5243644118309021,\n",
       "                    0.5310384035110474, 0.5342926979064941],\n",
       "              'xaxis': 'x4',\n",
       "              'y': [suicides  , attempted suicide  , psychosis  , mental health  ,\n",
       "                    postpartum psychosis  ],\n",
       "              'yaxis': 'y4'},\n",
       "             {'marker': {'color': '#56B4E9'},\n",
       "              'orientation': 'h',\n",
       "              'type': 'bar',\n",
       "              'x': [0.5640214085578918, 0.5714514255523682, 0.5746006369590759,\n",
       "                    0.575525164604187, 0.6558021306991577],\n",
       "              'xaxis': 'x5',\n",
       "              'y': [among transgender  , transgender people  , transgender\n",
       "                    children  , transgender individuals  , transgender youth  ],\n",
       "              'yaxis': 'y5'},\n",
       "             {'marker': {'color': '#009E73'},\n",
       "              'orientation': 'h',\n",
       "              'type': 'bar',\n",
       "              'x': [0.5218032002449036, 0.5530200004577637, 0.5582772493362427,\n",
       "                    0.5643173456192017, 0.6162269115447998],\n",
       "              'xaxis': 'x6',\n",
       "              'y': [suicidal thoughts  , suicide rates  , suicide article  ,\n",
       "                    discusses suicide  , suicide prevention  ],\n",
       "              'yaxis': 'y6'},\n",
       "             {'marker': {'color': '#F0E442'},\n",
       "              'orientation': 'h',\n",
       "              'type': 'bar',\n",
       "              'x': [0.5040199160575867, 0.5327291488647461, 0.5618453621864319,\n",
       "                    0.5623766183853149, 0.5705956220626831],\n",
       "              'xaxis': 'x7',\n",
       "              'y': [brain damage  , encephalopathy cte  , concussions  , traumatic\n",
       "                    encephalopathy  , encephalopathy  ],\n",
       "              'yaxis': 'y7'},\n",
       "             {'marker': {'color': '#D55E00'},\n",
       "              'orientation': 'h',\n",
       "              'type': 'bar',\n",
       "              'x': [0.44640401005744934, 0.49289774894714355, 0.4998737573623657,\n",
       "                    0.5135403275489807, 0.5295816659927368],\n",
       "              'xaxis': 'x8',\n",
       "              'y': [suicide  , killed surgeon  , killed patient  , suicide related\n",
       "                    , suicide article  ],\n",
       "              'yaxis': 'y8'},\n",
       "             {'marker': {'color': '#0072B2'},\n",
       "              'orientation': 'h',\n",
       "              'type': 'bar',\n",
       "              'x': [0.3896036744117737, 0.38993746042251587, 0.4115588068962097,\n",
       "                    0.42027726769447327, 0.43756479024887085],\n",
       "              'xaxis': 'x9',\n",
       "              'y': [traumatic event  , suicide  , capitol attack  , capitol police\n",
       "                    , took lives  ],\n",
       "              'yaxis': 'y9'},\n",
       "             {'marker': {'color': '#CC79A7'},\n",
       "              'orientation': 'h',\n",
       "              'type': 'bar',\n",
       "              'x': [0.4641028642654419, 0.4850652813911438, 0.48953795433044434,\n",
       "                    0.5847359895706177, 0.5893692374229431],\n",
       "              'xaxis': 'x10',\n",
       "              'y': [committed suicide  , cause suicide  , suicide implied  ,\n",
       "                    suicide article  , reason suicide  ],\n",
       "              'yaxis': 'y10'},\n",
       "             {'marker': {'color': '#E69F00'},\n",
       "              'orientation': 'h',\n",
       "              'type': 'bar',\n",
       "              'x': [0.5624289512634277, 0.680415689945221, 0.7244488000869751,\n",
       "                    0.7253170013427734, 0.7341865301132202],\n",
       "              'xaxis': 'x11',\n",
       "              'y': [terminal illnesses  , euthanasia  , assisted death  , assisted\n",
       "                    suicide  , issue euthanasia  ],\n",
       "              'yaxis': 'y11'},\n",
       "             {'marker': {'color': '#56B4E9'},\n",
       "              'orientation': 'h',\n",
       "              'type': 'bar',\n",
       "              'x': [0.4817120432853699, 0.4834440350532532, 0.5070072412490845,\n",
       "                    0.5265220999717712, 0.554143488407135],\n",
       "              'xaxis': 'x12',\n",
       "              'y': [naomi judd  , committed suicide  , suicide article  , judd\n",
       "                    killed  , judd died  ],\n",
       "              'yaxis': 'y12'},\n",
       "             {'marker': {'color': '#009E73'},\n",
       "              'orientation': 'h',\n",
       "              'type': 'bar',\n",
       "              'x': [0.43280357122421265, 0.4362478256225586, 0.44091349840164185,\n",
       "                    0.5495847463607788, 0.582173764705658],\n",
       "              'xaxis': 'x13',\n",
       "              'y': [mentions adams  , phillip adams  , suicide case  , adams\n",
       "                    suffered  , adams killed  ],\n",
       "              'yaxis': 'y13'},\n",
       "             {'marker': {'color': '#F0E442'},\n",
       "              'orientation': 'h',\n",
       "              'type': 'bar',\n",
       "              'x': [0.43703195452690125, 0.47594112157821655, 0.48990732431411743,\n",
       "                    0.5263728499412537, 0.5996085405349731],\n",
       "              'xaxis': 'x14',\n",
       "              'y': [tommy raskin  , cause suicide  , suicide  , suicide attempt  ,\n",
       "                    reason suicide  ],\n",
       "              'yaxis': 'y14'},\n",
       "             {'marker': {'color': '#D55E00'},\n",
       "              'orientation': 'h',\n",
       "              'type': 'bar',\n",
       "              'x': [0.5629286170005798, 0.5831080675125122, 0.5903476476669312,\n",
       "                    0.5914009809494019, 0.599014163017273],\n",
       "              'xaxis': 'x15',\n",
       "              'y': [opioid crisis  , overdose article  , overdoses suicides  ,\n",
       "                    drug overdose  , discusses opioid  ],\n",
       "              'yaxis': 'y15'},\n",
       "             {'marker': {'color': '#0072B2'},\n",
       "              'orientation': 'h',\n",
       "              'type': 'bar',\n",
       "              'x': [0.4600759446620941, 0.48847299814224243, 0.5320141315460205,\n",
       "                    0.5693306922912598, 0.5954066514968872],\n",
       "              'xaxis': 'x16',\n",
       "              'y': [illness article  , ending life  , terminal cancer  , terminal\n",
       "                    illness  , lethal medication  ],\n",
       "              'yaxis': 'y16'},\n",
       "             {'marker': {'color': '#CC79A7'},\n",
       "              'orientation': 'h',\n",
       "              'type': 'bar',\n",
       "              'x': [0.4910997748374939, 0.5116092562675476, 0.5336328744888306,\n",
       "                    0.5450500845909119, 0.6060397624969482],\n",
       "              'xaxis': 'x17',\n",
       "              'y': [mental health  , suicides due  , pandemic lockdowns  ,\n",
       "                    suicides  , increase suicides  ],\n",
       "              'yaxis': 'y17'},\n",
       "             {'marker': {'color': '#E69F00'},\n",
       "              'orientation': 'h',\n",
       "              'type': 'bar',\n",
       "              'x': [0.5052452087402344, 0.5190635323524475, 0.533848762512207,\n",
       "                    0.5785466432571411, 0.6453685760498047],\n",
       "              'xaxis': 'x18',\n",
       "              'y': [suicide falling  , mental health  , discusses suicide  ,\n",
       "                    homelessness  , becoming homeless  ],\n",
       "              'yaxis': 'y18'},\n",
       "             {'marker': {'color': '#56B4E9'},\n",
       "              'orientation': 'h',\n",
       "              'type': 'bar',\n",
       "              'x': [0.47816941142082214, 0.48930856585502625, 0.5045588612556458,\n",
       "                    0.623033344745636, 0.6521172523498535],\n",
       "              'xaxis': 'x19',\n",
       "              'y': [suicide rate  , mental health  , chicago police  , suicide\n",
       "                    police  , officer suicide  ],\n",
       "              'yaxis': 'y19'},\n",
       "             {'marker': {'color': '#009E73'},\n",
       "              'orientation': 'h',\n",
       "              'type': 'bar',\n",
       "              'x': [0.39934155344963074, 0.4135948717594147, 0.44766518473625183,\n",
       "                    0.5060275793075562, 0.5080106258392334],\n",
       "              'xaxis': 'x20',\n",
       "              'y': [guns  , guns used  , suicide article  , purchased guns  ,\n",
       "                    purchase guns  ],\n",
       "              'yaxis': 'y20'},\n",
       "             {'marker': {'color': '#F0E442'},\n",
       "              'orientation': 'h',\n",
       "              'type': 'bar',\n",
       "              'x': [0.36889442801475525, 0.3744806945323944, 0.39104345440864563,\n",
       "                    0.4026283621788025, 0.4214405417442322],\n",
       "              'xaxis': 'x21',\n",
       "              'y': [detained psychiatric  , edwards detained  , bernardino sheriff\n",
       "                    , virginia sheriff  , edwards killed  ],\n",
       "              'yaxis': 'y21'},\n",
       "             {'marker': {'color': '#D55E00'},\n",
       "              'orientation': 'h',\n",
       "              'type': 'bar',\n",
       "              'x': [0.5366411209106445, 0.5397429466247559, 0.5802260041236877,\n",
       "                    0.5862643122673035, 0.6034163236618042],\n",
       "              'xaxis': 'x22',\n",
       "              'y': [receiving covid  , coronavirus  , covid 19  , caused covid  ,\n",
       "                    died covid  ],\n",
       "              'yaxis': 'y22'},\n",
       "             {'marker': {'color': '#0072B2'},\n",
       "              'orientation': 'h',\n",
       "              'type': 'bar',\n",
       "              'x': [0.612801194190979, 0.6277761459350586, 0.6358693838119507,\n",
       "                    0.6569837927818298, 0.816788911819458],\n",
       "              'xaxis': 'x23',\n",
       "              'y': [prevent suicides  , preventing suicides  , suicides article  ,\n",
       "                    gun deaths  , firearm suicides  ],\n",
       "              'yaxis': 'y23'},\n",
       "             {'marker': {'color': '#CC79A7'},\n",
       "              'orientation': 'h',\n",
       "              'type': 'bar',\n",
       "              'x': [0.4249991476535797, 0.4428020119667053, 0.4567973017692566,\n",
       "                    0.479586660861969, 0.4952858090400696],\n",
       "              'xaxis': 'x24',\n",
       "              'y': [mass shooting  , mental health  , suicide unspecified  ,\n",
       "                    committed suicide  , suicide huu  ],\n",
       "              'yaxis': 'y24'},\n",
       "             {'marker': {'color': '#E69F00'},\n",
       "              'orientation': 'h',\n",
       "              'type': 'bar',\n",
       "              'x': [0.5925952196121216, 0.5931558609008789, 0.5982994437217712,\n",
       "                    0.6207544207572937, 0.6953563690185547],\n",
       "              'xaxis': 'x25',\n",
       "              'y': [abortion  , roe wade  , abortions  , legal abortions  ,\n",
       "                    abortions article  ],\n",
       "              'yaxis': 'y25'},\n",
       "             {'marker': {'color': '#56B4E9'},\n",
       "              'orientation': 'h',\n",
       "              'type': 'bar',\n",
       "              'x': [0.5473154783248901, 0.5616416931152344, 0.5632779598236084,\n",
       "                    0.5911448001861572, 0.6390671133995056],\n",
       "              'xaxis': 'x26',\n",
       "              'y': [following covid  , covid infection  , covid  , long covid  ,\n",
       "                    covid patients  ],\n",
       "              'yaxis': 'y26'},\n",
       "             {'marker': {'color': '#009E73'},\n",
       "              'orientation': 'h',\n",
       "              'type': 'bar',\n",
       "              'x': [0.426746129989624, 0.4781830310821533, 0.5369322299957275,\n",
       "                    0.6270879507064819, 0.6514433026313782],\n",
       "              'xaxis': 'x27',\n",
       "              'y': [father suicide  , leader died  , harry reid  , reid died  ,\n",
       "                    reid death  ],\n",
       "              'yaxis': 'y27'},\n",
       "             {'marker': {'color': '#F0E442'},\n",
       "              'orientation': 'h',\n",
       "              'type': 'bar',\n",
       "              'x': [0.5138645172119141, 0.5221085548400879, 0.5393439531326294,\n",
       "                    0.5423488020896912, 0.5443165898323059],\n",
       "              'xaxis': 'x28',\n",
       "              'y': [school shooting  , problem suicide  , suicide categorizing  ,\n",
       "                    mental health  , mass shooting  ],\n",
       "              'yaxis': 'y28'},\n",
       "             {'marker': {'color': '#D55E00'},\n",
       "              'orientation': 'h',\n",
       "              'type': 'bar',\n",
       "              'x': [0.45496582984924316, 0.5051193237304688, 0.5250498652458191,\n",
       "                    0.5279919505119324, 0.5480231046676636],\n",
       "              'xaxis': 'x29',\n",
       "              'y': [sherman  , sherman arrested  , sherman drinking  , mentions\n",
       "                    sherman  , richard sherman  ],\n",
       "              'yaxis': 'y29'},\n",
       "             {'marker': {'color': '#0072B2'},\n",
       "              'orientation': 'h',\n",
       "              'type': 'bar',\n",
       "              'x': [0.4265974462032318, 0.4308788776397705, 0.444355309009552,\n",
       "                    0.46821218729019165, 0.5218060612678528],\n",
       "              'xaxis': 'x30',\n",
       "              'y': [health struggles  , wife meghan  , suicidal thoughts  , harry\n",
       "                    wife  , mental health  ],\n",
       "              'yaxis': 'y30'},\n",
       "             {'marker': {'color': '#CC79A7'},\n",
       "              'orientation': 'h',\n",
       "              'type': 'bar',\n",
       "              'x': [0.42902281880378723, 0.4471575915813446, 0.44948670268058777,\n",
       "                    0.463396817445755, 0.4740833640098572],\n",
       "              'xaxis': 'x31',\n",
       "              'y': [suicide cop  , suicidal  , suicidal thoughts  , suicide one  ,\n",
       "                    suicide  ],\n",
       "              'yaxis': 'y31'},\n",
       "             {'marker': {'color': '#E69F00'},\n",
       "              'orientation': 'h',\n",
       "              'type': 'bar',\n",
       "              'x': [0.4602099657058716, 0.4844244420528412, 0.48633506894111633,\n",
       "                    0.4870040714740753, 0.5064493417739868],\n",
       "              'xaxis': 'x32',\n",
       "              'y': [deteriorating health  , suicide facing  , terminal cancer  ,\n",
       "                    suicide  , committed suicide  ],\n",
       "              'yaxis': 'y32'},\n",
       "             {'marker': {'color': '#56B4E9'},\n",
       "              'orientation': 'h',\n",
       "              'type': 'bar',\n",
       "              'x': [0.461401104927063, 0.4905799627304077, 0.5700502395629883,\n",
       "                    0.6271342635154724, 0.6631258726119995],\n",
       "              'xaxis': 'x33',\n",
       "              'y': [kill students  , mental health  , student shot  , school\n",
       "                    shooter  , school shootings  ],\n",
       "              'yaxis': 'y33'},\n",
       "             {'marker': {'color': '#009E73'},\n",
       "              'orientation': 'h',\n",
       "              'type': 'bar',\n",
       "              'x': [0.5227019786834717, 0.5536572337150574, 0.5868035554885864,\n",
       "                    0.5895951390266418, 0.6240600347518921],\n",
       "              'xaxis': 'x34',\n",
       "              'y': [suicide canada  , assisted death  , assisted suicide  ,\n",
       "                    assistance dying  , euthanasia  ],\n",
       "              'yaxis': 'y34'},\n",
       "             {'marker': {'color': '#F0E442'},\n",
       "              'orientation': 'h',\n",
       "              'type': 'bar',\n",
       "              'x': [0.47638577222824097, 0.47721368074417114, 0.5109398365020752,\n",
       "                    0.5259870290756226, 0.5587893724441528],\n",
       "              'xaxis': 'x35',\n",
       "              'y': [mental health  , parents struggling  , teenager bipolar  ,\n",
       "                    families article  , parents article  ],\n",
       "              'yaxis': 'y35'},\n",
       "             {'marker': {'color': '#D55E00'},\n",
       "              'orientation': 'h',\n",
       "              'type': 'bar',\n",
       "              'x': [0.419988751411438, 0.4271899461746216, 0.4348183572292328,\n",
       "                    0.45450520515441895, 0.498478502035141],\n",
       "              'xaxis': 'x36',\n",
       "              'y': [suicide showing  , psychiatric  , admitted psychiatric  ,\n",
       "                    suicide  , suicide article  ],\n",
       "              'yaxis': 'y36'},\n",
       "             {'marker': {'color': '#0072B2'},\n",
       "              'orientation': 'h',\n",
       "              'type': 'bar',\n",
       "              'x': [0.4719892740249634, 0.47738116979599, 0.492580771446228,\n",
       "                    0.5024606585502625, 0.568132758140564],\n",
       "              'xaxis': 'x37',\n",
       "              'y': [opioid addiction  , cause suicide  , suicide article  ,\n",
       "                    addiction opioids  , suicide health  ],\n",
       "              'yaxis': 'y37'},\n",
       "             {'marker': {'color': '#CC79A7'},\n",
       "              'orientation': 'h',\n",
       "              'type': 'bar',\n",
       "              'x': [0.5009626150131226, 0.5138344764709473, 0.5548034906387329,\n",
       "                    0.5573989748954773, 0.6463451981544495],\n",
       "              'xaxis': 'x38',\n",
       "              'y': [britney  , britney spears  , jean suicide  , spears\n",
       "                    grandmother  , suicide britney  ],\n",
       "              'yaxis': 'y38'},\n",
       "             {'marker': {'color': '#E69F00'},\n",
       "              'orientation': 'h',\n",
       "              'type': 'bar',\n",
       "              'x': [0.47061461210250854, 0.48584604263305664, 0.4954584836959839,\n",
       "                    0.5404131412506104, 0.5492323637008667],\n",
       "              'xaxis': 'x39',\n",
       "              'y': [high suicide  , indigenous communities  , suicide rates  ,\n",
       "                    suicide prevention  , prevention indigenous  ],\n",
       "              'yaxis': 'y39'},\n",
       "             {'marker': {'color': '#56B4E9'},\n",
       "              'orientation': 'h',\n",
       "              'type': 'bar',\n",
       "              'x': [0.3867880403995514, 0.39438796043395996, 0.4960835576057434,\n",
       "                    0.5269096493721008, 0.5495343208312988],\n",
       "              'xaxis': 'x40',\n",
       "              'y': [psychiatric  , mentions gunman  , suicide  , gunman killed  ,\n",
       "                    suicide article  ],\n",
       "              'yaxis': 'y40'},\n",
       "             {'marker': {'color': '#009E73'},\n",
       "              'orientation': 'h',\n",
       "              'type': 'bar',\n",
       "              'x': [0.4986233413219452, 0.5195080041885376, 0.5348988175392151,\n",
       "                    0.5473018288612366, 0.5556615591049194],\n",
       "              'xaxis': 'x41',\n",
       "              'y': [suicide  , mental health  , mental illness  , suicide\n",
       "                    mentioned  , suicide attempt  ],\n",
       "              'yaxis': 'y41'},\n",
       "             {'marker': {'color': '#F0E442'},\n",
       "              'orientation': 'h',\n",
       "              'type': 'bar',\n",
       "              'x': [0.5440614223480225, 0.5445945262908936, 0.5772035121917725,\n",
       "                    0.6140618920326233, 0.6145731210708618],\n",
       "              'xaxis': 'x42',\n",
       "              'y': [dealing pandemic  , coronavirus pandemic  , pandemic health  ,\n",
       "                    pandemic article  , health crisis  ],\n",
       "              'yaxis': 'y42'},\n",
       "             {'marker': {'color': '#D55E00'},\n",
       "              'orientation': 'h',\n",
       "              'type': 'bar',\n",
       "              'x': [0.48647409677505493, 0.5283265113830566, 0.5331662893295288,\n",
       "                    0.5698241591453552, 0.5990355014801025],\n",
       "              'xaxis': 'x43',\n",
       "              'y': [suicide due  , committed suicide  , suicide  , suicide related\n",
       "                    , suicide brandon  ],\n",
       "              'yaxis': 'y43'},\n",
       "             {'marker': {'color': '#0072B2'},\n",
       "              'orientation': 'h',\n",
       "              'type': 'bar',\n",
       "              'x': [0.5289143323898315, 0.5493515729904175, 0.5919293761253357,\n",
       "                    0.6043741703033447, 0.6248130202293396],\n",
       "              'xaxis': 'x44',\n",
       "              'y': [committed suicide  , suicide struggling  , suicide article  ,\n",
       "                    suicide attempt  , suicide sexually  ],\n",
       "              'yaxis': 'y44'},\n",
       "             {'marker': {'color': '#CC79A7'},\n",
       "              'orientation': 'h',\n",
       "              'type': 'bar',\n",
       "              'x': [0.39766940474510193, 0.4010879695415497, 0.4105641543865204,\n",
       "                    0.4176783561706543, 0.47598370909690857],\n",
       "              'xaxis': 'x45',\n",
       "              'y': [monoxide poisoning  , suicide due  , suicide  , suicide\n",
       "                    suffering  , died suicide  ],\n",
       "              'yaxis': 'y45'},\n",
       "             {'marker': {'color': '#E69F00'},\n",
       "              'orientation': 'h',\n",
       "              'type': 'bar',\n",
       "              'x': [0.44193997979164124, 0.44854116439819336, 0.4579145312309265,\n",
       "                    0.4693012833595276, 0.48708632588386536],\n",
       "              'xaxis': 'x46',\n",
       "              'y': [self harm  , mental health  , suicide  , eating disorders  ,\n",
       "                    health teenagers  ],\n",
       "              'yaxis': 'y46'},\n",
       "             {'marker': {'color': '#56B4E9'},\n",
       "              'orientation': 'h',\n",
       "              'type': 'bar',\n",
       "              'x': [0.4727087616920471, 0.48134779930114746, 0.490384966135025,\n",
       "                    0.49676305055618286, 0.6258304715156555],\n",
       "              'xaxis': 'x47',\n",
       "              'y': [fuller hospitalized  , suicidal behavior  , suicide related  ,\n",
       "                    robert fuller  , fuller suicide  ],\n",
       "              'yaxis': 'y47'},\n",
       "             {'marker': {'color': '#009E73'},\n",
       "              'orientation': 'h',\n",
       "              'type': 'bar',\n",
       "              'x': [0.4303935170173645, 0.4514884948730469, 0.4576057493686676,\n",
       "                    0.4977733790874481, 0.5096613168716431],\n",
       "              'xaxis': 'x48',\n",
       "              'y': [body dementia  , suicide  , dementia  , robin williams  ,\n",
       "                    suicide actor  ],\n",
       "              'yaxis': 'y48'},\n",
       "             {'marker': {'color': '#F0E442'},\n",
       "              'orientation': 'h',\n",
       "              'type': 'bar',\n",
       "              'x': [0.5096616744995117, 0.515227198600769, 0.5448916554450989,\n",
       "                    0.5686711072921753, 0.5932629108428955],\n",
       "              'xaxis': 'x49',\n",
       "              'y': [rates suicide  , factors suicide  , discusses suicide  ,\n",
       "                    suicide rates  , suicide among  ],\n",
       "              'yaxis': 'y49'},\n",
       "             {'marker': {'color': '#D55E00'},\n",
       "              'orientation': 'h',\n",
       "              'type': 'bar',\n",
       "              'x': [0.47564268112182617, 0.49452900886535645, 0.49890193343162537,\n",
       "                    0.5283175110816956, 0.5899185538291931],\n",
       "              'xaxis': 'x50',\n",
       "              'y': [mental health  , suicide rate  , high suicide  , suicides  ,\n",
       "                    suicide prevention  ],\n",
       "              'yaxis': 'y50'},\n",
       "             {'marker': {'color': '#0072B2'},\n",
       "              'orientation': 'h',\n",
       "              'type': 'bar',\n",
       "              'x': [0.42775070667266846, 0.43881064653396606, 0.45929351449012756,\n",
       "                    0.4713689684867859, 0.4998619556427002],\n",
       "              'xaxis': 'x51',\n",
       "              'y': [accessing firearms  , perceived threats  , suicide cop  ,\n",
       "                    firearms individuals  , possessing firearms  ],\n",
       "              'yaxis': 'y51'},\n",
       "             {'marker': {'color': '#CC79A7'},\n",
       "              'orientation': 'h',\n",
       "              'type': 'bar',\n",
       "              'x': [0.47373825311660767, 0.4762495756149292, 0.4942536950111389,\n",
       "                    0.5026764869689941, 0.5592992305755615],\n",
       "              'xaxis': 'x52',\n",
       "              'y': [depression three  , financial stress  , depression  ,\n",
       "                    depression financial  , concerns suicides  ],\n",
       "              'yaxis': 'y52'},\n",
       "             {'marker': {'color': '#E69F00'},\n",
       "              'orientation': 'h',\n",
       "              'type': 'bar',\n",
       "              'x': [0.4918684959411621, 0.5420329570770264, 0.5456644296646118,\n",
       "                    0.5801606178283691, 0.6014845371246338],\n",
       "              'xaxis': 'x53',\n",
       "              'y': [health crisis  , shootings  , violence schools  , mass\n",
       "                    shootings  , gun violence  ],\n",
       "              'yaxis': 'y53'},\n",
       "             {'marker': {'color': '#56B4E9'},\n",
       "              'orientation': 'h',\n",
       "              'type': 'bar',\n",
       "              'x': [0.5438807606697083, 0.567874550819397, 0.5683100819587708,\n",
       "                    0.6041247248649597, 0.607708752155304],\n",
       "              'xaxis': 'x54',\n",
       "              'y': [firefighters facing  , among firefighters  , wildland\n",
       "                    firefighters  , firefighters california  , firefighters\n",
       "                    suffering  ],\n",
       "              'yaxis': 'y54'},\n",
       "             {'marker': {'color': '#009E73'},\n",
       "              'orientation': 'h',\n",
       "              'type': 'bar',\n",
       "              'x': [0.5712272524833679, 0.5810511112213135, 0.5958994626998901,\n",
       "                    0.597204327583313, 0.6114755868911743],\n",
       "              'xaxis': 'x55',\n",
       "              'y': [addiction alcohol  , author suicidal  , suicidal thoughts  ,\n",
       "                    struggle suicidal  , suicidal behavior  ],\n",
       "              'yaxis': 'y55'},\n",
       "             {'marker': {'color': '#F0E442'},\n",
       "              'orientation': 'h',\n",
       "              'type': 'bar',\n",
       "              'x': [0.4440653622150421, 0.45228517055511475, 0.45853450894355774,\n",
       "                    0.4798324704170227, 0.4901903569698334],\n",
       "              'xaxis': 'x56',\n",
       "              'y': [firefighter killed  , health issue  , suicide could  , died\n",
       "                    inhaling  , smoke inhalation  ],\n",
       "              'yaxis': 'y56'},\n",
       "             {'marker': {'color': '#D55E00'},\n",
       "              'orientation': 'h',\n",
       "              'type': 'bar',\n",
       "              'x': [0.517689049243927, 0.5270959138870239, 0.5497362613677979,\n",
       "                    0.5641963481903076, 0.5673882365226746],\n",
       "              'xaxis': 'x57',\n",
       "              'y': [mentions assange  , assange facing  , assange  , julian\n",
       "                    assange  , assange mental  ],\n",
       "              'yaxis': 'y57'},\n",
       "             {'marker': {'color': '#0072B2'},\n",
       "              'orientation': 'h',\n",
       "              'type': 'bar',\n",
       "              'x': [0.48415714502334595, 0.5021103620529175, 0.5202402472496033,\n",
       "                    0.5412092804908752, 0.5466463565826416],\n",
       "              'xaxis': 'x58',\n",
       "              'y': [mental health  , illness article  , suicidal behavior  ,\n",
       "                    mental illness  , illness suicidal  ],\n",
       "              'yaxis': 'y58'},\n",
       "             {'marker': {'color': '#CC79A7'},\n",
       "              'orientation': 'h',\n",
       "              'type': 'bar',\n",
       "              'x': [0.5658901929855347, 0.5849828124046326, 0.5910305380821228,\n",
       "                    0.6185029745101929, 0.6450340747833252],\n",
       "              'xaxis': 'x59',\n",
       "              'y': [theodore kaczynski  , kaczynski  , mentions kaczynski  , ted\n",
       "                    kaczynski  , kaczynski health  ],\n",
       "              'yaxis': 'y59'},\n",
       "             {'marker': {'color': '#E69F00'},\n",
       "              'orientation': 'h',\n",
       "              'type': 'bar',\n",
       "              'x': [0.4128956198692322, 0.42263737320899963, 0.45665615797042847,\n",
       "                    0.4569769501686096, 0.4714473783969879],\n",
       "              'xaxis': 'x60',\n",
       "              'y': [mentions conrad  , struggled depression  , depression mental\n",
       "                    , depression  , suicide  ],\n",
       "              'yaxis': 'y60'},\n",
       "             {'marker': {'color': '#56B4E9'},\n",
       "              'orientation': 'h',\n",
       "              'type': 'bar',\n",
       "              'x': [0.41277316212654114, 0.4329105615615845, 0.4397762417793274,\n",
       "                    0.4807370603084564, 0.49042850732803345],\n",
       "              'xaxis': 'x61',\n",
       "              'y': [murdaugh misappropriated  , murdaugh family  , mentions\n",
       "                    murdaugh  , alex murdaugh  , murdaugh lawyer  ],\n",
       "              'yaxis': 'y61'},\n",
       "             {'marker': {'color': '#009E73'},\n",
       "              'orientation': 'h',\n",
       "              'type': 'bar',\n",
       "              'x': [0.5188918709754944, 0.5697230696678162, 0.5700554251670837,\n",
       "                    0.576579213142395, 0.5885555744171143],\n",
       "              'xaxis': 'x62',\n",
       "              'y': [suicide related  , cause suicide  , discusses suicide  ,\n",
       "                    suicide article  , contributed suicides  ],\n",
       "              'yaxis': 'y62'},\n",
       "             {'marker': {'color': '#F0E442'},\n",
       "              'orientation': 'h',\n",
       "              'type': 'bar',\n",
       "              'x': [0.5101033449172974, 0.5345906615257263, 0.5522753596305847,\n",
       "                    0.5566381812095642, 0.6056132316589355],\n",
       "              'xaxis': 'x63',\n",
       "              'y': [aids  , hiv aids  , lived hiv  , wisler hiv  , aids crisis  ],\n",
       "              'yaxis': 'y63'},\n",
       "             {'marker': {'color': '#D55E00'},\n",
       "              'orientation': 'h',\n",
       "              'type': 'bar',\n",
       "              'x': [0.3554232716560364, 0.3882986307144165, 0.4366764724254608,\n",
       "                    0.5251141786575317, 0.537527859210968],\n",
       "              'xaxis': 'x64',\n",
       "              'y': [contributed death  , wife death  , meisner  , meisner\n",
       "                    diagnosed  , randy meisner  ],\n",
       "              'yaxis': 'y64'},\n",
       "             {'marker': {'color': '#0072B2'},\n",
       "              'orientation': 'h',\n",
       "              'type': 'bar',\n",
       "              'x': [0.3954664170742035, 0.39958229660987854, 0.42155957221984863,\n",
       "                    0.4222508370876312, 0.5348045825958252],\n",
       "              'xaxis': 'x65',\n",
       "              'y': [room business  , mental health  , cause suicide  , suicide\n",
       "                    article  , rage room  ],\n",
       "              'yaxis': 'y65'},\n",
       "             {'marker': {'color': '#CC79A7'},\n",
       "              'orientation': 'h',\n",
       "              'type': 'bar',\n",
       "              'x': [0.48014941811561584, 0.48248082399368286, 0.48548799753189087,\n",
       "                    0.4899805188179016, 0.5302852988243103],\n",
       "              'xaxis': 'x66',\n",
       "              'y': [suicidal therefore  , shot police  , nicolas chavez  , killed\n",
       "                    police  , reportedly suicidal  ],\n",
       "              'yaxis': 'y66'},\n",
       "             {'marker': {'color': '#E69F00'},\n",
       "              'orientation': 'h',\n",
       "              'type': 'bar',\n",
       "              'x': [0.45344018936157227, 0.45397692918777466, 0.4655412435531616,\n",
       "                    0.48691123723983765, 0.48921358585357666],\n",
       "              'xaxis': 'x67',\n",
       "              'y': [ai  , suicide case  , ai providing  , potential ai  , suicide\n",
       "                    article  ],\n",
       "              'yaxis': 'y67'},\n",
       "             {'marker': {'color': '#56B4E9'},\n",
       "              'orientation': 'h',\n",
       "              'type': 'bar',\n",
       "              'x': [0.39885327219963074, 0.42499956488609314, 0.43316739797592163,\n",
       "                    0.444131076335907, 0.4876623749732971],\n",
       "              'xaxis': 'x68',\n",
       "              'y': [article legal  , mora killed  , mentally unstable  , article\n",
       "                    health  , suicide restraining  ],\n",
       "              'yaxis': 'y68'},\n",
       "             {'marker': {'color': '#009E73'},\n",
       "              'orientation': 'h',\n",
       "              'type': 'bar',\n",
       "              'x': [0.5696665048599243, 0.5789923667907715, 0.5876237750053406,\n",
       "                    0.6180617213249207, 0.6739856004714966],\n",
       "              'xaxis': 'x69',\n",
       "              'y': [suicide author  , carter died  , brother suicide  , reason\n",
       "                    suicide  , carter suicide  ],\n",
       "              'yaxis': 'y69'},\n",
       "             {'marker': {'color': '#F0E442'},\n",
       "              'orientation': 'h',\n",
       "              'type': 'bar',\n",
       "              'x': [0.5155880451202393, 0.5613969564437866, 0.5657079219818115,\n",
       "                    0.5863549709320068, 0.61344975233078],\n",
       "              'xaxis': 'x70',\n",
       "              'y': [gogh artist  , gogh shot  , van gogh  , gogh struggled  , gogh\n",
       "                    suffered  ],\n",
       "              'yaxis': 'y70'},\n",
       "             {'marker': {'color': '#D55E00'},\n",
       "              'orientation': 'h',\n",
       "              'type': 'bar',\n",
       "              'x': [0.2977660000324249, 0.35853761434555054, 0.36027586460113525,\n",
       "                    0.45214587450027466, 0.4995265603065491],\n",
       "              'xaxis': 'x71',\n",
       "              'y': [luther  , king jr  , mental health  , martin luther  , luther\n",
       "                    king  ],\n",
       "              'yaxis': 'y71'}],\n",
       "    'layout': {'annotations': [{'font': {'size': 16},\n",
       "                                'showarrow': False,\n",
       "                                'text': 'Topic 0',\n",
       "                                'x': 0.0875,\n",
       "                                'xanchor': 'center',\n",
       "                                'xref': 'paper',\n",
       "                                'y': 0.9999999999999998,\n",
       "                                'yanchor': 'bottom',\n",
       "                                'yref': 'paper'},\n",
       "                               {'font': {'size': 16},\n",
       "                                'showarrow': False,\n",
       "                                'text': 'Topic 1',\n",
       "                                'x': 0.36250000000000004,\n",
       "                                'xanchor': 'center',\n",
       "                                'xref': 'paper',\n",
       "                                'y': 0.9999999999999998,\n",
       "                                'yanchor': 'bottom',\n",
       "                                'yref': 'paper'},\n",
       "                               {'font': {'size': 16},\n",
       "                                'showarrow': False,\n",
       "                                'text': 'Topic 2',\n",
       "                                'x': 0.6375000000000001,\n",
       "                                'xanchor': 'center',\n",
       "                                'xref': 'paper',\n",
       "                                'y': 0.9999999999999998,\n",
       "                                'yanchor': 'bottom',\n",
       "                                'yref': 'paper'},\n",
       "                               {'font': {'size': 16},\n",
       "                                'showarrow': False,\n",
       "                                'text': 'Topic 3',\n",
       "                                'x': 0.9125,\n",
       "                                'xanchor': 'center',\n",
       "                                'xref': 'paper',\n",
       "                                'y': 0.9999999999999998,\n",
       "                                'yanchor': 'bottom',\n",
       "                                'yref': 'paper'},\n",
       "                               {'font': {'size': 16},\n",
       "                                'showarrow': False,\n",
       "                                'text': 'Topic 4',\n",
       "                                'x': 0.0875,\n",
       "                                'xanchor': 'center',\n",
       "                                'xref': 'paper',\n",
       "                                'y': 0.9432098765432098,\n",
       "                                'yanchor': 'bottom',\n",
       "                                'yref': 'paper'},\n",
       "                               {'font': {'size': 16},\n",
       "                                'showarrow': False,\n",
       "                                'text': 'Topic 5',\n",
       "                                'x': 0.36250000000000004,\n",
       "                                'xanchor': 'center',\n",
       "                                'xref': 'paper',\n",
       "                                'y': 0.9432098765432098,\n",
       "                                'yanchor': 'bottom',\n",
       "                                'yref': 'paper'},\n",
       "                               {'font': {'size': 16},\n",
       "                                'showarrow': False,\n",
       "                                'text': 'Topic 6',\n",
       "                                'x': 0.6375000000000001,\n",
       "                                'xanchor': 'center',\n",
       "                                'xref': 'paper',\n",
       "                                'y': 0.9432098765432098,\n",
       "                                'yanchor': 'bottom',\n",
       "                                'yref': 'paper'},\n",
       "                               {'font': {'size': 16},\n",
       "                                'showarrow': False,\n",
       "                                'text': 'Topic 7',\n",
       "                                'x': 0.9125,\n",
       "                                'xanchor': 'center',\n",
       "                                'xref': 'paper',\n",
       "                                'y': 0.9432098765432098,\n",
       "                                'yanchor': 'bottom',\n",
       "                                'yref': 'paper'},\n",
       "                               {'font': {'size': 16},\n",
       "                                'showarrow': False,\n",
       "                                'text': 'Topic 8',\n",
       "                                'x': 0.0875,\n",
       "                                'xanchor': 'center',\n",
       "                                'xref': 'paper',\n",
       "                                'y': 0.8864197530864196,\n",
       "                                'yanchor': 'bottom',\n",
       "                                'yref': 'paper'},\n",
       "                               {'font': {'size': 16},\n",
       "                                'showarrow': False,\n",
       "                                'text': 'Topic 9',\n",
       "                                'x': 0.36250000000000004,\n",
       "                                'xanchor': 'center',\n",
       "                                'xref': 'paper',\n",
       "                                'y': 0.8864197530864196,\n",
       "                                'yanchor': 'bottom',\n",
       "                                'yref': 'paper'},\n",
       "                               {'font': {'size': 16},\n",
       "                                'showarrow': False,\n",
       "                                'text': 'Topic 10',\n",
       "                                'x': 0.6375000000000001,\n",
       "                                'xanchor': 'center',\n",
       "                                'xref': 'paper',\n",
       "                                'y': 0.8864197530864196,\n",
       "                                'yanchor': 'bottom',\n",
       "                                'yref': 'paper'},\n",
       "                               {'font': {'size': 16},\n",
       "                                'showarrow': False,\n",
       "                                'text': 'Topic 11',\n",
       "                                'x': 0.9125,\n",
       "                                'xanchor': 'center',\n",
       "                                'xref': 'paper',\n",
       "                                'y': 0.8864197530864196,\n",
       "                                'yanchor': 'bottom',\n",
       "                                'yref': 'paper'},\n",
       "                               {'font': {'size': 16},\n",
       "                                'showarrow': False,\n",
       "                                'text': 'Topic 12',\n",
       "                                'x': 0.0875,\n",
       "                                'xanchor': 'center',\n",
       "                                'xref': 'paper',\n",
       "                                'y': 0.8296296296296295,\n",
       "                                'yanchor': 'bottom',\n",
       "                                'yref': 'paper'},\n",
       "                               {'font': {'size': 16},\n",
       "                                'showarrow': False,\n",
       "                                'text': 'Topic 13',\n",
       "                                'x': 0.36250000000000004,\n",
       "                                'xanchor': 'center',\n",
       "                                'xref': 'paper',\n",
       "                                'y': 0.8296296296296295,\n",
       "                                'yanchor': 'bottom',\n",
       "                                'yref': 'paper'},\n",
       "                               {'font': {'size': 16},\n",
       "                                'showarrow': False,\n",
       "                                'text': 'Topic 14',\n",
       "                                'x': 0.6375000000000001,\n",
       "                                'xanchor': 'center',\n",
       "                                'xref': 'paper',\n",
       "                                'y': 0.8296296296296295,\n",
       "                                'yanchor': 'bottom',\n",
       "                                'yref': 'paper'},\n",
       "                               {'font': {'size': 16},\n",
       "                                'showarrow': False,\n",
       "                                'text': 'Topic 15',\n",
       "                                'x': 0.9125,\n",
       "                                'xanchor': 'center',\n",
       "                                'xref': 'paper',\n",
       "                                'y': 0.8296296296296295,\n",
       "                                'yanchor': 'bottom',\n",
       "                                'yref': 'paper'},\n",
       "                               {'font': {'size': 16},\n",
       "                                'showarrow': False,\n",
       "                                'text': 'Topic 16',\n",
       "                                'x': 0.0875,\n",
       "                                'xanchor': 'center',\n",
       "                                'xref': 'paper',\n",
       "                                'y': 0.7728395061728395,\n",
       "                                'yanchor': 'bottom',\n",
       "                                'yref': 'paper'},\n",
       "                               {'font': {'size': 16},\n",
       "                                'showarrow': False,\n",
       "                                'text': 'Topic 17',\n",
       "                                'x': 0.36250000000000004,\n",
       "                                'xanchor': 'center',\n",
       "                                'xref': 'paper',\n",
       "                                'y': 0.7728395061728395,\n",
       "                                'yanchor': 'bottom',\n",
       "                                'yref': 'paper'},\n",
       "                               {'font': {'size': 16},\n",
       "                                'showarrow': False,\n",
       "                                'text': 'Topic 18',\n",
       "                                'x': 0.6375000000000001,\n",
       "                                'xanchor': 'center',\n",
       "                                'xref': 'paper',\n",
       "                                'y': 0.7728395061728395,\n",
       "                                'yanchor': 'bottom',\n",
       "                                'yref': 'paper'},\n",
       "                               {'font': {'size': 16},\n",
       "                                'showarrow': False,\n",
       "                                'text': 'Topic 19',\n",
       "                                'x': 0.9125,\n",
       "                                'xanchor': 'center',\n",
       "                                'xref': 'paper',\n",
       "                                'y': 0.7728395061728395,\n",
       "                                'yanchor': 'bottom',\n",
       "                                'yref': 'paper'},\n",
       "                               {'font': {'size': 16},\n",
       "                                'showarrow': False,\n",
       "                                'text': 'Topic 20',\n",
       "                                'x': 0.0875,\n",
       "                                'xanchor': 'center',\n",
       "                                'xref': 'paper',\n",
       "                                'y': 0.7160493827160492,\n",
       "                                'yanchor': 'bottom',\n",
       "                                'yref': 'paper'},\n",
       "                               {'font': {'size': 16},\n",
       "                                'showarrow': False,\n",
       "                                'text': 'Topic 21',\n",
       "                                'x': 0.36250000000000004,\n",
       "                                'xanchor': 'center',\n",
       "                                'xref': 'paper',\n",
       "                                'y': 0.7160493827160492,\n",
       "                                'yanchor': 'bottom',\n",
       "                                'yref': 'paper'},\n",
       "                               {'font': {'size': 16},\n",
       "                                'showarrow': False,\n",
       "                                'text': 'Topic 22',\n",
       "                                'x': 0.6375000000000001,\n",
       "                                'xanchor': 'center',\n",
       "                                'xref': 'paper',\n",
       "                                'y': 0.7160493827160492,\n",
       "                                'yanchor': 'bottom',\n",
       "                                'yref': 'paper'},\n",
       "                               {'font': {'size': 16},\n",
       "                                'showarrow': False,\n",
       "                                'text': 'Topic 23',\n",
       "                                'x': 0.9125,\n",
       "                                'xanchor': 'center',\n",
       "                                'xref': 'paper',\n",
       "                                'y': 0.7160493827160492,\n",
       "                                'yanchor': 'bottom',\n",
       "                                'yref': 'paper'},\n",
       "                               {'font': {'size': 16},\n",
       "                                'showarrow': False,\n",
       "                                'text': 'Topic 24',\n",
       "                                'x': 0.0875,\n",
       "                                'xanchor': 'center',\n",
       "                                'xref': 'paper',\n",
       "                                'y': 0.6592592592592592,\n",
       "                                'yanchor': 'bottom',\n",
       "                                'yref': 'paper'},\n",
       "                               {'font': {'size': 16},\n",
       "                                'showarrow': False,\n",
       "                                'text': 'Topic 25',\n",
       "                                'x': 0.36250000000000004,\n",
       "                                'xanchor': 'center',\n",
       "                                'xref': 'paper',\n",
       "                                'y': 0.6592592592592592,\n",
       "                                'yanchor': 'bottom',\n",
       "                                'yref': 'paper'},\n",
       "                               {'font': {'size': 16},\n",
       "                                'showarrow': False,\n",
       "                                'text': 'Topic 26',\n",
       "                                'x': 0.6375000000000001,\n",
       "                                'xanchor': 'center',\n",
       "                                'xref': 'paper',\n",
       "                                'y': 0.6592592592592592,\n",
       "                                'yanchor': 'bottom',\n",
       "                                'yref': 'paper'},\n",
       "                               {'font': {'size': 16},\n",
       "                                'showarrow': False,\n",
       "                                'text': 'Topic 27',\n",
       "                                'x': 0.9125,\n",
       "                                'xanchor': 'center',\n",
       "                                'xref': 'paper',\n",
       "                                'y': 0.6592592592592592,\n",
       "                                'yanchor': 'bottom',\n",
       "                                'yref': 'paper'},\n",
       "                               {'font': {'size': 16},\n",
       "                                'showarrow': False,\n",
       "                                'text': 'Topic 28',\n",
       "                                'x': 0.0875,\n",
       "                                'xanchor': 'center',\n",
       "                                'xref': 'paper',\n",
       "                                'y': 0.6024691358024691,\n",
       "                                'yanchor': 'bottom',\n",
       "                                'yref': 'paper'},\n",
       "                               {'font': {'size': 16},\n",
       "                                'showarrow': False,\n",
       "                                'text': 'Topic 29',\n",
       "                                'x': 0.36250000000000004,\n",
       "                                'xanchor': 'center',\n",
       "                                'xref': 'paper',\n",
       "                                'y': 0.6024691358024691,\n",
       "                                'yanchor': 'bottom',\n",
       "                                'yref': 'paper'},\n",
       "                               {'font': {'size': 16},\n",
       "                                'showarrow': False,\n",
       "                                'text': 'Topic 30',\n",
       "                                'x': 0.6375000000000001,\n",
       "                                'xanchor': 'center',\n",
       "                                'xref': 'paper',\n",
       "                                'y': 0.6024691358024691,\n",
       "                                'yanchor': 'bottom',\n",
       "                                'yref': 'paper'},\n",
       "                               {'font': {'size': 16},\n",
       "                                'showarrow': False,\n",
       "                                'text': 'Topic 31',\n",
       "                                'x': 0.9125,\n",
       "                                'xanchor': 'center',\n",
       "                                'xref': 'paper',\n",
       "                                'y': 0.6024691358024691,\n",
       "                                'yanchor': 'bottom',\n",
       "                                'yref': 'paper'},\n",
       "                               {'font': {'size': 16},\n",
       "                                'showarrow': False,\n",
       "                                'text': 'Topic 32',\n",
       "                                'x': 0.0875,\n",
       "                                'xanchor': 'center',\n",
       "                                'xref': 'paper',\n",
       "                                'y': 0.545679012345679,\n",
       "                                'yanchor': 'bottom',\n",
       "                                'yref': 'paper'},\n",
       "                               {'font': {'size': 16},\n",
       "                                'showarrow': False,\n",
       "                                'text': 'Topic 33',\n",
       "                                'x': 0.36250000000000004,\n",
       "                                'xanchor': 'center',\n",
       "                                'xref': 'paper',\n",
       "                                'y': 0.545679012345679,\n",
       "                                'yanchor': 'bottom',\n",
       "                                'yref': 'paper'},\n",
       "                               {'font': {'size': 16},\n",
       "                                'showarrow': False,\n",
       "                                'text': 'Topic 34',\n",
       "                                'x': 0.6375000000000001,\n",
       "                                'xanchor': 'center',\n",
       "                                'xref': 'paper',\n",
       "                                'y': 0.545679012345679,\n",
       "                                'yanchor': 'bottom',\n",
       "                                'yref': 'paper'},\n",
       "                               {'font': {'size': 16},\n",
       "                                'showarrow': False,\n",
       "                                'text': 'Topic 35',\n",
       "                                'x': 0.9125,\n",
       "                                'xanchor': 'center',\n",
       "                                'xref': 'paper',\n",
       "                                'y': 0.545679012345679,\n",
       "                                'yanchor': 'bottom',\n",
       "                                'yref': 'paper'},\n",
       "                               {'font': {'size': 16},\n",
       "                                'showarrow': False,\n",
       "                                'text': 'Topic 36',\n",
       "                                'x': 0.0875,\n",
       "                                'xanchor': 'center',\n",
       "                                'xref': 'paper',\n",
       "                                'y': 0.48888888888888893,\n",
       "                                'yanchor': 'bottom',\n",
       "                                'yref': 'paper'},\n",
       "                               {'font': {'size': 16},\n",
       "                                'showarrow': False,\n",
       "                                'text': 'Topic 37',\n",
       "                                'x': 0.36250000000000004,\n",
       "                                'xanchor': 'center',\n",
       "                                'xref': 'paper',\n",
       "                                'y': 0.48888888888888893,\n",
       "                                'yanchor': 'bottom',\n",
       "                                'yref': 'paper'},\n",
       "                               {'font': {'size': 16},\n",
       "                                'showarrow': False,\n",
       "                                'text': 'Topic 38',\n",
       "                                'x': 0.6375000000000001,\n",
       "                                'xanchor': 'center',\n",
       "                                'xref': 'paper',\n",
       "                                'y': 0.48888888888888893,\n",
       "                                'yanchor': 'bottom',\n",
       "                                'yref': 'paper'},\n",
       "                               {'font': {'size': 16},\n",
       "                                'showarrow': False,\n",
       "                                'text': 'Topic 39',\n",
       "                                'x': 0.9125,\n",
       "                                'xanchor': 'center',\n",
       "                                'xref': 'paper',\n",
       "                                'y': 0.48888888888888893,\n",
       "                                'yanchor': 'bottom',\n",
       "                                'yref': 'paper'},\n",
       "                               {'font': {'size': 16},\n",
       "                                'showarrow': False,\n",
       "                                'text': 'Topic 40',\n",
       "                                'x': 0.0875,\n",
       "                                'xanchor': 'center',\n",
       "                                'xref': 'paper',\n",
       "                                'y': 0.4320987654320988,\n",
       "                                'yanchor': 'bottom',\n",
       "                                'yref': 'paper'},\n",
       "                               {'font': {'size': 16},\n",
       "                                'showarrow': False,\n",
       "                                'text': 'Topic 41',\n",
       "                                'x': 0.36250000000000004,\n",
       "                                'xanchor': 'center',\n",
       "                                'xref': 'paper',\n",
       "                                'y': 0.4320987654320988,\n",
       "                                'yanchor': 'bottom',\n",
       "                                'yref': 'paper'},\n",
       "                               {'font': {'size': 16},\n",
       "                                'showarrow': False,\n",
       "                                'text': 'Topic 42',\n",
       "                                'x': 0.6375000000000001,\n",
       "                                'xanchor': 'center',\n",
       "                                'xref': 'paper',\n",
       "                                'y': 0.4320987654320988,\n",
       "                                'yanchor': 'bottom',\n",
       "                                'yref': 'paper'},\n",
       "                               {'font': {'size': 16},\n",
       "                                'showarrow': False,\n",
       "                                'text': 'Topic 43',\n",
       "                                'x': 0.9125,\n",
       "                                'xanchor': 'center',\n",
       "                                'xref': 'paper',\n",
       "                                'y': 0.4320987654320988,\n",
       "                                'yanchor': 'bottom',\n",
       "                                'yref': 'paper'},\n",
       "                               {'font': {'size': 16},\n",
       "                                'showarrow': False,\n",
       "                                'text': 'Topic 44',\n",
       "                                'x': 0.0875,\n",
       "                                'xanchor': 'center',\n",
       "                                'xref': 'paper',\n",
       "                                'y': 0.37530864197530867,\n",
       "                                'yanchor': 'bottom',\n",
       "                                'yref': 'paper'},\n",
       "                               {'font': {'size': 16},\n",
       "                                'showarrow': False,\n",
       "                                'text': 'Topic 45',\n",
       "                                'x': 0.36250000000000004,\n",
       "                                'xanchor': 'center',\n",
       "                                'xref': 'paper',\n",
       "                                'y': 0.37530864197530867,\n",
       "                                'yanchor': 'bottom',\n",
       "                                'yref': 'paper'},\n",
       "                               {'font': {'size': 16},\n",
       "                                'showarrow': False,\n",
       "                                'text': 'Topic 46',\n",
       "                                'x': 0.6375000000000001,\n",
       "                                'xanchor': 'center',\n",
       "                                'xref': 'paper',\n",
       "                                'y': 0.37530864197530867,\n",
       "                                'yanchor': 'bottom',\n",
       "                                'yref': 'paper'},\n",
       "                               {'font': {'size': 16},\n",
       "                                'showarrow': False,\n",
       "                                'text': 'Topic 47',\n",
       "                                'x': 0.9125,\n",
       "                                'xanchor': 'center',\n",
       "                                'xref': 'paper',\n",
       "                                'y': 0.37530864197530867,\n",
       "                                'yanchor': 'bottom',\n",
       "                                'yref': 'paper'},\n",
       "                               {'font': {'size': 16},\n",
       "                                'showarrow': False,\n",
       "                                'text': 'Topic 48',\n",
       "                                'x': 0.0875,\n",
       "                                'xanchor': 'center',\n",
       "                                'xref': 'paper',\n",
       "                                'y': 0.31851851851851853,\n",
       "                                'yanchor': 'bottom',\n",
       "                                'yref': 'paper'},\n",
       "                               {'font': {'size': 16},\n",
       "                                'showarrow': False,\n",
       "                                'text': 'Topic 49',\n",
       "                                'x': 0.36250000000000004,\n",
       "                                'xanchor': 'center',\n",
       "                                'xref': 'paper',\n",
       "                                'y': 0.31851851851851853,\n",
       "                                'yanchor': 'bottom',\n",
       "                                'yref': 'paper'},\n",
       "                               {'font': {'size': 16},\n",
       "                                'showarrow': False,\n",
       "                                'text': 'Topic 50',\n",
       "                                'x': 0.6375000000000001,\n",
       "                                'xanchor': 'center',\n",
       "                                'xref': 'paper',\n",
       "                                'y': 0.31851851851851853,\n",
       "                                'yanchor': 'bottom',\n",
       "                                'yref': 'paper'},\n",
       "                               {'font': {'size': 16},\n",
       "                                'showarrow': False,\n",
       "                                'text': 'Topic 51',\n",
       "                                'x': 0.9125,\n",
       "                                'xanchor': 'center',\n",
       "                                'xref': 'paper',\n",
       "                                'y': 0.31851851851851853,\n",
       "                                'yanchor': 'bottom',\n",
       "                                'yref': 'paper'},\n",
       "                               {'font': {'size': 16},\n",
       "                                'showarrow': False,\n",
       "                                'text': 'Topic 52',\n",
       "                                'x': 0.0875,\n",
       "                                'xanchor': 'center',\n",
       "                                'xref': 'paper',\n",
       "                                'y': 0.2617283950617284,\n",
       "                                'yanchor': 'bottom',\n",
       "                                'yref': 'paper'},\n",
       "                               {'font': {'size': 16},\n",
       "                                'showarrow': False,\n",
       "                                'text': 'Topic 53',\n",
       "                                'x': 0.36250000000000004,\n",
       "                                'xanchor': 'center',\n",
       "                                'xref': 'paper',\n",
       "                                'y': 0.2617283950617284,\n",
       "                                'yanchor': 'bottom',\n",
       "                                'yref': 'paper'},\n",
       "                               {'font': {'size': 16},\n",
       "                                'showarrow': False,\n",
       "                                'text': 'Topic 54',\n",
       "                                'x': 0.6375000000000001,\n",
       "                                'xanchor': 'center',\n",
       "                                'xref': 'paper',\n",
       "                                'y': 0.2617283950617284,\n",
       "                                'yanchor': 'bottom',\n",
       "                                'yref': 'paper'},\n",
       "                               {'font': {'size': 16},\n",
       "                                'showarrow': False,\n",
       "                                'text': 'Topic 55',\n",
       "                                'x': 0.9125,\n",
       "                                'xanchor': 'center',\n",
       "                                'xref': 'paper',\n",
       "                                'y': 0.2617283950617284,\n",
       "                                'yanchor': 'bottom',\n",
       "                                'yref': 'paper'},\n",
       "                               {'font': {'size': 16},\n",
       "                                'showarrow': False,\n",
       "                                'text': 'Topic 56',\n",
       "                                'x': 0.0875,\n",
       "                                'xanchor': 'center',\n",
       "                                'xref': 'paper',\n",
       "                                'y': 0.2049382716049383,\n",
       "                                'yanchor': 'bottom',\n",
       "                                'yref': 'paper'},\n",
       "                               {'font': {'size': 16},\n",
       "                                'showarrow': False,\n",
       "                                'text': 'Topic 57',\n",
       "                                'x': 0.36250000000000004,\n",
       "                                'xanchor': 'center',\n",
       "                                'xref': 'paper',\n",
       "                                'y': 0.2049382716049383,\n",
       "                                'yanchor': 'bottom',\n",
       "                                'yref': 'paper'},\n",
       "                               {'font': {'size': 16},\n",
       "                                'showarrow': False,\n",
       "                                'text': 'Topic 58',\n",
       "                                'x': 0.6375000000000001,\n",
       "                                'xanchor': 'center',\n",
       "                                'xref': 'paper',\n",
       "                                'y': 0.2049382716049383,\n",
       "                                'yanchor': 'bottom',\n",
       "                                'yref': 'paper'},\n",
       "                               {'font': {'size': 16},\n",
       "                                'showarrow': False,\n",
       "                                'text': 'Topic 59',\n",
       "                                'x': 0.9125,\n",
       "                                'xanchor': 'center',\n",
       "                                'xref': 'paper',\n",
       "                                'y': 0.2049382716049383,\n",
       "                                'yanchor': 'bottom',\n",
       "                                'yref': 'paper'},\n",
       "                               {'font': {'size': 16},\n",
       "                                'showarrow': False,\n",
       "                                'text': 'Topic 60',\n",
       "                                'x': 0.0875,\n",
       "                                'xanchor': 'center',\n",
       "                                'xref': 'paper',\n",
       "                                'y': 0.14814814814814817,\n",
       "                                'yanchor': 'bottom',\n",
       "                                'yref': 'paper'},\n",
       "                               {'font': {'size': 16},\n",
       "                                'showarrow': False,\n",
       "                                'text': 'Topic 61',\n",
       "                                'x': 0.36250000000000004,\n",
       "                                'xanchor': 'center',\n",
       "                                'xref': 'paper',\n",
       "                                'y': 0.14814814814814817,\n",
       "                                'yanchor': 'bottom',\n",
       "                                'yref': 'paper'},\n",
       "                               {'font': {'size': 16},\n",
       "                                'showarrow': False,\n",
       "                                'text': 'Topic 62',\n",
       "                                'x': 0.6375000000000001,\n",
       "                                'xanchor': 'center',\n",
       "                                'xref': 'paper',\n",
       "                                'y': 0.14814814814814817,\n",
       "                                'yanchor': 'bottom',\n",
       "                                'yref': 'paper'},\n",
       "                               {'font': {'size': 16},\n",
       "                                'showarrow': False,\n",
       "                                'text': 'Topic 63',\n",
       "                                'x': 0.9125,\n",
       "                                'xanchor': 'center',\n",
       "                                'xref': 'paper',\n",
       "                                'y': 0.14814814814814817,\n",
       "                                'yanchor': 'bottom',\n",
       "                                'yref': 'paper'},\n",
       "                               {'font': {'size': 16},\n",
       "                                'showarrow': False,\n",
       "                                'text': 'Topic 64',\n",
       "                                'x': 0.0875,\n",
       "                                'xanchor': 'center',\n",
       "                                'xref': 'paper',\n",
       "                                'y': 0.09135802469135804,\n",
       "                                'yanchor': 'bottom',\n",
       "                                'yref': 'paper'},\n",
       "                               {'font': {'size': 16},\n",
       "                                'showarrow': False,\n",
       "                                'text': 'Topic 65',\n",
       "                                'x': 0.36250000000000004,\n",
       "                                'xanchor': 'center',\n",
       "                                'xref': 'paper',\n",
       "                                'y': 0.09135802469135804,\n",
       "                                'yanchor': 'bottom',\n",
       "                                'yref': 'paper'},\n",
       "                               {'font': {'size': 16},\n",
       "                                'showarrow': False,\n",
       "                                'text': 'Topic 66',\n",
       "                                'x': 0.6375000000000001,\n",
       "                                'xanchor': 'center',\n",
       "                                'xref': 'paper',\n",
       "                                'y': 0.09135802469135804,\n",
       "                                'yanchor': 'bottom',\n",
       "                                'yref': 'paper'},\n",
       "                               {'font': {'size': 16},\n",
       "                                'showarrow': False,\n",
       "                                'text': 'Topic 67',\n",
       "                                'x': 0.9125,\n",
       "                                'xanchor': 'center',\n",
       "                                'xref': 'paper',\n",
       "                                'y': 0.09135802469135804,\n",
       "                                'yanchor': 'bottom',\n",
       "                                'yref': 'paper'},\n",
       "                               {'font': {'size': 16},\n",
       "                                'showarrow': False,\n",
       "                                'text': 'Topic 68',\n",
       "                                'x': 0.0875,\n",
       "                                'xanchor': 'center',\n",
       "                                'xref': 'paper',\n",
       "                                'y': 0.034567901234567905,\n",
       "                                'yanchor': 'bottom',\n",
       "                                'yref': 'paper'},\n",
       "                               {'font': {'size': 16},\n",
       "                                'showarrow': False,\n",
       "                                'text': 'Topic 69',\n",
       "                                'x': 0.36250000000000004,\n",
       "                                'xanchor': 'center',\n",
       "                                'xref': 'paper',\n",
       "                                'y': 0.034567901234567905,\n",
       "                                'yanchor': 'bottom',\n",
       "                                'yref': 'paper'},\n",
       "                               {'font': {'size': 16},\n",
       "                                'showarrow': False,\n",
       "                                'text': 'Topic 70',\n",
       "                                'x': 0.6375000000000001,\n",
       "                                'xanchor': 'center',\n",
       "                                'xref': 'paper',\n",
       "                                'y': 0.034567901234567905,\n",
       "                                'yanchor': 'bottom',\n",
       "                                'yref': 'paper'}],\n",
       "               'height': 4500,\n",
       "               'hoverlabel': {'bgcolor': 'white', 'font': {'family': 'Rockwell', 'size': 16}},\n",
       "               'showlegend': False,\n",
       "               'template': '...',\n",
       "               'title': {'font': {'color': 'Black', 'size': 22},\n",
       "                         'text': 'All - Lack of Access to Health/Mental Health Care',\n",
       "                         'x': 0.5,\n",
       "                         'xanchor': 'center',\n",
       "                         'yanchor': 'top'},\n",
       "               'width': 1000,\n",
       "               'xaxis': {'anchor': 'y', 'domain': [0.0, 0.175], 'showgrid': True},\n",
       "               'xaxis10': {'anchor': 'y10', 'domain': [0.275, 0.45], 'showgrid': True},\n",
       "               'xaxis11': {'anchor': 'y11', 'domain': [0.55, 0.7250000000000001], 'showgrid': True},\n",
       "               'xaxis12': {'anchor': 'y12', 'domain': [0.825, 1.0], 'showgrid': True},\n",
       "               'xaxis13': {'anchor': 'y13', 'domain': [0.0, 0.175], 'showgrid': True},\n",
       "               'xaxis14': {'anchor': 'y14', 'domain': [0.275, 0.45], 'showgrid': True},\n",
       "               'xaxis15': {'anchor': 'y15', 'domain': [0.55, 0.7250000000000001], 'showgrid': True},\n",
       "               'xaxis16': {'anchor': 'y16', 'domain': [0.825, 1.0], 'showgrid': True},\n",
       "               'xaxis17': {'anchor': 'y17', 'domain': [0.0, 0.175], 'showgrid': True},\n",
       "               'xaxis18': {'anchor': 'y18', 'domain': [0.275, 0.45], 'showgrid': True},\n",
       "               'xaxis19': {'anchor': 'y19', 'domain': [0.55, 0.7250000000000001], 'showgrid': True},\n",
       "               'xaxis2': {'anchor': 'y2', 'domain': [0.275, 0.45], 'showgrid': True},\n",
       "               'xaxis20': {'anchor': 'y20', 'domain': [0.825, 1.0], 'showgrid': True},\n",
       "               'xaxis21': {'anchor': 'y21', 'domain': [0.0, 0.175], 'showgrid': True},\n",
       "               'xaxis22': {'anchor': 'y22', 'domain': [0.275, 0.45], 'showgrid': True},\n",
       "               'xaxis23': {'anchor': 'y23', 'domain': [0.55, 0.7250000000000001], 'showgrid': True},\n",
       "               'xaxis24': {'anchor': 'y24', 'domain': [0.825, 1.0], 'showgrid': True},\n",
       "               'xaxis25': {'anchor': 'y25', 'domain': [0.0, 0.175], 'showgrid': True},\n",
       "               'xaxis26': {'anchor': 'y26', 'domain': [0.275, 0.45], 'showgrid': True},\n",
       "               'xaxis27': {'anchor': 'y27', 'domain': [0.55, 0.7250000000000001], 'showgrid': True},\n",
       "               'xaxis28': {'anchor': 'y28', 'domain': [0.825, 1.0], 'showgrid': True},\n",
       "               'xaxis29': {'anchor': 'y29', 'domain': [0.0, 0.175], 'showgrid': True},\n",
       "               'xaxis3': {'anchor': 'y3', 'domain': [0.55, 0.7250000000000001], 'showgrid': True},\n",
       "               'xaxis30': {'anchor': 'y30', 'domain': [0.275, 0.45], 'showgrid': True},\n",
       "               'xaxis31': {'anchor': 'y31', 'domain': [0.55, 0.7250000000000001], 'showgrid': True},\n",
       "               'xaxis32': {'anchor': 'y32', 'domain': [0.825, 1.0], 'showgrid': True},\n",
       "               'xaxis33': {'anchor': 'y33', 'domain': [0.0, 0.175], 'showgrid': True},\n",
       "               'xaxis34': {'anchor': 'y34', 'domain': [0.275, 0.45], 'showgrid': True},\n",
       "               'xaxis35': {'anchor': 'y35', 'domain': [0.55, 0.7250000000000001], 'showgrid': True},\n",
       "               'xaxis36': {'anchor': 'y36', 'domain': [0.825, 1.0], 'showgrid': True},\n",
       "               'xaxis37': {'anchor': 'y37', 'domain': [0.0, 0.175], 'showgrid': True},\n",
       "               'xaxis38': {'anchor': 'y38', 'domain': [0.275, 0.45], 'showgrid': True},\n",
       "               'xaxis39': {'anchor': 'y39', 'domain': [0.55, 0.7250000000000001], 'showgrid': True},\n",
       "               'xaxis4': {'anchor': 'y4', 'domain': [0.825, 1.0], 'showgrid': True},\n",
       "               'xaxis40': {'anchor': 'y40', 'domain': [0.825, 1.0], 'showgrid': True},\n",
       "               'xaxis41': {'anchor': 'y41', 'domain': [0.0, 0.175], 'showgrid': True},\n",
       "               'xaxis42': {'anchor': 'y42', 'domain': [0.275, 0.45], 'showgrid': True},\n",
       "               'xaxis43': {'anchor': 'y43', 'domain': [0.55, 0.7250000000000001], 'showgrid': True},\n",
       "               'xaxis44': {'anchor': 'y44', 'domain': [0.825, 1.0], 'showgrid': True},\n",
       "               'xaxis45': {'anchor': 'y45', 'domain': [0.0, 0.175], 'showgrid': True},\n",
       "               'xaxis46': {'anchor': 'y46', 'domain': [0.275, 0.45], 'showgrid': True},\n",
       "               'xaxis47': {'anchor': 'y47', 'domain': [0.55, 0.7250000000000001], 'showgrid': True},\n",
       "               'xaxis48': {'anchor': 'y48', 'domain': [0.825, 1.0], 'showgrid': True},\n",
       "               'xaxis49': {'anchor': 'y49', 'domain': [0.0, 0.175], 'showgrid': True},\n",
       "               'xaxis5': {'anchor': 'y5', 'domain': [0.0, 0.175], 'showgrid': True},\n",
       "               'xaxis50': {'anchor': 'y50', 'domain': [0.275, 0.45], 'showgrid': True},\n",
       "               'xaxis51': {'anchor': 'y51', 'domain': [0.55, 0.7250000000000001], 'showgrid': True},\n",
       "               'xaxis52': {'anchor': 'y52', 'domain': [0.825, 1.0], 'showgrid': True},\n",
       "               'xaxis53': {'anchor': 'y53', 'domain': [0.0, 0.175], 'showgrid': True},\n",
       "               'xaxis54': {'anchor': 'y54', 'domain': [0.275, 0.45], 'showgrid': True},\n",
       "               'xaxis55': {'anchor': 'y55', 'domain': [0.55, 0.7250000000000001], 'showgrid': True},\n",
       "               'xaxis56': {'anchor': 'y56', 'domain': [0.825, 1.0], 'showgrid': True},\n",
       "               'xaxis57': {'anchor': 'y57', 'domain': [0.0, 0.175], 'showgrid': True},\n",
       "               'xaxis58': {'anchor': 'y58', 'domain': [0.275, 0.45], 'showgrid': True},\n",
       "               'xaxis59': {'anchor': 'y59', 'domain': [0.55, 0.7250000000000001], 'showgrid': True},\n",
       "               'xaxis6': {'anchor': 'y6', 'domain': [0.275, 0.45], 'showgrid': True},\n",
       "               'xaxis60': {'anchor': 'y60', 'domain': [0.825, 1.0], 'showgrid': True},\n",
       "               'xaxis61': {'anchor': 'y61', 'domain': [0.0, 0.175], 'showgrid': True},\n",
       "               'xaxis62': {'anchor': 'y62', 'domain': [0.275, 0.45], 'showgrid': True},\n",
       "               'xaxis63': {'anchor': 'y63', 'domain': [0.55, 0.7250000000000001], 'showgrid': True},\n",
       "               'xaxis64': {'anchor': 'y64', 'domain': [0.825, 1.0], 'showgrid': True},\n",
       "               'xaxis65': {'anchor': 'y65', 'domain': [0.0, 0.175], 'showgrid': True},\n",
       "               'xaxis66': {'anchor': 'y66', 'domain': [0.275, 0.45], 'showgrid': True},\n",
       "               'xaxis67': {'anchor': 'y67', 'domain': [0.55, 0.7250000000000001], 'showgrid': True},\n",
       "               'xaxis68': {'anchor': 'y68', 'domain': [0.825, 1.0], 'showgrid': True},\n",
       "               'xaxis69': {'anchor': 'y69', 'domain': [0.0, 0.175], 'showgrid': True},\n",
       "               'xaxis7': {'anchor': 'y7', 'domain': [0.55, 0.7250000000000001], 'showgrid': True},\n",
       "               'xaxis70': {'anchor': 'y70', 'domain': [0.275, 0.45], 'showgrid': True},\n",
       "               'xaxis71': {'anchor': 'y71', 'domain': [0.55, 0.7250000000000001], 'showgrid': True},\n",
       "               'xaxis72': {'anchor': 'y72', 'domain': [0.825, 1.0], 'showgrid': True},\n",
       "               'xaxis8': {'anchor': 'y8', 'domain': [0.825, 1.0], 'showgrid': True},\n",
       "               'xaxis9': {'anchor': 'y9', 'domain': [0.0, 0.175], 'showgrid': True},\n",
       "               'yaxis': {'anchor': 'x', 'domain': [0.9654320987654319, 0.9999999999999998], 'showgrid': True},\n",
       "               'yaxis10': {'anchor': 'x10', 'domain': [0.8518518518518517, 0.8864197530864196], 'showgrid': True},\n",
       "               'yaxis11': {'anchor': 'x11', 'domain': [0.8518518518518517, 0.8864197530864196], 'showgrid': True},\n",
       "               'yaxis12': {'anchor': 'x12', 'domain': [0.8518518518518517, 0.8864197530864196], 'showgrid': True},\n",
       "               'yaxis13': {'anchor': 'x13', 'domain': [0.7950617283950616, 0.8296296296296295], 'showgrid': True},\n",
       "               'yaxis14': {'anchor': 'x14', 'domain': [0.7950617283950616, 0.8296296296296295], 'showgrid': True},\n",
       "               'yaxis15': {'anchor': 'x15', 'domain': [0.7950617283950616, 0.8296296296296295], 'showgrid': True},\n",
       "               'yaxis16': {'anchor': 'x16', 'domain': [0.7950617283950616, 0.8296296296296295], 'showgrid': True},\n",
       "               'yaxis17': {'anchor': 'x17', 'domain': [0.7382716049382716, 0.7728395061728395], 'showgrid': True},\n",
       "               'yaxis18': {'anchor': 'x18', 'domain': [0.7382716049382716, 0.7728395061728395], 'showgrid': True},\n",
       "               'yaxis19': {'anchor': 'x19', 'domain': [0.7382716049382716, 0.7728395061728395], 'showgrid': True},\n",
       "               'yaxis2': {'anchor': 'x2', 'domain': [0.9654320987654319, 0.9999999999999998], 'showgrid': True},\n",
       "               'yaxis20': {'anchor': 'x20', 'domain': [0.7382716049382716, 0.7728395061728395], 'showgrid': True},\n",
       "               'yaxis21': {'anchor': 'x21', 'domain': [0.6814814814814814, 0.7160493827160492], 'showgrid': True},\n",
       "               'yaxis22': {'anchor': 'x22', 'domain': [0.6814814814814814, 0.7160493827160492], 'showgrid': True},\n",
       "               'yaxis23': {'anchor': 'x23', 'domain': [0.6814814814814814, 0.7160493827160492], 'showgrid': True},\n",
       "               'yaxis24': {'anchor': 'x24', 'domain': [0.6814814814814814, 0.7160493827160492], 'showgrid': True},\n",
       "               'yaxis25': {'anchor': 'x25', 'domain': [0.6246913580246913, 0.6592592592592592], 'showgrid': True},\n",
       "               'yaxis26': {'anchor': 'x26', 'domain': [0.6246913580246913, 0.6592592592592592], 'showgrid': True},\n",
       "               'yaxis27': {'anchor': 'x27', 'domain': [0.6246913580246913, 0.6592592592592592], 'showgrid': True},\n",
       "               'yaxis28': {'anchor': 'x28', 'domain': [0.6246913580246913, 0.6592592592592592], 'showgrid': True},\n",
       "               'yaxis29': {'anchor': 'x29', 'domain': [0.5679012345679012, 0.6024691358024691], 'showgrid': True},\n",
       "               'yaxis3': {'anchor': 'x3', 'domain': [0.9654320987654319, 0.9999999999999998], 'showgrid': True},\n",
       "               'yaxis30': {'anchor': 'x30', 'domain': [0.5679012345679012, 0.6024691358024691], 'showgrid': True},\n",
       "               'yaxis31': {'anchor': 'x31', 'domain': [0.5679012345679012, 0.6024691358024691], 'showgrid': True},\n",
       "               'yaxis32': {'anchor': 'x32', 'domain': [0.5679012345679012, 0.6024691358024691], 'showgrid': True},\n",
       "               'yaxis33': {'anchor': 'x33', 'domain': [0.5111111111111111, 0.545679012345679], 'showgrid': True},\n",
       "               'yaxis34': {'anchor': 'x34', 'domain': [0.5111111111111111, 0.545679012345679], 'showgrid': True},\n",
       "               'yaxis35': {'anchor': 'x35', 'domain': [0.5111111111111111, 0.545679012345679], 'showgrid': True},\n",
       "               'yaxis36': {'anchor': 'x36', 'domain': [0.5111111111111111, 0.545679012345679], 'showgrid': True},\n",
       "               'yaxis37': {'anchor': 'x37', 'domain': [0.45432098765432105, 0.48888888888888893], 'showgrid': True},\n",
       "               'yaxis38': {'anchor': 'x38', 'domain': [0.45432098765432105, 0.48888888888888893], 'showgrid': True},\n",
       "               'yaxis39': {'anchor': 'x39', 'domain': [0.45432098765432105, 0.48888888888888893], 'showgrid': True},\n",
       "               'yaxis4': {'anchor': 'x4', 'domain': [0.9654320987654319, 0.9999999999999998], 'showgrid': True},\n",
       "               'yaxis40': {'anchor': 'x40', 'domain': [0.45432098765432105, 0.48888888888888893], 'showgrid': True},\n",
       "               'yaxis41': {'anchor': 'x41', 'domain': [0.3975308641975309, 0.4320987654320988], 'showgrid': True},\n",
       "               'yaxis42': {'anchor': 'x42', 'domain': [0.3975308641975309, 0.4320987654320988], 'showgrid': True},\n",
       "               'yaxis43': {'anchor': 'x43', 'domain': [0.3975308641975309, 0.4320987654320988], 'showgrid': True},\n",
       "               'yaxis44': {'anchor': 'x44', 'domain': [0.3975308641975309, 0.4320987654320988], 'showgrid': True},\n",
       "               'yaxis45': {'anchor': 'x45', 'domain': [0.3407407407407408, 0.37530864197530867], 'showgrid': True},\n",
       "               'yaxis46': {'anchor': 'x46', 'domain': [0.3407407407407408, 0.37530864197530867], 'showgrid': True},\n",
       "               'yaxis47': {'anchor': 'x47', 'domain': [0.3407407407407408, 0.37530864197530867], 'showgrid': True},\n",
       "               'yaxis48': {'anchor': 'x48', 'domain': [0.3407407407407408, 0.37530864197530867], 'showgrid': True},\n",
       "               'yaxis49': {'anchor': 'x49', 'domain': [0.28395061728395066, 0.31851851851851853], 'showgrid': True},\n",
       "               'yaxis5': {'anchor': 'x5', 'domain': [0.9086419753086419, 0.9432098765432098], 'showgrid': True},\n",
       "               'yaxis50': {'anchor': 'x50', 'domain': [0.28395061728395066, 0.31851851851851853], 'showgrid': True},\n",
       "               'yaxis51': {'anchor': 'x51', 'domain': [0.28395061728395066, 0.31851851851851853], 'showgrid': True},\n",
       "               'yaxis52': {'anchor': 'x52', 'domain': [0.28395061728395066, 0.31851851851851853], 'showgrid': True},\n",
       "               'yaxis53': {'anchor': 'x53', 'domain': [0.22716049382716053, 0.2617283950617284], 'showgrid': True},\n",
       "               'yaxis54': {'anchor': 'x54', 'domain': [0.22716049382716053, 0.2617283950617284], 'showgrid': True},\n",
       "               'yaxis55': {'anchor': 'x55', 'domain': [0.22716049382716053, 0.2617283950617284], 'showgrid': True},\n",
       "               'yaxis56': {'anchor': 'x56', 'domain': [0.22716049382716053, 0.2617283950617284], 'showgrid': True},\n",
       "               'yaxis57': {'anchor': 'x57', 'domain': [0.1703703703703704, 0.2049382716049383], 'showgrid': True},\n",
       "               'yaxis58': {'anchor': 'x58', 'domain': [0.1703703703703704, 0.2049382716049383], 'showgrid': True},\n",
       "               'yaxis59': {'anchor': 'x59', 'domain': [0.1703703703703704, 0.2049382716049383], 'showgrid': True},\n",
       "               'yaxis6': {'anchor': 'x6', 'domain': [0.9086419753086419, 0.9432098765432098], 'showgrid': True},\n",
       "               'yaxis60': {'anchor': 'x60', 'domain': [0.1703703703703704, 0.2049382716049383], 'showgrid': True},\n",
       "               'yaxis61': {'anchor': 'x61', 'domain': [0.11358024691358026, 0.14814814814814817], 'showgrid': True},\n",
       "               'yaxis62': {'anchor': 'x62', 'domain': [0.11358024691358026, 0.14814814814814817], 'showgrid': True},\n",
       "               'yaxis63': {'anchor': 'x63', 'domain': [0.11358024691358026, 0.14814814814814817], 'showgrid': True},\n",
       "               'yaxis64': {'anchor': 'x64', 'domain': [0.11358024691358026, 0.14814814814814817], 'showgrid': True},\n",
       "               'yaxis65': {'anchor': 'x65', 'domain': [0.05679012345679013, 0.09135802469135804], 'showgrid': True},\n",
       "               'yaxis66': {'anchor': 'x66', 'domain': [0.05679012345679013, 0.09135802469135804], 'showgrid': True},\n",
       "               'yaxis67': {'anchor': 'x67', 'domain': [0.05679012345679013, 0.09135802469135804], 'showgrid': True},\n",
       "               'yaxis68': {'anchor': 'x68', 'domain': [0.05679012345679013, 0.09135802469135804], 'showgrid': True},\n",
       "               'yaxis69': {'anchor': 'x69', 'domain': [0.0, 0.034567901234567905], 'showgrid': True},\n",
       "               'yaxis7': {'anchor': 'x7', 'domain': [0.9086419753086419, 0.9432098765432098], 'showgrid': True},\n",
       "               'yaxis70': {'anchor': 'x70', 'domain': [0.0, 0.034567901234567905], 'showgrid': True},\n",
       "               'yaxis71': {'anchor': 'x71', 'domain': [0.0, 0.034567901234567905], 'showgrid': True},\n",
       "               'yaxis72': {'anchor': 'x72', 'domain': [0.0, 0.034567901234567905], 'showgrid': True},\n",
       "               'yaxis8': {'anchor': 'x8', 'domain': [0.9086419753086419, 0.9432098765432098], 'showgrid': True},\n",
       "               'yaxis9': {'anchor': 'x9', 'domain': [0.8518518518518517, 0.8864197530864196], 'showgrid': True}}\n",
       "})"
      ]
     },
     "execution_count": 11,
     "metadata": {},
     "output_type": "execute_result"
    }
   ],
   "source": [
    "# Reduce the number of topics  \n",
    "model.reduce_topics(comments_all, nr_topics=\"auto\")\n",
    "topics = model.topics_ \n",
    "model.visualize_barchart(top_n_topics=100, title = tit)"
   ]
  },
  {
   "cell_type": "code",
   "execution_count": 23,
   "metadata": {},
   "outputs": [
    {
     "ename": "ValueError",
     "evalue": "Mime type rendering requires nbformat>=4.2.0 but it is not installed",
     "output_type": "error",
     "traceback": [
      "\u001b[0;31m---------------------------------------------------------------------------\u001b[0m",
      "\u001b[0;31mValueError\u001b[0m                                Traceback (most recent call last)",
      "File \u001b[0;32m~/Library/Python/3.9/lib/python/site-packages/IPython/core/formatters.py:922\u001b[0m, in \u001b[0;36mIPythonDisplayFormatter.__call__\u001b[0;34m(self, obj)\u001b[0m\n\u001b[1;32m    920\u001b[0m method \u001b[39m=\u001b[39m get_real_method(obj, \u001b[39mself\u001b[39m\u001b[39m.\u001b[39mprint_method)\n\u001b[1;32m    921\u001b[0m \u001b[39mif\u001b[39;00m method \u001b[39mis\u001b[39;00m \u001b[39mnot\u001b[39;00m \u001b[39mNone\u001b[39;00m:\n\u001b[0;32m--> 922\u001b[0m     method()\n\u001b[1;32m    923\u001b[0m     \u001b[39mreturn\u001b[39;00m \u001b[39mTrue\u001b[39;00m\n",
      "File \u001b[0;32m~/Library/Python/3.9/lib/python/site-packages/plotly/basedatatypes.py:832\u001b[0m, in \u001b[0;36mBaseFigure._ipython_display_\u001b[0;34m(self)\u001b[0m\n\u001b[1;32m    829\u001b[0m \u001b[39mimport\u001b[39;00m \u001b[39mplotly\u001b[39;00m\u001b[39m.\u001b[39;00m\u001b[39mio\u001b[39;00m \u001b[39mas\u001b[39;00m \u001b[39mpio\u001b[39;00m\n\u001b[1;32m    831\u001b[0m \u001b[39mif\u001b[39;00m pio\u001b[39m.\u001b[39mrenderers\u001b[39m.\u001b[39mrender_on_display \u001b[39mand\u001b[39;00m pio\u001b[39m.\u001b[39mrenderers\u001b[39m.\u001b[39mdefault:\n\u001b[0;32m--> 832\u001b[0m     pio\u001b[39m.\u001b[39;49mshow(\u001b[39mself\u001b[39;49m)\n\u001b[1;32m    833\u001b[0m \u001b[39melse\u001b[39;00m:\n\u001b[1;32m    834\u001b[0m     \u001b[39mprint\u001b[39m(\u001b[39mrepr\u001b[39m(\u001b[39mself\u001b[39m))\n",
      "File \u001b[0;32m~/Library/Python/3.9/lib/python/site-packages/plotly/io/_renderers.py:394\u001b[0m, in \u001b[0;36mshow\u001b[0;34m(fig, renderer, validate, **kwargs)\u001b[0m\n\u001b[1;32m    389\u001b[0m         \u001b[39mraise\u001b[39;00m \u001b[39mValueError\u001b[39;00m(\n\u001b[1;32m    390\u001b[0m             \u001b[39m\"\u001b[39m\u001b[39mMime type rendering requires ipython but it is not installed\u001b[39m\u001b[39m\"\u001b[39m\n\u001b[1;32m    391\u001b[0m         )\n\u001b[1;32m    393\u001b[0m     \u001b[39mif\u001b[39;00m \u001b[39mnot\u001b[39;00m nbformat \u001b[39mor\u001b[39;00m Version(nbformat\u001b[39m.\u001b[39m__version__) \u001b[39m<\u001b[39m Version(\u001b[39m\"\u001b[39m\u001b[39m4.2.0\u001b[39m\u001b[39m\"\u001b[39m):\n\u001b[0;32m--> 394\u001b[0m         \u001b[39mraise\u001b[39;00m \u001b[39mValueError\u001b[39;00m(\n\u001b[1;32m    395\u001b[0m             \u001b[39m\"\u001b[39m\u001b[39mMime type rendering requires nbformat>=4.2.0 but it is not installed\u001b[39m\u001b[39m\"\u001b[39m\n\u001b[1;32m    396\u001b[0m         )\n\u001b[1;32m    398\u001b[0m     ipython_display\u001b[39m.\u001b[39mdisplay(bundle, raw\u001b[39m=\u001b[39m\u001b[39mTrue\u001b[39;00m)\n\u001b[1;32m    400\u001b[0m \u001b[39m# external renderers\u001b[39;00m\n",
      "\u001b[0;31mValueError\u001b[0m: Mime type rendering requires nbformat>=4.2.0 but it is not installed"
     ]
    },
    {
     "data": {
      "application/vnd.plotly.v1+json": {
       "config": {
        "plotlyServerURL": "https://plot.ly"
       },
       "data": [
        {
         "marker": {
          "color": "#D55E00"
         },
         "orientation": "h",
         "type": "bar",
         "x": [
          0.531216025352478,
          0.5359881520271301,
          0.5445011854171753,
          0.591168999671936,
          0.6756203174591064
         ],
         "xaxis": "x",
         "y": [
          "mental health  ",
          "mental illness  ",
          "suicides  ",
          "suicide attempt  ",
          "suicide article  "
         ],
         "yaxis": "y"
        },
        {
         "marker": {
          "color": "#0072B2"
         },
         "orientation": "h",
         "type": "bar",
         "x": [
          0.5484499931335449,
          0.5567085146903992,
          0.558721661567688,
          0.5652968287467957,
          0.605559766292572
         ],
         "xaxis": "x2",
         "y": [
          "attempted suicide  ",
          "suicides  ",
          "mental health  ",
          "suicide rates  ",
          "discusses suicide  "
         ],
         "yaxis": "y2"
        },
        {
         "marker": {
          "color": "#CC79A7"
         },
         "orientation": "h",
         "type": "bar",
         "x": [
          0.4039679765701294,
          0.4367721974849701,
          0.4420381486415863,
          0.4493408799171448,
          0.5100884437561035
         ],
         "xaxis": "x3",
         "y": [
          "mentions shooter  ",
          "purchase guns  ",
          "mass shooting  ",
          "suicide  ",
          "suicide article  "
         ],
         "yaxis": "y3"
        },
        {
         "marker": {
          "color": "#E69F00"
         },
         "orientation": "h",
         "type": "bar",
         "x": [
          0.5289007425308228,
          0.5573776364326477,
          0.5654194355010986,
          0.5929934978485107,
          0.6152620315551758
         ],
         "xaxis": "x4",
         "y": [
          "issue suicide  ",
          "discusses suicide  ",
          "among veterans  ",
          "suicide among  ",
          "suicides among  "
         ],
         "yaxis": "y4"
        },
        {
         "marker": {
          "color": "#56B4E9"
         },
         "orientation": "h",
         "type": "bar",
         "x": [
          0.4119448959827423,
          0.4190005660057068,
          0.42093464732170105,
          0.43280357122421265,
          0.4362477660179138
         ],
         "xaxis": "x5",
         "y": [
          "cause suicide  ",
          "concussions  ",
          "encephalopathy  ",
          "mentions adams  ",
          "phillip adams  "
         ],
         "yaxis": "y5"
        },
        {
         "marker": {
          "color": "#009E73"
         },
         "orientation": "h",
         "type": "bar",
         "x": [
          0.4589979648590088,
          0.45979195833206177,
          0.49515601992607117,
          0.5077451467514038,
          0.5087687969207764
         ],
         "xaxis": "x6",
         "y": [
          "terminal cancer  ",
          "opioid addiction  ",
          "drug overdose  ",
          "overdoses  ",
          "terminal illness  "
         ],
         "yaxis": "y6"
        },
        {
         "marker": {
          "color": "#F0E442"
         },
         "orientation": "h",
         "type": "bar",
         "x": [
          0.3976864814758301,
          0.39926570653915405,
          0.41384997963905334,
          0.4261173605918884,
          0.4359435737133026
         ],
         "xaxis": "x7",
         "y": [
          "suggests suicide  ",
          "mental health  ",
          "suicide  ",
          "traumatic stress  ",
          "suicides  "
         ],
         "yaxis": "y7"
        },
        {
         "marker": {
          "color": "#D55E00"
         },
         "orientation": "h",
         "type": "bar",
         "x": [
          0.4793442487716675,
          0.4937523305416107,
          0.5129443407058716,
          0.5423488020896912,
          0.5443166494369507
         ],
         "xaxis": "x8",
         "y": [
          "shootings  ",
          "suicides  ",
          "gun violence  ",
          "mental health  ",
          "mass shooting  "
         ],
         "yaxis": "y8"
        },
        {
         "marker": {
          "color": "#0072B2"
         },
         "orientation": "h",
         "type": "bar",
         "x": [
          0.5640213489532471,
          0.5714513659477234,
          0.5746006965637207,
          0.575525164604187,
          0.6558021306991577
         ],
         "xaxis": "x9",
         "y": [
          "among transgender  ",
          "transgender people  ",
          "transgender children  ",
          "transgender individuals  ",
          "transgender youth  "
         ],
         "yaxis": "y9"
        },
        {
         "marker": {
          "color": "#CC79A7"
         },
         "orientation": "h",
         "type": "bar",
         "x": [
          0.5158429145812988,
          0.527057409286499,
          0.5318924784660339,
          0.5397862195968628,
          0.5711789131164551
         ],
         "xaxis": "x10",
         "y": [
          "covid article  ",
          "covid 19  ",
          "covid infection  ",
          "covid  ",
          "long covid  "
         ],
         "yaxis": "y10"
        },
        {
         "marker": {
          "color": "#E69F00"
         },
         "orientation": "h",
         "type": "bar",
         "x": [
          0.6178365349769592,
          0.6590057015419006,
          0.683862030506134,
          0.7037882804870605,
          0.7220101356506348
         ],
         "xaxis": "x11",
         "y": [
          "assistance dying  ",
          "euthanasia due  ",
          "euthanasia  ",
          "assisted death  ",
          "assisted suicide  "
         ],
         "yaxis": "y11"
        },
        {
         "marker": {
          "color": "#56B4E9"
         },
         "orientation": "h",
         "type": "bar",
         "x": [
          0.40881282091140747,
          0.4410160779953003,
          0.45496582984924316,
          0.5250500440597534,
          0.5480231046676636
         ],
         "xaxis": "x12",
         "y": [
          "mental illness  ",
          "sherman former  ",
          "sherman  ",
          "sherman drinking  ",
          "richard sherman  "
         ],
         "yaxis": "y12"
        },
        {
         "marker": {
          "color": "#009E73"
         },
         "orientation": "h",
         "type": "bar",
         "x": [
          0.4829903542995453,
          0.4837024211883545,
          0.5130397081375122,
          0.5269250273704529,
          0.5546502470970154
         ],
         "xaxis": "x13",
         "y": [
          "committed suicide  ",
          "naomi judd  ",
          "suicide article  ",
          "judd killed  ",
          "judd died  "
         ],
         "yaxis": "y13"
        },
        {
         "marker": {
          "color": "#F0E442"
         },
         "orientation": "h",
         "type": "bar",
         "x": [
          0.47355684638023376,
          0.48590946197509766,
          0.4989832043647766,
          0.5176600813865662,
          0.5846022367477417
         ],
         "xaxis": "x14",
         "y": [
          "suicides  ",
          "suicides ensuing  ",
          "traumatic stress  ",
          "ptsd suicidal  ",
          "increased suicides  "
         ],
         "yaxis": "y14"
        },
        {
         "marker": {
          "color": "#D55E00"
         },
         "orientation": "h",
         "type": "bar",
         "x": [
          0.566972553730011,
          0.571304202079773,
          0.5925952196121216,
          0.5931558609008789,
          0.5982994437217712
         ],
         "xaxis": "x15",
         "y": [
          "abortion services  ",
          "following abortions  ",
          "abortion  ",
          "roe wade  ",
          "abortions  "
         ],
         "yaxis": "y15"
        },
        {
         "marker": {
          "color": "#0072B2"
         },
         "orientation": "h",
         "type": "bar",
         "x": [
          0.426746129989624,
          0.47818300127983093,
          0.5369322299957275,
          0.6270879507064819,
          0.651443362236023
         ],
         "xaxis": "x16",
         "y": [
          "father suicide  ",
          "leader died  ",
          "harry reid  ",
          "reid died  ",
          "reid death  "
         ],
         "yaxis": "y16"
        },
        {
         "marker": {
          "color": "#CC79A7"
         },
         "orientation": "h",
         "type": "bar",
         "x": [
          0.42659735679626465,
          0.4308788776397705,
          0.4443552792072296,
          0.46821218729019165,
          0.5218060612678528
         ],
         "xaxis": "x17",
         "y": [
          "health struggles  ",
          "wife meghan  ",
          "suicidal thoughts  ",
          "harry wife  ",
          "mental health  "
         ],
         "yaxis": "y17"
        },
        {
         "marker": {
          "color": "#E69F00"
         },
         "orientation": "h",
         "type": "bar",
         "x": [
          0.4277009665966034,
          0.45604854822158813,
          0.4911653399467468,
          0.5364491939544678,
          0.5556826591491699
         ],
         "xaxis": "x18",
         "y": [
          "cause suicide  ",
          "suicide  ",
          "tommy raskin  ",
          "suicide related  ",
          "reason suicide  "
         ],
         "yaxis": "y18"
        },
        {
         "marker": {
          "color": "#56B4E9"
         },
         "orientation": "h",
         "type": "bar",
         "x": [
          0.44413110613822937,
          0.44535285234451294,
          0.4758424460887909,
          0.4876623749732971,
          0.5161287784576416
         ],
         "xaxis": "x19",
         "y": [
          "article health  ",
          "mental health  ",
          "reportedly suicidal  ",
          "suicide restraining  ",
          "threatened suicide  "
         ],
         "yaxis": "y19"
        },
        {
         "marker": {
          "color": "#009E73"
         },
         "orientation": "h",
         "type": "bar",
         "x": [
          0.47061461210250854,
          0.48584604263305664,
          0.4954584836959839,
          0.5404131412506104,
          0.5492324829101562
         ],
         "xaxis": "x20",
         "y": [
          "high suicide  ",
          "indigenous communities  ",
          "suicide rates  ",
          "suicide prevention  ",
          "prevention indigenous  "
         ],
         "yaxis": "y20"
        },
        {
         "marker": {
          "color": "#F0E442"
         },
         "orientation": "h",
         "type": "bar",
         "x": [
          0.5009626150131226,
          0.5138344764709473,
          0.5548034906387329,
          0.5573989152908325,
          0.6463451981544495
         ],
         "xaxis": "x21",
         "y": [
          "britney  ",
          "britney spears  ",
          "jean suicide  ",
          "spears grandmother  ",
          "suicide britney  "
         ],
         "yaxis": "y21"
        },
        {
         "marker": {
          "color": "#D55E00"
         },
         "orientation": "h",
         "type": "bar",
         "x": [
          0.3776336908340454,
          0.4010879695415497,
          0.410564124584198,
          0.4176782965660095,
          0.4759836494922638
         ],
         "xaxis": "x22",
         "y": [
          "taylor founder  ",
          "suicide due  ",
          "suicide  ",
          "suicide suffering  ",
          "died suicide  "
         ],
         "yaxis": "y22"
        },
        {
         "marker": {
          "color": "#0072B2"
         },
         "orientation": "h",
         "type": "bar",
         "x": [
          0.44193997979164124,
          0.44854116439819336,
          0.4579145014286041,
          0.4693012833595276,
          0.48708632588386536
         ],
         "xaxis": "x23",
         "y": [
          "self harm  ",
          "mental health  ",
          "suicide  ",
          "eating disorders  ",
          "health teenagers  "
         ],
         "yaxis": "y23"
        },
        {
         "marker": {
          "color": "#CC79A7"
         },
         "orientation": "h",
         "type": "bar",
         "x": [
          0.45148855447769165,
          0.4576057493686676,
          0.4828052222728729,
          0.4977734386920929,
          0.5096613168716431
         ],
         "xaxis": "x24",
         "y": [
          "suicide  ",
          "dementia  ",
          "committed suicide  ",
          "robin williams  ",
          "suicide actor  "
         ],
         "yaxis": "y24"
        },
        {
         "marker": {
          "color": "#E69F00"
         },
         "orientation": "h",
         "type": "bar",
         "x": [
          0.4778904616832733,
          0.48974859714508057,
          0.49659669399261475,
          0.4995403587818146,
          0.626258134841919
         ],
         "xaxis": "x25",
         "y": [
          "suicidal behavior  ",
          "robert fuller  ",
          "suicide article  ",
          "suicide related  ",
          "fuller suicide  "
         ],
         "yaxis": "y25"
        },
        {
         "marker": {
          "color": "#56B4E9"
         },
         "orientation": "h",
         "type": "bar",
         "x": [
          0.5176891088485718,
          0.5270959138870239,
          0.5497362613677979,
          0.5641962885856628,
          0.5673882961273193
         ],
         "xaxis": "x26",
         "y": [
          "mentions assange  ",
          "assange facing  ",
          "assange  ",
          "julian assange  ",
          "assange mental  "
         ],
         "yaxis": "y26"
        },
        {
         "marker": {
          "color": "#009E73"
         },
         "orientation": "h",
         "type": "bar",
         "x": [
          0.4762495756149292,
          0.4942537546157837,
          0.498596727848053,
          0.5026764869689941,
          0.5464041233062744
         ],
         "xaxis": "x27",
         "y": [
          "financial stress  ",
          "depression  ",
          "suffering depression  ",
          "depression financial  ",
          "mental health  "
         ],
         "yaxis": "y27"
        },
        {
         "marker": {
          "color": "#F0E442"
         },
         "orientation": "h",
         "type": "bar",
         "x": [
          0.3999564051628113,
          0.42775067687034607,
          0.4388105273246765,
          0.4592934846878052,
          0.47136902809143066
         ],
         "xaxis": "x28",
         "y": [
          "armed dangerous  ",
          "accessing firearms  ",
          "perceived threats  ",
          "suicide cop  ",
          "firearms individuals  "
         ],
         "yaxis": "y28"
        },
        {
         "marker": {
          "color": "#D55E00"
         },
         "orientation": "h",
         "type": "bar",
         "x": [
          0.5658901333808899,
          0.5849828124046326,
          0.5910305380821228,
          0.6185029745101929,
          0.6450340747833252
         ],
         "xaxis": "x29",
         "y": [
          "theodore kaczynski  ",
          "kaczynski  ",
          "mentions kaczynski  ",
          "ted kaczynski  ",
          "kaczynski health  "
         ],
         "yaxis": "y29"
        },
        {
         "marker": {
          "color": "#0072B2"
         },
         "orientation": "h",
         "type": "bar",
         "x": [
          0.37812018394470215,
          0.3897560238838196,
          0.4221768081188202,
          0.4237411618232727,
          0.48547086119651794
         ],
         "xaxis": "x30",
         "y": [
          "murdaugh misappropriated  ",
          "mentions murdaugh  ",
          "alex murdaugh  ",
          "insurance fraud  ",
          "murdaugh lawyer  "
         ],
         "yaxis": "y30"
        },
        {
         "marker": {
          "color": "#CC79A7"
         },
         "orientation": "h",
         "type": "bar",
         "x": [
          0.5101032257080078,
          0.5345906615257263,
          0.5522753596305847,
          0.5566381812095642,
          0.6056132316589355
         ],
         "xaxis": "x31",
         "y": [
          "aids  ",
          "hiv aids  ",
          "lived hiv  ",
          "wisler hiv  ",
          "aids crisis  "
         ],
         "yaxis": "y31"
        },
        {
         "marker": {
          "color": "#E69F00"
         },
         "orientation": "h",
         "type": "bar",
         "x": [
          0.45344042778015137,
          0.45397692918777466,
          0.4655412435531616,
          0.48691123723983765,
          0.48921358585357666
         ],
         "xaxis": "x32",
         "y": [
          "ai  ",
          "suicide case  ",
          "ai providing  ",
          "potential ai  ",
          "suicide article  "
         ],
         "yaxis": "y32"
        },
        {
         "marker": {
          "color": "#56B4E9"
         },
         "orientation": "h",
         "type": "bar",
         "x": [
          0.3954664170742035,
          0.39958229660987854,
          0.42155957221984863,
          0.4222508370876312,
          0.5348045825958252
         ],
         "xaxis": "x33",
         "y": [
          "room business  ",
          "mental health  ",
          "cause suicide  ",
          "suicide article  ",
          "rage room  "
         ],
         "yaxis": "y33"
        },
        {
         "marker": {
          "color": "#009E73"
         },
         "orientation": "h",
         "type": "bar",
         "x": [
          0.3554232716560364,
          0.3882986307144165,
          0.4366764724254608,
          0.5251143574714661,
          0.537527859210968
         ],
         "xaxis": "x34",
         "y": [
          "contributed death  ",
          "wife death  ",
          "meisner  ",
          "meisner diagnosed  ",
          "randy meisner  "
         ],
         "yaxis": "y34"
        },
        {
         "marker": {
          "color": "#F0E442"
         },
         "orientation": "h",
         "type": "bar",
         "x": [
          0.5696665048599243,
          0.5789923667907715,
          0.5876237750053406,
          0.6180617213249207,
          0.6739856004714966
         ],
         "xaxis": "x35",
         "y": [
          "suicide author  ",
          "carter died  ",
          "brother suicide  ",
          "reason suicide  ",
          "carter suicide  "
         ],
         "yaxis": "y35"
        },
        {
         "marker": {
          "color": "#D55E00"
         },
         "orientation": "h",
         "type": "bar",
         "x": [
          0.4346180558204651,
          0.4566560685634613,
          0.4569769501686096,
          0.4714473783969879,
          0.5326240062713623
         ],
         "xaxis": "x36",
         "y": [
          "committed suicide  ",
          "depression mental  ",
          "depression  ",
          "suicide  ",
          "mental health  "
         ],
         "yaxis": "y36"
        },
        {
         "marker": {
          "color": "#0072B2"
         },
         "orientation": "h",
         "type": "bar",
         "x": [
          0.37736567854881287,
          0.42196840047836304,
          0.428434818983078,
          0.4623870849609375,
          0.5979085564613342
         ],
         "xaxis": "x37",
         "y": [
          "severe anxiety  ",
          "abby broyles  ",
          "mental health  ",
          "suicide  ",
          "suicide attempt  "
         ],
         "yaxis": "y37"
        },
        {
         "marker": {
          "color": "#CC79A7"
         },
         "orientation": "h",
         "type": "bar",
         "x": [
          0.5155880451202393,
          0.5613969564437866,
          0.5657079219818115,
          0.5863549709320068,
          0.61344975233078
         ],
         "xaxis": "x38",
         "y": [
          "gogh artist  ",
          "gogh shot  ",
          "van gogh  ",
          "gogh struggled  ",
          "gogh suffered  "
         ],
         "yaxis": "y38"
        },
        {
         "marker": {
          "color": "#E69F00"
         },
         "orientation": "h",
         "type": "bar",
         "x": [
          0.2977660000324249,
          0.35853761434555054,
          0.36027586460113525,
          0.45214587450027466,
          0.4995265603065491
         ],
         "xaxis": "x39",
         "y": [
          "luther  ",
          "king jr  ",
          "mental health  ",
          "martin luther  ",
          "luther king  "
         ],
         "yaxis": "y39"
        }
       ],
       "layout": {
        "annotations": [
         {
          "font": {
           "size": 16
          },
          "showarrow": false,
          "text": "Topic 0",
          "x": 0.0875,
          "xanchor": "center",
          "xref": "paper",
          "y": 1,
          "yanchor": "bottom",
          "yref": "paper"
         },
         {
          "font": {
           "size": 16
          },
          "showarrow": false,
          "text": "Topic 1",
          "x": 0.36250000000000004,
          "xanchor": "center",
          "xref": "paper",
          "y": 1,
          "yanchor": "bottom",
          "yref": "paper"
         },
         {
          "font": {
           "size": 16
          },
          "showarrow": false,
          "text": "Topic 2",
          "x": 0.6375000000000001,
          "xanchor": "center",
          "xref": "paper",
          "y": 1,
          "yanchor": "bottom",
          "yref": "paper"
         },
         {
          "font": {
           "size": 16
          },
          "showarrow": false,
          "text": "Topic 3",
          "x": 0.9125,
          "xanchor": "center",
          "xref": "paper",
          "y": 1,
          "yanchor": "bottom",
          "yref": "paper"
         },
         {
          "font": {
           "size": 16
          },
          "showarrow": false,
          "text": "Topic 4",
          "x": 0.0875,
          "xanchor": "center",
          "xref": "paper",
          "y": 0.8960000000000001,
          "yanchor": "bottom",
          "yref": "paper"
         },
         {
          "font": {
           "size": 16
          },
          "showarrow": false,
          "text": "Topic 5",
          "x": 0.36250000000000004,
          "xanchor": "center",
          "xref": "paper",
          "y": 0.8960000000000001,
          "yanchor": "bottom",
          "yref": "paper"
         },
         {
          "font": {
           "size": 16
          },
          "showarrow": false,
          "text": "Topic 6",
          "x": 0.6375000000000001,
          "xanchor": "center",
          "xref": "paper",
          "y": 0.8960000000000001,
          "yanchor": "bottom",
          "yref": "paper"
         },
         {
          "font": {
           "size": 16
          },
          "showarrow": false,
          "text": "Topic 7",
          "x": 0.9125,
          "xanchor": "center",
          "xref": "paper",
          "y": 0.8960000000000001,
          "yanchor": "bottom",
          "yref": "paper"
         },
         {
          "font": {
           "size": 16
          },
          "showarrow": false,
          "text": "Topic 8",
          "x": 0.0875,
          "xanchor": "center",
          "xref": "paper",
          "y": 0.792,
          "yanchor": "bottom",
          "yref": "paper"
         },
         {
          "font": {
           "size": 16
          },
          "showarrow": false,
          "text": "Topic 9",
          "x": 0.36250000000000004,
          "xanchor": "center",
          "xref": "paper",
          "y": 0.792,
          "yanchor": "bottom",
          "yref": "paper"
         },
         {
          "font": {
           "size": 16
          },
          "showarrow": false,
          "text": "Topic 10",
          "x": 0.6375000000000001,
          "xanchor": "center",
          "xref": "paper",
          "y": 0.792,
          "yanchor": "bottom",
          "yref": "paper"
         },
         {
          "font": {
           "size": 16
          },
          "showarrow": false,
          "text": "Topic 11",
          "x": 0.9125,
          "xanchor": "center",
          "xref": "paper",
          "y": 0.792,
          "yanchor": "bottom",
          "yref": "paper"
         },
         {
          "font": {
           "size": 16
          },
          "showarrow": false,
          "text": "Topic 12",
          "x": 0.0875,
          "xanchor": "center",
          "xref": "paper",
          "y": 0.688,
          "yanchor": "bottom",
          "yref": "paper"
         },
         {
          "font": {
           "size": 16
          },
          "showarrow": false,
          "text": "Topic 13",
          "x": 0.36250000000000004,
          "xanchor": "center",
          "xref": "paper",
          "y": 0.688,
          "yanchor": "bottom",
          "yref": "paper"
         },
         {
          "font": {
           "size": 16
          },
          "showarrow": false,
          "text": "Topic 14",
          "x": 0.6375000000000001,
          "xanchor": "center",
          "xref": "paper",
          "y": 0.688,
          "yanchor": "bottom",
          "yref": "paper"
         },
         {
          "font": {
           "size": 16
          },
          "showarrow": false,
          "text": "Topic 15",
          "x": 0.9125,
          "xanchor": "center",
          "xref": "paper",
          "y": 0.688,
          "yanchor": "bottom",
          "yref": "paper"
         },
         {
          "font": {
           "size": 16
          },
          "showarrow": false,
          "text": "Topic 16",
          "x": 0.0875,
          "xanchor": "center",
          "xref": "paper",
          "y": 0.5840000000000001,
          "yanchor": "bottom",
          "yref": "paper"
         },
         {
          "font": {
           "size": 16
          },
          "showarrow": false,
          "text": "Topic 17",
          "x": 0.36250000000000004,
          "xanchor": "center",
          "xref": "paper",
          "y": 0.5840000000000001,
          "yanchor": "bottom",
          "yref": "paper"
         },
         {
          "font": {
           "size": 16
          },
          "showarrow": false,
          "text": "Topic 18",
          "x": 0.6375000000000001,
          "xanchor": "center",
          "xref": "paper",
          "y": 0.5840000000000001,
          "yanchor": "bottom",
          "yref": "paper"
         },
         {
          "font": {
           "size": 16
          },
          "showarrow": false,
          "text": "Topic 19",
          "x": 0.9125,
          "xanchor": "center",
          "xref": "paper",
          "y": 0.5840000000000001,
          "yanchor": "bottom",
          "yref": "paper"
         },
         {
          "font": {
           "size": 16
          },
          "showarrow": false,
          "text": "Topic 20",
          "x": 0.0875,
          "xanchor": "center",
          "xref": "paper",
          "y": 0.48000000000000004,
          "yanchor": "bottom",
          "yref": "paper"
         },
         {
          "font": {
           "size": 16
          },
          "showarrow": false,
          "text": "Topic 21",
          "x": 0.36250000000000004,
          "xanchor": "center",
          "xref": "paper",
          "y": 0.48000000000000004,
          "yanchor": "bottom",
          "yref": "paper"
         },
         {
          "font": {
           "size": 16
          },
          "showarrow": false,
          "text": "Topic 22",
          "x": 0.6375000000000001,
          "xanchor": "center",
          "xref": "paper",
          "y": 0.48000000000000004,
          "yanchor": "bottom",
          "yref": "paper"
         },
         {
          "font": {
           "size": 16
          },
          "showarrow": false,
          "text": "Topic 23",
          "x": 0.9125,
          "xanchor": "center",
          "xref": "paper",
          "y": 0.48000000000000004,
          "yanchor": "bottom",
          "yref": "paper"
         },
         {
          "font": {
           "size": 16
          },
          "showarrow": false,
          "text": "Topic 24",
          "x": 0.0875,
          "xanchor": "center",
          "xref": "paper",
          "y": 0.376,
          "yanchor": "bottom",
          "yref": "paper"
         },
         {
          "font": {
           "size": 16
          },
          "showarrow": false,
          "text": "Topic 25",
          "x": 0.36250000000000004,
          "xanchor": "center",
          "xref": "paper",
          "y": 0.376,
          "yanchor": "bottom",
          "yref": "paper"
         },
         {
          "font": {
           "size": 16
          },
          "showarrow": false,
          "text": "Topic 26",
          "x": 0.6375000000000001,
          "xanchor": "center",
          "xref": "paper",
          "y": 0.376,
          "yanchor": "bottom",
          "yref": "paper"
         },
         {
          "font": {
           "size": 16
          },
          "showarrow": false,
          "text": "Topic 27",
          "x": 0.9125,
          "xanchor": "center",
          "xref": "paper",
          "y": 0.376,
          "yanchor": "bottom",
          "yref": "paper"
         },
         {
          "font": {
           "size": 16
          },
          "showarrow": false,
          "text": "Topic 28",
          "x": 0.0875,
          "xanchor": "center",
          "xref": "paper",
          "y": 0.272,
          "yanchor": "bottom",
          "yref": "paper"
         },
         {
          "font": {
           "size": 16
          },
          "showarrow": false,
          "text": "Topic 29",
          "x": 0.36250000000000004,
          "xanchor": "center",
          "xref": "paper",
          "y": 0.272,
          "yanchor": "bottom",
          "yref": "paper"
         },
         {
          "font": {
           "size": 16
          },
          "showarrow": false,
          "text": "Topic 30",
          "x": 0.6375000000000001,
          "xanchor": "center",
          "xref": "paper",
          "y": 0.272,
          "yanchor": "bottom",
          "yref": "paper"
         },
         {
          "font": {
           "size": 16
          },
          "showarrow": false,
          "text": "Topic 31",
          "x": 0.9125,
          "xanchor": "center",
          "xref": "paper",
          "y": 0.272,
          "yanchor": "bottom",
          "yref": "paper"
         },
         {
          "font": {
           "size": 16
          },
          "showarrow": false,
          "text": "Topic 32",
          "x": 0.0875,
          "xanchor": "center",
          "xref": "paper",
          "y": 0.168,
          "yanchor": "bottom",
          "yref": "paper"
         },
         {
          "font": {
           "size": 16
          },
          "showarrow": false,
          "text": "Topic 33",
          "x": 0.36250000000000004,
          "xanchor": "center",
          "xref": "paper",
          "y": 0.168,
          "yanchor": "bottom",
          "yref": "paper"
         },
         {
          "font": {
           "size": 16
          },
          "showarrow": false,
          "text": "Topic 34",
          "x": 0.6375000000000001,
          "xanchor": "center",
          "xref": "paper",
          "y": 0.168,
          "yanchor": "bottom",
          "yref": "paper"
         },
         {
          "font": {
           "size": 16
          },
          "showarrow": false,
          "text": "Topic 35",
          "x": 0.9125,
          "xanchor": "center",
          "xref": "paper",
          "y": 0.168,
          "yanchor": "bottom",
          "yref": "paper"
         },
         {
          "font": {
           "size": 16
          },
          "showarrow": false,
          "text": "Topic 36",
          "x": 0.0875,
          "xanchor": "center",
          "xref": "paper",
          "y": 0.064,
          "yanchor": "bottom",
          "yref": "paper"
         },
         {
          "font": {
           "size": 16
          },
          "showarrow": false,
          "text": "Topic 37",
          "x": 0.36250000000000004,
          "xanchor": "center",
          "xref": "paper",
          "y": 0.064,
          "yanchor": "bottom",
          "yref": "paper"
         },
         {
          "font": {
           "size": 16
          },
          "showarrow": false,
          "text": "Topic 38",
          "x": 0.6375000000000001,
          "xanchor": "center",
          "xref": "paper",
          "y": 0.064,
          "yanchor": "bottom",
          "yref": "paper"
         }
        ],
        "height": 2500,
        "hoverlabel": {
         "bgcolor": "white",
         "font": {
          "family": "Rockwell",
          "size": 16
         }
        },
        "showlegend": false,
        "template": {
         "data": {
          "bar": [
           {
            "error_x": {
             "color": "#2a3f5f"
            },
            "error_y": {
             "color": "#2a3f5f"
            },
            "marker": {
             "line": {
              "color": "white",
              "width": 0.5
             },
             "pattern": {
              "fillmode": "overlay",
              "size": 10,
              "solidity": 0.2
             }
            },
            "type": "bar"
           }
          ],
          "barpolar": [
           {
            "marker": {
             "line": {
              "color": "white",
              "width": 0.5
             },
             "pattern": {
              "fillmode": "overlay",
              "size": 10,
              "solidity": 0.2
             }
            },
            "type": "barpolar"
           }
          ],
          "carpet": [
           {
            "aaxis": {
             "endlinecolor": "#2a3f5f",
             "gridcolor": "#C8D4E3",
             "linecolor": "#C8D4E3",
             "minorgridcolor": "#C8D4E3",
             "startlinecolor": "#2a3f5f"
            },
            "baxis": {
             "endlinecolor": "#2a3f5f",
             "gridcolor": "#C8D4E3",
             "linecolor": "#C8D4E3",
             "minorgridcolor": "#C8D4E3",
             "startlinecolor": "#2a3f5f"
            },
            "type": "carpet"
           }
          ],
          "choropleth": [
           {
            "colorbar": {
             "outlinewidth": 0,
             "ticks": ""
            },
            "type": "choropleth"
           }
          ],
          "contour": [
           {
            "colorbar": {
             "outlinewidth": 0,
             "ticks": ""
            },
            "colorscale": [
             [
              0,
              "#0d0887"
             ],
             [
              0.1111111111111111,
              "#46039f"
             ],
             [
              0.2222222222222222,
              "#7201a8"
             ],
             [
              0.3333333333333333,
              "#9c179e"
             ],
             [
              0.4444444444444444,
              "#bd3786"
             ],
             [
              0.5555555555555556,
              "#d8576b"
             ],
             [
              0.6666666666666666,
              "#ed7953"
             ],
             [
              0.7777777777777778,
              "#fb9f3a"
             ],
             [
              0.8888888888888888,
              "#fdca26"
             ],
             [
              1,
              "#f0f921"
             ]
            ],
            "type": "contour"
           }
          ],
          "contourcarpet": [
           {
            "colorbar": {
             "outlinewidth": 0,
             "ticks": ""
            },
            "type": "contourcarpet"
           }
          ],
          "heatmap": [
           {
            "colorbar": {
             "outlinewidth": 0,
             "ticks": ""
            },
            "colorscale": [
             [
              0,
              "#0d0887"
             ],
             [
              0.1111111111111111,
              "#46039f"
             ],
             [
              0.2222222222222222,
              "#7201a8"
             ],
             [
              0.3333333333333333,
              "#9c179e"
             ],
             [
              0.4444444444444444,
              "#bd3786"
             ],
             [
              0.5555555555555556,
              "#d8576b"
             ],
             [
              0.6666666666666666,
              "#ed7953"
             ],
             [
              0.7777777777777778,
              "#fb9f3a"
             ],
             [
              0.8888888888888888,
              "#fdca26"
             ],
             [
              1,
              "#f0f921"
             ]
            ],
            "type": "heatmap"
           }
          ],
          "heatmapgl": [
           {
            "colorbar": {
             "outlinewidth": 0,
             "ticks": ""
            },
            "colorscale": [
             [
              0,
              "#0d0887"
             ],
             [
              0.1111111111111111,
              "#46039f"
             ],
             [
              0.2222222222222222,
              "#7201a8"
             ],
             [
              0.3333333333333333,
              "#9c179e"
             ],
             [
              0.4444444444444444,
              "#bd3786"
             ],
             [
              0.5555555555555556,
              "#d8576b"
             ],
             [
              0.6666666666666666,
              "#ed7953"
             ],
             [
              0.7777777777777778,
              "#fb9f3a"
             ],
             [
              0.8888888888888888,
              "#fdca26"
             ],
             [
              1,
              "#f0f921"
             ]
            ],
            "type": "heatmapgl"
           }
          ],
          "histogram": [
           {
            "marker": {
             "pattern": {
              "fillmode": "overlay",
              "size": 10,
              "solidity": 0.2
             }
            },
            "type": "histogram"
           }
          ],
          "histogram2d": [
           {
            "colorbar": {
             "outlinewidth": 0,
             "ticks": ""
            },
            "colorscale": [
             [
              0,
              "#0d0887"
             ],
             [
              0.1111111111111111,
              "#46039f"
             ],
             [
              0.2222222222222222,
              "#7201a8"
             ],
             [
              0.3333333333333333,
              "#9c179e"
             ],
             [
              0.4444444444444444,
              "#bd3786"
             ],
             [
              0.5555555555555556,
              "#d8576b"
             ],
             [
              0.6666666666666666,
              "#ed7953"
             ],
             [
              0.7777777777777778,
              "#fb9f3a"
             ],
             [
              0.8888888888888888,
              "#fdca26"
             ],
             [
              1,
              "#f0f921"
             ]
            ],
            "type": "histogram2d"
           }
          ],
          "histogram2dcontour": [
           {
            "colorbar": {
             "outlinewidth": 0,
             "ticks": ""
            },
            "colorscale": [
             [
              0,
              "#0d0887"
             ],
             [
              0.1111111111111111,
              "#46039f"
             ],
             [
              0.2222222222222222,
              "#7201a8"
             ],
             [
              0.3333333333333333,
              "#9c179e"
             ],
             [
              0.4444444444444444,
              "#bd3786"
             ],
             [
              0.5555555555555556,
              "#d8576b"
             ],
             [
              0.6666666666666666,
              "#ed7953"
             ],
             [
              0.7777777777777778,
              "#fb9f3a"
             ],
             [
              0.8888888888888888,
              "#fdca26"
             ],
             [
              1,
              "#f0f921"
             ]
            ],
            "type": "histogram2dcontour"
           }
          ],
          "mesh3d": [
           {
            "colorbar": {
             "outlinewidth": 0,
             "ticks": ""
            },
            "type": "mesh3d"
           }
          ],
          "parcoords": [
           {
            "line": {
             "colorbar": {
              "outlinewidth": 0,
              "ticks": ""
             }
            },
            "type": "parcoords"
           }
          ],
          "pie": [
           {
            "automargin": true,
            "type": "pie"
           }
          ],
          "scatter": [
           {
            "fillpattern": {
             "fillmode": "overlay",
             "size": 10,
             "solidity": 0.2
            },
            "type": "scatter"
           }
          ],
          "scatter3d": [
           {
            "line": {
             "colorbar": {
              "outlinewidth": 0,
              "ticks": ""
             }
            },
            "marker": {
             "colorbar": {
              "outlinewidth": 0,
              "ticks": ""
             }
            },
            "type": "scatter3d"
           }
          ],
          "scattercarpet": [
           {
            "marker": {
             "colorbar": {
              "outlinewidth": 0,
              "ticks": ""
             }
            },
            "type": "scattercarpet"
           }
          ],
          "scattergeo": [
           {
            "marker": {
             "colorbar": {
              "outlinewidth": 0,
              "ticks": ""
             }
            },
            "type": "scattergeo"
           }
          ],
          "scattergl": [
           {
            "marker": {
             "colorbar": {
              "outlinewidth": 0,
              "ticks": ""
             }
            },
            "type": "scattergl"
           }
          ],
          "scattermapbox": [
           {
            "marker": {
             "colorbar": {
              "outlinewidth": 0,
              "ticks": ""
             }
            },
            "type": "scattermapbox"
           }
          ],
          "scatterpolar": [
           {
            "marker": {
             "colorbar": {
              "outlinewidth": 0,
              "ticks": ""
             }
            },
            "type": "scatterpolar"
           }
          ],
          "scatterpolargl": [
           {
            "marker": {
             "colorbar": {
              "outlinewidth": 0,
              "ticks": ""
             }
            },
            "type": "scatterpolargl"
           }
          ],
          "scatterternary": [
           {
            "marker": {
             "colorbar": {
              "outlinewidth": 0,
              "ticks": ""
             }
            },
            "type": "scatterternary"
           }
          ],
          "surface": [
           {
            "colorbar": {
             "outlinewidth": 0,
             "ticks": ""
            },
            "colorscale": [
             [
              0,
              "#0d0887"
             ],
             [
              0.1111111111111111,
              "#46039f"
             ],
             [
              0.2222222222222222,
              "#7201a8"
             ],
             [
              0.3333333333333333,
              "#9c179e"
             ],
             [
              0.4444444444444444,
              "#bd3786"
             ],
             [
              0.5555555555555556,
              "#d8576b"
             ],
             [
              0.6666666666666666,
              "#ed7953"
             ],
             [
              0.7777777777777778,
              "#fb9f3a"
             ],
             [
              0.8888888888888888,
              "#fdca26"
             ],
             [
              1,
              "#f0f921"
             ]
            ],
            "type": "surface"
           }
          ],
          "table": [
           {
            "cells": {
             "fill": {
              "color": "#EBF0F8"
             },
             "line": {
              "color": "white"
             }
            },
            "header": {
             "fill": {
              "color": "#C8D4E3"
             },
             "line": {
              "color": "white"
             }
            },
            "type": "table"
           }
          ]
         },
         "layout": {
          "annotationdefaults": {
           "arrowcolor": "#2a3f5f",
           "arrowhead": 0,
           "arrowwidth": 1
          },
          "autotypenumbers": "strict",
          "coloraxis": {
           "colorbar": {
            "outlinewidth": 0,
            "ticks": ""
           }
          },
          "colorscale": {
           "diverging": [
            [
             0,
             "#8e0152"
            ],
            [
             0.1,
             "#c51b7d"
            ],
            [
             0.2,
             "#de77ae"
            ],
            [
             0.3,
             "#f1b6da"
            ],
            [
             0.4,
             "#fde0ef"
            ],
            [
             0.5,
             "#f7f7f7"
            ],
            [
             0.6,
             "#e6f5d0"
            ],
            [
             0.7,
             "#b8e186"
            ],
            [
             0.8,
             "#7fbc41"
            ],
            [
             0.9,
             "#4d9221"
            ],
            [
             1,
             "#276419"
            ]
           ],
           "sequential": [
            [
             0,
             "#0d0887"
            ],
            [
             0.1111111111111111,
             "#46039f"
            ],
            [
             0.2222222222222222,
             "#7201a8"
            ],
            [
             0.3333333333333333,
             "#9c179e"
            ],
            [
             0.4444444444444444,
             "#bd3786"
            ],
            [
             0.5555555555555556,
             "#d8576b"
            ],
            [
             0.6666666666666666,
             "#ed7953"
            ],
            [
             0.7777777777777778,
             "#fb9f3a"
            ],
            [
             0.8888888888888888,
             "#fdca26"
            ],
            [
             1,
             "#f0f921"
            ]
           ],
           "sequentialminus": [
            [
             0,
             "#0d0887"
            ],
            [
             0.1111111111111111,
             "#46039f"
            ],
            [
             0.2222222222222222,
             "#7201a8"
            ],
            [
             0.3333333333333333,
             "#9c179e"
            ],
            [
             0.4444444444444444,
             "#bd3786"
            ],
            [
             0.5555555555555556,
             "#d8576b"
            ],
            [
             0.6666666666666666,
             "#ed7953"
            ],
            [
             0.7777777777777778,
             "#fb9f3a"
            ],
            [
             0.8888888888888888,
             "#fdca26"
            ],
            [
             1,
             "#f0f921"
            ]
           ]
          },
          "colorway": [
           "#636efa",
           "#EF553B",
           "#00cc96",
           "#ab63fa",
           "#FFA15A",
           "#19d3f3",
           "#FF6692",
           "#B6E880",
           "#FF97FF",
           "#FECB52"
          ],
          "font": {
           "color": "#2a3f5f"
          },
          "geo": {
           "bgcolor": "white",
           "lakecolor": "white",
           "landcolor": "white",
           "showlakes": true,
           "showland": true,
           "subunitcolor": "#C8D4E3"
          },
          "hoverlabel": {
           "align": "left"
          },
          "hovermode": "closest",
          "mapbox": {
           "style": "light"
          },
          "paper_bgcolor": "white",
          "plot_bgcolor": "white",
          "polar": {
           "angularaxis": {
            "gridcolor": "#EBF0F8",
            "linecolor": "#EBF0F8",
            "ticks": ""
           },
           "bgcolor": "white",
           "radialaxis": {
            "gridcolor": "#EBF0F8",
            "linecolor": "#EBF0F8",
            "ticks": ""
           }
          },
          "scene": {
           "xaxis": {
            "backgroundcolor": "white",
            "gridcolor": "#DFE8F3",
            "gridwidth": 2,
            "linecolor": "#EBF0F8",
            "showbackground": true,
            "ticks": "",
            "zerolinecolor": "#EBF0F8"
           },
           "yaxis": {
            "backgroundcolor": "white",
            "gridcolor": "#DFE8F3",
            "gridwidth": 2,
            "linecolor": "#EBF0F8",
            "showbackground": true,
            "ticks": "",
            "zerolinecolor": "#EBF0F8"
           },
           "zaxis": {
            "backgroundcolor": "white",
            "gridcolor": "#DFE8F3",
            "gridwidth": 2,
            "linecolor": "#EBF0F8",
            "showbackground": true,
            "ticks": "",
            "zerolinecolor": "#EBF0F8"
           }
          },
          "shapedefaults": {
           "line": {
            "color": "#2a3f5f"
           }
          },
          "ternary": {
           "aaxis": {
            "gridcolor": "#DFE8F3",
            "linecolor": "#A2B1C6",
            "ticks": ""
           },
           "baxis": {
            "gridcolor": "#DFE8F3",
            "linecolor": "#A2B1C6",
            "ticks": ""
           },
           "bgcolor": "white",
           "caxis": {
            "gridcolor": "#DFE8F3",
            "linecolor": "#A2B1C6",
            "ticks": ""
           }
          },
          "title": {
           "x": 0.05
          },
          "xaxis": {
           "automargin": true,
           "gridcolor": "#EBF0F8",
           "linecolor": "#EBF0F8",
           "ticks": "",
           "title": {
            "standoff": 15
           },
           "zerolinecolor": "#EBF0F8",
           "zerolinewidth": 2
          },
          "yaxis": {
           "automargin": true,
           "gridcolor": "#EBF0F8",
           "linecolor": "#EBF0F8",
           "ticks": "",
           "title": {
            "standoff": 15
           },
           "zerolinecolor": "#EBF0F8",
           "zerolinewidth": 2
          }
         }
        },
        "title": {
         "font": {
          "color": "Black",
          "size": 22
         },
         "text": "All - Lack of Access to Health/Mental Health Care",
         "x": 0.5,
         "xanchor": "center",
         "yanchor": "top"
        },
        "width": 1000,
        "xaxis": {
         "anchor": "y",
         "domain": [
          0,
          0.175
         ],
         "showgrid": true
        },
        "xaxis10": {
         "anchor": "y10",
         "domain": [
          0.275,
          0.45
         ],
         "showgrid": true
        },
        "xaxis11": {
         "anchor": "y11",
         "domain": [
          0.55,
          0.7250000000000001
         ],
         "showgrid": true
        },
        "xaxis12": {
         "anchor": "y12",
         "domain": [
          0.825,
          1
         ],
         "showgrid": true
        },
        "xaxis13": {
         "anchor": "y13",
         "domain": [
          0,
          0.175
         ],
         "showgrid": true
        },
        "xaxis14": {
         "anchor": "y14",
         "domain": [
          0.275,
          0.45
         ],
         "showgrid": true
        },
        "xaxis15": {
         "anchor": "y15",
         "domain": [
          0.55,
          0.7250000000000001
         ],
         "showgrid": true
        },
        "xaxis16": {
         "anchor": "y16",
         "domain": [
          0.825,
          1
         ],
         "showgrid": true
        },
        "xaxis17": {
         "anchor": "y17",
         "domain": [
          0,
          0.175
         ],
         "showgrid": true
        },
        "xaxis18": {
         "anchor": "y18",
         "domain": [
          0.275,
          0.45
         ],
         "showgrid": true
        },
        "xaxis19": {
         "anchor": "y19",
         "domain": [
          0.55,
          0.7250000000000001
         ],
         "showgrid": true
        },
        "xaxis2": {
         "anchor": "y2",
         "domain": [
          0.275,
          0.45
         ],
         "showgrid": true
        },
        "xaxis20": {
         "anchor": "y20",
         "domain": [
          0.825,
          1
         ],
         "showgrid": true
        },
        "xaxis21": {
         "anchor": "y21",
         "domain": [
          0,
          0.175
         ],
         "showgrid": true
        },
        "xaxis22": {
         "anchor": "y22",
         "domain": [
          0.275,
          0.45
         ],
         "showgrid": true
        },
        "xaxis23": {
         "anchor": "y23",
         "domain": [
          0.55,
          0.7250000000000001
         ],
         "showgrid": true
        },
        "xaxis24": {
         "anchor": "y24",
         "domain": [
          0.825,
          1
         ],
         "showgrid": true
        },
        "xaxis25": {
         "anchor": "y25",
         "domain": [
          0,
          0.175
         ],
         "showgrid": true
        },
        "xaxis26": {
         "anchor": "y26",
         "domain": [
          0.275,
          0.45
         ],
         "showgrid": true
        },
        "xaxis27": {
         "anchor": "y27",
         "domain": [
          0.55,
          0.7250000000000001
         ],
         "showgrid": true
        },
        "xaxis28": {
         "anchor": "y28",
         "domain": [
          0.825,
          1
         ],
         "showgrid": true
        },
        "xaxis29": {
         "anchor": "y29",
         "domain": [
          0,
          0.175
         ],
         "showgrid": true
        },
        "xaxis3": {
         "anchor": "y3",
         "domain": [
          0.55,
          0.7250000000000001
         ],
         "showgrid": true
        },
        "xaxis30": {
         "anchor": "y30",
         "domain": [
          0.275,
          0.45
         ],
         "showgrid": true
        },
        "xaxis31": {
         "anchor": "y31",
         "domain": [
          0.55,
          0.7250000000000001
         ],
         "showgrid": true
        },
        "xaxis32": {
         "anchor": "y32",
         "domain": [
          0.825,
          1
         ],
         "showgrid": true
        },
        "xaxis33": {
         "anchor": "y33",
         "domain": [
          0,
          0.175
         ],
         "showgrid": true
        },
        "xaxis34": {
         "anchor": "y34",
         "domain": [
          0.275,
          0.45
         ],
         "showgrid": true
        },
        "xaxis35": {
         "anchor": "y35",
         "domain": [
          0.55,
          0.7250000000000001
         ],
         "showgrid": true
        },
        "xaxis36": {
         "anchor": "y36",
         "domain": [
          0.825,
          1
         ],
         "showgrid": true
        },
        "xaxis37": {
         "anchor": "y37",
         "domain": [
          0,
          0.175
         ],
         "showgrid": true
        },
        "xaxis38": {
         "anchor": "y38",
         "domain": [
          0.275,
          0.45
         ],
         "showgrid": true
        },
        "xaxis39": {
         "anchor": "y39",
         "domain": [
          0.55,
          0.7250000000000001
         ],
         "showgrid": true
        },
        "xaxis4": {
         "anchor": "y4",
         "domain": [
          0.825,
          1
         ],
         "showgrid": true
        },
        "xaxis40": {
         "anchor": "y40",
         "domain": [
          0.825,
          1
         ],
         "showgrid": true
        },
        "xaxis5": {
         "anchor": "y5",
         "domain": [
          0,
          0.175
         ],
         "showgrid": true
        },
        "xaxis6": {
         "anchor": "y6",
         "domain": [
          0.275,
          0.45
         ],
         "showgrid": true
        },
        "xaxis7": {
         "anchor": "y7",
         "domain": [
          0.55,
          0.7250000000000001
         ],
         "showgrid": true
        },
        "xaxis8": {
         "anchor": "y8",
         "domain": [
          0.825,
          1
         ],
         "showgrid": true
        },
        "xaxis9": {
         "anchor": "y9",
         "domain": [
          0,
          0.175
         ],
         "showgrid": true
        },
        "yaxis": {
         "anchor": "x",
         "domain": [
          0.936,
          1
         ],
         "showgrid": true
        },
        "yaxis10": {
         "anchor": "x10",
         "domain": [
          0.728,
          0.792
         ],
         "showgrid": true
        },
        "yaxis11": {
         "anchor": "x11",
         "domain": [
          0.728,
          0.792
         ],
         "showgrid": true
        },
        "yaxis12": {
         "anchor": "x12",
         "domain": [
          0.728,
          0.792
         ],
         "showgrid": true
        },
        "yaxis13": {
         "anchor": "x13",
         "domain": [
          0.624,
          0.688
         ],
         "showgrid": true
        },
        "yaxis14": {
         "anchor": "x14",
         "domain": [
          0.624,
          0.688
         ],
         "showgrid": true
        },
        "yaxis15": {
         "anchor": "x15",
         "domain": [
          0.624,
          0.688
         ],
         "showgrid": true
        },
        "yaxis16": {
         "anchor": "x16",
         "domain": [
          0.624,
          0.688
         ],
         "showgrid": true
        },
        "yaxis17": {
         "anchor": "x17",
         "domain": [
          0.52,
          0.5840000000000001
         ],
         "showgrid": true
        },
        "yaxis18": {
         "anchor": "x18",
         "domain": [
          0.52,
          0.5840000000000001
         ],
         "showgrid": true
        },
        "yaxis19": {
         "anchor": "x19",
         "domain": [
          0.52,
          0.5840000000000001
         ],
         "showgrid": true
        },
        "yaxis2": {
         "anchor": "x2",
         "domain": [
          0.936,
          1
         ],
         "showgrid": true
        },
        "yaxis20": {
         "anchor": "x20",
         "domain": [
          0.52,
          0.5840000000000001
         ],
         "showgrid": true
        },
        "yaxis21": {
         "anchor": "x21",
         "domain": [
          0.41600000000000004,
          0.48000000000000004
         ],
         "showgrid": true
        },
        "yaxis22": {
         "anchor": "x22",
         "domain": [
          0.41600000000000004,
          0.48000000000000004
         ],
         "showgrid": true
        },
        "yaxis23": {
         "anchor": "x23",
         "domain": [
          0.41600000000000004,
          0.48000000000000004
         ],
         "showgrid": true
        },
        "yaxis24": {
         "anchor": "x24",
         "domain": [
          0.41600000000000004,
          0.48000000000000004
         ],
         "showgrid": true
        },
        "yaxis25": {
         "anchor": "x25",
         "domain": [
          0.312,
          0.376
         ],
         "showgrid": true
        },
        "yaxis26": {
         "anchor": "x26",
         "domain": [
          0.312,
          0.376
         ],
         "showgrid": true
        },
        "yaxis27": {
         "anchor": "x27",
         "domain": [
          0.312,
          0.376
         ],
         "showgrid": true
        },
        "yaxis28": {
         "anchor": "x28",
         "domain": [
          0.312,
          0.376
         ],
         "showgrid": true
        },
        "yaxis29": {
         "anchor": "x29",
         "domain": [
          0.20800000000000002,
          0.272
         ],
         "showgrid": true
        },
        "yaxis3": {
         "anchor": "x3",
         "domain": [
          0.936,
          1
         ],
         "showgrid": true
        },
        "yaxis30": {
         "anchor": "x30",
         "domain": [
          0.20800000000000002,
          0.272
         ],
         "showgrid": true
        },
        "yaxis31": {
         "anchor": "x31",
         "domain": [
          0.20800000000000002,
          0.272
         ],
         "showgrid": true
        },
        "yaxis32": {
         "anchor": "x32",
         "domain": [
          0.20800000000000002,
          0.272
         ],
         "showgrid": true
        },
        "yaxis33": {
         "anchor": "x33",
         "domain": [
          0.10400000000000001,
          0.168
         ],
         "showgrid": true
        },
        "yaxis34": {
         "anchor": "x34",
         "domain": [
          0.10400000000000001,
          0.168
         ],
         "showgrid": true
        },
        "yaxis35": {
         "anchor": "x35",
         "domain": [
          0.10400000000000001,
          0.168
         ],
         "showgrid": true
        },
        "yaxis36": {
         "anchor": "x36",
         "domain": [
          0.10400000000000001,
          0.168
         ],
         "showgrid": true
        },
        "yaxis37": {
         "anchor": "x37",
         "domain": [
          0,
          0.064
         ],
         "showgrid": true
        },
        "yaxis38": {
         "anchor": "x38",
         "domain": [
          0,
          0.064
         ],
         "showgrid": true
        },
        "yaxis39": {
         "anchor": "x39",
         "domain": [
          0,
          0.064
         ],
         "showgrid": true
        },
        "yaxis4": {
         "anchor": "x4",
         "domain": [
          0.936,
          1
         ],
         "showgrid": true
        },
        "yaxis40": {
         "anchor": "x40",
         "domain": [
          0,
          0.064
         ],
         "showgrid": true
        },
        "yaxis5": {
         "anchor": "x5",
         "domain": [
          0.8320000000000001,
          0.8960000000000001
         ],
         "showgrid": true
        },
        "yaxis6": {
         "anchor": "x6",
         "domain": [
          0.8320000000000001,
          0.8960000000000001
         ],
         "showgrid": true
        },
        "yaxis7": {
         "anchor": "x7",
         "domain": [
          0.8320000000000001,
          0.8960000000000001
         ],
         "showgrid": true
        },
        "yaxis8": {
         "anchor": "x8",
         "domain": [
          0.8320000000000001,
          0.8960000000000001
         ],
         "showgrid": true
        },
        "yaxis9": {
         "anchor": "x9",
         "domain": [
          0.728,
          0.792
         ],
         "showgrid": true
        }
       }
      },
      "text/html": [
       "<div>                        <script type=\"text/javascript\">window.PlotlyConfig = {MathJaxConfig: 'local'};</script>\n",
       "        <script charset=\"utf-8\" src=\"https://cdn.plot.ly/plotly-2.27.0.min.js\"></script>                <div id=\"e422350b-2ed2-4683-a096-368abf58486d\" class=\"plotly-graph-div\" style=\"height:2500px; width:1000px;\"></div>            <script type=\"text/javascript\">                                    window.PLOTLYENV=window.PLOTLYENV || {};                                    if (document.getElementById(\"e422350b-2ed2-4683-a096-368abf58486d\")) {                    Plotly.newPlot(                        \"e422350b-2ed2-4683-a096-368abf58486d\",                        [{\"marker\":{\"color\":\"#D55E00\"},\"orientation\":\"h\",\"x\":[0.531216025352478,0.5359881520271301,0.5445011854171753,0.591168999671936,0.6756203174591064],\"y\":[\"mental health  \",\"mental illness  \",\"suicides  \",\"suicide attempt  \",\"suicide article  \"],\"type\":\"bar\",\"xaxis\":\"x\",\"yaxis\":\"y\"},{\"marker\":{\"color\":\"#0072B2\"},\"orientation\":\"h\",\"x\":[0.5484499931335449,0.5567085146903992,0.558721661567688,0.5652968287467957,0.605559766292572],\"y\":[\"attempted suicide  \",\"suicides  \",\"mental health  \",\"suicide rates  \",\"discusses suicide  \"],\"type\":\"bar\",\"xaxis\":\"x2\",\"yaxis\":\"y2\"},{\"marker\":{\"color\":\"#CC79A7\"},\"orientation\":\"h\",\"x\":[0.4039679765701294,0.4367721974849701,0.4420381486415863,0.4493408799171448,0.5100884437561035],\"y\":[\"mentions shooter  \",\"purchase guns  \",\"mass shooting  \",\"suicide  \",\"suicide article  \"],\"type\":\"bar\",\"xaxis\":\"x3\",\"yaxis\":\"y3\"},{\"marker\":{\"color\":\"#E69F00\"},\"orientation\":\"h\",\"x\":[0.5289007425308228,0.5573776364326477,0.5654194355010986,0.5929934978485107,0.6152620315551758],\"y\":[\"issue suicide  \",\"discusses suicide  \",\"among veterans  \",\"suicide among  \",\"suicides among  \"],\"type\":\"bar\",\"xaxis\":\"x4\",\"yaxis\":\"y4\"},{\"marker\":{\"color\":\"#56B4E9\"},\"orientation\":\"h\",\"x\":[0.4119448959827423,0.4190005660057068,0.42093464732170105,0.43280357122421265,0.4362477660179138],\"y\":[\"cause suicide  \",\"concussions  \",\"encephalopathy  \",\"mentions adams  \",\"phillip adams  \"],\"type\":\"bar\",\"xaxis\":\"x5\",\"yaxis\":\"y5\"},{\"marker\":{\"color\":\"#009E73\"},\"orientation\":\"h\",\"x\":[0.4589979648590088,0.45979195833206177,0.49515601992607117,0.5077451467514038,0.5087687969207764],\"y\":[\"terminal cancer  \",\"opioid addiction  \",\"drug overdose  \",\"overdoses  \",\"terminal illness  \"],\"type\":\"bar\",\"xaxis\":\"x6\",\"yaxis\":\"y6\"},{\"marker\":{\"color\":\"#F0E442\"},\"orientation\":\"h\",\"x\":[0.3976864814758301,0.39926570653915405,0.41384997963905334,0.4261173605918884,0.4359435737133026],\"y\":[\"suggests suicide  \",\"mental health  \",\"suicide  \",\"traumatic stress  \",\"suicides  \"],\"type\":\"bar\",\"xaxis\":\"x7\",\"yaxis\":\"y7\"},{\"marker\":{\"color\":\"#D55E00\"},\"orientation\":\"h\",\"x\":[0.4793442487716675,0.4937523305416107,0.5129443407058716,0.5423488020896912,0.5443166494369507],\"y\":[\"shootings  \",\"suicides  \",\"gun violence  \",\"mental health  \",\"mass shooting  \"],\"type\":\"bar\",\"xaxis\":\"x8\",\"yaxis\":\"y8\"},{\"marker\":{\"color\":\"#0072B2\"},\"orientation\":\"h\",\"x\":[0.5640213489532471,0.5714513659477234,0.5746006965637207,0.575525164604187,0.6558021306991577],\"y\":[\"among transgender  \",\"transgender people  \",\"transgender children  \",\"transgender individuals  \",\"transgender youth  \"],\"type\":\"bar\",\"xaxis\":\"x9\",\"yaxis\":\"y9\"},{\"marker\":{\"color\":\"#CC79A7\"},\"orientation\":\"h\",\"x\":[0.5158429145812988,0.527057409286499,0.5318924784660339,0.5397862195968628,0.5711789131164551],\"y\":[\"covid article  \",\"covid 19  \",\"covid infection  \",\"covid  \",\"long covid  \"],\"type\":\"bar\",\"xaxis\":\"x10\",\"yaxis\":\"y10\"},{\"marker\":{\"color\":\"#E69F00\"},\"orientation\":\"h\",\"x\":[0.6178365349769592,0.6590057015419006,0.683862030506134,0.7037882804870605,0.7220101356506348],\"y\":[\"assistance dying  \",\"euthanasia due  \",\"euthanasia  \",\"assisted death  \",\"assisted suicide  \"],\"type\":\"bar\",\"xaxis\":\"x11\",\"yaxis\":\"y11\"},{\"marker\":{\"color\":\"#56B4E9\"},\"orientation\":\"h\",\"x\":[0.40881282091140747,0.4410160779953003,0.45496582984924316,0.5250500440597534,0.5480231046676636],\"y\":[\"mental illness  \",\"sherman former  \",\"sherman  \",\"sherman drinking  \",\"richard sherman  \"],\"type\":\"bar\",\"xaxis\":\"x12\",\"yaxis\":\"y12\"},{\"marker\":{\"color\":\"#009E73\"},\"orientation\":\"h\",\"x\":[0.4829903542995453,0.4837024211883545,0.5130397081375122,0.5269250273704529,0.5546502470970154],\"y\":[\"committed suicide  \",\"naomi judd  \",\"suicide article  \",\"judd killed  \",\"judd died  \"],\"type\":\"bar\",\"xaxis\":\"x13\",\"yaxis\":\"y13\"},{\"marker\":{\"color\":\"#F0E442\"},\"orientation\":\"h\",\"x\":[0.47355684638023376,0.48590946197509766,0.4989832043647766,0.5176600813865662,0.5846022367477417],\"y\":[\"suicides  \",\"suicides ensuing  \",\"traumatic stress  \",\"ptsd suicidal  \",\"increased suicides  \"],\"type\":\"bar\",\"xaxis\":\"x14\",\"yaxis\":\"y14\"},{\"marker\":{\"color\":\"#D55E00\"},\"orientation\":\"h\",\"x\":[0.566972553730011,0.571304202079773,0.5925952196121216,0.5931558609008789,0.5982994437217712],\"y\":[\"abortion services  \",\"following abortions  \",\"abortion  \",\"roe wade  \",\"abortions  \"],\"type\":\"bar\",\"xaxis\":\"x15\",\"yaxis\":\"y15\"},{\"marker\":{\"color\":\"#0072B2\"},\"orientation\":\"h\",\"x\":[0.426746129989624,0.47818300127983093,0.5369322299957275,0.6270879507064819,0.651443362236023],\"y\":[\"father suicide  \",\"leader died  \",\"harry reid  \",\"reid died  \",\"reid death  \"],\"type\":\"bar\",\"xaxis\":\"x16\",\"yaxis\":\"y16\"},{\"marker\":{\"color\":\"#CC79A7\"},\"orientation\":\"h\",\"x\":[0.42659735679626465,0.4308788776397705,0.4443552792072296,0.46821218729019165,0.5218060612678528],\"y\":[\"health struggles  \",\"wife meghan  \",\"suicidal thoughts  \",\"harry wife  \",\"mental health  \"],\"type\":\"bar\",\"xaxis\":\"x17\",\"yaxis\":\"y17\"},{\"marker\":{\"color\":\"#E69F00\"},\"orientation\":\"h\",\"x\":[0.4277009665966034,0.45604854822158813,0.4911653399467468,0.5364491939544678,0.5556826591491699],\"y\":[\"cause suicide  \",\"suicide  \",\"tommy raskin  \",\"suicide related  \",\"reason suicide  \"],\"type\":\"bar\",\"xaxis\":\"x18\",\"yaxis\":\"y18\"},{\"marker\":{\"color\":\"#56B4E9\"},\"orientation\":\"h\",\"x\":[0.44413110613822937,0.44535285234451294,0.4758424460887909,0.4876623749732971,0.5161287784576416],\"y\":[\"article health  \",\"mental health  \",\"reportedly suicidal  \",\"suicide restraining  \",\"threatened suicide  \"],\"type\":\"bar\",\"xaxis\":\"x19\",\"yaxis\":\"y19\"},{\"marker\":{\"color\":\"#009E73\"},\"orientation\":\"h\",\"x\":[0.47061461210250854,0.48584604263305664,0.4954584836959839,0.5404131412506104,0.5492324829101562],\"y\":[\"high suicide  \",\"indigenous communities  \",\"suicide rates  \",\"suicide prevention  \",\"prevention indigenous  \"],\"type\":\"bar\",\"xaxis\":\"x20\",\"yaxis\":\"y20\"},{\"marker\":{\"color\":\"#F0E442\"},\"orientation\":\"h\",\"x\":[0.5009626150131226,0.5138344764709473,0.5548034906387329,0.5573989152908325,0.6463451981544495],\"y\":[\"britney  \",\"britney spears  \",\"jean suicide  \",\"spears grandmother  \",\"suicide britney  \"],\"type\":\"bar\",\"xaxis\":\"x21\",\"yaxis\":\"y21\"},{\"marker\":{\"color\":\"#D55E00\"},\"orientation\":\"h\",\"x\":[0.3776336908340454,0.4010879695415497,0.410564124584198,0.4176782965660095,0.4759836494922638],\"y\":[\"taylor founder  \",\"suicide due  \",\"suicide  \",\"suicide suffering  \",\"died suicide  \"],\"type\":\"bar\",\"xaxis\":\"x22\",\"yaxis\":\"y22\"},{\"marker\":{\"color\":\"#0072B2\"},\"orientation\":\"h\",\"x\":[0.44193997979164124,0.44854116439819336,0.4579145014286041,0.4693012833595276,0.48708632588386536],\"y\":[\"self harm  \",\"mental health  \",\"suicide  \",\"eating disorders  \",\"health teenagers  \"],\"type\":\"bar\",\"xaxis\":\"x23\",\"yaxis\":\"y23\"},{\"marker\":{\"color\":\"#CC79A7\"},\"orientation\":\"h\",\"x\":[0.45148855447769165,0.4576057493686676,0.4828052222728729,0.4977734386920929,0.5096613168716431],\"y\":[\"suicide  \",\"dementia  \",\"committed suicide  \",\"robin williams  \",\"suicide actor  \"],\"type\":\"bar\",\"xaxis\":\"x24\",\"yaxis\":\"y24\"},{\"marker\":{\"color\":\"#E69F00\"},\"orientation\":\"h\",\"x\":[0.4778904616832733,0.48974859714508057,0.49659669399261475,0.4995403587818146,0.626258134841919],\"y\":[\"suicidal behavior  \",\"robert fuller  \",\"suicide article  \",\"suicide related  \",\"fuller suicide  \"],\"type\":\"bar\",\"xaxis\":\"x25\",\"yaxis\":\"y25\"},{\"marker\":{\"color\":\"#56B4E9\"},\"orientation\":\"h\",\"x\":[0.5176891088485718,0.5270959138870239,0.5497362613677979,0.5641962885856628,0.5673882961273193],\"y\":[\"mentions assange  \",\"assange facing  \",\"assange  \",\"julian assange  \",\"assange mental  \"],\"type\":\"bar\",\"xaxis\":\"x26\",\"yaxis\":\"y26\"},{\"marker\":{\"color\":\"#009E73\"},\"orientation\":\"h\",\"x\":[0.4762495756149292,0.4942537546157837,0.498596727848053,0.5026764869689941,0.5464041233062744],\"y\":[\"financial stress  \",\"depression  \",\"suffering depression  \",\"depression financial  \",\"mental health  \"],\"type\":\"bar\",\"xaxis\":\"x27\",\"yaxis\":\"y27\"},{\"marker\":{\"color\":\"#F0E442\"},\"orientation\":\"h\",\"x\":[0.3999564051628113,0.42775067687034607,0.4388105273246765,0.4592934846878052,0.47136902809143066],\"y\":[\"armed dangerous  \",\"accessing firearms  \",\"perceived threats  \",\"suicide cop  \",\"firearms individuals  \"],\"type\":\"bar\",\"xaxis\":\"x28\",\"yaxis\":\"y28\"},{\"marker\":{\"color\":\"#D55E00\"},\"orientation\":\"h\",\"x\":[0.5658901333808899,0.5849828124046326,0.5910305380821228,0.6185029745101929,0.6450340747833252],\"y\":[\"theodore kaczynski  \",\"kaczynski  \",\"mentions kaczynski  \",\"ted kaczynski  \",\"kaczynski health  \"],\"type\":\"bar\",\"xaxis\":\"x29\",\"yaxis\":\"y29\"},{\"marker\":{\"color\":\"#0072B2\"},\"orientation\":\"h\",\"x\":[0.37812018394470215,0.3897560238838196,0.4221768081188202,0.4237411618232727,0.48547086119651794],\"y\":[\"murdaugh misappropriated  \",\"mentions murdaugh  \",\"alex murdaugh  \",\"insurance fraud  \",\"murdaugh lawyer  \"],\"type\":\"bar\",\"xaxis\":\"x30\",\"yaxis\":\"y30\"},{\"marker\":{\"color\":\"#CC79A7\"},\"orientation\":\"h\",\"x\":[0.5101032257080078,0.5345906615257263,0.5522753596305847,0.5566381812095642,0.6056132316589355],\"y\":[\"aids  \",\"hiv aids  \",\"lived hiv  \",\"wisler hiv  \",\"aids crisis  \"],\"type\":\"bar\",\"xaxis\":\"x31\",\"yaxis\":\"y31\"},{\"marker\":{\"color\":\"#E69F00\"},\"orientation\":\"h\",\"x\":[0.45344042778015137,0.45397692918777466,0.4655412435531616,0.48691123723983765,0.48921358585357666],\"y\":[\"ai  \",\"suicide case  \",\"ai providing  \",\"potential ai  \",\"suicide article  \"],\"type\":\"bar\",\"xaxis\":\"x32\",\"yaxis\":\"y32\"},{\"marker\":{\"color\":\"#56B4E9\"},\"orientation\":\"h\",\"x\":[0.3954664170742035,0.39958229660987854,0.42155957221984863,0.4222508370876312,0.5348045825958252],\"y\":[\"room business  \",\"mental health  \",\"cause suicide  \",\"suicide article  \",\"rage room  \"],\"type\":\"bar\",\"xaxis\":\"x33\",\"yaxis\":\"y33\"},{\"marker\":{\"color\":\"#009E73\"},\"orientation\":\"h\",\"x\":[0.3554232716560364,0.3882986307144165,0.4366764724254608,0.5251143574714661,0.537527859210968],\"y\":[\"contributed death  \",\"wife death  \",\"meisner  \",\"meisner diagnosed  \",\"randy meisner  \"],\"type\":\"bar\",\"xaxis\":\"x34\",\"yaxis\":\"y34\"},{\"marker\":{\"color\":\"#F0E442\"},\"orientation\":\"h\",\"x\":[0.5696665048599243,0.5789923667907715,0.5876237750053406,0.6180617213249207,0.6739856004714966],\"y\":[\"suicide author  \",\"carter died  \",\"brother suicide  \",\"reason suicide  \",\"carter suicide  \"],\"type\":\"bar\",\"xaxis\":\"x35\",\"yaxis\":\"y35\"},{\"marker\":{\"color\":\"#D55E00\"},\"orientation\":\"h\",\"x\":[0.4346180558204651,0.4566560685634613,0.4569769501686096,0.4714473783969879,0.5326240062713623],\"y\":[\"committed suicide  \",\"depression mental  \",\"depression  \",\"suicide  \",\"mental health  \"],\"type\":\"bar\",\"xaxis\":\"x36\",\"yaxis\":\"y36\"},{\"marker\":{\"color\":\"#0072B2\"},\"orientation\":\"h\",\"x\":[0.37736567854881287,0.42196840047836304,0.428434818983078,0.4623870849609375,0.5979085564613342],\"y\":[\"severe anxiety  \",\"abby broyles  \",\"mental health  \",\"suicide  \",\"suicide attempt  \"],\"type\":\"bar\",\"xaxis\":\"x37\",\"yaxis\":\"y37\"},{\"marker\":{\"color\":\"#CC79A7\"},\"orientation\":\"h\",\"x\":[0.5155880451202393,0.5613969564437866,0.5657079219818115,0.5863549709320068,0.61344975233078],\"y\":[\"gogh artist  \",\"gogh shot  \",\"van gogh  \",\"gogh struggled  \",\"gogh suffered  \"],\"type\":\"bar\",\"xaxis\":\"x38\",\"yaxis\":\"y38\"},{\"marker\":{\"color\":\"#E69F00\"},\"orientation\":\"h\",\"x\":[0.2977660000324249,0.35853761434555054,0.36027586460113525,0.45214587450027466,0.4995265603065491],\"y\":[\"luther  \",\"king jr  \",\"mental health  \",\"martin luther  \",\"luther king  \"],\"type\":\"bar\",\"xaxis\":\"x39\",\"yaxis\":\"y39\"}],                        {\"template\":{\"data\":{\"barpolar\":[{\"marker\":{\"line\":{\"color\":\"white\",\"width\":0.5},\"pattern\":{\"fillmode\":\"overlay\",\"size\":10,\"solidity\":0.2}},\"type\":\"barpolar\"}],\"bar\":[{\"error_x\":{\"color\":\"#2a3f5f\"},\"error_y\":{\"color\":\"#2a3f5f\"},\"marker\":{\"line\":{\"color\":\"white\",\"width\":0.5},\"pattern\":{\"fillmode\":\"overlay\",\"size\":10,\"solidity\":0.2}},\"type\":\"bar\"}],\"carpet\":[{\"aaxis\":{\"endlinecolor\":\"#2a3f5f\",\"gridcolor\":\"#C8D4E3\",\"linecolor\":\"#C8D4E3\",\"minorgridcolor\":\"#C8D4E3\",\"startlinecolor\":\"#2a3f5f\"},\"baxis\":{\"endlinecolor\":\"#2a3f5f\",\"gridcolor\":\"#C8D4E3\",\"linecolor\":\"#C8D4E3\",\"minorgridcolor\":\"#C8D4E3\",\"startlinecolor\":\"#2a3f5f\"},\"type\":\"carpet\"}],\"choropleth\":[{\"colorbar\":{\"outlinewidth\":0,\"ticks\":\"\"},\"type\":\"choropleth\"}],\"contourcarpet\":[{\"colorbar\":{\"outlinewidth\":0,\"ticks\":\"\"},\"type\":\"contourcarpet\"}],\"contour\":[{\"colorbar\":{\"outlinewidth\":0,\"ticks\":\"\"},\"colorscale\":[[0.0,\"#0d0887\"],[0.1111111111111111,\"#46039f\"],[0.2222222222222222,\"#7201a8\"],[0.3333333333333333,\"#9c179e\"],[0.4444444444444444,\"#bd3786\"],[0.5555555555555556,\"#d8576b\"],[0.6666666666666666,\"#ed7953\"],[0.7777777777777778,\"#fb9f3a\"],[0.8888888888888888,\"#fdca26\"],[1.0,\"#f0f921\"]],\"type\":\"contour\"}],\"heatmapgl\":[{\"colorbar\":{\"outlinewidth\":0,\"ticks\":\"\"},\"colorscale\":[[0.0,\"#0d0887\"],[0.1111111111111111,\"#46039f\"],[0.2222222222222222,\"#7201a8\"],[0.3333333333333333,\"#9c179e\"],[0.4444444444444444,\"#bd3786\"],[0.5555555555555556,\"#d8576b\"],[0.6666666666666666,\"#ed7953\"],[0.7777777777777778,\"#fb9f3a\"],[0.8888888888888888,\"#fdca26\"],[1.0,\"#f0f921\"]],\"type\":\"heatmapgl\"}],\"heatmap\":[{\"colorbar\":{\"outlinewidth\":0,\"ticks\":\"\"},\"colorscale\":[[0.0,\"#0d0887\"],[0.1111111111111111,\"#46039f\"],[0.2222222222222222,\"#7201a8\"],[0.3333333333333333,\"#9c179e\"],[0.4444444444444444,\"#bd3786\"],[0.5555555555555556,\"#d8576b\"],[0.6666666666666666,\"#ed7953\"],[0.7777777777777778,\"#fb9f3a\"],[0.8888888888888888,\"#fdca26\"],[1.0,\"#f0f921\"]],\"type\":\"heatmap\"}],\"histogram2dcontour\":[{\"colorbar\":{\"outlinewidth\":0,\"ticks\":\"\"},\"colorscale\":[[0.0,\"#0d0887\"],[0.1111111111111111,\"#46039f\"],[0.2222222222222222,\"#7201a8\"],[0.3333333333333333,\"#9c179e\"],[0.4444444444444444,\"#bd3786\"],[0.5555555555555556,\"#d8576b\"],[0.6666666666666666,\"#ed7953\"],[0.7777777777777778,\"#fb9f3a\"],[0.8888888888888888,\"#fdca26\"],[1.0,\"#f0f921\"]],\"type\":\"histogram2dcontour\"}],\"histogram2d\":[{\"colorbar\":{\"outlinewidth\":0,\"ticks\":\"\"},\"colorscale\":[[0.0,\"#0d0887\"],[0.1111111111111111,\"#46039f\"],[0.2222222222222222,\"#7201a8\"],[0.3333333333333333,\"#9c179e\"],[0.4444444444444444,\"#bd3786\"],[0.5555555555555556,\"#d8576b\"],[0.6666666666666666,\"#ed7953\"],[0.7777777777777778,\"#fb9f3a\"],[0.8888888888888888,\"#fdca26\"],[1.0,\"#f0f921\"]],\"type\":\"histogram2d\"}],\"histogram\":[{\"marker\":{\"pattern\":{\"fillmode\":\"overlay\",\"size\":10,\"solidity\":0.2}},\"type\":\"histogram\"}],\"mesh3d\":[{\"colorbar\":{\"outlinewidth\":0,\"ticks\":\"\"},\"type\":\"mesh3d\"}],\"parcoords\":[{\"line\":{\"colorbar\":{\"outlinewidth\":0,\"ticks\":\"\"}},\"type\":\"parcoords\"}],\"pie\":[{\"automargin\":true,\"type\":\"pie\"}],\"scatter3d\":[{\"line\":{\"colorbar\":{\"outlinewidth\":0,\"ticks\":\"\"}},\"marker\":{\"colorbar\":{\"outlinewidth\":0,\"ticks\":\"\"}},\"type\":\"scatter3d\"}],\"scattercarpet\":[{\"marker\":{\"colorbar\":{\"outlinewidth\":0,\"ticks\":\"\"}},\"type\":\"scattercarpet\"}],\"scattergeo\":[{\"marker\":{\"colorbar\":{\"outlinewidth\":0,\"ticks\":\"\"}},\"type\":\"scattergeo\"}],\"scattergl\":[{\"marker\":{\"colorbar\":{\"outlinewidth\":0,\"ticks\":\"\"}},\"type\":\"scattergl\"}],\"scattermapbox\":[{\"marker\":{\"colorbar\":{\"outlinewidth\":0,\"ticks\":\"\"}},\"type\":\"scattermapbox\"}],\"scatterpolargl\":[{\"marker\":{\"colorbar\":{\"outlinewidth\":0,\"ticks\":\"\"}},\"type\":\"scatterpolargl\"}],\"scatterpolar\":[{\"marker\":{\"colorbar\":{\"outlinewidth\":0,\"ticks\":\"\"}},\"type\":\"scatterpolar\"}],\"scatter\":[{\"fillpattern\":{\"fillmode\":\"overlay\",\"size\":10,\"solidity\":0.2},\"type\":\"scatter\"}],\"scatterternary\":[{\"marker\":{\"colorbar\":{\"outlinewidth\":0,\"ticks\":\"\"}},\"type\":\"scatterternary\"}],\"surface\":[{\"colorbar\":{\"outlinewidth\":0,\"ticks\":\"\"},\"colorscale\":[[0.0,\"#0d0887\"],[0.1111111111111111,\"#46039f\"],[0.2222222222222222,\"#7201a8\"],[0.3333333333333333,\"#9c179e\"],[0.4444444444444444,\"#bd3786\"],[0.5555555555555556,\"#d8576b\"],[0.6666666666666666,\"#ed7953\"],[0.7777777777777778,\"#fb9f3a\"],[0.8888888888888888,\"#fdca26\"],[1.0,\"#f0f921\"]],\"type\":\"surface\"}],\"table\":[{\"cells\":{\"fill\":{\"color\":\"#EBF0F8\"},\"line\":{\"color\":\"white\"}},\"header\":{\"fill\":{\"color\":\"#C8D4E3\"},\"line\":{\"color\":\"white\"}},\"type\":\"table\"}]},\"layout\":{\"annotationdefaults\":{\"arrowcolor\":\"#2a3f5f\",\"arrowhead\":0,\"arrowwidth\":1},\"autotypenumbers\":\"strict\",\"coloraxis\":{\"colorbar\":{\"outlinewidth\":0,\"ticks\":\"\"}},\"colorscale\":{\"diverging\":[[0,\"#8e0152\"],[0.1,\"#c51b7d\"],[0.2,\"#de77ae\"],[0.3,\"#f1b6da\"],[0.4,\"#fde0ef\"],[0.5,\"#f7f7f7\"],[0.6,\"#e6f5d0\"],[0.7,\"#b8e186\"],[0.8,\"#7fbc41\"],[0.9,\"#4d9221\"],[1,\"#276419\"]],\"sequential\":[[0.0,\"#0d0887\"],[0.1111111111111111,\"#46039f\"],[0.2222222222222222,\"#7201a8\"],[0.3333333333333333,\"#9c179e\"],[0.4444444444444444,\"#bd3786\"],[0.5555555555555556,\"#d8576b\"],[0.6666666666666666,\"#ed7953\"],[0.7777777777777778,\"#fb9f3a\"],[0.8888888888888888,\"#fdca26\"],[1.0,\"#f0f921\"]],\"sequentialminus\":[[0.0,\"#0d0887\"],[0.1111111111111111,\"#46039f\"],[0.2222222222222222,\"#7201a8\"],[0.3333333333333333,\"#9c179e\"],[0.4444444444444444,\"#bd3786\"],[0.5555555555555556,\"#d8576b\"],[0.6666666666666666,\"#ed7953\"],[0.7777777777777778,\"#fb9f3a\"],[0.8888888888888888,\"#fdca26\"],[1.0,\"#f0f921\"]]},\"colorway\":[\"#636efa\",\"#EF553B\",\"#00cc96\",\"#ab63fa\",\"#FFA15A\",\"#19d3f3\",\"#FF6692\",\"#B6E880\",\"#FF97FF\",\"#FECB52\"],\"font\":{\"color\":\"#2a3f5f\"},\"geo\":{\"bgcolor\":\"white\",\"lakecolor\":\"white\",\"landcolor\":\"white\",\"showlakes\":true,\"showland\":true,\"subunitcolor\":\"#C8D4E3\"},\"hoverlabel\":{\"align\":\"left\"},\"hovermode\":\"closest\",\"mapbox\":{\"style\":\"light\"},\"paper_bgcolor\":\"white\",\"plot_bgcolor\":\"white\",\"polar\":{\"angularaxis\":{\"gridcolor\":\"#EBF0F8\",\"linecolor\":\"#EBF0F8\",\"ticks\":\"\"},\"bgcolor\":\"white\",\"radialaxis\":{\"gridcolor\":\"#EBF0F8\",\"linecolor\":\"#EBF0F8\",\"ticks\":\"\"}},\"scene\":{\"xaxis\":{\"backgroundcolor\":\"white\",\"gridcolor\":\"#DFE8F3\",\"gridwidth\":2,\"linecolor\":\"#EBF0F8\",\"showbackground\":true,\"ticks\":\"\",\"zerolinecolor\":\"#EBF0F8\"},\"yaxis\":{\"backgroundcolor\":\"white\",\"gridcolor\":\"#DFE8F3\",\"gridwidth\":2,\"linecolor\":\"#EBF0F8\",\"showbackground\":true,\"ticks\":\"\",\"zerolinecolor\":\"#EBF0F8\"},\"zaxis\":{\"backgroundcolor\":\"white\",\"gridcolor\":\"#DFE8F3\",\"gridwidth\":2,\"linecolor\":\"#EBF0F8\",\"showbackground\":true,\"ticks\":\"\",\"zerolinecolor\":\"#EBF0F8\"}},\"shapedefaults\":{\"line\":{\"color\":\"#2a3f5f\"}},\"ternary\":{\"aaxis\":{\"gridcolor\":\"#DFE8F3\",\"linecolor\":\"#A2B1C6\",\"ticks\":\"\"},\"baxis\":{\"gridcolor\":\"#DFE8F3\",\"linecolor\":\"#A2B1C6\",\"ticks\":\"\"},\"bgcolor\":\"white\",\"caxis\":{\"gridcolor\":\"#DFE8F3\",\"linecolor\":\"#A2B1C6\",\"ticks\":\"\"}},\"title\":{\"x\":0.05},\"xaxis\":{\"automargin\":true,\"gridcolor\":\"#EBF0F8\",\"linecolor\":\"#EBF0F8\",\"ticks\":\"\",\"title\":{\"standoff\":15},\"zerolinecolor\":\"#EBF0F8\",\"zerolinewidth\":2},\"yaxis\":{\"automargin\":true,\"gridcolor\":\"#EBF0F8\",\"linecolor\":\"#EBF0F8\",\"ticks\":\"\",\"title\":{\"standoff\":15},\"zerolinecolor\":\"#EBF0F8\",\"zerolinewidth\":2}}},\"xaxis\":{\"anchor\":\"y\",\"domain\":[0.0,0.175],\"showgrid\":true},\"yaxis\":{\"anchor\":\"x\",\"domain\":[0.936,1.0],\"showgrid\":true},\"xaxis2\":{\"anchor\":\"y2\",\"domain\":[0.275,0.45],\"showgrid\":true},\"yaxis2\":{\"anchor\":\"x2\",\"domain\":[0.936,1.0],\"showgrid\":true},\"xaxis3\":{\"anchor\":\"y3\",\"domain\":[0.55,0.7250000000000001],\"showgrid\":true},\"yaxis3\":{\"anchor\":\"x3\",\"domain\":[0.936,1.0],\"showgrid\":true},\"xaxis4\":{\"anchor\":\"y4\",\"domain\":[0.825,1.0],\"showgrid\":true},\"yaxis4\":{\"anchor\":\"x4\",\"domain\":[0.936,1.0],\"showgrid\":true},\"xaxis5\":{\"anchor\":\"y5\",\"domain\":[0.0,0.175],\"showgrid\":true},\"yaxis5\":{\"anchor\":\"x5\",\"domain\":[0.8320000000000001,0.8960000000000001],\"showgrid\":true},\"xaxis6\":{\"anchor\":\"y6\",\"domain\":[0.275,0.45],\"showgrid\":true},\"yaxis6\":{\"anchor\":\"x6\",\"domain\":[0.8320000000000001,0.8960000000000001],\"showgrid\":true},\"xaxis7\":{\"anchor\":\"y7\",\"domain\":[0.55,0.7250000000000001],\"showgrid\":true},\"yaxis7\":{\"anchor\":\"x7\",\"domain\":[0.8320000000000001,0.8960000000000001],\"showgrid\":true},\"xaxis8\":{\"anchor\":\"y8\",\"domain\":[0.825,1.0],\"showgrid\":true},\"yaxis8\":{\"anchor\":\"x8\",\"domain\":[0.8320000000000001,0.8960000000000001],\"showgrid\":true},\"xaxis9\":{\"anchor\":\"y9\",\"domain\":[0.0,0.175],\"showgrid\":true},\"yaxis9\":{\"anchor\":\"x9\",\"domain\":[0.728,0.792],\"showgrid\":true},\"xaxis10\":{\"anchor\":\"y10\",\"domain\":[0.275,0.45],\"showgrid\":true},\"yaxis10\":{\"anchor\":\"x10\",\"domain\":[0.728,0.792],\"showgrid\":true},\"xaxis11\":{\"anchor\":\"y11\",\"domain\":[0.55,0.7250000000000001],\"showgrid\":true},\"yaxis11\":{\"anchor\":\"x11\",\"domain\":[0.728,0.792],\"showgrid\":true},\"xaxis12\":{\"anchor\":\"y12\",\"domain\":[0.825,1.0],\"showgrid\":true},\"yaxis12\":{\"anchor\":\"x12\",\"domain\":[0.728,0.792],\"showgrid\":true},\"xaxis13\":{\"anchor\":\"y13\",\"domain\":[0.0,0.175],\"showgrid\":true},\"yaxis13\":{\"anchor\":\"x13\",\"domain\":[0.624,0.688],\"showgrid\":true},\"xaxis14\":{\"anchor\":\"y14\",\"domain\":[0.275,0.45],\"showgrid\":true},\"yaxis14\":{\"anchor\":\"x14\",\"domain\":[0.624,0.688],\"showgrid\":true},\"xaxis15\":{\"anchor\":\"y15\",\"domain\":[0.55,0.7250000000000001],\"showgrid\":true},\"yaxis15\":{\"anchor\":\"x15\",\"domain\":[0.624,0.688],\"showgrid\":true},\"xaxis16\":{\"anchor\":\"y16\",\"domain\":[0.825,1.0],\"showgrid\":true},\"yaxis16\":{\"anchor\":\"x16\",\"domain\":[0.624,0.688],\"showgrid\":true},\"xaxis17\":{\"anchor\":\"y17\",\"domain\":[0.0,0.175],\"showgrid\":true},\"yaxis17\":{\"anchor\":\"x17\",\"domain\":[0.52,0.5840000000000001],\"showgrid\":true},\"xaxis18\":{\"anchor\":\"y18\",\"domain\":[0.275,0.45],\"showgrid\":true},\"yaxis18\":{\"anchor\":\"x18\",\"domain\":[0.52,0.5840000000000001],\"showgrid\":true},\"xaxis19\":{\"anchor\":\"y19\",\"domain\":[0.55,0.7250000000000001],\"showgrid\":true},\"yaxis19\":{\"anchor\":\"x19\",\"domain\":[0.52,0.5840000000000001],\"showgrid\":true},\"xaxis20\":{\"anchor\":\"y20\",\"domain\":[0.825,1.0],\"showgrid\":true},\"yaxis20\":{\"anchor\":\"x20\",\"domain\":[0.52,0.5840000000000001],\"showgrid\":true},\"xaxis21\":{\"anchor\":\"y21\",\"domain\":[0.0,0.175],\"showgrid\":true},\"yaxis21\":{\"anchor\":\"x21\",\"domain\":[0.41600000000000004,0.48000000000000004],\"showgrid\":true},\"xaxis22\":{\"anchor\":\"y22\",\"domain\":[0.275,0.45],\"showgrid\":true},\"yaxis22\":{\"anchor\":\"x22\",\"domain\":[0.41600000000000004,0.48000000000000004],\"showgrid\":true},\"xaxis23\":{\"anchor\":\"y23\",\"domain\":[0.55,0.7250000000000001],\"showgrid\":true},\"yaxis23\":{\"anchor\":\"x23\",\"domain\":[0.41600000000000004,0.48000000000000004],\"showgrid\":true},\"xaxis24\":{\"anchor\":\"y24\",\"domain\":[0.825,1.0],\"showgrid\":true},\"yaxis24\":{\"anchor\":\"x24\",\"domain\":[0.41600000000000004,0.48000000000000004],\"showgrid\":true},\"xaxis25\":{\"anchor\":\"y25\",\"domain\":[0.0,0.175],\"showgrid\":true},\"yaxis25\":{\"anchor\":\"x25\",\"domain\":[0.312,0.376],\"showgrid\":true},\"xaxis26\":{\"anchor\":\"y26\",\"domain\":[0.275,0.45],\"showgrid\":true},\"yaxis26\":{\"anchor\":\"x26\",\"domain\":[0.312,0.376],\"showgrid\":true},\"xaxis27\":{\"anchor\":\"y27\",\"domain\":[0.55,0.7250000000000001],\"showgrid\":true},\"yaxis27\":{\"anchor\":\"x27\",\"domain\":[0.312,0.376],\"showgrid\":true},\"xaxis28\":{\"anchor\":\"y28\",\"domain\":[0.825,1.0],\"showgrid\":true},\"yaxis28\":{\"anchor\":\"x28\",\"domain\":[0.312,0.376],\"showgrid\":true},\"xaxis29\":{\"anchor\":\"y29\",\"domain\":[0.0,0.175],\"showgrid\":true},\"yaxis29\":{\"anchor\":\"x29\",\"domain\":[0.20800000000000002,0.272],\"showgrid\":true},\"xaxis30\":{\"anchor\":\"y30\",\"domain\":[0.275,0.45],\"showgrid\":true},\"yaxis30\":{\"anchor\":\"x30\",\"domain\":[0.20800000000000002,0.272],\"showgrid\":true},\"xaxis31\":{\"anchor\":\"y31\",\"domain\":[0.55,0.7250000000000001],\"showgrid\":true},\"yaxis31\":{\"anchor\":\"x31\",\"domain\":[0.20800000000000002,0.272],\"showgrid\":true},\"xaxis32\":{\"anchor\":\"y32\",\"domain\":[0.825,1.0],\"showgrid\":true},\"yaxis32\":{\"anchor\":\"x32\",\"domain\":[0.20800000000000002,0.272],\"showgrid\":true},\"xaxis33\":{\"anchor\":\"y33\",\"domain\":[0.0,0.175],\"showgrid\":true},\"yaxis33\":{\"anchor\":\"x33\",\"domain\":[0.10400000000000001,0.168],\"showgrid\":true},\"xaxis34\":{\"anchor\":\"y34\",\"domain\":[0.275,0.45],\"showgrid\":true},\"yaxis34\":{\"anchor\":\"x34\",\"domain\":[0.10400000000000001,0.168],\"showgrid\":true},\"xaxis35\":{\"anchor\":\"y35\",\"domain\":[0.55,0.7250000000000001],\"showgrid\":true},\"yaxis35\":{\"anchor\":\"x35\",\"domain\":[0.10400000000000001,0.168],\"showgrid\":true},\"xaxis36\":{\"anchor\":\"y36\",\"domain\":[0.825,1.0],\"showgrid\":true},\"yaxis36\":{\"anchor\":\"x36\",\"domain\":[0.10400000000000001,0.168],\"showgrid\":true},\"xaxis37\":{\"anchor\":\"y37\",\"domain\":[0.0,0.175],\"showgrid\":true},\"yaxis37\":{\"anchor\":\"x37\",\"domain\":[0.0,0.064],\"showgrid\":true},\"xaxis38\":{\"anchor\":\"y38\",\"domain\":[0.275,0.45],\"showgrid\":true},\"yaxis38\":{\"anchor\":\"x38\",\"domain\":[0.0,0.064],\"showgrid\":true},\"xaxis39\":{\"anchor\":\"y39\",\"domain\":[0.55,0.7250000000000001],\"showgrid\":true},\"yaxis39\":{\"anchor\":\"x39\",\"domain\":[0.0,0.064],\"showgrid\":true},\"xaxis40\":{\"anchor\":\"y40\",\"domain\":[0.825,1.0],\"showgrid\":true},\"yaxis40\":{\"anchor\":\"x40\",\"domain\":[0.0,0.064],\"showgrid\":true},\"annotations\":[{\"font\":{\"size\":16},\"showarrow\":false,\"text\":\"Topic 0\",\"x\":0.0875,\"xanchor\":\"center\",\"xref\":\"paper\",\"y\":1.0,\"yanchor\":\"bottom\",\"yref\":\"paper\"},{\"font\":{\"size\":16},\"showarrow\":false,\"text\":\"Topic 1\",\"x\":0.36250000000000004,\"xanchor\":\"center\",\"xref\":\"paper\",\"y\":1.0,\"yanchor\":\"bottom\",\"yref\":\"paper\"},{\"font\":{\"size\":16},\"showarrow\":false,\"text\":\"Topic 2\",\"x\":0.6375000000000001,\"xanchor\":\"center\",\"xref\":\"paper\",\"y\":1.0,\"yanchor\":\"bottom\",\"yref\":\"paper\"},{\"font\":{\"size\":16},\"showarrow\":false,\"text\":\"Topic 3\",\"x\":0.9125,\"xanchor\":\"center\",\"xref\":\"paper\",\"y\":1.0,\"yanchor\":\"bottom\",\"yref\":\"paper\"},{\"font\":{\"size\":16},\"showarrow\":false,\"text\":\"Topic 4\",\"x\":0.0875,\"xanchor\":\"center\",\"xref\":\"paper\",\"y\":0.8960000000000001,\"yanchor\":\"bottom\",\"yref\":\"paper\"},{\"font\":{\"size\":16},\"showarrow\":false,\"text\":\"Topic 5\",\"x\":0.36250000000000004,\"xanchor\":\"center\",\"xref\":\"paper\",\"y\":0.8960000000000001,\"yanchor\":\"bottom\",\"yref\":\"paper\"},{\"font\":{\"size\":16},\"showarrow\":false,\"text\":\"Topic 6\",\"x\":0.6375000000000001,\"xanchor\":\"center\",\"xref\":\"paper\",\"y\":0.8960000000000001,\"yanchor\":\"bottom\",\"yref\":\"paper\"},{\"font\":{\"size\":16},\"showarrow\":false,\"text\":\"Topic 7\",\"x\":0.9125,\"xanchor\":\"center\",\"xref\":\"paper\",\"y\":0.8960000000000001,\"yanchor\":\"bottom\",\"yref\":\"paper\"},{\"font\":{\"size\":16},\"showarrow\":false,\"text\":\"Topic 8\",\"x\":0.0875,\"xanchor\":\"center\",\"xref\":\"paper\",\"y\":0.792,\"yanchor\":\"bottom\",\"yref\":\"paper\"},{\"font\":{\"size\":16},\"showarrow\":false,\"text\":\"Topic 9\",\"x\":0.36250000000000004,\"xanchor\":\"center\",\"xref\":\"paper\",\"y\":0.792,\"yanchor\":\"bottom\",\"yref\":\"paper\"},{\"font\":{\"size\":16},\"showarrow\":false,\"text\":\"Topic 10\",\"x\":0.6375000000000001,\"xanchor\":\"center\",\"xref\":\"paper\",\"y\":0.792,\"yanchor\":\"bottom\",\"yref\":\"paper\"},{\"font\":{\"size\":16},\"showarrow\":false,\"text\":\"Topic 11\",\"x\":0.9125,\"xanchor\":\"center\",\"xref\":\"paper\",\"y\":0.792,\"yanchor\":\"bottom\",\"yref\":\"paper\"},{\"font\":{\"size\":16},\"showarrow\":false,\"text\":\"Topic 12\",\"x\":0.0875,\"xanchor\":\"center\",\"xref\":\"paper\",\"y\":0.688,\"yanchor\":\"bottom\",\"yref\":\"paper\"},{\"font\":{\"size\":16},\"showarrow\":false,\"text\":\"Topic 13\",\"x\":0.36250000000000004,\"xanchor\":\"center\",\"xref\":\"paper\",\"y\":0.688,\"yanchor\":\"bottom\",\"yref\":\"paper\"},{\"font\":{\"size\":16},\"showarrow\":false,\"text\":\"Topic 14\",\"x\":0.6375000000000001,\"xanchor\":\"center\",\"xref\":\"paper\",\"y\":0.688,\"yanchor\":\"bottom\",\"yref\":\"paper\"},{\"font\":{\"size\":16},\"showarrow\":false,\"text\":\"Topic 15\",\"x\":0.9125,\"xanchor\":\"center\",\"xref\":\"paper\",\"y\":0.688,\"yanchor\":\"bottom\",\"yref\":\"paper\"},{\"font\":{\"size\":16},\"showarrow\":false,\"text\":\"Topic 16\",\"x\":0.0875,\"xanchor\":\"center\",\"xref\":\"paper\",\"y\":0.5840000000000001,\"yanchor\":\"bottom\",\"yref\":\"paper\"},{\"font\":{\"size\":16},\"showarrow\":false,\"text\":\"Topic 17\",\"x\":0.36250000000000004,\"xanchor\":\"center\",\"xref\":\"paper\",\"y\":0.5840000000000001,\"yanchor\":\"bottom\",\"yref\":\"paper\"},{\"font\":{\"size\":16},\"showarrow\":false,\"text\":\"Topic 18\",\"x\":0.6375000000000001,\"xanchor\":\"center\",\"xref\":\"paper\",\"y\":0.5840000000000001,\"yanchor\":\"bottom\",\"yref\":\"paper\"},{\"font\":{\"size\":16},\"showarrow\":false,\"text\":\"Topic 19\",\"x\":0.9125,\"xanchor\":\"center\",\"xref\":\"paper\",\"y\":0.5840000000000001,\"yanchor\":\"bottom\",\"yref\":\"paper\"},{\"font\":{\"size\":16},\"showarrow\":false,\"text\":\"Topic 20\",\"x\":0.0875,\"xanchor\":\"center\",\"xref\":\"paper\",\"y\":0.48000000000000004,\"yanchor\":\"bottom\",\"yref\":\"paper\"},{\"font\":{\"size\":16},\"showarrow\":false,\"text\":\"Topic 21\",\"x\":0.36250000000000004,\"xanchor\":\"center\",\"xref\":\"paper\",\"y\":0.48000000000000004,\"yanchor\":\"bottom\",\"yref\":\"paper\"},{\"font\":{\"size\":16},\"showarrow\":false,\"text\":\"Topic 22\",\"x\":0.6375000000000001,\"xanchor\":\"center\",\"xref\":\"paper\",\"y\":0.48000000000000004,\"yanchor\":\"bottom\",\"yref\":\"paper\"},{\"font\":{\"size\":16},\"showarrow\":false,\"text\":\"Topic 23\",\"x\":0.9125,\"xanchor\":\"center\",\"xref\":\"paper\",\"y\":0.48000000000000004,\"yanchor\":\"bottom\",\"yref\":\"paper\"},{\"font\":{\"size\":16},\"showarrow\":false,\"text\":\"Topic 24\",\"x\":0.0875,\"xanchor\":\"center\",\"xref\":\"paper\",\"y\":0.376,\"yanchor\":\"bottom\",\"yref\":\"paper\"},{\"font\":{\"size\":16},\"showarrow\":false,\"text\":\"Topic 25\",\"x\":0.36250000000000004,\"xanchor\":\"center\",\"xref\":\"paper\",\"y\":0.376,\"yanchor\":\"bottom\",\"yref\":\"paper\"},{\"font\":{\"size\":16},\"showarrow\":false,\"text\":\"Topic 26\",\"x\":0.6375000000000001,\"xanchor\":\"center\",\"xref\":\"paper\",\"y\":0.376,\"yanchor\":\"bottom\",\"yref\":\"paper\"},{\"font\":{\"size\":16},\"showarrow\":false,\"text\":\"Topic 27\",\"x\":0.9125,\"xanchor\":\"center\",\"xref\":\"paper\",\"y\":0.376,\"yanchor\":\"bottom\",\"yref\":\"paper\"},{\"font\":{\"size\":16},\"showarrow\":false,\"text\":\"Topic 28\",\"x\":0.0875,\"xanchor\":\"center\",\"xref\":\"paper\",\"y\":0.272,\"yanchor\":\"bottom\",\"yref\":\"paper\"},{\"font\":{\"size\":16},\"showarrow\":false,\"text\":\"Topic 29\",\"x\":0.36250000000000004,\"xanchor\":\"center\",\"xref\":\"paper\",\"y\":0.272,\"yanchor\":\"bottom\",\"yref\":\"paper\"},{\"font\":{\"size\":16},\"showarrow\":false,\"text\":\"Topic 30\",\"x\":0.6375000000000001,\"xanchor\":\"center\",\"xref\":\"paper\",\"y\":0.272,\"yanchor\":\"bottom\",\"yref\":\"paper\"},{\"font\":{\"size\":16},\"showarrow\":false,\"text\":\"Topic 31\",\"x\":0.9125,\"xanchor\":\"center\",\"xref\":\"paper\",\"y\":0.272,\"yanchor\":\"bottom\",\"yref\":\"paper\"},{\"font\":{\"size\":16},\"showarrow\":false,\"text\":\"Topic 32\",\"x\":0.0875,\"xanchor\":\"center\",\"xref\":\"paper\",\"y\":0.168,\"yanchor\":\"bottom\",\"yref\":\"paper\"},{\"font\":{\"size\":16},\"showarrow\":false,\"text\":\"Topic 33\",\"x\":0.36250000000000004,\"xanchor\":\"center\",\"xref\":\"paper\",\"y\":0.168,\"yanchor\":\"bottom\",\"yref\":\"paper\"},{\"font\":{\"size\":16},\"showarrow\":false,\"text\":\"Topic 34\",\"x\":0.6375000000000001,\"xanchor\":\"center\",\"xref\":\"paper\",\"y\":0.168,\"yanchor\":\"bottom\",\"yref\":\"paper\"},{\"font\":{\"size\":16},\"showarrow\":false,\"text\":\"Topic 35\",\"x\":0.9125,\"xanchor\":\"center\",\"xref\":\"paper\",\"y\":0.168,\"yanchor\":\"bottom\",\"yref\":\"paper\"},{\"font\":{\"size\":16},\"showarrow\":false,\"text\":\"Topic 36\",\"x\":0.0875,\"xanchor\":\"center\",\"xref\":\"paper\",\"y\":0.064,\"yanchor\":\"bottom\",\"yref\":\"paper\"},{\"font\":{\"size\":16},\"showarrow\":false,\"text\":\"Topic 37\",\"x\":0.36250000000000004,\"xanchor\":\"center\",\"xref\":\"paper\",\"y\":0.064,\"yanchor\":\"bottom\",\"yref\":\"paper\"},{\"font\":{\"size\":16},\"showarrow\":false,\"text\":\"Topic 38\",\"x\":0.6375000000000001,\"xanchor\":\"center\",\"xref\":\"paper\",\"y\":0.064,\"yanchor\":\"bottom\",\"yref\":\"paper\"}],\"title\":{\"font\":{\"size\":22,\"color\":\"Black\"},\"text\":\"All - Lack of Access to Health\\u002fMental Health Care\",\"x\":0.5,\"xanchor\":\"center\",\"yanchor\":\"top\"},\"hoverlabel\":{\"font\":{\"size\":16,\"family\":\"Rockwell\"},\"bgcolor\":\"white\"},\"showlegend\":false,\"width\":1000,\"height\":2500},                        {\"responsive\": true}                    )                };                            </script>        </div>"
      ],
      "text/plain": [
       "Figure({\n",
       "    'data': [{'marker': {'color': '#D55E00'},\n",
       "              'orientation': 'h',\n",
       "              'type': 'bar',\n",
       "              'x': [0.531216025352478, 0.5359881520271301, 0.5445011854171753,\n",
       "                    0.591168999671936, 0.6756203174591064],\n",
       "              'xaxis': 'x',\n",
       "              'y': [mental health  , mental illness  , suicides  , suicide attempt\n",
       "                    , suicide article  ],\n",
       "              'yaxis': 'y'},\n",
       "             {'marker': {'color': '#0072B2'},\n",
       "              'orientation': 'h',\n",
       "              'type': 'bar',\n",
       "              'x': [0.5484499931335449, 0.5567085146903992, 0.558721661567688,\n",
       "                    0.5652968287467957, 0.605559766292572],\n",
       "              'xaxis': 'x2',\n",
       "              'y': [attempted suicide  , suicides  , mental health  , suicide\n",
       "                    rates  , discusses suicide  ],\n",
       "              'yaxis': 'y2'},\n",
       "             {'marker': {'color': '#CC79A7'},\n",
       "              'orientation': 'h',\n",
       "              'type': 'bar',\n",
       "              'x': [0.4039679765701294, 0.4367721974849701, 0.4420381486415863,\n",
       "                    0.4493408799171448, 0.5100884437561035],\n",
       "              'xaxis': 'x3',\n",
       "              'y': [mentions shooter  , purchase guns  , mass shooting  , suicide\n",
       "                    , suicide article  ],\n",
       "              'yaxis': 'y3'},\n",
       "             {'marker': {'color': '#E69F00'},\n",
       "              'orientation': 'h',\n",
       "              'type': 'bar',\n",
       "              'x': [0.5289007425308228, 0.5573776364326477, 0.5654194355010986,\n",
       "                    0.5929934978485107, 0.6152620315551758],\n",
       "              'xaxis': 'x4',\n",
       "              'y': [issue suicide  , discusses suicide  , among veterans  ,\n",
       "                    suicide among  , suicides among  ],\n",
       "              'yaxis': 'y4'},\n",
       "             {'marker': {'color': '#56B4E9'},\n",
       "              'orientation': 'h',\n",
       "              'type': 'bar',\n",
       "              'x': [0.4119448959827423, 0.4190005660057068, 0.42093464732170105,\n",
       "                    0.43280357122421265, 0.4362477660179138],\n",
       "              'xaxis': 'x5',\n",
       "              'y': [cause suicide  , concussions  , encephalopathy  , mentions\n",
       "                    adams  , phillip adams  ],\n",
       "              'yaxis': 'y5'},\n",
       "             {'marker': {'color': '#009E73'},\n",
       "              'orientation': 'h',\n",
       "              'type': 'bar',\n",
       "              'x': [0.4589979648590088, 0.45979195833206177, 0.49515601992607117,\n",
       "                    0.5077451467514038, 0.5087687969207764],\n",
       "              'xaxis': 'x6',\n",
       "              'y': [terminal cancer  , opioid addiction  , drug overdose  ,\n",
       "                    overdoses  , terminal illness  ],\n",
       "              'yaxis': 'y6'},\n",
       "             {'marker': {'color': '#F0E442'},\n",
       "              'orientation': 'h',\n",
       "              'type': 'bar',\n",
       "              'x': [0.3976864814758301, 0.39926570653915405, 0.41384997963905334,\n",
       "                    0.4261173605918884, 0.4359435737133026],\n",
       "              'xaxis': 'x7',\n",
       "              'y': [suggests suicide  , mental health  , suicide  , traumatic\n",
       "                    stress  , suicides  ],\n",
       "              'yaxis': 'y7'},\n",
       "             {'marker': {'color': '#D55E00'},\n",
       "              'orientation': 'h',\n",
       "              'type': 'bar',\n",
       "              'x': [0.4793442487716675, 0.4937523305416107, 0.5129443407058716,\n",
       "                    0.5423488020896912, 0.5443166494369507],\n",
       "              'xaxis': 'x8',\n",
       "              'y': [shootings  , suicides  , gun violence  , mental health  , mass\n",
       "                    shooting  ],\n",
       "              'yaxis': 'y8'},\n",
       "             {'marker': {'color': '#0072B2'},\n",
       "              'orientation': 'h',\n",
       "              'type': 'bar',\n",
       "              'x': [0.5640213489532471, 0.5714513659477234, 0.5746006965637207,\n",
       "                    0.575525164604187, 0.6558021306991577],\n",
       "              'xaxis': 'x9',\n",
       "              'y': [among transgender  , transgender people  , transgender\n",
       "                    children  , transgender individuals  , transgender youth  ],\n",
       "              'yaxis': 'y9'},\n",
       "             {'marker': {'color': '#CC79A7'},\n",
       "              'orientation': 'h',\n",
       "              'type': 'bar',\n",
       "              'x': [0.5158429145812988, 0.527057409286499, 0.5318924784660339,\n",
       "                    0.5397862195968628, 0.5711789131164551],\n",
       "              'xaxis': 'x10',\n",
       "              'y': [covid article  , covid 19  , covid infection  , covid  , long\n",
       "                    covid  ],\n",
       "              'yaxis': 'y10'},\n",
       "             {'marker': {'color': '#E69F00'},\n",
       "              'orientation': 'h',\n",
       "              'type': 'bar',\n",
       "              'x': [0.6178365349769592, 0.6590057015419006, 0.683862030506134,\n",
       "                    0.7037882804870605, 0.7220101356506348],\n",
       "              'xaxis': 'x11',\n",
       "              'y': [assistance dying  , euthanasia due  , euthanasia  , assisted\n",
       "                    death  , assisted suicide  ],\n",
       "              'yaxis': 'y11'},\n",
       "             {'marker': {'color': '#56B4E9'},\n",
       "              'orientation': 'h',\n",
       "              'type': 'bar',\n",
       "              'x': [0.40881282091140747, 0.4410160779953003, 0.45496582984924316,\n",
       "                    0.5250500440597534, 0.5480231046676636],\n",
       "              'xaxis': 'x12',\n",
       "              'y': [mental illness  , sherman former  , sherman  , sherman\n",
       "                    drinking  , richard sherman  ],\n",
       "              'yaxis': 'y12'},\n",
       "             {'marker': {'color': '#009E73'},\n",
       "              'orientation': 'h',\n",
       "              'type': 'bar',\n",
       "              'x': [0.4829903542995453, 0.4837024211883545, 0.5130397081375122,\n",
       "                    0.5269250273704529, 0.5546502470970154],\n",
       "              'xaxis': 'x13',\n",
       "              'y': [committed suicide  , naomi judd  , suicide article  , judd\n",
       "                    killed  , judd died  ],\n",
       "              'yaxis': 'y13'},\n",
       "             {'marker': {'color': '#F0E442'},\n",
       "              'orientation': 'h',\n",
       "              'type': 'bar',\n",
       "              'x': [0.47355684638023376, 0.48590946197509766, 0.4989832043647766,\n",
       "                    0.5176600813865662, 0.5846022367477417],\n",
       "              'xaxis': 'x14',\n",
       "              'y': [suicides  , suicides ensuing  , traumatic stress  , ptsd\n",
       "                    suicidal  , increased suicides  ],\n",
       "              'yaxis': 'y14'},\n",
       "             {'marker': {'color': '#D55E00'},\n",
       "              'orientation': 'h',\n",
       "              'type': 'bar',\n",
       "              'x': [0.566972553730011, 0.571304202079773, 0.5925952196121216,\n",
       "                    0.5931558609008789, 0.5982994437217712],\n",
       "              'xaxis': 'x15',\n",
       "              'y': [abortion services  , following abortions  , abortion  , roe\n",
       "                    wade  , abortions  ],\n",
       "              'yaxis': 'y15'},\n",
       "             {'marker': {'color': '#0072B2'},\n",
       "              'orientation': 'h',\n",
       "              'type': 'bar',\n",
       "              'x': [0.426746129989624, 0.47818300127983093, 0.5369322299957275,\n",
       "                    0.6270879507064819, 0.651443362236023],\n",
       "              'xaxis': 'x16',\n",
       "              'y': [father suicide  , leader died  , harry reid  , reid died  ,\n",
       "                    reid death  ],\n",
       "              'yaxis': 'y16'},\n",
       "             {'marker': {'color': '#CC79A7'},\n",
       "              'orientation': 'h',\n",
       "              'type': 'bar',\n",
       "              'x': [0.42659735679626465, 0.4308788776397705, 0.4443552792072296,\n",
       "                    0.46821218729019165, 0.5218060612678528],\n",
       "              'xaxis': 'x17',\n",
       "              'y': [health struggles  , wife meghan  , suicidal thoughts  , harry\n",
       "                    wife  , mental health  ],\n",
       "              'yaxis': 'y17'},\n",
       "             {'marker': {'color': '#E69F00'},\n",
       "              'orientation': 'h',\n",
       "              'type': 'bar',\n",
       "              'x': [0.4277009665966034, 0.45604854822158813, 0.4911653399467468,\n",
       "                    0.5364491939544678, 0.5556826591491699],\n",
       "              'xaxis': 'x18',\n",
       "              'y': [cause suicide  , suicide  , tommy raskin  , suicide related  ,\n",
       "                    reason suicide  ],\n",
       "              'yaxis': 'y18'},\n",
       "             {'marker': {'color': '#56B4E9'},\n",
       "              'orientation': 'h',\n",
       "              'type': 'bar',\n",
       "              'x': [0.44413110613822937, 0.44535285234451294, 0.4758424460887909,\n",
       "                    0.4876623749732971, 0.5161287784576416],\n",
       "              'xaxis': 'x19',\n",
       "              'y': [article health  , mental health  , reportedly suicidal  ,\n",
       "                    suicide restraining  , threatened suicide  ],\n",
       "              'yaxis': 'y19'},\n",
       "             {'marker': {'color': '#009E73'},\n",
       "              'orientation': 'h',\n",
       "              'type': 'bar',\n",
       "              'x': [0.47061461210250854, 0.48584604263305664, 0.4954584836959839,\n",
       "                    0.5404131412506104, 0.5492324829101562],\n",
       "              'xaxis': 'x20',\n",
       "              'y': [high suicide  , indigenous communities  , suicide rates  ,\n",
       "                    suicide prevention  , prevention indigenous  ],\n",
       "              'yaxis': 'y20'},\n",
       "             {'marker': {'color': '#F0E442'},\n",
       "              'orientation': 'h',\n",
       "              'type': 'bar',\n",
       "              'x': [0.5009626150131226, 0.5138344764709473, 0.5548034906387329,\n",
       "                    0.5573989152908325, 0.6463451981544495],\n",
       "              'xaxis': 'x21',\n",
       "              'y': [britney  , britney spears  , jean suicide  , spears\n",
       "                    grandmother  , suicide britney  ],\n",
       "              'yaxis': 'y21'},\n",
       "             {'marker': {'color': '#D55E00'},\n",
       "              'orientation': 'h',\n",
       "              'type': 'bar',\n",
       "              'x': [0.3776336908340454, 0.4010879695415497, 0.410564124584198,\n",
       "                    0.4176782965660095, 0.4759836494922638],\n",
       "              'xaxis': 'x22',\n",
       "              'y': [taylor founder  , suicide due  , suicide  , suicide suffering\n",
       "                    , died suicide  ],\n",
       "              'yaxis': 'y22'},\n",
       "             {'marker': {'color': '#0072B2'},\n",
       "              'orientation': 'h',\n",
       "              'type': 'bar',\n",
       "              'x': [0.44193997979164124, 0.44854116439819336, 0.4579145014286041,\n",
       "                    0.4693012833595276, 0.48708632588386536],\n",
       "              'xaxis': 'x23',\n",
       "              'y': [self harm  , mental health  , suicide  , eating disorders  ,\n",
       "                    health teenagers  ],\n",
       "              'yaxis': 'y23'},\n",
       "             {'marker': {'color': '#CC79A7'},\n",
       "              'orientation': 'h',\n",
       "              'type': 'bar',\n",
       "              'x': [0.45148855447769165, 0.4576057493686676, 0.4828052222728729,\n",
       "                    0.4977734386920929, 0.5096613168716431],\n",
       "              'xaxis': 'x24',\n",
       "              'y': [suicide  , dementia  , committed suicide  , robin williams  ,\n",
       "                    suicide actor  ],\n",
       "              'yaxis': 'y24'},\n",
       "             {'marker': {'color': '#E69F00'},\n",
       "              'orientation': 'h',\n",
       "              'type': 'bar',\n",
       "              'x': [0.4778904616832733, 0.48974859714508057, 0.49659669399261475,\n",
       "                    0.4995403587818146, 0.626258134841919],\n",
       "              'xaxis': 'x25',\n",
       "              'y': [suicidal behavior  , robert fuller  , suicide article  ,\n",
       "                    suicide related  , fuller suicide  ],\n",
       "              'yaxis': 'y25'},\n",
       "             {'marker': {'color': '#56B4E9'},\n",
       "              'orientation': 'h',\n",
       "              'type': 'bar',\n",
       "              'x': [0.5176891088485718, 0.5270959138870239, 0.5497362613677979,\n",
       "                    0.5641962885856628, 0.5673882961273193],\n",
       "              'xaxis': 'x26',\n",
       "              'y': [mentions assange  , assange facing  , assange  , julian\n",
       "                    assange  , assange mental  ],\n",
       "              'yaxis': 'y26'},\n",
       "             {'marker': {'color': '#009E73'},\n",
       "              'orientation': 'h',\n",
       "              'type': 'bar',\n",
       "              'x': [0.4762495756149292, 0.4942537546157837, 0.498596727848053,\n",
       "                    0.5026764869689941, 0.5464041233062744],\n",
       "              'xaxis': 'x27',\n",
       "              'y': [financial stress  , depression  , suffering depression  ,\n",
       "                    depression financial  , mental health  ],\n",
       "              'yaxis': 'y27'},\n",
       "             {'marker': {'color': '#F0E442'},\n",
       "              'orientation': 'h',\n",
       "              'type': 'bar',\n",
       "              'x': [0.3999564051628113, 0.42775067687034607, 0.4388105273246765,\n",
       "                    0.4592934846878052, 0.47136902809143066],\n",
       "              'xaxis': 'x28',\n",
       "              'y': [armed dangerous  , accessing firearms  , perceived threats  ,\n",
       "                    suicide cop  , firearms individuals  ],\n",
       "              'yaxis': 'y28'},\n",
       "             {'marker': {'color': '#D55E00'},\n",
       "              'orientation': 'h',\n",
       "              'type': 'bar',\n",
       "              'x': [0.5658901333808899, 0.5849828124046326, 0.5910305380821228,\n",
       "                    0.6185029745101929, 0.6450340747833252],\n",
       "              'xaxis': 'x29',\n",
       "              'y': [theodore kaczynski  , kaczynski  , mentions kaczynski  , ted\n",
       "                    kaczynski  , kaczynski health  ],\n",
       "              'yaxis': 'y29'},\n",
       "             {'marker': {'color': '#0072B2'},\n",
       "              'orientation': 'h',\n",
       "              'type': 'bar',\n",
       "              'x': [0.37812018394470215, 0.3897560238838196, 0.4221768081188202,\n",
       "                    0.4237411618232727, 0.48547086119651794],\n",
       "              'xaxis': 'x30',\n",
       "              'y': [murdaugh misappropriated  , mentions murdaugh  , alex murdaugh\n",
       "                    , insurance fraud  , murdaugh lawyer  ],\n",
       "              'yaxis': 'y30'},\n",
       "             {'marker': {'color': '#CC79A7'},\n",
       "              'orientation': 'h',\n",
       "              'type': 'bar',\n",
       "              'x': [0.5101032257080078, 0.5345906615257263, 0.5522753596305847,\n",
       "                    0.5566381812095642, 0.6056132316589355],\n",
       "              'xaxis': 'x31',\n",
       "              'y': [aids  , hiv aids  , lived hiv  , wisler hiv  , aids crisis  ],\n",
       "              'yaxis': 'y31'},\n",
       "             {'marker': {'color': '#E69F00'},\n",
       "              'orientation': 'h',\n",
       "              'type': 'bar',\n",
       "              'x': [0.45344042778015137, 0.45397692918777466, 0.4655412435531616,\n",
       "                    0.48691123723983765, 0.48921358585357666],\n",
       "              'xaxis': 'x32',\n",
       "              'y': [ai  , suicide case  , ai providing  , potential ai  , suicide\n",
       "                    article  ],\n",
       "              'yaxis': 'y32'},\n",
       "             {'marker': {'color': '#56B4E9'},\n",
       "              'orientation': 'h',\n",
       "              'type': 'bar',\n",
       "              'x': [0.3954664170742035, 0.39958229660987854, 0.42155957221984863,\n",
       "                    0.4222508370876312, 0.5348045825958252],\n",
       "              'xaxis': 'x33',\n",
       "              'y': [room business  , mental health  , cause suicide  , suicide\n",
       "                    article  , rage room  ],\n",
       "              'yaxis': 'y33'},\n",
       "             {'marker': {'color': '#009E73'},\n",
       "              'orientation': 'h',\n",
       "              'type': 'bar',\n",
       "              'x': [0.3554232716560364, 0.3882986307144165, 0.4366764724254608,\n",
       "                    0.5251143574714661, 0.537527859210968],\n",
       "              'xaxis': 'x34',\n",
       "              'y': [contributed death  , wife death  , meisner  , meisner\n",
       "                    diagnosed  , randy meisner  ],\n",
       "              'yaxis': 'y34'},\n",
       "             {'marker': {'color': '#F0E442'},\n",
       "              'orientation': 'h',\n",
       "              'type': 'bar',\n",
       "              'x': [0.5696665048599243, 0.5789923667907715, 0.5876237750053406,\n",
       "                    0.6180617213249207, 0.6739856004714966],\n",
       "              'xaxis': 'x35',\n",
       "              'y': [suicide author  , carter died  , brother suicide  , reason\n",
       "                    suicide  , carter suicide  ],\n",
       "              'yaxis': 'y35'},\n",
       "             {'marker': {'color': '#D55E00'},\n",
       "              'orientation': 'h',\n",
       "              'type': 'bar',\n",
       "              'x': [0.4346180558204651, 0.4566560685634613, 0.4569769501686096,\n",
       "                    0.4714473783969879, 0.5326240062713623],\n",
       "              'xaxis': 'x36',\n",
       "              'y': [committed suicide  , depression mental  , depression  ,\n",
       "                    suicide  , mental health  ],\n",
       "              'yaxis': 'y36'},\n",
       "             {'marker': {'color': '#0072B2'},\n",
       "              'orientation': 'h',\n",
       "              'type': 'bar',\n",
       "              'x': [0.37736567854881287, 0.42196840047836304, 0.428434818983078,\n",
       "                    0.4623870849609375, 0.5979085564613342],\n",
       "              'xaxis': 'x37',\n",
       "              'y': [severe anxiety  , abby broyles  , mental health  , suicide  ,\n",
       "                    suicide attempt  ],\n",
       "              'yaxis': 'y37'},\n",
       "             {'marker': {'color': '#CC79A7'},\n",
       "              'orientation': 'h',\n",
       "              'type': 'bar',\n",
       "              'x': [0.5155880451202393, 0.5613969564437866, 0.5657079219818115,\n",
       "                    0.5863549709320068, 0.61344975233078],\n",
       "              'xaxis': 'x38',\n",
       "              'y': [gogh artist  , gogh shot  , van gogh  , gogh struggled  , gogh\n",
       "                    suffered  ],\n",
       "              'yaxis': 'y38'},\n",
       "             {'marker': {'color': '#E69F00'},\n",
       "              'orientation': 'h',\n",
       "              'type': 'bar',\n",
       "              'x': [0.2977660000324249, 0.35853761434555054, 0.36027586460113525,\n",
       "                    0.45214587450027466, 0.4995265603065491],\n",
       "              'xaxis': 'x39',\n",
       "              'y': [luther  , king jr  , mental health  , martin luther  , luther\n",
       "                    king  ],\n",
       "              'yaxis': 'y39'}],\n",
       "    'layout': {'annotations': [{'font': {'size': 16},\n",
       "                                'showarrow': False,\n",
       "                                'text': 'Topic 0',\n",
       "                                'x': 0.0875,\n",
       "                                'xanchor': 'center',\n",
       "                                'xref': 'paper',\n",
       "                                'y': 1.0,\n",
       "                                'yanchor': 'bottom',\n",
       "                                'yref': 'paper'},\n",
       "                               {'font': {'size': 16},\n",
       "                                'showarrow': False,\n",
       "                                'text': 'Topic 1',\n",
       "                                'x': 0.36250000000000004,\n",
       "                                'xanchor': 'center',\n",
       "                                'xref': 'paper',\n",
       "                                'y': 1.0,\n",
       "                                'yanchor': 'bottom',\n",
       "                                'yref': 'paper'},\n",
       "                               {'font': {'size': 16},\n",
       "                                'showarrow': False,\n",
       "                                'text': 'Topic 2',\n",
       "                                'x': 0.6375000000000001,\n",
       "                                'xanchor': 'center',\n",
       "                                'xref': 'paper',\n",
       "                                'y': 1.0,\n",
       "                                'yanchor': 'bottom',\n",
       "                                'yref': 'paper'},\n",
       "                               {'font': {'size': 16},\n",
       "                                'showarrow': False,\n",
       "                                'text': 'Topic 3',\n",
       "                                'x': 0.9125,\n",
       "                                'xanchor': 'center',\n",
       "                                'xref': 'paper',\n",
       "                                'y': 1.0,\n",
       "                                'yanchor': 'bottom',\n",
       "                                'yref': 'paper'},\n",
       "                               {'font': {'size': 16},\n",
       "                                'showarrow': False,\n",
       "                                'text': 'Topic 4',\n",
       "                                'x': 0.0875,\n",
       "                                'xanchor': 'center',\n",
       "                                'xref': 'paper',\n",
       "                                'y': 0.8960000000000001,\n",
       "                                'yanchor': 'bottom',\n",
       "                                'yref': 'paper'},\n",
       "                               {'font': {'size': 16},\n",
       "                                'showarrow': False,\n",
       "                                'text': 'Topic 5',\n",
       "                                'x': 0.36250000000000004,\n",
       "                                'xanchor': 'center',\n",
       "                                'xref': 'paper',\n",
       "                                'y': 0.8960000000000001,\n",
       "                                'yanchor': 'bottom',\n",
       "                                'yref': 'paper'},\n",
       "                               {'font': {'size': 16},\n",
       "                                'showarrow': False,\n",
       "                                'text': 'Topic 6',\n",
       "                                'x': 0.6375000000000001,\n",
       "                                'xanchor': 'center',\n",
       "                                'xref': 'paper',\n",
       "                                'y': 0.8960000000000001,\n",
       "                                'yanchor': 'bottom',\n",
       "                                'yref': 'paper'},\n",
       "                               {'font': {'size': 16},\n",
       "                                'showarrow': False,\n",
       "                                'text': 'Topic 7',\n",
       "                                'x': 0.9125,\n",
       "                                'xanchor': 'center',\n",
       "                                'xref': 'paper',\n",
       "                                'y': 0.8960000000000001,\n",
       "                                'yanchor': 'bottom',\n",
       "                                'yref': 'paper'},\n",
       "                               {'font': {'size': 16},\n",
       "                                'showarrow': False,\n",
       "                                'text': 'Topic 8',\n",
       "                                'x': 0.0875,\n",
       "                                'xanchor': 'center',\n",
       "                                'xref': 'paper',\n",
       "                                'y': 0.792,\n",
       "                                'yanchor': 'bottom',\n",
       "                                'yref': 'paper'},\n",
       "                               {'font': {'size': 16},\n",
       "                                'showarrow': False,\n",
       "                                'text': 'Topic 9',\n",
       "                                'x': 0.36250000000000004,\n",
       "                                'xanchor': 'center',\n",
       "                                'xref': 'paper',\n",
       "                                'y': 0.792,\n",
       "                                'yanchor': 'bottom',\n",
       "                                'yref': 'paper'},\n",
       "                               {'font': {'size': 16},\n",
       "                                'showarrow': False,\n",
       "                                'text': 'Topic 10',\n",
       "                                'x': 0.6375000000000001,\n",
       "                                'xanchor': 'center',\n",
       "                                'xref': 'paper',\n",
       "                                'y': 0.792,\n",
       "                                'yanchor': 'bottom',\n",
       "                                'yref': 'paper'},\n",
       "                               {'font': {'size': 16},\n",
       "                                'showarrow': False,\n",
       "                                'text': 'Topic 11',\n",
       "                                'x': 0.9125,\n",
       "                                'xanchor': 'center',\n",
       "                                'xref': 'paper',\n",
       "                                'y': 0.792,\n",
       "                                'yanchor': 'bottom',\n",
       "                                'yref': 'paper'},\n",
       "                               {'font': {'size': 16},\n",
       "                                'showarrow': False,\n",
       "                                'text': 'Topic 12',\n",
       "                                'x': 0.0875,\n",
       "                                'xanchor': 'center',\n",
       "                                'xref': 'paper',\n",
       "                                'y': 0.688,\n",
       "                                'yanchor': 'bottom',\n",
       "                                'yref': 'paper'},\n",
       "                               {'font': {'size': 16},\n",
       "                                'showarrow': False,\n",
       "                                'text': 'Topic 13',\n",
       "                                'x': 0.36250000000000004,\n",
       "                                'xanchor': 'center',\n",
       "                                'xref': 'paper',\n",
       "                                'y': 0.688,\n",
       "                                'yanchor': 'bottom',\n",
       "                                'yref': 'paper'},\n",
       "                               {'font': {'size': 16},\n",
       "                                'showarrow': False,\n",
       "                                'text': 'Topic 14',\n",
       "                                'x': 0.6375000000000001,\n",
       "                                'xanchor': 'center',\n",
       "                                'xref': 'paper',\n",
       "                                'y': 0.688,\n",
       "                                'yanchor': 'bottom',\n",
       "                                'yref': 'paper'},\n",
       "                               {'font': {'size': 16},\n",
       "                                'showarrow': False,\n",
       "                                'text': 'Topic 15',\n",
       "                                'x': 0.9125,\n",
       "                                'xanchor': 'center',\n",
       "                                'xref': 'paper',\n",
       "                                'y': 0.688,\n",
       "                                'yanchor': 'bottom',\n",
       "                                'yref': 'paper'},\n",
       "                               {'font': {'size': 16},\n",
       "                                'showarrow': False,\n",
       "                                'text': 'Topic 16',\n",
       "                                'x': 0.0875,\n",
       "                                'xanchor': 'center',\n",
       "                                'xref': 'paper',\n",
       "                                'y': 0.5840000000000001,\n",
       "                                'yanchor': 'bottom',\n",
       "                                'yref': 'paper'},\n",
       "                               {'font': {'size': 16},\n",
       "                                'showarrow': False,\n",
       "                                'text': 'Topic 17',\n",
       "                                'x': 0.36250000000000004,\n",
       "                                'xanchor': 'center',\n",
       "                                'xref': 'paper',\n",
       "                                'y': 0.5840000000000001,\n",
       "                                'yanchor': 'bottom',\n",
       "                                'yref': 'paper'},\n",
       "                               {'font': {'size': 16},\n",
       "                                'showarrow': False,\n",
       "                                'text': 'Topic 18',\n",
       "                                'x': 0.6375000000000001,\n",
       "                                'xanchor': 'center',\n",
       "                                'xref': 'paper',\n",
       "                                'y': 0.5840000000000001,\n",
       "                                'yanchor': 'bottom',\n",
       "                                'yref': 'paper'},\n",
       "                               {'font': {'size': 16},\n",
       "                                'showarrow': False,\n",
       "                                'text': 'Topic 19',\n",
       "                                'x': 0.9125,\n",
       "                                'xanchor': 'center',\n",
       "                                'xref': 'paper',\n",
       "                                'y': 0.5840000000000001,\n",
       "                                'yanchor': 'bottom',\n",
       "                                'yref': 'paper'},\n",
       "                               {'font': {'size': 16},\n",
       "                                'showarrow': False,\n",
       "                                'text': 'Topic 20',\n",
       "                                'x': 0.0875,\n",
       "                                'xanchor': 'center',\n",
       "                                'xref': 'paper',\n",
       "                                'y': 0.48000000000000004,\n",
       "                                'yanchor': 'bottom',\n",
       "                                'yref': 'paper'},\n",
       "                               {'font': {'size': 16},\n",
       "                                'showarrow': False,\n",
       "                                'text': 'Topic 21',\n",
       "                                'x': 0.36250000000000004,\n",
       "                                'xanchor': 'center',\n",
       "                                'xref': 'paper',\n",
       "                                'y': 0.48000000000000004,\n",
       "                                'yanchor': 'bottom',\n",
       "                                'yref': 'paper'},\n",
       "                               {'font': {'size': 16},\n",
       "                                'showarrow': False,\n",
       "                                'text': 'Topic 22',\n",
       "                                'x': 0.6375000000000001,\n",
       "                                'xanchor': 'center',\n",
       "                                'xref': 'paper',\n",
       "                                'y': 0.48000000000000004,\n",
       "                                'yanchor': 'bottom',\n",
       "                                'yref': 'paper'},\n",
       "                               {'font': {'size': 16},\n",
       "                                'showarrow': False,\n",
       "                                'text': 'Topic 23',\n",
       "                                'x': 0.9125,\n",
       "                                'xanchor': 'center',\n",
       "                                'xref': 'paper',\n",
       "                                'y': 0.48000000000000004,\n",
       "                                'yanchor': 'bottom',\n",
       "                                'yref': 'paper'},\n",
       "                               {'font': {'size': 16},\n",
       "                                'showarrow': False,\n",
       "                                'text': 'Topic 24',\n",
       "                                'x': 0.0875,\n",
       "                                'xanchor': 'center',\n",
       "                                'xref': 'paper',\n",
       "                                'y': 0.376,\n",
       "                                'yanchor': 'bottom',\n",
       "                                'yref': 'paper'},\n",
       "                               {'font': {'size': 16},\n",
       "                                'showarrow': False,\n",
       "                                'text': 'Topic 25',\n",
       "                                'x': 0.36250000000000004,\n",
       "                                'xanchor': 'center',\n",
       "                                'xref': 'paper',\n",
       "                                'y': 0.376,\n",
       "                                'yanchor': 'bottom',\n",
       "                                'yref': 'paper'},\n",
       "                               {'font': {'size': 16},\n",
       "                                'showarrow': False,\n",
       "                                'text': 'Topic 26',\n",
       "                                'x': 0.6375000000000001,\n",
       "                                'xanchor': 'center',\n",
       "                                'xref': 'paper',\n",
       "                                'y': 0.376,\n",
       "                                'yanchor': 'bottom',\n",
       "                                'yref': 'paper'},\n",
       "                               {'font': {'size': 16},\n",
       "                                'showarrow': False,\n",
       "                                'text': 'Topic 27',\n",
       "                                'x': 0.9125,\n",
       "                                'xanchor': 'center',\n",
       "                                'xref': 'paper',\n",
       "                                'y': 0.376,\n",
       "                                'yanchor': 'bottom',\n",
       "                                'yref': 'paper'},\n",
       "                               {'font': {'size': 16},\n",
       "                                'showarrow': False,\n",
       "                                'text': 'Topic 28',\n",
       "                                'x': 0.0875,\n",
       "                                'xanchor': 'center',\n",
       "                                'xref': 'paper',\n",
       "                                'y': 0.272,\n",
       "                                'yanchor': 'bottom',\n",
       "                                'yref': 'paper'},\n",
       "                               {'font': {'size': 16},\n",
       "                                'showarrow': False,\n",
       "                                'text': 'Topic 29',\n",
       "                                'x': 0.36250000000000004,\n",
       "                                'xanchor': 'center',\n",
       "                                'xref': 'paper',\n",
       "                                'y': 0.272,\n",
       "                                'yanchor': 'bottom',\n",
       "                                'yref': 'paper'},\n",
       "                               {'font': {'size': 16},\n",
       "                                'showarrow': False,\n",
       "                                'text': 'Topic 30',\n",
       "                                'x': 0.6375000000000001,\n",
       "                                'xanchor': 'center',\n",
       "                                'xref': 'paper',\n",
       "                                'y': 0.272,\n",
       "                                'yanchor': 'bottom',\n",
       "                                'yref': 'paper'},\n",
       "                               {'font': {'size': 16},\n",
       "                                'showarrow': False,\n",
       "                                'text': 'Topic 31',\n",
       "                                'x': 0.9125,\n",
       "                                'xanchor': 'center',\n",
       "                                'xref': 'paper',\n",
       "                                'y': 0.272,\n",
       "                                'yanchor': 'bottom',\n",
       "                                'yref': 'paper'},\n",
       "                               {'font': {'size': 16},\n",
       "                                'showarrow': False,\n",
       "                                'text': 'Topic 32',\n",
       "                                'x': 0.0875,\n",
       "                                'xanchor': 'center',\n",
       "                                'xref': 'paper',\n",
       "                                'y': 0.168,\n",
       "                                'yanchor': 'bottom',\n",
       "                                'yref': 'paper'},\n",
       "                               {'font': {'size': 16},\n",
       "                                'showarrow': False,\n",
       "                                'text': 'Topic 33',\n",
       "                                'x': 0.36250000000000004,\n",
       "                                'xanchor': 'center',\n",
       "                                'xref': 'paper',\n",
       "                                'y': 0.168,\n",
       "                                'yanchor': 'bottom',\n",
       "                                'yref': 'paper'},\n",
       "                               {'font': {'size': 16},\n",
       "                                'showarrow': False,\n",
       "                                'text': 'Topic 34',\n",
       "                                'x': 0.6375000000000001,\n",
       "                                'xanchor': 'center',\n",
       "                                'xref': 'paper',\n",
       "                                'y': 0.168,\n",
       "                                'yanchor': 'bottom',\n",
       "                                'yref': 'paper'},\n",
       "                               {'font': {'size': 16},\n",
       "                                'showarrow': False,\n",
       "                                'text': 'Topic 35',\n",
       "                                'x': 0.9125,\n",
       "                                'xanchor': 'center',\n",
       "                                'xref': 'paper',\n",
       "                                'y': 0.168,\n",
       "                                'yanchor': 'bottom',\n",
       "                                'yref': 'paper'},\n",
       "                               {'font': {'size': 16},\n",
       "                                'showarrow': False,\n",
       "                                'text': 'Topic 36',\n",
       "                                'x': 0.0875,\n",
       "                                'xanchor': 'center',\n",
       "                                'xref': 'paper',\n",
       "                                'y': 0.064,\n",
       "                                'yanchor': 'bottom',\n",
       "                                'yref': 'paper'},\n",
       "                               {'font': {'size': 16},\n",
       "                                'showarrow': False,\n",
       "                                'text': 'Topic 37',\n",
       "                                'x': 0.36250000000000004,\n",
       "                                'xanchor': 'center',\n",
       "                                'xref': 'paper',\n",
       "                                'y': 0.064,\n",
       "                                'yanchor': 'bottom',\n",
       "                                'yref': 'paper'},\n",
       "                               {'font': {'size': 16},\n",
       "                                'showarrow': False,\n",
       "                                'text': 'Topic 38',\n",
       "                                'x': 0.6375000000000001,\n",
       "                                'xanchor': 'center',\n",
       "                                'xref': 'paper',\n",
       "                                'y': 0.064,\n",
       "                                'yanchor': 'bottom',\n",
       "                                'yref': 'paper'}],\n",
       "               'height': 2500,\n",
       "               'hoverlabel': {'bgcolor': 'white', 'font': {'family': 'Rockwell', 'size': 16}},\n",
       "               'showlegend': False,\n",
       "               'template': '...',\n",
       "               'title': {'font': {'color': 'Black', 'size': 22},\n",
       "                         'text': 'All - Lack of Access to Health/Mental Health Care',\n",
       "                         'x': 0.5,\n",
       "                         'xanchor': 'center',\n",
       "                         'yanchor': 'top'},\n",
       "               'width': 1000,\n",
       "               'xaxis': {'anchor': 'y', 'domain': [0.0, 0.175], 'showgrid': True},\n",
       "               'xaxis10': {'anchor': 'y10', 'domain': [0.275, 0.45], 'showgrid': True},\n",
       "               'xaxis11': {'anchor': 'y11', 'domain': [0.55, 0.7250000000000001], 'showgrid': True},\n",
       "               'xaxis12': {'anchor': 'y12', 'domain': [0.825, 1.0], 'showgrid': True},\n",
       "               'xaxis13': {'anchor': 'y13', 'domain': [0.0, 0.175], 'showgrid': True},\n",
       "               'xaxis14': {'anchor': 'y14', 'domain': [0.275, 0.45], 'showgrid': True},\n",
       "               'xaxis15': {'anchor': 'y15', 'domain': [0.55, 0.7250000000000001], 'showgrid': True},\n",
       "               'xaxis16': {'anchor': 'y16', 'domain': [0.825, 1.0], 'showgrid': True},\n",
       "               'xaxis17': {'anchor': 'y17', 'domain': [0.0, 0.175], 'showgrid': True},\n",
       "               'xaxis18': {'anchor': 'y18', 'domain': [0.275, 0.45], 'showgrid': True},\n",
       "               'xaxis19': {'anchor': 'y19', 'domain': [0.55, 0.7250000000000001], 'showgrid': True},\n",
       "               'xaxis2': {'anchor': 'y2', 'domain': [0.275, 0.45], 'showgrid': True},\n",
       "               'xaxis20': {'anchor': 'y20', 'domain': [0.825, 1.0], 'showgrid': True},\n",
       "               'xaxis21': {'anchor': 'y21', 'domain': [0.0, 0.175], 'showgrid': True},\n",
       "               'xaxis22': {'anchor': 'y22', 'domain': [0.275, 0.45], 'showgrid': True},\n",
       "               'xaxis23': {'anchor': 'y23', 'domain': [0.55, 0.7250000000000001], 'showgrid': True},\n",
       "               'xaxis24': {'anchor': 'y24', 'domain': [0.825, 1.0], 'showgrid': True},\n",
       "               'xaxis25': {'anchor': 'y25', 'domain': [0.0, 0.175], 'showgrid': True},\n",
       "               'xaxis26': {'anchor': 'y26', 'domain': [0.275, 0.45], 'showgrid': True},\n",
       "               'xaxis27': {'anchor': 'y27', 'domain': [0.55, 0.7250000000000001], 'showgrid': True},\n",
       "               'xaxis28': {'anchor': 'y28', 'domain': [0.825, 1.0], 'showgrid': True},\n",
       "               'xaxis29': {'anchor': 'y29', 'domain': [0.0, 0.175], 'showgrid': True},\n",
       "               'xaxis3': {'anchor': 'y3', 'domain': [0.55, 0.7250000000000001], 'showgrid': True},\n",
       "               'xaxis30': {'anchor': 'y30', 'domain': [0.275, 0.45], 'showgrid': True},\n",
       "               'xaxis31': {'anchor': 'y31', 'domain': [0.55, 0.7250000000000001], 'showgrid': True},\n",
       "               'xaxis32': {'anchor': 'y32', 'domain': [0.825, 1.0], 'showgrid': True},\n",
       "               'xaxis33': {'anchor': 'y33', 'domain': [0.0, 0.175], 'showgrid': True},\n",
       "               'xaxis34': {'anchor': 'y34', 'domain': [0.275, 0.45], 'showgrid': True},\n",
       "               'xaxis35': {'anchor': 'y35', 'domain': [0.55, 0.7250000000000001], 'showgrid': True},\n",
       "               'xaxis36': {'anchor': 'y36', 'domain': [0.825, 1.0], 'showgrid': True},\n",
       "               'xaxis37': {'anchor': 'y37', 'domain': [0.0, 0.175], 'showgrid': True},\n",
       "               'xaxis38': {'anchor': 'y38', 'domain': [0.275, 0.45], 'showgrid': True},\n",
       "               'xaxis39': {'anchor': 'y39', 'domain': [0.55, 0.7250000000000001], 'showgrid': True},\n",
       "               'xaxis4': {'anchor': 'y4', 'domain': [0.825, 1.0], 'showgrid': True},\n",
       "               'xaxis40': {'anchor': 'y40', 'domain': [0.825, 1.0], 'showgrid': True},\n",
       "               'xaxis5': {'anchor': 'y5', 'domain': [0.0, 0.175], 'showgrid': True},\n",
       "               'xaxis6': {'anchor': 'y6', 'domain': [0.275, 0.45], 'showgrid': True},\n",
       "               'xaxis7': {'anchor': 'y7', 'domain': [0.55, 0.7250000000000001], 'showgrid': True},\n",
       "               'xaxis8': {'anchor': 'y8', 'domain': [0.825, 1.0], 'showgrid': True},\n",
       "               'xaxis9': {'anchor': 'y9', 'domain': [0.0, 0.175], 'showgrid': True},\n",
       "               'yaxis': {'anchor': 'x', 'domain': [0.936, 1.0], 'showgrid': True},\n",
       "               'yaxis10': {'anchor': 'x10', 'domain': [0.728, 0.792], 'showgrid': True},\n",
       "               'yaxis11': {'anchor': 'x11', 'domain': [0.728, 0.792], 'showgrid': True},\n",
       "               'yaxis12': {'anchor': 'x12', 'domain': [0.728, 0.792], 'showgrid': True},\n",
       "               'yaxis13': {'anchor': 'x13', 'domain': [0.624, 0.688], 'showgrid': True},\n",
       "               'yaxis14': {'anchor': 'x14', 'domain': [0.624, 0.688], 'showgrid': True},\n",
       "               'yaxis15': {'anchor': 'x15', 'domain': [0.624, 0.688], 'showgrid': True},\n",
       "               'yaxis16': {'anchor': 'x16', 'domain': [0.624, 0.688], 'showgrid': True},\n",
       "               'yaxis17': {'anchor': 'x17', 'domain': [0.52, 0.5840000000000001], 'showgrid': True},\n",
       "               'yaxis18': {'anchor': 'x18', 'domain': [0.52, 0.5840000000000001], 'showgrid': True},\n",
       "               'yaxis19': {'anchor': 'x19', 'domain': [0.52, 0.5840000000000001], 'showgrid': True},\n",
       "               'yaxis2': {'anchor': 'x2', 'domain': [0.936, 1.0], 'showgrid': True},\n",
       "               'yaxis20': {'anchor': 'x20', 'domain': [0.52, 0.5840000000000001], 'showgrid': True},\n",
       "               'yaxis21': {'anchor': 'x21', 'domain': [0.41600000000000004, 0.48000000000000004], 'showgrid': True},\n",
       "               'yaxis22': {'anchor': 'x22', 'domain': [0.41600000000000004, 0.48000000000000004], 'showgrid': True},\n",
       "               'yaxis23': {'anchor': 'x23', 'domain': [0.41600000000000004, 0.48000000000000004], 'showgrid': True},\n",
       "               'yaxis24': {'anchor': 'x24', 'domain': [0.41600000000000004, 0.48000000000000004], 'showgrid': True},\n",
       "               'yaxis25': {'anchor': 'x25', 'domain': [0.312, 0.376], 'showgrid': True},\n",
       "               'yaxis26': {'anchor': 'x26', 'domain': [0.312, 0.376], 'showgrid': True},\n",
       "               'yaxis27': {'anchor': 'x27', 'domain': [0.312, 0.376], 'showgrid': True},\n",
       "               'yaxis28': {'anchor': 'x28', 'domain': [0.312, 0.376], 'showgrid': True},\n",
       "               'yaxis29': {'anchor': 'x29', 'domain': [0.20800000000000002, 0.272], 'showgrid': True},\n",
       "               'yaxis3': {'anchor': 'x3', 'domain': [0.936, 1.0], 'showgrid': True},\n",
       "               'yaxis30': {'anchor': 'x30', 'domain': [0.20800000000000002, 0.272], 'showgrid': True},\n",
       "               'yaxis31': {'anchor': 'x31', 'domain': [0.20800000000000002, 0.272], 'showgrid': True},\n",
       "               'yaxis32': {'anchor': 'x32', 'domain': [0.20800000000000002, 0.272], 'showgrid': True},\n",
       "               'yaxis33': {'anchor': 'x33', 'domain': [0.10400000000000001, 0.168], 'showgrid': True},\n",
       "               'yaxis34': {'anchor': 'x34', 'domain': [0.10400000000000001, 0.168], 'showgrid': True},\n",
       "               'yaxis35': {'anchor': 'x35', 'domain': [0.10400000000000001, 0.168], 'showgrid': True},\n",
       "               'yaxis36': {'anchor': 'x36', 'domain': [0.10400000000000001, 0.168], 'showgrid': True},\n",
       "               'yaxis37': {'anchor': 'x37', 'domain': [0.0, 0.064], 'showgrid': True},\n",
       "               'yaxis38': {'anchor': 'x38', 'domain': [0.0, 0.064], 'showgrid': True},\n",
       "               'yaxis39': {'anchor': 'x39', 'domain': [0.0, 0.064], 'showgrid': True},\n",
       "               'yaxis4': {'anchor': 'x4', 'domain': [0.936, 1.0], 'showgrid': True},\n",
       "               'yaxis40': {'anchor': 'x40', 'domain': [0.0, 0.064], 'showgrid': True},\n",
       "               'yaxis5': {'anchor': 'x5', 'domain': [0.8320000000000001, 0.8960000000000001], 'showgrid': True},\n",
       "               'yaxis6': {'anchor': 'x6', 'domain': [0.8320000000000001, 0.8960000000000001], 'showgrid': True},\n",
       "               'yaxis7': {'anchor': 'x7', 'domain': [0.8320000000000001, 0.8960000000000001], 'showgrid': True},\n",
       "               'yaxis8': {'anchor': 'x8', 'domain': [0.8320000000000001, 0.8960000000000001], 'showgrid': True},\n",
       "               'yaxis9': {'anchor': 'x9', 'domain': [0.728, 0.792], 'showgrid': True}}\n",
       "})"
      ]
     },
     "execution_count": 23,
     "metadata": {},
     "output_type": "execute_result"
    }
   ],
   "source": [
    "# Reduce the number of topics  \n",
    "model.reduce_topics(comments_all, nr_topics=40)\n",
    "topics = model.topics_ \n",
    "model.visualize_barchart(top_n_topics=100, title = tit)"
   ]
  },
  {
   "cell_type": "code",
   "execution_count": 139,
   "metadata": {},
   "outputs": [
    {
     "name": "stderr",
     "output_type": "stream",
     "text": [
      "2024-04-25 18:32:56,555 - BERTopic - WARNING: When you use `pickle` to save/load a BERTopic model,please make sure that the environments in which you saveand load the model are **exactly** the same. The version of BERTopic,its dependencies, and python need to remain the same.\n"
     ]
    }
   ],
   "source": [
    "embedding_model = \"sentence-transformers/\" + PRETRAINED_SENTENCE_MODEL\n",
    "model.save(\"/Users/minijain/Downloads/SocWebLab/Structural_Violence/safetensors/health6\", serialization=\"safetensors\", save_ctfidf=True, save_embedding_model=embedding_model)\n",
    "\n",
    "# Method 2 - pytorch\n",
    "embedding_model = \"sentence-transformers/\" + PRETRAINED_SENTENCE_MODEL\n",
    "model.save(\"/Users/minijain/Downloads/SocWebLab/Structural_Violence/pytorch/health6\", serialization=\"pytorch\", save_ctfidf=True, save_embedding_model=embedding_model)\n",
    "\n",
    "# Method 3 - pickle\n",
    "model.save(\"healthbertopic6\", serialization=\"pickle\")"
   ]
  },
  {
   "cell_type": "code",
   "execution_count": 14,
   "metadata": {},
   "outputs": [
    {
     "name": "stdout",
     "output_type": "stream",
     "text": [
      " CV score:  0.5496325968704261\n",
      " C NPMI score:  -0.17126519017716524\n",
      " Silhouette score:  0.021049919\n"
     ]
    }
   ],
   "source": [
    "cleaned_docs = model._preprocess_text(comments_all)\n",
    "vectorizer = model.vectorizer_model\n",
    "analyzer = vectorizer.build_analyzer()\n",
    "tokens = [analyzer(doc) for doc in cleaned_docs]\n",
    "dictionary = corpora.Dictionary(tokens)\n",
    "corpus = [dictionary.doc2bow(token) for token in tokens]\n",
    "topicsForCS = model.get_topics()\n",
    "topicsForCS.pop(-1, None)\n",
    "topic_words = [[word for word, _ in model.get_topic(topic) if word != ''] for topic in topicsForCS]\n",
    "#topic_words = [[words for words, _ in model.get_topic(topic)] for topic in range(len(set(topicsForCS))-1)]\n",
    "final_topic_words = []\n",
    "for i in topic_words:\n",
    "    if len(i) > 0:\n",
    "        final_topic_words.append(i)\n",
    "\n",
    "# Evaluate\n",
    "coherence_model = CoherenceModel(topics=final_topic_words, \n",
    "                    texts=tokens, \n",
    "                    corpus=corpus,\n",
    "                    dictionary=dictionary, \n",
    "                    coherence='c_v')\n",
    "coherencev = coherence_model.get_coherence()\n",
    "\n",
    "coherence_model = CoherenceModel(topics=final_topic_words, \n",
    "                    texts=tokens, \n",
    "                    corpus=corpus,\n",
    "                    dictionary=dictionary, \n",
    "                    coherence='c_npmi')\n",
    "coherence = coherence_model.get_coherence()\n",
    "# Calculate embeddings for your documents  \n",
    "embeddings = model._extract_embeddings(comments_all)  \n",
    "# Calculate Silhouette score  \n",
    "score = silhouette_score(embeddings, topics)  \n",
    "print(\" CV score: \",coherencev)\n",
    "print(\" C NPMI score: \",coherence)\n",
    "print(\" Silhouette score: \",score)"
   ]
  },
  {
   "cell_type": "code",
   "execution_count": 74,
   "metadata": {},
   "outputs": [],
   "source": [
    "# Reduce outliers\n",
    "#new_topics = model.reduce_outliers(comments_all, topics, probabilities=probs, strategy=\"probabilities\")\n",
    "#model.update_topics(comments_all, topics=new_topics)"
   ]
  },
  {
   "cell_type": "code",
   "execution_count": 60,
   "metadata": {},
   "outputs": [
    {
     "name": "stderr",
     "output_type": "stream",
     "text": [
      "2024-04-09 10:27:50,477 - BERTopic - WARNING: When you use `pickle` to save/load a BERTopic model,please make sure that the environments in which you saveand load the model are **exactly** the same. The version of BERTopic,its dependencies, and python need to remain the same.\n"
     ]
    }
   ],
   "source": [
    "embedding_model = \"sentence-transformers/\" + PRETRAINED_SENTENCE_MODEL\n",
    "model.save(\"/Users/minijain/Downloads/SocWebLab/Structural_Violence/safetensors/health5\", serialization=\"safetensors\", save_ctfidf=True, save_embedding_model=embedding_model)\n",
    "\n",
    "# Method 2 - pytorch\n",
    "embedding_model = \"sentence-transformers/\" + PRETRAINED_SENTENCE_MODEL\n",
    "model.save(\"/Users/minijain/Downloads/SocWebLab/Structural_Violence/pytorch/health5\", serialization=\"pytorch\", save_ctfidf=True, save_embedding_model=embedding_model)\n",
    "\n",
    "# Method 3 - pickle\n",
    "model.save(\"healthbertopic5\", serialization=\"pickle\")"
   ]
  },
  {
   "cell_type": "code",
   "execution_count": 119,
   "metadata": {},
   "outputs": [],
   "source": [
    "embedding_model = \"sentence-transformers/\" + PRETRAINED_SENTENCE_MODEL\n",
    "model = BERTopic.load(\"healthbertopic5\", embedding_model=embedding_model)"
   ]
  },
  {
   "cell_type": "code",
   "execution_count": 124,
   "metadata": {},
   "outputs": [
    {
     "ename": "ValueError",
     "evalue": "Mime type rendering requires nbformat>=4.2.0 but it is not installed",
     "output_type": "error",
     "traceback": [
      "\u001b[0;31m---------------------------------------------------------------------------\u001b[0m",
      "\u001b[0;31mValueError\u001b[0m                                Traceback (most recent call last)",
      "File \u001b[0;32m~/Library/Python/3.9/lib/python/site-packages/IPython/core/formatters.py:922\u001b[0m, in \u001b[0;36mIPythonDisplayFormatter.__call__\u001b[0;34m(self, obj)\u001b[0m\n\u001b[1;32m    920\u001b[0m method \u001b[39m=\u001b[39m get_real_method(obj, \u001b[39mself\u001b[39m\u001b[39m.\u001b[39mprint_method)\n\u001b[1;32m    921\u001b[0m \u001b[39mif\u001b[39;00m method \u001b[39mis\u001b[39;00m \u001b[39mnot\u001b[39;00m \u001b[39mNone\u001b[39;00m:\n\u001b[0;32m--> 922\u001b[0m     method()\n\u001b[1;32m    923\u001b[0m     \u001b[39mreturn\u001b[39;00m \u001b[39mTrue\u001b[39;00m\n",
      "File \u001b[0;32m~/Library/Python/3.9/lib/python/site-packages/plotly/basedatatypes.py:832\u001b[0m, in \u001b[0;36mBaseFigure._ipython_display_\u001b[0;34m(self)\u001b[0m\n\u001b[1;32m    829\u001b[0m \u001b[39mimport\u001b[39;00m \u001b[39mplotly\u001b[39;00m\u001b[39m.\u001b[39;00m\u001b[39mio\u001b[39;00m \u001b[39mas\u001b[39;00m \u001b[39mpio\u001b[39;00m\n\u001b[1;32m    831\u001b[0m \u001b[39mif\u001b[39;00m pio\u001b[39m.\u001b[39mrenderers\u001b[39m.\u001b[39mrender_on_display \u001b[39mand\u001b[39;00m pio\u001b[39m.\u001b[39mrenderers\u001b[39m.\u001b[39mdefault:\n\u001b[0;32m--> 832\u001b[0m     pio\u001b[39m.\u001b[39;49mshow(\u001b[39mself\u001b[39;49m)\n\u001b[1;32m    833\u001b[0m \u001b[39melse\u001b[39;00m:\n\u001b[1;32m    834\u001b[0m     \u001b[39mprint\u001b[39m(\u001b[39mrepr\u001b[39m(\u001b[39mself\u001b[39m))\n",
      "File \u001b[0;32m~/Library/Python/3.9/lib/python/site-packages/plotly/io/_renderers.py:394\u001b[0m, in \u001b[0;36mshow\u001b[0;34m(fig, renderer, validate, **kwargs)\u001b[0m\n\u001b[1;32m    389\u001b[0m         \u001b[39mraise\u001b[39;00m \u001b[39mValueError\u001b[39;00m(\n\u001b[1;32m    390\u001b[0m             \u001b[39m\"\u001b[39m\u001b[39mMime type rendering requires ipython but it is not installed\u001b[39m\u001b[39m\"\u001b[39m\n\u001b[1;32m    391\u001b[0m         )\n\u001b[1;32m    393\u001b[0m     \u001b[39mif\u001b[39;00m \u001b[39mnot\u001b[39;00m nbformat \u001b[39mor\u001b[39;00m Version(nbformat\u001b[39m.\u001b[39m__version__) \u001b[39m<\u001b[39m Version(\u001b[39m\"\u001b[39m\u001b[39m4.2.0\u001b[39m\u001b[39m\"\u001b[39m):\n\u001b[0;32m--> 394\u001b[0m         \u001b[39mraise\u001b[39;00m \u001b[39mValueError\u001b[39;00m(\n\u001b[1;32m    395\u001b[0m             \u001b[39m\"\u001b[39m\u001b[39mMime type rendering requires nbformat>=4.2.0 but it is not installed\u001b[39m\u001b[39m\"\u001b[39m\n\u001b[1;32m    396\u001b[0m         )\n\u001b[1;32m    398\u001b[0m     ipython_display\u001b[39m.\u001b[39mdisplay(bundle, raw\u001b[39m=\u001b[39m\u001b[39mTrue\u001b[39;00m)\n\u001b[1;32m    400\u001b[0m \u001b[39m# external renderers\u001b[39;00m\n",
      "\u001b[0;31mValueError\u001b[0m: Mime type rendering requires nbformat>=4.2.0 but it is not installed"
     ]
    },
    {
     "data": {
      "application/vnd.plotly.v1+json": {
       "config": {
        "plotlyServerURL": "https://plot.ly"
       },
       "data": [
        {
         "marker": {
          "color": "#D55E00"
         },
         "orientation": "h",
         "type": "bar",
         "x": [
          0.4155278205871582,
          0.44413238763809204,
          0.4442964196205139,
          0.4534626305103302,
          0.5090591907501221
         ],
         "xaxis": "x",
         "y": [
          "suicides  ",
          "psychiatric  ",
          "committed suicide  ",
          "suicide  ",
          "suicide article  "
         ],
         "yaxis": "y"
        },
        {
         "marker": {
          "color": "#0072B2"
         },
         "orientation": "h",
         "type": "bar",
         "x": [
          0.560097873210907,
          0.5709260702133179,
          0.5785031914710999,
          0.5899217128753662,
          0.642210841178894
         ],
         "xaxis": "x2",
         "y": [
          "mental health  ",
          "mental illness  ",
          "suicide related  ",
          "suicide attempt  ",
          "suicide article  "
         ],
         "yaxis": "y2"
        },
        {
         "marker": {
          "color": "#CC79A7"
         },
         "orientation": "h",
         "type": "bar",
         "x": [
          0.5368539690971375,
          0.5408509969711304,
          0.5544157028198242,
          0.6187630295753479,
          0.6394949555397034
         ],
         "xaxis": "x3",
         "y": [
          "suicidal thoughts  ",
          "attempted suicide  ",
          "suicide rates  ",
          "discusses suicide  ",
          "suicide prevention  "
         ],
         "yaxis": "y3"
        },
        {
         "marker": {
          "color": "#E69F00"
         },
         "orientation": "h",
         "type": "bar",
         "x": [
          0.49908870458602905,
          0.5180374979972839,
          0.570652425289154,
          0.6141881942749023,
          0.7198272943496704
         ],
         "xaxis": "x4",
         "y": [
          "suicides related  ",
          "among veterans  ",
          "suicide among  ",
          "suicides among  ",
          "veteran suicide  "
         ],
         "yaxis": "y4"
        },
        {
         "marker": {
          "color": "#56B4E9"
         },
         "orientation": "h",
         "type": "bar",
         "x": [
          0.5039488077163696,
          0.5053021907806396,
          0.5230704545974731,
          0.5429297685623169,
          0.5552266240119934
         ],
         "xaxis": "x5",
         "y": [
          "pandemic  ",
          "19 pandemic  ",
          "suicides  ",
          "coronavirus pandemic  ",
          "covid 19  "
         ],
         "yaxis": "y5"
        },
        {
         "marker": {
          "color": "#009E73"
         },
         "orientation": "h",
         "type": "bar",
         "x": [
          0.4399995803833008,
          0.4719892740249634,
          0.47738116979599,
          0.491260826587677,
          0.49211785197257996
         ],
         "xaxis": "x6",
         "y": [
          "substance abuse  ",
          "opioid addiction  ",
          "cause suicide  ",
          "overdoses  ",
          "drug overdose  "
         ],
         "yaxis": "y6"
        },
        {
         "marker": {
          "color": "#F0E442"
         },
         "orientation": "h",
         "type": "bar",
         "x": [
          0.5667771697044373,
          0.573320746421814,
          0.5775570273399353,
          0.5776736736297607,
          0.6588498950004578
         ],
         "xaxis": "x7",
         "y": [
          "among transgender  ",
          "transgender people  ",
          "transgender individuals  ",
          "transgender children  ",
          "transgender youth  "
         ],
         "yaxis": "y7"
        },
        {
         "marker": {
          "color": "#D55E00"
         },
         "orientation": "h",
         "type": "bar",
         "x": [
          0.6077508330345154,
          0.644828736782074,
          0.6834176182746887,
          0.6901155710220337,
          0.7071844339370728
         ],
         "xaxis": "x8",
         "y": [
          "terminal illnesses  ",
          "euthanasia due  ",
          "euthanasia  ",
          "assisted death  ",
          "assisted suicide  "
         ],
         "yaxis": "y8"
        },
        {
         "marker": {
          "color": "#0072B2"
         },
         "orientation": "h",
         "type": "bar",
         "x": [
          0.42093467712402344,
          0.43280354142189026,
          0.4362477660179138,
          0.44091349840164185,
          0.582173764705658
         ],
         "xaxis": "x9",
         "y": [
          "encephalopathy  ",
          "mentions adams  ",
          "phillip adams  ",
          "suicide case  ",
          "adams killed  "
         ],
         "yaxis": "y9"
        },
        {
         "marker": {
          "color": "#CC79A7"
         },
         "orientation": "h",
         "type": "bar",
         "x": [
          0.45893651247024536,
          0.4683215320110321,
          0.47419273853302,
          0.5147870182991028,
          0.5414877533912659
         ],
         "xaxis": "x10",
         "y": [
          "suicide  ",
          "cause suicide  ",
          "suicide article  ",
          "suicide related  ",
          "killed wife  "
         ],
         "yaxis": "y10"
        },
        {
         "marker": {
          "color": "#E69F00"
         },
         "orientation": "h",
         "type": "bar",
         "x": [
          0.49631786346435547,
          0.5052452087402344,
          0.5190635323524475,
          0.5785466432571411,
          0.6453685760498047
         ],
         "xaxis": "x11",
         "y": [
          "financial stress  ",
          "suicide falling  ",
          "mental health  ",
          "homelessness  ",
          "becoming homeless  "
         ],
         "yaxis": "y11"
        },
        {
         "marker": {
          "color": "#56B4E9"
         },
         "orientation": "h",
         "type": "bar",
         "x": [
          0.44640401005744934,
          0.49289774894714355,
          0.4998737573623657,
          0.5135403275489807,
          0.5295816659927368
         ],
         "xaxis": "x12",
         "y": [
          "suicide  ",
          "killed surgeon  ",
          "killed patient  ",
          "suicide related  ",
          "suicide article  "
         ],
         "yaxis": "y12"
        },
        {
         "marker": {
          "color": "#009E73"
         },
         "orientation": "h",
         "type": "bar",
         "x": [
          0.475222647190094,
          0.4781862497329712,
          0.5009626150131226,
          0.5138344764709473,
          0.5573989748954773
         ],
         "xaxis": "x13",
         "y": [
          "suicide article  ",
          "jean fatally  ",
          "britney  ",
          "britney spears  ",
          "spears grandmother  "
         ],
         "yaxis": "y13"
        },
        {
         "marker": {
          "color": "#F0E442"
         },
         "orientation": "h",
         "type": "bar",
         "x": [
          0.4470905065536499,
          0.5129291415214539,
          0.5839254260063171,
          0.5892336368560791,
          0.6155108213424683
         ],
         "xaxis": "x14",
         "y": [
          "died suicide  ",
          "kaczynski known  ",
          "kaczynski  ",
          "mentions kaczynski  ",
          "ted kaczynski  "
         ],
         "yaxis": "y14"
        },
        {
         "marker": {
          "color": "#D55E00"
         },
         "orientation": "h",
         "type": "bar",
         "x": [
          0.4362396001815796,
          0.4410637319087982,
          0.455707848072052,
          0.4839523136615753,
          0.5047702789306641
         ],
         "xaxis": "x15",
         "y": [
          "psychiatric  ",
          "shot people  ",
          "school shot  ",
          "student shot  ",
          "mental health  "
         ],
         "yaxis": "y15"
        },
        {
         "marker": {
          "color": "#0072B2"
         },
         "orientation": "h",
         "type": "bar",
         "x": [
          0.4155290126800537,
          0.45410236716270447,
          0.48227250576019287,
          0.5341598391532898,
          0.591972291469574
         ],
         "xaxis": "x16",
         "y": [
          "suicide age  ",
          "jean tatlock  ",
          "died suicide  ",
          "suicide article  ",
          "psychiatrist died  "
         ],
         "yaxis": "y16"
        },
        {
         "marker": {
          "color": "#CC79A7"
         },
         "orientation": "h",
         "type": "bar",
         "x": [
          0.6286213994026184,
          0.6358622312545776,
          0.6377631425857544,
          0.6671561002731323,
          0.7325437068939209
         ],
         "xaxis": "x17",
         "y": [
          "roe wade  ",
          "legalized abortion  ",
          "abortions  ",
          "legal abortions  ",
          "abortions article  "
         ],
         "yaxis": "y17"
        },
        {
         "marker": {
          "color": "#E69F00"
         },
         "orientation": "h",
         "type": "bar",
         "x": [
          0.47061461210250854,
          0.48584604263305664,
          0.4954584836959839,
          0.5404131412506104,
          0.5492324829101562
         ],
         "xaxis": "x18",
         "y": [
          "high suicide  ",
          "indigenous communities  ",
          "suicide rates  ",
          "suicide prevention  ",
          "prevention indigenous  "
         ],
         "yaxis": "y18"
        },
        {
         "marker": {
          "color": "#56B4E9"
         },
         "orientation": "h",
         "type": "bar",
         "x": [
          0.44193997979164124,
          0.44854113459587097,
          0.4579145312309265,
          0.4693012833595276,
          0.5072011351585388
         ],
         "xaxis": "x19",
         "y": [
          "self harm  ",
          "mental health  ",
          "suicide  ",
          "eating disorders  ",
          "suicide attempts  "
         ],
         "yaxis": "y19"
        },
        {
         "marker": {
          "color": "#009E73"
         },
         "orientation": "h",
         "type": "bar",
         "x": [
          0.3776336908340454,
          0.4010879695415497,
          0.410564124584198,
          0.4176783263683319,
          0.4759836196899414
         ],
         "xaxis": "x20",
         "y": [
          "taylor founder  ",
          "suicide due  ",
          "suicide  ",
          "suicide suffering  ",
          "died suicide  "
         ],
         "yaxis": "y20"
        },
        {
         "marker": {
          "color": "#F0E442"
         },
         "orientation": "h",
         "type": "bar",
         "x": [
          0.45344018936157227,
          0.45397692918777466,
          0.4655412435531616,
          0.48691123723983765,
          0.48921358585357666
         ],
         "xaxis": "x21",
         "y": [
          "ai  ",
          "suicide case  ",
          "ai providing  ",
          "potential ai  ",
          "suicide article  "
         ],
         "yaxis": "y21"
        },
        {
         "marker": {
          "color": "#D55E00"
         },
         "orientation": "h",
         "type": "bar",
         "x": [
          0.5137103796005249,
          0.5472550392150879,
          0.5654796361923218,
          0.5892345905303955,
          0.6118481755256653
         ],
         "xaxis": "x22",
         "y": [
          "gogh artist  ",
          "gogh shot  ",
          "van gogh  ",
          "gogh struggled  ",
          "gogh suffered  "
         ],
         "yaxis": "y22"
        },
        {
         "marker": {
          "color": "#0072B2"
         },
         "orientation": "h",
         "type": "bar",
         "x": [
          0.3781202435493469,
          0.3897559344768524,
          0.4221768081188202,
          0.4237411618232727,
          0.48547083139419556
         ],
         "xaxis": "x23",
         "y": [
          "murdaugh misappropriated  ",
          "mentions murdaugh  ",
          "alex murdaugh  ",
          "insurance fraud  ",
          "murdaugh lawyer  "
         ],
         "yaxis": "y23"
        },
        {
         "marker": {
          "color": "#CC79A7"
         },
         "orientation": "h",
         "type": "bar",
         "x": [
          0.5345906615257263,
          0.5512957572937012,
          0.5522753596305847,
          0.5566381812095642,
          0.6056132316589355
         ],
         "xaxis": "x24",
         "y": [
          "hiv aids  ",
          "aids illness  ",
          "lived hiv  ",
          "wisler hiv  ",
          "aids crisis  "
         ],
         "yaxis": "y24"
        },
        {
         "marker": {
          "color": "#E69F00"
         },
         "orientation": "h",
         "type": "bar",
         "x": [
          0.3954664170742035,
          0.39958229660987854,
          0.42155957221984863,
          0.4222508370876312,
          0.5348045825958252
         ],
         "xaxis": "x25",
         "y": [
          "room business  ",
          "mental health  ",
          "cause suicide  ",
          "suicide article  ",
          "rage room  "
         ],
         "yaxis": "y25"
        },
        {
         "marker": {
          "color": "#56B4E9"
         },
         "orientation": "h",
         "type": "bar",
         "x": [
          0.476906418800354,
          0.4868105351924896,
          0.4934661388397217,
          0.5042400360107422,
          0.6305561661720276
         ],
         "xaxis": "x26",
         "y": [
          "suicidal behavior  ",
          "fuller hospitalized  ",
          "suicide related  ",
          "robert fuller  ",
          "fuller suicide  "
         ],
         "yaxis": "y26"
        },
        {
         "marker": {
          "color": "#009E73"
         },
         "orientation": "h",
         "type": "bar",
         "x": [
          0.5192630290985107,
          0.5858330726623535,
          0.6129724979400635,
          0.6219008564949036,
          0.6796029210090637
         ],
         "xaxis": "x27",
         "y": [
          "confinement prison  ",
          "exacerbated solitary  ",
          "confinement mental  ",
          "solitary confinement  ",
          "suicide solitary  "
         ],
         "yaxis": "y27"
        },
        {
         "marker": {
          "color": "#F0E442"
         },
         "orientation": "h",
         "type": "bar",
         "x": [
          0.49203047156333923,
          0.49817949533462524,
          0.49961620569229126,
          0.5256267189979553,
          0.5424455404281616
         ],
         "xaxis": "x28",
         "y": [
          "events hurricanes  ",
          "mentions hurricane  ",
          "hurricanes often  ",
          "caused hurricane  ",
          "increased suicides  "
         ],
         "yaxis": "y28"
        },
        {
         "marker": {
          "color": "#D55E00"
         },
         "orientation": "h",
         "type": "bar",
         "x": [
          0.3554232716560364,
          0.3882986307144165,
          0.4366764724254608,
          0.5251141786575317,
          0.537527859210968
         ],
         "xaxis": "x29",
         "y": [
          "contributed death  ",
          "wife death  ",
          "meisner  ",
          "meisner diagnosed  ",
          "randy meisner  "
         ],
         "yaxis": "y29"
        },
        {
         "marker": {
          "color": "#0072B2"
         },
         "orientation": "h",
         "type": "bar",
         "x": [
          0.551547646522522,
          0.5625615119934082,
          0.581689178943634,
          0.5821213126182556,
          0.7048056125640869
         ],
         "xaxis": "x30",
         "y": [
          "potential psilocybin  ",
          "psychedelic  ",
          "psilocybin  ",
          "help psychedelic  ",
          "psychedelic therapy  "
         ],
         "yaxis": "y30"
        },
        {
         "marker": {
          "color": "#CC79A7"
         },
         "orientation": "h",
         "type": "bar",
         "x": [
          0.3933965563774109,
          0.4286538064479828,
          0.4779449701309204,
          0.48659390211105347,
          0.5141337513923645
         ],
         "xaxis": "x31",
         "y": [
          "mentions bobby  ",
          "spector death  ",
          "death bobby  ",
          "bobby mother  ",
          "father suicide  "
         ],
         "yaxis": "y31"
        },
        {
         "marker": {
          "color": "#E69F00"
         },
         "orientation": "h",
         "type": "bar",
         "x": [
          0.38110843300819397,
          0.3952106237411499,
          0.3952162563800812,
          0.41390320658683777,
          0.4723784923553467
         ],
         "xaxis": "x32",
         "y": [
          "took life  ",
          "lethal nature  ",
          "failure health  ",
          "problem suicide  ",
          "health hazard  "
         ],
         "yaxis": "y32"
        },
        {
         "marker": {
          "color": "#56B4E9"
         },
         "orientation": "h",
         "type": "bar",
         "x": [
          0.4707571566104889,
          0.4733249843120575,
          0.4853609800338745,
          0.4918195605278015,
          0.5159941911697388
         ],
         "xaxis": "x33",
         "y": [
          "schizophrenia  ",
          "care vulnerable  ",
          "denied care  ",
          "rooms psychiatric  ",
          "colorado mental  "
         ],
         "yaxis": "y33"
        },
        {
         "marker": {
          "color": "#009E73"
         },
         "orientation": "h",
         "type": "bar",
         "x": [
          0.48084771633148193,
          0.4927237033843994,
          0.5401365756988525,
          0.5499404668807983,
          0.622870922088623
         ],
         "xaxis": "x34",
         "y": [
          "suicide attempted  ",
          "mental illness  ",
          "conrad death  ",
          "attempted suicide  ",
          "conrad suicide  "
         ],
         "yaxis": "y34"
        }
       ],
       "layout": {
        "annotations": [
         {
          "font": {
           "size": 16
          },
          "showarrow": false,
          "text": "Topic 0",
          "x": 0.0875,
          "xanchor": "center",
          "xref": "paper",
          "y": 0.9999999999999999,
          "yanchor": "bottom",
          "yref": "paper"
         },
         {
          "font": {
           "size": 16
          },
          "showarrow": false,
          "text": "Topic 1",
          "x": 0.36250000000000004,
          "xanchor": "center",
          "xref": "paper",
          "y": 0.9999999999999999,
          "yanchor": "bottom",
          "yref": "paper"
         },
         {
          "font": {
           "size": 16
          },
          "showarrow": false,
          "text": "Topic 2",
          "x": 0.6375000000000001,
          "xanchor": "center",
          "xref": "paper",
          "y": 0.9999999999999999,
          "yanchor": "bottom",
          "yref": "paper"
         },
         {
          "font": {
           "size": 16
          },
          "showarrow": false,
          "text": "Topic 3",
          "x": 0.9125,
          "xanchor": "center",
          "xref": "paper",
          "y": 0.9999999999999999,
          "yanchor": "bottom",
          "yref": "paper"
         },
         {
          "font": {
           "size": 16
          },
          "showarrow": false,
          "text": "Topic 4",
          "x": 0.0875,
          "xanchor": "center",
          "xref": "paper",
          "y": 0.8839506172839505,
          "yanchor": "bottom",
          "yref": "paper"
         },
         {
          "font": {
           "size": 16
          },
          "showarrow": false,
          "text": "Topic 5",
          "x": 0.36250000000000004,
          "xanchor": "center",
          "xref": "paper",
          "y": 0.8839506172839505,
          "yanchor": "bottom",
          "yref": "paper"
         },
         {
          "font": {
           "size": 16
          },
          "showarrow": false,
          "text": "Topic 6",
          "x": 0.6375000000000001,
          "xanchor": "center",
          "xref": "paper",
          "y": 0.8839506172839505,
          "yanchor": "bottom",
          "yref": "paper"
         },
         {
          "font": {
           "size": 16
          },
          "showarrow": false,
          "text": "Topic 7",
          "x": 0.9125,
          "xanchor": "center",
          "xref": "paper",
          "y": 0.8839506172839505,
          "yanchor": "bottom",
          "yref": "paper"
         },
         {
          "font": {
           "size": 16
          },
          "showarrow": false,
          "text": "Topic 8",
          "x": 0.0875,
          "xanchor": "center",
          "xref": "paper",
          "y": 0.7679012345679012,
          "yanchor": "bottom",
          "yref": "paper"
         },
         {
          "font": {
           "size": 16
          },
          "showarrow": false,
          "text": "Topic 9",
          "x": 0.36250000000000004,
          "xanchor": "center",
          "xref": "paper",
          "y": 0.7679012345679012,
          "yanchor": "bottom",
          "yref": "paper"
         },
         {
          "font": {
           "size": 16
          },
          "showarrow": false,
          "text": "Topic 10",
          "x": 0.6375000000000001,
          "xanchor": "center",
          "xref": "paper",
          "y": 0.7679012345679012,
          "yanchor": "bottom",
          "yref": "paper"
         },
         {
          "font": {
           "size": 16
          },
          "showarrow": false,
          "text": "Topic 11",
          "x": 0.9125,
          "xanchor": "center",
          "xref": "paper",
          "y": 0.7679012345679012,
          "yanchor": "bottom",
          "yref": "paper"
         },
         {
          "font": {
           "size": 16
          },
          "showarrow": false,
          "text": "Topic 12",
          "x": 0.0875,
          "xanchor": "center",
          "xref": "paper",
          "y": 0.6518518518518518,
          "yanchor": "bottom",
          "yref": "paper"
         },
         {
          "font": {
           "size": 16
          },
          "showarrow": false,
          "text": "Topic 13",
          "x": 0.36250000000000004,
          "xanchor": "center",
          "xref": "paper",
          "y": 0.6518518518518518,
          "yanchor": "bottom",
          "yref": "paper"
         },
         {
          "font": {
           "size": 16
          },
          "showarrow": false,
          "text": "Topic 14",
          "x": 0.6375000000000001,
          "xanchor": "center",
          "xref": "paper",
          "y": 0.6518518518518518,
          "yanchor": "bottom",
          "yref": "paper"
         },
         {
          "font": {
           "size": 16
          },
          "showarrow": false,
          "text": "Topic 15",
          "x": 0.9125,
          "xanchor": "center",
          "xref": "paper",
          "y": 0.6518518518518518,
          "yanchor": "bottom",
          "yref": "paper"
         },
         {
          "font": {
           "size": 16
          },
          "showarrow": false,
          "text": "Topic 16",
          "x": 0.0875,
          "xanchor": "center",
          "xref": "paper",
          "y": 0.5358024691358024,
          "yanchor": "bottom",
          "yref": "paper"
         },
         {
          "font": {
           "size": 16
          },
          "showarrow": false,
          "text": "Topic 17",
          "x": 0.36250000000000004,
          "xanchor": "center",
          "xref": "paper",
          "y": 0.5358024691358024,
          "yanchor": "bottom",
          "yref": "paper"
         },
         {
          "font": {
           "size": 16
          },
          "showarrow": false,
          "text": "Topic 18",
          "x": 0.6375000000000001,
          "xanchor": "center",
          "xref": "paper",
          "y": 0.5358024691358024,
          "yanchor": "bottom",
          "yref": "paper"
         },
         {
          "font": {
           "size": 16
          },
          "showarrow": false,
          "text": "Topic 19",
          "x": 0.9125,
          "xanchor": "center",
          "xref": "paper",
          "y": 0.5358024691358024,
          "yanchor": "bottom",
          "yref": "paper"
         },
         {
          "font": {
           "size": 16
          },
          "showarrow": false,
          "text": "Topic 20",
          "x": 0.0875,
          "xanchor": "center",
          "xref": "paper",
          "y": 0.419753086419753,
          "yanchor": "bottom",
          "yref": "paper"
         },
         {
          "font": {
           "size": 16
          },
          "showarrow": false,
          "text": "Topic 21",
          "x": 0.36250000000000004,
          "xanchor": "center",
          "xref": "paper",
          "y": 0.419753086419753,
          "yanchor": "bottom",
          "yref": "paper"
         },
         {
          "font": {
           "size": 16
          },
          "showarrow": false,
          "text": "Topic 22",
          "x": 0.6375000000000001,
          "xanchor": "center",
          "xref": "paper",
          "y": 0.419753086419753,
          "yanchor": "bottom",
          "yref": "paper"
         },
         {
          "font": {
           "size": 16
          },
          "showarrow": false,
          "text": "Topic 23",
          "x": 0.9125,
          "xanchor": "center",
          "xref": "paper",
          "y": 0.419753086419753,
          "yanchor": "bottom",
          "yref": "paper"
         },
         {
          "font": {
           "size": 16
          },
          "showarrow": false,
          "text": "Topic 24",
          "x": 0.0875,
          "xanchor": "center",
          "xref": "paper",
          "y": 0.30370370370370364,
          "yanchor": "bottom",
          "yref": "paper"
         },
         {
          "font": {
           "size": 16
          },
          "showarrow": false,
          "text": "Topic 25",
          "x": 0.36250000000000004,
          "xanchor": "center",
          "xref": "paper",
          "y": 0.30370370370370364,
          "yanchor": "bottom",
          "yref": "paper"
         },
         {
          "font": {
           "size": 16
          },
          "showarrow": false,
          "text": "Topic 26",
          "x": 0.6375000000000001,
          "xanchor": "center",
          "xref": "paper",
          "y": 0.30370370370370364,
          "yanchor": "bottom",
          "yref": "paper"
         },
         {
          "font": {
           "size": 16
          },
          "showarrow": false,
          "text": "Topic 27",
          "x": 0.9125,
          "xanchor": "center",
          "xref": "paper",
          "y": 0.30370370370370364,
          "yanchor": "bottom",
          "yref": "paper"
         },
         {
          "font": {
           "size": 16
          },
          "showarrow": false,
          "text": "Topic 28",
          "x": 0.0875,
          "xanchor": "center",
          "xref": "paper",
          "y": 0.18765432098765428,
          "yanchor": "bottom",
          "yref": "paper"
         },
         {
          "font": {
           "size": 16
          },
          "showarrow": false,
          "text": "Topic 29",
          "x": 0.36250000000000004,
          "xanchor": "center",
          "xref": "paper",
          "y": 0.18765432098765428,
          "yanchor": "bottom",
          "yref": "paper"
         },
         {
          "font": {
           "size": 16
          },
          "showarrow": false,
          "text": "Topic 30",
          "x": 0.6375000000000001,
          "xanchor": "center",
          "xref": "paper",
          "y": 0.18765432098765428,
          "yanchor": "bottom",
          "yref": "paper"
         },
         {
          "font": {
           "size": 16
          },
          "showarrow": false,
          "text": "Topic 31",
          "x": 0.9125,
          "xanchor": "center",
          "xref": "paper",
          "y": 0.18765432098765428,
          "yanchor": "bottom",
          "yref": "paper"
         },
         {
          "font": {
           "size": 16
          },
          "showarrow": false,
          "text": "Topic 32",
          "x": 0.0875,
          "xanchor": "center",
          "xref": "paper",
          "y": 0.07160493827160493,
          "yanchor": "bottom",
          "yref": "paper"
         },
         {
          "font": {
           "size": 16
          },
          "showarrow": false,
          "text": "Topic 33",
          "x": 0.36250000000000004,
          "xanchor": "center",
          "xref": "paper",
          "y": 0.07160493827160493,
          "yanchor": "bottom",
          "yref": "paper"
         }
        ],
        "height": 2250,
        "hoverlabel": {
         "bgcolor": "white",
         "font": {
          "family": "Rockwell",
          "size": 16
         }
        },
        "showlegend": false,
        "template": {
         "data": {
          "bar": [
           {
            "error_x": {
             "color": "#2a3f5f"
            },
            "error_y": {
             "color": "#2a3f5f"
            },
            "marker": {
             "line": {
              "color": "white",
              "width": 0.5
             },
             "pattern": {
              "fillmode": "overlay",
              "size": 10,
              "solidity": 0.2
             }
            },
            "type": "bar"
           }
          ],
          "barpolar": [
           {
            "marker": {
             "line": {
              "color": "white",
              "width": 0.5
             },
             "pattern": {
              "fillmode": "overlay",
              "size": 10,
              "solidity": 0.2
             }
            },
            "type": "barpolar"
           }
          ],
          "carpet": [
           {
            "aaxis": {
             "endlinecolor": "#2a3f5f",
             "gridcolor": "#C8D4E3",
             "linecolor": "#C8D4E3",
             "minorgridcolor": "#C8D4E3",
             "startlinecolor": "#2a3f5f"
            },
            "baxis": {
             "endlinecolor": "#2a3f5f",
             "gridcolor": "#C8D4E3",
             "linecolor": "#C8D4E3",
             "minorgridcolor": "#C8D4E3",
             "startlinecolor": "#2a3f5f"
            },
            "type": "carpet"
           }
          ],
          "choropleth": [
           {
            "colorbar": {
             "outlinewidth": 0,
             "ticks": ""
            },
            "type": "choropleth"
           }
          ],
          "contour": [
           {
            "colorbar": {
             "outlinewidth": 0,
             "ticks": ""
            },
            "colorscale": [
             [
              0,
              "#0d0887"
             ],
             [
              0.1111111111111111,
              "#46039f"
             ],
             [
              0.2222222222222222,
              "#7201a8"
             ],
             [
              0.3333333333333333,
              "#9c179e"
             ],
             [
              0.4444444444444444,
              "#bd3786"
             ],
             [
              0.5555555555555556,
              "#d8576b"
             ],
             [
              0.6666666666666666,
              "#ed7953"
             ],
             [
              0.7777777777777778,
              "#fb9f3a"
             ],
             [
              0.8888888888888888,
              "#fdca26"
             ],
             [
              1,
              "#f0f921"
             ]
            ],
            "type": "contour"
           }
          ],
          "contourcarpet": [
           {
            "colorbar": {
             "outlinewidth": 0,
             "ticks": ""
            },
            "type": "contourcarpet"
           }
          ],
          "heatmap": [
           {
            "colorbar": {
             "outlinewidth": 0,
             "ticks": ""
            },
            "colorscale": [
             [
              0,
              "#0d0887"
             ],
             [
              0.1111111111111111,
              "#46039f"
             ],
             [
              0.2222222222222222,
              "#7201a8"
             ],
             [
              0.3333333333333333,
              "#9c179e"
             ],
             [
              0.4444444444444444,
              "#bd3786"
             ],
             [
              0.5555555555555556,
              "#d8576b"
             ],
             [
              0.6666666666666666,
              "#ed7953"
             ],
             [
              0.7777777777777778,
              "#fb9f3a"
             ],
             [
              0.8888888888888888,
              "#fdca26"
             ],
             [
              1,
              "#f0f921"
             ]
            ],
            "type": "heatmap"
           }
          ],
          "heatmapgl": [
           {
            "colorbar": {
             "outlinewidth": 0,
             "ticks": ""
            },
            "colorscale": [
             [
              0,
              "#0d0887"
             ],
             [
              0.1111111111111111,
              "#46039f"
             ],
             [
              0.2222222222222222,
              "#7201a8"
             ],
             [
              0.3333333333333333,
              "#9c179e"
             ],
             [
              0.4444444444444444,
              "#bd3786"
             ],
             [
              0.5555555555555556,
              "#d8576b"
             ],
             [
              0.6666666666666666,
              "#ed7953"
             ],
             [
              0.7777777777777778,
              "#fb9f3a"
             ],
             [
              0.8888888888888888,
              "#fdca26"
             ],
             [
              1,
              "#f0f921"
             ]
            ],
            "type": "heatmapgl"
           }
          ],
          "histogram": [
           {
            "marker": {
             "pattern": {
              "fillmode": "overlay",
              "size": 10,
              "solidity": 0.2
             }
            },
            "type": "histogram"
           }
          ],
          "histogram2d": [
           {
            "colorbar": {
             "outlinewidth": 0,
             "ticks": ""
            },
            "colorscale": [
             [
              0,
              "#0d0887"
             ],
             [
              0.1111111111111111,
              "#46039f"
             ],
             [
              0.2222222222222222,
              "#7201a8"
             ],
             [
              0.3333333333333333,
              "#9c179e"
             ],
             [
              0.4444444444444444,
              "#bd3786"
             ],
             [
              0.5555555555555556,
              "#d8576b"
             ],
             [
              0.6666666666666666,
              "#ed7953"
             ],
             [
              0.7777777777777778,
              "#fb9f3a"
             ],
             [
              0.8888888888888888,
              "#fdca26"
             ],
             [
              1,
              "#f0f921"
             ]
            ],
            "type": "histogram2d"
           }
          ],
          "histogram2dcontour": [
           {
            "colorbar": {
             "outlinewidth": 0,
             "ticks": ""
            },
            "colorscale": [
             [
              0,
              "#0d0887"
             ],
             [
              0.1111111111111111,
              "#46039f"
             ],
             [
              0.2222222222222222,
              "#7201a8"
             ],
             [
              0.3333333333333333,
              "#9c179e"
             ],
             [
              0.4444444444444444,
              "#bd3786"
             ],
             [
              0.5555555555555556,
              "#d8576b"
             ],
             [
              0.6666666666666666,
              "#ed7953"
             ],
             [
              0.7777777777777778,
              "#fb9f3a"
             ],
             [
              0.8888888888888888,
              "#fdca26"
             ],
             [
              1,
              "#f0f921"
             ]
            ],
            "type": "histogram2dcontour"
           }
          ],
          "mesh3d": [
           {
            "colorbar": {
             "outlinewidth": 0,
             "ticks": ""
            },
            "type": "mesh3d"
           }
          ],
          "parcoords": [
           {
            "line": {
             "colorbar": {
              "outlinewidth": 0,
              "ticks": ""
             }
            },
            "type": "parcoords"
           }
          ],
          "pie": [
           {
            "automargin": true,
            "type": "pie"
           }
          ],
          "scatter": [
           {
            "fillpattern": {
             "fillmode": "overlay",
             "size": 10,
             "solidity": 0.2
            },
            "type": "scatter"
           }
          ],
          "scatter3d": [
           {
            "line": {
             "colorbar": {
              "outlinewidth": 0,
              "ticks": ""
             }
            },
            "marker": {
             "colorbar": {
              "outlinewidth": 0,
              "ticks": ""
             }
            },
            "type": "scatter3d"
           }
          ],
          "scattercarpet": [
           {
            "marker": {
             "colorbar": {
              "outlinewidth": 0,
              "ticks": ""
             }
            },
            "type": "scattercarpet"
           }
          ],
          "scattergeo": [
           {
            "marker": {
             "colorbar": {
              "outlinewidth": 0,
              "ticks": ""
             }
            },
            "type": "scattergeo"
           }
          ],
          "scattergl": [
           {
            "marker": {
             "colorbar": {
              "outlinewidth": 0,
              "ticks": ""
             }
            },
            "type": "scattergl"
           }
          ],
          "scattermapbox": [
           {
            "marker": {
             "colorbar": {
              "outlinewidth": 0,
              "ticks": ""
             }
            },
            "type": "scattermapbox"
           }
          ],
          "scatterpolar": [
           {
            "marker": {
             "colorbar": {
              "outlinewidth": 0,
              "ticks": ""
             }
            },
            "type": "scatterpolar"
           }
          ],
          "scatterpolargl": [
           {
            "marker": {
             "colorbar": {
              "outlinewidth": 0,
              "ticks": ""
             }
            },
            "type": "scatterpolargl"
           }
          ],
          "scatterternary": [
           {
            "marker": {
             "colorbar": {
              "outlinewidth": 0,
              "ticks": ""
             }
            },
            "type": "scatterternary"
           }
          ],
          "surface": [
           {
            "colorbar": {
             "outlinewidth": 0,
             "ticks": ""
            },
            "colorscale": [
             [
              0,
              "#0d0887"
             ],
             [
              0.1111111111111111,
              "#46039f"
             ],
             [
              0.2222222222222222,
              "#7201a8"
             ],
             [
              0.3333333333333333,
              "#9c179e"
             ],
             [
              0.4444444444444444,
              "#bd3786"
             ],
             [
              0.5555555555555556,
              "#d8576b"
             ],
             [
              0.6666666666666666,
              "#ed7953"
             ],
             [
              0.7777777777777778,
              "#fb9f3a"
             ],
             [
              0.8888888888888888,
              "#fdca26"
             ],
             [
              1,
              "#f0f921"
             ]
            ],
            "type": "surface"
           }
          ],
          "table": [
           {
            "cells": {
             "fill": {
              "color": "#EBF0F8"
             },
             "line": {
              "color": "white"
             }
            },
            "header": {
             "fill": {
              "color": "#C8D4E3"
             },
             "line": {
              "color": "white"
             }
            },
            "type": "table"
           }
          ]
         },
         "layout": {
          "annotationdefaults": {
           "arrowcolor": "#2a3f5f",
           "arrowhead": 0,
           "arrowwidth": 1
          },
          "autotypenumbers": "strict",
          "coloraxis": {
           "colorbar": {
            "outlinewidth": 0,
            "ticks": ""
           }
          },
          "colorscale": {
           "diverging": [
            [
             0,
             "#8e0152"
            ],
            [
             0.1,
             "#c51b7d"
            ],
            [
             0.2,
             "#de77ae"
            ],
            [
             0.3,
             "#f1b6da"
            ],
            [
             0.4,
             "#fde0ef"
            ],
            [
             0.5,
             "#f7f7f7"
            ],
            [
             0.6,
             "#e6f5d0"
            ],
            [
             0.7,
             "#b8e186"
            ],
            [
             0.8,
             "#7fbc41"
            ],
            [
             0.9,
             "#4d9221"
            ],
            [
             1,
             "#276419"
            ]
           ],
           "sequential": [
            [
             0,
             "#0d0887"
            ],
            [
             0.1111111111111111,
             "#46039f"
            ],
            [
             0.2222222222222222,
             "#7201a8"
            ],
            [
             0.3333333333333333,
             "#9c179e"
            ],
            [
             0.4444444444444444,
             "#bd3786"
            ],
            [
             0.5555555555555556,
             "#d8576b"
            ],
            [
             0.6666666666666666,
             "#ed7953"
            ],
            [
             0.7777777777777778,
             "#fb9f3a"
            ],
            [
             0.8888888888888888,
             "#fdca26"
            ],
            [
             1,
             "#f0f921"
            ]
           ],
           "sequentialminus": [
            [
             0,
             "#0d0887"
            ],
            [
             0.1111111111111111,
             "#46039f"
            ],
            [
             0.2222222222222222,
             "#7201a8"
            ],
            [
             0.3333333333333333,
             "#9c179e"
            ],
            [
             0.4444444444444444,
             "#bd3786"
            ],
            [
             0.5555555555555556,
             "#d8576b"
            ],
            [
             0.6666666666666666,
             "#ed7953"
            ],
            [
             0.7777777777777778,
             "#fb9f3a"
            ],
            [
             0.8888888888888888,
             "#fdca26"
            ],
            [
             1,
             "#f0f921"
            ]
           ]
          },
          "colorway": [
           "#636efa",
           "#EF553B",
           "#00cc96",
           "#ab63fa",
           "#FFA15A",
           "#19d3f3",
           "#FF6692",
           "#B6E880",
           "#FF97FF",
           "#FECB52"
          ],
          "font": {
           "color": "#2a3f5f"
          },
          "geo": {
           "bgcolor": "white",
           "lakecolor": "white",
           "landcolor": "white",
           "showlakes": true,
           "showland": true,
           "subunitcolor": "#C8D4E3"
          },
          "hoverlabel": {
           "align": "left"
          },
          "hovermode": "closest",
          "mapbox": {
           "style": "light"
          },
          "paper_bgcolor": "white",
          "plot_bgcolor": "white",
          "polar": {
           "angularaxis": {
            "gridcolor": "#EBF0F8",
            "linecolor": "#EBF0F8",
            "ticks": ""
           },
           "bgcolor": "white",
           "radialaxis": {
            "gridcolor": "#EBF0F8",
            "linecolor": "#EBF0F8",
            "ticks": ""
           }
          },
          "scene": {
           "xaxis": {
            "backgroundcolor": "white",
            "gridcolor": "#DFE8F3",
            "gridwidth": 2,
            "linecolor": "#EBF0F8",
            "showbackground": true,
            "ticks": "",
            "zerolinecolor": "#EBF0F8"
           },
           "yaxis": {
            "backgroundcolor": "white",
            "gridcolor": "#DFE8F3",
            "gridwidth": 2,
            "linecolor": "#EBF0F8",
            "showbackground": true,
            "ticks": "",
            "zerolinecolor": "#EBF0F8"
           },
           "zaxis": {
            "backgroundcolor": "white",
            "gridcolor": "#DFE8F3",
            "gridwidth": 2,
            "linecolor": "#EBF0F8",
            "showbackground": true,
            "ticks": "",
            "zerolinecolor": "#EBF0F8"
           }
          },
          "shapedefaults": {
           "line": {
            "color": "#2a3f5f"
           }
          },
          "ternary": {
           "aaxis": {
            "gridcolor": "#DFE8F3",
            "linecolor": "#A2B1C6",
            "ticks": ""
           },
           "baxis": {
            "gridcolor": "#DFE8F3",
            "linecolor": "#A2B1C6",
            "ticks": ""
           },
           "bgcolor": "white",
           "caxis": {
            "gridcolor": "#DFE8F3",
            "linecolor": "#A2B1C6",
            "ticks": ""
           }
          },
          "title": {
           "x": 0.05
          },
          "xaxis": {
           "automargin": true,
           "gridcolor": "#EBF0F8",
           "linecolor": "#EBF0F8",
           "ticks": "",
           "title": {
            "standoff": 15
           },
           "zerolinecolor": "#EBF0F8",
           "zerolinewidth": 2
          },
          "yaxis": {
           "automargin": true,
           "gridcolor": "#EBF0F8",
           "linecolor": "#EBF0F8",
           "ticks": "",
           "title": {
            "standoff": 15
           },
           "zerolinecolor": "#EBF0F8",
           "zerolinewidth": 2
          }
         }
        },
        "title": {
         "font": {
          "color": "Black",
          "size": 22
         },
         "text": "All - Lack of Access to Health/Mental Health Care",
         "x": 0.5,
         "xanchor": "center",
         "yanchor": "top"
        },
        "width": 1000,
        "xaxis": {
         "anchor": "y",
         "domain": [
          0,
          0.175
         ],
         "showgrid": true
        },
        "xaxis10": {
         "anchor": "y10",
         "domain": [
          0.275,
          0.45
         ],
         "showgrid": true
        },
        "xaxis11": {
         "anchor": "y11",
         "domain": [
          0.55,
          0.7250000000000001
         ],
         "showgrid": true
        },
        "xaxis12": {
         "anchor": "y12",
         "domain": [
          0.825,
          1
         ],
         "showgrid": true
        },
        "xaxis13": {
         "anchor": "y13",
         "domain": [
          0,
          0.175
         ],
         "showgrid": true
        },
        "xaxis14": {
         "anchor": "y14",
         "domain": [
          0.275,
          0.45
         ],
         "showgrid": true
        },
        "xaxis15": {
         "anchor": "y15",
         "domain": [
          0.55,
          0.7250000000000001
         ],
         "showgrid": true
        },
        "xaxis16": {
         "anchor": "y16",
         "domain": [
          0.825,
          1
         ],
         "showgrid": true
        },
        "xaxis17": {
         "anchor": "y17",
         "domain": [
          0,
          0.175
         ],
         "showgrid": true
        },
        "xaxis18": {
         "anchor": "y18",
         "domain": [
          0.275,
          0.45
         ],
         "showgrid": true
        },
        "xaxis19": {
         "anchor": "y19",
         "domain": [
          0.55,
          0.7250000000000001
         ],
         "showgrid": true
        },
        "xaxis2": {
         "anchor": "y2",
         "domain": [
          0.275,
          0.45
         ],
         "showgrid": true
        },
        "xaxis20": {
         "anchor": "y20",
         "domain": [
          0.825,
          1
         ],
         "showgrid": true
        },
        "xaxis21": {
         "anchor": "y21",
         "domain": [
          0,
          0.175
         ],
         "showgrid": true
        },
        "xaxis22": {
         "anchor": "y22",
         "domain": [
          0.275,
          0.45
         ],
         "showgrid": true
        },
        "xaxis23": {
         "anchor": "y23",
         "domain": [
          0.55,
          0.7250000000000001
         ],
         "showgrid": true
        },
        "xaxis24": {
         "anchor": "y24",
         "domain": [
          0.825,
          1
         ],
         "showgrid": true
        },
        "xaxis25": {
         "anchor": "y25",
         "domain": [
          0,
          0.175
         ],
         "showgrid": true
        },
        "xaxis26": {
         "anchor": "y26",
         "domain": [
          0.275,
          0.45
         ],
         "showgrid": true
        },
        "xaxis27": {
         "anchor": "y27",
         "domain": [
          0.55,
          0.7250000000000001
         ],
         "showgrid": true
        },
        "xaxis28": {
         "anchor": "y28",
         "domain": [
          0.825,
          1
         ],
         "showgrid": true
        },
        "xaxis29": {
         "anchor": "y29",
         "domain": [
          0,
          0.175
         ],
         "showgrid": true
        },
        "xaxis3": {
         "anchor": "y3",
         "domain": [
          0.55,
          0.7250000000000001
         ],
         "showgrid": true
        },
        "xaxis30": {
         "anchor": "y30",
         "domain": [
          0.275,
          0.45
         ],
         "showgrid": true
        },
        "xaxis31": {
         "anchor": "y31",
         "domain": [
          0.55,
          0.7250000000000001
         ],
         "showgrid": true
        },
        "xaxis32": {
         "anchor": "y32",
         "domain": [
          0.825,
          1
         ],
         "showgrid": true
        },
        "xaxis33": {
         "anchor": "y33",
         "domain": [
          0,
          0.175
         ],
         "showgrid": true
        },
        "xaxis34": {
         "anchor": "y34",
         "domain": [
          0.275,
          0.45
         ],
         "showgrid": true
        },
        "xaxis35": {
         "anchor": "y35",
         "domain": [
          0.55,
          0.7250000000000001
         ],
         "showgrid": true
        },
        "xaxis36": {
         "anchor": "y36",
         "domain": [
          0.825,
          1
         ],
         "showgrid": true
        },
        "xaxis4": {
         "anchor": "y4",
         "domain": [
          0.825,
          1
         ],
         "showgrid": true
        },
        "xaxis5": {
         "anchor": "y5",
         "domain": [
          0,
          0.175
         ],
         "showgrid": true
        },
        "xaxis6": {
         "anchor": "y6",
         "domain": [
          0.275,
          0.45
         ],
         "showgrid": true
        },
        "xaxis7": {
         "anchor": "y7",
         "domain": [
          0.55,
          0.7250000000000001
         ],
         "showgrid": true
        },
        "xaxis8": {
         "anchor": "y8",
         "domain": [
          0.825,
          1
         ],
         "showgrid": true
        },
        "xaxis9": {
         "anchor": "y9",
         "domain": [
          0,
          0.175
         ],
         "showgrid": true
        },
        "yaxis": {
         "anchor": "x",
         "domain": [
          0.9283950617283949,
          0.9999999999999999
         ],
         "showgrid": true
        },
        "yaxis10": {
         "anchor": "x10",
         "domain": [
          0.6962962962962962,
          0.7679012345679012
         ],
         "showgrid": true
        },
        "yaxis11": {
         "anchor": "x11",
         "domain": [
          0.6962962962962962,
          0.7679012345679012
         ],
         "showgrid": true
        },
        "yaxis12": {
         "anchor": "x12",
         "domain": [
          0.6962962962962962,
          0.7679012345679012
         ],
         "showgrid": true
        },
        "yaxis13": {
         "anchor": "x13",
         "domain": [
          0.5802469135802468,
          0.6518518518518518
         ],
         "showgrid": true
        },
        "yaxis14": {
         "anchor": "x14",
         "domain": [
          0.5802469135802468,
          0.6518518518518518
         ],
         "showgrid": true
        },
        "yaxis15": {
         "anchor": "x15",
         "domain": [
          0.5802469135802468,
          0.6518518518518518
         ],
         "showgrid": true
        },
        "yaxis16": {
         "anchor": "x16",
         "domain": [
          0.5802469135802468,
          0.6518518518518518
         ],
         "showgrid": true
        },
        "yaxis17": {
         "anchor": "x17",
         "domain": [
          0.46419753086419746,
          0.5358024691358024
         ],
         "showgrid": true
        },
        "yaxis18": {
         "anchor": "x18",
         "domain": [
          0.46419753086419746,
          0.5358024691358024
         ],
         "showgrid": true
        },
        "yaxis19": {
         "anchor": "x19",
         "domain": [
          0.46419753086419746,
          0.5358024691358024
         ],
         "showgrid": true
        },
        "yaxis2": {
         "anchor": "x2",
         "domain": [
          0.9283950617283949,
          0.9999999999999999
         ],
         "showgrid": true
        },
        "yaxis20": {
         "anchor": "x20",
         "domain": [
          0.46419753086419746,
          0.5358024691358024
         ],
         "showgrid": true
        },
        "yaxis21": {
         "anchor": "x21",
         "domain": [
          0.3481481481481481,
          0.419753086419753
         ],
         "showgrid": true
        },
        "yaxis22": {
         "anchor": "x22",
         "domain": [
          0.3481481481481481,
          0.419753086419753
         ],
         "showgrid": true
        },
        "yaxis23": {
         "anchor": "x23",
         "domain": [
          0.3481481481481481,
          0.419753086419753
         ],
         "showgrid": true
        },
        "yaxis24": {
         "anchor": "x24",
         "domain": [
          0.3481481481481481,
          0.419753086419753
         ],
         "showgrid": true
        },
        "yaxis25": {
         "anchor": "x25",
         "domain": [
          0.23209876543209873,
          0.30370370370370364
         ],
         "showgrid": true
        },
        "yaxis26": {
         "anchor": "x26",
         "domain": [
          0.23209876543209873,
          0.30370370370370364
         ],
         "showgrid": true
        },
        "yaxis27": {
         "anchor": "x27",
         "domain": [
          0.23209876543209873,
          0.30370370370370364
         ],
         "showgrid": true
        },
        "yaxis28": {
         "anchor": "x28",
         "domain": [
          0.23209876543209873,
          0.30370370370370364
         ],
         "showgrid": true
        },
        "yaxis29": {
         "anchor": "x29",
         "domain": [
          0.11604938271604937,
          0.18765432098765428
         ],
         "showgrid": true
        },
        "yaxis3": {
         "anchor": "x3",
         "domain": [
          0.9283950617283949,
          0.9999999999999999
         ],
         "showgrid": true
        },
        "yaxis30": {
         "anchor": "x30",
         "domain": [
          0.11604938271604937,
          0.18765432098765428
         ],
         "showgrid": true
        },
        "yaxis31": {
         "anchor": "x31",
         "domain": [
          0.11604938271604937,
          0.18765432098765428
         ],
         "showgrid": true
        },
        "yaxis32": {
         "anchor": "x32",
         "domain": [
          0.11604938271604937,
          0.18765432098765428
         ],
         "showgrid": true
        },
        "yaxis33": {
         "anchor": "x33",
         "domain": [
          0,
          0.07160493827160493
         ],
         "showgrid": true
        },
        "yaxis34": {
         "anchor": "x34",
         "domain": [
          0,
          0.07160493827160493
         ],
         "showgrid": true
        },
        "yaxis35": {
         "anchor": "x35",
         "domain": [
          0,
          0.07160493827160493
         ],
         "showgrid": true
        },
        "yaxis36": {
         "anchor": "x36",
         "domain": [
          0,
          0.07160493827160493
         ],
         "showgrid": true
        },
        "yaxis4": {
         "anchor": "x4",
         "domain": [
          0.9283950617283949,
          0.9999999999999999
         ],
         "showgrid": true
        },
        "yaxis5": {
         "anchor": "x5",
         "domain": [
          0.8123456790123456,
          0.8839506172839505
         ],
         "showgrid": true
        },
        "yaxis6": {
         "anchor": "x6",
         "domain": [
          0.8123456790123456,
          0.8839506172839505
         ],
         "showgrid": true
        },
        "yaxis7": {
         "anchor": "x7",
         "domain": [
          0.8123456790123456,
          0.8839506172839505
         ],
         "showgrid": true
        },
        "yaxis8": {
         "anchor": "x8",
         "domain": [
          0.8123456790123456,
          0.8839506172839505
         ],
         "showgrid": true
        },
        "yaxis9": {
         "anchor": "x9",
         "domain": [
          0.6962962962962962,
          0.7679012345679012
         ],
         "showgrid": true
        }
       }
      },
      "text/html": [
       "<div>                        <script type=\"text/javascript\">window.PlotlyConfig = {MathJaxConfig: 'local'};</script>\n",
       "        <script charset=\"utf-8\" src=\"https://cdn.plot.ly/plotly-2.27.0.min.js\"></script>                <div id=\"08d8a3e5-1d9d-46f9-a52c-2f1d125fb74d\" class=\"plotly-graph-div\" style=\"height:2250px; width:1000px;\"></div>            <script type=\"text/javascript\">                                    window.PLOTLYENV=window.PLOTLYENV || {};                                    if (document.getElementById(\"08d8a3e5-1d9d-46f9-a52c-2f1d125fb74d\")) {                    Plotly.newPlot(                        \"08d8a3e5-1d9d-46f9-a52c-2f1d125fb74d\",                        [{\"marker\":{\"color\":\"#D55E00\"},\"orientation\":\"h\",\"x\":[0.4155278205871582,0.44413238763809204,0.4442964196205139,0.4534626305103302,0.5090591907501221],\"y\":[\"suicides  \",\"psychiatric  \",\"committed suicide  \",\"suicide  \",\"suicide article  \"],\"type\":\"bar\",\"xaxis\":\"x\",\"yaxis\":\"y\"},{\"marker\":{\"color\":\"#0072B2\"},\"orientation\":\"h\",\"x\":[0.560097873210907,0.5709260702133179,0.5785031914710999,0.5899217128753662,0.642210841178894],\"y\":[\"mental health  \",\"mental illness  \",\"suicide related  \",\"suicide attempt  \",\"suicide article  \"],\"type\":\"bar\",\"xaxis\":\"x2\",\"yaxis\":\"y2\"},{\"marker\":{\"color\":\"#CC79A7\"},\"orientation\":\"h\",\"x\":[0.5368539690971375,0.5408509969711304,0.5544157028198242,0.6187630295753479,0.6394949555397034],\"y\":[\"suicidal thoughts  \",\"attempted suicide  \",\"suicide rates  \",\"discusses suicide  \",\"suicide prevention  \"],\"type\":\"bar\",\"xaxis\":\"x3\",\"yaxis\":\"y3\"},{\"marker\":{\"color\":\"#E69F00\"},\"orientation\":\"h\",\"x\":[0.49908870458602905,0.5180374979972839,0.570652425289154,0.6141881942749023,0.7198272943496704],\"y\":[\"suicides related  \",\"among veterans  \",\"suicide among  \",\"suicides among  \",\"veteran suicide  \"],\"type\":\"bar\",\"xaxis\":\"x4\",\"yaxis\":\"y4\"},{\"marker\":{\"color\":\"#56B4E9\"},\"orientation\":\"h\",\"x\":[0.5039488077163696,0.5053021907806396,0.5230704545974731,0.5429297685623169,0.5552266240119934],\"y\":[\"pandemic  \",\"19 pandemic  \",\"suicides  \",\"coronavirus pandemic  \",\"covid 19  \"],\"type\":\"bar\",\"xaxis\":\"x5\",\"yaxis\":\"y5\"},{\"marker\":{\"color\":\"#009E73\"},\"orientation\":\"h\",\"x\":[0.4399995803833008,0.4719892740249634,0.47738116979599,0.491260826587677,0.49211785197257996],\"y\":[\"substance abuse  \",\"opioid addiction  \",\"cause suicide  \",\"overdoses  \",\"drug overdose  \"],\"type\":\"bar\",\"xaxis\":\"x6\",\"yaxis\":\"y6\"},{\"marker\":{\"color\":\"#F0E442\"},\"orientation\":\"h\",\"x\":[0.5667771697044373,0.573320746421814,0.5775570273399353,0.5776736736297607,0.6588498950004578],\"y\":[\"among transgender  \",\"transgender people  \",\"transgender individuals  \",\"transgender children  \",\"transgender youth  \"],\"type\":\"bar\",\"xaxis\":\"x7\",\"yaxis\":\"y7\"},{\"marker\":{\"color\":\"#D55E00\"},\"orientation\":\"h\",\"x\":[0.6077508330345154,0.644828736782074,0.6834176182746887,0.6901155710220337,0.7071844339370728],\"y\":[\"terminal illnesses  \",\"euthanasia due  \",\"euthanasia  \",\"assisted death  \",\"assisted suicide  \"],\"type\":\"bar\",\"xaxis\":\"x8\",\"yaxis\":\"y8\"},{\"marker\":{\"color\":\"#0072B2\"},\"orientation\":\"h\",\"x\":[0.42093467712402344,0.43280354142189026,0.4362477660179138,0.44091349840164185,0.582173764705658],\"y\":[\"encephalopathy  \",\"mentions adams  \",\"phillip adams  \",\"suicide case  \",\"adams killed  \"],\"type\":\"bar\",\"xaxis\":\"x9\",\"yaxis\":\"y9\"},{\"marker\":{\"color\":\"#CC79A7\"},\"orientation\":\"h\",\"x\":[0.45893651247024536,0.4683215320110321,0.47419273853302,0.5147870182991028,0.5414877533912659],\"y\":[\"suicide  \",\"cause suicide  \",\"suicide article  \",\"suicide related  \",\"killed wife  \"],\"type\":\"bar\",\"xaxis\":\"x10\",\"yaxis\":\"y10\"},{\"marker\":{\"color\":\"#E69F00\"},\"orientation\":\"h\",\"x\":[0.49631786346435547,0.5052452087402344,0.5190635323524475,0.5785466432571411,0.6453685760498047],\"y\":[\"financial stress  \",\"suicide falling  \",\"mental health  \",\"homelessness  \",\"becoming homeless  \"],\"type\":\"bar\",\"xaxis\":\"x11\",\"yaxis\":\"y11\"},{\"marker\":{\"color\":\"#56B4E9\"},\"orientation\":\"h\",\"x\":[0.44640401005744934,0.49289774894714355,0.4998737573623657,0.5135403275489807,0.5295816659927368],\"y\":[\"suicide  \",\"killed surgeon  \",\"killed patient  \",\"suicide related  \",\"suicide article  \"],\"type\":\"bar\",\"xaxis\":\"x12\",\"yaxis\":\"y12\"},{\"marker\":{\"color\":\"#009E73\"},\"orientation\":\"h\",\"x\":[0.475222647190094,0.4781862497329712,0.5009626150131226,0.5138344764709473,0.5573989748954773],\"y\":[\"suicide article  \",\"jean fatally  \",\"britney  \",\"britney spears  \",\"spears grandmother  \"],\"type\":\"bar\",\"xaxis\":\"x13\",\"yaxis\":\"y13\"},{\"marker\":{\"color\":\"#F0E442\"},\"orientation\":\"h\",\"x\":[0.4470905065536499,0.5129291415214539,0.5839254260063171,0.5892336368560791,0.6155108213424683],\"y\":[\"died suicide  \",\"kaczynski known  \",\"kaczynski  \",\"mentions kaczynski  \",\"ted kaczynski  \"],\"type\":\"bar\",\"xaxis\":\"x14\",\"yaxis\":\"y14\"},{\"marker\":{\"color\":\"#D55E00\"},\"orientation\":\"h\",\"x\":[0.4362396001815796,0.4410637319087982,0.455707848072052,0.4839523136615753,0.5047702789306641],\"y\":[\"psychiatric  \",\"shot people  \",\"school shot  \",\"student shot  \",\"mental health  \"],\"type\":\"bar\",\"xaxis\":\"x15\",\"yaxis\":\"y15\"},{\"marker\":{\"color\":\"#0072B2\"},\"orientation\":\"h\",\"x\":[0.4155290126800537,0.45410236716270447,0.48227250576019287,0.5341598391532898,0.591972291469574],\"y\":[\"suicide age  \",\"jean tatlock  \",\"died suicide  \",\"suicide article  \",\"psychiatrist died  \"],\"type\":\"bar\",\"xaxis\":\"x16\",\"yaxis\":\"y16\"},{\"marker\":{\"color\":\"#CC79A7\"},\"orientation\":\"h\",\"x\":[0.6286213994026184,0.6358622312545776,0.6377631425857544,0.6671561002731323,0.7325437068939209],\"y\":[\"roe wade  \",\"legalized abortion  \",\"abortions  \",\"legal abortions  \",\"abortions article  \"],\"type\":\"bar\",\"xaxis\":\"x17\",\"yaxis\":\"y17\"},{\"marker\":{\"color\":\"#E69F00\"},\"orientation\":\"h\",\"x\":[0.47061461210250854,0.48584604263305664,0.4954584836959839,0.5404131412506104,0.5492324829101562],\"y\":[\"high suicide  \",\"indigenous communities  \",\"suicide rates  \",\"suicide prevention  \",\"prevention indigenous  \"],\"type\":\"bar\",\"xaxis\":\"x18\",\"yaxis\":\"y18\"},{\"marker\":{\"color\":\"#56B4E9\"},\"orientation\":\"h\",\"x\":[0.44193997979164124,0.44854113459587097,0.4579145312309265,0.4693012833595276,0.5072011351585388],\"y\":[\"self harm  \",\"mental health  \",\"suicide  \",\"eating disorders  \",\"suicide attempts  \"],\"type\":\"bar\",\"xaxis\":\"x19\",\"yaxis\":\"y19\"},{\"marker\":{\"color\":\"#009E73\"},\"orientation\":\"h\",\"x\":[0.3776336908340454,0.4010879695415497,0.410564124584198,0.4176783263683319,0.4759836196899414],\"y\":[\"taylor founder  \",\"suicide due  \",\"suicide  \",\"suicide suffering  \",\"died suicide  \"],\"type\":\"bar\",\"xaxis\":\"x20\",\"yaxis\":\"y20\"},{\"marker\":{\"color\":\"#F0E442\"},\"orientation\":\"h\",\"x\":[0.45344018936157227,0.45397692918777466,0.4655412435531616,0.48691123723983765,0.48921358585357666],\"y\":[\"ai  \",\"suicide case  \",\"ai providing  \",\"potential ai  \",\"suicide article  \"],\"type\":\"bar\",\"xaxis\":\"x21\",\"yaxis\":\"y21\"},{\"marker\":{\"color\":\"#D55E00\"},\"orientation\":\"h\",\"x\":[0.5137103796005249,0.5472550392150879,0.5654796361923218,0.5892345905303955,0.6118481755256653],\"y\":[\"gogh artist  \",\"gogh shot  \",\"van gogh  \",\"gogh struggled  \",\"gogh suffered  \"],\"type\":\"bar\",\"xaxis\":\"x22\",\"yaxis\":\"y22\"},{\"marker\":{\"color\":\"#0072B2\"},\"orientation\":\"h\",\"x\":[0.3781202435493469,0.3897559344768524,0.4221768081188202,0.4237411618232727,0.48547083139419556],\"y\":[\"murdaugh misappropriated  \",\"mentions murdaugh  \",\"alex murdaugh  \",\"insurance fraud  \",\"murdaugh lawyer  \"],\"type\":\"bar\",\"xaxis\":\"x23\",\"yaxis\":\"y23\"},{\"marker\":{\"color\":\"#CC79A7\"},\"orientation\":\"h\",\"x\":[0.5345906615257263,0.5512957572937012,0.5522753596305847,0.5566381812095642,0.6056132316589355],\"y\":[\"hiv aids  \",\"aids illness  \",\"lived hiv  \",\"wisler hiv  \",\"aids crisis  \"],\"type\":\"bar\",\"xaxis\":\"x24\",\"yaxis\":\"y24\"},{\"marker\":{\"color\":\"#E69F00\"},\"orientation\":\"h\",\"x\":[0.3954664170742035,0.39958229660987854,0.42155957221984863,0.4222508370876312,0.5348045825958252],\"y\":[\"room business  \",\"mental health  \",\"cause suicide  \",\"suicide article  \",\"rage room  \"],\"type\":\"bar\",\"xaxis\":\"x25\",\"yaxis\":\"y25\"},{\"marker\":{\"color\":\"#56B4E9\"},\"orientation\":\"h\",\"x\":[0.476906418800354,0.4868105351924896,0.4934661388397217,0.5042400360107422,0.6305561661720276],\"y\":[\"suicidal behavior  \",\"fuller hospitalized  \",\"suicide related  \",\"robert fuller  \",\"fuller suicide  \"],\"type\":\"bar\",\"xaxis\":\"x26\",\"yaxis\":\"y26\"},{\"marker\":{\"color\":\"#009E73\"},\"orientation\":\"h\",\"x\":[0.5192630290985107,0.5858330726623535,0.6129724979400635,0.6219008564949036,0.6796029210090637],\"y\":[\"confinement prison  \",\"exacerbated solitary  \",\"confinement mental  \",\"solitary confinement  \",\"suicide solitary  \"],\"type\":\"bar\",\"xaxis\":\"x27\",\"yaxis\":\"y27\"},{\"marker\":{\"color\":\"#F0E442\"},\"orientation\":\"h\",\"x\":[0.49203047156333923,0.49817949533462524,0.49961620569229126,0.5256267189979553,0.5424455404281616],\"y\":[\"events hurricanes  \",\"mentions hurricane  \",\"hurricanes often  \",\"caused hurricane  \",\"increased suicides  \"],\"type\":\"bar\",\"xaxis\":\"x28\",\"yaxis\":\"y28\"},{\"marker\":{\"color\":\"#D55E00\"},\"orientation\":\"h\",\"x\":[0.3554232716560364,0.3882986307144165,0.4366764724254608,0.5251141786575317,0.537527859210968],\"y\":[\"contributed death  \",\"wife death  \",\"meisner  \",\"meisner diagnosed  \",\"randy meisner  \"],\"type\":\"bar\",\"xaxis\":\"x29\",\"yaxis\":\"y29\"},{\"marker\":{\"color\":\"#0072B2\"},\"orientation\":\"h\",\"x\":[0.551547646522522,0.5625615119934082,0.581689178943634,0.5821213126182556,0.7048056125640869],\"y\":[\"potential psilocybin  \",\"psychedelic  \",\"psilocybin  \",\"help psychedelic  \",\"psychedelic therapy  \"],\"type\":\"bar\",\"xaxis\":\"x30\",\"yaxis\":\"y30\"},{\"marker\":{\"color\":\"#CC79A7\"},\"orientation\":\"h\",\"x\":[0.3933965563774109,0.4286538064479828,0.4779449701309204,0.48659390211105347,0.5141337513923645],\"y\":[\"mentions bobby  \",\"spector death  \",\"death bobby  \",\"bobby mother  \",\"father suicide  \"],\"type\":\"bar\",\"xaxis\":\"x31\",\"yaxis\":\"y31\"},{\"marker\":{\"color\":\"#E69F00\"},\"orientation\":\"h\",\"x\":[0.38110843300819397,0.3952106237411499,0.3952162563800812,0.41390320658683777,0.4723784923553467],\"y\":[\"took life  \",\"lethal nature  \",\"failure health  \",\"problem suicide  \",\"health hazard  \"],\"type\":\"bar\",\"xaxis\":\"x32\",\"yaxis\":\"y32\"},{\"marker\":{\"color\":\"#56B4E9\"},\"orientation\":\"h\",\"x\":[0.4707571566104889,0.4733249843120575,0.4853609800338745,0.4918195605278015,0.5159941911697388],\"y\":[\"schizophrenia  \",\"care vulnerable  \",\"denied care  \",\"rooms psychiatric  \",\"colorado mental  \"],\"type\":\"bar\",\"xaxis\":\"x33\",\"yaxis\":\"y33\"},{\"marker\":{\"color\":\"#009E73\"},\"orientation\":\"h\",\"x\":[0.48084771633148193,0.4927237033843994,0.5401365756988525,0.5499404668807983,0.622870922088623],\"y\":[\"suicide attempted  \",\"mental illness  \",\"conrad death  \",\"attempted suicide  \",\"conrad suicide  \"],\"type\":\"bar\",\"xaxis\":\"x34\",\"yaxis\":\"y34\"}],                        {\"template\":{\"data\":{\"barpolar\":[{\"marker\":{\"line\":{\"color\":\"white\",\"width\":0.5},\"pattern\":{\"fillmode\":\"overlay\",\"size\":10,\"solidity\":0.2}},\"type\":\"barpolar\"}],\"bar\":[{\"error_x\":{\"color\":\"#2a3f5f\"},\"error_y\":{\"color\":\"#2a3f5f\"},\"marker\":{\"line\":{\"color\":\"white\",\"width\":0.5},\"pattern\":{\"fillmode\":\"overlay\",\"size\":10,\"solidity\":0.2}},\"type\":\"bar\"}],\"carpet\":[{\"aaxis\":{\"endlinecolor\":\"#2a3f5f\",\"gridcolor\":\"#C8D4E3\",\"linecolor\":\"#C8D4E3\",\"minorgridcolor\":\"#C8D4E3\",\"startlinecolor\":\"#2a3f5f\"},\"baxis\":{\"endlinecolor\":\"#2a3f5f\",\"gridcolor\":\"#C8D4E3\",\"linecolor\":\"#C8D4E3\",\"minorgridcolor\":\"#C8D4E3\",\"startlinecolor\":\"#2a3f5f\"},\"type\":\"carpet\"}],\"choropleth\":[{\"colorbar\":{\"outlinewidth\":0,\"ticks\":\"\"},\"type\":\"choropleth\"}],\"contourcarpet\":[{\"colorbar\":{\"outlinewidth\":0,\"ticks\":\"\"},\"type\":\"contourcarpet\"}],\"contour\":[{\"colorbar\":{\"outlinewidth\":0,\"ticks\":\"\"},\"colorscale\":[[0.0,\"#0d0887\"],[0.1111111111111111,\"#46039f\"],[0.2222222222222222,\"#7201a8\"],[0.3333333333333333,\"#9c179e\"],[0.4444444444444444,\"#bd3786\"],[0.5555555555555556,\"#d8576b\"],[0.6666666666666666,\"#ed7953\"],[0.7777777777777778,\"#fb9f3a\"],[0.8888888888888888,\"#fdca26\"],[1.0,\"#f0f921\"]],\"type\":\"contour\"}],\"heatmapgl\":[{\"colorbar\":{\"outlinewidth\":0,\"ticks\":\"\"},\"colorscale\":[[0.0,\"#0d0887\"],[0.1111111111111111,\"#46039f\"],[0.2222222222222222,\"#7201a8\"],[0.3333333333333333,\"#9c179e\"],[0.4444444444444444,\"#bd3786\"],[0.5555555555555556,\"#d8576b\"],[0.6666666666666666,\"#ed7953\"],[0.7777777777777778,\"#fb9f3a\"],[0.8888888888888888,\"#fdca26\"],[1.0,\"#f0f921\"]],\"type\":\"heatmapgl\"}],\"heatmap\":[{\"colorbar\":{\"outlinewidth\":0,\"ticks\":\"\"},\"colorscale\":[[0.0,\"#0d0887\"],[0.1111111111111111,\"#46039f\"],[0.2222222222222222,\"#7201a8\"],[0.3333333333333333,\"#9c179e\"],[0.4444444444444444,\"#bd3786\"],[0.5555555555555556,\"#d8576b\"],[0.6666666666666666,\"#ed7953\"],[0.7777777777777778,\"#fb9f3a\"],[0.8888888888888888,\"#fdca26\"],[1.0,\"#f0f921\"]],\"type\":\"heatmap\"}],\"histogram2dcontour\":[{\"colorbar\":{\"outlinewidth\":0,\"ticks\":\"\"},\"colorscale\":[[0.0,\"#0d0887\"],[0.1111111111111111,\"#46039f\"],[0.2222222222222222,\"#7201a8\"],[0.3333333333333333,\"#9c179e\"],[0.4444444444444444,\"#bd3786\"],[0.5555555555555556,\"#d8576b\"],[0.6666666666666666,\"#ed7953\"],[0.7777777777777778,\"#fb9f3a\"],[0.8888888888888888,\"#fdca26\"],[1.0,\"#f0f921\"]],\"type\":\"histogram2dcontour\"}],\"histogram2d\":[{\"colorbar\":{\"outlinewidth\":0,\"ticks\":\"\"},\"colorscale\":[[0.0,\"#0d0887\"],[0.1111111111111111,\"#46039f\"],[0.2222222222222222,\"#7201a8\"],[0.3333333333333333,\"#9c179e\"],[0.4444444444444444,\"#bd3786\"],[0.5555555555555556,\"#d8576b\"],[0.6666666666666666,\"#ed7953\"],[0.7777777777777778,\"#fb9f3a\"],[0.8888888888888888,\"#fdca26\"],[1.0,\"#f0f921\"]],\"type\":\"histogram2d\"}],\"histogram\":[{\"marker\":{\"pattern\":{\"fillmode\":\"overlay\",\"size\":10,\"solidity\":0.2}},\"type\":\"histogram\"}],\"mesh3d\":[{\"colorbar\":{\"outlinewidth\":0,\"ticks\":\"\"},\"type\":\"mesh3d\"}],\"parcoords\":[{\"line\":{\"colorbar\":{\"outlinewidth\":0,\"ticks\":\"\"}},\"type\":\"parcoords\"}],\"pie\":[{\"automargin\":true,\"type\":\"pie\"}],\"scatter3d\":[{\"line\":{\"colorbar\":{\"outlinewidth\":0,\"ticks\":\"\"}},\"marker\":{\"colorbar\":{\"outlinewidth\":0,\"ticks\":\"\"}},\"type\":\"scatter3d\"}],\"scattercarpet\":[{\"marker\":{\"colorbar\":{\"outlinewidth\":0,\"ticks\":\"\"}},\"type\":\"scattercarpet\"}],\"scattergeo\":[{\"marker\":{\"colorbar\":{\"outlinewidth\":0,\"ticks\":\"\"}},\"type\":\"scattergeo\"}],\"scattergl\":[{\"marker\":{\"colorbar\":{\"outlinewidth\":0,\"ticks\":\"\"}},\"type\":\"scattergl\"}],\"scattermapbox\":[{\"marker\":{\"colorbar\":{\"outlinewidth\":0,\"ticks\":\"\"}},\"type\":\"scattermapbox\"}],\"scatterpolargl\":[{\"marker\":{\"colorbar\":{\"outlinewidth\":0,\"ticks\":\"\"}},\"type\":\"scatterpolargl\"}],\"scatterpolar\":[{\"marker\":{\"colorbar\":{\"outlinewidth\":0,\"ticks\":\"\"}},\"type\":\"scatterpolar\"}],\"scatter\":[{\"fillpattern\":{\"fillmode\":\"overlay\",\"size\":10,\"solidity\":0.2},\"type\":\"scatter\"}],\"scatterternary\":[{\"marker\":{\"colorbar\":{\"outlinewidth\":0,\"ticks\":\"\"}},\"type\":\"scatterternary\"}],\"surface\":[{\"colorbar\":{\"outlinewidth\":0,\"ticks\":\"\"},\"colorscale\":[[0.0,\"#0d0887\"],[0.1111111111111111,\"#46039f\"],[0.2222222222222222,\"#7201a8\"],[0.3333333333333333,\"#9c179e\"],[0.4444444444444444,\"#bd3786\"],[0.5555555555555556,\"#d8576b\"],[0.6666666666666666,\"#ed7953\"],[0.7777777777777778,\"#fb9f3a\"],[0.8888888888888888,\"#fdca26\"],[1.0,\"#f0f921\"]],\"type\":\"surface\"}],\"table\":[{\"cells\":{\"fill\":{\"color\":\"#EBF0F8\"},\"line\":{\"color\":\"white\"}},\"header\":{\"fill\":{\"color\":\"#C8D4E3\"},\"line\":{\"color\":\"white\"}},\"type\":\"table\"}]},\"layout\":{\"annotationdefaults\":{\"arrowcolor\":\"#2a3f5f\",\"arrowhead\":0,\"arrowwidth\":1},\"autotypenumbers\":\"strict\",\"coloraxis\":{\"colorbar\":{\"outlinewidth\":0,\"ticks\":\"\"}},\"colorscale\":{\"diverging\":[[0,\"#8e0152\"],[0.1,\"#c51b7d\"],[0.2,\"#de77ae\"],[0.3,\"#f1b6da\"],[0.4,\"#fde0ef\"],[0.5,\"#f7f7f7\"],[0.6,\"#e6f5d0\"],[0.7,\"#b8e186\"],[0.8,\"#7fbc41\"],[0.9,\"#4d9221\"],[1,\"#276419\"]],\"sequential\":[[0.0,\"#0d0887\"],[0.1111111111111111,\"#46039f\"],[0.2222222222222222,\"#7201a8\"],[0.3333333333333333,\"#9c179e\"],[0.4444444444444444,\"#bd3786\"],[0.5555555555555556,\"#d8576b\"],[0.6666666666666666,\"#ed7953\"],[0.7777777777777778,\"#fb9f3a\"],[0.8888888888888888,\"#fdca26\"],[1.0,\"#f0f921\"]],\"sequentialminus\":[[0.0,\"#0d0887\"],[0.1111111111111111,\"#46039f\"],[0.2222222222222222,\"#7201a8\"],[0.3333333333333333,\"#9c179e\"],[0.4444444444444444,\"#bd3786\"],[0.5555555555555556,\"#d8576b\"],[0.6666666666666666,\"#ed7953\"],[0.7777777777777778,\"#fb9f3a\"],[0.8888888888888888,\"#fdca26\"],[1.0,\"#f0f921\"]]},\"colorway\":[\"#636efa\",\"#EF553B\",\"#00cc96\",\"#ab63fa\",\"#FFA15A\",\"#19d3f3\",\"#FF6692\",\"#B6E880\",\"#FF97FF\",\"#FECB52\"],\"font\":{\"color\":\"#2a3f5f\"},\"geo\":{\"bgcolor\":\"white\",\"lakecolor\":\"white\",\"landcolor\":\"white\",\"showlakes\":true,\"showland\":true,\"subunitcolor\":\"#C8D4E3\"},\"hoverlabel\":{\"align\":\"left\"},\"hovermode\":\"closest\",\"mapbox\":{\"style\":\"light\"},\"paper_bgcolor\":\"white\",\"plot_bgcolor\":\"white\",\"polar\":{\"angularaxis\":{\"gridcolor\":\"#EBF0F8\",\"linecolor\":\"#EBF0F8\",\"ticks\":\"\"},\"bgcolor\":\"white\",\"radialaxis\":{\"gridcolor\":\"#EBF0F8\",\"linecolor\":\"#EBF0F8\",\"ticks\":\"\"}},\"scene\":{\"xaxis\":{\"backgroundcolor\":\"white\",\"gridcolor\":\"#DFE8F3\",\"gridwidth\":2,\"linecolor\":\"#EBF0F8\",\"showbackground\":true,\"ticks\":\"\",\"zerolinecolor\":\"#EBF0F8\"},\"yaxis\":{\"backgroundcolor\":\"white\",\"gridcolor\":\"#DFE8F3\",\"gridwidth\":2,\"linecolor\":\"#EBF0F8\",\"showbackground\":true,\"ticks\":\"\",\"zerolinecolor\":\"#EBF0F8\"},\"zaxis\":{\"backgroundcolor\":\"white\",\"gridcolor\":\"#DFE8F3\",\"gridwidth\":2,\"linecolor\":\"#EBF0F8\",\"showbackground\":true,\"ticks\":\"\",\"zerolinecolor\":\"#EBF0F8\"}},\"shapedefaults\":{\"line\":{\"color\":\"#2a3f5f\"}},\"ternary\":{\"aaxis\":{\"gridcolor\":\"#DFE8F3\",\"linecolor\":\"#A2B1C6\",\"ticks\":\"\"},\"baxis\":{\"gridcolor\":\"#DFE8F3\",\"linecolor\":\"#A2B1C6\",\"ticks\":\"\"},\"bgcolor\":\"white\",\"caxis\":{\"gridcolor\":\"#DFE8F3\",\"linecolor\":\"#A2B1C6\",\"ticks\":\"\"}},\"title\":{\"x\":0.05},\"xaxis\":{\"automargin\":true,\"gridcolor\":\"#EBF0F8\",\"linecolor\":\"#EBF0F8\",\"ticks\":\"\",\"title\":{\"standoff\":15},\"zerolinecolor\":\"#EBF0F8\",\"zerolinewidth\":2},\"yaxis\":{\"automargin\":true,\"gridcolor\":\"#EBF0F8\",\"linecolor\":\"#EBF0F8\",\"ticks\":\"\",\"title\":{\"standoff\":15},\"zerolinecolor\":\"#EBF0F8\",\"zerolinewidth\":2}}},\"xaxis\":{\"anchor\":\"y\",\"domain\":[0.0,0.175],\"showgrid\":true},\"yaxis\":{\"anchor\":\"x\",\"domain\":[0.9283950617283949,0.9999999999999999],\"showgrid\":true},\"xaxis2\":{\"anchor\":\"y2\",\"domain\":[0.275,0.45],\"showgrid\":true},\"yaxis2\":{\"anchor\":\"x2\",\"domain\":[0.9283950617283949,0.9999999999999999],\"showgrid\":true},\"xaxis3\":{\"anchor\":\"y3\",\"domain\":[0.55,0.7250000000000001],\"showgrid\":true},\"yaxis3\":{\"anchor\":\"x3\",\"domain\":[0.9283950617283949,0.9999999999999999],\"showgrid\":true},\"xaxis4\":{\"anchor\":\"y4\",\"domain\":[0.825,1.0],\"showgrid\":true},\"yaxis4\":{\"anchor\":\"x4\",\"domain\":[0.9283950617283949,0.9999999999999999],\"showgrid\":true},\"xaxis5\":{\"anchor\":\"y5\",\"domain\":[0.0,0.175],\"showgrid\":true},\"yaxis5\":{\"anchor\":\"x5\",\"domain\":[0.8123456790123456,0.8839506172839505],\"showgrid\":true},\"xaxis6\":{\"anchor\":\"y6\",\"domain\":[0.275,0.45],\"showgrid\":true},\"yaxis6\":{\"anchor\":\"x6\",\"domain\":[0.8123456790123456,0.8839506172839505],\"showgrid\":true},\"xaxis7\":{\"anchor\":\"y7\",\"domain\":[0.55,0.7250000000000001],\"showgrid\":true},\"yaxis7\":{\"anchor\":\"x7\",\"domain\":[0.8123456790123456,0.8839506172839505],\"showgrid\":true},\"xaxis8\":{\"anchor\":\"y8\",\"domain\":[0.825,1.0],\"showgrid\":true},\"yaxis8\":{\"anchor\":\"x8\",\"domain\":[0.8123456790123456,0.8839506172839505],\"showgrid\":true},\"xaxis9\":{\"anchor\":\"y9\",\"domain\":[0.0,0.175],\"showgrid\":true},\"yaxis9\":{\"anchor\":\"x9\",\"domain\":[0.6962962962962962,0.7679012345679012],\"showgrid\":true},\"xaxis10\":{\"anchor\":\"y10\",\"domain\":[0.275,0.45],\"showgrid\":true},\"yaxis10\":{\"anchor\":\"x10\",\"domain\":[0.6962962962962962,0.7679012345679012],\"showgrid\":true},\"xaxis11\":{\"anchor\":\"y11\",\"domain\":[0.55,0.7250000000000001],\"showgrid\":true},\"yaxis11\":{\"anchor\":\"x11\",\"domain\":[0.6962962962962962,0.7679012345679012],\"showgrid\":true},\"xaxis12\":{\"anchor\":\"y12\",\"domain\":[0.825,1.0],\"showgrid\":true},\"yaxis12\":{\"anchor\":\"x12\",\"domain\":[0.6962962962962962,0.7679012345679012],\"showgrid\":true},\"xaxis13\":{\"anchor\":\"y13\",\"domain\":[0.0,0.175],\"showgrid\":true},\"yaxis13\":{\"anchor\":\"x13\",\"domain\":[0.5802469135802468,0.6518518518518518],\"showgrid\":true},\"xaxis14\":{\"anchor\":\"y14\",\"domain\":[0.275,0.45],\"showgrid\":true},\"yaxis14\":{\"anchor\":\"x14\",\"domain\":[0.5802469135802468,0.6518518518518518],\"showgrid\":true},\"xaxis15\":{\"anchor\":\"y15\",\"domain\":[0.55,0.7250000000000001],\"showgrid\":true},\"yaxis15\":{\"anchor\":\"x15\",\"domain\":[0.5802469135802468,0.6518518518518518],\"showgrid\":true},\"xaxis16\":{\"anchor\":\"y16\",\"domain\":[0.825,1.0],\"showgrid\":true},\"yaxis16\":{\"anchor\":\"x16\",\"domain\":[0.5802469135802468,0.6518518518518518],\"showgrid\":true},\"xaxis17\":{\"anchor\":\"y17\",\"domain\":[0.0,0.175],\"showgrid\":true},\"yaxis17\":{\"anchor\":\"x17\",\"domain\":[0.46419753086419746,0.5358024691358024],\"showgrid\":true},\"xaxis18\":{\"anchor\":\"y18\",\"domain\":[0.275,0.45],\"showgrid\":true},\"yaxis18\":{\"anchor\":\"x18\",\"domain\":[0.46419753086419746,0.5358024691358024],\"showgrid\":true},\"xaxis19\":{\"anchor\":\"y19\",\"domain\":[0.55,0.7250000000000001],\"showgrid\":true},\"yaxis19\":{\"anchor\":\"x19\",\"domain\":[0.46419753086419746,0.5358024691358024],\"showgrid\":true},\"xaxis20\":{\"anchor\":\"y20\",\"domain\":[0.825,1.0],\"showgrid\":true},\"yaxis20\":{\"anchor\":\"x20\",\"domain\":[0.46419753086419746,0.5358024691358024],\"showgrid\":true},\"xaxis21\":{\"anchor\":\"y21\",\"domain\":[0.0,0.175],\"showgrid\":true},\"yaxis21\":{\"anchor\":\"x21\",\"domain\":[0.3481481481481481,0.419753086419753],\"showgrid\":true},\"xaxis22\":{\"anchor\":\"y22\",\"domain\":[0.275,0.45],\"showgrid\":true},\"yaxis22\":{\"anchor\":\"x22\",\"domain\":[0.3481481481481481,0.419753086419753],\"showgrid\":true},\"xaxis23\":{\"anchor\":\"y23\",\"domain\":[0.55,0.7250000000000001],\"showgrid\":true},\"yaxis23\":{\"anchor\":\"x23\",\"domain\":[0.3481481481481481,0.419753086419753],\"showgrid\":true},\"xaxis24\":{\"anchor\":\"y24\",\"domain\":[0.825,1.0],\"showgrid\":true},\"yaxis24\":{\"anchor\":\"x24\",\"domain\":[0.3481481481481481,0.419753086419753],\"showgrid\":true},\"xaxis25\":{\"anchor\":\"y25\",\"domain\":[0.0,0.175],\"showgrid\":true},\"yaxis25\":{\"anchor\":\"x25\",\"domain\":[0.23209876543209873,0.30370370370370364],\"showgrid\":true},\"xaxis26\":{\"anchor\":\"y26\",\"domain\":[0.275,0.45],\"showgrid\":true},\"yaxis26\":{\"anchor\":\"x26\",\"domain\":[0.23209876543209873,0.30370370370370364],\"showgrid\":true},\"xaxis27\":{\"anchor\":\"y27\",\"domain\":[0.55,0.7250000000000001],\"showgrid\":true},\"yaxis27\":{\"anchor\":\"x27\",\"domain\":[0.23209876543209873,0.30370370370370364],\"showgrid\":true},\"xaxis28\":{\"anchor\":\"y28\",\"domain\":[0.825,1.0],\"showgrid\":true},\"yaxis28\":{\"anchor\":\"x28\",\"domain\":[0.23209876543209873,0.30370370370370364],\"showgrid\":true},\"xaxis29\":{\"anchor\":\"y29\",\"domain\":[0.0,0.175],\"showgrid\":true},\"yaxis29\":{\"anchor\":\"x29\",\"domain\":[0.11604938271604937,0.18765432098765428],\"showgrid\":true},\"xaxis30\":{\"anchor\":\"y30\",\"domain\":[0.275,0.45],\"showgrid\":true},\"yaxis30\":{\"anchor\":\"x30\",\"domain\":[0.11604938271604937,0.18765432098765428],\"showgrid\":true},\"xaxis31\":{\"anchor\":\"y31\",\"domain\":[0.55,0.7250000000000001],\"showgrid\":true},\"yaxis31\":{\"anchor\":\"x31\",\"domain\":[0.11604938271604937,0.18765432098765428],\"showgrid\":true},\"xaxis32\":{\"anchor\":\"y32\",\"domain\":[0.825,1.0],\"showgrid\":true},\"yaxis32\":{\"anchor\":\"x32\",\"domain\":[0.11604938271604937,0.18765432098765428],\"showgrid\":true},\"xaxis33\":{\"anchor\":\"y33\",\"domain\":[0.0,0.175],\"showgrid\":true},\"yaxis33\":{\"anchor\":\"x33\",\"domain\":[0.0,0.07160493827160493],\"showgrid\":true},\"xaxis34\":{\"anchor\":\"y34\",\"domain\":[0.275,0.45],\"showgrid\":true},\"yaxis34\":{\"anchor\":\"x34\",\"domain\":[0.0,0.07160493827160493],\"showgrid\":true},\"xaxis35\":{\"anchor\":\"y35\",\"domain\":[0.55,0.7250000000000001],\"showgrid\":true},\"yaxis35\":{\"anchor\":\"x35\",\"domain\":[0.0,0.07160493827160493],\"showgrid\":true},\"xaxis36\":{\"anchor\":\"y36\",\"domain\":[0.825,1.0],\"showgrid\":true},\"yaxis36\":{\"anchor\":\"x36\",\"domain\":[0.0,0.07160493827160493],\"showgrid\":true},\"annotations\":[{\"font\":{\"size\":16},\"showarrow\":false,\"text\":\"Topic 0\",\"x\":0.0875,\"xanchor\":\"center\",\"xref\":\"paper\",\"y\":0.9999999999999999,\"yanchor\":\"bottom\",\"yref\":\"paper\"},{\"font\":{\"size\":16},\"showarrow\":false,\"text\":\"Topic 1\",\"x\":0.36250000000000004,\"xanchor\":\"center\",\"xref\":\"paper\",\"y\":0.9999999999999999,\"yanchor\":\"bottom\",\"yref\":\"paper\"},{\"font\":{\"size\":16},\"showarrow\":false,\"text\":\"Topic 2\",\"x\":0.6375000000000001,\"xanchor\":\"center\",\"xref\":\"paper\",\"y\":0.9999999999999999,\"yanchor\":\"bottom\",\"yref\":\"paper\"},{\"font\":{\"size\":16},\"showarrow\":false,\"text\":\"Topic 3\",\"x\":0.9125,\"xanchor\":\"center\",\"xref\":\"paper\",\"y\":0.9999999999999999,\"yanchor\":\"bottom\",\"yref\":\"paper\"},{\"font\":{\"size\":16},\"showarrow\":false,\"text\":\"Topic 4\",\"x\":0.0875,\"xanchor\":\"center\",\"xref\":\"paper\",\"y\":0.8839506172839505,\"yanchor\":\"bottom\",\"yref\":\"paper\"},{\"font\":{\"size\":16},\"showarrow\":false,\"text\":\"Topic 5\",\"x\":0.36250000000000004,\"xanchor\":\"center\",\"xref\":\"paper\",\"y\":0.8839506172839505,\"yanchor\":\"bottom\",\"yref\":\"paper\"},{\"font\":{\"size\":16},\"showarrow\":false,\"text\":\"Topic 6\",\"x\":0.6375000000000001,\"xanchor\":\"center\",\"xref\":\"paper\",\"y\":0.8839506172839505,\"yanchor\":\"bottom\",\"yref\":\"paper\"},{\"font\":{\"size\":16},\"showarrow\":false,\"text\":\"Topic 7\",\"x\":0.9125,\"xanchor\":\"center\",\"xref\":\"paper\",\"y\":0.8839506172839505,\"yanchor\":\"bottom\",\"yref\":\"paper\"},{\"font\":{\"size\":16},\"showarrow\":false,\"text\":\"Topic 8\",\"x\":0.0875,\"xanchor\":\"center\",\"xref\":\"paper\",\"y\":0.7679012345679012,\"yanchor\":\"bottom\",\"yref\":\"paper\"},{\"font\":{\"size\":16},\"showarrow\":false,\"text\":\"Topic 9\",\"x\":0.36250000000000004,\"xanchor\":\"center\",\"xref\":\"paper\",\"y\":0.7679012345679012,\"yanchor\":\"bottom\",\"yref\":\"paper\"},{\"font\":{\"size\":16},\"showarrow\":false,\"text\":\"Topic 10\",\"x\":0.6375000000000001,\"xanchor\":\"center\",\"xref\":\"paper\",\"y\":0.7679012345679012,\"yanchor\":\"bottom\",\"yref\":\"paper\"},{\"font\":{\"size\":16},\"showarrow\":false,\"text\":\"Topic 11\",\"x\":0.9125,\"xanchor\":\"center\",\"xref\":\"paper\",\"y\":0.7679012345679012,\"yanchor\":\"bottom\",\"yref\":\"paper\"},{\"font\":{\"size\":16},\"showarrow\":false,\"text\":\"Topic 12\",\"x\":0.0875,\"xanchor\":\"center\",\"xref\":\"paper\",\"y\":0.6518518518518518,\"yanchor\":\"bottom\",\"yref\":\"paper\"},{\"font\":{\"size\":16},\"showarrow\":false,\"text\":\"Topic 13\",\"x\":0.36250000000000004,\"xanchor\":\"center\",\"xref\":\"paper\",\"y\":0.6518518518518518,\"yanchor\":\"bottom\",\"yref\":\"paper\"},{\"font\":{\"size\":16},\"showarrow\":false,\"text\":\"Topic 14\",\"x\":0.6375000000000001,\"xanchor\":\"center\",\"xref\":\"paper\",\"y\":0.6518518518518518,\"yanchor\":\"bottom\",\"yref\":\"paper\"},{\"font\":{\"size\":16},\"showarrow\":false,\"text\":\"Topic 15\",\"x\":0.9125,\"xanchor\":\"center\",\"xref\":\"paper\",\"y\":0.6518518518518518,\"yanchor\":\"bottom\",\"yref\":\"paper\"},{\"font\":{\"size\":16},\"showarrow\":false,\"text\":\"Topic 16\",\"x\":0.0875,\"xanchor\":\"center\",\"xref\":\"paper\",\"y\":0.5358024691358024,\"yanchor\":\"bottom\",\"yref\":\"paper\"},{\"font\":{\"size\":16},\"showarrow\":false,\"text\":\"Topic 17\",\"x\":0.36250000000000004,\"xanchor\":\"center\",\"xref\":\"paper\",\"y\":0.5358024691358024,\"yanchor\":\"bottom\",\"yref\":\"paper\"},{\"font\":{\"size\":16},\"showarrow\":false,\"text\":\"Topic 18\",\"x\":0.6375000000000001,\"xanchor\":\"center\",\"xref\":\"paper\",\"y\":0.5358024691358024,\"yanchor\":\"bottom\",\"yref\":\"paper\"},{\"font\":{\"size\":16},\"showarrow\":false,\"text\":\"Topic 19\",\"x\":0.9125,\"xanchor\":\"center\",\"xref\":\"paper\",\"y\":0.5358024691358024,\"yanchor\":\"bottom\",\"yref\":\"paper\"},{\"font\":{\"size\":16},\"showarrow\":false,\"text\":\"Topic 20\",\"x\":0.0875,\"xanchor\":\"center\",\"xref\":\"paper\",\"y\":0.419753086419753,\"yanchor\":\"bottom\",\"yref\":\"paper\"},{\"font\":{\"size\":16},\"showarrow\":false,\"text\":\"Topic 21\",\"x\":0.36250000000000004,\"xanchor\":\"center\",\"xref\":\"paper\",\"y\":0.419753086419753,\"yanchor\":\"bottom\",\"yref\":\"paper\"},{\"font\":{\"size\":16},\"showarrow\":false,\"text\":\"Topic 22\",\"x\":0.6375000000000001,\"xanchor\":\"center\",\"xref\":\"paper\",\"y\":0.419753086419753,\"yanchor\":\"bottom\",\"yref\":\"paper\"},{\"font\":{\"size\":16},\"showarrow\":false,\"text\":\"Topic 23\",\"x\":0.9125,\"xanchor\":\"center\",\"xref\":\"paper\",\"y\":0.419753086419753,\"yanchor\":\"bottom\",\"yref\":\"paper\"},{\"font\":{\"size\":16},\"showarrow\":false,\"text\":\"Topic 24\",\"x\":0.0875,\"xanchor\":\"center\",\"xref\":\"paper\",\"y\":0.30370370370370364,\"yanchor\":\"bottom\",\"yref\":\"paper\"},{\"font\":{\"size\":16},\"showarrow\":false,\"text\":\"Topic 25\",\"x\":0.36250000000000004,\"xanchor\":\"center\",\"xref\":\"paper\",\"y\":0.30370370370370364,\"yanchor\":\"bottom\",\"yref\":\"paper\"},{\"font\":{\"size\":16},\"showarrow\":false,\"text\":\"Topic 26\",\"x\":0.6375000000000001,\"xanchor\":\"center\",\"xref\":\"paper\",\"y\":0.30370370370370364,\"yanchor\":\"bottom\",\"yref\":\"paper\"},{\"font\":{\"size\":16},\"showarrow\":false,\"text\":\"Topic 27\",\"x\":0.9125,\"xanchor\":\"center\",\"xref\":\"paper\",\"y\":0.30370370370370364,\"yanchor\":\"bottom\",\"yref\":\"paper\"},{\"font\":{\"size\":16},\"showarrow\":false,\"text\":\"Topic 28\",\"x\":0.0875,\"xanchor\":\"center\",\"xref\":\"paper\",\"y\":0.18765432098765428,\"yanchor\":\"bottom\",\"yref\":\"paper\"},{\"font\":{\"size\":16},\"showarrow\":false,\"text\":\"Topic 29\",\"x\":0.36250000000000004,\"xanchor\":\"center\",\"xref\":\"paper\",\"y\":0.18765432098765428,\"yanchor\":\"bottom\",\"yref\":\"paper\"},{\"font\":{\"size\":16},\"showarrow\":false,\"text\":\"Topic 30\",\"x\":0.6375000000000001,\"xanchor\":\"center\",\"xref\":\"paper\",\"y\":0.18765432098765428,\"yanchor\":\"bottom\",\"yref\":\"paper\"},{\"font\":{\"size\":16},\"showarrow\":false,\"text\":\"Topic 31\",\"x\":0.9125,\"xanchor\":\"center\",\"xref\":\"paper\",\"y\":0.18765432098765428,\"yanchor\":\"bottom\",\"yref\":\"paper\"},{\"font\":{\"size\":16},\"showarrow\":false,\"text\":\"Topic 32\",\"x\":0.0875,\"xanchor\":\"center\",\"xref\":\"paper\",\"y\":0.07160493827160493,\"yanchor\":\"bottom\",\"yref\":\"paper\"},{\"font\":{\"size\":16},\"showarrow\":false,\"text\":\"Topic 33\",\"x\":0.36250000000000004,\"xanchor\":\"center\",\"xref\":\"paper\",\"y\":0.07160493827160493,\"yanchor\":\"bottom\",\"yref\":\"paper\"}],\"title\":{\"font\":{\"size\":22,\"color\":\"Black\"},\"text\":\"All - Lack of Access to Health\\u002fMental Health Care\",\"x\":0.5,\"xanchor\":\"center\",\"yanchor\":\"top\"},\"hoverlabel\":{\"font\":{\"size\":16,\"family\":\"Rockwell\"},\"bgcolor\":\"white\"},\"showlegend\":false,\"width\":1000,\"height\":2250},                        {\"responsive\": true}                    )                };                            </script>        </div>"
      ],
      "text/plain": [
       "Figure({\n",
       "    'data': [{'marker': {'color': '#D55E00'},\n",
       "              'orientation': 'h',\n",
       "              'type': 'bar',\n",
       "              'x': [0.4155278205871582, 0.44413238763809204, 0.4442964196205139,\n",
       "                    0.4534626305103302, 0.5090591907501221],\n",
       "              'xaxis': 'x',\n",
       "              'y': [suicides  , psychiatric  , committed suicide  , suicide  ,\n",
       "                    suicide article  ],\n",
       "              'yaxis': 'y'},\n",
       "             {'marker': {'color': '#0072B2'},\n",
       "              'orientation': 'h',\n",
       "              'type': 'bar',\n",
       "              'x': [0.560097873210907, 0.5709260702133179, 0.5785031914710999,\n",
       "                    0.5899217128753662, 0.642210841178894],\n",
       "              'xaxis': 'x2',\n",
       "              'y': [mental health  , mental illness  , suicide related  , suicide\n",
       "                    attempt  , suicide article  ],\n",
       "              'yaxis': 'y2'},\n",
       "             {'marker': {'color': '#CC79A7'},\n",
       "              'orientation': 'h',\n",
       "              'type': 'bar',\n",
       "              'x': [0.5368539690971375, 0.5408509969711304, 0.5544157028198242,\n",
       "                    0.6187630295753479, 0.6394949555397034],\n",
       "              'xaxis': 'x3',\n",
       "              'y': [suicidal thoughts  , attempted suicide  , suicide rates  ,\n",
       "                    discusses suicide  , suicide prevention  ],\n",
       "              'yaxis': 'y3'},\n",
       "             {'marker': {'color': '#E69F00'},\n",
       "              'orientation': 'h',\n",
       "              'type': 'bar',\n",
       "              'x': [0.49908870458602905, 0.5180374979972839, 0.570652425289154,\n",
       "                    0.6141881942749023, 0.7198272943496704],\n",
       "              'xaxis': 'x4',\n",
       "              'y': [suicides related  , among veterans  , suicide among  ,\n",
       "                    suicides among  , veteran suicide  ],\n",
       "              'yaxis': 'y4'},\n",
       "             {'marker': {'color': '#56B4E9'},\n",
       "              'orientation': 'h',\n",
       "              'type': 'bar',\n",
       "              'x': [0.5039488077163696, 0.5053021907806396, 0.5230704545974731,\n",
       "                    0.5429297685623169, 0.5552266240119934],\n",
       "              'xaxis': 'x5',\n",
       "              'y': [pandemic  , 19 pandemic  , suicides  , coronavirus pandemic  ,\n",
       "                    covid 19  ],\n",
       "              'yaxis': 'y5'},\n",
       "             {'marker': {'color': '#009E73'},\n",
       "              'orientation': 'h',\n",
       "              'type': 'bar',\n",
       "              'x': [0.4399995803833008, 0.4719892740249634, 0.47738116979599,\n",
       "                    0.491260826587677, 0.49211785197257996],\n",
       "              'xaxis': 'x6',\n",
       "              'y': [substance abuse  , opioid addiction  , cause suicide  ,\n",
       "                    overdoses  , drug overdose  ],\n",
       "              'yaxis': 'y6'},\n",
       "             {'marker': {'color': '#F0E442'},\n",
       "              'orientation': 'h',\n",
       "              'type': 'bar',\n",
       "              'x': [0.5667771697044373, 0.573320746421814, 0.5775570273399353,\n",
       "                    0.5776736736297607, 0.6588498950004578],\n",
       "              'xaxis': 'x7',\n",
       "              'y': [among transgender  , transgender people  , transgender\n",
       "                    individuals  , transgender children  , transgender youth  ],\n",
       "              'yaxis': 'y7'},\n",
       "             {'marker': {'color': '#D55E00'},\n",
       "              'orientation': 'h',\n",
       "              'type': 'bar',\n",
       "              'x': [0.6077508330345154, 0.644828736782074, 0.6834176182746887,\n",
       "                    0.6901155710220337, 0.7071844339370728],\n",
       "              'xaxis': 'x8',\n",
       "              'y': [terminal illnesses  , euthanasia due  , euthanasia  , assisted\n",
       "                    death  , assisted suicide  ],\n",
       "              'yaxis': 'y8'},\n",
       "             {'marker': {'color': '#0072B2'},\n",
       "              'orientation': 'h',\n",
       "              'type': 'bar',\n",
       "              'x': [0.42093467712402344, 0.43280354142189026, 0.4362477660179138,\n",
       "                    0.44091349840164185, 0.582173764705658],\n",
       "              'xaxis': 'x9',\n",
       "              'y': [encephalopathy  , mentions adams  , phillip adams  , suicide\n",
       "                    case  , adams killed  ],\n",
       "              'yaxis': 'y9'},\n",
       "             {'marker': {'color': '#CC79A7'},\n",
       "              'orientation': 'h',\n",
       "              'type': 'bar',\n",
       "              'x': [0.45893651247024536, 0.4683215320110321, 0.47419273853302,\n",
       "                    0.5147870182991028, 0.5414877533912659],\n",
       "              'xaxis': 'x10',\n",
       "              'y': [suicide  , cause suicide  , suicide article  , suicide related\n",
       "                    , killed wife  ],\n",
       "              'yaxis': 'y10'},\n",
       "             {'marker': {'color': '#E69F00'},\n",
       "              'orientation': 'h',\n",
       "              'type': 'bar',\n",
       "              'x': [0.49631786346435547, 0.5052452087402344, 0.5190635323524475,\n",
       "                    0.5785466432571411, 0.6453685760498047],\n",
       "              'xaxis': 'x11',\n",
       "              'y': [financial stress  , suicide falling  , mental health  ,\n",
       "                    homelessness  , becoming homeless  ],\n",
       "              'yaxis': 'y11'},\n",
       "             {'marker': {'color': '#56B4E9'},\n",
       "              'orientation': 'h',\n",
       "              'type': 'bar',\n",
       "              'x': [0.44640401005744934, 0.49289774894714355, 0.4998737573623657,\n",
       "                    0.5135403275489807, 0.5295816659927368],\n",
       "              'xaxis': 'x12',\n",
       "              'y': [suicide  , killed surgeon  , killed patient  , suicide related\n",
       "                    , suicide article  ],\n",
       "              'yaxis': 'y12'},\n",
       "             {'marker': {'color': '#009E73'},\n",
       "              'orientation': 'h',\n",
       "              'type': 'bar',\n",
       "              'x': [0.475222647190094, 0.4781862497329712, 0.5009626150131226,\n",
       "                    0.5138344764709473, 0.5573989748954773],\n",
       "              'xaxis': 'x13',\n",
       "              'y': [suicide article  , jean fatally  , britney  , britney spears\n",
       "                    , spears grandmother  ],\n",
       "              'yaxis': 'y13'},\n",
       "             {'marker': {'color': '#F0E442'},\n",
       "              'orientation': 'h',\n",
       "              'type': 'bar',\n",
       "              'x': [0.4470905065536499, 0.5129291415214539, 0.5839254260063171,\n",
       "                    0.5892336368560791, 0.6155108213424683],\n",
       "              'xaxis': 'x14',\n",
       "              'y': [died suicide  , kaczynski known  , kaczynski  , mentions\n",
       "                    kaczynski  , ted kaczynski  ],\n",
       "              'yaxis': 'y14'},\n",
       "             {'marker': {'color': '#D55E00'},\n",
       "              'orientation': 'h',\n",
       "              'type': 'bar',\n",
       "              'x': [0.4362396001815796, 0.4410637319087982, 0.455707848072052,\n",
       "                    0.4839523136615753, 0.5047702789306641],\n",
       "              'xaxis': 'x15',\n",
       "              'y': [psychiatric  , shot people  , school shot  , student shot  ,\n",
       "                    mental health  ],\n",
       "              'yaxis': 'y15'},\n",
       "             {'marker': {'color': '#0072B2'},\n",
       "              'orientation': 'h',\n",
       "              'type': 'bar',\n",
       "              'x': [0.4155290126800537, 0.45410236716270447, 0.48227250576019287,\n",
       "                    0.5341598391532898, 0.591972291469574],\n",
       "              'xaxis': 'x16',\n",
       "              'y': [suicide age  , jean tatlock  , died suicide  , suicide article\n",
       "                    , psychiatrist died  ],\n",
       "              'yaxis': 'y16'},\n",
       "             {'marker': {'color': '#CC79A7'},\n",
       "              'orientation': 'h',\n",
       "              'type': 'bar',\n",
       "              'x': [0.6286213994026184, 0.6358622312545776, 0.6377631425857544,\n",
       "                    0.6671561002731323, 0.7325437068939209],\n",
       "              'xaxis': 'x17',\n",
       "              'y': [roe wade  , legalized abortion  , abortions  , legal abortions\n",
       "                    , abortions article  ],\n",
       "              'yaxis': 'y17'},\n",
       "             {'marker': {'color': '#E69F00'},\n",
       "              'orientation': 'h',\n",
       "              'type': 'bar',\n",
       "              'x': [0.47061461210250854, 0.48584604263305664, 0.4954584836959839,\n",
       "                    0.5404131412506104, 0.5492324829101562],\n",
       "              'xaxis': 'x18',\n",
       "              'y': [high suicide  , indigenous communities  , suicide rates  ,\n",
       "                    suicide prevention  , prevention indigenous  ],\n",
       "              'yaxis': 'y18'},\n",
       "             {'marker': {'color': '#56B4E9'},\n",
       "              'orientation': 'h',\n",
       "              'type': 'bar',\n",
       "              'x': [0.44193997979164124, 0.44854113459587097, 0.4579145312309265,\n",
       "                    0.4693012833595276, 0.5072011351585388],\n",
       "              'xaxis': 'x19',\n",
       "              'y': [self harm  , mental health  , suicide  , eating disorders  ,\n",
       "                    suicide attempts  ],\n",
       "              'yaxis': 'y19'},\n",
       "             {'marker': {'color': '#009E73'},\n",
       "              'orientation': 'h',\n",
       "              'type': 'bar',\n",
       "              'x': [0.3776336908340454, 0.4010879695415497, 0.410564124584198,\n",
       "                    0.4176783263683319, 0.4759836196899414],\n",
       "              'xaxis': 'x20',\n",
       "              'y': [taylor founder  , suicide due  , suicide  , suicide suffering\n",
       "                    , died suicide  ],\n",
       "              'yaxis': 'y20'},\n",
       "             {'marker': {'color': '#F0E442'},\n",
       "              'orientation': 'h',\n",
       "              'type': 'bar',\n",
       "              'x': [0.45344018936157227, 0.45397692918777466, 0.4655412435531616,\n",
       "                    0.48691123723983765, 0.48921358585357666],\n",
       "              'xaxis': 'x21',\n",
       "              'y': [ai  , suicide case  , ai providing  , potential ai  , suicide\n",
       "                    article  ],\n",
       "              'yaxis': 'y21'},\n",
       "             {'marker': {'color': '#D55E00'},\n",
       "              'orientation': 'h',\n",
       "              'type': 'bar',\n",
       "              'x': [0.5137103796005249, 0.5472550392150879, 0.5654796361923218,\n",
       "                    0.5892345905303955, 0.6118481755256653],\n",
       "              'xaxis': 'x22',\n",
       "              'y': [gogh artist  , gogh shot  , van gogh  , gogh struggled  , gogh\n",
       "                    suffered  ],\n",
       "              'yaxis': 'y22'},\n",
       "             {'marker': {'color': '#0072B2'},\n",
       "              'orientation': 'h',\n",
       "              'type': 'bar',\n",
       "              'x': [0.3781202435493469, 0.3897559344768524, 0.4221768081188202,\n",
       "                    0.4237411618232727, 0.48547083139419556],\n",
       "              'xaxis': 'x23',\n",
       "              'y': [murdaugh misappropriated  , mentions murdaugh  , alex murdaugh\n",
       "                    , insurance fraud  , murdaugh lawyer  ],\n",
       "              'yaxis': 'y23'},\n",
       "             {'marker': {'color': '#CC79A7'},\n",
       "              'orientation': 'h',\n",
       "              'type': 'bar',\n",
       "              'x': [0.5345906615257263, 0.5512957572937012, 0.5522753596305847,\n",
       "                    0.5566381812095642, 0.6056132316589355],\n",
       "              'xaxis': 'x24',\n",
       "              'y': [hiv aids  , aids illness  , lived hiv  , wisler hiv  , aids\n",
       "                    crisis  ],\n",
       "              'yaxis': 'y24'},\n",
       "             {'marker': {'color': '#E69F00'},\n",
       "              'orientation': 'h',\n",
       "              'type': 'bar',\n",
       "              'x': [0.3954664170742035, 0.39958229660987854, 0.42155957221984863,\n",
       "                    0.4222508370876312, 0.5348045825958252],\n",
       "              'xaxis': 'x25',\n",
       "              'y': [room business  , mental health  , cause suicide  , suicide\n",
       "                    article  , rage room  ],\n",
       "              'yaxis': 'y25'},\n",
       "             {'marker': {'color': '#56B4E9'},\n",
       "              'orientation': 'h',\n",
       "              'type': 'bar',\n",
       "              'x': [0.476906418800354, 0.4868105351924896, 0.4934661388397217,\n",
       "                    0.5042400360107422, 0.6305561661720276],\n",
       "              'xaxis': 'x26',\n",
       "              'y': [suicidal behavior  , fuller hospitalized  , suicide related  ,\n",
       "                    robert fuller  , fuller suicide  ],\n",
       "              'yaxis': 'y26'},\n",
       "             {'marker': {'color': '#009E73'},\n",
       "              'orientation': 'h',\n",
       "              'type': 'bar',\n",
       "              'x': [0.5192630290985107, 0.5858330726623535, 0.6129724979400635,\n",
       "                    0.6219008564949036, 0.6796029210090637],\n",
       "              'xaxis': 'x27',\n",
       "              'y': [confinement prison  , exacerbated solitary  , confinement\n",
       "                    mental  , solitary confinement  , suicide solitary  ],\n",
       "              'yaxis': 'y27'},\n",
       "             {'marker': {'color': '#F0E442'},\n",
       "              'orientation': 'h',\n",
       "              'type': 'bar',\n",
       "              'x': [0.49203047156333923, 0.49817949533462524, 0.49961620569229126,\n",
       "                    0.5256267189979553, 0.5424455404281616],\n",
       "              'xaxis': 'x28',\n",
       "              'y': [events hurricanes  , mentions hurricane  , hurricanes often  ,\n",
       "                    caused hurricane  , increased suicides  ],\n",
       "              'yaxis': 'y28'},\n",
       "             {'marker': {'color': '#D55E00'},\n",
       "              'orientation': 'h',\n",
       "              'type': 'bar',\n",
       "              'x': [0.3554232716560364, 0.3882986307144165, 0.4366764724254608,\n",
       "                    0.5251141786575317, 0.537527859210968],\n",
       "              'xaxis': 'x29',\n",
       "              'y': [contributed death  , wife death  , meisner  , meisner\n",
       "                    diagnosed  , randy meisner  ],\n",
       "              'yaxis': 'y29'},\n",
       "             {'marker': {'color': '#0072B2'},\n",
       "              'orientation': 'h',\n",
       "              'type': 'bar',\n",
       "              'x': [0.551547646522522, 0.5625615119934082, 0.581689178943634,\n",
       "                    0.5821213126182556, 0.7048056125640869],\n",
       "              'xaxis': 'x30',\n",
       "              'y': [potential psilocybin  , psychedelic  , psilocybin  , help\n",
       "                    psychedelic  , psychedelic therapy  ],\n",
       "              'yaxis': 'y30'},\n",
       "             {'marker': {'color': '#CC79A7'},\n",
       "              'orientation': 'h',\n",
       "              'type': 'bar',\n",
       "              'x': [0.3933965563774109, 0.4286538064479828, 0.4779449701309204,\n",
       "                    0.48659390211105347, 0.5141337513923645],\n",
       "              'xaxis': 'x31',\n",
       "              'y': [mentions bobby  , spector death  , death bobby  , bobby mother\n",
       "                    , father suicide  ],\n",
       "              'yaxis': 'y31'},\n",
       "             {'marker': {'color': '#E69F00'},\n",
       "              'orientation': 'h',\n",
       "              'type': 'bar',\n",
       "              'x': [0.38110843300819397, 0.3952106237411499, 0.3952162563800812,\n",
       "                    0.41390320658683777, 0.4723784923553467],\n",
       "              'xaxis': 'x32',\n",
       "              'y': [took life  , lethal nature  , failure health  , problem\n",
       "                    suicide  , health hazard  ],\n",
       "              'yaxis': 'y32'},\n",
       "             {'marker': {'color': '#56B4E9'},\n",
       "              'orientation': 'h',\n",
       "              'type': 'bar',\n",
       "              'x': [0.4707571566104889, 0.4733249843120575, 0.4853609800338745,\n",
       "                    0.4918195605278015, 0.5159941911697388],\n",
       "              'xaxis': 'x33',\n",
       "              'y': [schizophrenia  , care vulnerable  , denied care  , rooms\n",
       "                    psychiatric  , colorado mental  ],\n",
       "              'yaxis': 'y33'},\n",
       "             {'marker': {'color': '#009E73'},\n",
       "              'orientation': 'h',\n",
       "              'type': 'bar',\n",
       "              'x': [0.48084771633148193, 0.4927237033843994, 0.5401365756988525,\n",
       "                    0.5499404668807983, 0.622870922088623],\n",
       "              'xaxis': 'x34',\n",
       "              'y': [suicide attempted  , mental illness  , conrad death  ,\n",
       "                    attempted suicide  , conrad suicide  ],\n",
       "              'yaxis': 'y34'}],\n",
       "    'layout': {'annotations': [{'font': {'size': 16},\n",
       "                                'showarrow': False,\n",
       "                                'text': 'Topic 0',\n",
       "                                'x': 0.0875,\n",
       "                                'xanchor': 'center',\n",
       "                                'xref': 'paper',\n",
       "                                'y': 0.9999999999999999,\n",
       "                                'yanchor': 'bottom',\n",
       "                                'yref': 'paper'},\n",
       "                               {'font': {'size': 16},\n",
       "                                'showarrow': False,\n",
       "                                'text': 'Topic 1',\n",
       "                                'x': 0.36250000000000004,\n",
       "                                'xanchor': 'center',\n",
       "                                'xref': 'paper',\n",
       "                                'y': 0.9999999999999999,\n",
       "                                'yanchor': 'bottom',\n",
       "                                'yref': 'paper'},\n",
       "                               {'font': {'size': 16},\n",
       "                                'showarrow': False,\n",
       "                                'text': 'Topic 2',\n",
       "                                'x': 0.6375000000000001,\n",
       "                                'xanchor': 'center',\n",
       "                                'xref': 'paper',\n",
       "                                'y': 0.9999999999999999,\n",
       "                                'yanchor': 'bottom',\n",
       "                                'yref': 'paper'},\n",
       "                               {'font': {'size': 16},\n",
       "                                'showarrow': False,\n",
       "                                'text': 'Topic 3',\n",
       "                                'x': 0.9125,\n",
       "                                'xanchor': 'center',\n",
       "                                'xref': 'paper',\n",
       "                                'y': 0.9999999999999999,\n",
       "                                'yanchor': 'bottom',\n",
       "                                'yref': 'paper'},\n",
       "                               {'font': {'size': 16},\n",
       "                                'showarrow': False,\n",
       "                                'text': 'Topic 4',\n",
       "                                'x': 0.0875,\n",
       "                                'xanchor': 'center',\n",
       "                                'xref': 'paper',\n",
       "                                'y': 0.8839506172839505,\n",
       "                                'yanchor': 'bottom',\n",
       "                                'yref': 'paper'},\n",
       "                               {'font': {'size': 16},\n",
       "                                'showarrow': False,\n",
       "                                'text': 'Topic 5',\n",
       "                                'x': 0.36250000000000004,\n",
       "                                'xanchor': 'center',\n",
       "                                'xref': 'paper',\n",
       "                                'y': 0.8839506172839505,\n",
       "                                'yanchor': 'bottom',\n",
       "                                'yref': 'paper'},\n",
       "                               {'font': {'size': 16},\n",
       "                                'showarrow': False,\n",
       "                                'text': 'Topic 6',\n",
       "                                'x': 0.6375000000000001,\n",
       "                                'xanchor': 'center',\n",
       "                                'xref': 'paper',\n",
       "                                'y': 0.8839506172839505,\n",
       "                                'yanchor': 'bottom',\n",
       "                                'yref': 'paper'},\n",
       "                               {'font': {'size': 16},\n",
       "                                'showarrow': False,\n",
       "                                'text': 'Topic 7',\n",
       "                                'x': 0.9125,\n",
       "                                'xanchor': 'center',\n",
       "                                'xref': 'paper',\n",
       "                                'y': 0.8839506172839505,\n",
       "                                'yanchor': 'bottom',\n",
       "                                'yref': 'paper'},\n",
       "                               {'font': {'size': 16},\n",
       "                                'showarrow': False,\n",
       "                                'text': 'Topic 8',\n",
       "                                'x': 0.0875,\n",
       "                                'xanchor': 'center',\n",
       "                                'xref': 'paper',\n",
       "                                'y': 0.7679012345679012,\n",
       "                                'yanchor': 'bottom',\n",
       "                                'yref': 'paper'},\n",
       "                               {'font': {'size': 16},\n",
       "                                'showarrow': False,\n",
       "                                'text': 'Topic 9',\n",
       "                                'x': 0.36250000000000004,\n",
       "                                'xanchor': 'center',\n",
       "                                'xref': 'paper',\n",
       "                                'y': 0.7679012345679012,\n",
       "                                'yanchor': 'bottom',\n",
       "                                'yref': 'paper'},\n",
       "                               {'font': {'size': 16},\n",
       "                                'showarrow': False,\n",
       "                                'text': 'Topic 10',\n",
       "                                'x': 0.6375000000000001,\n",
       "                                'xanchor': 'center',\n",
       "                                'xref': 'paper',\n",
       "                                'y': 0.7679012345679012,\n",
       "                                'yanchor': 'bottom',\n",
       "                                'yref': 'paper'},\n",
       "                               {'font': {'size': 16},\n",
       "                                'showarrow': False,\n",
       "                                'text': 'Topic 11',\n",
       "                                'x': 0.9125,\n",
       "                                'xanchor': 'center',\n",
       "                                'xref': 'paper',\n",
       "                                'y': 0.7679012345679012,\n",
       "                                'yanchor': 'bottom',\n",
       "                                'yref': 'paper'},\n",
       "                               {'font': {'size': 16},\n",
       "                                'showarrow': False,\n",
       "                                'text': 'Topic 12',\n",
       "                                'x': 0.0875,\n",
       "                                'xanchor': 'center',\n",
       "                                'xref': 'paper',\n",
       "                                'y': 0.6518518518518518,\n",
       "                                'yanchor': 'bottom',\n",
       "                                'yref': 'paper'},\n",
       "                               {'font': {'size': 16},\n",
       "                                'showarrow': False,\n",
       "                                'text': 'Topic 13',\n",
       "                                'x': 0.36250000000000004,\n",
       "                                'xanchor': 'center',\n",
       "                                'xref': 'paper',\n",
       "                                'y': 0.6518518518518518,\n",
       "                                'yanchor': 'bottom',\n",
       "                                'yref': 'paper'},\n",
       "                               {'font': {'size': 16},\n",
       "                                'showarrow': False,\n",
       "                                'text': 'Topic 14',\n",
       "                                'x': 0.6375000000000001,\n",
       "                                'xanchor': 'center',\n",
       "                                'xref': 'paper',\n",
       "                                'y': 0.6518518518518518,\n",
       "                                'yanchor': 'bottom',\n",
       "                                'yref': 'paper'},\n",
       "                               {'font': {'size': 16},\n",
       "                                'showarrow': False,\n",
       "                                'text': 'Topic 15',\n",
       "                                'x': 0.9125,\n",
       "                                'xanchor': 'center',\n",
       "                                'xref': 'paper',\n",
       "                                'y': 0.6518518518518518,\n",
       "                                'yanchor': 'bottom',\n",
       "                                'yref': 'paper'},\n",
       "                               {'font': {'size': 16},\n",
       "                                'showarrow': False,\n",
       "                                'text': 'Topic 16',\n",
       "                                'x': 0.0875,\n",
       "                                'xanchor': 'center',\n",
       "                                'xref': 'paper',\n",
       "                                'y': 0.5358024691358024,\n",
       "                                'yanchor': 'bottom',\n",
       "                                'yref': 'paper'},\n",
       "                               {'font': {'size': 16},\n",
       "                                'showarrow': False,\n",
       "                                'text': 'Topic 17',\n",
       "                                'x': 0.36250000000000004,\n",
       "                                'xanchor': 'center',\n",
       "                                'xref': 'paper',\n",
       "                                'y': 0.5358024691358024,\n",
       "                                'yanchor': 'bottom',\n",
       "                                'yref': 'paper'},\n",
       "                               {'font': {'size': 16},\n",
       "                                'showarrow': False,\n",
       "                                'text': 'Topic 18',\n",
       "                                'x': 0.6375000000000001,\n",
       "                                'xanchor': 'center',\n",
       "                                'xref': 'paper',\n",
       "                                'y': 0.5358024691358024,\n",
       "                                'yanchor': 'bottom',\n",
       "                                'yref': 'paper'},\n",
       "                               {'font': {'size': 16},\n",
       "                                'showarrow': False,\n",
       "                                'text': 'Topic 19',\n",
       "                                'x': 0.9125,\n",
       "                                'xanchor': 'center',\n",
       "                                'xref': 'paper',\n",
       "                                'y': 0.5358024691358024,\n",
       "                                'yanchor': 'bottom',\n",
       "                                'yref': 'paper'},\n",
       "                               {'font': {'size': 16},\n",
       "                                'showarrow': False,\n",
       "                                'text': 'Topic 20',\n",
       "                                'x': 0.0875,\n",
       "                                'xanchor': 'center',\n",
       "                                'xref': 'paper',\n",
       "                                'y': 0.419753086419753,\n",
       "                                'yanchor': 'bottom',\n",
       "                                'yref': 'paper'},\n",
       "                               {'font': {'size': 16},\n",
       "                                'showarrow': False,\n",
       "                                'text': 'Topic 21',\n",
       "                                'x': 0.36250000000000004,\n",
       "                                'xanchor': 'center',\n",
       "                                'xref': 'paper',\n",
       "                                'y': 0.419753086419753,\n",
       "                                'yanchor': 'bottom',\n",
       "                                'yref': 'paper'},\n",
       "                               {'font': {'size': 16},\n",
       "                                'showarrow': False,\n",
       "                                'text': 'Topic 22',\n",
       "                                'x': 0.6375000000000001,\n",
       "                                'xanchor': 'center',\n",
       "                                'xref': 'paper',\n",
       "                                'y': 0.419753086419753,\n",
       "                                'yanchor': 'bottom',\n",
       "                                'yref': 'paper'},\n",
       "                               {'font': {'size': 16},\n",
       "                                'showarrow': False,\n",
       "                                'text': 'Topic 23',\n",
       "                                'x': 0.9125,\n",
       "                                'xanchor': 'center',\n",
       "                                'xref': 'paper',\n",
       "                                'y': 0.419753086419753,\n",
       "                                'yanchor': 'bottom',\n",
       "                                'yref': 'paper'},\n",
       "                               {'font': {'size': 16},\n",
       "                                'showarrow': False,\n",
       "                                'text': 'Topic 24',\n",
       "                                'x': 0.0875,\n",
       "                                'xanchor': 'center',\n",
       "                                'xref': 'paper',\n",
       "                                'y': 0.30370370370370364,\n",
       "                                'yanchor': 'bottom',\n",
       "                                'yref': 'paper'},\n",
       "                               {'font': {'size': 16},\n",
       "                                'showarrow': False,\n",
       "                                'text': 'Topic 25',\n",
       "                                'x': 0.36250000000000004,\n",
       "                                'xanchor': 'center',\n",
       "                                'xref': 'paper',\n",
       "                                'y': 0.30370370370370364,\n",
       "                                'yanchor': 'bottom',\n",
       "                                'yref': 'paper'},\n",
       "                               {'font': {'size': 16},\n",
       "                                'showarrow': False,\n",
       "                                'text': 'Topic 26',\n",
       "                                'x': 0.6375000000000001,\n",
       "                                'xanchor': 'center',\n",
       "                                'xref': 'paper',\n",
       "                                'y': 0.30370370370370364,\n",
       "                                'yanchor': 'bottom',\n",
       "                                'yref': 'paper'},\n",
       "                               {'font': {'size': 16},\n",
       "                                'showarrow': False,\n",
       "                                'text': 'Topic 27',\n",
       "                                'x': 0.9125,\n",
       "                                'xanchor': 'center',\n",
       "                                'xref': 'paper',\n",
       "                                'y': 0.30370370370370364,\n",
       "                                'yanchor': 'bottom',\n",
       "                                'yref': 'paper'},\n",
       "                               {'font': {'size': 16},\n",
       "                                'showarrow': False,\n",
       "                                'text': 'Topic 28',\n",
       "                                'x': 0.0875,\n",
       "                                'xanchor': 'center',\n",
       "                                'xref': 'paper',\n",
       "                                'y': 0.18765432098765428,\n",
       "                                'yanchor': 'bottom',\n",
       "                                'yref': 'paper'},\n",
       "                               {'font': {'size': 16},\n",
       "                                'showarrow': False,\n",
       "                                'text': 'Topic 29',\n",
       "                                'x': 0.36250000000000004,\n",
       "                                'xanchor': 'center',\n",
       "                                'xref': 'paper',\n",
       "                                'y': 0.18765432098765428,\n",
       "                                'yanchor': 'bottom',\n",
       "                                'yref': 'paper'},\n",
       "                               {'font': {'size': 16},\n",
       "                                'showarrow': False,\n",
       "                                'text': 'Topic 30',\n",
       "                                'x': 0.6375000000000001,\n",
       "                                'xanchor': 'center',\n",
       "                                'xref': 'paper',\n",
       "                                'y': 0.18765432098765428,\n",
       "                                'yanchor': 'bottom',\n",
       "                                'yref': 'paper'},\n",
       "                               {'font': {'size': 16},\n",
       "                                'showarrow': False,\n",
       "                                'text': 'Topic 31',\n",
       "                                'x': 0.9125,\n",
       "                                'xanchor': 'center',\n",
       "                                'xref': 'paper',\n",
       "                                'y': 0.18765432098765428,\n",
       "                                'yanchor': 'bottom',\n",
       "                                'yref': 'paper'},\n",
       "                               {'font': {'size': 16},\n",
       "                                'showarrow': False,\n",
       "                                'text': 'Topic 32',\n",
       "                                'x': 0.0875,\n",
       "                                'xanchor': 'center',\n",
       "                                'xref': 'paper',\n",
       "                                'y': 0.07160493827160493,\n",
       "                                'yanchor': 'bottom',\n",
       "                                'yref': 'paper'},\n",
       "                               {'font': {'size': 16},\n",
       "                                'showarrow': False,\n",
       "                                'text': 'Topic 33',\n",
       "                                'x': 0.36250000000000004,\n",
       "                                'xanchor': 'center',\n",
       "                                'xref': 'paper',\n",
       "                                'y': 0.07160493827160493,\n",
       "                                'yanchor': 'bottom',\n",
       "                                'yref': 'paper'}],\n",
       "               'height': 2250,\n",
       "               'hoverlabel': {'bgcolor': 'white', 'font': {'family': 'Rockwell', 'size': 16}},\n",
       "               'showlegend': False,\n",
       "               'template': '...',\n",
       "               'title': {'font': {'color': 'Black', 'size': 22},\n",
       "                         'text': 'All - Lack of Access to Health/Mental Health Care',\n",
       "                         'x': 0.5,\n",
       "                         'xanchor': 'center',\n",
       "                         'yanchor': 'top'},\n",
       "               'width': 1000,\n",
       "               'xaxis': {'anchor': 'y', 'domain': [0.0, 0.175], 'showgrid': True},\n",
       "               'xaxis10': {'anchor': 'y10', 'domain': [0.275, 0.45], 'showgrid': True},\n",
       "               'xaxis11': {'anchor': 'y11', 'domain': [0.55, 0.7250000000000001], 'showgrid': True},\n",
       "               'xaxis12': {'anchor': 'y12', 'domain': [0.825, 1.0], 'showgrid': True},\n",
       "               'xaxis13': {'anchor': 'y13', 'domain': [0.0, 0.175], 'showgrid': True},\n",
       "               'xaxis14': {'anchor': 'y14', 'domain': [0.275, 0.45], 'showgrid': True},\n",
       "               'xaxis15': {'anchor': 'y15', 'domain': [0.55, 0.7250000000000001], 'showgrid': True},\n",
       "               'xaxis16': {'anchor': 'y16', 'domain': [0.825, 1.0], 'showgrid': True},\n",
       "               'xaxis17': {'anchor': 'y17', 'domain': [0.0, 0.175], 'showgrid': True},\n",
       "               'xaxis18': {'anchor': 'y18', 'domain': [0.275, 0.45], 'showgrid': True},\n",
       "               'xaxis19': {'anchor': 'y19', 'domain': [0.55, 0.7250000000000001], 'showgrid': True},\n",
       "               'xaxis2': {'anchor': 'y2', 'domain': [0.275, 0.45], 'showgrid': True},\n",
       "               'xaxis20': {'anchor': 'y20', 'domain': [0.825, 1.0], 'showgrid': True},\n",
       "               'xaxis21': {'anchor': 'y21', 'domain': [0.0, 0.175], 'showgrid': True},\n",
       "               'xaxis22': {'anchor': 'y22', 'domain': [0.275, 0.45], 'showgrid': True},\n",
       "               'xaxis23': {'anchor': 'y23', 'domain': [0.55, 0.7250000000000001], 'showgrid': True},\n",
       "               'xaxis24': {'anchor': 'y24', 'domain': [0.825, 1.0], 'showgrid': True},\n",
       "               'xaxis25': {'anchor': 'y25', 'domain': [0.0, 0.175], 'showgrid': True},\n",
       "               'xaxis26': {'anchor': 'y26', 'domain': [0.275, 0.45], 'showgrid': True},\n",
       "               'xaxis27': {'anchor': 'y27', 'domain': [0.55, 0.7250000000000001], 'showgrid': True},\n",
       "               'xaxis28': {'anchor': 'y28', 'domain': [0.825, 1.0], 'showgrid': True},\n",
       "               'xaxis29': {'anchor': 'y29', 'domain': [0.0, 0.175], 'showgrid': True},\n",
       "               'xaxis3': {'anchor': 'y3', 'domain': [0.55, 0.7250000000000001], 'showgrid': True},\n",
       "               'xaxis30': {'anchor': 'y30', 'domain': [0.275, 0.45], 'showgrid': True},\n",
       "               'xaxis31': {'anchor': 'y31', 'domain': [0.55, 0.7250000000000001], 'showgrid': True},\n",
       "               'xaxis32': {'anchor': 'y32', 'domain': [0.825, 1.0], 'showgrid': True},\n",
       "               'xaxis33': {'anchor': 'y33', 'domain': [0.0, 0.175], 'showgrid': True},\n",
       "               'xaxis34': {'anchor': 'y34', 'domain': [0.275, 0.45], 'showgrid': True},\n",
       "               'xaxis35': {'anchor': 'y35', 'domain': [0.55, 0.7250000000000001], 'showgrid': True},\n",
       "               'xaxis36': {'anchor': 'y36', 'domain': [0.825, 1.0], 'showgrid': True},\n",
       "               'xaxis4': {'anchor': 'y4', 'domain': [0.825, 1.0], 'showgrid': True},\n",
       "               'xaxis5': {'anchor': 'y5', 'domain': [0.0, 0.175], 'showgrid': True},\n",
       "               'xaxis6': {'anchor': 'y6', 'domain': [0.275, 0.45], 'showgrid': True},\n",
       "               'xaxis7': {'anchor': 'y7', 'domain': [0.55, 0.7250000000000001], 'showgrid': True},\n",
       "               'xaxis8': {'anchor': 'y8', 'domain': [0.825, 1.0], 'showgrid': True},\n",
       "               'xaxis9': {'anchor': 'y9', 'domain': [0.0, 0.175], 'showgrid': True},\n",
       "               'yaxis': {'anchor': 'x', 'domain': [0.9283950617283949, 0.9999999999999999], 'showgrid': True},\n",
       "               'yaxis10': {'anchor': 'x10', 'domain': [0.6962962962962962, 0.7679012345679012], 'showgrid': True},\n",
       "               'yaxis11': {'anchor': 'x11', 'domain': [0.6962962962962962, 0.7679012345679012], 'showgrid': True},\n",
       "               'yaxis12': {'anchor': 'x12', 'domain': [0.6962962962962962, 0.7679012345679012], 'showgrid': True},\n",
       "               'yaxis13': {'anchor': 'x13', 'domain': [0.5802469135802468, 0.6518518518518518], 'showgrid': True},\n",
       "               'yaxis14': {'anchor': 'x14', 'domain': [0.5802469135802468, 0.6518518518518518], 'showgrid': True},\n",
       "               'yaxis15': {'anchor': 'x15', 'domain': [0.5802469135802468, 0.6518518518518518], 'showgrid': True},\n",
       "               'yaxis16': {'anchor': 'x16', 'domain': [0.5802469135802468, 0.6518518518518518], 'showgrid': True},\n",
       "               'yaxis17': {'anchor': 'x17', 'domain': [0.46419753086419746, 0.5358024691358024], 'showgrid': True},\n",
       "               'yaxis18': {'anchor': 'x18', 'domain': [0.46419753086419746, 0.5358024691358024], 'showgrid': True},\n",
       "               'yaxis19': {'anchor': 'x19', 'domain': [0.46419753086419746, 0.5358024691358024], 'showgrid': True},\n",
       "               'yaxis2': {'anchor': 'x2', 'domain': [0.9283950617283949, 0.9999999999999999], 'showgrid': True},\n",
       "               'yaxis20': {'anchor': 'x20', 'domain': [0.46419753086419746, 0.5358024691358024], 'showgrid': True},\n",
       "               'yaxis21': {'anchor': 'x21', 'domain': [0.3481481481481481, 0.419753086419753], 'showgrid': True},\n",
       "               'yaxis22': {'anchor': 'x22', 'domain': [0.3481481481481481, 0.419753086419753], 'showgrid': True},\n",
       "               'yaxis23': {'anchor': 'x23', 'domain': [0.3481481481481481, 0.419753086419753], 'showgrid': True},\n",
       "               'yaxis24': {'anchor': 'x24', 'domain': [0.3481481481481481, 0.419753086419753], 'showgrid': True},\n",
       "               'yaxis25': {'anchor': 'x25', 'domain': [0.23209876543209873, 0.30370370370370364], 'showgrid': True},\n",
       "               'yaxis26': {'anchor': 'x26', 'domain': [0.23209876543209873, 0.30370370370370364], 'showgrid': True},\n",
       "               'yaxis27': {'anchor': 'x27', 'domain': [0.23209876543209873, 0.30370370370370364], 'showgrid': True},\n",
       "               'yaxis28': {'anchor': 'x28', 'domain': [0.23209876543209873, 0.30370370370370364], 'showgrid': True},\n",
       "               'yaxis29': {'anchor': 'x29', 'domain': [0.11604938271604937, 0.18765432098765428], 'showgrid': True},\n",
       "               'yaxis3': {'anchor': 'x3', 'domain': [0.9283950617283949, 0.9999999999999999], 'showgrid': True},\n",
       "               'yaxis30': {'anchor': 'x30', 'domain': [0.11604938271604937, 0.18765432098765428], 'showgrid': True},\n",
       "               'yaxis31': {'anchor': 'x31', 'domain': [0.11604938271604937, 0.18765432098765428], 'showgrid': True},\n",
       "               'yaxis32': {'anchor': 'x32', 'domain': [0.11604938271604937, 0.18765432098765428], 'showgrid': True},\n",
       "               'yaxis33': {'anchor': 'x33', 'domain': [0.0, 0.07160493827160493], 'showgrid': True},\n",
       "               'yaxis34': {'anchor': 'x34', 'domain': [0.0, 0.07160493827160493], 'showgrid': True},\n",
       "               'yaxis35': {'anchor': 'x35', 'domain': [0.0, 0.07160493827160493], 'showgrid': True},\n",
       "               'yaxis36': {'anchor': 'x36', 'domain': [0.0, 0.07160493827160493], 'showgrid': True},\n",
       "               'yaxis4': {'anchor': 'x4', 'domain': [0.9283950617283949, 0.9999999999999999], 'showgrid': True},\n",
       "               'yaxis5': {'anchor': 'x5', 'domain': [0.8123456790123456, 0.8839506172839505], 'showgrid': True},\n",
       "               'yaxis6': {'anchor': 'x6', 'domain': [0.8123456790123456, 0.8839506172839505], 'showgrid': True},\n",
       "               'yaxis7': {'anchor': 'x7', 'domain': [0.8123456790123456, 0.8839506172839505], 'showgrid': True},\n",
       "               'yaxis8': {'anchor': 'x8', 'domain': [0.8123456790123456, 0.8839506172839505], 'showgrid': True},\n",
       "               'yaxis9': {'anchor': 'x9', 'domain': [0.6962962962962962, 0.7679012345679012], 'showgrid': True}}\n",
       "})"
      ]
     },
     "execution_count": 124,
     "metadata": {},
     "output_type": "execute_result"
    }
   ],
   "source": [
    "model.visualize_barchart(top_n_topics=100, title = tit)"
   ]
  },
  {
   "cell_type": "code",
   "execution_count": 123,
   "metadata": {},
   "outputs": [],
   "source": [
    "model.merge_topics(comments_all, [-1, 18])"
   ]
  },
  {
   "cell_type": "code",
   "execution_count": 125,
   "metadata": {},
   "outputs": [
    {
     "data": {
      "text/html": [
       "<div>\n",
       "<style scoped>\n",
       "    .dataframe tbody tr th:only-of-type {\n",
       "        vertical-align: middle;\n",
       "    }\n",
       "\n",
       "    .dataframe tbody tr th {\n",
       "        vertical-align: top;\n",
       "    }\n",
       "\n",
       "    .dataframe thead th {\n",
       "        text-align: right;\n",
       "    }\n",
       "</style>\n",
       "<table border=\"1\" class=\"dataframe\">\n",
       "  <thead>\n",
       "    <tr style=\"text-align: right;\">\n",
       "      <th></th>\n",
       "      <th>Topic</th>\n",
       "      <th>Count</th>\n",
       "      <th>Name</th>\n",
       "      <th>Representation</th>\n",
       "      <th>Representative_Docs</th>\n",
       "    </tr>\n",
       "  </thead>\n",
       "  <tbody>\n",
       "    <tr>\n",
       "      <th>0</th>\n",
       "      <td>-1</td>\n",
       "      <td>1153</td>\n",
       "      <td>-1_suicide article_attempted suicide_suicides_...</td>\n",
       "      <td>[suicide article, attempted suicide, suicides,...</td>\n",
       "      <td>[The article mentions that Harry Reid died aft...</td>\n",
       "    </tr>\n",
       "    <tr>\n",
       "      <th>1</th>\n",
       "      <td>0</td>\n",
       "      <td>613</td>\n",
       "      <td>0_suicide article_suicide_committed suicide_ps...</td>\n",
       "      <td>[suicide article, suicide, committed suicide, ...</td>\n",
       "      <td>[The article mentions that the person who comm...</td>\n",
       "    </tr>\n",
       "    <tr>\n",
       "      <th>2</th>\n",
       "      <td>1</td>\n",
       "      <td>549</td>\n",
       "      <td>1_suicide article_suicide attempt_suicide rela...</td>\n",
       "      <td>[suicide article, suicide attempt, suicide rel...</td>\n",
       "      <td>[The article mentions that Adam Lanza, the per...</td>\n",
       "    </tr>\n",
       "    <tr>\n",
       "      <th>3</th>\n",
       "      <td>2</td>\n",
       "      <td>223</td>\n",
       "      <td>2_suicide prevention_discusses suicide_suicide...</td>\n",
       "      <td>[suicide prevention, discusses suicide, suicid...</td>\n",
       "      <td>[The article discusses the impact of the COVID...</td>\n",
       "    </tr>\n",
       "    <tr>\n",
       "      <th>4</th>\n",
       "      <td>3</td>\n",
       "      <td>192</td>\n",
       "      <td>3_veteran suicide_suicides among_suicide among...</td>\n",
       "      <td>[veteran suicide, suicides among, suicide amon...</td>\n",
       "      <td>[The article mentions that high suicide rates ...</td>\n",
       "    </tr>\n",
       "    <tr>\n",
       "      <th>5</th>\n",
       "      <td>4</td>\n",
       "      <td>139</td>\n",
       "      <td>4_covid 19_coronavirus pandemic_suicides_19 pa...</td>\n",
       "      <td>[covid 19, coronavirus pandemic, suicides, 19 ...</td>\n",
       "      <td>[The article mentions Heidi Ferrer, a woman wh...</td>\n",
       "    </tr>\n",
       "    <tr>\n",
       "      <th>6</th>\n",
       "      <td>5</td>\n",
       "      <td>102</td>\n",
       "      <td>5_drug overdose_overdoses_cause suicide_opioid...</td>\n",
       "      <td>[drug overdose, overdoses, cause suicide, opio...</td>\n",
       "      <td>[The article mentions a woman named Stephanie ...</td>\n",
       "    </tr>\n",
       "    <tr>\n",
       "      <th>7</th>\n",
       "      <td>6</td>\n",
       "      <td>97</td>\n",
       "      <td>6_transgender youth_transgender children_trans...</td>\n",
       "      <td>[transgender youth, transgender children, tran...</td>\n",
       "      <td>[The article mentions that Haley Gabriella Fel...</td>\n",
       "    </tr>\n",
       "    <tr>\n",
       "      <th>8</th>\n",
       "      <td>7</td>\n",
       "      <td>92</td>\n",
       "      <td>7_assisted suicide_assisted death_euthanasia_e...</td>\n",
       "      <td>[assisted suicide, assisted death, euthanasia,...</td>\n",
       "      <td>[The article discusses the issue of terminally...</td>\n",
       "    </tr>\n",
       "    <tr>\n",
       "      <th>9</th>\n",
       "      <td>8</td>\n",
       "      <td>85</td>\n",
       "      <td>8_adams killed_suicide case_phillip adams_ment...</td>\n",
       "      <td>[adams killed, suicide case, phillip adams, me...</td>\n",
       "      <td>[The article mentions that the former NFL play...</td>\n",
       "    </tr>\n",
       "    <tr>\n",
       "      <th>10</th>\n",
       "      <td>9</td>\n",
       "      <td>83</td>\n",
       "      <td>9_killed wife_suicide related_suicide article_...</td>\n",
       "      <td>[killed wife, suicide related, suicide article...</td>\n",
       "      <td>[The article mentions that David Hunter killed...</td>\n",
       "    </tr>\n",
       "    <tr>\n",
       "      <th>11</th>\n",
       "      <td>10</td>\n",
       "      <td>64</td>\n",
       "      <td>10_becoming homeless_homelessness_mental healt...</td>\n",
       "      <td>[becoming homeless, homelessness, mental healt...</td>\n",
       "      <td>[The article mentions a man who was considerin...</td>\n",
       "    </tr>\n",
       "    <tr>\n",
       "      <th>12</th>\n",
       "      <td>11</td>\n",
       "      <td>54</td>\n",
       "      <td>11_suicide article_suicide related_killed pati...</td>\n",
       "      <td>[suicide article, suicide related, killed pati...</td>\n",
       "      <td>[The article mentions that the gunman, who lat...</td>\n",
       "    </tr>\n",
       "    <tr>\n",
       "      <th>13</th>\n",
       "      <td>12</td>\n",
       "      <td>45</td>\n",
       "      <td>12_spears grandmother_britney spears_britney_j...</td>\n",
       "      <td>[spears grandmother, britney spears, britney, ...</td>\n",
       "      <td>[The article mentions Britney Spears' grandmot...</td>\n",
       "    </tr>\n",
       "    <tr>\n",
       "      <th>14</th>\n",
       "      <td>13</td>\n",
       "      <td>27</td>\n",
       "      <td>13_ted kaczynski_mentions kaczynski_kaczynski_...</td>\n",
       "      <td>[ted kaczynski, mentions kaczynski, kaczynski,...</td>\n",
       "      <td>[The article mentions that Julian Assange, the...</td>\n",
       "    </tr>\n",
       "    <tr>\n",
       "      <th>15</th>\n",
       "      <td>14</td>\n",
       "      <td>22</td>\n",
       "      <td>14_mental health_student shot_school shot_shot...</td>\n",
       "      <td>[mental health, student shot, school shot, sho...</td>\n",
       "      <td>[The article mentions that Dylan Butler, a stu...</td>\n",
       "    </tr>\n",
       "    <tr>\n",
       "      <th>16</th>\n",
       "      <td>15</td>\n",
       "      <td>22</td>\n",
       "      <td>15_psychiatrist died_suicide article_died suic...</td>\n",
       "      <td>[psychiatrist died, suicide article, died suic...</td>\n",
       "      <td>[The article mentions that Jean Tatlock, a Sta...</td>\n",
       "    </tr>\n",
       "    <tr>\n",
       "      <th>17</th>\n",
       "      <td>16</td>\n",
       "      <td>19</td>\n",
       "      <td>16_abortions article_legal abortions_abortions...</td>\n",
       "      <td>[abortions article, legal abortions, abortions...</td>\n",
       "      <td>[The article discusses the potential overturni...</td>\n",
       "    </tr>\n",
       "    <tr>\n",
       "      <th>18</th>\n",
       "      <td>17</td>\n",
       "      <td>16</td>\n",
       "      <td>17_prevention indigenous_suicide prevention_su...</td>\n",
       "      <td>[prevention indigenous, suicide prevention, su...</td>\n",
       "      <td>[The article discusses the high suicide rates ...</td>\n",
       "    </tr>\n",
       "    <tr>\n",
       "      <th>19</th>\n",
       "      <td>18</td>\n",
       "      <td>15</td>\n",
       "      <td>18_suicide attempts_eating disorders_suicide_m...</td>\n",
       "      <td>[suicide attempts, eating disorders, suicide, ...</td>\n",
       "      <td>[The article discusses the impact of excessive...</td>\n",
       "    </tr>\n",
       "    <tr>\n",
       "      <th>20</th>\n",
       "      <td>19</td>\n",
       "      <td>13</td>\n",
       "      <td>19_died suicide_suicide suffering_suicide_suic...</td>\n",
       "      <td>[died suicide, suicide suffering, suicide, sui...</td>\n",
       "      <td>[The article mentions that Kent Taylor, the fo...</td>\n",
       "    </tr>\n",
       "    <tr>\n",
       "      <th>21</th>\n",
       "      <td>20</td>\n",
       "      <td>12</td>\n",
       "      <td>20_suicide article_potential ai_ai providing_s...</td>\n",
       "      <td>[suicide article, potential ai, ai providing, ...</td>\n",
       "      <td>[The article mentions a Belgian man with depre...</td>\n",
       "    </tr>\n",
       "    <tr>\n",
       "      <th>22</th>\n",
       "      <td>21</td>\n",
       "      <td>12</td>\n",
       "      <td>21_gogh suffered_gogh struggled_van gogh_gogh ...</td>\n",
       "      <td>[gogh suffered, gogh struggled, van gogh, gogh...</td>\n",
       "      <td>[The article mentions that Van Gogh struggled ...</td>\n",
       "    </tr>\n",
       "    <tr>\n",
       "      <th>23</th>\n",
       "      <td>22</td>\n",
       "      <td>12</td>\n",
       "      <td>22_murdaugh lawyer_insurance fraud_alex murdau...</td>\n",
       "      <td>[murdaugh lawyer, insurance fraud, alex murdau...</td>\n",
       "      <td>[The article mentions that Alex Murdaugh, a la...</td>\n",
       "    </tr>\n",
       "    <tr>\n",
       "      <th>24</th>\n",
       "      <td>23</td>\n",
       "      <td>11</td>\n",
       "      <td>23_aids crisis_wisler hiv_lived hiv_aids illness</td>\n",
       "      <td>[aids crisis, wisler hiv, lived hiv, aids illn...</td>\n",
       "      <td>[The article discusses the story of Clark Will...</td>\n",
       "    </tr>\n",
       "    <tr>\n",
       "      <th>25</th>\n",
       "      <td>24</td>\n",
       "      <td>11</td>\n",
       "      <td>24_rage room_suicide article_cause suicide_men...</td>\n",
       "      <td>[rage room, suicide article, cause suicide, me...</td>\n",
       "      <td>[The article mentions that the owner of the ra...</td>\n",
       "    </tr>\n",
       "    <tr>\n",
       "      <th>26</th>\n",
       "      <td>25</td>\n",
       "      <td>11</td>\n",
       "      <td>25_fuller suicide_robert fuller_suicide relate...</td>\n",
       "      <td>[fuller suicide, robert fuller, suicide relate...</td>\n",
       "      <td>[The article mentions that Robert Fuller, who ...</td>\n",
       "    </tr>\n",
       "    <tr>\n",
       "      <th>27</th>\n",
       "      <td>26</td>\n",
       "      <td>9</td>\n",
       "      <td>26_suicide solitary_solitary confinement_confi...</td>\n",
       "      <td>[suicide solitary, solitary confinement, confi...</td>\n",
       "      <td>[The article mentions that a man took his own ...</td>\n",
       "    </tr>\n",
       "    <tr>\n",
       "      <th>28</th>\n",
       "      <td>27</td>\n",
       "      <td>9</td>\n",
       "      <td>27_increased suicides_caused hurricane_hurrica...</td>\n",
       "      <td>[increased suicides, caused hurricane, hurrica...</td>\n",
       "      <td>[The article mentions that after Hurricane Ian...</td>\n",
       "    </tr>\n",
       "    <tr>\n",
       "      <th>29</th>\n",
       "      <td>28</td>\n",
       "      <td>9</td>\n",
       "      <td>28_randy meisner_meisner diagnosed_meisner_wif...</td>\n",
       "      <td>[randy meisner, meisner diagnosed, meisner, wi...</td>\n",
       "      <td>[The article mentions that Randy Meisner had b...</td>\n",
       "    </tr>\n",
       "    <tr>\n",
       "      <th>30</th>\n",
       "      <td>29</td>\n",
       "      <td>8</td>\n",
       "      <td>29_psychedelic therapy_help psychedelic_psiloc...</td>\n",
       "      <td>[psychedelic therapy, help psychedelic, psiloc...</td>\n",
       "      <td>[The article talks about a woman named Lori Ti...</td>\n",
       "    </tr>\n",
       "    <tr>\n",
       "      <th>31</th>\n",
       "      <td>30</td>\n",
       "      <td>7</td>\n",
       "      <td>30_father suicide_bobby mother_death bobby_spe...</td>\n",
       "      <td>[father suicide, bobby mother, death bobby, sp...</td>\n",
       "      <td>[The article mentions that Phil Spector, the p...</td>\n",
       "    </tr>\n",
       "    <tr>\n",
       "      <th>32</th>\n",
       "      <td>31</td>\n",
       "      <td>7</td>\n",
       "      <td>31_health hazard_problem suicide_failure healt...</td>\n",
       "      <td>[health hazard, problem suicide, failure healt...</td>\n",
       "      <td>[The article mentions that Aaron Traywick, fou...</td>\n",
       "    </tr>\n",
       "    <tr>\n",
       "      <th>33</th>\n",
       "      <td>32</td>\n",
       "      <td>7</td>\n",
       "      <td>32_colorado mental_rooms psychiatric_denied ca...</td>\n",
       "      <td>[colorado mental, rooms psychiatric, denied ca...</td>\n",
       "      <td>[The article discusses the case of Matt Vinnol...</td>\n",
       "    </tr>\n",
       "    <tr>\n",
       "      <th>34</th>\n",
       "      <td>33</td>\n",
       "      <td>6</td>\n",
       "      <td>33_conrad suicide_attempted suicide_conrad dea...</td>\n",
       "      <td>[conrad suicide, attempted suicide, conrad dea...</td>\n",
       "      <td>[The article mentions that Conrad Roy III was ...</td>\n",
       "    </tr>\n",
       "  </tbody>\n",
       "</table>\n",
       "</div>"
      ],
      "text/plain": [
       "    Topic  Count                                               Name  \\\n",
       "0      -1   1153  -1_suicide article_attempted suicide_suicides_...   \n",
       "1       0    613  0_suicide article_suicide_committed suicide_ps...   \n",
       "2       1    549  1_suicide article_suicide attempt_suicide rela...   \n",
       "3       2    223  2_suicide prevention_discusses suicide_suicide...   \n",
       "4       3    192  3_veteran suicide_suicides among_suicide among...   \n",
       "5       4    139  4_covid 19_coronavirus pandemic_suicides_19 pa...   \n",
       "6       5    102  5_drug overdose_overdoses_cause suicide_opioid...   \n",
       "7       6     97  6_transgender youth_transgender children_trans...   \n",
       "8       7     92  7_assisted suicide_assisted death_euthanasia_e...   \n",
       "9       8     85  8_adams killed_suicide case_phillip adams_ment...   \n",
       "10      9     83  9_killed wife_suicide related_suicide article_...   \n",
       "11     10     64  10_becoming homeless_homelessness_mental healt...   \n",
       "12     11     54  11_suicide article_suicide related_killed pati...   \n",
       "13     12     45  12_spears grandmother_britney spears_britney_j...   \n",
       "14     13     27  13_ted kaczynski_mentions kaczynski_kaczynski_...   \n",
       "15     14     22  14_mental health_student shot_school shot_shot...   \n",
       "16     15     22  15_psychiatrist died_suicide article_died suic...   \n",
       "17     16     19  16_abortions article_legal abortions_abortions...   \n",
       "18     17     16  17_prevention indigenous_suicide prevention_su...   \n",
       "19     18     15  18_suicide attempts_eating disorders_suicide_m...   \n",
       "20     19     13  19_died suicide_suicide suffering_suicide_suic...   \n",
       "21     20     12  20_suicide article_potential ai_ai providing_s...   \n",
       "22     21     12  21_gogh suffered_gogh struggled_van gogh_gogh ...   \n",
       "23     22     12  22_murdaugh lawyer_insurance fraud_alex murdau...   \n",
       "24     23     11   23_aids crisis_wisler hiv_lived hiv_aids illness   \n",
       "25     24     11  24_rage room_suicide article_cause suicide_men...   \n",
       "26     25     11  25_fuller suicide_robert fuller_suicide relate...   \n",
       "27     26      9  26_suicide solitary_solitary confinement_confi...   \n",
       "28     27      9  27_increased suicides_caused hurricane_hurrica...   \n",
       "29     28      9  28_randy meisner_meisner diagnosed_meisner_wif...   \n",
       "30     29      8  29_psychedelic therapy_help psychedelic_psiloc...   \n",
       "31     30      7  30_father suicide_bobby mother_death bobby_spe...   \n",
       "32     31      7  31_health hazard_problem suicide_failure healt...   \n",
       "33     32      7  32_colorado mental_rooms psychiatric_denied ca...   \n",
       "34     33      6  33_conrad suicide_attempted suicide_conrad dea...   \n",
       "\n",
       "                                       Representation  \\\n",
       "0   [suicide article, attempted suicide, suicides,...   \n",
       "1   [suicide article, suicide, committed suicide, ...   \n",
       "2   [suicide article, suicide attempt, suicide rel...   \n",
       "3   [suicide prevention, discusses suicide, suicid...   \n",
       "4   [veteran suicide, suicides among, suicide amon...   \n",
       "5   [covid 19, coronavirus pandemic, suicides, 19 ...   \n",
       "6   [drug overdose, overdoses, cause suicide, opio...   \n",
       "7   [transgender youth, transgender children, tran...   \n",
       "8   [assisted suicide, assisted death, euthanasia,...   \n",
       "9   [adams killed, suicide case, phillip adams, me...   \n",
       "10  [killed wife, suicide related, suicide article...   \n",
       "11  [becoming homeless, homelessness, mental healt...   \n",
       "12  [suicide article, suicide related, killed pati...   \n",
       "13  [spears grandmother, britney spears, britney, ...   \n",
       "14  [ted kaczynski, mentions kaczynski, kaczynski,...   \n",
       "15  [mental health, student shot, school shot, sho...   \n",
       "16  [psychiatrist died, suicide article, died suic...   \n",
       "17  [abortions article, legal abortions, abortions...   \n",
       "18  [prevention indigenous, suicide prevention, su...   \n",
       "19  [suicide attempts, eating disorders, suicide, ...   \n",
       "20  [died suicide, suicide suffering, suicide, sui...   \n",
       "21  [suicide article, potential ai, ai providing, ...   \n",
       "22  [gogh suffered, gogh struggled, van gogh, gogh...   \n",
       "23  [murdaugh lawyer, insurance fraud, alex murdau...   \n",
       "24  [aids crisis, wisler hiv, lived hiv, aids illn...   \n",
       "25  [rage room, suicide article, cause suicide, me...   \n",
       "26  [fuller suicide, robert fuller, suicide relate...   \n",
       "27  [suicide solitary, solitary confinement, confi...   \n",
       "28  [increased suicides, caused hurricane, hurrica...   \n",
       "29  [randy meisner, meisner diagnosed, meisner, wi...   \n",
       "30  [psychedelic therapy, help psychedelic, psiloc...   \n",
       "31  [father suicide, bobby mother, death bobby, sp...   \n",
       "32  [health hazard, problem suicide, failure healt...   \n",
       "33  [colorado mental, rooms psychiatric, denied ca...   \n",
       "34  [conrad suicide, attempted suicide, conrad dea...   \n",
       "\n",
       "                                  Representative_Docs  \n",
       "0   [The article mentions that Harry Reid died aft...  \n",
       "1   [The article mentions that the person who comm...  \n",
       "2   [The article mentions that Adam Lanza, the per...  \n",
       "3   [The article discusses the impact of the COVID...  \n",
       "4   [The article mentions that high suicide rates ...  \n",
       "5   [The article mentions Heidi Ferrer, a woman wh...  \n",
       "6   [The article mentions a woman named Stephanie ...  \n",
       "7   [The article mentions that Haley Gabriella Fel...  \n",
       "8   [The article discusses the issue of terminally...  \n",
       "9   [The article mentions that the former NFL play...  \n",
       "10  [The article mentions that David Hunter killed...  \n",
       "11  [The article mentions a man who was considerin...  \n",
       "12  [The article mentions that the gunman, who lat...  \n",
       "13  [The article mentions Britney Spears' grandmot...  \n",
       "14  [The article mentions that Julian Assange, the...  \n",
       "15  [The article mentions that Dylan Butler, a stu...  \n",
       "16  [The article mentions that Jean Tatlock, a Sta...  \n",
       "17  [The article discusses the potential overturni...  \n",
       "18  [The article discusses the high suicide rates ...  \n",
       "19  [The article discusses the impact of excessive...  \n",
       "20  [The article mentions that Kent Taylor, the fo...  \n",
       "21  [The article mentions a Belgian man with depre...  \n",
       "22  [The article mentions that Van Gogh struggled ...  \n",
       "23  [The article mentions that Alex Murdaugh, a la...  \n",
       "24  [The article discusses the story of Clark Will...  \n",
       "25  [The article mentions that the owner of the ra...  \n",
       "26  [The article mentions that Robert Fuller, who ...  \n",
       "27  [The article mentions that a man took his own ...  \n",
       "28  [The article mentions that after Hurricane Ian...  \n",
       "29  [The article mentions that Randy Meisner had b...  \n",
       "30  [The article talks about a woman named Lori Ti...  \n",
       "31  [The article mentions that Phil Spector, the p...  \n",
       "32  [The article mentions that Aaron Traywick, fou...  \n",
       "33  [The article discusses the case of Matt Vinnol...  \n",
       "34  [The article mentions that Conrad Roy III was ...  "
      ]
     },
     "execution_count": 125,
     "metadata": {},
     "output_type": "execute_result"
    }
   ],
   "source": [
    "model.get_topic_info()"
   ]
  },
  {
   "cell_type": "code",
   "execution_count": 137,
   "metadata": {},
   "outputs": [
    {
     "name": "stderr",
     "output_type": "stream",
     "text": [
      "Batches: 100%|██████████| 1/1 [00:00<00:00,  1.21it/s]\n",
      "Batches: 100%|██████████| 1/1 [00:00<00:00,  2.55it/s]\n",
      "Batches: 100%|██████████| 1/1 [00:00<00:00,  1.44it/s]\n",
      "Batches: 100%|██████████| 1/1 [00:00<00:00,  1.71it/s]\n"
     ]
    },
    {
     "name": "stdout",
     "output_type": "stream",
     "text": [
      "Individual averaged:  [0.02164 -0.02102 0.01087 -0.01749 0.00105 -0.00728 -0.00348 -0.01065\n",
      " 0.00386 0.00267 0.00580 -0.00103 -0.01060 0.00312 -0.00912 0.00286\n",
      " 0.00082 -0.00008 0.00034 0.00216 0.00629 0.00180 0.00362 0.00519 0.00000\n",
      " 0.00364 0.00065 -0.00095 -0.00455 0.00323 0.00233 0.00049 0.00006 0.00361]\n",
      "Combined 1 text:  [[-0.30400 -0.07416 -0.05127 -0.02187 -0.01245 -0.00875 -0.00103 -0.00933\n",
      "  0.30695 -0.01345 -0.00640 -0.00149 -0.00507 -0.00290 -0.00641 -0.00458\n",
      "  -0.00176 -0.00136 -0.00223 -0.00087 -0.00152 -0.00142 -0.00148 -0.00133\n",
      "  -0.00072 -0.00137 -0.00212 -0.00153 -0.00123 -0.00186 -0.00227 -0.00215\n",
      "  -0.00265 -0.00270]]\n",
      "Individual averaged:  [-0.02387 0.01268 -0.02341 -0.00857 0.01268 -0.00710 0.00846 -0.00067\n",
      " 0.00479 0.00883 0.00181 -0.00162 -0.00144 0.00213 -0.00259 -0.00368\n",
      " 0.00087 -0.00697 0.00028 0.00322 0.00531 0.00342 0.00109 0.00437 -0.00639\n",
      " 0.00098 -0.00438 -0.00329 -0.00205 0.00208 0.00007 0.00250 -0.00472\n",
      " 0.00176]\n",
      "Combined 1 text:  [[-0.04179 -0.03728 -0.01336 0.00000 -0.00607 -0.00512 0.00000 -0.00514\n",
      "  0.31173 -0.00701 -0.00000 0.00000 -0.00000 0.00000 -0.00000 -0.00137\n",
      "  0.00000 0.00000 -0.00110 0.00000 0.00000 0.00000 0.00000 0.00000\n",
      "  0.00000 0.00000 0.00000 0.00000 0.00000 0.00000 -0.00001 -0.00000\n",
      "  -0.00000 -0.00168]]\n"
     ]
    }
   ],
   "source": [
    "topics = model.topics_\n",
    "probs = model.probabilities_\n",
    "\n",
    "# from existing predictions\n",
    "left = data['Left'].to_list()\n",
    "indsleft = []\n",
    "for i in range(len(comments_all)):\n",
    "    if left[i] == 1:\n",
    "        indsleft.append(i)\n",
    "\n",
    "alltopicsleft = [topics[i] for i in indsleft if i < len(topics)]\n",
    "allprobsleft = [probs[i] for i in indsleft if i < len(probs)]\n",
    "allcommentsleft = [comments_all[i] for i in indsleft if i < len(comments_all)]\n",
    "onetextleft = \" \".join(allcommentsleft)\n",
    "\n",
    "right = data['Right'].to_list()\n",
    "indsright = []\n",
    "for i in range(len(comments_all)):\n",
    "    if right[i] == 1:\n",
    "        indsright.append(i)\n",
    "\n",
    "alltopicsright = [topics[i] for i in indsright if i < len(topics)]\n",
    "allprobsright = [probs[i] for i in indsright if i < len(probs)]\n",
    "allcommentsright = [comments_all[i] for i in indsright if i < len(comments_all)]\n",
    "onetextright = \" \".join(allcommentsright)\n",
    "\n",
    "regional = data['Regional'].to_list()\n",
    "indsreg = []\n",
    "for i in range(len(comments_all)):\n",
    "    if regional[i] == 1:\n",
    "        indsreg.append(i)\n",
    "\n",
    "alltopicsreg = [topics[i] for i in indsreg if i < len(topics)]\n",
    "allprobsreg = [probs[i] for i in indsreg if i < len(probs)]\n",
    "allcommentsreg = [comments_all[i] for i in indsreg if i < len(comments_all)]\n",
    "onetextreg = \" \".join(allcommentsreg)\n",
    "\n",
    "national = data['National'].to_list()\n",
    "indsnat = []\n",
    "for i in range(len(comments_all)):\n",
    "    if national[i] == 1:\n",
    "        indsnat.append(i)\n",
    "\n",
    "alltopicsnat = [topics[i] for i in indsnat if i < len(topics)]\n",
    "allprobsnat = [probs[i] for i in indsnat if i < len(probs)]\n",
    "allcommentsnat = [comments_all[i] for i in indsnat if i < len(comments_all)]\n",
    "onetextnat = \" \".join(allcommentsnat)\n",
    "\n",
    "embeddingsleft = sentence_model.encode(onetextleft, show_progress_bar=True)\n",
    "embeddingsright = sentence_model.encode(onetextright, show_progress_bar=True)\n",
    "embeddingsnat = sentence_model.encode(onetextnat, show_progress_bar=True)\n",
    "embeddingsreg = sentence_model.encode(onetextreg, show_progress_bar=True)\n",
    "\n",
    "\n",
    "onetopicleft, oneprobleft = model.transform(onetextleft)\n",
    "onetopicright, oneprobright = model.transform(onetextright)\n",
    "onetopicreg, oneprobreg = model.transform(onetextreg)\n",
    "onetopicnat, oneprobnat = model.transform(onetextnat)\n",
    "\n",
    "topicwiseprobleft = np.array(allprobsleft).mean(axis = 0)\n",
    "topicwiseprobright = np.array(allprobsright).mean(axis = 0)\n",
    "topicwiseprobnat = np.array(allprobsnat).mean(axis = 0)\n",
    "topicwiseprobreg = np.array(allprobsreg).mean(axis = 0)\n",
    "\n",
    "np.set_printoptions(suppress=True, formatter={'float': '{:0.5f}'.format})\n",
    "print(\"Individual averaged: \", np.round(topicwiseprobleft - topicwiseprobright, 5))\n",
    "print(\"Combined 1 text: \", np.round(oneprobleft - oneprobright, 5))\n",
    "\n",
    "print(\"Individual averaged: \", np.round(topicwiseprobnat - topicwiseprobreg, 5))\n",
    "print(\"Combined 1 text: \", np.round(oneprobnat - oneprobreg, 5))"
   ]
  },
  {
   "cell_type": "code",
   "execution_count": 138,
   "metadata": {},
   "outputs": [],
   "source": [
    "df = model.get_topic_info()\n",
    "\n",
    "topicwiseprobl = np.insert(topicwiseprobleft, 0,-1)\n",
    "topicwiseprobr = np.insert(topicwiseprobright, 0,-1)\n",
    "topicwiseprobnat = np.insert(topicwiseprobnat, 0,-1)\n",
    "topicwiseprobreg = np.insert(topicwiseprobreg, 0,-1)\n",
    "df['Left - Individual Averaged'] = topicwiseprobl\n",
    "df['Right - Individual Averaged'] = topicwiseprobr\n",
    "df['National - Individual Averaged'] = topicwiseprobnat\n",
    "df['Regional - Individual Averaged'] = topicwiseprobreg\n",
    "\n",
    "oneprobl = np.insert(oneprobleft, 0,-1)\n",
    "oneprobr = np.insert(oneprobright, 0,-1)\n",
    "oneprobn = np.insert(oneprobnat, 0,-1)\n",
    "oneprobre = np.insert(oneprobreg, 0,-1)\n",
    "df['Left - One combined text'] = oneprobl\n",
    "df['Right - One combined text'] = oneprobr\n",
    "df['National - One combined text'] = oneprobn\n",
    "df['Regional - One combined text'] = oneprobre\n",
    "\n",
    "df['Left v/s Right - Individual Averaged'] = topicwiseprobl - topicwiseprobr\n",
    "df['National v/s Regional - Individual Averaged'] = topicwiseprobnat - topicwiseprobreg\n",
    "df['Left v/s Right - Combined Text'] = oneprobl - oneprobr\n",
    "df['National v/s Regional - Combined Text'] = oneprobn - oneprobre\n",
    "\n",
    "df.to_csv('health betopic results.csv')"
   ]
  },
  {
   "cell_type": "code",
   "execution_count": 133,
   "metadata": {},
   "outputs": [
    {
     "name": "stdout",
     "output_type": "stream",
     "text": [
      "(3756, 34)\n"
     ]
    },
    {
     "data": {
      "text/plain": [
       "Index(['Unnamed: 0', 'id', 'title', 'content', 'Publisher', 'Date Published',\n",
       "       'Financial/Job Problem', 'School or Academic Related Problem',\n",
       "       'Lack of Access to Health/Mental Health Care', 'Legal Problem', 'None',\n",
       "       'Reasoning', 'Only Reason', 'National', 'Regional', 'Left', 'Right',\n",
       "       'Fringe/Questionable', 'Topic0', 'Topic1', 'Topic2', 'Topic3', 'Topic4',\n",
       "       'Topic5', 'Topic6', 'Topic7', 'Topic8', 'Topic9', 'Topic10', 'Topic11',\n",
       "       'Topic12', 'Topic13', 'Topic14', 'Topic15', 'Topic16', 'Topic17',\n",
       "       'Topic18', 'Topic19', 'Topic20', 'Topic21', 'Topic22', 'Topic23',\n",
       "       'Topic24', 'Topic25', 'Topic26', 'Topic27', 'Topic28', 'Topic29',\n",
       "       'Topic30', 'Topic31', 'Topic32', 'Topic33'],\n",
       "      dtype='object')"
      ]
     },
     "execution_count": 133,
     "metadata": {},
     "output_type": "execute_result"
    }
   ],
   "source": [
    "ben = data.copy()\n",
    "probabilities = model.probabilities_\n",
    "print(probabilities.shape)\n",
    "for i in range(probabilities.shape[1]):\n",
    "    ben['Topic' + str(i)] = probabilities[:, i]\n",
    "ben.columns\n"
   ]
  },
  {
   "cell_type": "code",
   "execution_count": 134,
   "metadata": {},
   "outputs": [],
   "source": [
    "ben = ben.drop(columns=['Unnamed: 0', 'Reasoning'])"
   ]
  },
  {
   "cell_type": "code",
   "execution_count": 135,
   "metadata": {},
   "outputs": [
    {
     "data": {
      "text/plain": [
       "Index(['id', 'title', 'content', 'Publisher', 'Date Published',\n",
       "       'Financial/Job Problem', 'School or Academic Related Problem',\n",
       "       'Lack of Access to Health/Mental Health Care', 'Legal Problem', 'None',\n",
       "       'Only Reason', 'National', 'Regional', 'Left', 'Right',\n",
       "       'Fringe/Questionable', 'Topic0', 'Topic1', 'Topic2', 'Topic3', 'Topic4',\n",
       "       'Topic5', 'Topic6', 'Topic7', 'Topic8', 'Topic9', 'Topic10', 'Topic11',\n",
       "       'Topic12', 'Topic13', 'Topic14', 'Topic15', 'Topic16', 'Topic17',\n",
       "       'Topic18', 'Topic19', 'Topic20', 'Topic21', 'Topic22', 'Topic23',\n",
       "       'Topic24', 'Topic25', 'Topic26', 'Topic27', 'Topic28', 'Topic29',\n",
       "       'Topic30', 'Topic31', 'Topic32', 'Topic33'],\n",
       "      dtype='object')"
      ]
     },
     "execution_count": 135,
     "metadata": {},
     "output_type": "execute_result"
    }
   ],
   "source": [
    "ben.columns"
   ]
  },
  {
   "cell_type": "code",
   "execution_count": 136,
   "metadata": {},
   "outputs": [],
   "source": [
    "ben.to_csv('Health problem articles topic model results.csv')"
   ]
  },
  {
   "cell_type": "code",
   "execution_count": 150,
   "metadata": {},
   "outputs": [
    {
     "name": "stdout",
     "output_type": "stream",
     "text": [
      "[0.00978 -0.01605 0.00355 -0.00749 -0.00661 -0.00545 -0.00365 -0.01803\n",
      " -0.00079 0.00228 -0.00010 0.00225 -0.00085 0.01250 -0.00011 0.00285\n",
      " -0.00572 -0.00225 0.00001 0.00000 0.00081 0.00073 0.00129 0.00361 0.00531\n",
      " 0.00323 -0.00150 0.00192 0.00444 0.00143 0.00484 0.00384 0.00001 0.00344\n",
      " 0.00602 0.00002 0.00313]\n"
     ]
    }
   ],
   "source": [
    "# leftarticles = data[data['Left'] == 1]\n",
    "# rightarticles = data[data['Right'] == 1]\n",
    "\n",
    "# topicsleft, probsleft = model.transform(leftarticles['Only Reason'].to_list())\n",
    "# topicsright, probsright = model.transform(rightarticles['Only Reason'].to_list())\n",
    "\n",
    "# print(np.round(np.array(probsleft).mean(axis = 0) - np.array(probsright).mean(axis = 0), 5))"
   ]
  }
 ],
 "metadata": {
  "kernelspec": {
   "display_name": "Python 3.8.10 64-bit",
   "language": "python",
   "name": "python3"
  },
  "language_info": {
   "codemirror_mode": {
    "name": "ipython",
    "version": 3
   },
   "file_extension": ".py",
   "mimetype": "text/x-python",
   "name": "python",
   "nbconvert_exporter": "python",
   "pygments_lexer": "ipython3",
   "version": "3.9.6"
  },
  "orig_nbformat": 4,
  "vscode": {
   "interpreter": {
    "hash": "31f2aee4e71d21fbe5cf8b01ff0e069b9275f58929596ceb00d14d90e3e16cd6"
   }
  }
 },
 "nbformat": 4,
 "nbformat_minor": 2
}

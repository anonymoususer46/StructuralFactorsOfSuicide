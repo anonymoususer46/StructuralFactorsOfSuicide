{
  "cells": [
    {
      "cell_type": "code",
      "execution_count": 3,
      "metadata": {},
      "outputs": [],
      "source": [
        "import openai\n",
        "import pandas as pd\n",
        "from tqdm import tqdm\n",
        "import json\n",
        "import time\n",
        "import random\n",
        "import pickle\n",
        "import math\n",
        "\n",
        "# load the API\n",
        "openai.api_type = \"azure\"\n",
        "openai.api_version = \"2023-07-01-preview\"\n",
        "openai.api_base = \"https://structuralfactorsofsuicide.openai.azure.com/\"\n",
        "openai.api_key = \"f678e6405d5f46099018cd5c9370758f\"\n",
        "\n",
        "FinancialLabel = \"Financial/Job Problem\"\n",
        "Legallabel = \"Legal Problem\"\n",
        "SchoolLabel = \"School or Academic Related Problem\"\n",
        "HealthLabel = \"Lack of Access to Health/Mental Health Care\"\n",
        "FinancialPredicted = \"Financial - Predicted\"\n",
        "LegalPredicted = \"Legal - Predicted\"\n",
        "SchoolPredicted = \"School - Predicted\"\n",
        "HealthPredicted = \"Health - Predicted\""
      ]
    },
    {
      "cell_type": "code",
      "execution_count": 2,
      "metadata": {},
      "outputs": [],
      "source": [
        "combinedzeroshot = \"Suicide is the act of intentionally causing one's own death or taking their own life by any means. You are a public health professional. You are going through news articles from across the USA that mention suicide and your task is to identify the cause of the suicide talked about in the article. The article may not use the word ‘suicide’, instead explain it in another way, such as ‘he took his own life’ or a different expression that has the same meaning. \\n You have to categorize the articles in one or more of the following categories: \\n\\n 1) 'Financial/Job Problem' : If there is mention of a person or multiple people who killed themselves due to financial or work related problems or bad financial state or an incident at their place of employment. \\n 2) ‘School Problem' : If there is mention of a person or multiple people who killed themselves due to an academic or school related problem. \\n 3) 'Health Problem' : if there is mention of a person or multiple people who killed themselves due to lack of access to mental or physical health care or treatment. \\n 4) ‘Legal Problem' : If there is mention of a person or multiple people who killed themselves after facing a legal problem or being involved or suspected or targeted in a violation of the law. \\n 5) ‘None’ : If there is no explicit mention of a person who committed suicide or killed themselves or if suicide was attempted or threatened but the person did not die or if the reason of suicide is not aligned with any of the above 4 categories. \\n\\n Now, read the following news article answer the following 2 questions: \\n 1. Is there mention of a person or multiple people who died after committing suicide or killed themselves? Provide your answer in the following format: \\n Answer 1: Yes or No  \\n 2. Identify which of the above categories does the article belong to. An article can belong to more than one category. Also provide a reasoning for the same in the following format:\\nAnswer 2: \\nReasoning:\\n\\nArticle: \"\n"
      ]
    },
    {
      "cell_type": "code",
      "execution_count": 4,
      "metadata": {},
      "outputs": [],
      "source": [
        "# import pandas as pd\n",
        "# # below is the datatset annotated by Jay\n",
        "# data = pd.read_csv('final_dataset_06102022 2.csv')\n",
        "# data = data[data['Yes'] == 1]\n",
        "# pattern = r'^news[0-6]_'\n",
        "# datacopy = data.copy()\n",
        "# datacopy['Document name'] = data['Document name'].str.replace(pattern, '', regex=True)\n",
        "\n",
        "# relevant = data[data['Yes']==1]\n",
        "# print(relevant.shape)\n",
        "# print(data.shape)\n",
        "# selected_rows = data[(data[FinancialLabel] > 0) | (data[Legallabel] > 0) | (data[HealthLabel] > 0) | (data[SchoolLabel] > 0)]\n",
        "# financial_problem = data[data[FinancialLabel] > 0]\n",
        "# school_problem = data[data[SchoolLabel] > 0]\n",
        "# legal_problem = data[data[Legallabel] > 0]\n",
        "# health_problem = data[data[HealthLabel] > 0]\n",
        "# unspecified_circumstance = data[data['Unspecified Circumstance'] > 0]\n",
        "\n",
        "# print(\"Legal Problem : \", legal_problem.shape[0])\n",
        "# print(\"Financial/Job Problem : \", financial_problem.shape[0])\n",
        "# print(\"Lack of Access to Health/Mental Health Care : \", health_problem.shape[0])\n",
        "# print(\"School or Academic Related Problem : \", school_problem.shape[0])\n",
        "# # print(\"\")"
      ]
    },
    {
      "cell_type": "code",
      "execution_count": 5,
      "metadata": {},
      "outputs": [],
      "source": [
        "# maindf = pd.DataFrame(selected_rows, columns=['Document group', 'Document name', FinancialLabel, SchoolLabel, Legallabel, HealthLabel])\n",
        "# arrayoftexts = []\n",
        "# for documentname in maindf['Document name']:\n",
        "#     with open(\"articles/\"+ documentname + \".txt\") as f:\n",
        "#         text = f.readlines()\n",
        "#         arrayoftexts.append(text[0])\n",
        "# maindf['Text'] = arrayoftexts\n",
        "# maindf = maindf[['Text', FinancialLabel, Legallabel, HealthLabel, SchoolLabel]]"
      ]
    },
    {
      "cell_type": "code",
      "execution_count": 6,
      "metadata": {},
      "outputs": [],
      "source": [
        "# arts = maindf['Text'].to_list()\n",
        "# cat = []\n",
        "# f = [0] * len(arts)\n",
        "# h = [0] * len(arts)\n",
        "# l = [0] * len(arts)\n",
        "# s = [0] * len(arts)\n",
        "# #arts = financial_problem_df['Text'].to_list()\n",
        "# financialpred = [0] * len(arts) \n",
        "# reason = [\"\"] * len(arts)"
      ]
    },
    {
      "cell_type": "code",
      "execution_count": 7,
      "metadata": {},
      "outputs": [],
      "source": [
        "# for i in tqdm(range(0, 50)):\n",
        "#     try:\n",
        "#         # generate response\n",
        "#         if (reason[i] != \"\"):\n",
        "#             continue\n",
        "#         print(i)\n",
        "#         prompt = combinedzeroshot + \"\\n\" + \"Article: \" + arts[i] + \"\\n\"\n",
        "#         response = openai.ChatCompletion.create(\n",
        "#             model=\"gpt-4\",\n",
        "#             engine=\"StructuralFactorsOfSuicidegpt4\", # engine with high TPM rate limit; no content filter\n",
        "#             messages=[\n",
        "#                 {\n",
        "#                     \"role\": \"user\",\n",
        "#                     \"content\": prompt,\n",
        "#                 },\n",
        "#             ],\n",
        "#             temperature=0.0\n",
        "#         )\n",
        "#         chatgpt_output = json.dumps(response['choices'][0]['message']['content'])\n",
        "#         print(chatgpt_output)\n",
        "#         if (\"1: No\" in chatgpt_output):\n",
        "#             reason[i] = \"NotSuicide\"\n",
        "#             continue\n",
        "#         if ('Legal Problem' in chatgpt_output):\n",
        "#             l[i] = 1\n",
        "#         if ('Financial/Job Problem' in chatgpt_output):\n",
        "#             f[i] = 1\n",
        "#         if ('School Problem' in chatgpt_output):\n",
        "#             s[i] = 1\n",
        "#         if ('Health Problem' in chatgpt_output):\n",
        "#             h[i] = 1\n",
        "#         reason[i] = chatgpt_output\n",
        "#     except Exception as e:\n",
        "#         print(i)\n",
        "#         print(str(e))\n",
        "        \n",
        "#     time.sleep(2)\n",
        "        \n",
        "# # maindf['Financial - Predicted'] = financialpred\n",
        "# # maindf['Financial - Reason'] = reason"
      ]
    },
    {
      "cell_type": "code",
      "execution_count": 8,
      "metadata": {},
      "outputs": [],
      "source": [
        "# maindf['Reasoning'] = reason\n",
        "# maindf[FinancialPredicted] = f\n",
        "# maindf[SchoolPredicted] = s\n",
        "# maindf[HealthPredicted] = h\n",
        "# maindf[LegalPredicted] = l"
      ]
    },
    {
      "cell_type": "code",
      "execution_count": 9,
      "metadata": {},
      "outputs": [],
      "source": [
        "# maindf[FinancialLabel] = maindf[FinancialLabel].apply(lambda x: 1 if x > 0 else x)\n",
        "# maindf[HealthLabel] = maindf[HealthLabel].apply(lambda x: 1 if x > 0 else x)\n",
        "# maindf[SchoolLabel] = maindf[SchoolLabel].apply(lambda x: 1 if x > 0 else x)\n",
        "# maindf[Legallabel] = maindf[Legallabel].apply(lambda x: 1 if x > 0 else x)\n",
        "\n",
        "# financialmatch = len(maindf[(maindf[FinancialPredicted] > 0) & (maindf[FinancialLabel] > 0)])\n",
        "# legalmatch = len(maindf[(maindf[LegalPredicted] > 0) & (maindf[Legallabel] > 0)])\n",
        "# schoolmatch = len(maindf[(maindf[SchoolPredicted] > 0) & (maindf[SchoolLabel] > 0)])\n",
        "# healthmatch = len(maindf[(maindf[HealthPredicted] > 0) & (maindf[HealthLabel] > 0)])\n",
        "\n",
        "# print(financialmatch)\n",
        "# print(legalmatch)\n",
        "# print(schoolmatch)\n",
        "# print(healthmatch)\n",
        "\n",
        "# financialmatch = len(maindf[(maindf[FinancialPredicted] > 0) & (maindf[FinancialLabel] == 0)])\n",
        "# legalmatch = len(maindf[(maindf[LegalPredicted] > 0) & (maindf[Legallabel] == 0)])\n",
        "# schoolmatch = len(maindf[(maindf[SchoolPredicted] > 0) & (maindf[SchoolLabel] == 0)])\n",
        "# healthmatch = len(maindf[(maindf[HealthPredicted] > 0) & (maindf[HealthLabel] == 0)])\n",
        "\n",
        "# print(financialmatch)\n",
        "# print(legalmatch)\n",
        "# print(schoolmatch)\n",
        "# print(healthmatch)"
      ]
    },
    {
      "cell_type": "code",
      "execution_count": 10,
      "metadata": {},
      "outputs": [],
      "source": [
        "# from sklearn.metrics import hamming_loss, accuracy_score, f1_score\n",
        "# y_true = maindf[[FinancialLabel, Legallabel, SchoolLabel, HealthLabel]].values\n",
        "# y_pred = maindf[[FinancialPredicted, LegalPredicted, SchoolPredicted, HealthPredicted]].values\n",
        "# print(y_true.shape)\n",
        "# print(y_pred.shape)\n",
        "# hl = hamming_loss(y_true, y_pred)\n",
        "# print(\"Hamming Loss:\", hl)\n",
        "\n",
        "# accuracy = accuracy_score(y_true, y_pred)\n",
        "# print(\"Subset accuracy: \", accuracy)\n",
        "\n",
        "# f1score = f1_score(y_true, y_pred, average='macro')\n",
        "# print(\"Macro averaged F1 score: \", f1score)\n",
        "\n",
        "# f1score = f1_score(y_true, y_pred, average='micro')\n",
        "# print(\"Micro averaged F1 score: \", f1score)\n",
        "\n",
        "# y_true = maindf[FinancialLabel].values\n",
        "# y_pred = maindf[FinancialPredicted].values\n",
        "# f1score = f1_score(y_true, y_pred)\n",
        "# print(\"Financial problem F1 score: \", f1score)\n",
        "\n",
        "# y_true = maindf[Legallabel].values\n",
        "# y_pred = maindf[LegalPredicted].values\n",
        "# f1score = f1_score(y_true, y_pred)\n",
        "# print(\"Legal problem F1 score: \", f1score)\n",
        "\n",
        "# y_true = maindf[SchoolLabel].values\n",
        "# y_pred = maindf[SchoolPredicted].values\n",
        "# f1score = f1_score(y_true, y_pred)\n",
        "# print(\"School problem F1 score: \", f1score)\n",
        "\n",
        "# y_true = maindf[HealthLabel].values\n",
        "# y_pred = maindf[HealthPredicted].values\n",
        "# f1score = f1_score(y_true, y_pred)\n",
        "# print(\"Health problem F1 score: \", f1score)"
      ]
    },
    {
      "cell_type": "code",
      "execution_count": 11,
      "metadata": {},
      "outputs": [],
      "source": [
        "# Dataset from ben Horne\n",
        "# bendata = pd.read_csv('Transfer/article_matches.csv')\n",
        "# bendata.head(3)\n",
        "# print(bendata.shape)\n",
        "\n",
        "# print(bendata[bendata['content'].isna()])\n",
        "\n",
        "# bendata = bendata[~bendata['content'].isna()]\n",
        "# suicide_Articles_from_ben_data = bendata['content'].tolist()\n",
        "\n",
        "# wordcount = 0.0\n",
        "# maxlen = 0\n",
        "# minlen = 100000\n",
        "# maxlens = []\n",
        "# for art in suicide_Articles_from_ben_data:\n",
        "#     wordcount += len(art.split())\n",
        "#     maxlens.append(len(art.split()))\n",
        "#     maxlen = max(maxlen, len(art.split()))\n",
        "#     minlen = min(minlen, len(art.split()))\n",
        "\n",
        "# print(\"Average word count: \", wordcount/len(suicide_Articles_from_ben_data))\n",
        "# print(\"Max word count: \", maxlen)\n",
        "# print(\"Min word count: \", minlen)\n",
        "\n",
        "# ids = bendata['id']\n",
        "# publisher = []\n",
        "# date = []\n",
        "# title = []\n",
        "\n",
        "# for i in ids.tolist():\n",
        "#     if (i == \"\"):\n",
        "#         print(\"gadbad1\")\n",
        "#     diffs = i.split(\"--\", maxsplit=2)\n",
        "#     if (len(diffs) != 3):\n",
        "#         print(\"gadbad2\")\n",
        "#         print(i)\n",
        "#     publisher.append(diffs[0])\n",
        "#     date.append(diffs[1])\n",
        "#     title.append(diffs[2])\n",
        "\n",
        "# bendata[\"Publisher\"] = publisher\n",
        "# bendata[\"Date Published\"] = date"
      ]
    },
    {
      "cell_type": "code",
      "execution_count": 12,
      "metadata": {},
      "outputs": [
        {
          "name": "stdout",
          "output_type": "stream",
          "text": [
            "(22021, 12)\n",
            "(463, 12)\n",
            "(21558, 12)\n"
          ]
        }
      ],
      "source": [
        "maindf = pd.read_csv('/Users/minijain/Downloads/SocWebLab/Structural_Violence/final_list_of_articles.csv')\n",
        "print(maindf.shape)\n",
        "\n",
        "mask = maindf['content'].str.contains('|'.join(strs))\n",
        "filtered_df = maindf[mask]\n",
        "unfiltered = maindf[~mask]\n",
        "print(unfiltered.shape)\n",
        "print(filtered_df.shape)"
      ]
    },
    {
      "cell_type": "code",
      "execution_count": 13,
      "metadata": {},
      "outputs": [
        {
          "name": "stdout",
          "output_type": "stream",
          "text": [
            "(22021, 12)\n"
          ]
        }
      ],
      "source": [
        "#maindf = data[~data['Financial/Job Problem'].isna()]\n",
        "print(maindf.shape)"
      ]
    },
    {
      "cell_type": "code",
      "execution_count": 14,
      "metadata": {},
      "outputs": [],
      "source": [
        "arts = maindf['content'].to_list()\n",
        "cat = []\n",
        "f = [0] * len(arts)\n",
        "h = [0] * len(arts)\n",
        "l = [0] * len(arts)\n",
        "s = [0] * len(arts)\n",
        "n = [0] * len(arts)\n",
        "reason = [\"\"] * len(arts)\n",
        "erroredout = [0] * len(arts)"
      ]
    },
    {
      "cell_type": "code",
      "execution_count": 59,
      "metadata": {},
      "outputs": [
        {
          "name": "stderr",
          "output_type": "stream",
          "text": [
            " 83%|████████▎ | 6974/8450 [00:00<00:00, 28762.35it/s]"
          ]
        },
        {
          "name": "stdout",
          "output_type": "stream",
          "text": [
            "6973\n",
            "TooManyTokens\n",
            "6978\n",
            "TooManyTokens\n"
          ]
        },
        {
          "name": "stderr",
          "output_type": "stream",
          "text": [
            "100%|██████████| 8450/8450 [00:00<00:00, 14035.45it/s]"
          ]
        },
        {
          "name": "stdout",
          "output_type": "stream",
          "text": [
            "6984\n",
            "TooManyTokens\n",
            "6990\n",
            "TooManyTokens\n"
          ]
        },
        {
          "name": "stderr",
          "output_type": "stream",
          "text": [
            "\n"
          ]
        }
      ],
      "source": [
        "test = \"\"\n",
        "for i in tqdm(range(0, 8450)):\n",
        "    try:\n",
        "        # generate response\n",
        "        if (reason[i] != \"\"):\n",
        "            continue\n",
        "        #print(i)\n",
        "        prompt = combinedzeroshot + arts[i] + \"\\n\"\n",
        "        response = openai.ChatCompletion.create(\n",
        "            model=\"gpt-4\",\n",
        "            engine=\"StructuralFactorsOfSuicidegpt4\", # engine with high TPM rate limit; no content filter\n",
        "            messages=[\n",
        "                {\n",
        "                    \"role\": \"user\",\n",
        "                    \"content\": prompt,\n",
        "                },\n",
        "            ],\n",
        "            temperature=0.0\n",
        "        )\n",
        "        chatgpt_output = json.dumps(response['choices'][0]['message']['content'])\n",
        "        #print(chatgpt_output)\n",
        "        test = chatgpt_output\n",
        "        if (\"1: No\" in chatgpt_output):\n",
        "            reason[i] = \"NotSuicide\"\n",
        "            continue\n",
        "        split = chatgpt_output.split('\\\\n')\n",
        "        for sp in split:\n",
        "            if \"Answer 2\" in sp:\n",
        "                chatgpt_output = sp\n",
        "        #print(chatgpt_output)\n",
        "        n[i] = 1\n",
        "        if ('Legal Problem' in chatgpt_output):\n",
        "            l[i] = 1\n",
        "            n[i] = 0\n",
        "        if ('Financial/Job Problem' in chatgpt_output):\n",
        "            f[i] = 1\n",
        "            n[i] = 0\n",
        "        if ('School Problem' in chatgpt_output):\n",
        "            s[i] = 1\n",
        "            n[i] = 0\n",
        "        if ('Health Problem' in chatgpt_output):\n",
        "            h[i] = 1\n",
        "            n[i] = 0\n",
        "        # if (l[i] < 1 & f[i] < 1 & h[i] < 1 & s[i] < 1):\n",
        "        #     n[i] = 1\n",
        "        reason[i] = test\n",
        "        # gt = \"\"\n",
        "        # if (maindf.iloc[i][FinancialLabel] > 0):\n",
        "        #     gt += \"Financial \"\n",
        "        # if (maindf.iloc[i][Legallabel] > 0):\n",
        "        #     gt += \"Legal \"\n",
        "        # if (maindf.iloc[i][HealthLabel] > 0):\n",
        "        #     gt += \"Health \"\n",
        "        # if (maindf.iloc[i][SchoolLabel] > 0):\n",
        "        #     gt += \"School \"\n",
        "        # print(\"ground truth: \", gt)\n",
        "    except Exception as e:\n",
        "        print(i)\n",
        "        if (\"reduce the length of the messages.\" in str(e)):\n",
        "            print(\"TooManyTokens\")\n",
        "            reason[i] = \"TooManyTokens\"\n",
        "        else:\n",
        "            print(str(e))\n",
        "        #print(str(e))\n",
        "        erroredout[i] = 1\n",
        "        \n",
        "    #time.sleep(1)\n",
        "        "
      ]
    },
    {
      "cell_type": "code",
      "execution_count": 60,
      "metadata": {},
      "outputs": [],
      "source": [
        "maindf[FinancialPredicted] = f\n",
        "maindf[SchoolPredicted] = s\n",
        "maindf[HealthPredicted] = h\n",
        "maindf[LegalPredicted] = l\n",
        "maindf['None - Predicted'] = n\n",
        "maindf['Reasoning'] = reason\n",
        "maindf['Error'] = erroredout"
      ]
    },
    {
      "cell_type": "code",
      "execution_count": 61,
      "metadata": {},
      "outputs": [],
      "source": [
        "maindf.to_csv('Structural_violence - GPT4.csv')"
      ]
    },
    {
      "cell_type": "code",
      "execution_count": 119,
      "metadata": {},
      "outputs": [
        {
          "name": "stdout",
          "output_type": "stream",
          "text": [
            "7\n",
            "51\n",
            "8\n",
            "15\n",
            "0\n",
            "16\n",
            "4\n",
            "6\n"
          ]
        }
      ],
      "source": [
        "# maindf[FinancialLabel] = maindf[FinancialLabel].apply(lambda x: 1 if x > 0 else x)\n",
        "# maindf[HealthLabel] = maindf[HealthLabel].apply(lambda x: 1 if x > 0 else x)\n",
        "# maindf[SchoolLabel] = maindf[SchoolLabel].apply(lambda x: 1 if x > 0 else x)\n",
        "# maindf[Legallabel] = maindf[Legallabel].apply(lambda x: 1 if x > 0 else x)\n",
        "\n",
        "financialmatch = len(maindf[(maindf[FinancialPredicted] > 0) & (maindf[FinancialLabel] > 0)])\n",
        "legalmatch = len(maindf[(maindf[LegalPredicted] > 0) & (maindf[Legallabel] > 0)])\n",
        "schoolmatch = len(maindf[(maindf[SchoolPredicted] > 0) & (maindf[SchoolLabel] > 0)])\n",
        "healthmatch = len(maindf[(maindf[HealthPredicted] > 0) & (maindf[HealthLabel] > 0)])\n",
        "\n",
        "print(financialmatch)\n",
        "print(legalmatch)\n",
        "print(schoolmatch)\n",
        "print(healthmatch)\n",
        "\n",
        "financialmatch = len(maindf[(maindf[FinancialPredicted] > 0) & (maindf[FinancialLabel] == 0)])\n",
        "legalmatch = len(maindf[(maindf[LegalPredicted] > 0) & (maindf[Legallabel] == 0)])\n",
        "schoolmatch = len(maindf[(maindf[SchoolPredicted] > 0) & (maindf[SchoolLabel] == 0)])\n",
        "healthmatch = len(maindf[(maindf[HealthPredicted] > 0) & (maindf[HealthLabel] == 0)])\n",
        "\n",
        "print(financialmatch)\n",
        "print(legalmatch)\n",
        "print(schoolmatch)\n",
        "print(healthmatch)"
      ]
    },
    {
      "cell_type": "code",
      "execution_count": 120,
      "metadata": {},
      "outputs": [
        {
          "name": "stdout",
          "output_type": "stream",
          "text": [
            "11\n",
            "59\n",
            "8\n",
            "17\n"
          ]
        }
      ],
      "source": [
        "financialmatch = len(maindf[(maindf[FinancialLabel] > 0)])\n",
        "legalmatch = len(maindf[(maindf[Legallabel] > 0)])\n",
        "schoolmatch = len(maindf[(maindf[SchoolLabel] > 0)])\n",
        "healthmatch = len(maindf[(maindf[HealthLabel] > 0)])\n",
        "\n",
        "print(financialmatch)\n",
        "print(legalmatch)\n",
        "print(schoolmatch)\n",
        "print(healthmatch)"
      ]
    },
    {
      "cell_type": "code",
      "execution_count": 121,
      "metadata": {},
      "outputs": [
        {
          "name": "stdout",
          "output_type": "stream",
          "text": [
            "(200, 4)\n",
            "(200, 4)\n",
            "Hamming Loss: 0.05\n",
            "Subset accuracy:  0.805\n",
            "Macro averaged F1 score:  0.7941938178780285\n",
            "Micro averaged F1 score:  0.8019801980198019\n",
            "Financial problem F1 score:  0.7777777777777778\n",
            "Legal problem F1 score:  0.8095238095238095\n",
            "School problem F1 score:  0.8\n",
            "Health problem F1 score:  0.7894736842105262\n"
          ]
        }
      ],
      "source": [
        "from sklearn.metrics import hamming_loss, accuracy_score, f1_score\n",
        "y_true = maindf[[FinancialLabel, Legallabel, SchoolLabel, HealthLabel]].values\n",
        "y_pred = maindf[[FinancialPredicted, LegalPredicted, SchoolPredicted, HealthPredicted]].values\n",
        "print(y_true.shape)\n",
        "print(y_pred.shape)\n",
        "hl = hamming_loss(y_true, y_pred)\n",
        "print(\"Hamming Loss:\", hl)\n",
        "\n",
        "accuracy = accuracy_score(y_true, y_pred)\n",
        "print(\"Subset accuracy: \", accuracy)\n",
        "\n",
        "f1score = f1_score(y_true, y_pred, average='macro')\n",
        "print(\"Macro averaged F1 score: \", f1score)\n",
        "\n",
        "f1score = f1_score(y_true, y_pred, average='micro')\n",
        "print(\"Micro averaged F1 score: \", f1score)\n",
        "\n",
        "y_true = maindf[FinancialLabel].values\n",
        "y_pred = maindf[FinancialPredicted].values\n",
        "f1score = f1_score(y_true, y_pred)\n",
        "print(\"Financial problem F1 score: \", f1score)\n",
        "\n",
        "y_true = maindf[Legallabel].values\n",
        "y_pred = maindf[LegalPredicted].values\n",
        "f1score = f1_score(y_true, y_pred)\n",
        "print(\"Legal problem F1 score: \", f1score)\n",
        "\n",
        "y_true = maindf[SchoolLabel].values\n",
        "y_pred = maindf[SchoolPredicted].values\n",
        "f1score = f1_score(y_true, y_pred)\n",
        "print(\"School problem F1 score: \", f1score)\n",
        "\n",
        "y_true = maindf[HealthLabel].values\n",
        "y_pred = maindf[HealthPredicted].values\n",
        "f1score = f1_score(y_true, y_pred)\n",
        "print(\"Health problem F1 score: \", f1score)"
      ]
    },
    {
      "cell_type": "code",
      "execution_count": 115,
      "metadata": {},
      "outputs": [],
      "source": [
        "maindf.to_csv('ben200_gpt4.csv')"
      ]
    },
    {
      "cell_type": "code",
      "execution_count": 549,
      "metadata": {},
      "outputs": [
        {
          "data": {
            "image/png": "[encoded data removed]",
            "text/plain": [
              "<Figure size 640x480 with 1 Axes>"
            ]
          },
          "metadata": {},
          "output_type": "display_data"
        }
      ],
      "source": [
        "import matplotlib.pyplot as plt\n",
        "\n",
        "# Plotting the array\n",
        "bin_edges = [0, 2000, 4000, 6000, 8000, 10000, 20000]  # Adjust these edges according to your needs\n",
        "\n",
        "# Plotting the histogram\n",
        "plt.hist(maxlens, bins=bin_edges, edgecolor='black')\n",
        "\n",
        "# Adding labels and title\n",
        "plt.xlabel('Length of Article')\n",
        "plt.ylabel('Frequency')\n",
        "plt.title('Length Distribution')\n",
        "\n",
        "# Displaying the plot\n",
        "plt.show()"
      ]
    },
    {
      "cell_type": "code",
      "execution_count": 2,
      "metadata": {},
      "outputs": [],
      "source": [
        "import pandas as pd\n",
        "import numpy as np\n",
        "\n",
        "data = pd.read_csv('finalbendatasetwithpreds.csv')\n",
        "\n",
        "arts = data['Reasoning'].to_list()\n",
        "f = [0] * len(arts)\n",
        "h = [0] * len(arts)\n",
        "l = [0] * len(arts)\n",
        "s = [0] * len(arts)\n",
        "n = [0] * len(arts)\n",
        "#arts = financial_problem_df['Text'].to_list()\n",
        "financialpred = [0] * len(arts) \n",
        "reason = [\"\"] * len(arts)"
      ]
    },
    {
      "cell_type": "code",
      "execution_count": 3,
      "metadata": {},
      "outputs": [
        {
          "data": {
            "text/plain": [
              "(22021, 28)"
            ]
          },
          "execution_count": 3,
          "metadata": {},
          "output_type": "execute_result"
        }
      ],
      "source": [
        "data.shape"
      ]
    },
    {
      "cell_type": "code",
      "execution_count": 4,
      "metadata": {},
      "outputs": [],
      "source": [
        "multi = 0\n",
        "fi = 0\n",
        "sc = 0\n",
        "le = 0\n",
        "he = 0\n",
        "\n",
        "finalreason = [\"\"] * len(arts)\n",
        "\n",
        "for i in range(len(arts)):\n",
        "    chatgpt_output = arts[i]\n",
        "    if (\"1: No\" in chatgpt_output):\n",
        "        reason[i] = \"NotSuicide\"\n",
        "        continue\n",
        "    if (\"NotSuicide\" in chatgpt_output or \"TooManyTokens\" in chatgpt_output):\n",
        "        continue\n",
        "    split = chatgpt_output.split('\\\\n')\n",
        "    for sp in split:\n",
        "        if \"Answer 2\" in sp:\n",
        "            chatgpt_output = sp\n",
        "        if (\"Reasoning\" in sp):\n",
        "            finalreason[i] = sp.replace(\"Reasoning: \", \"\")\n",
        "    #print(chatgpt_output)\n",
        "    n[i] = 1\n",
        "    if ('Legal Problem' in chatgpt_output):\n",
        "        l[i] = 1\n",
        "        n[i] = 0\n",
        "    if ('Financial/Job Problem' in chatgpt_output):\n",
        "        f[i] = 1\n",
        "        n[i] = 0\n",
        "    if ('School Problem' in chatgpt_output):\n",
        "        s[i] = 1\n",
        "        n[i] = 0\n",
        "    if ('Health Problem' in chatgpt_output):\n",
        "        h[i] = 1\n",
        "        n[i] = 0\n",
        "    # if (l[i] + f[i] + h[i] + s[i] > 1):\n",
        "    #     multi = multi + 1\n",
        "    #     if (f[i] == 1):\n",
        "    #         fi = fi + 1 \n",
        "    #     if (h[i] == 1):\n",
        "    #         he = he + 1 \n",
        "    #     if (l[i] == 1):\n",
        "    #         le = le + 1 \n",
        "    #     if (s[i] == 1):\n",
        "    #         sc = sc + 1 \n",
        "        #print(chatgpt_output)\n",
        "#print(multi)\n",
        "\n",
        "#print(fi)\n",
        "#print(le)\n",
        "#print(sc)\n",
        "#print(he)\n",
        "\n",
        "#print(\"Multi label: \",data[(data[HealthPredicted] + data[FinancialPredicted] + data[LegalPredicted] + data[SchoolPredicted] > 1)].shape[0])\n",
        "\n",
        "#print(\"Multi label: \",data[(data[HealthPredicted] + data[FinancialPredicted] + data[LegalPredicted] + data[SchoolPredicted] > 1)].shape[0])\n"
      ]
    },
    {
      "cell_type": "code",
      "execution_count": 5,
      "metadata": {},
      "outputs": [
        {
          "name": "stdout",
          "output_type": "stream",
          "text": [
            "4373\n"
          ]
        }
      ],
      "source": [
        "count = 0\n",
        "for i  in n:\n",
        "    if i == 1:\n",
        "        count = count + 1\n",
        "print(count)"
      ]
    },
    {
      "cell_type": "code",
      "execution_count": 6,
      "metadata": {},
      "outputs": [],
      "source": [
        "data['None - Predicted'] = n\n",
        "data.to_csv('finalbendatasetwithpreds.csv')"
      ]
    },
    {
      "cell_type": "code",
      "execution_count": null,
      "metadata": {},
      "outputs": [],
      "source": []
    }
  ],
  "metadata": {
    "accelerator": "GPU",
    "colab": {
      "gpuType": "T4",
      "provenance": []
    },
    "kernelspec": {
      "display_name": "Python 3",
      "name": "python3"
    },
    "language_info": {
      "codemirror_mode": {
        "name": "ipython",
        "version": 3
      },
      "file_extension": ".py",
      "mimetype": "text/x-python",
      "name": "python",
      "nbconvert_exporter": "python",
      "pygments_lexer": "ipython3",
      "version": "3.9.6"
    }
  },
  "nbformat": 4,
  "nbformat_minor": 0
}

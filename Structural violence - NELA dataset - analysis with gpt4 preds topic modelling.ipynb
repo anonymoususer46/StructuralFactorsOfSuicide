{
 "cells": [
  {
   "cell_type": "code",
   "execution_count": 1,
   "id": "f270da40",
   "metadata": {},
   "outputs": [],
   "source": [
    "import pandas as pd\n",
    "import numpy as np\n",
    "import seaborn as sns\n",
    "import matplotlib.pyplot as plt\n",
    "\n",
    "FinancialLabel = \"Financial/Job Problem\"\n",
    "Legallabel = \"Legal Problem\"\n",
    "SchoolLabel = \"School or Academic Related Problem\"\n",
    "HealthLabel = \"Lack of Access to Health/Mental Health Care\"\n",
    "FinancialPredicted = \"Financial - Predicted\"\n",
    "LegalPredicted = \"Legal - Predicted\"\n",
    "SchoolPredicted = \"School - Predicted\"\n",
    "HealthPredicted = \"Health - Predicted\""
   ]
  },
  {
   "cell_type": "code",
   "execution_count": 2,
   "id": "e016e928",
   "metadata": {},
   "outputs": [],
   "source": [
    "\n",
    "#scores = pd.read_csv('ben_dataset_all_class_scores_embeddings_using_first_384_words.csv')\n",
    "#bendata = pd.read_csv('/Users/minijain/Downloads/SocWebLab/Structural_Violence/Final Ben dataset labelled.csv')\n",
    "bendata = pd.read_csv('/Users/minijain/Downloads/SocWebLab/Structural_Violence/finalbendatasetwithpreds.csv')\n",
    "nelagt = pd.read_csv('Transfer/labels_NELAGT.csv')\n",
    "countydata = pd.read_csv('Transfer/County_data_NELALocal.csv')"
   ]
  },
  {
   "cell_type": "code",
   "execution_count": 393,
   "id": "9e6ca86e",
   "metadata": {},
   "outputs": [],
   "source": [
    "result = bendata\n",
    "print(result.shape)"
   ]
  },
  {
   "cell_type": "code",
   "execution_count": 395,
   "id": "aa136b01",
   "metadata": {},
   "outputs": [
    {
     "name": "stdout",
     "output_type": "stream",
     "text": [
      "hitandrun\n",
      "pamelagellerreport\n",
      "skynewsus\n",
      "bonginoreport\n",
      "freedom-bunker\n",
      "csmonitor\n"
     ]
    }
   ],
   "source": [
    "result.loc[result['Publisher'] == \"chicagosuntimes\", 'Publisher'] = \"chicagosun-times\"\n",
    "result.loc[result['Publisher'] == \"wakingtimes\", 'Publisher'] = \"thewakingtimes\"\n",
    "requiredpublishers = result['Publisher'].unique()\n",
    "allregionalpublishers = countydata['source']\n",
    "allnationalpublishers = nelagt['source']\n",
    "\n",
    "common_elements = set(allnationalpublishers).intersection(allregionalpublishers)\n",
    "all_elements = set(allnationalpublishers).union(allregionalpublishers)\n",
    "\n",
    "for i in requiredpublishers:\n",
    "    if i not in all_elements:\n",
    "        print(i)"
   ]
  },
  {
   "cell_type": "code",
   "execution_count": 397,
   "id": "24125206",
   "metadata": {},
   "outputs": [
    {
     "name": "stdout",
     "output_type": "stream",
     "text": [
      "(13629, 15)\n"
     ]
    }
   ],
   "source": [
    "result = result[(result['Reasoning'] != \"TooManyTokens\") & (result['Reasoning'] != \"NotSuicide\")]\n",
    "result = result.drop([FinancialLabel, SchoolLabel, Legallabel, HealthLabel, 'Unnamed: 0.3', 'Unnamed: 0.2', 'Unnamed: 0.1', 'Unnamed: 0', 'Comments', 'None', 'Error'], axis = 1)\n",
    "print(result.shape)"
   ]
  },
  {
   "cell_type": "markdown",
   "id": "cf76a6a1",
   "metadata": {},
   "source": [
    "### BREAK"
   ]
  },
  {
   "cell_type": "code",
   "execution_count": 399,
   "id": "25e82b9e",
   "metadata": {},
   "outputs": [
    {
     "name": "stdout",
     "output_type": "stream",
     "text": [
      "213\n",
      "315\n",
      "['chicagosun-times', 'dailyherald']\n"
     ]
    }
   ],
   "source": [
    "nationalsources = nelagt[nelagt['country'] == 'USA']['source'].unique()\n",
    "regionalsources = countydata['source'].unique()\n",
    "print(len(nationalsources))\n",
    "print(len(regionalsources))\n",
    "\n",
    "common_elements = [element for element in nationalsources.tolist() if element in regionalsources.tolist()]\n",
    "print(common_elements)"
   ]
  },
  {
   "cell_type": "code",
   "execution_count": 400,
   "id": "b38a54cf",
   "metadata": {},
   "outputs": [],
   "source": [
    "def national_func(row):\n",
    "    val = row['Publisher']\n",
    "    #print(val)\n",
    "    if row['Publisher'] in nationalsources:\n",
    "        return 1\n",
    "    else:\n",
    "        return 0\n",
    "def regional_func(row):\n",
    "    val = row['Publisher']\n",
    "    #print(val)\n",
    "    if row['Publisher'] in regionalsources:\n",
    "        return 1\n",
    "    else:\n",
    "        return 0\n",
    "\n",
    "# Apply the function to create the new column\n",
    "result['National'] = result.apply(national_func, axis=1)\n",
    "result['Regional'] = result.apply(regional_func, axis=1)"
   ]
  },
  {
   "cell_type": "code",
   "execution_count": 401,
   "id": "edf5ee32",
   "metadata": {},
   "outputs": [
    {
     "name": "stdout",
     "output_type": "stream",
     "text": [
      "National articles:  8891\n",
      "Regional articles:  4426\n",
      "None articles:  573\n"
     ]
    }
   ],
   "source": [
    "print(\"National articles: \", len(result[result['National'] == 1]))\n",
    "print(\"Regional articles: \", len(result[result['Regional'] == 1]))\n",
    "print(\"None articles: \", len(result[(result['National'] == 0) & (result['Regional'] == 0)]))"
   ]
  },
  {
   "cell_type": "code",
   "execution_count": 402,
   "id": "bf4c43ab",
   "metadata": {},
   "outputs": [],
   "source": [
    "regionaldf = result[result['Regional'] == 1]\n",
    "nationaldf = result[result['National'] == 1]"
   ]
  },
  {
   "cell_type": "code",
   "execution_count": 403,
   "id": "eea75737",
   "metadata": {},
   "outputs": [],
   "source": [
    "regionaldf.to_csv('regional.csv')\n",
    "nationaldf.to_csv('national.csv')"
   ]
  },
  {
   "cell_type": "code",
   "execution_count": 409,
   "id": "7f908126",
   "metadata": {},
   "outputs": [
    {
     "name": "stdout",
     "output_type": "stream",
     "text": [
      "58\n",
      "32\n"
     ]
    }
   ],
   "source": [
    "nelagt['bias'].unique()\n",
    "leftsources = nelagt[(nelagt['country'] == 'USA') &  ((nelagt['bias'] == 'left-center') | (nelagt['bias'] == 'left') | (nelagt['bias'] == 'left-bias') )]['source'].unique()\n",
    "rightsources = nelagt[(nelagt['country'] == 'USA') &  ((nelagt['bias'] == 'right-center') | (nelagt['bias'] == 'right') | (nelagt['bias'] == 'right-bias') )]['source'].unique()\n",
    "print(len(leftsources))\n",
    "print(len(rightsources))\n",
    "def left_func(row):\n",
    "    val = row['Publisher']\n",
    "    #print(val)\n",
    "    if row['Publisher'] in leftsources:\n",
    "        return 1\n",
    "    else:\n",
    "        return 0\n",
    "def right_func(row):\n",
    "    val = row['Publisher']\n",
    "    #print(val)\n",
    "    if row['Publisher'] in rightsources:\n",
    "        return 1\n",
    "    else:\n",
    "        return 0\n",
    "\n",
    "# Apply the function to create the new column\n",
    "result['Left'] = result.apply(left_func, axis=1)\n",
    "result['Right'] = result.apply(right_func, axis=1)"
   ]
  },
  {
   "cell_type": "code",
   "execution_count": 410,
   "id": "7b4cef6c",
   "metadata": {},
   "outputs": [],
   "source": [
    "policticalleaningadded = pd.merge(nationaldf, nelagt, left_on='Publisher', right_on='source', how='inner')\n",
    "leftbias = policticalleaningadded[(policticalleaningadded['bias'] == 'left') | (policticalleaningadded['bias'] == 'left-center')]\n",
    "rightbias = policticalleaningadded[(policticalleaningadded['bias'] == 'right') | (policticalleaningadded['bias'] == 'right-center')]\n",
    "nobias = policticalleaningadded[policticalleaningadded['bias'] == 'center']"
   ]
  },
  {
   "cell_type": "code",
   "execution_count": 411,
   "id": "e52becb5",
   "metadata": {},
   "outputs": [],
   "source": [
    "leftbias.to_csv('leftbias.csv')\n",
    "rightbias.to_csv('rightbias.csv')"
   ]
  },
  {
   "cell_type": "code",
   "execution_count": null,
   "id": "7cd3e468",
   "metadata": {},
   "outputs": [],
   "source": [
    "# seed topics\n",
    "SEED_TOPICS_FLAG = False # seeds topics that model will attempt to converge to\n",
    "if SEED_TOPICS_FLAG:\n",
    "    SEED_TOPICS = [['learning', 'learn', 'knowledge'],['curious', 'curiosity'],['trends', 'latest', 'abreast', 'technology'],['skills', 'improve', 'skillset', 'practice', 'career'],['datasets', 'access', 'public', 'available'],['competition, competetive'],['money', 'win', 'prizes'],['fun','hobby', 'enjoy', 'love']]\n",
    "else:\n",
    "    SEED_TOPICS = [[]]\n",
    "    \n",
    "# umap params\n",
    "UMAP_N_NEIGHBOURS = 20\n",
    "UMAP_N_COMPONENTS = 15\n",
    "RANDOM_SEED = 42\n",
    "\n",
    "# hdbscan params\n",
    "MIN_CLUSTER_SIZE = 15\n",
    "\n",
    "# ctfidf params\n",
    "#REDUCE_FREQUENT_WORDS = False\n",
    "REDUCE_FREQUENT_WORDS = True\n",
    "\n",
    "# vectorizer params\n",
    "STOP_WORDS_FLAG = True # stops words being used in topics, but not for embeddings\n",
    "NGRAM_RANGE = (1,2)  \n",
    "\n",
    "if STOP_WORDS_FLAG:\n",
    "    STOP_WORDS = stopwords.words('english')\n",
    "else: \n",
    "    STOP_WORDS = []\n",
    "\n",
    "# representation model params\n",
    "DIVERSITY = 0.1 # val in [0,1] specifying diversity of words in each topic\n",
    "\n",
    "# outlier reduction params\n",
    "OUTLIER_THRESH = 0.2\n",
    "\n",
    "PRETRAINED_SENTENCE_MODEL = 'all-MiniLM-L12-v2'"
   ]
  },
  {
   "cell_type": "code",
   "execution_count": null,
   "id": "fbbb8fd9",
   "metadata": {},
   "outputs": [],
   "source": [
    "sentence_model = SentenceTransformer(PRETRAINED_SENTENCE_MODEL)\n",
    "embeddings = sentence_model.encode(comments_all, show_progress_bar=True)"
   ]
  },
  {
   "cell_type": "code",
   "execution_count": null,
   "id": "44821488",
   "metadata": {},
   "outputs": [],
   "source": []
  }
 ],
 "metadata": {
  "kernelspec": {
   "display_name": "Python 3 (ipykernel)",
   "language": "python",
   "name": "python3"
  },
  "language_info": {
   "codemirror_mode": {
    "name": "ipython",
    "version": 3
   },
   "file_extension": ".py",
   "mimetype": "text/x-python",
   "name": "python",
   "nbconvert_exporter": "python",
   "pygments_lexer": "ipython3",
   "version": "3.9.6"
  }
 },
 "nbformat": 4,
 "nbformat_minor": 5
}

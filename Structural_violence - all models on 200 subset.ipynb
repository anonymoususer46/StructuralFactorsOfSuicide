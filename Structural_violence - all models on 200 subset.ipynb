{
  "cells": [
    {
      "cell_type": "code",
      "execution_count": 1,
      "metadata": {},
      "outputs": [],
      "source": [
        "import openai\n",
        "import pandas as pd\n",
        "from tqdm import tqdm\n",
        "import json\n",
        "import time\n",
        "import random\n",
        "import pickle\n",
        "import math\n",
        "\n",
        "#load the API\n",
        "openai.api_type = \"azure\"\n",
        "openai.api_version = \"2023-07-01-preview\"\n",
        "openai.api_base = \"https://structuralfactorsofsuicide.openai.azure.com/\"\n",
        "openai.api_key = \"f678e6405d5f46099018cd5c9370758f\"\n",
        "\n",
        "FinancialLabel = \"Financial/Job Problem\"\n",
        "Legallabel = \"Legal Problem\"\n",
        "SchoolLabel = \"School or Academic Related Problem\"\n",
        "HealthLabel = \"Lack of Access to Health/Mental Health Care\"\n",
        "FinancialPredicted = \"Financial - Predicted\"\n",
        "LegalPredicted = \"Legal - Predicted\"\n",
        "SchoolPredicted = \"School - Predicted\"\n",
        "HealthPredicted = \"Health - Predicted\""
      ]
    },
    {
      "cell_type": "code",
      "execution_count": 94,
      "metadata": {},
      "outputs": [],
      "source": [
        "ZeroShotPrompt = \"Suicide is the act of intentionally causing one's own death or taking their own life by any means. You are a public health professional. You are going through news articles from across the USA that mention suicide and your task is to identify the cause of the suicide talked about in the article. The article may not use the word ‘suicide’, instead explain it in another way, such as ‘he took his own life’ or a different expression that has the same meaning. \\n You have to categorize the articles in one or more of the following categories: \\n\\n 1) 'Financial/Job Problem': If there is mention of a person or multiple people who killed themselves due to financial or work related problems or bad financial state or an incident at their place of employment. \\n 2) ‘School Problem': If there is mention of a person or multiple people who killed themselves due to an academic or school related problem. \\n 3) 'Health Problem': If there is mention of a person or multiple people who killed themselves due to lack of access to mental or physical health care or treatment. \\n 4) ‘Legal Problem': If there is mention of a person or multiple people who killed themselves after facing a legal problem or being involved or suspected or targeted in a violation of the law. \\n 5) ‘None’: If there is no explicit mention of a person who committed suicide or killed themselves or if suicide was attempted or threatened but the person did not die or if the reason of suicide is not aligned with any of the above 4 categories. \\n\\n Now, read the following news article answer the following 2 questions: \\n 1. Is there mention of a person or multiple people who died after committing suicide or killed themselves? Provide your answer in the following format: \\n Answer 1: Yes or No  \\n 2. Identify which of the above categories does the article belong to. An article can belong to more than one category. Also provide a reasoning for the same in the following format:\\n Answer 2: \\n Reasoning: \\n\\n Article: \""
      ]
    },
    {
      "cell_type": "code",
      "execution_count": 95,
      "metadata": {},
      "outputs": [],
      "source": [
        "combinedfewshot = \"Suicide is the act of intentionally causing one's own death or taking their own life by any means. You are a public health professional. You are going through news articles from across the USA that mention suicide and your task is to identify whether financial struggles or problems related to their job/profession or an incident at their place of employment influenced or led to the suicide talked about in the article. The article may not use the word ‘suicide’, instead explain it in another way, such as ‘he took his own life’ or a different expression that has the same meaning. Suicide in news reports can be expressed in various terms, such as mentioning the act of suicide, or mentioning that someone killed themselves, or someone ended their own life or someone took their own life and other similar expressions. \\n You have to categorize the articles in one or more of the following categories: \\n\\n 1) 'Financial/Job Problem' : If there is mention of a person or multiple people who killed themselves primarily due to financial or work related struggles or an incident at their place of employment. \\n 2) ‘School Problem' : If there is mention of a person or multiple people who killed themselves primarily due to an incident at school or an academic/school problem experienced by them. \\n 3) 'Health Problem' : if there is mention of a person or multiple people who killed themselves primarily due to lack of access to mental or physical health care or treatment. \\n 4) ‘Legal Problem' : If there is mention of a person or multiple people who killed themselves primarily after facing a law related problem or being involved or suspected in a violation of the law by the authorities. \\n 5) ‘None’ : If there is no mention of a person committing suicide or if the reason of suicide is not aligned with any of the above 4 categories. \\n\\n Following are the examples of news articles talking about suicide and the answer to which category it falls into along with the reasoning behind that answer:\\n\\n Article: a suicide in texas there is a strange fiction that dominates american college campuses. it is the belief that america’s most “tolerant,” progressive, and sensitive communities are simultaneously virtual hellholes for marginalized members of the community, justifying emergency   measures designed to end oppression and defend the defenseless. thus, the federal government hypes false statistics that a staggering 20 percent of female students will be victims of sexual assault. thus, campuses implement disciplinary practices and policies that deny due process and treat straight men as guilty until proven innocent. and, colleges claim, it’s all necessary. after all, rape and sexual harassment represent   traumas. false accusations and unjust punishment? well, that’s just a momentary inconvenience  —   a small price to pay for the cause of social justice. tell that to the family of thomas klocke, a student at the university of texas at arlington. the competing factual accounts are simple and difficult to resolve. a gay student accused klocke (who was straight) of typing “gays should die” into the search bar of his browser during a classroom conversation about privilege. when the gay student then typed into his own computer, “i’m gay. ” klocke then allegedly said that the gay student was a “faggot” and that he should consider killing himself. klocke’s account was diametrically opposed. he claimed that the gay student called him “beautiful. ” klocke then typed into his web browser, “stop, i’m straight. ” the gay student replied, “i’m gay” and then allegedly kept glancing at klocke, who eventually got up and moved seats. the dean then allegedly assigned the case to the school’s associate director of academic integrity, who promptly issued an order prohibiting klocke not only from contacting his accuser, he also prohibited him from attending the class where the incident occurred, and  —   crucially  —   from contacting any member of the class, directly or through any other person. later, he reportedly barred klocke’s father, an attorney, from attending a meeting regarding the case, and then “decided” the dispute without following   procedures, without giving klocke the opportunity to contact or call witnesses, and indeed without hearing from any witness who could corroborate either student’s claims. the school, for its part, denies that it departed from mandatory processes and asserts that it “followed its policies and procedures. ” the associate director of academic integrity found klocke responsible for “harassment,” placed him on probation for the remainder of his academic career at the university, and prohibited him from returning to the class where the incident occurred, though he could work on “group projects outside the classroom. ” parents of college boys sometimes take comfort that they can avoid the atmosphere of   hysteria by asking them to follow some relatively simple, commonsense guidelines. don’t drink too much. don’t engage the   culture. use basic manners so that coarse talk isn’t misconstrued. no advice is foolproof, of course, but following those three guidelines  —   in addition to being virtuous on their own merits  —   will help avoid a multitude of problems. not for klocke, however. if his account is true (the university claims it followed proper procedures) then he was doing everything right. he was minding his own business in class, declined an unwelcome sexual advance, and changed seats. if his account is true, a gay student potentially motivated by embarrassment or fear was able to take advantage of the known bias of campus administrators to punish the man that he approached. during my own legal career, i’ve worked with students who’ve experienced many of the same things that thomas klocke’s family claims that he experienced. i’ve represented students whose parents were barred from disciplinary meetings, leaving them to face the wrath of administrators alone. but there’s something else i’ve seen. i’ve seen the cost imposed on students accused of misconduct  —   the fear and the stress as they feel like their reputations, their careers, and their dreams are vanishing before their very eyes. suicide is a complicated phenomenon, and i have no doubt that additional facts will emerge as the case works its way through the judicial system, but no one  —   ever  —   should believe that crackdowns come without cost or that due process is an abstract concept, a mere inconvenience that stands in the way of social justice. one doesn’t minimize sexual assault or sexual harassment by preserving due process. it is not a matter of either protecting the rights of the accuser or respecting the rights of the accused. instead, due process is a basic human right. failing to respect that right inflicts its own unique form of trauma on students, and sometimes that trauma can carry with it horrifying consequences. \\n Answer: School Problem, Legal Problem \\n Reasoning: The article mentions the suicide of Thomas klocke due to wrongful accusations at his school. \\n\\n Article: veteran commits suicide in parking lot of long island v.a.    navy veteran peter a. kaisen, of islip, new york, killed himself in the parking lot of the northport veterans affairs medical center on sunday after reportedly being turned away for emergency care. [“kaisen served in the u. s. navy from 1958 to 1962, working on the uss denebola, a ship that delivered refrigerated items and equipment to ships in the fleet,” according to his friend thomas farley, as cited by fox news.   after leaving the navy, kaisen went to work for the long beach police department, where he was severely injured in a car accident, causing him to rely on pain medication over the following decades. the new york times quotes two sources connected to the northport va medical center who said kaisen came there on sunday seeking   care for a mental health issue but was turned away.  according to these sources, the e. r. staff did not tell kaisen that the mental health facility was open 24 hours a day, and a psychologist was on call. for what it’s worth, the long island press notes the medical center’s website claims, “there is always a caring mental health doctor available   in our emergency room. ” he then went to the parking lot outside the medical center’s nursing home facility, where newsday says he was found “bleeding and unresponsive” after shooting himself. although the hospital is currently denying that kaisen presented himself to the emergency room, the new york times’s anonymous sources were scathing in their criticism. “he went to the e. r. and was denied service. and then he went to his car and shot himself,” said one source, identified as a hospital employee. “someone dropped the ball. they should not have turned him away. ” the times reports this is yet another va facility with a troubled history: the northport hospital has been under scrutiny for mismanagement and poor care since the new york times reported in may that it had closed all five of its operating rooms for months after   black particles began falling from air ducts. the office of representative lee zeldin, a republican whose first congressional district is on long island, had been looking into the allegations, eric amidon, mr. zeldin’s chief of staff, said in an email to the times in june. newsday reports that u. s. house representatives steve israel and peter king sent a letter to fbi director james comey on thursday demanding an “expeditious and transparent investigation” of the incident. the fbi was already involved in the case because kaisen’s death occurred on federal property, but there was no suspicion of criminal activity, and kaisen is believed to have been alone when he died. “i’m a vietnam vet  —   disabled from agent orange  —   and he was always looking out for me. he was such a faithful guy. he was such a big advocate for veterans and that’s what makes it’s so sad,” kaisen’s friend thomas farley told fox news. kaisen’s work for his fellow veterans might not be finished yet. “your death is not in vain. through your tragedy, may the bureaucrats change policies to help others that were in your situation,” read one message left on the funeral home’s website, quoted by the long island press. \\n Answer: Health Problem \\n Reasoning: The article talks about peter a. kaisen who committed suicide by shooting himself due to denial of mental health care at the local veteran care facility. \\n\\n Article: when should hacking be legal?  when aaron swartz, a prominent programmer and digital activist, was arrested in 2011, he was halfway through a fellowship at harvard’s center for ethics. police took him in after he entered a computer closet at mit and downloaded enormous amounts of data from jstor’s extensive database of academic research. swartz was charged with 13 felonies, 11 of them based on the computer fraud and abuse act, or cfaa. some of the charges hinged on violations of jstor’s terms of service, which prohibit bulk, automated downloads that prevent other customers from accessing its documents. faced with the possibility of decades in prison and up to a million dollars in fines, swartz took his own life in 2013. the ordeal brought cfaa —  a      law that has been updated half a dozen times to keep up with new technology —  under intense scrutiny.   activists decried the law for its vague definitions of “unauthorized access” to a computer, and for punishing researchers and academics who analyze and pick apart computer systems they don’t own or operate. some members of congress tried (and then tried again) to roll back elements of the law, including those that have been used to criminalize    violations. but a bill sponsored by representative zoe lofgren and senator ron wyden —  a pair of   democrats —  died in 2013, and is currently stalled after being reintroduced in 2015. the lawmakers named their bill “aaron’s law” after swartz. now, a group of academic researchers and journalists is suing the government, challenging the constitutionality of part of cfaa. with the help of the american civil liberties union, they’re targeting the portion of the law that makes it illegal to break private companies’ terms of service, claiming that the rule violates researchers’ and journalists’ rights to conduct research and investigations in the public interest, as guaranteed by the first amendment. they come in the form of the seemingly endless blocks of lawyerly fine print that pop up as you sign up for a new service —  the ones nearly every user clicks through without reading. but although they’re an individual’s agreement with a company, cfaa makes violating them a federal crime. one pair of researchers —  christian sandvig, of the university of michigan, and karrie karahalios, of the university of illinois —  is examining   websites, and the other pair —  alan mislove and christo wilson of northeastern university —  is looking at hiring websites. both projects are trying to determine whether the sites serve different search results, listings, and ads to users that appear to be from minority groups. to do so, they’re creating an army of fake profiles and tweaking them to look like they belong to a diverse set of people. but using that tactic —  one that’s very popular among researchers —  could make the professors felons: the terms of most online services, including the largest employment and   websites, prohibit creating multiple profiles, falsifying profile information, and scraping publicly available information with automated scripts. the lawsuit argues that testing for biases is essential to enforcing the fair housing act, which prohibits discrimination in home rentals or sales, and the civil rights act, which bans discrimination in hiring. in the suit, aclu lawyers point out that the government has conducted nationwide undercover testing for illegal biases in housing since the 1970s, and that courts have repeatedly upheld the rights of   testers. the researchers want to know if a user whose profile indicates she’s black will be served different apartments or jobs than one whose profile indicates he’s white. as long as attempts to reform cfaa in congress are stalled, challenging the law in court may be the only way to move the needle. if the case sees any success, it could even breathe life back into aaron’s law, or a similar bill. but until the law is changed, researchers who break companies’ terms of service for work have to keep looking over their shoulders for   corporate lawyers —  or federal prosecutors. \\n Answer: Legal Problem \\n Reasoning: The article talks about the suicide of Aaron Swartz, whi killed himself after being charged with computer fraud and abuse and facing a hefty penalty of millions and a jail setence spanning decades. \\n\\n Article: was a va. firefighter humiliated by co-workers online before she killed herself?  the trolls were horrid to her while she was alive. and they continued to be awful after her death. fairfax county firefighter nicole mittendorff, 31, killed herself in virginia’s shenandoah national park, the state medical examiner concluded. but even after the search for her was over, her body was identified and memorial candles began to burn, the cyberbullies  —   who claimed they were her fellow firefighters  —   kept scorching away at mittendorff online.  petula is a columnist for the washington post’s local team who writes about homeless shelters, gun control, high heels, high school choirs, the politics of parenting, jails, abortion clinics, mayors, modern families, strip clubs and gas prices, among other things. view archive   facebook google+ rss   if these trolls are actually members of her firehouse family, then mittendorff becomes another example of a new form of workplace harassment. instead of happening in the office, it happens publicly online.  there is an investigation at mittendorff’s firehouse to find out who posted the vicious online attacks and whether they played a role in her suicide.  “we at fairfax fire and rescue are aware of the posts and are looking into the matter. i assure you that my department can not and will not tolerate bullying of any kind,” fairfax county fire chief richard bowers wrote in a public statement saturday. “we will thoroughly investigate this matter and take any appropriate actions needed. ”   fairfax county fire chief richard bowers said he has ”zero tolerance” for bullying after online postings raise questions about whether firefighter nicole mittendorff was bullied before her death. mittendorf’s body was found in virginia’s shenandoah national park last week. (wusa 9)    [searchers find body thought to be missing fairfax firefighter]   mittendorff’s case offers a chilling window into the persistent harassment women encounter on a daily basis online and at work. in fact, those two forms of ugliness appear to be merging. it means sexual harassment isn’t just   bosses pawing at a secretary or men disparaging female   at the water cooler. it can happen from a home computer and devastate a woman’s reputation and career. “it seems to be a newer thing, doing this online,” said angela hughes, a baltimore county fire captain who is also president of the international association of women in fire and emergency medical services. “cyberbullying on   outlets is a new form of harassment. ” her group gets frequent requests for help from firefighters who believe they are being harassed, threatened or mistreated because of their gender. but recently, the group has seen more online bullying, including some facebook pages that actively harass female firefighters. the problem, she said, is that a firehouse fosters a culture of toughness, of not needing help. and too often, harassment goes on because it’s against the culture to ask for help. online harassment gets directed at   women on social media and by online commenters all the time. the women of wgn, a local television station in chicago, recently took on their abusers when they read some of the nastiest emails, tweets and facebook posts  —   attacks on their weight, their voices, their faces. “keep shoving food down that   of yours,” morning anchor robin baumgarten said, quoting one message. [broadcasters read their rudest comments online]  and we’ve seen it in gamergate, where women in the   world are continually blasted online. that scandal started with feminist   reviewer anita sarkeesian, who had to cancel a university speaking engagement two years ago because one of her many persistent and vulgar online harassers threatened a mass shooting if she spoke. and recently it included zoe quinn, a   developer who was smeared online with death threats and lurid details about her sex life by other gamers and an   who didn’t like her game. from a to z, they get hazed. this brand of workplace harassment operates outside the world of those surveys, workshops and seminars that company lawyers make everyone take, which do nothing to reduce sexism, but only exist to thwart lawsuits in case a caveman boss demands sex for a promotion. even if the trolls ripping mittendorff apart online didn’t work with her, those posts were up there to shame her for her career choice and belittle her within her career. this subversive yet simultaneously very public sexual harassment is becoming increasingly common. we know women still face    harassment in   fields: the military, law enforcement, science, the tech sector. even the women who work for the national park service have offered horror stories. and it’s especially prevalent in firefighting, where i found case after case  —   in rhode island, arizona, utah, florida  —   of women winning sexual harassment cases against their departments in just the past couple of years. in federal reports, congressional testimony, courtroom testimony, personal essays and formal complaints, we hear the same story. women continue to be harassed, belittled, passed over and manipulated by their male   or bosses. \\n Answer: Financial/Job Problem \\n Reasoning: The article talks about a female firefighter who killed herself after being harassed and bullied by her co-workers online. \\n\\n Now, read the following news article answer the following 2 questions: \\n 1. Is there mention of a person or multiple people who died after committing suicide or killed themselves? Provide your answer in the following format: \\n Answer 1: Yes or No  \\n 2. Identify which of the above categories does the article belong to. An article can belong to more than one category. Also provide a reasoning for the same in the following format:\\n Answer 2: \\n Reasoning: \\n\\n Article: \""
      ]
    },
    {
      "cell_type": "code",
      "execution_count": 2,
      "metadata": {},
      "outputs": [
        {
          "name": "stdout",
          "output_type": "stream",
          "text": [
            "(200, 96)\n",
            "(200, 96)\n",
            "Legal Problem :  39\n",
            "Financial/Job Problem :  13\n",
            "Lack of Access to Health/Mental Health Care :  7\n",
            "School or Academic Related Problem :  5\n"
          ]
        }
      ],
      "source": [
        "import pandas as pd\n",
        "# below is the datatset annotated by Jay\n",
        "data = pd.read_csv('final_dataset_06102022 2.csv')\n",
        "\n",
        "pattern = r'^news[0-6]_'\n",
        "datacopy = data.copy()\n",
        "datacopy['Document name'] = data['Document name'].str.replace(pattern, '', regex=True)\n",
        "\n",
        "relevant = data[data['Yes']==1]\n",
        "data = data[data['Yes'] == 1]\n",
        "print(relevant.shape)\n",
        "print(data.shape)\n",
        "selected_rows = data[(data[FinancialLabel] > 0) | (data[Legallabel] > 0) | (data[HealthLabel] > 0) | (data[SchoolLabel] > 0)]\n",
        "financial_problem = data[data[FinancialLabel] > 0]\n",
        "school_problem = data[data[SchoolLabel] > 0]\n",
        "legal_problem = data[data[Legallabel] > 0]\n",
        "health_problem = data[data[HealthLabel] > 0]\n",
        "unspecified_circumstance = data[data['Unspecified Circumstance'] > 0]\n",
        "\n",
        "print(\"Legal Problem : \", legal_problem.shape[0])\n",
        "print(\"Financial/Job Problem : \", financial_problem.shape[0])\n",
        "print(\"Lack of Access to Health/Mental Health Care : \", health_problem.shape[0])\n",
        "print(\"School or Academic Related Problem : \", school_problem.shape[0])\n",
        "# print(\"\")"
      ]
    },
    {
      "cell_type": "code",
      "execution_count": null,
      "metadata": {},
      "outputs": [],
      "source": []
    },
    {
      "cell_type": "code",
      "execution_count": 97,
      "metadata": {},
      "outputs": [],
      "source": [
        "# maindf = pd.DataFrame(selected_rows, columns=['Document group', 'Document name', FinancialLabel, SchoolLabel, Legallabel, HealthLabel])\n",
        "# arrayoftexts = []\n",
        "# for documentname in maindf['Document name']:\n",
        "#     with open(\"articles/\"+ documentname + \".txt\") as f:\n",
        "#         text = f.readlines()\n",
        "#         arrayoftexts.append(text[0])\n",
        "# maindf['Text'] = arrayoftexts\n",
        "# maindf = maindf[['Text', FinancialLabel, Legallabel, HealthLabel, SchoolLabel]]"
      ]
    },
    {
      "cell_type": "code",
      "execution_count": 98,
      "metadata": {},
      "outputs": [],
      "source": [
        "# maindf = pd.read_csv('ben200_gpt4.csv')\n",
        "# arts = maindf['content'].to_list()\n",
        "# cat = []\n",
        "# f = [0] * len(arts)\n",
        "# h = [0] * len(arts)\n",
        "# l = [0] * len(arts)\n",
        "# s = [0] * len(arts)\n",
        "# #arts = financial_problem_df['Text'].to_list()\n",
        "# financialpred = [0] * len(arts) \n",
        "# reason = [\"\"] * len(arts)"
      ]
    },
    {
      "cell_type": "code",
      "execution_count": 99,
      "metadata": {},
      "outputs": [
        {
          "name": "stdout",
          "output_type": "stream",
          "text": [
            "0.28.0\n"
          ]
        }
      ],
      "source": [
        "import openai\n",
        "print(openai.__version__)"
      ]
    },
    {
      "cell_type": "code",
      "execution_count": 100,
      "metadata": {},
      "outputs": [],
      "source": [
        "# for i in tqdm(range(0, 50)):\n",
        "#     try:\n",
        "#         # generate response\n",
        "#         if (reason[i] != \"\"):\n",
        "#             continue\n",
        "#         print(i)\n",
        "#         prompt = combinedzeroshot + \"\\n\" + \"Article: \" + arts[i] + \"\\n\"\n",
        "#         response = openai.ChatCompletion.create(\n",
        "#             model=\"gpt-4\",\n",
        "#             engine=\"StructuralFactorsOfSuicidegpt4\", # engine with high TPM rate limit; no content filter\n",
        "#             messages=[\n",
        "#                 {\n",
        "#                     \"role\": \"user\",\n",
        "#                     \"content\": prompt,\n",
        "#                 },\n",
        "#             ],\n",
        "#             temperature=0.0\n",
        "#         )\n",
        "#         chatgpt_output = json.dumps(response['choices'][0]['message']['content'])\n",
        "#         print(chatgpt_output)\n",
        "#         if (\"1: No\" in chatgpt_output):\n",
        "#             reason[i] = \"NotSuicide\"\n",
        "#             continue\n",
        "#         if ('Legal Problem' in chatgpt_output):\n",
        "#             l[i] = 1\n",
        "#         if ('Financial/Job Problem' in chatgpt_output):\n",
        "#             f[i] = 1\n",
        "#         if ('School Problem' in chatgpt_output):\n",
        "#             s[i] = 1\n",
        "#         if ('Health Problem' in chatgpt_output):\n",
        "#             h[i] = 1\n",
        "#         reason[i] = chatgpt_output\n",
        "#     except Exception as e:\n",
        "#         print(i)\n",
        "#         print(str(e))\n",
        "        \n",
        "#     time.sleep(2)\n",
        "        \n",
        "# # maindf['Financial - Predicted'] = financialpred\n",
        "# # maindf['Financial - Reason'] = reason"
      ]
    },
    {
      "cell_type": "code",
      "execution_count": 101,
      "metadata": {},
      "outputs": [],
      "source": [
        "# maindf['Reasoning'] = reason\n",
        "# maindf[FinancialPredicted] = f\n",
        "# maindf[SchoolPredicted] = s\n",
        "# maindf[HealthPredicted] = h\n",
        "# maindf[LegalPredicted] = l"
      ]
    },
    {
      "cell_type": "code",
      "execution_count": 102,
      "metadata": {},
      "outputs": [],
      "source": [
        "# maindf[FinancialLabel] = maindf[FinancialLabel].apply(lambda x: 1 if x > 0 else x)\n",
        "# maindf[HealthLabel] = maindf[HealthLabel].apply(lambda x: 1 if x > 0 else x)\n",
        "# maindf[SchoolLabel] = maindf[SchoolLabel].apply(lambda x: 1 if x > 0 else x)\n",
        "# maindf[Legallabel] = maindf[Legallabel].apply(lambda x: 1 if x > 0 else x)\n",
        "\n",
        "# financialmatch = len(maindf[(maindf[FinancialPredicted] > 0) & (maindf[FinancialLabel] > 0)])\n",
        "# legalmatch = len(maindf[(maindf[LegalPredicted] > 0) & (maindf[Legallabel] > 0)])\n",
        "# schoolmatch = len(maindf[(maindf[SchoolPredicted] > 0) & (maindf[SchoolLabel] > 0)])\n",
        "# healthmatch = len(maindf[(maindf[HealthPredicted] > 0) & (maindf[HealthLabel] > 0)])\n",
        "\n",
        "# print(financialmatch)\n",
        "# print(legalmatch)\n",
        "# print(schoolmatch)\n",
        "# print(healthmatch)\n",
        "\n",
        "# financialmatch = len(maindf[(maindf[FinancialPredicted] > 0) & (maindf[FinancialLabel] == 0)])\n",
        "# legalmatch = len(maindf[(maindf[LegalPredicted] > 0) & (maindf[Legallabel] == 0)])\n",
        "# schoolmatch = len(maindf[(maindf[SchoolPredicted] > 0) & (maindf[SchoolLabel] == 0)])\n",
        "# healthmatch = len(maindf[(maindf[HealthPredicted] > 0) & (maindf[HealthLabel] == 0)])\n",
        "\n",
        "# print(financialmatch)\n",
        "# print(legalmatch)\n",
        "# print(schoolmatch)\n",
        "# print(healthmatch)"
      ]
    },
    {
      "cell_type": "code",
      "execution_count": 103,
      "metadata": {},
      "outputs": [],
      "source": [
        "# from sklearn.metrics import hamming_loss, accuracy_score, f1_score\n",
        "# y_true = maindf[[FinancialLabel, Legallabel, SchoolLabel, HealthLabel]].values\n",
        "# y_pred = maindf[[FinancialPredicted, LegalPredicted, SchoolPredicted, HealthPredicted]].values\n",
        "# print(y_true.shape)\n",
        "# print(y_pred.shape)\n",
        "# hl = hamming_loss(y_true, y_pred)\n",
        "# print(\"Hamming Loss:\", hl)\n",
        "\n",
        "# accuracy = accuracy_score(y_true, y_pred)\n",
        "# print(\"Subset accuracy: \", accuracy)\n",
        "\n",
        "# f1score = f1_score(y_true, y_pred, average='macro')\n",
        "# print(\"Macro averaged F1 score: \", f1score)\n",
        "\n",
        "# f1score = f1_score(y_true, y_pred, average='micro')\n",
        "# print(\"Micro averaged F1 score: \", f1score)\n",
        "\n",
        "# y_true = maindf[FinancialLabel].values\n",
        "# y_pred = maindf[FinancialPredicted].values\n",
        "# f1score = f1_score(y_true, y_pred)\n",
        "# print(\"Financial problem F1 score: \", f1score)\n",
        "\n",
        "# y_true = maindf[Legallabel].values\n",
        "# y_pred = maindf[LegalPredicted].values\n",
        "# f1score = f1_score(y_true, y_pred)\n",
        "# print(\"Legal problem F1 score: \", f1score)\n",
        "\n",
        "# y_true = maindf[SchoolLabel].values\n",
        "# y_pred = maindf[SchoolPredicted].values\n",
        "# f1score = f1_score(y_true, y_pred)\n",
        "# print(\"School problem F1 score: \", f1score)\n",
        "\n",
        "# y_true = maindf[HealthLabel].values\n",
        "# y_pred = maindf[HealthPredicted].values\n",
        "# f1score = f1_score(y_true, y_pred)\n",
        "# print(\"Health problem F1 score: \", f1score)"
      ]
    },
    {
      "cell_type": "code",
      "execution_count": 104,
      "metadata": {},
      "outputs": [],
      "source": [
        "# Dataset from ben Horne\n",
        "# bendata = pd.read_csv('Transfer/article_matches.csv')\n",
        "# bendata.head(3)\n",
        "# print(bendata.shape)\n",
        "\n",
        "# print(bendata[bendata['content'].isna()])\n",
        "\n",
        "# bendata = bendata[~bendata['content'].isna()]\n",
        "# suicide_Articles_from_ben_data = bendata['content'].tolist()\n",
        "\n",
        "# wordcount = 0.0\n",
        "# maxlen = 0\n",
        "# minlen = 100000\n",
        "# maxlens = []\n",
        "# for art in suicide_Articles_from_ben_data:\n",
        "#     wordcount += len(art.split())\n",
        "#     maxlens.append(len(art.split()))\n",
        "#     maxlen = max(maxlen, len(art.split()))\n",
        "#     minlen = min(minlen, len(art.split()))\n",
        "\n",
        "# print(\"Average word count: \", wordcount/len(suicide_Articles_from_ben_data))\n",
        "# print(\"Max word count: \", maxlen)\n",
        "# print(\"Min word count: \", minlen)\n",
        "\n",
        "# ids = bendata['id']\n",
        "# publisher = []\n",
        "# date = []\n",
        "# title = []\n",
        "\n",
        "# for i in ids.tolist():\n",
        "#     if (i == \"\"):\n",
        "#         print(\"gadbad1\")\n",
        "#     diffs = i.split(\"--\", maxsplit=2)\n",
        "#     if (len(diffs) != 3):\n",
        "#         print(\"gadbad2\")\n",
        "#         print(i)\n",
        "#     publisher.append(diffs[0])\n",
        "#     date.append(diffs[1])\n",
        "#     title.append(diffs[2])\n",
        "\n",
        "# bendata[\"Publisher\"] = publisher\n",
        "# bendata[\"Date Published\"] = date"
      ]
    },
    {
      "cell_type": "code",
      "execution_count": 105,
      "metadata": {},
      "outputs": [
        {
          "name": "stdout",
          "output_type": "stream",
          "text": [
            "(846, 96)\n"
          ]
        }
      ],
      "source": [
        "maindf = pd.read_csv('final_dataset_06102022 2.csv')\n",
        "print(maindf.shape)"
      ]
    },
    {
      "cell_type": "code",
      "execution_count": 106,
      "metadata": {},
      "outputs": [
        {
          "name": "stdout",
          "output_type": "stream",
          "text": [
            "Legal Problem :  39\n",
            "Financial/Job Problem :  13\n",
            "Lack of Access to Health/Mental Health Care :  7\n",
            "School or Academic Related Problem :  5\n"
          ]
        }
      ],
      "source": [
        "maindf = maindf[maindf['Yes'] == 1]\n",
        "financial_problem = maindf[maindf[FinancialLabel] > 0]\n",
        "school_problem = maindf[maindf[SchoolLabel] > 0]\n",
        "legal_problem = maindf[maindf[Legallabel] > 0]\n",
        "health_problem = maindf[maindf[HealthLabel] > 0]\n",
        "unspecified_circumstance = maindf[maindf['Unspecified Circumstance'] > 0]\n",
        "\n",
        "print(\"Legal Problem : \", legal_problem.shape[0])\n",
        "print(\"Financial/Job Problem : \", financial_problem.shape[0])\n",
        "print(\"Lack of Access to Health/Mental Health Care : \", health_problem.shape[0])\n",
        "print(\"School or Academic Related Problem : \", school_problem.shape[0])"
      ]
    },
    {
      "cell_type": "code",
      "execution_count": 107,
      "metadata": {},
      "outputs": [],
      "source": [
        "arrayoftexts = []\n",
        "wordcount = 0.0\n",
        "for documentname in maindf['Document name']:\n",
        "    with open(\"articles/\"+ documentname + \".txt\") as f:\n",
        "        text = f.readlines()\n",
        "        arrayoftexts.append(text[0])\n",
        "maindf['content'] = arrayoftexts"
      ]
    },
    {
      "cell_type": "code",
      "execution_count": 108,
      "metadata": {},
      "outputs": [
        {
          "data": {
            "text/plain": [
              "200"
            ]
          },
          "execution_count": 108,
          "metadata": {},
          "output_type": "execute_result"
        }
      ],
      "source": [
        "len(arrayoftexts)"
      ]
    },
    {
      "cell_type": "code",
      "execution_count": 109,
      "metadata": {},
      "outputs": [],
      "source": [
        "# from openai import OpenAI\n",
        "# openai = OpenAI(\n",
        "#     api_key=\"dUjtO4X6TkCXXHyTfeZcujA9VfXaJrrw\",\n",
        "#     base_url=\"https://api.deepinfra.com/v1/openai\",\n",
        "# )\n",
        "\n"
      ]
    },
    {
      "cell_type": "code",
      "execution_count": 110,
      "metadata": {},
      "outputs": [],
      "source": [
        "arts = maindf['content'].to_list()\n",
        "f = [0] * len(arts)\n",
        "h = [0] * len(arts)\n",
        "l = [0] * len(arts)\n",
        "s = [0] * len(arts)\n",
        "n = [0] * len(arts)\n",
        "reason = [\"\"] * len(arts)\n",
        "erroredout = [0] * len(arts)"
      ]
    },
    {
      "cell_type": "code",
      "execution_count": 88,
      "metadata": {},
      "outputs": [
        {
          "name": "stderr",
          "output_type": "stream",
          "text": [
            "  0%|          | 0/200 [00:00<?, ?it/s]"
          ]
        },
        {
          "name": "stderr",
          "output_type": "stream",
          "text": [
            "  0%|          | 1/200 [00:12<42:39, 12.86s/it]"
          ]
        },
        {
          "name": "stdout",
          "output_type": "stream",
          "text": [
            "\"Answer 1: Yes\\nAnswer 2: None\\nReasoning: The article talks about the suicide of Rashaan Salaam, a former football player. However, the reasons for his suicide are not clearly mentioned in the article. It is mentioned that he was dealing with mental health problems and was a recluse, but it is not clear whether these issues were due to financial/job problems, school problems, health problems, or legal problems. Therefore, the article does not fit into any of the given categories.\"\n"
          ]
        },
        {
          "name": "stderr",
          "output_type": "stream",
          "text": [
            "  1%|          | 2/200 [00:20<32:42,  9.91s/it]"
          ]
        },
        {
          "name": "stdout",
          "output_type": "stream",
          "text": [
            "\"Answer 1: No\\nAnswer 2: None\\nReasoning: The article does not mention any suicide or any person who killed themselves. It talks about the death of King Bhumibol Adulyadej of Thailand due to natural causes.\"\n"
          ]
        },
        {
          "name": "stderr",
          "output_type": "stream",
          "text": [
            "  2%|▏         | 3/200 [00:31<34:15, 10.44s/it]"
          ]
        },
        {
          "name": "stdout",
          "output_type": "stream",
          "text": [
            "\"Answer 1: Yes\\nAnswer 2: None\\nReasoning: The article mentions the suicide of a woman who was allegedly pregnant with Bill Clinton's child and the suicide of Vincent Foster, a Clinton white house aide and a personal friend. However, it does not provide any information on whether these suicides were influenced by financial/job problems, school problems, health problems or legal problems.\"\n"
          ]
        },
        {
          "name": "stderr",
          "output_type": "stream",
          "text": [
            "  2%|▏         | 4/200 [00:38<28:56,  8.86s/it]"
          ]
        },
        {
          "name": "stdout",
          "output_type": "stream",
          "text": [
            "\"Answer 1: Yes\\nAnswer 2: Health Problem\\nReasoning: The article talks about the suicide of a college athlete who killed himself due to the pain and erratic thoughts caused by multiple concussions he sustained during his sports career.\"\n"
          ]
        },
        {
          "name": "stderr",
          "output_type": "stream",
          "text": [
            "  2%|▎         | 5/200 [00:42<23:48,  7.32s/it]"
          ]
        },
        {
          "name": "stdout",
          "output_type": "stream",
          "text": [
            "\"Answer 1: No\\nAnswer 2: None\\nReasoning: The article does not mention any suicide or any person who killed themselves. It talks about the victims of mass shootings and the gun control measures.\"\n"
          ]
        },
        {
          "name": "stderr",
          "output_type": "stream",
          "text": [
            "  3%|▎         | 6/200 [00:52<26:35,  8.22s/it]"
          ]
        },
        {
          "name": "stdout",
          "output_type": "stream",
          "text": [
            "\"Answer 1: Yes\\nAnswer 2: None\\nReasoning: The article talks about the death of a model, Raudha Athif, who was found hanged in her dorm room. While the authorities have ruled it as a suicide, her family alleges that she was murdered for not adhering to Islamic clothing norms. However, there is no concrete evidence or confirmation in the article that supports the family's claim. Therefore, it cannot be conclusively categorized under any of the given categories.\"\n"
          ]
        },
        {
          "name": "stderr",
          "output_type": "stream",
          "text": [
            "  4%|▎         | 7/200 [00:56<22:11,  6.90s/it]"
          ]
        },
        {
          "name": "stdout",
          "output_type": "stream",
          "text": [
            "\"Answer 1: Yes\\nAnswer 2: Financial/Job Problem\\nReasoning: The article talks about the suicide of Kevin Carter, a photojournalist who was deeply affected by the horrors he witnessed and captured through his work.\"\n"
          ]
        },
        {
          "name": "stderr",
          "output_type": "stream",
          "text": [
            "  4%|▍         | 8/200 [01:00<18:51,  5.89s/it]"
          ]
        },
        {
          "name": "stdout",
          "output_type": "stream",
          "text": [
            "\"Answer 1: Yes\\nAnswer 2: Health Problem\\nReasoning: The article talks about the suicide of Judith Katherine Dunning who was suffering from a terminal illness and chose to end her life through physician aid in dying.\"\n"
          ]
        },
        {
          "name": "stderr",
          "output_type": "stream",
          "text": [
            "  4%|▍         | 9/200 [01:05<17:59,  5.65s/it]"
          ]
        },
        {
          "name": "stdout",
          "output_type": "stream",
          "text": [
            "\"Answer 1: Yes\\nAnswer 2: None\\nReasoning: The article talks about the suicide of Vince Foster, a friend of Bill and Hillary Clinton. However, it does not provide any information that his suicide was due to financial/job problems, school problems, health problems or legal problems. The article mainly discusses the controversy and conspiracy theories surrounding his death.\"\n"
          ]
        },
        {
          "name": "stderr",
          "output_type": "stream",
          "text": [
            "  5%|▌         | 10/200 [01:18<24:20,  7.68s/it]"
          ]
        },
        {
          "name": "stdout",
          "output_type": "stream",
          "text": [
            "\"Answer 1: No\\nAnswer 2: None\\nReasoning: The article does not mention any suicide or any person who killed themselves. It talks about the Black Lives Matter movement and its criticism.\"\n"
          ]
        },
        {
          "name": "stderr",
          "output_type": "stream",
          "text": [
            "  6%|▌         | 11/200 [01:30<28:24,  9.02s/it]"
          ]
        },
        {
          "name": "stdout",
          "output_type": "stream",
          "text": [
            "\"Answer 1: Yes\\nAnswer 2: None\\nReasoning: The article talks about the suicide of Sandra Bland, but it does not mention that her suicide was primarily due to financial or work related struggles, an incident at school or an academic problem, lack of access to mental or physical health care or treatment, or after facing a law related problem or being involved or suspected in a violation of the law by the authorities.\"\n"
          ]
        },
        {
          "name": "stderr",
          "output_type": "stream",
          "text": [
            "  6%|▌         | 12/200 [01:37<26:39,  8.51s/it]"
          ]
        },
        {
          "name": "stdout",
          "output_type": "stream",
          "text": [
            "\"Answer 1: Yes\\nAnswer 2: None\\nReasoning: The article talks about the life and work of Vincent Van Gogh, who committed suicide. However, the article does not mention any financial/job problems, school problems, health problems or legal problems that could have led to his suicide.\"\n"
          ]
        },
        {
          "name": "stderr",
          "output_type": "stream",
          "text": [
            "  6%|▋         | 13/200 [01:44<25:13,  8.09s/it]"
          ]
        },
        {
          "name": "stdout",
          "output_type": "stream",
          "text": [
            "\"Answer 1: Yes\\nAnswer 2: None\\nReasoning: The article talks about a man who committed suicide and broadcasted it on Facebook live. However, the article does not provide any specific reason related to financial/job problems, school problems, health problems or legal problems that led to his suicide.\"\n"
          ]
        },
        {
          "name": "stderr",
          "output_type": "stream",
          "text": [
            "  7%|▋         | 14/200 [01:54<27:11,  8.77s/it]"
          ]
        },
        {
          "name": "stdout",
          "output_type": "stream",
          "text": [
            "\"Answer 1: Yes\\nAnswer 2: None\\nReasoning: The article talks about the suicide of Nicole Mittendorff, a firefighter. However, the article does not provide any specific reason for her suicide that aligns with the given categories.\"\n"
          ]
        },
        {
          "name": "stderr",
          "output_type": "stream",
          "text": [
            "  8%|▊         | 15/200 [02:02<26:07,  8.47s/it]"
          ]
        },
        {
          "name": "stdout",
          "output_type": "stream",
          "text": [
            "\"Answer 1: Yes\\nAnswer 2: Legal Problem\\nReasoning: The article talks about the suicide of Sandra Bland who was arrested for a traffic violation and was found dead in her cell three days later. The article mentions that there was no indictment in connection with her death which led to protests and outrage.\"\n"
          ]
        },
        {
          "name": "stderr",
          "output_type": "stream",
          "text": [
            "  8%|▊         | 16/200 [02:09<24:29,  7.99s/it]"
          ]
        },
        {
          "name": "stdout",
          "output_type": "stream",
          "text": [
            "\"Answer 1: Yes\\nAnswer 2: Health Problem\\nReasoning: The article talks about the suicide of Donna Coates' husband who died due to colon cancer after waiting for a year for a scan due to delays at a veterans affairs facility. The article also talks about Amanda Souza's husband who took his own life after suffering from post traumatic stress disorder from multiple deployments.\"\n"
          ]
        },
        {
          "name": "stderr",
          "output_type": "stream",
          "text": [
            "  8%|▊         | 17/200 [02:23<29:31,  9.68s/it]"
          ]
        },
        {
          "name": "stdout",
          "output_type": "stream",
          "text": [
            "\"Answer 1: Yes\\nAnswer 2: School Problem, Legal Problem\\nReasoning: The article talks about the suicide of Tyler Clementi, a Rutgers University freshman who killed himself after being spied on by his roommate Dharun Ravi. The incident took place in the university dormitory, hence it falls under 'School Problem'. Also, the legal proceedings and conviction of Dharun Ravi on several counts including bias intimidation, invasion of privacy and tampering with evidence, which were later thrown out by an appeals court, make it fall under 'Legal Problem' as well.\"\n"
          ]
        },
        {
          "name": "stderr",
          "output_type": "stream",
          "text": [
            "  9%|▉         | 18/200 [02:35<32:06, 10.59s/it]"
          ]
        },
        {
          "name": "stdout",
          "output_type": "stream",
          "text": [
            "\"Answer 1: Yes\\nAnswer 2: Financial/Job Problem\\nReasoning: The article mentions that in the show 'Unreal', the characters Quinn and Rachel led a contestant to kill herself. The show is based on a dating show and the characters are the showrunner and executive producer of the show, indicating that the suicide was related to their profession.\"\n"
          ]
        },
        {
          "name": "stderr",
          "output_type": "stream",
          "text": [
            " 10%|▉         | 19/200 [02:44<30:13, 10.02s/it]"
          ]
        },
        {
          "name": "stdout",
          "output_type": "stream",
          "text": [
            "\"Answer 1: Yes\\nAnswer 2: Health Problem\\nReasoning: The article talks about Dave Mirra, a BMX icon who committed suicide. It is mentioned that he was suffering from chronic traumatic encephalopathy, a chronic brain disease tied to repeated brain trauma and associated with symptoms such as memory loss, depression and progressive dementia.\"\n"
          ]
        },
        {
          "name": "stderr",
          "output_type": "stream",
          "text": [
            " 10%|█         | 20/200 [02:49<25:19,  8.44s/it]"
          ]
        },
        {
          "name": "stdout",
          "output_type": "stream",
          "text": [
            "\"Answer 1: Yes\\nAnswer 2: None\\nReasoning: The article talks about a teenage girl who set herself on fire after being raped and threatened by her attackers. However, the reason for her suicide does not align with any of the given categories.\"\n"
          ]
        },
        {
          "name": "stderr",
          "output_type": "stream",
          "text": [
            " 10%|█         | 21/200 [02:58<25:44,  8.63s/it]"
          ]
        },
        {
          "name": "stdout",
          "output_type": "stream",
          "text": [
            "\"Answer 1: No\\nAnswer 2: None\\nReasoning: The article does not mention any person or multiple people who died after committing suicide or killed themselves. It talks about various photographs and their significance but does not mention suicide or any reasons leading to suicide.\"\n"
          ]
        },
        {
          "name": "stderr",
          "output_type": "stream",
          "text": [
            " 11%|█         | 22/200 [03:09<28:02,  9.45s/it]"
          ]
        },
        {
          "name": "stdout",
          "output_type": "stream",
          "text": [
            "\"Answer 1: Yes\\nAnswer 2: School Problem\\nReasoning: The article talks about two women who were sexually assaulted by a basketball player at Duke University. They did not come forward with their accusations due to fear of backlash from the university's fan base. This fear was also experienced by Lizzy Seeberg, a student at St. Mary's College, who committed suicide after accusing a Notre Dame football player of sexual assault.\"\n"
          ]
        },
        {
          "name": "stderr",
          "output_type": "stream",
          "text": [
            " 12%|█▏        | 23/200 [03:19<27:51,  9.44s/it]"
          ]
        },
        {
          "name": "stdout",
          "output_type": "stream",
          "text": [
            "\"Answer 1: Yes\\nAnswer 2: None\\nReasoning: The article talks about a rape allegation against Nate Parker and his roommate Jean Celestin. The woman who accused them later killed herself in 2012, but the article does not provide any information that her suicide was influenced by financial/job problems, school problems, health problems, or legal problems.\"\n"
          ]
        },
        {
          "name": "stderr",
          "output_type": "stream",
          "text": [
            " 12%|█▏        | 24/200 [03:24<23:53,  8.14s/it]"
          ]
        },
        {
          "name": "stdout",
          "output_type": "stream",
          "text": [
            "\"Answer 1: Yes\\nAnswer 2: Legal Problem\\nReasoning: The article talks about the death of Sandra Bland, Kindra Chapman and Anthony Ware who died in police custody. The circumstances of their deaths are suspicious and are being investigated by the authorities.\"\n"
          ]
        },
        {
          "name": "stderr",
          "output_type": "stream",
          "text": [
            " 12%|█▎        | 25/200 [03:32<23:28,  8.05s/it]"
          ]
        },
        {
          "name": "stdout",
          "output_type": "stream",
          "text": [
            "\"Answer 1: Yes\\nAnswer 2: None\\nReasoning: The article talks about the suicide of NFL star Junior Seau. However, it does not provide any information on whether his suicide was influenced by financial/job problems, school problems, health problems or legal problems.\"\n"
          ]
        },
        {
          "name": "stderr",
          "output_type": "stream",
          "text": [
            " 13%|█▎        | 26/200 [03:45<27:31,  9.49s/it]"
          ]
        },
        {
          "name": "stdout",
          "output_type": "stream",
          "text": [
            "\"Answer 1: Yes\\nAnswer 2: Financial/Job Problem\\nReasoning: The article talks about Susan Berman who was killed due to her financial struggles and her relationship with Robert Durst. She was in desperate financial shape and had to ask Durst for money.\"\n"
          ]
        },
        {
          "name": "stderr",
          "output_type": "stream",
          "text": [
            " 14%|█▎        | 27/200 [03:52<26:03,  9.04s/it]"
          ]
        },
        {
          "name": "stdout",
          "output_type": "stream",
          "text": [
            "\"Answer 1: Yes\\nAnswer 2: None\\nReasoning: The article talks about the death of George Michael and speculations about it being a suicide. However, it does not provide any concrete evidence or reason related to financial/job problems, school problems, health problems or legal problems that led to the suicide.\"\n"
          ]
        },
        {
          "name": "stderr",
          "output_type": "stream",
          "text": [
            " 14%|█▍        | 28/200 [04:06<30:05, 10.50s/it]"
          ]
        },
        {
          "name": "stdout",
          "output_type": "stream",
          "text": [
            "\"Answer 1: Yes\\nAnswer 2: None\\nReasoning: The article talks about the suicide of a police official, Michael Ameri. However, it does not mention any financial/job problems, school problems, health problems or legal problems that could have led to his suicide.\"\n"
          ]
        },
        {
          "name": "stderr",
          "output_type": "stream",
          "text": [
            " 14%|█▍        | 29/200 [04:10<24:13,  8.50s/it]"
          ]
        },
        {
          "name": "stdout",
          "output_type": "stream",
          "text": [
            "\"Answer 1: Yes\\nAnswer 2: Legal Problem\\nReasoning: The article mentions the suicide of Mathieu, the son of Gaetan Zampa, who was involved in a drug trafficking case.\"\n"
          ]
        },
        {
          "name": "stderr",
          "output_type": "stream",
          "text": [
            " 15%|█▌        | 30/200 [04:17<22:30,  7.94s/it]"
          ]
        },
        {
          "name": "stdout",
          "output_type": "stream",
          "text": [
            "\"Answer 1: Yes\\nAnswer 2: None\\nReasoning: The article talks about the suicide of an author who killed herself after writing a novel about her alleged rapist. However, the reason for her suicide does not align with any of the given categories.\"\n"
          ]
        },
        {
          "name": "stderr",
          "output_type": "stream",
          "text": [
            " 16%|█▌        | 31/200 [04:24<21:43,  7.71s/it]"
          ]
        },
        {
          "name": "stdout",
          "output_type": "stream",
          "text": [
            "\"Answer 1: Yes\\nAnswer 2: Legal Problem\\nReasoning: The article talks about a police officer who killed himself after being accused of having sex with an underage prostitute.\"\n"
          ]
        },
        {
          "name": "stderr",
          "output_type": "stream",
          "text": [
            " 16%|█▌        | 32/200 [04:38<26:48,  9.57s/it]"
          ]
        },
        {
          "name": "stdout",
          "output_type": "stream",
          "text": [
            "\"Answer 1: Yes\\nAnswer 2: None\\nReasoning: The article talks about a former girl soldier in Colombia who was forced to become a child soldier and is now struggling to adjust to civilian life. However, there is no mention of her committing suicide or any financial, job, school, or legal problems leading to suicide.\"\n"
          ]
        },
        {
          "name": "stderr",
          "output_type": "stream",
          "text": [
            " 16%|█▋        | 33/200 [04:51<29:52, 10.73s/it]"
          ]
        },
        {
          "name": "stdout",
          "output_type": "stream",
          "text": [
            "\"Answer 1: Yes\\nAnswer 2: School Problem, Legal Problem\\nReasoning: The article talks about the suicide of a student named Thomas Klocke at the University of Texas at Arlington. He was accused of harassment by a gay student and was punished by the university without proper procedures being followed. The article suggests that the stress and fear of the situation led to his suicide. This falls under 'School Problem' as the incident happened at his university and 'Legal Problem' as he was accused of harassment and was facing punishment without proper legal procedures being followed.\"\n"
          ]
        },
        {
          "name": "stderr",
          "output_type": "stream",
          "text": [
            " 17%|█▋        | 34/200 [04:56<24:37,  8.90s/it]"
          ]
        },
        {
          "name": "stdout",
          "output_type": "stream",
          "text": [
            "\"Answer 1: Yes\\nAnswer 2: Health Problem\\nReasoning: The article talks about the suicide of Kosta Karageorge, an athlete who killed himself due to the pain and mental instability he was experiencing as a result of multiple concussions he had sustained during his sports career.\"\n"
          ]
        },
        {
          "name": "stderr",
          "output_type": "stream",
          "text": [
            " 18%|█▊        | 35/200 [05:08<26:39,  9.70s/it]"
          ]
        },
        {
          "name": "stdout",
          "output_type": "stream",
          "text": [
            "\"Answer 1: Yes\\nAnswer 2: Health Problem\\nReasoning: The article talks about the suicide of Accel Simeone who was suffering from schizophrenia and was unable to get his medication due to the economic collapse in Venezuela. This led to a deterioration of his mental health and ultimately his suicide.\"\n"
          ]
        },
        {
          "name": "stderr",
          "output_type": "stream",
          "text": [
            " 18%|█▊        | 36/200 [05:16<25:16,  9.25s/it]"
          ]
        },
        {
          "name": "stdout",
          "output_type": "stream",
          "text": [
            "\"Answer 1: Yes\\nAnswer 2: Legal Problem\\nReasoning: The article talks about the suicide of Frederick Jay Bowdy, who killed himself after being arrested on suspicion of sexual assault.\"\n"
          ]
        },
        {
          "name": "stderr",
          "output_type": "stream",
          "text": [
            " 18%|█▊        | 37/200 [05:28<27:50, 10.25s/it]"
          ]
        },
        {
          "name": "stdout",
          "output_type": "stream",
          "text": [
            "\"Answer 1: Yes\\nAnswer 2: None\\nReasoning: The article talks about the suicide of Dr. Robert Ashton. However, it does not provide any specific reason related to financial/job problems, school problems, health problems or legal problems that led to his suicide. His ex-wife mentions depression, but it is not clear whether this was due to lack of access to mental health care or treatment. Therefore, the article does not fit into any of the specific categories provided.\"\n"
          ]
        },
        {
          "name": "stderr",
          "output_type": "stream",
          "text": [
            " 19%|█▉        | 38/200 [05:37<26:15,  9.72s/it]"
          ]
        },
        {
          "name": "stdout",
          "output_type": "stream",
          "text": [
            "\"Answer 1: No\\nAnswer 2: None\\nReasoning: The article does not mention any person or multiple people who died after committing suicide or killed themselves. The article talks about a law that allows physicians to prescribe lethal medication to terminally ill patients who have less than six months to live. This does not fall into any of the categories mentioned.\"\n"
          ]
        },
        {
          "name": "stderr",
          "output_type": "stream",
          "text": [
            " 20%|█▉        | 39/200 [05:49<28:14, 10.53s/it]"
          ]
        },
        {
          "name": "stdout",
          "output_type": "stream",
          "text": [
            "\"Answer 1: Yes\\nAnswer 2: None\\nReasoning: The article talks about a couple who attempted suicide by driving off a mountain. However, the article does not provide any information on whether this act was influenced by financial/job problems, school problems, health problems or legal problems.\"\n"
          ]
        },
        {
          "name": "stderr",
          "output_type": "stream",
          "text": [
            " 20%|██        | 40/200 [05:56<24:54,  9.34s/it]"
          ]
        },
        {
          "name": "stdout",
          "output_type": "stream",
          "text": [
            "\"Answer 1: Yes\\nAnswer 2: None\\nReasoning: The article talks about the gun violence and its impact on a family across three generations. However, it does not mention any suicide due to financial/job problems, school problems, health problems or legal problems.\"\n"
          ]
        },
        {
          "name": "stderr",
          "output_type": "stream",
          "text": [
            " 20%|██        | 41/200 [06:03<22:50,  8.62s/it]"
          ]
        },
        {
          "name": "stdout",
          "output_type": "stream",
          "text": [
            "\"Answer 1: Yes\\nAnswer 2: Financial/Job Problem\\nReasoning: The article talks about Gerard Benderoth, a former police officer who committed suicide when he was about to be arrested in connection to a quadruple homicide. The article also mentions that he was deeply in debt.\"\n"
          ]
        },
        {
          "name": "stderr",
          "output_type": "stream",
          "text": [
            " 21%|██        | 42/200 [06:10<21:23,  8.12s/it]"
          ]
        },
        {
          "name": "stdout",
          "output_type": "stream",
          "text": [
            "\"Answer 1: Yes\\nAnswer 2: School Problem\\nReasoning: The article talks about a teen girl who committed suicide after being bullied and harassed online. The bullying and harassment can be considered as a school problem as it is common among school-aged children and teenagers.\"\n"
          ]
        },
        {
          "name": "stderr",
          "output_type": "stream",
          "text": [
            " 22%|██▏       | 43/200 [06:18<21:28,  8.21s/it]"
          ]
        },
        {
          "name": "stdout",
          "output_type": "stream",
          "text": [
            "\"Answer 1: Yes\\nAnswer 2: None\\nReasoning: The article talks about a man who committed suicide by jumping from a hotel. However, the article does not provide any information on the reason behind the suicide, hence it cannot be categorized into any of the given categories.\"\n"
          ]
        },
        {
          "name": "stderr",
          "output_type": "stream",
          "text": [
            " 22%|██▏       | 44/200 [06:25<20:21,  7.83s/it]"
          ]
        },
        {
          "name": "stdout",
          "output_type": "stream",
          "text": [
            "\"Answer 1: Yes\\nAnswer 2: None\\nReasoning: The article talks about Mike Francesa's brother who committed suicide. However, the article does not provide any information on the reason behind the suicide. Hence, it cannot be categorized into any of the given categories.\"\n"
          ]
        },
        {
          "name": "stderr",
          "output_type": "stream",
          "text": [
            " 22%|██▎       | 45/200 [06:35<22:05,  8.55s/it]"
          ]
        },
        {
          "name": "stdout",
          "output_type": "stream",
          "text": [
            "\"Answer 1: Yes\\nAnswer 2: Health Problem\\nReasoning: The article talks about the suicide of retired marine master sgt. Russell Murzyn and navy lt. cmdr. Jason Much. Russell Murzyn committed suicide due to severe mental health issues while Jason Much died of brain cancer.\"\n"
          ]
        },
        {
          "name": "stderr",
          "output_type": "stream",
          "text": [
            " 23%|██▎       | 46/200 [06:42<20:47,  8.10s/it]"
          ]
        },
        {
          "name": "stdout",
          "output_type": "stream",
          "text": [
            "\"Answer 1: Yes\\nAnswer 2: Financial/Job Problem\\nReasoning: The article talks about a man who jumped to his death from a high-rise building. He was believed to be an employee at a law office and was described as looking \\\"stressed as hell\\\". This suggests that his suicide may have been influenced by problems related to his job.\"\n"
          ]
        },
        {
          "name": "stderr",
          "output_type": "stream",
          "text": [
            " 24%|██▎       | 47/200 [06:52<21:31,  8.44s/it]"
          ]
        },
        {
          "name": "stdout",
          "output_type": "stream",
          "text": [
            "\"Answer 1: Yes\\nAnswer 2: None\\nReasoning: The article talks about the suicide of Aaron Hernandez, a former football player. However, it does not mention any financial/job problems, school problems, health problems or legal problems that led to his suicide.\"\n"
          ]
        },
        {
          "name": "stderr",
          "output_type": "stream",
          "text": [
            " 24%|██▍       | 48/200 [07:02<22:46,  8.99s/it]"
          ]
        },
        {
          "name": "stdout",
          "output_type": "stream",
          "text": [
            "\"Answer 1: Yes\\nAnswer 2: School Problem, Legal Problem\\nReasoning: The article talks about a student named Thomas Klocke at the University of Texas at Arlington who committed suicide after being accused of making homophobic comments to a classmate. The university found him guilty of harassment despite lack of evidence and without giving him a hearing. This falls under 'School Problem' as the incident happened at his university and 'Legal Problem' as he was accused and found guilty without proper legal procedures.\"\n"
          ]
        },
        {
          "name": "stderr",
          "output_type": "stream",
          "text": [
            " 24%|██▍       | 49/200 [07:09<21:19,  8.47s/it]"
          ]
        },
        {
          "name": "stdout",
          "output_type": "stream",
          "text": [
            "\"Answer 1: Yes\\nAnswer 2: Financial/Job Problem\\nReasoning: The article talks about a Muslim marine who was subjected to hazing and harassment at his workplace due to his religion. The article also mentions the suicide of Raheel Siddiqui, who reportedly killed himself after being subjected to racial slurs and physical abuse from his drill instructors.\"\n"
          ]
        },
        {
          "name": "stderr",
          "output_type": "stream",
          "text": [
            " 25%|██▌       | 50/200 [07:19<22:29,  9.00s/it]"
          ]
        },
        {
          "name": "stdout",
          "output_type": "stream",
          "text": [
            "\"Answer 1: Yes\\nAnswer 2: None\\nReasoning: The article talks about an elderly woman who committed suicide by jumping off a building. However, the article does not provide any information on the reason behind her suicide. Therefore, it cannot be categorized under any of the given categories.\"\n"
          ]
        },
        {
          "name": "stderr",
          "output_type": "stream",
          "text": [
            " 26%|██▌       | 51/200 [07:25<19:36,  7.90s/it]"
          ]
        },
        {
          "name": "stdout",
          "output_type": "stream",
          "text": [
            "\"Answer 1: Yes\\nAnswer 2: School Problem\\nReasoning: The article talks about an 8-year-old boy who killed himself after being bullied at school.\"\n"
          ]
        },
        {
          "name": "stderr",
          "output_type": "stream",
          "text": [
            " 26%|██▌       | 52/200 [07:31<17:57,  7.28s/it]"
          ]
        },
        {
          "name": "stdout",
          "output_type": "stream",
          "text": [
            "\"Answer 1: Yes\\nAnswer 2: Legal Problem\\nReasoning: The article mentions the suicide of a woman who had accused Nate Parker and Jean Celestin of sexual assault. The case had resurfaced recently, overshadowing the release of Parker's film 'The Birth of a Nation'.\"\n"
          ]
        },
        {
          "name": "stderr",
          "output_type": "stream",
          "text": [
            " 26%|██▋       | 53/200 [07:37<17:26,  7.12s/it]"
          ]
        },
        {
          "name": "stdout",
          "output_type": "stream",
          "text": [
            "\"Answer 1: Yes\\nAnswer 2: Financial/Job Problem\\nReasoning: The article talks about the suicide of Dennis Reeves, a high school principal who killed himself after being confronted about his affair with his secretary and facing harassment allegations.\"\n"
          ]
        },
        {
          "name": "stderr",
          "output_type": "stream",
          "text": [
            " 27%|██▋       | 54/200 [07:44<17:21,  7.14s/it]"
          ]
        },
        {
          "name": "stdout",
          "output_type": "stream",
          "text": [
            "\"Answer 1: Yes\\nAnswer 2: None\\nReasoning: The article talks about a man who committed suicide by jumping off his apartment building. However, the article does not provide any information on the reason behind his suicide. Therefore, it cannot be categorized under any of the given categories.\"\n"
          ]
        },
        {
          "name": "stderr",
          "output_type": "stream",
          "text": [
            " 28%|██▊       | 55/200 [08:02<24:54, 10.31s/it]"
          ]
        },
        {
          "name": "stdout",
          "output_type": "stream",
          "text": [
            "\"Answer 1: Yes\\nAnswer 2: Legal Problem\\nReasoning: The article talks about the suicide of Cathriona White, the former girlfriend of actor Jim Carrey. Carrey is being sued for wrongful death by White's estranged husband, who claims that Carrey used his status to illegally obtain and distribute the prescription drugs that led to White's death.\"\n"
          ]
        },
        {
          "name": "stderr",
          "output_type": "stream",
          "text": [
            " 28%|██▊       | 56/200 [08:09<22:17,  9.29s/it]"
          ]
        },
        {
          "name": "stdout",
          "output_type": "stream",
          "text": [
            "\"Answer 1: Yes\\nAnswer 2: None\\nReasoning: The article talks about a man who committed suicide by touching the electrified rail on subway track. However, the article does not provide any information that his suicide was due to financial/job problems, school problems, health problems or legal problems.\"\n"
          ]
        },
        {
          "name": "stderr",
          "output_type": "stream",
          "text": [
            " 28%|██▊       | 57/200 [08:15<19:51,  8.33s/it]"
          ]
        },
        {
          "name": "stdout",
          "output_type": "stream",
          "text": [
            "\"Answer 1: Yes\\nAnswer 2: None\\nReasoning: The article does not mention any suicide case or any reason that led to suicide. It talks about various female performances in the film industry.\"\n"
          ]
        },
        {
          "name": "stderr",
          "output_type": "stream",
          "text": [
            " 29%|██▉       | 58/200 [08:24<19:54,  8.41s/it]"
          ]
        },
        {
          "name": "stdout",
          "output_type": "stream",
          "text": [
            "\"Answer 1: Yes\\nAnswer 2: None\\nReasoning: The article talks about a man who jumped to his death from a theater building. However, the article does not provide any information or reason that could categorize this incident into any of the four categories: Financial/Job Problem, School Problem, Health Problem, or Legal Problem.\"\n"
          ]
        },
        {
          "name": "stderr",
          "output_type": "stream",
          "text": [
            " 30%|██▉       | 59/200 [08:32<19:49,  8.44s/it]"
          ]
        },
        {
          "name": "stdout",
          "output_type": "stream",
          "text": [
            "\"Answer 1: Yes\\nAnswer 2: None\\nReasoning: The article talks about the death of three astronauts in a fire accident. There is no mention of suicide or any of the categories mentioned above.\"\n"
          ]
        },
        {
          "name": "stderr",
          "output_type": "stream",
          "text": [
            " 30%|███       | 60/200 [08:43<21:30,  9.22s/it]"
          ]
        },
        {
          "name": "stdout",
          "output_type": "stream",
          "text": [
            "\"Answer 1: Yes\\nAnswer 2: None\\nReasoning: The article talks about the death of Prince, who died due to drug overdose. However, it does not mention that he committed suicide or killed himself. The cause of his death is not aligned with any of the categories mentioned.\"\n"
          ]
        },
        {
          "name": "stderr",
          "output_type": "stream",
          "text": [
            " 30%|███       | 61/200 [08:52<20:52,  9.01s/it]"
          ]
        },
        {
          "name": "stdout",
          "output_type": "stream",
          "text": [
            "\"Answer 1: Yes\\nAnswer 2: Financial/Job Problem\\nReasoning: The article talks about the suicide of inspector Michael Ameri who shot himself after being questioned by FBI investigators in a corruption probe.\"\n"
          ]
        },
        {
          "name": "stderr",
          "output_type": "stream",
          "text": [
            " 31%|███       | 62/200 [09:02<21:30,  9.35s/it]"
          ]
        },
        {
          "name": "stdout",
          "output_type": "stream",
          "text": [
            "\"Answer 1: Yes\\nAnswer 2: None\\nReasoning: The article does mention a suicide but does not provide any information on the reason behind the suicide. Hence, it cannot be categorized into any of the given categories.\"\n"
          ]
        },
        {
          "name": "stderr",
          "output_type": "stream",
          "text": [
            " 32%|███▏      | 63/200 [09:09<19:42,  8.63s/it]"
          ]
        },
        {
          "name": "stdout",
          "output_type": "stream",
          "text": [
            "\"Answer 1: No\\nAnswer 2: None\\nReasoning: The article does not mention any person or multiple people who died after committing suicide or killed themselves. It talks about the history of Hellenistic art and its influence on modern art.\"\n"
          ]
        },
        {
          "name": "stderr",
          "output_type": "stream",
          "text": [
            " 32%|███▏      | 64/200 [09:18<19:41,  8.68s/it]"
          ]
        },
        {
          "name": "stdout",
          "output_type": "stream",
          "text": [
            "\"Answer 1: Yes\\nAnswer 2: None\\nReasoning: The article talks about a man who committed suicide by jumping in front of a train. However, the article does not provide any information on the reason behind his suicide, hence it cannot be categorized into any of the given categories.\"\n"
          ]
        },
        {
          "name": "stderr",
          "output_type": "stream",
          "text": [
            " 32%|███▎      | 65/200 [09:23<17:32,  7.80s/it]"
          ]
        },
        {
          "name": "stdout",
          "output_type": "stream",
          "text": [
            "\"Answer 1: Yes\\nAnswer 2: None\\nReasoning: The article talks about the court proceedings of Oscar Pistorius, who was convicted for the murder of his girlfriend Reeva Steenkamp. However, there is no mention of suicide or any reasons that could have led to suicide.\"\n"
          ]
        },
        {
          "name": "stderr",
          "output_type": "stream",
          "text": [
            " 33%|███▎      | 66/200 [09:35<20:09,  9.02s/it]"
          ]
        },
        {
          "name": "stdout",
          "output_type": "stream",
          "text": [
            "\"Answer 1: Yes\\nAnswer 2: Financial/Job Problem\\nReasoning: The article talks about the suicide of Jeffrey Slonim, a red carpet reporter who jumped off a building. The article mentions that he was grappling with the changes in the media business and was trying to reinvent himself as print was dying. He was also dealing with a health issue and was on medication. The financial and job related struggles seem to be a major factor in his suicide.\"\n"
          ]
        },
        {
          "name": "stderr",
          "output_type": "stream",
          "text": [
            " 34%|███▎      | 67/200 [09:39<16:31,  7.45s/it]"
          ]
        },
        {
          "name": "stdout",
          "output_type": "stream",
          "text": [
            "\"Answer 1: Yes\\nAnswer 2: None\\nReasoning: The article talks about the suicide of the daughter of director Zack Snyder. However, it does not mention any financial, job, school, health or legal problems leading to the suicide.\"\n"
          ]
        },
        {
          "name": "stderr",
          "output_type": "stream",
          "text": [
            " 34%|███▍      | 68/200 [09:44<14:27,  6.57s/it]"
          ]
        },
        {
          "name": "stdout",
          "output_type": "stream",
          "text": [
            "\"Answer 1: Yes\\nAnswer 2: None\\nReasoning: The article talks about the suicide of a young girl but does not provide any information about the reason behind her suicide.\"\n"
          ]
        },
        {
          "name": "stderr",
          "output_type": "stream",
          "text": [
            " 34%|███▍      | 69/200 [09:50<13:55,  6.38s/it]"
          ]
        },
        {
          "name": "stdout",
          "output_type": "stream",
          "text": [
            "\"Answer 1: Yes\\nAnswer 2: Health Problem\\nReasoning: The article talks about young men who are addicted to the internet and video games and have to go to rehab to get over their addiction. The article mentions that some of these men have contemplated suicide or have attempted to kill themselves due to their addiction.\"\n"
          ]
        },
        {
          "name": "stderr",
          "output_type": "stream",
          "text": [
            " 35%|███▌      | 70/200 [10:05<19:59,  9.23s/it]"
          ]
        },
        {
          "name": "stdout",
          "output_type": "stream",
          "text": [
            "\"Answer 1: No\\nAnswer 2: None\\nReasoning: The article does not mention any suicide or any person who killed themselves. It talks about the comparison of Donald Trump with the tyrants of ancient Rome.\"\n"
          ]
        },
        {
          "name": "stderr",
          "output_type": "stream",
          "text": [
            " 36%|███▌      | 71/200 [10:26<26:49, 12.48s/it]"
          ]
        },
        {
          "name": "stdout",
          "output_type": "stream",
          "text": [
            "\"Answer 1: Yes\\nAnswer 2: None\\nReasoning: The article does mention suicide, but it does not provide any specific reasons or circumstances that led to the suicide that can be categorized into the given categories. The article mainly discusses the economic and social conditions of a community in Kentucky.\"\n"
          ]
        },
        {
          "name": "stderr",
          "output_type": "stream",
          "text": [
            " 36%|███▌      | 72/200 [10:34<23:45, 11.13s/it]"
          ]
        },
        {
          "name": "stdout",
          "output_type": "stream",
          "text": [
            "\"Answer 1: Yes\\nAnswer 2: Health Problem\\nReasoning: The article talks about the suicide of Surendran, who was suffering from terminal lung cancer and was in severe pain.\"\n"
          ]
        },
        {
          "name": "stderr",
          "output_type": "stream",
          "text": [
            " 36%|███▋      | 73/200 [10:38<19:05,  9.02s/it]"
          ]
        },
        {
          "name": "stdout",
          "output_type": "stream",
          "text": [
            "\"Answer 1: Yes\\nAnswer 2: None\\nReasoning: The article talks about a movie that deals with the subject of suicide. However, it does not mention a real-life incident or person who committed suicide.\"\n"
          ]
        },
        {
          "name": "stderr",
          "output_type": "stream",
          "text": [
            " 37%|███▋      | 74/200 [10:44<17:27,  8.32s/it]"
          ]
        },
        {
          "name": "stdout",
          "output_type": "stream",
          "text": [
            "\"Answer 1: No\\nAnswer 2: None\\nReasoning: The article does not mention any person or multiple people who died after committing suicide or killed themselves. It talks about books written by refugees in America.\"\n"
          ]
        },
        {
          "name": "stderr",
          "output_type": "stream",
          "text": [
            " 38%|███▊      | 75/200 [10:55<18:38,  8.95s/it]"
          ]
        },
        {
          "name": "stdout",
          "output_type": "stream",
          "text": [
            "\"Answer 1: Yes\\nAnswer 2: Health Problem\\nReasoning: The article talks about the suicide of Dr. Jeff Bradstreet, who was under investigation by the FDA for selling fraudulent autism therapies. After the investigation, he took his own life.\"\n"
          ]
        },
        {
          "name": "stderr",
          "output_type": "stream",
          "text": [
            " 38%|███▊      | 76/200 [11:04<18:43,  9.06s/it]"
          ]
        },
        {
          "name": "stdout",
          "output_type": "stream",
          "text": [
            "\"Answer 1: Yes\\nAnswer 2: Financial/Job Problem\\nReasoning: The article talks about a police officer who committed suicide after embezzling from a youth program. The fear of discovery of his financial wrongdoings led him to take his own life.\"\n"
          ]
        },
        {
          "name": "stderr",
          "output_type": "stream",
          "text": [
            " 38%|███▊      | 77/200 [11:09<16:02,  7.82s/it]"
          ]
        },
        {
          "name": "stdout",
          "output_type": "stream",
          "text": [
            "\"Answer 1: Yes\\nAnswer 2: Legal Problem\\nReasoning: The article talks about a police officer who killed himself after leaving a note that launched an investigation into a sexual misconduct scandal involving a teenager.\"\n"
          ]
        },
        {
          "name": "stderr",
          "output_type": "stream",
          "text": [
            " 39%|███▉      | 78/200 [11:17<16:13,  7.98s/it]"
          ]
        },
        {
          "name": "stdout",
          "output_type": "stream",
          "text": [
            "\"Answer 1: Yes\\nAnswer 2: None\\nReasoning: The article talks about the suicide of Marshawn McCarrel, a black lives matter activist. However, it does not mention any financial/job problems, school problems, health problems or legal problems that might have led to his suicide. The focus of the article is more on the inappropriate comment made by a police officer about his suicide.\"\n"
          ]
        },
        {
          "name": "stderr",
          "output_type": "stream",
          "text": [
            " 40%|███▉      | 79/200 [11:28<17:43,  8.79s/it]"
          ]
        },
        {
          "name": "stdout",
          "output_type": "stream",
          "text": [
            "\"Answer 1: Yes\\nAnswer 2: Legal Problem\\nReasoning: The article talks about the suicide of David Hamilton, a British photographer, who was facing allegations of rape by four of his former models.\"\n"
          ]
        },
        {
          "name": "stderr",
          "output_type": "stream",
          "text": [
            " 40%|████      | 80/200 [11:35<16:43,  8.36s/it]"
          ]
        },
        {
          "name": "stdout",
          "output_type": "stream",
          "text": [
            "\"Answer 1: Yes\\nAnswer 2: None\\nReasoning: The article talks about the murder of a police officer and another person by an army staff sergeant. However, there is no mention of suicide or any of the categories mentioned above. The only mention of suicide is in the context of the officer's father who had committed suicide years ago.\"\n"
          ]
        },
        {
          "name": "stderr",
          "output_type": "stream",
          "text": [
            " 40%|████      | 81/200 [11:43<16:26,  8.29s/it]"
          ]
        },
        {
          "name": "stdout",
          "output_type": "stream",
          "text": [
            "\"Answer 1: Yes\\nAnswer 2: Financial/Job Problem\\nReasoning: The article talks about Andrew Caspersen who committed suicide after being charged with fraud and losing millions in stock trading. His fraudulent activities were primarily related to his job and profession.\"\n"
          ]
        },
        {
          "name": "stderr",
          "output_type": "stream",
          "text": [
            " 41%|████      | 82/200 [11:52<16:32,  8.41s/it]"
          ]
        },
        {
          "name": "stdout",
          "output_type": "stream",
          "text": [
            "\"Answer 1: Yes\\nAnswer 2: Legal Problem\\nReasoning: The article talks about Hillary Clinton's email scandal and mentions the suicide of Vince Foster, who was a partner with Clinton at the Rose Law firm and followed the Clintons into the White House where he served as their personal lawyer. The article suggests that the scandal and subsequent investigations could have played a role in his decision to take his own life.\"\n"
          ]
        },
        {
          "name": "stderr",
          "output_type": "stream",
          "text": [
            " 42%|████▏     | 83/200 [11:57<14:12,  7.29s/it]"
          ]
        },
        {
          "name": "stdout",
          "output_type": "stream",
          "text": [
            "\"Answer 1: Yes\\nAnswer 2: Health Problem\\nReasoning: The article talks about the suicide of a prisoner who was mentally ill and was not provided with adequate mental health care in the prison.\"\n"
          ]
        },
        {
          "name": "stderr",
          "output_type": "stream",
          "text": [
            " 42%|████▏     | 84/200 [12:03<13:33,  7.02s/it]"
          ]
        },
        {
          "name": "stdout",
          "output_type": "stream",
          "text": [
            "\"Answer 1: Yes\\nAnswer 2: Health Problem\\nReasoning: The article talks about the suicide of Stephen Coning, a former marine, who took his own life. The article mentions that he was recommended to go through PTSD testing but he did not, indicating that he might have been suffering from mental health issues.\"\n"
          ]
        },
        {
          "name": "stderr",
          "output_type": "stream",
          "text": [
            " 42%|████▎     | 85/200 [12:17<17:26,  9.10s/it]"
          ]
        },
        {
          "name": "stdout",
          "output_type": "stream",
          "text": [
            "\"Answer 1: Yes\\nAnswer 2: None\\nReasoning: The article talks about a house fire that killed all its inhabitants. However, it does not mention that the fire was a result of suicide or that the victims intentionally caused the fire. The article does not provide any information that the fire was a result of financial/job problems, school problems, health problems, or legal problems.\"\n"
          ]
        },
        {
          "name": "stderr",
          "output_type": "stream",
          "text": [
            " 43%|████▎     | 86/200 [12:33<21:08, 11.12s/it]"
          ]
        },
        {
          "name": "stdout",
          "output_type": "stream",
          "text": [
            "\"Answer 1: Yes\\nAnswer 2: None\\nReasoning: The article talks about a series of suicide attempts by aboriginal teenagers in Canada. However, the reasons for these suicides are not clearly mentioned in the article. The article does mention that the reasons for the attempted suicides are varied, but local leaders point to an underlying despondency and pessimism among their people as well as an increasing number of prescription drug overdoses. Living in isolated communities with chronic unemployment and crowded housing, some young aboriginals lack clean water but have easy internet access, giving them a glimpse of affluence in the rest of Canada. However, these reasons do not align with any of the categories mentioned in the task.\"\n"
          ]
        },
        {
          "name": "stderr",
          "output_type": "stream",
          "text": [
            " 44%|████▎     | 87/200 [12:43<20:02, 10.64s/it]"
          ]
        },
        {
          "name": "stdout",
          "output_type": "stream",
          "text": [
            "\"Answer 1: Yes\\nAnswer 2: None\\nReasoning: The article talks about the suicide of Vincent Van Gogh, but it does not mention any financial/job problems, school problems, health problems or legal problems that led to his suicide. The article mainly discusses the debate on his mental state and the reasons behind his act of cutting off his ear.\"\n"
          ]
        },
        {
          "name": "stderr",
          "output_type": "stream",
          "text": [
            " 44%|████▍     | 88/200 [12:45<15:23,  8.24s/it]"
          ]
        },
        {
          "name": "stdout",
          "output_type": "stream",
          "text": [
            "\"Answer 1: No\\nAnswer 2: None\\nReasoning: The article does not mention any suicide case.\"\n"
          ]
        },
        {
          "name": "stderr",
          "output_type": "stream",
          "text": [
            " 44%|████▍     | 89/200 [12:57<17:25,  9.42s/it]"
          ]
        },
        {
          "name": "stdout",
          "output_type": "stream",
          "text": [
            "\"Answer 1: Yes\\nAnswer 2: None\\nReasoning: The article talks about the suicide of a woman who accused Nate Parker and Jean Celestin of rape. However, it does not mention that the suicide was due to financial/job problems, school problems, health problems or legal problems. The article suggests that the suicide might have been due to the trauma of the rape and the subsequent trial, but it does not provide enough information to categorize it under any of the given categories.\"\n"
          ]
        },
        {
          "name": "stderr",
          "output_type": "stream",
          "text": [
            " 45%|████▌     | 90/200 [13:07<17:14,  9.40s/it]"
          ]
        },
        {
          "name": "stdout",
          "output_type": "stream",
          "text": [
            "\"Answer 1: Yes\\nAnswer 2: Health Problem\\nReasoning: The article talks about the suicide of Kevin, who was suffering from schizophrenia and was denied treatment due to his denial of the disease. His brother Dean also suffered from the same disease and had a psychotic break.\"\n"
          ]
        },
        {
          "name": "stderr",
          "output_type": "stream",
          "text": [
            " 46%|████▌     | 91/200 [13:14<16:06,  8.87s/it]"
          ]
        },
        {
          "name": "stdout",
          "output_type": "stream",
          "text": [
            "\"Answer 1: Yes\\nAnswer 2: None\\nReasoning: The article talks about the suicide of Aaron Hernandez, a former NFL player. However, it does not mention any financial/job problems, school problems, health problems or legal problems that led to his suicide.\"\n"
          ]
        },
        {
          "name": "stderr",
          "output_type": "stream",
          "text": [
            " 46%|████▌     | 92/200 [13:20<14:18,  7.95s/it]"
          ]
        },
        {
          "name": "stdout",
          "output_type": "stream",
          "text": [
            "\"Answer 1: Yes\\nAnswer 2: None\\nReasoning: The article talks about the suicide of a gay American poet in 1932 but does not provide any details about the reasons behind his suicide. Hence, it cannot be categorized into any of the given categories.\"\n"
          ]
        },
        {
          "name": "stderr",
          "output_type": "stream",
          "text": [
            " 46%|████▋     | 93/200 [13:28<14:21,  8.05s/it]"
          ]
        },
        {
          "name": "stdout",
          "output_type": "stream",
          "text": [
            "\"Answer 1: Yes\\nAnswer 2: Financial/Job Problem\\nReasoning: The article talks about the suicide of Aubrey McClendon, the owner of Chesapeake Energy Corporation, who crashed his car into a wall hours after prosecutors announced intentions to indict him on charges of conspiracy to suppress land prices. It is speculated that he took his own life after federal investigations revealed his financial situation to be eroding.\"\n"
          ]
        },
        {
          "name": "stderr",
          "output_type": "stream",
          "text": [
            " 47%|████▋     | 94/200 [13:36<13:48,  7.82s/it]"
          ]
        },
        {
          "name": "stdout",
          "output_type": "stream",
          "text": [
            "\"Answer 1: Yes\\nAnswer 2: None\\nReasoning: The article talks about the suicide of Jack, the son of Oskar Eustis, the artistic director of the public theater. However, the article does not mention any financial/job problems, school problems, health problems or legal problems that led to Jack's suicide.\"\n"
          ]
        },
        {
          "name": "stderr",
          "output_type": "stream",
          "text": [
            " 48%|████▊     | 95/200 [13:52<18:13, 10.41s/it]"
          ]
        },
        {
          "name": "stdout",
          "output_type": "stream",
          "text": [
            "\"Answer 1: Yes\\nAnswer 2: Health Problem\\nReasoning: The article talks about the suicide of Brandon Matthews, a former army ranger who was exposed to so many blasts that he cannot count them all. The worst was a suicide bombing that sent him flying down a corridor and left him in a coma. He was hospitalized for months, and his military career was over. But his struggles with brain injury were only starting. \\u201cI have moments when I forget everything: who I am, where I am, what I\\u2019m doing,\\u201d he told me. \\u201cIt happens almost every day,\\u201d sometimes while he is driving. Decisions, once easy, have become impossible. He turns the kitchen burner on and then walks out, returning to discover a fire raging.\"\n"
          ]
        },
        {
          "name": "stderr",
          "output_type": "stream",
          "text": [
            " 48%|████▊     | 96/200 [14:02<17:48, 10.27s/it]"
          ]
        },
        {
          "name": "stdout",
          "output_type": "stream",
          "text": [
            "\"Answer 1: Yes\\nAnswer 2: None\\nReasoning: The article talks about the suicide of Brother Stephen Baker who was accused of child molestation. However, the article does not mention that these accusations or the legal proceedings against him were the reason for his suicide.\"\n"
          ]
        },
        {
          "name": "stderr",
          "output_type": "stream",
          "text": [
            " 48%|████▊     | 97/200 [14:10<16:18,  9.50s/it]"
          ]
        },
        {
          "name": "stdout",
          "output_type": "stream",
          "text": [
            "\"Answer 1: Yes\\nAnswer 2: Legal Problem\\nReasoning: The article talks about Alexandra Elbakyan, who is facing legal issues due to her online database of stolen scholarly journal articles. The article also mentions Aaron Swartz, who killed himself after being charged with computer fraud for allegedly stealing thousands of academic papers.\"\n"
          ]
        },
        {
          "name": "stderr",
          "output_type": "stream",
          "text": [
            " 49%|████▉     | 98/200 [14:18<15:44,  9.26s/it]"
          ]
        },
        {
          "name": "stdout",
          "output_type": "stream",
          "text": [
            "\"Answer 1: Yes\\nAnswer 2: None\\nReasoning: The article talks about Ronda Rousey's admission of suicidal ideation after her loss to Holly Holm. However, it does not mention that she committed suicide. The article does not provide any information that would categorize it under 'Financial/Job Problem', 'School Problem', 'Health Problem', or 'Legal Problem'.\"\n"
          ]
        },
        {
          "name": "stderr",
          "output_type": "stream",
          "text": [
            " 50%|████▉     | 99/200 [14:24<13:51,  8.23s/it]"
          ]
        },
        {
          "name": "stdout",
          "output_type": "stream",
          "text": [
            "\"Answer 1: Yes\\nAnswer 2: School Problem\\nReasoning: The article talks about a student who committed suicide after being under extreme stress and pressure. The school counselor was aware of the student's suicidal thoughts but did not inform the parents.\"\n"
          ]
        },
        {
          "name": "stderr",
          "output_type": "stream",
          "text": [
            " 50%|█████     | 100/200 [14:31<13:11,  7.91s/it]"
          ]
        },
        {
          "name": "stdout",
          "output_type": "stream",
          "text": [
            "\"Answer 1: Yes\\nAnswer 2: Health Problem\\nReasoning: The article talks about Peter A. Kaisen, a navy veteran who committed suicide after reportedly being turned away for emergency mental health care at the Northport Veterans Affairs Medical Center.\"\n"
          ]
        },
        {
          "name": "stderr",
          "output_type": "stream",
          "text": [
            " 50%|█████     | 101/200 [14:37<11:52,  7.20s/it]"
          ]
        },
        {
          "name": "stdout",
          "output_type": "stream",
          "text": [
            "\"Answer 1: Yes\\nAnswer 2: Health Problem\\nReasoning: The article talks about the suicide of Vincent W. Foster Jr. who was suffering from severe depression and was unable to sleep, work or think straight.\"\n"
          ]
        },
        {
          "name": "stderr",
          "output_type": "stream",
          "text": [
            " 51%|█████     | 102/200 [14:52<15:27,  9.46s/it]"
          ]
        },
        {
          "name": "stdout",
          "output_type": "stream",
          "text": [
            "\"Answer 1: Yes\\nAnswer 2: None\\nReasoning: The article talks about the suicide of a person who served in Iraq and Afghanistan. However, it does not mention that the suicide was primarily due to financial or work related struggles, an incident at school or an academic problem, lack of access to mental or physical health care or treatment, or a law related problem. The article suggests that the suicide might be related to the trauma of war and the difficulty of adjusting to life after serving in a war zone, but these issues do not fit into any of the provided categories.\"\n"
          ]
        },
        {
          "name": "stderr",
          "output_type": "stream",
          "text": [
            " 52%|█████▏    | 103/200 [15:01<15:10,  9.39s/it]"
          ]
        },
        {
          "name": "stdout",
          "output_type": "stream",
          "text": [
            "\"Answer 1: Yes\\nAnswer 2: None\\nReasoning: The article talks about the suicide of Conrad Roy III. However, it does not mention any financial/job problems, school problems, health problems or legal problems that led to his suicide. The article mentions that Conrad was a troubled youth and had tried to kill himself in the past, but it does not link these issues to any of the categories mentioned.\"\n"
          ]
        },
        {
          "name": "stderr",
          "output_type": "stream",
          "text": [
            " 52%|█████▏    | 104/200 [15:07<13:19,  8.32s/it]"
          ]
        },
        {
          "name": "stdout",
          "output_type": "stream",
          "text": [
            "\"Answer 1: Yes\\nAnswer 2: School Problem\\nReasoning: The article talks about the suicide of Hannah Baker, a high school student who killed herself due to bullying and harassment at her school.\"\n"
          ]
        },
        {
          "name": "stderr",
          "output_type": "stream",
          "text": [
            " 52%|█████▎    | 105/200 [15:13<12:11,  7.70s/it]"
          ]
        },
        {
          "name": "stdout",
          "output_type": "stream",
          "text": [
            "\"Answer 1: Yes\\nAnswer 2: None\\nReasoning: The article talks about the death of Edward Crawford, who was involved in the Ferguson protests. However, the article does not provide a clear reason for his suicide, thus it cannot be categorized into any of the given categories.\"\n"
          ]
        },
        {
          "name": "stderr",
          "output_type": "stream",
          "text": [
            " 53%|█████▎    | 106/200 [15:18<10:42,  6.83s/it]"
          ]
        },
        {
          "name": "stdout",
          "output_type": "stream",
          "text": [
            "\"Answer 1: Yes\\nAnswer 2: Legal Problem\\nReasoning: The article talks about the suicide of Ezra Winter, who killed himself after he fell from a high work scaffold and lost his ability to paint precisely.\"\n"
          ]
        },
        {
          "name": "stderr",
          "output_type": "stream",
          "text": [
            " 54%|█████▎    | 107/200 [15:24<10:04,  6.50s/it]"
          ]
        },
        {
          "name": "stdout",
          "output_type": "stream",
          "text": [
            "\"Answer 1: Yes\\nAnswer 2: None\\nReasoning: The article talks about the suicide of Chris Cornell, a singer. However, it does not mention any financial/job problems, school problems, health problems or legal problems that might have led to his suicide.\"\n"
          ]
        },
        {
          "name": "stderr",
          "output_type": "stream",
          "text": [
            " 54%|█████▍    | 108/200 [15:29<09:37,  6.27s/it]"
          ]
        },
        {
          "name": "stdout",
          "output_type": "stream",
          "text": [
            "\"Answer 1: Yes\\nAnswer 2: School Problem\\nReasoning: The article talks about the suicide of Tyler Clementi, a student at Rutgers University, who killed himself after his roommate filmed him kissing another man and shared it with others.\"\n"
          ]
        },
        {
          "name": "stderr",
          "output_type": "stream",
          "text": [
            " 55%|█████▍    | 109/200 [15:38<10:31,  6.94s/it]"
          ]
        },
        {
          "name": "stdout",
          "output_type": "stream",
          "text": [
            "\"Answer 1: Yes\\nAnswer 2: None\\nReasoning: The article talks about a teenager who killed himself. However, the article does not provide any information on the reasons behind his suicide. Therefore, it cannot be categorized under any of the given categories.\"\n"
          ]
        },
        {
          "name": "stderr",
          "output_type": "stream",
          "text": [
            " 55%|█████▌    | 110/200 [15:44<10:16,  6.85s/it]"
          ]
        },
        {
          "name": "stdout",
          "output_type": "stream",
          "text": [
            "\"Answer 1: Yes\\nAnswer 2: Legal Problem\\nReasoning: The article talks about the suicide of Nate Parker, who killed himself after facing rape allegations and the subsequent legal proceedings.\"\n"
          ]
        },
        {
          "name": "stderr",
          "output_type": "stream",
          "text": [
            " 56%|█████▌    | 111/200 [15:48<08:34,  5.78s/it]"
          ]
        },
        {
          "name": "stdout",
          "output_type": "stream",
          "text": [
            "\"Answer 1: Yes\\nAnswer 2: Financial/Job Problem\\nReasoning: The article talks about Nicole Mittendorff, a firefighter who committed suicide after being harassed and bullied by her co-workers online.\"\n"
          ]
        },
        {
          "name": "stderr",
          "output_type": "stream",
          "text": [
            " 56%|█████▌    | 112/200 [16:06<13:54,  9.49s/it]"
          ]
        },
        {
          "name": "stdout",
          "output_type": "stream",
          "text": [
            "\"Answer 1: Yes\\nAnswer 2: School Problem\\nReasoning: The article talks about the suicide of Marquise Braham, a student at Penn State Altoona, who jumped from the roof of a building after being brutally hazed during his fall semester as a pledge at the Phi Sigma Kappa fraternity. The article also mentions the suicide of Timothy Piazza, a pledge at Beta Theta Pi fraternity at Penn State, who was allegedly forced to drink so much alcohol that his blood alcohol level was estimated to be about four times the legal limit in Pennsylvania. The grand jury report says Piazza was intoxicated when he fell down a flight of stairs, and that he proceeded to fall multiple times, repeatedly hitting his head, after fraternity brothers tried to revive him. The grand jury also found, as fellow brothers stepped over him, others googled remedies for his \\u201dcold hands\\u201d and \\u201dcold feet.\\u201d but no one called police for 12 hours.\"\n"
          ]
        },
        {
          "name": "stderr",
          "output_type": "stream",
          "text": [
            " 56%|█████▋    | 113/200 [16:16<13:48,  9.53s/it]"
          ]
        },
        {
          "name": "stdout",
          "output_type": "stream",
          "text": [
            "\"Answer 1: Yes\\nAnswer 2: None\\nReasoning: The article talks about the suicide of former NFL star Aaron Hernandez. However, the article does not mention any financial/job problems, school problems, health problems or legal problems that could have led to his suicide.\"\n"
          ]
        },
        {
          "name": "stderr",
          "output_type": "stream",
          "text": [
            " 57%|█████▋    | 114/200 [16:21<11:42,  8.17s/it]"
          ]
        },
        {
          "name": "stdout",
          "output_type": "stream",
          "text": [
            "\"Answer 1: Yes\\nAnswer 2: Legal Problem\\nReasoning: The article talks about the trial of Michelle Carter who is being charged with involuntary manslaughter for encouraging her boyfriend, Conrad Roy III, to commit suicide.\"\n"
          ]
        },
        {
          "name": "stderr",
          "output_type": "stream",
          "text": [
            " 57%|█████▊    | 115/200 [16:30<12:04,  8.52s/it]"
          ]
        },
        {
          "name": "stdout",
          "output_type": "stream",
          "text": [
            "\"Answer 1: Yes\\nAnswer 2: Health Problem\\nReasoning: The article talks about Michelle Carter who was on trial for urging her boyfriend to kill himself. The defense argues that she was delusional due to the effects of her antidepressant medication.\"\n"
          ]
        },
        {
          "name": "stderr",
          "output_type": "stream",
          "text": [
            " 58%|█████▊    | 116/200 [16:37<11:21,  8.11s/it]"
          ]
        },
        {
          "name": "stdout",
          "output_type": "stream",
          "text": [
            "\"Answer 1: Yes\\nAnswer 2: Health Problem\\nReasoning: The article talks about Joseph Chernach, who suffered from brain damage due to playing football and eventually killed himself.\"\n"
          ]
        },
        {
          "name": "stderr",
          "output_type": "stream",
          "text": [
            " 58%|█████▊    | 117/200 [16:45<11:20,  8.20s/it]"
          ]
        },
        {
          "name": "stdout",
          "output_type": "stream",
          "text": [
            "\"Answer 1: Yes\\nAnswer 2: None\\nReasoning: The article does not mention any specific case of suicide or the reasons behind it. It discusses the general trend of people moving away from football due to the violence and injuries associated with the sport.\"\n"
          ]
        },
        {
          "name": "stderr",
          "output_type": "stream",
          "text": [
            " 59%|█████▉    | 118/200 [16:58<12:47,  9.36s/it]"
          ]
        },
        {
          "name": "stdout",
          "output_type": "stream",
          "text": [
            "\"Answer 1: Yes\\nAnswer 2: None\\nReasoning: The article talks about a teenage migrant who committed suicide by jumping off a building. However, the article does not provide any specific reason related to financial/job problems, school problems, health problems or legal problems that led to the suicide. The article mentions that the boy was being treated for depression, but it does not specify that lack of access to mental health care or treatment was a primary reason for his suicide. Therefore, the article does not fit into any of the first four categories.\"\n"
          ]
        },
        {
          "name": "stderr",
          "output_type": "stream",
          "text": [
            " 60%|█████▉    | 119/200 [17:01<10:10,  7.54s/it]"
          ]
        },
        {
          "name": "stdout",
          "output_type": "stream",
          "text": [
            "\"Answer 1: Yes\\nAnswer 2: Health Problem\\nReasoning: The article talks about the suicide of 20 veterans per day due to lack of mental health care and treatment.\"\n"
          ]
        },
        {
          "name": "stderr",
          "output_type": "stream",
          "text": [
            " 60%|██████    | 120/200 [17:08<10:03,  7.55s/it]"
          ]
        },
        {
          "name": "stdout",
          "output_type": "stream",
          "text": [
            "\"Answer 1: No\\nAnswer 2: None\\nReasoning: The article does not mention any suicide or any person who killed themselves.\"\n"
          ]
        },
        {
          "name": "stderr",
          "output_type": "stream",
          "text": [
            " 60%|██████    | 121/200 [17:22<12:30,  9.49s/it]"
          ]
        },
        {
          "name": "stdout",
          "output_type": "stream",
          "text": [
            "\"Answer 1: Yes\\nAnswer 2: Legal Problem\\nReasoning: The article talks about Michelle Carter who is being tried for her role in the suicide of her boyfriend Conrad Roy III. She is accused of pressuring him to commit suicide and is facing a charge of involuntary manslaughter.\"\n"
          ]
        },
        {
          "name": "stderr",
          "output_type": "stream",
          "text": [
            " 61%|██████    | 122/200 [17:29<11:16,  8.67s/it]"
          ]
        },
        {
          "name": "stdout",
          "output_type": "stream",
          "text": [
            "\"Answer 1: Yes\\nAnswer 2: Legal Problem\\nReasoning: The article talks about the suicide of Conrad Roy III who killed himself after being urged by his girlfriend, Michelle Carter, to do so. The case is being tried in court and could set a legal precedent.\"\n"
          ]
        },
        {
          "name": "stderr",
          "output_type": "stream",
          "text": [
            " 62%|██████▏   | 123/200 [17:38<11:08,  8.68s/it]"
          ]
        },
        {
          "name": "stdout",
          "output_type": "stream",
          "text": [
            "\"Answer 1: Yes\\nAnswer 2: Financial/Job Problem\\nReasoning: The article talks about a trans man who took his own life due to mistreatment at his workplace.\"\n"
          ]
        },
        {
          "name": "stderr",
          "output_type": "stream",
          "text": [
            " 62%|██████▏   | 124/200 [17:47<11:00,  8.69s/it]"
          ]
        },
        {
          "name": "stdout",
          "output_type": "stream",
          "text": [
            "\"Answer 1: Yes\\nAnswer 2: None\\nReasoning: The article talks about the suicide of Aaron Hernandez, a former football star. However, the article does not mention any financial/job problems, school problems, health problems or legal problems that could have led to his suicide.\"\n"
          ]
        },
        {
          "name": "stderr",
          "output_type": "stream",
          "text": [
            " 62%|██████▎   | 125/200 [17:54<10:33,  8.44s/it]"
          ]
        },
        {
          "name": "stdout",
          "output_type": "stream",
          "text": [
            "\"Answer 1: Yes\\nAnswer 2: Health Problem\\nReasoning: The article talks about multiple women who committed suicide due to depression and other mental health issues. It also mentions the use of psychiatric medications and their ineffectiveness in treating the mental health issues of these women.\"\n"
          ]
        },
        {
          "name": "stderr",
          "output_type": "stream",
          "text": [
            " 63%|██████▎   | 126/200 [17:59<09:03,  7.34s/it]"
          ]
        },
        {
          "name": "stdout",
          "output_type": "stream",
          "text": [
            "\"Answer 1: Yes\\nAnswer 2: None\\nReasoning: The article talks about the controversy surrounding Nate Parker due to his past accusations of rape. However, there is no mention of suicide or any of the categories mentioned.\"\n"
          ]
        },
        {
          "name": "stderr",
          "output_type": "stream",
          "text": [
            " 64%|██████▎   | 127/200 [18:08<09:36,  7.90s/it]"
          ]
        },
        {
          "name": "stdout",
          "output_type": "stream",
          "text": [
            "\"Answer 1: Yes\\nAnswer 2: Legal Problem\\nReasoning: The article talks about the suicide of Aaron Swartz, who killed himself after being charged with computer fraud and abuse and facing a hefty penalty of millions and a jail sentence spanning decades.\"\n"
          ]
        },
        {
          "name": "stderr",
          "output_type": "stream",
          "text": [
            " 64%|██████▍   | 128/200 [18:19<10:22,  8.65s/it]"
          ]
        },
        {
          "name": "stdout",
          "output_type": "stream",
          "text": [
            "\"Answer 1: Yes\\nAnswer 2: None\\nReasoning: The article does not mention any specific incident of suicide or the reasons that led to it. It discusses the general trend of people losing interest in football due to various reasons such as violence, brain injuries, and other controversies associated with the sport.\"\n"
          ]
        },
        {
          "name": "stderr",
          "output_type": "stream",
          "text": [
            " 64%|██████▍   | 129/200 [18:26<09:42,  8.21s/it]"
          ]
        },
        {
          "name": "stdout",
          "output_type": "stream",
          "text": [
            "\"Answer 1: Yes\\nAnswer 2: Legal Problem\\nReasoning: The article talks about the suicide of Tyrel Martin Marhanka who killed himself in a courtroom after being sentenced to a four year prison term for drug possession charges.\"\n"
          ]
        },
        {
          "name": "stderr",
          "output_type": "stream",
          "text": [
            " 65%|██████▌   | 130/200 [18:32<08:49,  7.56s/it]"
          ]
        },
        {
          "name": "stdout",
          "output_type": "stream",
          "text": [
            "\"Answer 1: Yes\\nAnswer 2: None\\nReasoning: The article talks about a boy who committed suicide after a prank text message led him to believe that his girlfriend had killed herself. However, the article does not mention any financial/job problems, school problems, health problems or legal problems that led to the suicide.\"\n"
          ]
        },
        {
          "name": "stderr",
          "output_type": "stream",
          "text": [
            " 66%|██████▌   | 131/200 [18:42<09:38,  8.38s/it]"
          ]
        },
        {
          "name": "stdout",
          "output_type": "stream",
          "text": [
            "\"Answer 1: Yes\\nAnswer 2: Health Problem\\nReasoning: The article talks about the increasing death rates among white women in midlife in rural and small-town communities in America. The article mentions the suicide of Lois Maxwell, who had a history of drug use and chronic health issues. The article also talks about the death of Betty West due to lung cancer. Both these women died due to health issues and lack of proper healthcare.\"\n"
          ]
        },
        {
          "name": "stderr",
          "output_type": "stream",
          "text": [
            " 66%|██████▌   | 132/200 [18:49<08:53,  7.84s/it]"
          ]
        },
        {
          "name": "stdout",
          "output_type": "stream",
          "text": [
            "\"Answer 1: Yes\\nAnswer 2: Health Problem\\nReasoning: The article talks about a 14-year-old girl, Jerika Bolen, who decided to end her life due to the constant pain and suffering caused by her terminal illness, type 2 spinal muscular atrophy. This falls under the 'Health Problem' category as her decision to commit suicide was primarily influenced by her health condition.\"\n"
          ]
        },
        {
          "name": "stderr",
          "output_type": "stream",
          "text": [
            " 66%|██████▋   | 133/200 [19:02<10:25,  9.33s/it]"
          ]
        },
        {
          "name": "stdout",
          "output_type": "stream",
          "text": [
            "\"Answer 1: Yes\\nAnswer 2: None\\nReasoning: The article talks about the suicide of Vaishno Das Bagai, an Indian immigrant who killed himself due to the humiliation he faced due to the immigration laws of the time. However, his suicide was not primarily due to financial or work related struggles, an incident at school or an academic problem, lack of access to mental or physical health care or treatment, or after facing a law related problem or being involved or suspected in a violation of the law by the authorities.\"\n"
          ]
        },
        {
          "name": "stderr",
          "output_type": "stream",
          "text": [
            " 67%|██████▋   | 134/200 [19:07<09:04,  8.25s/it]"
          ]
        },
        {
          "name": "stdout",
          "output_type": "stream",
          "text": [
            "\"Answer 1: No\\nAnswer 2: None\\nReasoning: The article does not mention any suicide or self-inflicted death. It talks about a plane crash and the survival story of one of the passengers.\"\n"
          ]
        },
        {
          "name": "stderr",
          "output_type": "stream",
          "text": [
            " 68%|██████▊   | 135/200 [19:11<07:29,  6.91s/it]"
          ]
        },
        {
          "name": "stdout",
          "output_type": "stream",
          "text": [
            "\"Answer 1: Yes\\nAnswer 2: School Problem\\nReasoning: The article talks about an 8-year-old boy who committed suicide after being bullied at his school.\"\n"
          ]
        },
        {
          "name": "stderr",
          "output_type": "stream",
          "text": [
            " 68%|██████▊   | 136/200 [19:20<07:52,  7.39s/it]"
          ]
        },
        {
          "name": "stdout",
          "output_type": "stream",
          "text": [
            "\"Answer 1: Yes\\nAnswer 2: None\\nReasoning: The article talks about a suicide of a gay friend of the band 'Third Eye Blind' which inspired their song 'Jumper'. However, the article does not provide enough information to categorize the reason for the suicide into any of the given categories.\"\n"
          ]
        },
        {
          "name": "stderr",
          "output_type": "stream",
          "text": [
            " 68%|██████▊   | 137/200 [19:27<07:50,  7.48s/it]"
          ]
        },
        {
          "name": "stdout",
          "output_type": "stream",
          "text": [
            "\"Answer 1: Yes\\nAnswer 2: Financial/Job Problem\\nReasoning: The article talks about the phenomenon of 'karoshi' in Japan, where people work themselves to death due to the country's grueling work culture. This is a clear case of suicide due to financial/job problems.\"\n"
          ]
        },
        {
          "name": "stderr",
          "output_type": "stream",
          "text": [
            " 69%|██████▉   | 138/200 [19:33<07:13,  6.98s/it]"
          ]
        },
        {
          "name": "stdout",
          "output_type": "stream",
          "text": [
            "\"Answer 1: Yes\\nAnswer 2: School Problem\\nReasoning: The article talks about a 9-year-old boy who committed suicide due to being bullied at school.\"\n"
          ]
        },
        {
          "name": "stderr",
          "output_type": "stream",
          "text": [
            " 70%|██████▉   | 139/200 [19:41<07:20,  7.23s/it]"
          ]
        },
        {
          "name": "stdout",
          "output_type": "stream",
          "text": [
            "\"Answer 1: Yes\\nAnswer 2: Health Problem\\nReasoning: The article talks about the suicide of Chris Cornell, who killed himself after taking an extra dose of his anxiety medication. His family believes that the medication may have affected his actions leading to his suicide.\"\n"
          ]
        },
        {
          "name": "stderr",
          "output_type": "stream",
          "text": [
            " 70%|███████   | 140/200 [19:48<07:12,  7.21s/it]"
          ]
        },
        {
          "name": "stdout",
          "output_type": "stream",
          "text": [
            "\"Answer 1: Yes\\nAnswer 2: Health Problem\\nReasoning: The article talks about the work of Final Exit Network, a group that helps people end their own lives. The people they help are usually suffering from terminal illnesses, dementia, or physical handicaps and have expressed a desire to die due to their pain and suffering.\"\n"
          ]
        },
        {
          "name": "stderr",
          "output_type": "stream",
          "text": [
            " 70%|███████   | 141/200 [19:58<07:51,  7.99s/it]"
          ]
        },
        {
          "name": "stdout",
          "output_type": "stream",
          "text": [
            "\"Answer 1: Yes\\nAnswer 2: None\\nReasoning: The article talks about the history and facts about the Golden Gate Bridge. It mentions that a person committed suicide by jumping off the bridge but does not provide any information about the reasons behind the suicide.\"\n"
          ]
        },
        {
          "name": "stderr",
          "output_type": "stream",
          "text": [
            " 71%|███████   | 142/200 [20:04<07:02,  7.29s/it]"
          ]
        },
        {
          "name": "stdout",
          "output_type": "stream",
          "text": [
            "\"Answer 1: Yes\\nAnswer 2: Legal Problem\\nReasoning: The article talks about the trial of Michelle Carter who is being charged with involuntary manslaughter after her boyfriend committed suicide. She had sent him numerous text messages encouraging him to kill himself.\"\n"
          ]
        },
        {
          "name": "stderr",
          "output_type": "stream",
          "text": [
            " 72%|███████▏  | 143/200 [20:11<06:55,  7.28s/it]"
          ]
        },
        {
          "name": "stdout",
          "output_type": "stream",
          "text": [
            "\"Answer 1: Yes\\nAnswer 2: None\\nReasoning: The article talks about the life of Gloria Vanderbilt and her relationship with her son Anderson Cooper. It does mention the suicide of Anderson's brother Carter but it does not provide any information on the reasons behind his suicide.\"\n"
          ]
        },
        {
          "name": "stderr",
          "output_type": "stream",
          "text": [
            " 72%|███████▏  | 144/200 [20:24<08:23,  9.00s/it]"
          ]
        },
        {
          "name": "stdout",
          "output_type": "stream",
          "text": [
            "\"Answer 1: Yes\\nAnswer 2: None\\nReasoning: The article does mention suicide of veterans and people who served in combat zones but does not provide any specific reason for their suicides. Hence, it cannot be categorized into any of the given categories.\"\n"
          ]
        },
        {
          "name": "stderr",
          "output_type": "stream",
          "text": [
            " 72%|███████▎  | 145/200 [20:32<08:04,  8.82s/it]"
          ]
        },
        {
          "name": "stdout",
          "output_type": "stream",
          "text": [
            "\"Answer 1: Yes\\nAnswer 2: None\\nReasoning: The article talks about the suicide of Vince Foster, who was a deputy white house counsel. However, the article does not provide any information on the reasons behind his suicide.\"\n"
          ]
        },
        {
          "name": "stderr",
          "output_type": "stream",
          "text": [
            " 73%|███████▎  | 146/200 [20:45<08:52,  9.86s/it]"
          ]
        },
        {
          "name": "stdout",
          "output_type": "stream",
          "text": [
            "\"Answer 1: Yes\\nAnswer 2: None\\nReasoning: The article talks about the suicide of Harry Reid's father due to depression. However, it does not mention whether this suicide was due to financial/job problems, school problems, health problems or legal problems.\"\n"
          ]
        },
        {
          "name": "stderr",
          "output_type": "stream",
          "text": [
            " 74%|███████▎  | 147/200 [20:53<08:16,  9.36s/it]"
          ]
        },
        {
          "name": "stdout",
          "output_type": "stream",
          "text": [
            "\"Answer 1: No\\nAnswer 2: None\\nReasoning: The article does not mention any suicide or any reasons that could lead to suicide. It talks about Hillary Clinton's political career and the Clinton Foundation.\"\n"
          ]
        },
        {
          "name": "stderr",
          "output_type": "stream",
          "text": [
            " 74%|███████▍  | 148/200 [21:03<08:17,  9.57s/it]"
          ]
        },
        {
          "name": "stdout",
          "output_type": "stream",
          "text": [
            "\"Answer 1: No\\nAnswer 2: None\\nReasoning: The article does not mention any person or people committing suicide or killing themselves. It talks about various places in America that are associated with historical events, some of which are eerie or associated with death, but none of these events are suicides.\"\n"
          ]
        },
        {
          "name": "stderr",
          "output_type": "stream",
          "text": [
            " 74%|███████▍  | 149/200 [21:10<07:29,  8.81s/it]"
          ]
        },
        {
          "name": "stdout",
          "output_type": "stream",
          "text": [
            "\"Answer 1: Yes\\nAnswer 2: None\\nReasoning: The article talks about the assisted suicide law in Canada which allows doctors to help terminally ill patients end their own lives. However, it does not mention any specific case of a person committing suicide due to financial/job problems, school problems, health problems or legal problems.\"\n"
          ]
        },
        {
          "name": "stderr",
          "output_type": "stream",
          "text": [
            " 75%|███████▌  | 150/200 [21:16<06:43,  8.07s/it]"
          ]
        },
        {
          "name": "stdout",
          "output_type": "stream",
          "text": [
            "\"Answer 1: Yes\\nAnswer 2: None\\nReasoning: The article does mention a person committing suicide, but it does not provide any information that would suggest that the suicide was primarily influenced by financial/job problems, school problems, health problems, or legal problems.\"\n"
          ]
        },
        {
          "name": "stderr",
          "output_type": "stream",
          "text": [
            " 76%|███████▌  | 151/200 [21:23<06:17,  7.71s/it]"
          ]
        },
        {
          "name": "stdout",
          "output_type": "stream",
          "text": [
            "\"Answer 1: Yes\\nAnswer 2: Financial/Job Problem\\nReasoning: The article talks about an Apple employee who committed suicide by shooting himself. The article does not provide a clear reason for the suicide but it happened at his place of employment.\"\n"
          ]
        },
        {
          "name": "stderr",
          "output_type": "stream",
          "text": [
            " 76%|███████▌  | 152/200 [21:27<05:14,  6.56s/it]"
          ]
        },
        {
          "name": "stdout",
          "output_type": "stream",
          "text": [
            "\"Answer 1: Yes\\nAnswer 2: None\\nReasoning: The article talks about a plane crash that was likely deliberate. However, it does not mention any financial struggles, job related problems, school problems, health problems or legal problems that could have led to this act.\"\n"
          ]
        },
        {
          "name": "stderr",
          "output_type": "stream",
          "text": [
            " 76%|███████▋  | 153/200 [21:37<05:57,  7.61s/it]"
          ]
        },
        {
          "name": "stdout",
          "output_type": "stream",
          "text": [
            "\"Answer 1: Yes\\nAnswer 2: Financial/Job Problem\\nReasoning: The article talks about the suicide of Raheel Siddiqui, a marine recruit who killed himself after being hazed and abused by his superiors at his training facility.\"\n"
          ]
        },
        {
          "name": "stderr",
          "output_type": "stream",
          "text": [
            " 77%|███████▋  | 154/200 [21:44<05:42,  7.44s/it]"
          ]
        },
        {
          "name": "stdout",
          "output_type": "stream",
          "text": [
            "\"Answer 1: Yes\\nAnswer 2: Health Problem\\nReasoning: The article talks about the suicide of Kalief Browder who was kept in solitary confinement for years as a juvenile. The article mentions that solitary confinement is often used as a place to house young people who won't follow the rules or as a warehouse for kids with mental illness. This indicates that the lack of proper mental health care and treatment led to his suicide.\"\n"
          ]
        },
        {
          "name": "stderr",
          "output_type": "stream",
          "text": [
            " 78%|███████▊  | 155/200 [21:56<06:27,  8.62s/it]"
          ]
        },
        {
          "name": "stdout",
          "output_type": "stream",
          "text": [
            "\"Answer 1: Yes\\nAnswer 2: None\\nReasoning: The article talks about the high suicide rate in Greenland and the reasons behind it. However, it does not specifically mention any suicide case related to financial/job problems, school problems, health problems or legal problems.\"\n"
          ]
        },
        {
          "name": "stderr",
          "output_type": "stream",
          "text": [
            " 78%|███████▊  | 156/200 [22:05<06:35,  8.98s/it]"
          ]
        },
        {
          "name": "stdout",
          "output_type": "stream",
          "text": [
            "\"Answer 1: Yes\\nAnswer 2: Health Problem\\nReasoning: The article talks about Gerry Realin, a police officer who was diagnosed with PTSD after responding to the Pulse nightclub shooting. He has not been able to work since the incident and is struggling with his mental health. The article also mentions another police officer who was diagnosed with PTSD after the same incident and suggests that there may be more who are suffering but do not want to come forward. The article also mentions a firefighter who attempted suicide due to his PTSD.\"\n"
          ]
        },
        {
          "name": "stderr",
          "output_type": "stream",
          "text": [
            " 78%|███████▊  | 157/200 [22:09<05:19,  7.43s/it]"
          ]
        },
        {
          "name": "stdout",
          "output_type": "stream",
          "text": [
            "\"Answer 1: No\\nAnswer 2: None\\nReasoning: The article does not mention any suicide or any person who killed themselves.\"\n"
          ]
        },
        {
          "name": "stderr",
          "output_type": "stream",
          "text": [
            " 79%|███████▉  | 158/200 [22:18<05:34,  7.97s/it]"
          ]
        },
        {
          "name": "stdout",
          "output_type": "stream",
          "text": [
            "\"Answer 1: Yes\\nAnswer 2: None\\nReasoning: The article talks about the suicide of James Hodgkinson, who was a leftwing political activist. However, the article does not mention any financial/job problems, school problems, health problems or legal problems that could have led to his suicide.\"\n"
          ]
        },
        {
          "name": "stderr",
          "output_type": "stream",
          "text": [
            " 80%|███████▉  | 159/200 [22:28<05:45,  8.43s/it]"
          ]
        },
        {
          "name": "stdout",
          "output_type": "stream",
          "text": [
            "\"Answer 1: Yes\\nAnswer 2: None\\nReasoning: The article talks about a suicide case of a former youth football player. However, it does not clearly mention if the suicide was primarily due to financial struggles, job related issues, school problems, health care access or legal problems. The article suggests that the suicide might be related to the brain disease caused by repeated head hits during his football career, but it does not clearly state that lack of access to health care or treatment was the primary reason for his suicide.\"\n"
          ]
        },
        {
          "name": "stderr",
          "output_type": "stream",
          "text": [
            " 80%|████████  | 160/200 [22:40<06:16,  9.40s/it]"
          ]
        },
        {
          "name": "stdout",
          "output_type": "stream",
          "text": [
            "\"Answer 1: Yes\\nAnswer 2: None\\nReasoning: The article talks about the daughters of men who committed heinous crimes during Argentina's brutal military dictatorship. However, there is no mention of suicide due to financial/job problems, school problems, health problems or legal problems.\"\n"
          ]
        },
        {
          "name": "stderr",
          "output_type": "stream",
          "text": [
            " 80%|████████  | 161/200 [22:50<06:24,  9.86s/it]"
          ]
        },
        {
          "name": "stdout",
          "output_type": "stream",
          "text": [
            "\"Answer 1: Yes\\nAnswer 2: Health Problem\\nReasoning: The article talks about Stephanie Packer, a terminally ill mother who was denied coverage for treatment by her insurance company but was approved for suicide drugs. This shows that she was denied access to healthcare, which falls under the 'Health Problem' category.\"\n"
          ]
        },
        {
          "name": "stderr",
          "output_type": "stream",
          "text": [
            " 81%|████████  | 162/200 [22:56<05:26,  8.60s/it]"
          ]
        },
        {
          "name": "stdout",
          "output_type": "stream",
          "text": [
            "\"Answer 1: Yes\\nAnswer 2: None\\nReasoning: The article talks about a woman who committed suicide. However, the reason for her suicide does not align with any of the given categories.\"\n"
          ]
        },
        {
          "name": "stderr",
          "output_type": "stream",
          "text": [
            " 82%|████████▏ | 163/200 [23:01<04:31,  7.34s/it]"
          ]
        },
        {
          "name": "stdout",
          "output_type": "stream",
          "text": [
            "\"Answer 1: Yes\\nAnswer 2: None\\nReasoning: The article talks about a man who committed suicide but does not provide any information about the reason behind his suicide. Hence, it cannot be categorized into any of the given categories.\"\n"
          ]
        },
        {
          "name": "stderr",
          "output_type": "stream",
          "text": [
            " 82%|████████▏ | 164/200 [23:08<04:22,  7.29s/it]"
          ]
        },
        {
          "name": "stdout",
          "output_type": "stream",
          "text": [
            "\"Answer 1: Yes\\nAnswer 2: School Problem\\nReasoning: The article talks about a teenager who committed suicide after being bullied and harassed on social media by her peers.\"\n"
          ]
        },
        {
          "name": "stderr",
          "output_type": "stream",
          "text": [
            " 82%|████████▎ | 165/200 [23:13<03:56,  6.75s/it]"
          ]
        },
        {
          "name": "stdout",
          "output_type": "stream",
          "text": [
            "\"Answer 1: Yes\\nAnswer 2: None\\nReasoning: The article talks about the suicide of Randy Budd, whose wife was severely injured in an accident. However, the article does not mention any financial, job, school, health or legal problems leading to his suicide.\"\n"
          ]
        },
        {
          "name": "stderr",
          "output_type": "stream",
          "text": [
            " 83%|████████▎ | 166/200 [23:21<03:55,  6.92s/it]"
          ]
        },
        {
          "name": "stdout",
          "output_type": "stream",
          "text": [
            "\"Answer 1: Yes\\nAnswer 2: None\\nReasoning: The article talks about the suicide of Vincent Van Gogh, however, it does not mention any financial/job problems, school problems, health problems or legal problems that might have led to his suicide.\"\n"
          ]
        },
        {
          "name": "stderr",
          "output_type": "stream",
          "text": [
            " 84%|████████▎ | 167/200 [23:33<04:46,  8.69s/it]"
          ]
        },
        {
          "name": "stdout",
          "output_type": "stream",
          "text": [
            "\"Answer 1: Yes\\nAnswer 2: None\\nReasoning: The article talks about sexual abuse of hundreds of children by over 50 priests or religious leaders over a 40-year period. However, there is no mention of any suicide committed due to financial/job problems, school problems, health problems or legal problems. The only mention of suicide is of Franciscan brother Stephen Baker, who killed himself after abuse settlements with an Ohio diocese where he formerly worked were publicized. But this does not fit into any of the given categories.\"\n"
          ]
        },
        {
          "name": "stderr",
          "output_type": "stream",
          "text": [
            " 84%|████████▍ | 168/200 [23:37<03:53,  7.30s/it]"
          ]
        },
        {
          "name": "stdout",
          "output_type": "stream",
          "text": [
            "\"Answer 1: Yes\\nAnswer 2: School Problem\\nReasoning: The article talks about the suicide of a 14 year old girl named Hannah Smith who was bullied online and was a victim of cyberbullying.\"\n"
          ]
        },
        {
          "name": "stderr",
          "output_type": "stream",
          "text": [
            " 84%|████████▍ | 169/200 [23:46<03:56,  7.63s/it]"
          ]
        },
        {
          "name": "stdout",
          "output_type": "stream",
          "text": [
            "\"Answer 1: Yes\\nAnswer 2: Legal Problem\\nReasoning: The article talks about a former NYPD officer who killed himself when he was pulled over by FBI agents in connection with a quadruple homicide case.\"\n"
          ]
        },
        {
          "name": "stderr",
          "output_type": "stream",
          "text": [
            " 85%|████████▌ | 170/200 [23:53<03:44,  7.48s/it]"
          ]
        },
        {
          "name": "stdout",
          "output_type": "stream",
          "text": [
            "\"Answer 1: Yes\\nAnswer 2: Legal Problem\\nReasoning: The article talks about the suicide of Aaron Hernandez, a former football player who was serving a life sentence for a 2013 murder.\"\n"
          ]
        },
        {
          "name": "stderr",
          "output_type": "stream",
          "text": [
            " 86%|████████▌ | 171/200 [23:57<03:05,  6.38s/it]"
          ]
        },
        {
          "name": "stdout",
          "output_type": "stream",
          "text": [
            "\"Answer 1: Yes\\nAnswer 2: Legal Problem\\nReasoning: The article talks about Tom Johnston, a meteorologist who committed suicide after being named in a sexual assault investigation. He would have faced a felony charge of gross sexual assault if he were still alive.\"\n"
          ]
        },
        {
          "name": "stderr",
          "output_type": "stream",
          "text": [
            " 86%|████████▌ | 172/200 [24:00<02:34,  5.51s/it]"
          ]
        },
        {
          "name": "stdout",
          "output_type": "stream",
          "text": [
            "\"Answer 1: Yes\\nAnswer 2: None\\nReasoning: The article talks about a police officer who committed suicide. However, the article does not provide any information on the reason behind the suicide. Therefore, it cannot be categorized under any of the provided categories.\"\n"
          ]
        },
        {
          "name": "stderr",
          "output_type": "stream",
          "text": [
            " 86%|████████▋ | 173/200 [24:05<02:26,  5.43s/it]"
          ]
        },
        {
          "name": "stdout",
          "output_type": "stream",
          "text": [
            "\"Answer 1: Yes\\nAnswer 2: None\\nReasoning: The article talks about the suicide of Brian Loncar's daughter, Grace. However, it does not mention the reason behind her suicide. Therefore, it cannot be categorized into any of the given categories.\"\n"
          ]
        },
        {
          "name": "stderr",
          "output_type": "stream",
          "text": [
            " 87%|████████▋ | 174/200 [24:11<02:24,  5.56s/it]"
          ]
        },
        {
          "name": "stdout",
          "output_type": "stream",
          "text": [
            "\"Answer 1: Yes\\nAnswer 2: None\\nReasoning: The article talks about the suicide of Petra Epperlein's father but does not provide any information on the reason behind his suicide.\"\n"
          ]
        },
        {
          "name": "stderr",
          "output_type": "stream",
          "text": [
            " 88%|████████▊ | 175/200 [24:18<02:27,  5.88s/it]"
          ]
        },
        {
          "name": "stdout",
          "output_type": "stream",
          "text": [
            "\"Answer 1: No\\nAnswer 2: None\\nReasoning: The article does not mention any suicide or any person who killed themselves.\"\n"
          ]
        },
        {
          "name": "stderr",
          "output_type": "stream",
          "text": [
            " 88%|████████▊ | 176/200 [24:24<02:24,  6.02s/it]"
          ]
        },
        {
          "name": "stdout",
          "output_type": "stream",
          "text": [
            "\"Answer 1: Yes\\nAnswer 2: None\\nReasoning: The article talks about the suicide of JonBenet Ramsey but does not provide any information on the reason behind her suicide.\"\n"
          ]
        },
        {
          "name": "stderr",
          "output_type": "stream",
          "text": [
            " 88%|████████▊ | 177/200 [24:34<02:40,  6.98s/it]"
          ]
        },
        {
          "name": "stdout",
          "output_type": "stream",
          "text": [
            "\"Answer 1: Yes\\nAnswer 2: Legal Problem\\nReasoning: The article talks about the suicide of Aaron Swartz, who killed himself after being charged with computer fraud and abuse and facing a hefty penalty of millions and a jail sentence spanning decades.\"\n"
          ]
        },
        {
          "name": "stderr",
          "output_type": "stream",
          "text": [
            " 89%|████████▉ | 178/200 [24:42<02:45,  7.52s/it]"
          ]
        },
        {
          "name": "stdout",
          "output_type": "stream",
          "text": [
            "\"Answer 1: Yes\\nAnswer 2: None\\nReasoning: The article talks about a former marine who committed suicide after a decade of pain and fighting the veterans administration. However, the article does not provide enough information to categorize the reason for his suicide into any of the given categories.\"\n"
          ]
        },
        {
          "name": "stderr",
          "output_type": "stream",
          "text": [
            " 90%|████████▉ | 179/200 [24:53<02:57,  8.47s/it]"
          ]
        },
        {
          "name": "stdout",
          "output_type": "stream",
          "text": [
            "\"Answer 1: Yes\\nAnswer 2: None\\nReasoning: The article talks about the suicide crisis in the Canadian Aboriginal community of Attawapiskat. However, it does not provide specific reasons for the suicides, making it difficult to categorize it under any of the given categories.\"\n"
          ]
        },
        {
          "name": "stderr",
          "output_type": "stream",
          "text": [
            " 90%|█████████ | 180/200 [24:59<02:37,  7.86s/it]"
          ]
        },
        {
          "name": "stdout",
          "output_type": "stream",
          "text": [
            "\"Answer 1: Yes\\nAnswer 2: None\\nReasoning: The article talks about the suicide of Heinrich Himmler, the head of the SS in Nazi Germany. However, the reason for his suicide is not mentioned in the article.\"\n"
          ]
        },
        {
          "name": "stderr",
          "output_type": "stream",
          "text": [
            " 90%|█████████ | 181/200 [25:05<02:17,  7.24s/it]"
          ]
        },
        {
          "name": "stdout",
          "output_type": "stream",
          "text": [
            "\"Answer 1: Yes\\nAnswer 2: None\\nReasoning: The article talks about the increase in calls to suicide prevention hotlines after the US presidential elections. However, it does not mention any specific case of suicide or the reasons behind it.\"\n"
          ]
        },
        {
          "name": "stderr",
          "output_type": "stream",
          "text": [
            " 91%|█████████ | 182/200 [25:10<01:55,  6.43s/it]"
          ]
        },
        {
          "name": "stdout",
          "output_type": "stream",
          "text": [
            "\"Answer 1: No\\nAnswer 2: None\\nReasoning: The article does not mention any suicide or any person who killed themselves. It talks about a football player who retired due to fear of concussions and head injuries.\"\n"
          ]
        },
        {
          "name": "stderr",
          "output_type": "stream",
          "text": [
            " 92%|█████████▏| 183/200 [25:24<02:26,  8.64s/it]"
          ]
        },
        {
          "name": "stdout",
          "output_type": "stream",
          "text": [
            "\"Answer 1: Yes\\nAnswer 2: None\\nReasoning: The article talks about a suicide incident at the U.S. Capitol. However, it does not provide any information that the suicide was due to financial/job problems, school problems, health problems, or legal problems. The person carried a sign about \\\"social justice\\\" but it does not clearly state that this was the reason for the suicide.\"\n"
          ]
        },
        {
          "name": "stderr",
          "output_type": "stream",
          "text": [
            " 92%|█████████▏| 184/200 [25:29<02:04,  7.81s/it]"
          ]
        },
        {
          "name": "stdout",
          "output_type": "stream",
          "text": [
            "\"Answer 1: Yes\\nAnswer 2: None\\nReasoning: The article talks about the suicide of Sawyer Sweeten, a child star from the sitcom \\\"Everybody Loves Raymond\\\". However, the article does not provide any specific reason or cause that led to his suicide. Therefore, it cannot be categorized under any of the provided categories.\"\n"
          ]
        },
        {
          "name": "stderr",
          "output_type": "stream",
          "text": [
            " 92%|█████████▎| 185/200 [25:34<01:42,  6.85s/it]"
          ]
        },
        {
          "name": "stdout",
          "output_type": "stream",
          "text": [
            "\"Answer 1: Yes\\nAnswer 2: Financial/Job Problem\\nReasoning: The article mentions a man who committed suicide in the hope that his life insurance policy settlement would make their farm solvent.\"\n"
          ]
        },
        {
          "name": "stderr",
          "output_type": "stream",
          "text": [
            " 93%|█████████▎| 186/200 [25:40<01:34,  6.73s/it]"
          ]
        },
        {
          "name": "stdout",
          "output_type": "stream",
          "text": [
            "\"Answer 1: Yes\\nAnswer 2: None\\nReasoning: The article talks about a man who committed suicide after a breakup and live streamed it on Facebook. However, the reason for his suicide does not align with any of the given categories.\"\n"
          ]
        },
        {
          "name": "stderr",
          "output_type": "stream",
          "text": [
            " 94%|█████████▎| 187/200 [25:55<01:58,  9.11s/it]"
          ]
        },
        {
          "name": "stdout",
          "output_type": "stream",
          "text": [
            "\"Answer 1: Yes\\nAnswer 2: None\\nReasoning: The article talks about the suicide of Aaron Hernandez, a former NFL player. However, the article does not provide any information that suggests that his suicide was primarily due to financial or work related struggles, an incident at his place of employment, an incident at school or an academic/school problem, lack of access to mental or physical health care or treatment, or after facing a law related problem or being involved or suspected in a violation of the law by the authorities.\"\n"
          ]
        },
        {
          "name": "stderr",
          "output_type": "stream",
          "text": [
            " 94%|█████████▍| 188/200 [26:02<01:39,  8.31s/it]"
          ]
        },
        {
          "name": "stdout",
          "output_type": "stream",
          "text": [
            "\"Answer 1: No\\nAnswer 2: None\\nReasoning: The article does not mention any suicide or any person who killed themselves. It talks about the political situation in South Korea and the impeachment of the president.\"\n"
          ]
        },
        {
          "name": "stderr",
          "output_type": "stream",
          "text": [
            " 94%|█████████▍| 189/200 [26:08<01:24,  7.72s/it]"
          ]
        },
        {
          "name": "stdout",
          "output_type": "stream",
          "text": [
            "\"Answer 1: Yes\\nAnswer 2: None\\nReasoning: The article talks about the suicide of a woman who was a rape victim. However, the article does not mention that the suicide was due to financial/job problems, school problems, health problems or legal problems.\"\n"
          ]
        },
        {
          "name": "stderr",
          "output_type": "stream",
          "text": [
            " 95%|█████████▌| 190/200 [26:15<01:14,  7.46s/it]"
          ]
        },
        {
          "name": "stdout",
          "output_type": "stream",
          "text": [
            "\"Answer 1: Yes\\nAnswer 2: None\\nReasoning: The article talks about the suicide of the previous tenant of an apartment but does not mention any financial, job, school, health or legal problems leading to the suicide.\"\n"
          ]
        },
        {
          "name": "stderr",
          "output_type": "stream",
          "text": [
            " 96%|█████████▌| 191/200 [26:21<01:03,  7.01s/it]"
          ]
        },
        {
          "name": "stdout",
          "output_type": "stream",
          "text": [
            "\"Answer 1: Yes\\nAnswer 2: Legal Problem\\nReasoning: The article talks about Aaron Hernandez, a former NFL player who was serving a life sentence for double homicide. He committed suicide in prison after enduring multiple attacks by other prisoners and continuously breaking prison rules.\"\n"
          ]
        },
        {
          "name": "stderr",
          "output_type": "stream",
          "text": [
            " 96%|█████████▌| 192/200 [26:27<00:55,  6.90s/it]"
          ]
        },
        {
          "name": "stdout",
          "output_type": "stream",
          "text": [
            "\"Answer 1: Yes\\nAnswer 2: Health Problem\\nReasoning: The article talks about the suicide of Chris Cornell, who was taking prescription medication for anxiety. His wife believes that the side effects of the medication, which can include paranoia and suicidal thoughts, may have played a role in his decision to take his own life.\"\n"
          ]
        },
        {
          "name": "stderr",
          "output_type": "stream",
          "text": [
            " 96%|█████████▋| 193/200 [26:35<00:50,  7.26s/it]"
          ]
        },
        {
          "name": "stdout",
          "output_type": "stream",
          "text": [
            "\"Answer 1: Yes\\nAnswer 2: None\\nReasoning: The article talks about the war crimes of imperial Japan and the atrocities committed by them. It does mention a woman named Minnie Vautrin who killed herself in 1941 but it does not provide any information on the reasons behind her suicide.\"\n"
          ]
        },
        {
          "name": "stderr",
          "output_type": "stream",
          "text": [
            " 97%|█████████▋| 194/200 [26:39<00:36,  6.09s/it]"
          ]
        },
        {
          "name": "stdout",
          "output_type": "stream",
          "text": [
            "\"Answer 1: Yes\\nAnswer 2: None\\nReasoning: The article talks about the suicide of Kurt Cobain, however, it does not mention any financial, job, school, health or legal problems leading to his suicide.\"\n"
          ]
        },
        {
          "name": "stderr",
          "output_type": "stream",
          "text": [
            " 98%|█████████▊| 195/200 [26:45<00:30,  6.05s/it]"
          ]
        },
        {
          "name": "stdout",
          "output_type": "stream",
          "text": [
            "\"Answer 1: Yes\\nAnswer 2: Legal Problem\\nReasoning: The article talks about the suicide of Kalief Browder who killed himself after being wrongfully imprisoned for three years for a crime he did not commit.\"\n"
          ]
        },
        {
          "name": "stderr",
          "output_type": "stream",
          "text": [
            " 98%|█████████▊| 196/200 [26:55<00:29,  7.33s/it]"
          ]
        },
        {
          "name": "stdout",
          "output_type": "stream",
          "text": [
            "\"Answer 1: Yes\\nAnswer 2: None\\nReasoning: The article talks about Mark Zuckerberg and his plans for Facebook. It mentions a girl who livestreamed her suicide but does not provide any details about the incident or the reasons behind it.\"\n"
          ]
        },
        {
          "name": "stderr",
          "output_type": "stream",
          "text": [
            " 98%|█████████▊| 197/200 [27:03<00:22,  7.63s/it]"
          ]
        },
        {
          "name": "stdout",
          "output_type": "stream",
          "text": [
            "\"Answer 1: Yes\\nAnswer 2: Financial/Job Problem\\nReasoning: The article talks about the suicide of chef Beno\\u00eet Violier who was under immense pressure due to his work and the fear of losing his restaurant's Michelin star.\"\n"
          ]
        },
        {
          "name": "stderr",
          "output_type": "stream",
          "text": [
            " 99%|█████████▉| 198/200 [27:10<00:14,  7.27s/it]"
          ]
        },
        {
          "name": "stdout",
          "output_type": "stream",
          "text": [
            "\"Answer 1: Yes\\nAnswer 2: Legal Problem\\nReasoning: The article talks about a police officer who killed himself and left a suicide note stating his involvement in an underage prostitution scheme. The note also led to a criminal investigation of several other officers.\"\n"
          ]
        },
        {
          "name": "stderr",
          "output_type": "stream",
          "text": [
            "100%|█████████▉| 199/200 [27:22<00:08,  8.84s/it]"
          ]
        },
        {
          "name": "stdout",
          "output_type": "stream",
          "text": [
            "\"Answer 1: Yes\\nAnswer 2: None\\nReasoning: The article talks about a 12-year-old girl who committed suicide and live streamed it. However, the article does not provide any specific reason related to financial/job problems, school problems, health problems or legal problems that led to her suicide. The article mentions that she was sexually abused by a family member, but this does not fall into any of the provided categories.\"\n"
          ]
        },
        {
          "name": "stderr",
          "output_type": "stream",
          "text": [
            "100%|██████████| 200/200 [27:29<00:00,  8.25s/it]"
          ]
        },
        {
          "name": "stdout",
          "output_type": "stream",
          "text": [
            "\"Answer 1: Yes\\nAnswer 2: Financial/Job Problem\\nReasoning: The article talks about Nicole Mittendorff, a firefighter who killed herself after being bullied and harassed by her co-workers online.\"\n"
          ]
        },
        {
          "name": "stderr",
          "output_type": "stream",
          "text": [
            "\n"
          ]
        }
      ],
      "source": [
        "test = \"\"\n",
        "for i in tqdm(range(0, len(arts))):\n",
        "    try:\n",
        "        prompt = combinedfewshot + arts[i]\n",
        "        #response = openai.ChatCompletion.create(\n",
        "        # response = openai.chat.completions.create(\n",
        "        #     model=\"mistralai/Mixtral-8x7B-Instruct-v0.1\",\n",
        "        #     #engine=\"StructuralFactorsOfSuicideturbo16k\", # engine with high TPM rate limit; no content filter\n",
        "        #     messages=[\n",
        "        #         {\n",
        "        #             \"role\": \"user\",\n",
        "        #             \"content\": prompt,\n",
        "        #         },\n",
        "        #     ],\n",
        "        #     temperature=0.0\n",
        "        # )\n",
        "        # chatgpt_output = response.choices[0].message.content\n",
        "        response = openai.ChatCompletion.create(\n",
        "            model=\"gpt-4\",\n",
        "            engine=\"StructuralFactorsOfSuicidegpt4\", # engine with high TPM rate limit; no content filter\n",
        "            messages=[\n",
        "                {\n",
        "                    \"role\": \"user\",\n",
        "                    \"content\": prompt,\n",
        "                },\n",
        "            ],\n",
        "            temperature=0.0\n",
        "        )\n",
        "        chatgpt_output = json.dumps(response['choices'][0]['message']['content'])\n",
        "        print(chatgpt_output)\n",
        "        test = chatgpt_output\n",
        "        if (\"1: No\" in chatgpt_output):\n",
        "            reason[i] = \"NotSuicide\"\n",
        "            continue\n",
        "        split = chatgpt_output.split('\\\\n')\n",
        "        for sp in split:\n",
        "            if \"Answer 2\" in sp:\n",
        "                chatgpt_output = sp\n",
        "        #print(chatgpt_output)\n",
        "        n[i] = 1\n",
        "        if ('Legal Problem' in chatgpt_output):\n",
        "            l[i] = 1\n",
        "            n[i] = 0\n",
        "        if ('Financial/Job Problem' in chatgpt_output):\n",
        "            f[i] = 1\n",
        "            n[i] = 0\n",
        "        if ('School Problem' in chatgpt_output):\n",
        "            s[i] = 1\n",
        "            n[i] = 0\n",
        "        if ('Health Problem' in chatgpt_output):\n",
        "            h[i] = 1\n",
        "            n[i] = 0\n",
        "        reason[i] = test\n",
        "        # gt = \"\"\n",
        "        # if (maindf.iloc[i][FinancialLabel] > 0):\n",
        "        #     gt += \"Financial \"\n",
        "        # if (maindf.iloc[i][Legallabel] > 0):\n",
        "        #     gt += \"Legal \"\n",
        "        # if (maindf.iloc[i][HealthLabel] > 0):\n",
        "        #     gt += \"Health \"\n",
        "        # if (maindf.iloc[i][SchoolLabel] > 0):\n",
        "        #     gt += \"School \"\n",
        "        # print(\"ground truth: \", gt)\n",
        "    except Exception as e:\n",
        "        print(i)\n",
        "        if (\"reduce the length of the messages.\" in str(e)):\n",
        "            print(\"TooManyTokens\")\n",
        "            reason[i] = \"TooManyTokens\"\n",
        "        else:\n",
        "            print(str(e))\n",
        "        #print(str(e))\n",
        "        erroredout[i] = 1\n",
        "        \n",
        "        "
      ]
    },
    {
      "cell_type": "code",
      "execution_count": 90,
      "metadata": {},
      "outputs": [],
      "source": [
        "maindf[FinancialPredicted] = f\n",
        "maindf[SchoolPredicted] = s\n",
        "maindf[HealthPredicted] = h\n",
        "maindf[LegalPredicted] = l\n",
        "maindf['None - Predicted'] = n\n",
        "maindf['Reasoning'] = reason\n",
        "maindf['Error'] = erroredout\n"
      ]
    },
    {
      "cell_type": "code",
      "execution_count": null,
      "metadata": {},
      "outputs": [],
      "source": [
        "maindf.to_csv('kaggle200_gpt48kfewshotresults.csv')"
      ]
    },
    {
      "cell_type": "code",
      "execution_count": 9,
      "metadata": {},
      "outputs": [],
      "source": [
        "maindf = pd.read_csv('/Users/minijain/Downloads/SocWebLab/Structural_Violence/kaggle200_gpt48kzeroshotresultsmodified.csv')"
      ]
    },
    {
      "cell_type": "code",
      "execution_count": 10,
      "metadata": {},
      "outputs": [],
      "source": [
        "f = maindf[FinancialPredicted]\n",
        "s = maindf[SchoolPredicted]\n",
        "h = maindf[HealthPredicted]\n",
        "l = maindf[LegalPredicted] \n",
        "n = maindf['None - Predicted']"
      ]
    },
    {
      "cell_type": "code",
      "execution_count": 11,
      "metadata": {},
      "outputs": [
        {
          "name": "stdout",
          "output_type": "stream",
          "text": [
            "Financial Accuracy:  0.93\n",
            "Financial Precision:  0.4444444444444444\n",
            "Financial Recall:  0.3076923076923077\n",
            "Financial F1 score:  0.3636363636363637\n",
            "Financial AUC score:  0.6404771698889345\n",
            "Legal Accuracy:  0.85\n",
            "Legal Precision:  0.5737704918032787\n",
            "Legal Recall:  0.8974358974358975\n",
            "Legal F1 score:  0.7\n",
            "Legal AUC score:  0.8679726071030419\n",
            "School Accuracy:  0.945\n",
            "School Precision:  0.3125\n",
            "School Recall:  1.0\n",
            "School F1 score:  0.47619047619047616\n",
            "School AUC score:  0.9717948717948718\n",
            "Health Accuracy:  0.72\n",
            "Health Precision:  0.09836065573770492\n",
            "Health Recall:  0.8571428571428571\n",
            "Health F1 score:  0.17647058823529413\n",
            "Health AUC score:  0.7860843819393042\n"
          ]
        }
      ],
      "source": [
        "actualf = maindf[FinancialLabel].to_list()\n",
        "actuall = maindf[Legallabel].to_list()\n",
        "actuals = maindf[SchoolLabel].to_list()\n",
        "actualh = maindf[HealthLabel].to_list()\n",
        "\n",
        "actualf = [1 if x > 0 else x for x in actualf]\n",
        "actuall = [1 if x > 0 else x for x in actuall]\n",
        "actuals = [1 if x > 0 else x for x in actuals]\n",
        "actualh = [1 if x > 0 else x for x in actualh]\n",
        "\n",
        "from sklearn.metrics import recall_score, f1_score, accuracy_score, precision_score, roc_auc_score\n",
        "\n",
        "print(\"Financial Accuracy: \", accuracy_score(actualf, f))\n",
        "print(\"Financial Precision: \", precision_score(actualf, f))\n",
        "print(\"Financial Recall: \", recall_score(actualf, f))\n",
        "print(\"Financial F1 score: \", f1_score(actualf, f))\n",
        "print(\"Financial AUC score: \", roc_auc_score(actualf, f))\n",
        "\n",
        "print(\"Legal Accuracy: \", accuracy_score(actuall, l))\n",
        "print(\"Legal Precision: \", precision_score(actuall, l))\n",
        "print(\"Legal Recall: \", recall_score(actuall, l))\n",
        "print(\"Legal F1 score: \", f1_score(actuall, l))\n",
        "print(\"Legal AUC score: \", roc_auc_score(actuall, l))\n",
        "\n",
        "print(\"School Accuracy: \", accuracy_score(actuals, s))\n",
        "print(\"School Precision: \", precision_score(actuals, s))\n",
        "print(\"School Recall: \", recall_score(actuals, s))\n",
        "print(\"School F1 score: \", f1_score(actuals, s))\n",
        "print(\"School AUC score: \", roc_auc_score(actuals, s))\n",
        "\n",
        "print(\"Health Accuracy: \", accuracy_score(actualh, h))\n",
        "print(\"Health Precision: \", precision_score(actualh, h))\n",
        "print(\"Health Recall: \", recall_score(actualh, h))\n",
        "print(\"Health F1 score: \", f1_score(actualh, h))\n",
        "print(\"Health AUC score: \", roc_auc_score(actualh, h))\n"
      ]
    },
    {
      "cell_type": "code",
      "execution_count": 12,
      "metadata": {},
      "outputs": [
        {
          "name": "stdout",
          "output_type": "stream",
          "text": [
            "(200, 4)\n",
            "(200, 4)\n",
            "Hamming Loss: 0.13875\n",
            "Subset accuracy:  0.515\n",
            "Macro averaged F1 score:  0.4290743570155335\n",
            "Micro averaged F1 score:  0.47393364928909953\n",
            "Financial problem F1 score:  0.3636363636363637\n",
            "Legal problem F1 score:  0.7\n",
            "School problem F1 score:  0.47619047619047616\n",
            "Health problem F1 score:  0.17647058823529413\n"
          ]
        }
      ],
      "source": [
        "from sklearn.metrics import hamming_loss, accuracy_score, f1_score\n",
        "\n",
        "def make_positive_one(x):\n",
        "    return 1 if x > 0 else x\n",
        "\n",
        "# Apply the function to the DataFrame column\n",
        "maindf[FinancialLabel] = maindf[FinancialLabel].apply(make_positive_one)\n",
        "maindf[SchoolLabel] = maindf[SchoolLabel].apply(make_positive_one)\n",
        "maindf[Legallabel] = maindf[Legallabel].apply(make_positive_one)\n",
        "maindf[HealthLabel] = maindf[HealthLabel].apply(make_positive_one)\n",
        "\n",
        "y_true = maindf[[FinancialLabel, Legallabel, SchoolLabel, HealthLabel]].values\n",
        "y_pred = maindf[[FinancialPredicted, LegalPredicted, SchoolPredicted, HealthPredicted]].values\n",
        "print(y_true.shape)\n",
        "print(y_pred.shape)\n",
        "hl = hamming_loss(y_true, y_pred)\n",
        "print(\"Hamming Loss:\", hl)\n",
        "\n",
        "accuracy = accuracy_score(y_true, y_pred)\n",
        "print(\"Subset accuracy: \", accuracy)\n",
        "\n",
        "f1score = f1_score(y_true, y_pred, average='macro')\n",
        "print(\"Macro averaged F1 score: \", f1score)\n",
        "\n",
        "f1score = f1_score(y_true, y_pred, average='micro')\n",
        "print(\"Micro averaged F1 score: \", f1score)\n",
        "\n",
        "y_true = maindf[FinancialLabel].values\n",
        "y_pred = maindf[FinancialPredicted].values\n",
        "f1score = f1_score(y_true, y_pred)\n",
        "print(\"Financial problem F1 score: \", f1score)\n",
        "\n",
        "y_true = maindf[Legallabel].values\n",
        "y_pred = maindf[LegalPredicted].values\n",
        "f1score = f1_score(y_true, y_pred)\n",
        "print(\"Legal problem F1 score: \", f1score)\n",
        "\n",
        "y_true = maindf[SchoolLabel].values\n",
        "y_pred = maindf[SchoolPredicted].values\n",
        "f1score = f1_score(y_true, y_pred)\n",
        "print(\"School problem F1 score: \", f1score)\n",
        "\n",
        "y_true = maindf[HealthLabel].values\n",
        "y_pred = maindf[HealthPredicted].values\n",
        "f1score = f1_score(y_true, y_pred)\n",
        "print(\"Health problem F1 score: \", f1score)"
      ]
    },
    {
      "cell_type": "code",
      "execution_count": null,
      "metadata": {},
      "outputs": [],
      "source": [
        "# import matplotlib.pyplot as plt\n",
        "\n",
        "# # Plotting the array\n",
        "# bin_edges = [0, 2000, 4000, 6000, 8000, 10000, 20000]  # Adjust these edges according to your needs\n",
        "\n",
        "# # Plotting the histogram\n",
        "# plt.hist(maxlens, bins=bin_edges, edgecolor='black')\n",
        "\n",
        "# # Adding labels and title\n",
        "# plt.xlabel('Length of Article')\n",
        "# plt.ylabel('Frequency')\n",
        "# plt.title('Length Distribution')\n",
        "\n",
        "# # Displaying the plot\n",
        "# plt.show()"
      ]
    },
    {
      "cell_type": "code",
      "execution_count": null,
      "metadata": {},
      "outputs": [],
      "source": [
        "import pandas as pd\n",
        "import numpy as np\n",
        "\n",
        "data = pd.read_csv('finalbendatasetwithpreds.csv')\n",
        "\n",
        "arts = data['Reasoning'].to_list()\n",
        "f = [0] * len(arts)\n",
        "h = [0] * len(arts)\n",
        "l = [0] * len(arts)\n",
        "s = [0] * len(arts)\n",
        "n = [0] * len(arts)\n",
        "#arts = financial_problem_df['Text'].to_list()\n",
        "financialpred = [0] * len(arts) \n",
        "reason = [\"\"] * len(arts)"
      ]
    },
    {
      "cell_type": "code",
      "execution_count": null,
      "metadata": {},
      "outputs": [],
      "source": [
        "multi = 0\n",
        "fi = 0\n",
        "sc = 0\n",
        "le = 0\n",
        "he = 0\n",
        "\n",
        "finalreason = [\"\"] * len(arts)\n",
        "\n",
        "for i in range(len(arts)):\n",
        "    chatgpt_output = arts[i]\n",
        "    if (\"1: No\" in chatgpt_output):\n",
        "        reason[i] = \"NotSuicide\"\n",
        "        continue\n",
        "    if (\"NotSuicide\" in chatgpt_output or \"TooManyTokens\" in chatgpt_output):\n",
        "        continue\n",
        "    split = chatgpt_output.split('\\\\n')\n",
        "    for sp in split:\n",
        "        if \"Answer 2\" in sp:\n",
        "            chatgpt_output = sp\n",
        "        if (\"Reasoning\" in sp):\n",
        "            finalreason[i] = sp.replace(\"Reasoning: \", \"\")\n",
        "    #print(chatgpt_output)\n",
        "    n[i] = 1\n",
        "    if ('Legal Problem' in chatgpt_output):\n",
        "        l[i] = 1\n",
        "        n[i] = 0\n",
        "    if ('Financial/Job Problem' in chatgpt_output):\n",
        "        f[i] = 1\n",
        "        n[i] = 0\n",
        "    if ('School Problem' in chatgpt_output):\n",
        "        s[i] = 1\n",
        "        n[i] = 0\n",
        "    if ('Health Problem' in chatgpt_output):\n",
        "        h[i] = 1\n",
        "        n[i] = 0\n",
        "    # if (l[i] + f[i] + h[i] + s[i] > 1):\n",
        "    #     multi = multi + 1\n",
        "    #     if (f[i] == 1):\n",
        "    #         fi = fi + 1 \n",
        "    #     if (h[i] == 1):\n",
        "    #         he = he + 1 \n",
        "    #     if (l[i] == 1):\n",
        "    #         le = le + 1 \n",
        "    #     if (s[i] == 1):\n",
        "    #         sc = sc + 1 \n",
        "        #print(chatgpt_output)\n",
        "#print(multi)\n",
        "\n",
        "#print(fi)\n",
        "#print(le)\n",
        "#print(sc)\n",
        "#print(he)\n",
        "\n",
        "#print(\"Multi label: \",data[(data[HealthPredicted] + data[FinancialPredicted] + data[LegalPredicted] + data[SchoolPredicted] > 1)].shape[0])\n",
        "\n",
        "#print(\"Multi label: \",data[(data[HealthPredicted] + data[FinancialPredicted] + data[LegalPredicted] + data[SchoolPredicted] > 1)].shape[0])\n"
      ]
    },
    {
      "cell_type": "code",
      "execution_count": 8,
      "metadata": {},
      "outputs": [
        {
          "ename": "FileNotFoundError",
          "evalue": "[Errno 2] No such file or directory: '/Users/minijain/Downloads/SocWebLab/Structural_Violence/kaggle200_gpt432kzeroshotresults.csv'",
          "output_type": "error",
          "traceback": [
            "\u001b[0;31m---------------------------------------------------------------------------\u001b[0m",
            "\u001b[0;31mFileNotFoundError\u001b[0m                         Traceback (most recent call last)",
            "Cell \u001b[0;32mIn[8], line 3\u001b[0m\n\u001b[1;32m      1\u001b[0m \u001b[38;5;28;01mimport\u001b[39;00m \u001b[38;5;21;01mpandas\u001b[39;00m \u001b[38;5;28;01mas\u001b[39;00m \u001b[38;5;21;01mpd\u001b[39;00m\n\u001b[1;32m      2\u001b[0m \u001b[38;5;28;01mimport\u001b[39;00m \u001b[38;5;21;01mnumpy\u001b[39;00m \u001b[38;5;28;01mas\u001b[39;00m \u001b[38;5;21;01mnp\u001b[39;00m\n\u001b[0;32m----> 3\u001b[0m data \u001b[38;5;241m=\u001b[39m \u001b[43mpd\u001b[49m\u001b[38;5;241;43m.\u001b[39;49m\u001b[43mread_csv\u001b[49m\u001b[43m(\u001b[49m\u001b[38;5;124;43m'\u001b[39;49m\u001b[38;5;124;43m/Users/minijain/Downloads/SocWebLab/Structural_Violence/kaggle200_gpt432kzeroshotresults.csv\u001b[39;49m\u001b[38;5;124;43m'\u001b[39;49m\u001b[43m)\u001b[49m\n",
            "File \u001b[0;32m~/Library/Python/3.9/lib/python/site-packages/pandas/io/parsers/readers.py:948\u001b[0m, in \u001b[0;36mread_csv\u001b[0;34m(filepath_or_buffer, sep, delimiter, header, names, index_col, usecols, dtype, engine, converters, true_values, false_values, skipinitialspace, skiprows, skipfooter, nrows, na_values, keep_default_na, na_filter, verbose, skip_blank_lines, parse_dates, infer_datetime_format, keep_date_col, date_parser, date_format, dayfirst, cache_dates, iterator, chunksize, compression, thousands, decimal, lineterminator, quotechar, quoting, doublequote, escapechar, comment, encoding, encoding_errors, dialect, on_bad_lines, delim_whitespace, low_memory, memory_map, float_precision, storage_options, dtype_backend)\u001b[0m\n\u001b[1;32m    935\u001b[0m kwds_defaults \u001b[38;5;241m=\u001b[39m _refine_defaults_read(\n\u001b[1;32m    936\u001b[0m     dialect,\n\u001b[1;32m    937\u001b[0m     delimiter,\n\u001b[0;32m   (...)\u001b[0m\n\u001b[1;32m    944\u001b[0m     dtype_backend\u001b[38;5;241m=\u001b[39mdtype_backend,\n\u001b[1;32m    945\u001b[0m )\n\u001b[1;32m    946\u001b[0m kwds\u001b[38;5;241m.\u001b[39mupdate(kwds_defaults)\n\u001b[0;32m--> 948\u001b[0m \u001b[38;5;28;01mreturn\u001b[39;00m \u001b[43m_read\u001b[49m\u001b[43m(\u001b[49m\u001b[43mfilepath_or_buffer\u001b[49m\u001b[43m,\u001b[49m\u001b[43m \u001b[49m\u001b[43mkwds\u001b[49m\u001b[43m)\u001b[49m\n",
            "File \u001b[0;32m~/Library/Python/3.9/lib/python/site-packages/pandas/io/parsers/readers.py:611\u001b[0m, in \u001b[0;36m_read\u001b[0;34m(filepath_or_buffer, kwds)\u001b[0m\n\u001b[1;32m    608\u001b[0m _validate_names(kwds\u001b[38;5;241m.\u001b[39mget(\u001b[38;5;124m\"\u001b[39m\u001b[38;5;124mnames\u001b[39m\u001b[38;5;124m\"\u001b[39m, \u001b[38;5;28;01mNone\u001b[39;00m))\n\u001b[1;32m    610\u001b[0m \u001b[38;5;66;03m# Create the parser.\u001b[39;00m\n\u001b[0;32m--> 611\u001b[0m parser \u001b[38;5;241m=\u001b[39m \u001b[43mTextFileReader\u001b[49m\u001b[43m(\u001b[49m\u001b[43mfilepath_or_buffer\u001b[49m\u001b[43m,\u001b[49m\u001b[43m \u001b[49m\u001b[38;5;241;43m*\u001b[39;49m\u001b[38;5;241;43m*\u001b[39;49m\u001b[43mkwds\u001b[49m\u001b[43m)\u001b[49m\n\u001b[1;32m    613\u001b[0m \u001b[38;5;28;01mif\u001b[39;00m chunksize \u001b[38;5;129;01mor\u001b[39;00m iterator:\n\u001b[1;32m    614\u001b[0m     \u001b[38;5;28;01mreturn\u001b[39;00m parser\n",
            "File \u001b[0;32m~/Library/Python/3.9/lib/python/site-packages/pandas/io/parsers/readers.py:1448\u001b[0m, in \u001b[0;36mTextFileReader.__init__\u001b[0;34m(self, f, engine, **kwds)\u001b[0m\n\u001b[1;32m   1445\u001b[0m     \u001b[38;5;28mself\u001b[39m\u001b[38;5;241m.\u001b[39moptions[\u001b[38;5;124m\"\u001b[39m\u001b[38;5;124mhas_index_names\u001b[39m\u001b[38;5;124m\"\u001b[39m] \u001b[38;5;241m=\u001b[39m kwds[\u001b[38;5;124m\"\u001b[39m\u001b[38;5;124mhas_index_names\u001b[39m\u001b[38;5;124m\"\u001b[39m]\n\u001b[1;32m   1447\u001b[0m \u001b[38;5;28mself\u001b[39m\u001b[38;5;241m.\u001b[39mhandles: IOHandles \u001b[38;5;241m|\u001b[39m \u001b[38;5;28;01mNone\u001b[39;00m \u001b[38;5;241m=\u001b[39m \u001b[38;5;28;01mNone\u001b[39;00m\n\u001b[0;32m-> 1448\u001b[0m \u001b[38;5;28mself\u001b[39m\u001b[38;5;241m.\u001b[39m_engine \u001b[38;5;241m=\u001b[39m \u001b[38;5;28;43mself\u001b[39;49m\u001b[38;5;241;43m.\u001b[39;49m\u001b[43m_make_engine\u001b[49m\u001b[43m(\u001b[49m\u001b[43mf\u001b[49m\u001b[43m,\u001b[49m\u001b[43m \u001b[49m\u001b[38;5;28;43mself\u001b[39;49m\u001b[38;5;241;43m.\u001b[39;49m\u001b[43mengine\u001b[49m\u001b[43m)\u001b[49m\n",
            "File \u001b[0;32m~/Library/Python/3.9/lib/python/site-packages/pandas/io/parsers/readers.py:1705\u001b[0m, in \u001b[0;36mTextFileReader._make_engine\u001b[0;34m(self, f, engine)\u001b[0m\n\u001b[1;32m   1703\u001b[0m     \u001b[38;5;28;01mif\u001b[39;00m \u001b[38;5;124m\"\u001b[39m\u001b[38;5;124mb\u001b[39m\u001b[38;5;124m\"\u001b[39m \u001b[38;5;129;01mnot\u001b[39;00m \u001b[38;5;129;01min\u001b[39;00m mode:\n\u001b[1;32m   1704\u001b[0m         mode \u001b[38;5;241m+\u001b[39m\u001b[38;5;241m=\u001b[39m \u001b[38;5;124m\"\u001b[39m\u001b[38;5;124mb\u001b[39m\u001b[38;5;124m\"\u001b[39m\n\u001b[0;32m-> 1705\u001b[0m \u001b[38;5;28mself\u001b[39m\u001b[38;5;241m.\u001b[39mhandles \u001b[38;5;241m=\u001b[39m \u001b[43mget_handle\u001b[49m\u001b[43m(\u001b[49m\n\u001b[1;32m   1706\u001b[0m \u001b[43m    \u001b[49m\u001b[43mf\u001b[49m\u001b[43m,\u001b[49m\n\u001b[1;32m   1707\u001b[0m \u001b[43m    \u001b[49m\u001b[43mmode\u001b[49m\u001b[43m,\u001b[49m\n\u001b[1;32m   1708\u001b[0m \u001b[43m    \u001b[49m\u001b[43mencoding\u001b[49m\u001b[38;5;241;43m=\u001b[39;49m\u001b[38;5;28;43mself\u001b[39;49m\u001b[38;5;241;43m.\u001b[39;49m\u001b[43moptions\u001b[49m\u001b[38;5;241;43m.\u001b[39;49m\u001b[43mget\u001b[49m\u001b[43m(\u001b[49m\u001b[38;5;124;43m\"\u001b[39;49m\u001b[38;5;124;43mencoding\u001b[39;49m\u001b[38;5;124;43m\"\u001b[39;49m\u001b[43m,\u001b[49m\u001b[43m \u001b[49m\u001b[38;5;28;43;01mNone\u001b[39;49;00m\u001b[43m)\u001b[49m\u001b[43m,\u001b[49m\n\u001b[1;32m   1709\u001b[0m \u001b[43m    \u001b[49m\u001b[43mcompression\u001b[49m\u001b[38;5;241;43m=\u001b[39;49m\u001b[38;5;28;43mself\u001b[39;49m\u001b[38;5;241;43m.\u001b[39;49m\u001b[43moptions\u001b[49m\u001b[38;5;241;43m.\u001b[39;49m\u001b[43mget\u001b[49m\u001b[43m(\u001b[49m\u001b[38;5;124;43m\"\u001b[39;49m\u001b[38;5;124;43mcompression\u001b[39;49m\u001b[38;5;124;43m\"\u001b[39;49m\u001b[43m,\u001b[49m\u001b[43m \u001b[49m\u001b[38;5;28;43;01mNone\u001b[39;49;00m\u001b[43m)\u001b[49m\u001b[43m,\u001b[49m\n\u001b[1;32m   1710\u001b[0m \u001b[43m    \u001b[49m\u001b[43mmemory_map\u001b[49m\u001b[38;5;241;43m=\u001b[39;49m\u001b[38;5;28;43mself\u001b[39;49m\u001b[38;5;241;43m.\u001b[39;49m\u001b[43moptions\u001b[49m\u001b[38;5;241;43m.\u001b[39;49m\u001b[43mget\u001b[49m\u001b[43m(\u001b[49m\u001b[38;5;124;43m\"\u001b[39;49m\u001b[38;5;124;43mmemory_map\u001b[39;49m\u001b[38;5;124;43m\"\u001b[39;49m\u001b[43m,\u001b[49m\u001b[43m \u001b[49m\u001b[38;5;28;43;01mFalse\u001b[39;49;00m\u001b[43m)\u001b[49m\u001b[43m,\u001b[49m\n\u001b[1;32m   1711\u001b[0m \u001b[43m    \u001b[49m\u001b[43mis_text\u001b[49m\u001b[38;5;241;43m=\u001b[39;49m\u001b[43mis_text\u001b[49m\u001b[43m,\u001b[49m\n\u001b[1;32m   1712\u001b[0m \u001b[43m    \u001b[49m\u001b[43merrors\u001b[49m\u001b[38;5;241;43m=\u001b[39;49m\u001b[38;5;28;43mself\u001b[39;49m\u001b[38;5;241;43m.\u001b[39;49m\u001b[43moptions\u001b[49m\u001b[38;5;241;43m.\u001b[39;49m\u001b[43mget\u001b[49m\u001b[43m(\u001b[49m\u001b[38;5;124;43m\"\u001b[39;49m\u001b[38;5;124;43mencoding_errors\u001b[39;49m\u001b[38;5;124;43m\"\u001b[39;49m\u001b[43m,\u001b[49m\u001b[43m \u001b[49m\u001b[38;5;124;43m\"\u001b[39;49m\u001b[38;5;124;43mstrict\u001b[39;49m\u001b[38;5;124;43m\"\u001b[39;49m\u001b[43m)\u001b[49m\u001b[43m,\u001b[49m\n\u001b[1;32m   1713\u001b[0m \u001b[43m    \u001b[49m\u001b[43mstorage_options\u001b[49m\u001b[38;5;241;43m=\u001b[39;49m\u001b[38;5;28;43mself\u001b[39;49m\u001b[38;5;241;43m.\u001b[39;49m\u001b[43moptions\u001b[49m\u001b[38;5;241;43m.\u001b[39;49m\u001b[43mget\u001b[49m\u001b[43m(\u001b[49m\u001b[38;5;124;43m\"\u001b[39;49m\u001b[38;5;124;43mstorage_options\u001b[39;49m\u001b[38;5;124;43m\"\u001b[39;49m\u001b[43m,\u001b[49m\u001b[43m \u001b[49m\u001b[38;5;28;43;01mNone\u001b[39;49;00m\u001b[43m)\u001b[49m\u001b[43m,\u001b[49m\n\u001b[1;32m   1714\u001b[0m \u001b[43m\u001b[49m\u001b[43m)\u001b[49m\n\u001b[1;32m   1715\u001b[0m \u001b[38;5;28;01massert\u001b[39;00m \u001b[38;5;28mself\u001b[39m\u001b[38;5;241m.\u001b[39mhandles \u001b[38;5;129;01mis\u001b[39;00m \u001b[38;5;129;01mnot\u001b[39;00m \u001b[38;5;28;01mNone\u001b[39;00m\n\u001b[1;32m   1716\u001b[0m f \u001b[38;5;241m=\u001b[39m \u001b[38;5;28mself\u001b[39m\u001b[38;5;241m.\u001b[39mhandles\u001b[38;5;241m.\u001b[39mhandle\n",
            "File \u001b[0;32m~/Library/Python/3.9/lib/python/site-packages/pandas/io/common.py:863\u001b[0m, in \u001b[0;36mget_handle\u001b[0;34m(path_or_buf, mode, encoding, compression, memory_map, is_text, errors, storage_options)\u001b[0m\n\u001b[1;32m    858\u001b[0m \u001b[38;5;28;01melif\u001b[39;00m \u001b[38;5;28misinstance\u001b[39m(handle, \u001b[38;5;28mstr\u001b[39m):\n\u001b[1;32m    859\u001b[0m     \u001b[38;5;66;03m# Check whether the filename is to be opened in binary mode.\u001b[39;00m\n\u001b[1;32m    860\u001b[0m     \u001b[38;5;66;03m# Binary mode does not support 'encoding' and 'newline'.\u001b[39;00m\n\u001b[1;32m    861\u001b[0m     \u001b[38;5;28;01mif\u001b[39;00m ioargs\u001b[38;5;241m.\u001b[39mencoding \u001b[38;5;129;01mand\u001b[39;00m \u001b[38;5;124m\"\u001b[39m\u001b[38;5;124mb\u001b[39m\u001b[38;5;124m\"\u001b[39m \u001b[38;5;129;01mnot\u001b[39;00m \u001b[38;5;129;01min\u001b[39;00m ioargs\u001b[38;5;241m.\u001b[39mmode:\n\u001b[1;32m    862\u001b[0m         \u001b[38;5;66;03m# Encoding\u001b[39;00m\n\u001b[0;32m--> 863\u001b[0m         handle \u001b[38;5;241m=\u001b[39m \u001b[38;5;28;43mopen\u001b[39;49m\u001b[43m(\u001b[49m\n\u001b[1;32m    864\u001b[0m \u001b[43m            \u001b[49m\u001b[43mhandle\u001b[49m\u001b[43m,\u001b[49m\n\u001b[1;32m    865\u001b[0m \u001b[43m            \u001b[49m\u001b[43mioargs\u001b[49m\u001b[38;5;241;43m.\u001b[39;49m\u001b[43mmode\u001b[49m\u001b[43m,\u001b[49m\n\u001b[1;32m    866\u001b[0m \u001b[43m            \u001b[49m\u001b[43mencoding\u001b[49m\u001b[38;5;241;43m=\u001b[39;49m\u001b[43mioargs\u001b[49m\u001b[38;5;241;43m.\u001b[39;49m\u001b[43mencoding\u001b[49m\u001b[43m,\u001b[49m\n\u001b[1;32m    867\u001b[0m \u001b[43m            \u001b[49m\u001b[43merrors\u001b[49m\u001b[38;5;241;43m=\u001b[39;49m\u001b[43merrors\u001b[49m\u001b[43m,\u001b[49m\n\u001b[1;32m    868\u001b[0m \u001b[43m            \u001b[49m\u001b[43mnewline\u001b[49m\u001b[38;5;241;43m=\u001b[39;49m\u001b[38;5;124;43m\"\u001b[39;49m\u001b[38;5;124;43m\"\u001b[39;49m\u001b[43m,\u001b[49m\n\u001b[1;32m    869\u001b[0m \u001b[43m        \u001b[49m\u001b[43m)\u001b[49m\n\u001b[1;32m    870\u001b[0m     \u001b[38;5;28;01melse\u001b[39;00m:\n\u001b[1;32m    871\u001b[0m         \u001b[38;5;66;03m# Binary mode\u001b[39;00m\n\u001b[1;32m    872\u001b[0m         handle \u001b[38;5;241m=\u001b[39m \u001b[38;5;28mopen\u001b[39m(handle, ioargs\u001b[38;5;241m.\u001b[39mmode)\n",
            "\u001b[0;31mFileNotFoundError\u001b[0m: [Errno 2] No such file or directory: '/Users/minijain/Downloads/SocWebLab/Structural_Violence/kaggle200_gpt432kzeroshotresults.csv'"
          ]
        }
      ],
      "source": [
        "import pandas as pd\n",
        "import numpy as np\n",
        "data = pd.read_csv('/Users/minijain/Downloads/SocWebLab/Structural_Violence/kaggle200_gpt48kzeroshotresults.csv')"
      ]
    },
    {
      "cell_type": "code",
      "execution_count": 7,
      "metadata": {},
      "outputs": [
        {
          "name": "stdout",
          "output_type": "stream",
          "text": [
            "(200, 105)\n",
            "(200, 105)\n",
            "Financial/Job Problem :  13\n",
            "Legal Problem :  39\n",
            "School or Academic Related Problem :  5\n",
            "Lack of Access to Health/Mental Health Care :  7\n"
          ]
        }
      ],
      "source": [
        "import pandas as pd\n",
        "# below is the datatset annotated by Jay\n",
        "#data = pd.read_csv('final_dataset_06102022 2.csv')\n",
        "\n",
        "pattern = r'^news[0-6]_'\n",
        "datacopy = data.copy()\n",
        "datacopy['Document name'] = data['Document name'].str.replace(pattern, '', regex=True)\n",
        "\n",
        "relevant = data[data['Yes']==1]\n",
        "data = data[data['Yes'] == 1]\n",
        "print(relevant.shape)\n",
        "print(data.shape)\n",
        "selected_rows = data[(data[FinancialLabel] > 0) | (data[Legallabel] > 0) | (data[HealthLabel] > 0) | (data[SchoolLabel] > 0)]\n",
        "financial_problem = data[data[FinancialLabel] > 0]\n",
        "school_problem = data[data[SchoolLabel] > 0]\n",
        "legal_problem = data[data[Legallabel] > 0]\n",
        "health_problem = data[data[HealthLabel] > 0]\n",
        "unspecified_circumstance = data[data['Unspecified Circumstance'] > 0]\n",
        "\n",
        "print(\"Financial/Job Problem : \", financial_problem.shape[0])\n",
        "print(\"Legal Problem : \", legal_problem.shape[0])\n",
        "print(\"School or Academic Related Problem : \", school_problem.shape[0])\n",
        "print(\"Lack of Access to Health/Mental Health Care : \", health_problem.shape[0])\n",
        "\n",
        "# print(\"\")"
      ]
    },
    {
      "cell_type": "code",
      "execution_count": 14,
      "metadata": {},
      "outputs": [
        {
          "name": "stdout",
          "output_type": "stream",
          "text": [
            "9\n",
            "61\n",
            "16\n",
            "61\n"
          ]
        }
      ],
      "source": [
        "data = maindf\n",
        "print(data[data[FinancialPredicted] > 0].shape[0])\n",
        "print(data[data[LegalPredicted] > 0].shape[0])\n",
        "print(data[data[SchoolPredicted] > 0].shape[0])\n",
        "print(data[data[HealthPredicted] > 0].shape[0])"
      ]
    },
    {
      "cell_type": "code",
      "execution_count": 21,
      "metadata": {},
      "outputs": [
        {
          "name": "stdout",
          "output_type": "stream",
          "text": [
            "26\n"
          ]
        },
        {
          "name": "stderr",
          "output_type": "stream",
          "text": [
            "/var/folders/wv/r6mcv43147qf407r3r774phc0000gn/T/ipykernel_29306/453722469.py:2: UserWarning: Boolean Series key will be reindexed to match DataFrame index.\n",
            "  legal = legal[data[Legallabel] <= 0]\n"
          ]
        }
      ],
      "source": [
        "legal = data[data[LegalPredicted] > 0]\n",
        "legal = legal[data[Legallabel] <= 0]\n",
        "print(len(legal['Reasoning'].to_list()))\n"
      ]
    },
    {
      "cell_type": "code",
      "execution_count": null,
      "metadata": {},
      "outputs": [],
      "source": []
    }
  ],
  "metadata": {
    "accelerator": "GPU",
    "colab": {
      "gpuType": "T4",
      "provenance": []
    },
    "kernelspec": {
      "display_name": "Python 3",
      "name": "python3"
    },
    "language_info": {
      "codemirror_mode": {
        "name": "ipython",
        "version": 3
      },
      "file_extension": ".py",
      "mimetype": "text/x-python",
      "name": "python",
      "nbconvert_exporter": "python",
      "pygments_lexer": "ipython3",
      "version": "3.9.6"
    }
  },
  "nbformat": 4,
  "nbformat_minor": 0
}
